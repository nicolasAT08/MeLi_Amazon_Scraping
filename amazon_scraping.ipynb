{
 "cells": [
  {
   "attachments": {},
   "cell_type": "markdown",
   "metadata": {},
   "source": [
    "# Amazon scraping"
   ]
  },
  {
   "cell_type": "code",
   "execution_count": null,
   "metadata": {},
   "outputs": [],
   "source": [
    "#! pip install requests\n",
    "#! pip install beautifulsoup4\n",
    "#! pip install matplotlib\n",
    "#! pip install ipykernel\n",
    "#! pip install requests-html\n",
    "#! pip install selenium"
   ]
  },
  {
   "cell_type": "code",
   "execution_count": null,
   "metadata": {},
   "outputs": [],
   "source": [
    "import utils_amazon\n",
    "from importlib import reload\n",
    "import os\n",
    "import pandas as pd\n",
    "import re\n",
    "from datetime import datetime\n",
    "import plotly.express as px\n",
    "\n",
    "from IPython.display import display\n",
    "pd.options.display.max_colwidth = 170\n",
    "pd.options.display.max_rows = None"
   ]
  },
  {
   "cell_type": "code",
   "execution_count": null,
   "metadata": {},
   "outputs": [],
   "source": [
    "parent_path = r\"\".replace(\"\\\\\", \"/\")"
   ]
  },
  {
   "cell_type": "code",
   "execution_count": null,
   "metadata": {},
   "outputs": [],
   "source": [
    "# About 50 mins\n",
    "reload(utils_amazon)\n",
    "df = utils_amazon.load_html_search()"
   ]
  },
  {
   "cell_type": "code",
   "execution_count": null,
   "metadata": {},
   "outputs": [],
   "source": [
    "df.to_excel(os.path.join(parent_path,\"file_name_{}_{}_{}.xlsx\".format(datetime.today().year,datetime.today().month,datetime.today().day)), index=False)"
   ]
  },
  {
   "cell_type": "code",
   "execution_count": null,
   "metadata": {},
   "outputs": [],
   "source": [
    "# Pass the DataFrame and copy and paste the product name you want to see in browser\n",
    "reload(utils_amazon)\n",
    "utils_amazon.open_link(df,'')"
   ]
  },
  {
   "cell_type": "code",
   "execution_count": null,
   "metadata": {},
   "outputs": [],
   "source": [
    "# Pass the DataFrame and index you want to open in browser\n",
    "reload(utils_amazon)\n",
    "utils_amazon.open_link(df,4)"
   ]
  },
  {
   "attachments": {},
   "cell_type": "markdown",
   "metadata": {},
   "source": [
    "# Metrics"
   ]
  },
  {
   "attachments": {},
   "cell_type": "markdown",
   "metadata": {},
   "source": [
    "## Price Analysis"
   ]
  },
  {
   "cell_type": "code",
   "execution_count": null,
   "metadata": {},
   "outputs": [],
   "source": [
    "df = pd.read_excel(os.path.join(parent_path,\"file_name.xlsx\".replace(\"\\\\\", \"/\")))\n",
    "print(df.shape)\n",
    "df.head()"
   ]
  },
  {
   "cell_type": "code",
   "execution_count": null,
   "metadata": {},
   "outputs": [],
   "source": [
    "reload(utils_amazon)\n",
    "df_25 = utils_amazon.quartile_prices(df)[0]\n",
    "df_25_50 = utils_amazon.quartile_prices(df)[1]\n",
    "df_50_75 = utils_amazon.quartile_prices(df)[2]\n",
    "df_75 = utils_amazon.quartile_prices(df)[3]\n",
    "quartiles = utils_amazon.quartile_prices(df)[4]\n",
    "quartiles"
   ]
  },
  {
   "cell_type": "code",
   "execution_count": null,
   "metadata": {},
   "outputs": [],
   "source": [
    "# Products above quartile 75\n",
    "print('Prime products [above quartile 75] -> {} products ({}%) '.format(df_75.Product.to_list().__len__(), round((df_75.Product.to_list().__len__() / df.__len__()) * 100, 2)))\n",
    "print('Premium products [between quartiles 50 & 75] -> {} products ({}%) '.format(df_50_75.Product.to_list().__len__(), round((df_50_75.Product.to_list().__len__() / df.__len__()) * 100, 2)))\n",
    "print('Mid products [between quartiles 25 & 50] -> {} products ({}%) '.format(df_25_50.Product.to_list().__len__(), round((df_25_50.Product.to_list().__len__() / df.__len__()) * 100, 2)))\n",
    "print('Low products [below quartile 25 ] -> {} products ({}%) '.format(df_25.Product.to_list().__len__(), round((df_25.Product.to_list().__len__() / df.__len__()) * 100, 2)))"
   ]
  },
  {
   "cell_type": "code",
   "execution_count": null,
   "metadata": {},
   "outputs": [],
   "source": [
    "print('Quartile (75>) - Products: {}'.format(df_75.__len__()))\n",
    "display(df_75.head())\n",
    "print('Quartile (50-75] - Products: {}'.format(df_50_75.__len__()))\n",
    "display(df_50_75.head())\n",
    "print('Quartile (25-50] - Products: {}'.format(df_25_50.__len__()))\n",
    "display(df_25_50.head())\n",
    "print('Quartile (<25] - Products: {}'.format(df_25.__len__()))\n",
    "display(df_25.head())"
   ]
  },
  {
   "cell_type": "code",
   "execution_count": null,
   "metadata": {},
   "outputs": [],
   "source": [
    "print(df[df.Price <= 360].shape[0])\n",
    "px.box(df,'Price', title=f'Price distribution')"
   ]
  },
  {
   "cell_type": "code",
   "execution_count": null,
   "metadata": {},
   "outputs": [],
   "source": [
    "display(px.histogram(df, x='Price', title=f'Price distribution'))\n",
    "display(px.histogram(df_75, x='Price', title=f'Price distribution - Prime Products', nbins=10, text_auto=True))\n",
    "display(df_75.describe().round(2))\n",
    "display(px.histogram(df_50_75, x='Price', title=f'Price distribution - Premium Products', nbins=15, text_auto=True))\n",
    "display(df_50_75.describe().round(2))\n",
    "display(px.histogram(df_25_50, x='Price', title=f'Price distribution - Mid Products', nbins=15, text_auto=True))\n",
    "display(df_25_50.describe().round(2))"
   ]
  },
  {
   "cell_type": "code",
   "execution_count": null,
   "metadata": {},
   "outputs": [],
   "source": [
    "display(df_75.Product.unique().tolist()[:10])\n",
    "print()\n",
    "display(df_50_75.Product.unique().tolist()[:10])\n",
    "print()\n",
    "display(df_25_50.Product.unique().tolist()[:10])"
   ]
  },
  {
   "cell_type": "code",
   "execution_count": null,
   "metadata": {},
   "outputs": [],
   "source": [
    "#Prime Products\n",
    "display(df_75.Product.value_counts().to_frame().reset_index().rename(columns={'index':'Product','Product':'Results'}).head(10))\n",
    "for i in df_75.Product.value_counts().to_frame().reset_index().rename(columns={'index':'Product','Product':'Results'}).head(10).Product.tolist():\n",
    "    print(i)\n",
    "\n",
    "#Premium Products\n",
    "display(df_50_75.Product.value_counts().to_frame().reset_index().rename(columns={'index':'Product','Product':'Results'}).head(10))\n",
    "for i in df_50_75.Product.value_counts().to_frame().reset_index().rename(columns={'index':'Product','Product':'Results'}).head(10).Product.tolist():\n",
    "    print(i)\n",
    "\n",
    "#Mid Products\n",
    "display(df_25_50.Product.value_counts().to_frame().reset_index().rename(columns={'index':'Product','Product':'Results'}).head(10))\n",
    "for i in df_25_50.Product.value_counts().to_frame().reset_index().rename(columns={'index':'Product','Product':'Results'}).head(10).Product.tolist():\n",
    "    print(i)"
   ]
  },
  {
   "attachments": {},
   "cell_type": "markdown",
   "metadata": {},
   "source": [
    "## Brands distribution"
   ]
  },
  {
   "cell_type": "code",
   "execution_count": null,
   "metadata": {},
   "outputs": [],
   "source": [
    "# Look for specif word(s)\n",
    "\n",
    "brand_producs = []\n",
    "for i in df['Product']:\n",
    "    if (re.search(r'pantene.', i, flags=re.IGNORECASE) or re.search(r'nutre.', i, flags=re.IGNORECASE)) and not ((re.search(r'bamb.', i, flags=re.IGNORECASE)) or (re.search(r'blend.', i, flags=re.IGNORECASE)) or (re.search(r'L\\'Oréal', i, flags=re.IGNORECASE))): # or (re.search(r'[^bamboo].', i, flags=re.IGNORECASE))\n",
    "        brand_producs.append(i)\n",
    "\n",
    "\n",
    "brand_df = df[df.Product.isin(brand_producs)].reset_index(drop=True)\n",
    "\n",
    "brand_df = brand_df.drop([4,5,7,8,9,10,11,13]).reset_index(drop=True)\n",
    "\n",
    "brand_df.to_excel('stella_products.xlsx', index=False)\n",
    "brand_df"
   ]
  }
 ],
 "metadata": {
  "kernelspec": {
   "display_name": "Python 3",
   "language": "python",
   "name": "python3"
  },
  "language_info": {
   "codemirror_mode": {
    "name": "ipython",
    "version": 3
   },
   "file_extension": ".py",
   "mimetype": "text/x-python",
   "name": "python",
   "nbconvert_exporter": "python",
   "pygments_lexer": "ipython3",
   "version": "3.9.2"
  },
  "orig_nbformat": 4,
  "vscode": {
   "interpreter": {
    "hash": "af37c3268cca26f2bfaf01d13423ff37a9d7634ed8fa0992ffd17d42608d9c97"
   }
  }
 },
 "nbformat": 4,
 "nbformat_minor": 2
}
