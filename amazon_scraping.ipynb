{
 "cells": [
  {
   "attachments": {},
   "cell_type": "markdown",
   "metadata": {},
   "source": [
    "# Amazon scraping"
   ]
  },
  {
   "cell_type": "code",
   "execution_count": null,
   "metadata": {},
   "outputs": [],
   "source": [
    "#! pip install requests\n",
    "#! pip install beautifulsoup4\n",
    "#! pip install matplotlib\n",
    "#! pip install ipykernel\n",
    "#! pip install requests-html\n",
    "#! pip install selenium"
   ]
  },
  {
   "cell_type": "code",
   "execution_count": 1,
   "metadata": {},
   "outputs": [],
   "source": [
    "import utils_amazon\n",
    "from importlib import reload\n",
    "import os\n",
    "import pandas as pd\n",
    "import re\n",
    "from datetime import datetime\n",
    "import plotly.express as px\n",
    "\n",
    "from IPython.display import display\n",
    "pd.options.display.max_colwidth = 170\n",
    "pd.options.display.max_rows = None\n",
    "\n",
    "parent_path = r\"C:\\Users\\nicarang\\Documents\\Digitas\\P&G\\Benchmarking\\Pantene\\Stella\".replace(\"\\\\\", \"/\")"
   ]
  },
  {
   "cell_type": "code",
   "execution_count": 3,
   "metadata": {},
   "outputs": [
    {
     "name": "stdout",
     "output_type": "stream",
     "text": [
      "Response status code: 200\n",
      "***************Amazon.com.mx : iphone 14***************\n",
      "Total pages: 7\n",
      "Scraping page 1/7\n",
      "Scraping page 2/7\n",
      "Scraping page 3/7\n",
      "Scraping page 4/7\n",
      "Scraping page 5/7\n",
      "Scraping page 6/7\n",
      "Scraping page 7/7\n"
     ]
    },
    {
     "data": {
      "text/html": [
       "<div>\n",
       "<style scoped>\n",
       "    .dataframe tbody tr th:only-of-type {\n",
       "        vertical-align: middle;\n",
       "    }\n",
       "\n",
       "    .dataframe tbody tr th {\n",
       "        vertical-align: top;\n",
       "    }\n",
       "\n",
       "    .dataframe thead th {\n",
       "        text-align: right;\n",
       "    }\n",
       "</style>\n",
       "<table border=\"1\" class=\"dataframe\">\n",
       "  <thead>\n",
       "    <tr style=\"text-align: right;\">\n",
       "      <th></th>\n",
       "      <th>Product</th>\n",
       "      <th>Price</th>\n",
       "      <th>Stars</th>\n",
       "      <th>Link</th>\n",
       "    </tr>\n",
       "  </thead>\n",
       "  <tbody>\n",
       "    <tr>\n",
       "      <th>0</th>\n",
       "      <td>Apple iPhone 14 128 GB Medianoche</td>\n",
       "      <td>20999</td>\n",
       "      <td>4.5</td>\n",
       "      <td>https://www.amazon.com.mx//gp/slredirect/picassoRedirect.html/ref=pa_sp_atf_aps_sr_pg1_1?ie=UTF8&amp;adId=A066879221FF0905KU1RO&amp;qualifier=1682687674&amp;id=460836750767675&amp;wi...</td>\n",
       "    </tr>\n",
       "    <tr>\n",
       "      <th>1</th>\n",
       "      <td>Apple iPhone 13 (256 GB) - Rosa</td>\n",
       "      <td>21999</td>\n",
       "      <td>4.8</td>\n",
       "      <td>https://www.amazon.com.mx//gp/slredirect/picassoRedirect.html/ref=pa_sp_atf_aps_sr_pg1_1?ie=UTF8&amp;adId=A05343311KOY67V6MGSNA&amp;qualifier=1682687674&amp;id=460836750767675&amp;wi...</td>\n",
       "    </tr>\n",
       "    <tr>\n",
       "      <th>2</th>\n",
       "      <td>Apple Funda de silicón con MagSafe para el iPhone 14 - Lila</td>\n",
       "      <td>1299</td>\n",
       "      <td>4.4</td>\n",
       "      <td>https://www.amazon.com.mx//gp/slredirect/picassoRedirect.html/ref=pa_sp_atf_aps_sr_pg1_1?ie=UTF8&amp;adId=A0658784166PGBLY7B5FK&amp;qualifier=1682687674&amp;id=460836750767675&amp;wi...</td>\n",
       "    </tr>\n",
       "    <tr>\n",
       "      <th>3</th>\n",
       "      <td>Apple iPhone 14 Pro MAX 128 GB Morado Oscuro</td>\n",
       "      <td>28999</td>\n",
       "      <td>4.7</td>\n",
       "      <td>https://www.amazon.com.mx//Apple-iPhone-128-GB-Morado-Oscuro/dp/B0BDJ4ST7J/ref=sr_1_4?__mk_es_MX=%C3%85M%C3%85%C5%BD%C3%95%C3%91&amp;keywords=iphone+14&amp;qid=1682687674&amp;sr=8-4</td>\n",
       "    </tr>\n",
       "    <tr>\n",
       "      <th>4</th>\n",
       "      <td>Apple iPhone 14 128 GB Medianoche</td>\n",
       "      <td>20999</td>\n",
       "      <td>4.5</td>\n",
       "      <td>https://www.amazon.com.mx//Apple-iPhone-14-128-GB-Medianoche/dp/B0BDJ4K3MK/ref=sr_1_5?__mk_es_MX=%C3%85M%C3%85%C5%BD%C3%95%C3%91&amp;keywords=iphone+14&amp;qid=1682687674&amp;sr=...</td>\n",
       "    </tr>\n",
       "  </tbody>\n",
       "</table>\n",
       "</div>"
      ],
      "text/plain": [
       "                                                       Product  Price  Stars  \\\n",
       "0                            Apple iPhone 14 128 GB Medianoche  20999    4.5   \n",
       "1                              Apple iPhone 13 (256 GB) - Rosa  21999    4.8   \n",
       "2  Apple Funda de silicón con MagSafe para el iPhone 14 - Lila   1299    4.4   \n",
       "3                 Apple iPhone 14 Pro MAX 128 GB Morado Oscuro  28999    4.7   \n",
       "4                            Apple iPhone 14 128 GB Medianoche  20999    4.5   \n",
       "\n",
       "                                                                                                                                                                        Link  \n",
       "0  https://www.amazon.com.mx//gp/slredirect/picassoRedirect.html/ref=pa_sp_atf_aps_sr_pg1_1?ie=UTF8&adId=A066879221FF0905KU1RO&qualifier=1682687674&id=460836750767675&wi...  \n",
       "1  https://www.amazon.com.mx//gp/slredirect/picassoRedirect.html/ref=pa_sp_atf_aps_sr_pg1_1?ie=UTF8&adId=A05343311KOY67V6MGSNA&qualifier=1682687674&id=460836750767675&wi...  \n",
       "2  https://www.amazon.com.mx//gp/slredirect/picassoRedirect.html/ref=pa_sp_atf_aps_sr_pg1_1?ie=UTF8&adId=A0658784166PGBLY7B5FK&qualifier=1682687674&id=460836750767675&wi...  \n",
       "3  https://www.amazon.com.mx//Apple-iPhone-128-GB-Morado-Oscuro/dp/B0BDJ4ST7J/ref=sr_1_4?__mk_es_MX=%C3%85M%C3%85%C5%BD%C3%95%C3%91&keywords=iphone+14&qid=1682687674&sr=8-4  \n",
       "4  https://www.amazon.com.mx//Apple-iPhone-14-128-GB-Medianoche/dp/B0BDJ4K3MK/ref=sr_1_5?__mk_es_MX=%C3%85M%C3%85%C5%BD%C3%95%C3%91&keywords=iphone+14&qid=1682687674&sr=...  "
      ]
     },
     "metadata": {},
     "output_type": "display_data"
    },
    {
     "name": "stdout",
     "output_type": "stream",
     "text": [
      "Copy made!!!!!!!!!!!!!\n",
      "(10, 4)\n",
      "Total products retrieved: 10\n"
     ]
    },
    {
     "data": {
      "text/html": [
       "<div>\n",
       "<style scoped>\n",
       "    .dataframe tbody tr th:only-of-type {\n",
       "        vertical-align: middle;\n",
       "    }\n",
       "\n",
       "    .dataframe tbody tr th {\n",
       "        vertical-align: top;\n",
       "    }\n",
       "\n",
       "    .dataframe thead th {\n",
       "        text-align: right;\n",
       "    }\n",
       "</style>\n",
       "<table border=\"1\" class=\"dataframe\">\n",
       "  <thead>\n",
       "    <tr style=\"text-align: right;\">\n",
       "      <th></th>\n",
       "      <th>Product</th>\n",
       "      <th>Price</th>\n",
       "      <th>Stars</th>\n",
       "      <th>Link</th>\n",
       "      <th>Ratings</th>\n",
       "      <th>Comments</th>\n",
       "    </tr>\n",
       "  </thead>\n",
       "  <tbody>\n",
       "    <tr>\n",
       "      <th>0</th>\n",
       "      <td>Apple iPhone 14 128 GB Medianoche</td>\n",
       "      <td>20999</td>\n",
       "      <td>4.5</td>\n",
       "      <td>https://www.amazon.com.mx//gp/slredirect/picassoRedirect.html/ref=pa_sp_atf_aps_sr_pg1_1?ie=UTF8&amp;adId=A066879221FF0905KU1RO&amp;qualifier=1682687674&amp;id=460836750767675&amp;wi...</td>\n",
       "      <td>31</td>\n",
       "      <td>[Teléfono, nuevo, sellado y liberado. La entrega súper bien, me llegó en 2 días., Se lo regalé a mi padre y es exactamente igual al iPhone 13, que es el que yo tengo....</td>\n",
       "    </tr>\n",
       "    <tr>\n",
       "      <th>1</th>\n",
       "      <td>Apple iPhone 13 (256 GB) - Rosa</td>\n",
       "      <td>21999</td>\n",
       "      <td>4.8</td>\n",
       "      <td>https://www.amazon.com.mx//gp/slredirect/picassoRedirect.html/ref=pa_sp_atf_aps_sr_pg1_1?ie=UTF8&amp;adId=A05343311KOY67V6MGSNA&amp;qualifier=1682687674&amp;id=460836750767675&amp;wi...</td>\n",
       "      <td>106</td>\n",
       "      <td>[Llegó en tiempo y forma ya llevo 3 meses con el y todo bien, Pedi este producto en el hot sale y a meses sin intereses. Llegó en buen estado y funciona al 100, Todo ...</td>\n",
       "    </tr>\n",
       "    <tr>\n",
       "      <th>2</th>\n",
       "      <td>Apple Funda de silicón con MagSafe para el iPhone 14 - Lila</td>\n",
       "      <td>1299</td>\n",
       "      <td>4.4</td>\n",
       "      <td>https://www.amazon.com.mx//gp/slredirect/picassoRedirect.html/ref=pa_sp_atf_aps_sr_pg1_1?ie=UTF8&amp;adId=A0658784166PGBLY7B5FK&amp;qualifier=1682687674&amp;id=460836750767675&amp;wi...</td>\n",
       "      <td>109</td>\n",
       "      <td>[Form, fit and function are perfect.  Absolutely beautiful with the blue iPhone 14.  Lightweight and feels great.  Worth every penny.  I've bought lots of phone cases...</td>\n",
       "    </tr>\n",
       "    <tr>\n",
       "      <th>3</th>\n",
       "      <td>Apple iPhone 14 Pro MAX 128 GB Morado Oscuro</td>\n",
       "      <td>28999</td>\n",
       "      <td>4.7</td>\n",
       "      <td>https://www.amazon.com.mx//Apple-iPhone-128-GB-Morado-Oscuro/dp/B0BDJ4ST7J/ref=sr_1_4?__mk_es_MX=%C3%85M%C3%85%C5%BD%C3%95%C3%91&amp;keywords=iphone+14&amp;qid=1682687674&amp;sr=8-4</td>\n",
       "      <td>42</td>\n",
       "      <td>[llegó bien embalado y cumple con mis expectativas, Llegó días antes de lo esperado y en perfectas condiciones. Altamente recomendado., Es muy buen celular, la camara...</td>\n",
       "    </tr>\n",
       "    <tr>\n",
       "      <th>4</th>\n",
       "      <td>Apple iPhone 14 128 GB Medianoche</td>\n",
       "      <td>20999</td>\n",
       "      <td>4.5</td>\n",
       "      <td>https://www.amazon.com.mx//Apple-iPhone-14-128-GB-Medianoche/dp/B0BDJ4K3MK/ref=sr_1_5?__mk_es_MX=%C3%85M%C3%85%C5%BD%C3%95%C3%91&amp;keywords=iphone+14&amp;qid=1682687674&amp;sr=...</td>\n",
       "      <td>31</td>\n",
       "      <td>[Teléfono, nuevo, sellado y liberado. La entrega súper bien, me llegó en 2 días., Se lo regalé a mi padre y es exactamente igual al iPhone 13, que es el que yo tengo....</td>\n",
       "    </tr>\n",
       "  </tbody>\n",
       "</table>\n",
       "</div>"
      ],
      "text/plain": [
       "                                                       Product  Price  Stars  \\\n",
       "0                            Apple iPhone 14 128 GB Medianoche  20999    4.5   \n",
       "1                              Apple iPhone 13 (256 GB) - Rosa  21999    4.8   \n",
       "2  Apple Funda de silicón con MagSafe para el iPhone 14 - Lila   1299    4.4   \n",
       "3                 Apple iPhone 14 Pro MAX 128 GB Morado Oscuro  28999    4.7   \n",
       "4                            Apple iPhone 14 128 GB Medianoche  20999    4.5   \n",
       "\n",
       "                                                                                                                                                                        Link  \\\n",
       "0  https://www.amazon.com.mx//gp/slredirect/picassoRedirect.html/ref=pa_sp_atf_aps_sr_pg1_1?ie=UTF8&adId=A066879221FF0905KU1RO&qualifier=1682687674&id=460836750767675&wi...   \n",
       "1  https://www.amazon.com.mx//gp/slredirect/picassoRedirect.html/ref=pa_sp_atf_aps_sr_pg1_1?ie=UTF8&adId=A05343311KOY67V6MGSNA&qualifier=1682687674&id=460836750767675&wi...   \n",
       "2  https://www.amazon.com.mx//gp/slredirect/picassoRedirect.html/ref=pa_sp_atf_aps_sr_pg1_1?ie=UTF8&adId=A0658784166PGBLY7B5FK&qualifier=1682687674&id=460836750767675&wi...   \n",
       "3  https://www.amazon.com.mx//Apple-iPhone-128-GB-Morado-Oscuro/dp/B0BDJ4ST7J/ref=sr_1_4?__mk_es_MX=%C3%85M%C3%85%C5%BD%C3%95%C3%91&keywords=iphone+14&qid=1682687674&sr=8-4   \n",
       "4  https://www.amazon.com.mx//Apple-iPhone-14-128-GB-Medianoche/dp/B0BDJ4K3MK/ref=sr_1_5?__mk_es_MX=%C3%85M%C3%85%C5%BD%C3%95%C3%91&keywords=iphone+14&qid=1682687674&sr=...   \n",
       "\n",
       "   Ratings  \\\n",
       "0       31   \n",
       "1      106   \n",
       "2      109   \n",
       "3       42   \n",
       "4       31   \n",
       "\n",
       "                                                                                                                                                                    Comments  \n",
       "0  [Teléfono, nuevo, sellado y liberado. La entrega súper bien, me llegó en 2 días., Se lo regalé a mi padre y es exactamente igual al iPhone 13, que es el que yo tengo....  \n",
       "1  [Llegó en tiempo y forma ya llevo 3 meses con el y todo bien, Pedi este producto en el hot sale y a meses sin intereses. Llegó en buen estado y funciona al 100, Todo ...  \n",
       "2  [Form, fit and function are perfect.  Absolutely beautiful with the blue iPhone 14.  Lightweight and feels great.  Worth every penny.  I've bought lots of phone cases...  \n",
       "3  [llegó bien embalado y cumple con mis expectativas, Llegó días antes de lo esperado y en perfectas condiciones. Altamente recomendado., Es muy buen celular, la camara...  \n",
       "4  [Teléfono, nuevo, sellado y liberado. La entrega súper bien, me llegó en 2 días., Se lo regalé a mi padre y es exactamente igual al iPhone 13, que es el que yo tengo....  "
      ]
     },
     "metadata": {},
     "output_type": "display_data"
    }
   ],
   "source": [
    "# About 50 mins\n",
    "reload(utils_amazon)\n",
    "df = utils_amazon.load_html_search()"
   ]
  },
  {
   "cell_type": "code",
   "execution_count": 33,
   "metadata": {},
   "outputs": [],
   "source": [
    "df.to_excel(os.path.join(parent_path,\"shampoo_biotina_y_colageno_{}_{}_{}.xlsx\".format(datetime.today().year,datetime.today().month,datetime.today().day)), index=False)"
   ]
  },
  {
   "cell_type": "code",
   "execution_count": 5,
   "metadata": {},
   "outputs": [],
   "source": [
    "# Pass the DataFrame and copy and paste the product name you want to see in browser\n",
    "reload(utils_amazon)\n",
    "utils_amazon.open_link(df,'Apple Funda de silicón con MagSafe para el iPhone 14 - Lila')"
   ]
  },
  {
   "cell_type": "code",
   "execution_count": 6,
   "metadata": {},
   "outputs": [],
   "source": [
    "# Pass the DataFrame and index you want to open in browser\n",
    "reload(utils_amazon)\n",
    "utils_amazon.open_link(df,4)"
   ]
  },
  {
   "attachments": {},
   "cell_type": "markdown",
   "metadata": {},
   "source": [
    "# Metrics"
   ]
  },
  {
   "attachments": {},
   "cell_type": "markdown",
   "metadata": {},
   "source": [
    "## Price Analysis"
   ]
  },
  {
   "cell_type": "code",
   "execution_count": 4,
   "metadata": {},
   "outputs": [
    {
     "name": "stdout",
     "output_type": "stream",
     "text": [
      "(360, 6)\n"
     ]
    },
    {
     "data": {
      "text/html": [
       "<div>\n",
       "<style scoped>\n",
       "    .dataframe tbody tr th:only-of-type {\n",
       "        vertical-align: middle;\n",
       "    }\n",
       "\n",
       "    .dataframe tbody tr th {\n",
       "        vertical-align: top;\n",
       "    }\n",
       "\n",
       "    .dataframe thead th {\n",
       "        text-align: right;\n",
       "    }\n",
       "</style>\n",
       "<table border=\"1\" class=\"dataframe\">\n",
       "  <thead>\n",
       "    <tr style=\"text-align: right;\">\n",
       "      <th></th>\n",
       "      <th>Product</th>\n",
       "      <th>Price</th>\n",
       "      <th>Stars</th>\n",
       "      <th>Link</th>\n",
       "      <th>Ratings</th>\n",
       "      <th>Comments</th>\n",
       "    </tr>\n",
       "  </thead>\n",
       "  <tbody>\n",
       "    <tr>\n",
       "      <th>0</th>\n",
       "      <td>OGX, Shampoo Volumen y Fuerza de Biotina y Colágeno, 385 ml</td>\n",
       "      <td>130</td>\n",
       "      <td>4.7</td>\n",
       "      <td>https://www.amazon.com.mx//gp/slredirect/picassoRedirect.html/ref=pa_sp_atf_aps_sr_pg1_1?ie=UTF8&amp;adId=A08062113QXMQG7BNGYIT&amp;qualifier=1681853802&amp;id=7145617727804515&amp;w...</td>\n",
       "      <td>3741</td>\n",
       "      <td>['Buen producto pero mi mamá prefiere de la misma marca el de coco, este último lo hemos adquirido varias veces.', 'Su olor dura todo el día pero sufro de cabello gra...</td>\n",
       "    </tr>\n",
       "    <tr>\n",
       "      <th>1</th>\n",
       "      <td>OGX, Acondicionador Volumen y Fuerza Extra de Biotina y Colágeno, 385 ml</td>\n",
       "      <td>134</td>\n",
       "      <td>4.6</td>\n",
       "      <td>https://www.amazon.com.mx//gp/slredirect/picassoRedirect.html/ref=pa_sp_atf_aps_sr_pg1_1?ie=UTF8&amp;adId=A080427021F10QC4WUWOL&amp;qualifier=1681853802&amp;id=7145617727804515&amp;w...</td>\n",
       "      <td>6243</td>\n",
       "      <td>['Huele delicioso y me ayudo mucho a que mi cabello reviviera', 'Muy bueno seguiré comprando este producto', 'Hidrata muy padre me encanta', 'Me ayudo mucho a quitar ...</td>\n",
       "    </tr>\n",
       "    <tr>\n",
       "      <th>2</th>\n",
       "      <td>OGX, Shampoo Suavizante de Keratina Brasileña, 385 ml</td>\n",
       "      <td>147</td>\n",
       "      <td>4.6</td>\n",
       "      <td>https://www.amazon.com.mx//gp/slredirect/picassoRedirect.html/ref=pa_sp_atf_aps_sr_pg1_1?ie=UTF8&amp;adId=A08064551ZON1IJ0UM6LY&amp;qualifier=1681853802&amp;id=7145617727804515&amp;w...</td>\n",
       "      <td>1415</td>\n",
       "      <td>['Me ha resultado muy bueno para la hidratación del cabello, lo deja sedoso.', 'Hace más de un mes que estoy usando este shampoo y la verdad me ha funcionado muy bien...</td>\n",
       "    </tr>\n",
       "    <tr>\n",
       "      <th>3</th>\n",
       "      <td>OGX, Acondicionador Volumen y Fuerza de Biotina y Colágeno, 385 ml</td>\n",
       "      <td>142</td>\n",
       "      <td>4.6</td>\n",
       "      <td>https://www.amazon.com.mx//gp/slredirect/picassoRedirect.html/ref=pa_sp_atf_aps_sr_pg1_1?ie=UTF8&amp;adId=A08039901AWCHL0R90B0L&amp;qualifier=1681853802&amp;id=7145617727804515&amp;w...</td>\n",
       "      <td>3541</td>\n",
       "      <td>['Huele delicioso!!! Y deja el pelo super manejable. Me encantó.', 'El aroma es muy rico y ayuda mucho a mejorar el aspecto del cabello. Lo deja suave y brilloso.', '...</td>\n",
       "    </tr>\n",
       "    <tr>\n",
       "      <th>4</th>\n",
       "      <td>OGX, Shampoo Volumen y Fuerza de Biotina y Colágeno, 385 ml</td>\n",
       "      <td>130</td>\n",
       "      <td>4.7</td>\n",
       "      <td>https://www.amazon.com.mx//Shampoo-Engrosador-Biotina-Col%C3%A1geno-morado/dp/B00ADRH2OM/ref=sr_1_5?__mk_es_MX=%C3%85M%C3%85%C5%BD%C3%95%C3%91&amp;keywords=shampoo+biotin...</td>\n",
       "      <td>3741</td>\n",
       "      <td>['Buen producto pero mi mamá prefiere de la misma marca el de coco, este último lo hemos adquirido varias veces.', 'Su olor dura todo el día pero sufro de cabello gra...</td>\n",
       "    </tr>\n",
       "  </tbody>\n",
       "</table>\n",
       "</div>"
      ],
      "text/plain": [
       "                                                                    Product  \\\n",
       "0               OGX, Shampoo Volumen y Fuerza de Biotina y Colágeno, 385 ml   \n",
       "1  OGX, Acondicionador Volumen y Fuerza Extra de Biotina y Colágeno, 385 ml   \n",
       "2                     OGX, Shampoo Suavizante de Keratina Brasileña, 385 ml   \n",
       "3        OGX, Acondicionador Volumen y Fuerza de Biotina y Colágeno, 385 ml   \n",
       "4               OGX, Shampoo Volumen y Fuerza de Biotina y Colágeno, 385 ml   \n",
       "\n",
       "   Price  Stars  \\\n",
       "0    130    4.7   \n",
       "1    134    4.6   \n",
       "2    147    4.6   \n",
       "3    142    4.6   \n",
       "4    130    4.7   \n",
       "\n",
       "                                                                                                                                                                        Link  \\\n",
       "0  https://www.amazon.com.mx//gp/slredirect/picassoRedirect.html/ref=pa_sp_atf_aps_sr_pg1_1?ie=UTF8&adId=A08062113QXMQG7BNGYIT&qualifier=1681853802&id=7145617727804515&w...   \n",
       "1  https://www.amazon.com.mx//gp/slredirect/picassoRedirect.html/ref=pa_sp_atf_aps_sr_pg1_1?ie=UTF8&adId=A080427021F10QC4WUWOL&qualifier=1681853802&id=7145617727804515&w...   \n",
       "2  https://www.amazon.com.mx//gp/slredirect/picassoRedirect.html/ref=pa_sp_atf_aps_sr_pg1_1?ie=UTF8&adId=A08064551ZON1IJ0UM6LY&qualifier=1681853802&id=7145617727804515&w...   \n",
       "3  https://www.amazon.com.mx//gp/slredirect/picassoRedirect.html/ref=pa_sp_atf_aps_sr_pg1_1?ie=UTF8&adId=A08039901AWCHL0R90B0L&qualifier=1681853802&id=7145617727804515&w...   \n",
       "4  https://www.amazon.com.mx//Shampoo-Engrosador-Biotina-Col%C3%A1geno-morado/dp/B00ADRH2OM/ref=sr_1_5?__mk_es_MX=%C3%85M%C3%85%C5%BD%C3%95%C3%91&keywords=shampoo+biotin...   \n",
       "\n",
       "   Ratings  \\\n",
       "0     3741   \n",
       "1     6243   \n",
       "2     1415   \n",
       "3     3541   \n",
       "4     3741   \n",
       "\n",
       "                                                                                                                                                                    Comments  \n",
       "0  ['Buen producto pero mi mamá prefiere de la misma marca el de coco, este último lo hemos adquirido varias veces.', 'Su olor dura todo el día pero sufro de cabello gra...  \n",
       "1  ['Huele delicioso y me ayudo mucho a que mi cabello reviviera', 'Muy bueno seguiré comprando este producto', 'Hidrata muy padre me encanta', 'Me ayudo mucho a quitar ...  \n",
       "2  ['Me ha resultado muy bueno para la hidratación del cabello, lo deja sedoso.', 'Hace más de un mes que estoy usando este shampoo y la verdad me ha funcionado muy bien...  \n",
       "3  ['Huele delicioso!!! Y deja el pelo super manejable. Me encantó.', 'El aroma es muy rico y ayuda mucho a mejorar el aspecto del cabello. Lo deja suave y brilloso.', '...  \n",
       "4  ['Buen producto pero mi mamá prefiere de la misma marca el de coco, este último lo hemos adquirido varias veces.', 'Su olor dura todo el día pero sufro de cabello gra...  "
      ]
     },
     "execution_count": 4,
     "metadata": {},
     "output_type": "execute_result"
    }
   ],
   "source": [
    "df = pd.read_excel(os.path.join(parent_path,\"shampoo_biotina_y_colageno_2023_4_18.xlsx\".replace(\"\\\\\", \"/\")))\n",
    "print(df.shape)\n",
    "df.head()"
   ]
  },
  {
   "cell_type": "code",
   "execution_count": 35,
   "metadata": {},
   "outputs": [
    {
     "data": {
      "text/html": [
       "<div>\n",
       "<style scoped>\n",
       "    .dataframe tbody tr th:only-of-type {\n",
       "        vertical-align: middle;\n",
       "    }\n",
       "\n",
       "    .dataframe tbody tr th {\n",
       "        vertical-align: top;\n",
       "    }\n",
       "\n",
       "    .dataframe thead th {\n",
       "        text-align: right;\n",
       "    }\n",
       "</style>\n",
       "<table border=\"1\" class=\"dataframe\">\n",
       "  <thead>\n",
       "    <tr style=\"text-align: right;\">\n",
       "      <th></th>\n",
       "      <th>Price</th>\n",
       "    </tr>\n",
       "  </thead>\n",
       "  <tbody>\n",
       "    <tr>\n",
       "      <th>count</th>\n",
       "      <td>360.00</td>\n",
       "    </tr>\n",
       "    <tr>\n",
       "      <th>mean</th>\n",
       "      <td>298.25</td>\n",
       "    </tr>\n",
       "    <tr>\n",
       "      <th>std</th>\n",
       "      <td>339.64</td>\n",
       "    </tr>\n",
       "    <tr>\n",
       "      <th>min</th>\n",
       "      <td>0.00</td>\n",
       "    </tr>\n",
       "    <tr>\n",
       "      <th>25%</th>\n",
       "      <td>130.00</td>\n",
       "    </tr>\n",
       "    <tr>\n",
       "      <th>50%</th>\n",
       "      <td>166.50</td>\n",
       "    </tr>\n",
       "    <tr>\n",
       "      <th>75%</th>\n",
       "      <td>364.50</td>\n",
       "    </tr>\n",
       "    <tr>\n",
       "      <th>max</th>\n",
       "      <td>2565.00</td>\n",
       "    </tr>\n",
       "  </tbody>\n",
       "</table>\n",
       "</div>"
      ],
      "text/plain": [
       "         Price\n",
       "count   360.00\n",
       "mean    298.25\n",
       "std     339.64\n",
       "min       0.00\n",
       "25%     130.00\n",
       "50%     166.50\n",
       "75%     364.50\n",
       "max    2565.00"
      ]
     },
     "execution_count": 35,
     "metadata": {},
     "output_type": "execute_result"
    }
   ],
   "source": [
    "reload(utils_amazon)\n",
    "df_25 = utils_amazon.quartile_prices(df)[0]\n",
    "df_25_50 = utils_amazon.quartile_prices(df)[1]\n",
    "df_50_75 = utils_amazon.quartile_prices(df)[2]\n",
    "df_75 = utils_amazon.quartile_prices(df)[3]\n",
    "quartiles = utils_amazon.quartile_prices(df)[4]\n",
    "quartiles"
   ]
  },
  {
   "cell_type": "code",
   "execution_count": 36,
   "metadata": {},
   "outputs": [
    {
     "name": "stdout",
     "output_type": "stream",
     "text": [
      "Prime products [above quartile 75] -> 90 products (25.0%) \n",
      "Premium products [between quartiles 50 & 75] -> 90 products (25.0%) \n",
      "Mid products [between quartiles 25 & 50] -> 83 products (23.06%) \n",
      "Low products [below quartile 25 ] -> 97 products (26.94%) \n"
     ]
    }
   ],
   "source": [
    "# Products above quartile 75\n",
    "print('Prime products [above quartile 75] -> {} products ({}%) '.format(df_75.Product.to_list().__len__(), round((df_75.Product.to_list().__len__() / df.__len__()) * 100, 2)))\n",
    "print('Premium products [between quartiles 50 & 75] -> {} products ({}%) '.format(df_50_75.Product.to_list().__len__(), round((df_50_75.Product.to_list().__len__() / df.__len__()) * 100, 2)))\n",
    "print('Mid products [between quartiles 25 & 50] -> {} products ({}%) '.format(df_25_50.Product.to_list().__len__(), round((df_25_50.Product.to_list().__len__() / df.__len__()) * 100, 2)))\n",
    "print('Low products [below quartile 25 ] -> {} products ({}%) '.format(df_25.Product.to_list().__len__(), round((df_25.Product.to_list().__len__() / df.__len__()) * 100, 2)))"
   ]
  },
  {
   "cell_type": "code",
   "execution_count": 19,
   "metadata": {},
   "outputs": [
    {
     "name": "stdout",
     "output_type": "stream",
     "text": [
      "Quartile (75>) - Products: 98\n"
     ]
    },
    {
     "data": {
      "text/html": [
       "<div>\n",
       "<style scoped>\n",
       "    .dataframe tbody tr th:only-of-type {\n",
       "        vertical-align: middle;\n",
       "    }\n",
       "\n",
       "    .dataframe tbody tr th {\n",
       "        vertical-align: top;\n",
       "    }\n",
       "\n",
       "    .dataframe thead th {\n",
       "        text-align: right;\n",
       "    }\n",
       "</style>\n",
       "<table border=\"1\" class=\"dataframe\">\n",
       "  <thead>\n",
       "    <tr style=\"text-align: right;\">\n",
       "      <th></th>\n",
       "      <th>Product</th>\n",
       "      <th>Price</th>\n",
       "      <th>Stars</th>\n",
       "      <th>Link</th>\n",
       "      <th>Ratings</th>\n",
       "      <th>Comments</th>\n",
       "    </tr>\n",
       "  </thead>\n",
       "  <tbody>\n",
       "    <tr>\n",
       "      <th>0</th>\n",
       "      <td>Silvia Strauss Shampoo de colágeno hidrolizado con acido hialuronico, para cabellos que se han sometido a decoloraciones, tintes u otro tipo de tratamientos agresivos</td>\n",
       "      <td>2348</td>\n",
       "      <td>0.0</td>\n",
       "      <td>https://www.amazon.com.mx//gp/slredirect/picassoRedirect.html/ref=pa_sp_atf_aps_sr_pg1_1?ie=UTF8&amp;adId=A085806512JVQ08RNYL66&amp;qualifier=1681838515&amp;id=6709021351963784&amp;w...</td>\n",
       "      <td>0</td>\n",
       "      <td>[]</td>\n",
       "    </tr>\n",
       "    <tr>\n",
       "      <th>1</th>\n",
       "      <td>Silvia Strauss Shampoo de colágeno hidrolizado con acido hialuronico especializado en aportar fuerza y nutrientes a tu cabello</td>\n",
       "      <td>2348</td>\n",
       "      <td>0.0</td>\n",
       "      <td>https://www.amazon.com.mx//gp/slredirect/picassoRedirect.html/ref=pa_sp_mtf_aps_sr_pg1_1?ie=UTF8&amp;adId=A08579091QZV0BSS76S8J&amp;qualifier=1681838515&amp;id=6709021351963784&amp;w...</td>\n",
       "      <td>0</td>\n",
       "      <td>[]</td>\n",
       "    </tr>\n",
       "    <tr>\n",
       "      <th>2</th>\n",
       "      <td>OGX Thick &amp; Full Biotin &amp; Collagen Shampoo, Salon Size, (1) 25.4 Ounce Bottle, Paraben Free, Sulfate Free, Sustainable Ingredients, Nourishing and Strengthening</td>\n",
       "      <td>559</td>\n",
       "      <td>4.2</td>\n",
       "      <td>https://www.amazon.com.mx//OGX-Sustainable-Ingredients-Nourishing-Strengthening/dp/B01KYHP922/ref=sr_1_28?__mk_es_MX=%C3%85M%C3%85%C5%BD%C3%95%C3%91&amp;keywords=shampoo+...</td>\n",
       "      <td>199</td>\n",
       "      <td>['Es Justo el producto que muestran en imagen y descripción', 'Best one', \"The shampoo wouldn't come out of the pump easily and had a rubbery gel-like consistency.  I...</td>\n",
       "    </tr>\n",
       "    <tr>\n",
       "      <th>3</th>\n",
       "      <td>Shampoo para Crecimiento de Cabello Acelerado Anticaída Reparación Hidratación Anti Frizz 7 en 1 para Mujer - Sin Sal - Con Queratina Y Colágeno - 250 ml x 2 - Hermos...</td>\n",
       "      <td>389</td>\n",
       "      <td>4.5</td>\n",
       "      <td>https://www.amazon.com.mx//Crecimiento-Acelerado-Antica%C3%ADda-Reparaci%C3%B3n-Hidrataci%C3%B3n/dp/B088BK37T7/ref=sr_1_31?__mk_es_MX=%C3%85M%C3%85%C5%BD%C3%95%C3%91&amp;...</td>\n",
       "      <td>74</td>\n",
       "      <td>['Regrese de la playa con mi cabello súper maltratado, lo empecé a usar y vi resultados desde el inicio, me encanta y más porque es producto 100% mexicano. Gracias so...</td>\n",
       "    </tr>\n",
       "    <tr>\n",
       "      <th>4</th>\n",
       "      <td>Kosmetus Kit Bergamota. Shampoo Evita Caída de Cabello 500 Ml y Crema Colageno Sella Puntas 120 Grs., Color, 1 Count</td>\n",
       "      <td>393</td>\n",
       "      <td>4.2</td>\n",
       "      <td>https://www.amazon.com.mx//KOSMETUS-Kit-Bergamota-Shampoo-Col%C3%A1geno/dp/B085YRB9ZV/ref=sr_1_38?__mk_es_MX=%C3%85M%C3%85%C5%BD%C3%95%C3%91&amp;keywords=shampoo+con+cola...</td>\n",
       "      <td>87</td>\n",
       "      <td>['La crema de colágeno deberían venderla a parte, mi esposa lo compra solo por la crema de colágeno, le deja sus rizos manejables y bonitos, pero cada vez que se le a...</td>\n",
       "    </tr>\n",
       "  </tbody>\n",
       "</table>\n",
       "</div>"
      ],
      "text/plain": [
       "                                                                                                                                                                     Product  \\\n",
       "0     Silvia Strauss Shampoo de colágeno hidrolizado con acido hialuronico, para cabellos que se han sometido a decoloraciones, tintes u otro tipo de tratamientos agresivos   \n",
       "1                                             Silvia Strauss Shampoo de colágeno hidrolizado con acido hialuronico especializado en aportar fuerza y nutrientes a tu cabello   \n",
       "2           OGX Thick & Full Biotin & Collagen Shampoo, Salon Size, (1) 25.4 Ounce Bottle, Paraben Free, Sulfate Free, Sustainable Ingredients, Nourishing and Strengthening   \n",
       "3  Shampoo para Crecimiento de Cabello Acelerado Anticaída Reparación Hidratación Anti Frizz 7 en 1 para Mujer - Sin Sal - Con Queratina Y Colágeno - 250 ml x 2 - Hermos...   \n",
       "4                                                       Kosmetus Kit Bergamota. Shampoo Evita Caída de Cabello 500 Ml y Crema Colageno Sella Puntas 120 Grs., Color, 1 Count   \n",
       "\n",
       "   Price  Stars  \\\n",
       "0   2348    0.0   \n",
       "1   2348    0.0   \n",
       "2    559    4.2   \n",
       "3    389    4.5   \n",
       "4    393    4.2   \n",
       "\n",
       "                                                                                                                                                                        Link  \\\n",
       "0  https://www.amazon.com.mx//gp/slredirect/picassoRedirect.html/ref=pa_sp_atf_aps_sr_pg1_1?ie=UTF8&adId=A085806512JVQ08RNYL66&qualifier=1681838515&id=6709021351963784&w...   \n",
       "1  https://www.amazon.com.mx//gp/slredirect/picassoRedirect.html/ref=pa_sp_mtf_aps_sr_pg1_1?ie=UTF8&adId=A08579091QZV0BSS76S8J&qualifier=1681838515&id=6709021351963784&w...   \n",
       "2  https://www.amazon.com.mx//OGX-Sustainable-Ingredients-Nourishing-Strengthening/dp/B01KYHP922/ref=sr_1_28?__mk_es_MX=%C3%85M%C3%85%C5%BD%C3%95%C3%91&keywords=shampoo+...   \n",
       "3  https://www.amazon.com.mx//Crecimiento-Acelerado-Antica%C3%ADda-Reparaci%C3%B3n-Hidrataci%C3%B3n/dp/B088BK37T7/ref=sr_1_31?__mk_es_MX=%C3%85M%C3%85%C5%BD%C3%95%C3%91&...   \n",
       "4  https://www.amazon.com.mx//KOSMETUS-Kit-Bergamota-Shampoo-Col%C3%A1geno/dp/B085YRB9ZV/ref=sr_1_38?__mk_es_MX=%C3%85M%C3%85%C5%BD%C3%95%C3%91&keywords=shampoo+con+cola...   \n",
       "\n",
       "   Ratings  \\\n",
       "0        0   \n",
       "1        0   \n",
       "2      199   \n",
       "3       74   \n",
       "4       87   \n",
       "\n",
       "                                                                                                                                                                    Comments  \n",
       "0                                                                                                                                                                         []  \n",
       "1                                                                                                                                                                         []  \n",
       "2  ['Es Justo el producto que muestran en imagen y descripción', 'Best one', \"The shampoo wouldn't come out of the pump easily and had a rubbery gel-like consistency.  I...  \n",
       "3  ['Regrese de la playa con mi cabello súper maltratado, lo empecé a usar y vi resultados desde el inicio, me encanta y más porque es producto 100% mexicano. Gracias so...  \n",
       "4  ['La crema de colágeno deberían venderla a parte, mi esposa lo compra solo por la crema de colágeno, le deja sus rizos manejables y bonitos, pero cada vez que se le a...  "
      ]
     },
     "metadata": {},
     "output_type": "display_data"
    },
    {
     "name": "stdout",
     "output_type": "stream",
     "text": [
      "Quartile (50-75] - Products: 97\n"
     ]
    },
    {
     "data": {
      "text/html": [
       "<div>\n",
       "<style scoped>\n",
       "    .dataframe tbody tr th:only-of-type {\n",
       "        vertical-align: middle;\n",
       "    }\n",
       "\n",
       "    .dataframe tbody tr th {\n",
       "        vertical-align: top;\n",
       "    }\n",
       "\n",
       "    .dataframe thead th {\n",
       "        text-align: right;\n",
       "    }\n",
       "</style>\n",
       "<table border=\"1\" class=\"dataframe\">\n",
       "  <thead>\n",
       "    <tr style=\"text-align: right;\">\n",
       "      <th></th>\n",
       "      <th>Product</th>\n",
       "      <th>Price</th>\n",
       "      <th>Stars</th>\n",
       "      <th>Link</th>\n",
       "      <th>Ratings</th>\n",
       "      <th>Comments</th>\n",
       "    </tr>\n",
       "  </thead>\n",
       "  <tbody>\n",
       "    <tr>\n",
       "      <th>0</th>\n",
       "      <td>Pantene Colageno Shampoo con acondicionador 510ml y tratamientos</td>\n",
       "      <td>361</td>\n",
       "      <td>4.9</td>\n",
       "      <td>https://www.amazon.com.mx//Pantene-Colageno-Shampoo-acondicionador-tratamientos/dp/B0B69QSPKV/ref=sr_1_6?__mk_es_MX=%C3%85M%C3%85%C5%BD%C3%95%C3%91&amp;keywords=shampoo+c...</td>\n",
       "      <td>13</td>\n",
       "      <td>['Deja el cabello super lindo, ayuda mucho a la resequedad y al daño causado por decoloraciones.', 'Me encanto toda la marca']</td>\n",
       "    </tr>\n",
       "    <tr>\n",
       "      <th>1</th>\n",
       "      <td>OGX Acondicionador Volumen y Fuerza de Biotina y Colágeno 385 ml + Shampoo Volumen y Fuerza de Biotina y Colágeno 385 ml</td>\n",
       "      <td>280</td>\n",
       "      <td>4.6</td>\n",
       "      <td>https://www.amazon.com.mx//OGX-Acondicionador-Volumen-Biotina-Col%C3%A1geno/dp/B0B14XLZMF/ref=sr_1_7?__mk_es_MX=%C3%85M%C3%85%C5%BD%C3%95%C3%91&amp;keywords=shampoo+con+c...</td>\n",
       "      <td>3541</td>\n",
       "      <td>['Huele delicioso!!! Y deja el pelo super manejable. Me encantó.', 'El aroma es muy rico y ayuda mucho a mejorar el aspecto del cabello. Lo deja suave y brilloso.', '...</td>\n",
       "    </tr>\n",
       "    <tr>\n",
       "      <th>2</th>\n",
       "      <td>Shampoo Crecimiento Cabello Alopecia Anti Caída + 3 Activos (Crecimiento Capilar) Enriquecido De Gran Eficiencia Para El Crecimiento Ingredientes Naturales, Hierbas, ...</td>\n",
       "      <td>249</td>\n",
       "      <td>4.3</td>\n",
       "      <td>https://www.amazon.com.mx//Crecimiento-Enriquecido-Eficiencia-Ingredientes-Naturales/dp/B0B8TPMBGH/ref=sr_1_8?__mk_es_MX=%C3%85M%C3%85%C5%BD%C3%95%C3%91&amp;keywords=sham...</td>\n",
       "      <td>42</td>\n",
       "      <td>['Hace poca espuma, el olor no es muy agradable al.poner es una sensación de que te hace falta que limpie o haga más espuma y necesitas más cantidad, llevo usa dolo 1...</td>\n",
       "    </tr>\n",
       "    <tr>\n",
       "      <th>3</th>\n",
       "      <td>G-PROT | Shampoo Keragen - Colágeno Hidrolizado + Keratina, Ginseng y Sábila 1L</td>\n",
       "      <td>329</td>\n",
       "      <td>0.0</td>\n",
       "      <td>https://www.amazon.com.mx//G-PROT-Shampoo-Keragen-Col%C3%A1geno-Hidrolizado/dp/B0BG6RXVNR/ref=sr_1_11?__mk_es_MX=%C3%85M%C3%85%C5%BD%C3%95%C3%91&amp;keywords=shampoo+con+...</td>\n",
       "      <td>0</td>\n",
       "      <td>[]</td>\n",
       "    </tr>\n",
       "    <tr>\n",
       "      <th>4</th>\n",
       "      <td>Shampoo Extra Hidratante Colágeno 530ml, Nutre Y Revitaliza</td>\n",
       "      <td>290</td>\n",
       "      <td>3.6</td>\n",
       "      <td>https://www.amazon.com.mx//Shampoo-Extra-Hidratante-Col%C3%A1geno-Revitaliza/dp/B09CYCW1YQ/ref=sr_1_15?__mk_es_MX=%C3%85M%C3%85%C5%BD%C3%95%C3%91&amp;keywords=shampoo+con...</td>\n",
       "      <td>4</td>\n",
       "      <td>[]</td>\n",
       "    </tr>\n",
       "  </tbody>\n",
       "</table>\n",
       "</div>"
      ],
      "text/plain": [
       "                                                                                                                                                                     Product  \\\n",
       "0                                                                                                           Pantene Colageno Shampoo con acondicionador 510ml y tratamientos   \n",
       "1                                                   OGX Acondicionador Volumen y Fuerza de Biotina y Colágeno 385 ml + Shampoo Volumen y Fuerza de Biotina y Colágeno 385 ml   \n",
       "2  Shampoo Crecimiento Cabello Alopecia Anti Caída + 3 Activos (Crecimiento Capilar) Enriquecido De Gran Eficiencia Para El Crecimiento Ingredientes Naturales, Hierbas, ...   \n",
       "3                                                                                            G-PROT | Shampoo Keragen - Colágeno Hidrolizado + Keratina, Ginseng y Sábila 1L   \n",
       "4                                                                                                                Shampoo Extra Hidratante Colágeno 530ml, Nutre Y Revitaliza   \n",
       "\n",
       "   Price  Stars  \\\n",
       "0    361    4.9   \n",
       "1    280    4.6   \n",
       "2    249    4.3   \n",
       "3    329    0.0   \n",
       "4    290    3.6   \n",
       "\n",
       "                                                                                                                                                                        Link  \\\n",
       "0  https://www.amazon.com.mx//Pantene-Colageno-Shampoo-acondicionador-tratamientos/dp/B0B69QSPKV/ref=sr_1_6?__mk_es_MX=%C3%85M%C3%85%C5%BD%C3%95%C3%91&keywords=shampoo+c...   \n",
       "1  https://www.amazon.com.mx//OGX-Acondicionador-Volumen-Biotina-Col%C3%A1geno/dp/B0B14XLZMF/ref=sr_1_7?__mk_es_MX=%C3%85M%C3%85%C5%BD%C3%95%C3%91&keywords=shampoo+con+c...   \n",
       "2  https://www.amazon.com.mx//Crecimiento-Enriquecido-Eficiencia-Ingredientes-Naturales/dp/B0B8TPMBGH/ref=sr_1_8?__mk_es_MX=%C3%85M%C3%85%C5%BD%C3%95%C3%91&keywords=sham...   \n",
       "3  https://www.amazon.com.mx//G-PROT-Shampoo-Keragen-Col%C3%A1geno-Hidrolizado/dp/B0BG6RXVNR/ref=sr_1_11?__mk_es_MX=%C3%85M%C3%85%C5%BD%C3%95%C3%91&keywords=shampoo+con+...   \n",
       "4  https://www.amazon.com.mx//Shampoo-Extra-Hidratante-Col%C3%A1geno-Revitaliza/dp/B09CYCW1YQ/ref=sr_1_15?__mk_es_MX=%C3%85M%C3%85%C5%BD%C3%95%C3%91&keywords=shampoo+con...   \n",
       "\n",
       "   Ratings  \\\n",
       "0       13   \n",
       "1     3541   \n",
       "2       42   \n",
       "3        0   \n",
       "4        4   \n",
       "\n",
       "                                                                                                                                                                    Comments  \n",
       "0                                             ['Deja el cabello super lindo, ayuda mucho a la resequedad y al daño causado por decoloraciones.', 'Me encanto toda la marca']  \n",
       "1  ['Huele delicioso!!! Y deja el pelo super manejable. Me encantó.', 'El aroma es muy rico y ayuda mucho a mejorar el aspecto del cabello. Lo deja suave y brilloso.', '...  \n",
       "2  ['Hace poca espuma, el olor no es muy agradable al.poner es una sensación de que te hace falta que limpie o haga más espuma y necesitas más cantidad, llevo usa dolo 1...  \n",
       "3                                                                                                                                                                         []  \n",
       "4                                                                                                                                                                         []  "
      ]
     },
     "metadata": {},
     "output_type": "display_data"
    },
    {
     "name": "stdout",
     "output_type": "stream",
     "text": [
      "Quartile (25-50] - Products: 94\n"
     ]
    },
    {
     "data": {
      "text/html": [
       "<div>\n",
       "<style scoped>\n",
       "    .dataframe tbody tr th:only-of-type {\n",
       "        vertical-align: middle;\n",
       "    }\n",
       "\n",
       "    .dataframe tbody tr th {\n",
       "        vertical-align: top;\n",
       "    }\n",
       "\n",
       "    .dataframe thead th {\n",
       "        text-align: right;\n",
       "    }\n",
       "</style>\n",
       "<table border=\"1\" class=\"dataframe\">\n",
       "  <thead>\n",
       "    <tr style=\"text-align: right;\">\n",
       "      <th></th>\n",
       "      <th>Product</th>\n",
       "      <th>Price</th>\n",
       "      <th>Stars</th>\n",
       "      <th>Link</th>\n",
       "      <th>Ratings</th>\n",
       "      <th>Comments</th>\n",
       "    </tr>\n",
       "  </thead>\n",
       "  <tbody>\n",
       "    <tr>\n",
       "      <th>0</th>\n",
       "      <td>Pantene - Shampoo Nutrient Blends Frizz Control, con Extracto de Rosas Pantenol y Colágeno, Shampoo Pantene, 270 ml</td>\n",
       "      <td>147</td>\n",
       "      <td>4.3</td>\n",
       "      <td>https://www.amazon.com.mx//gp/slredirect/picassoRedirect.html/ref=pa_sp_atf_aps_sr_pg1_1?ie=UTF8&amp;adId=A02621393SLVDTO6LXY1V&amp;qualifier=1681838515&amp;id=6709021351963784&amp;w...</td>\n",
       "      <td>92</td>\n",
       "      <td>['El frizz de mi pelo es un pain! Este me ayudó a controlar el frizz y huele espectacular! Un adicional es que es libre de ingredientes que prefiero evitar y está cer...</td>\n",
       "    </tr>\n",
       "    <tr>\n",
       "      <th>1</th>\n",
       "      <td>Pantene - Shampoo Nutrient Blends Volume Multiplier, con Bambú Pantenol y Colágeno, Shampoo Pantene, 270 ml</td>\n",
       "      <td>170</td>\n",
       "      <td>4.5</td>\n",
       "      <td>https://www.amazon.com.mx//gp/slredirect/picassoRedirect.html/ref=pa_sp_atf_aps_sr_pg1_1?ie=UTF8&amp;adId=A02620392W6ZU82S987GL&amp;qualifier=1681838515&amp;id=6709021351963784&amp;w...</td>\n",
       "      <td>66</td>\n",
       "      <td>['Deja el cabello con olor agradable y suave', 'Lo deja fuerte y noto que se ve con más volumen. 10 de 10!', 'Lo que más me gustó es la textura, no enreda el cabello....</td>\n",
       "    </tr>\n",
       "    <tr>\n",
       "      <th>2</th>\n",
       "      <td>OGX - , Champú Thick &amp; Full + Champú con biotina y colágeno, 385 ml</td>\n",
       "      <td>168</td>\n",
       "      <td>4.6</td>\n",
       "      <td>https://www.amazon.com.mx//OGX-Champ%C3%BA-Thick-biotina-col%C3%A1geno/dp/B0042LJ1DA/ref=sr_1_9?__mk_es_MX=%C3%85M%C3%85%C5%BD%C3%95%C3%91&amp;keywords=shampoo+con+colage...</td>\n",
       "      <td>67</td>\n",
       "      <td>['Una vez mi cabello ya seco lo deja con buen brillo, suave y con movimiento sin ponerme nada más en el cabello y eso que tengo mucho y ondulado, de los que he probad...</td>\n",
       "    </tr>\n",
       "    <tr>\n",
       "      <th>3</th>\n",
       "      <td>Pantene Shampoo 300 ml + Pantene Acondicionador 3 Minute Miracle 170 ml Pro-V Miracles Colágeno Nutre &amp; Revitaliza</td>\n",
       "      <td>144</td>\n",
       "      <td>4.7</td>\n",
       "      <td>https://www.amazon.com.mx//Pantene-Acondicionador-Miracles-Col%C3%A1geno-Revitaliza/dp/B0B4M1B45V/ref=sr_1_10?__mk_es_MX=%C3%85M%C3%85%C5%BD%C3%95%C3%91&amp;keywords=sham...</td>\n",
       "      <td>68</td>\n",
       "      <td>['Huele muy rico y el cabello queda muy lindo y suave', 'Me gusta este producto me deja el pelo muy manejable', 'Me gustó la suavidad e hidratación a mi cabello, más ...</td>\n",
       "    </tr>\n",
       "    <tr>\n",
       "      <th>4</th>\n",
       "      <td>Pantene - Shampoo Nutrient Blends Frizz Control, con Extracto de Rosas Pantenol y Colágeno, Shampoo Pantene, 270 ml</td>\n",
       "      <td>147</td>\n",
       "      <td>4.3</td>\n",
       "      <td>https://www.amazon.com.mx//Pantene-Nutrient-Extracto-Pantenol-Col%C3%A1geno/dp/B09VKC9SDC/ref=sr_1_13?__mk_es_MX=%C3%85M%C3%85%C5%BD%C3%95%C3%91&amp;keywords=shampoo+con+...</td>\n",
       "      <td>92</td>\n",
       "      <td>['El frizz de mi pelo es un pain! Este me ayudó a controlar el frizz y huele espectacular! Un adicional es que es libre de ingredientes que prefiero evitar y está cer...</td>\n",
       "    </tr>\n",
       "  </tbody>\n",
       "</table>\n",
       "</div>"
      ],
      "text/plain": [
       "                                                                                                               Product  \\\n",
       "0  Pantene - Shampoo Nutrient Blends Frizz Control, con Extracto de Rosas Pantenol y Colágeno, Shampoo Pantene, 270 ml   \n",
       "1          Pantene - Shampoo Nutrient Blends Volume Multiplier, con Bambú Pantenol y Colágeno, Shampoo Pantene, 270 ml   \n",
       "2                                                  OGX - , Champú Thick & Full + Champú con biotina y colágeno, 385 ml   \n",
       "3   Pantene Shampoo 300 ml + Pantene Acondicionador 3 Minute Miracle 170 ml Pro-V Miracles Colágeno Nutre & Revitaliza   \n",
       "4  Pantene - Shampoo Nutrient Blends Frizz Control, con Extracto de Rosas Pantenol y Colágeno, Shampoo Pantene, 270 ml   \n",
       "\n",
       "   Price  Stars  \\\n",
       "0    147    4.3   \n",
       "1    170    4.5   \n",
       "2    168    4.6   \n",
       "3    144    4.7   \n",
       "4    147    4.3   \n",
       "\n",
       "                                                                                                                                                                        Link  \\\n",
       "0  https://www.amazon.com.mx//gp/slredirect/picassoRedirect.html/ref=pa_sp_atf_aps_sr_pg1_1?ie=UTF8&adId=A02621393SLVDTO6LXY1V&qualifier=1681838515&id=6709021351963784&w...   \n",
       "1  https://www.amazon.com.mx//gp/slredirect/picassoRedirect.html/ref=pa_sp_atf_aps_sr_pg1_1?ie=UTF8&adId=A02620392W6ZU82S987GL&qualifier=1681838515&id=6709021351963784&w...   \n",
       "2  https://www.amazon.com.mx//OGX-Champ%C3%BA-Thick-biotina-col%C3%A1geno/dp/B0042LJ1DA/ref=sr_1_9?__mk_es_MX=%C3%85M%C3%85%C5%BD%C3%95%C3%91&keywords=shampoo+con+colage...   \n",
       "3  https://www.amazon.com.mx//Pantene-Acondicionador-Miracles-Col%C3%A1geno-Revitaliza/dp/B0B4M1B45V/ref=sr_1_10?__mk_es_MX=%C3%85M%C3%85%C5%BD%C3%95%C3%91&keywords=sham...   \n",
       "4  https://www.amazon.com.mx//Pantene-Nutrient-Extracto-Pantenol-Col%C3%A1geno/dp/B09VKC9SDC/ref=sr_1_13?__mk_es_MX=%C3%85M%C3%85%C5%BD%C3%95%C3%91&keywords=shampoo+con+...   \n",
       "\n",
       "   Ratings  \\\n",
       "0       92   \n",
       "1       66   \n",
       "2       67   \n",
       "3       68   \n",
       "4       92   \n",
       "\n",
       "                                                                                                                                                                    Comments  \n",
       "0  ['El frizz de mi pelo es un pain! Este me ayudó a controlar el frizz y huele espectacular! Un adicional es que es libre de ingredientes que prefiero evitar y está cer...  \n",
       "1  ['Deja el cabello con olor agradable y suave', 'Lo deja fuerte y noto que se ve con más volumen. 10 de 10!', 'Lo que más me gustó es la textura, no enreda el cabello....  \n",
       "2  ['Una vez mi cabello ya seco lo deja con buen brillo, suave y con movimiento sin ponerme nada más en el cabello y eso que tengo mucho y ondulado, de los que he probad...  \n",
       "3  ['Huele muy rico y el cabello queda muy lindo y suave', 'Me gusta este producto me deja el pelo muy manejable', 'Me gustó la suavidad e hidratación a mi cabello, más ...  \n",
       "4  ['El frizz de mi pelo es un pain! Este me ayudó a controlar el frizz y huele espectacular! Un adicional es que es libre de ingredientes que prefiero evitar y está cer...  "
      ]
     },
     "metadata": {},
     "output_type": "display_data"
    },
    {
     "name": "stdout",
     "output_type": "stream",
     "text": [
      "Quartile (<25] - Products: 101\n"
     ]
    },
    {
     "data": {
      "text/html": [
       "<div>\n",
       "<style scoped>\n",
       "    .dataframe tbody tr th:only-of-type {\n",
       "        vertical-align: middle;\n",
       "    }\n",
       "\n",
       "    .dataframe tbody tr th {\n",
       "        vertical-align: top;\n",
       "    }\n",
       "\n",
       "    .dataframe thead th {\n",
       "        text-align: right;\n",
       "    }\n",
       "</style>\n",
       "<table border=\"1\" class=\"dataframe\">\n",
       "  <thead>\n",
       "    <tr style=\"text-align: right;\">\n",
       "      <th></th>\n",
       "      <th>Product</th>\n",
       "      <th>Price</th>\n",
       "      <th>Stars</th>\n",
       "      <th>Link</th>\n",
       "      <th>Ratings</th>\n",
       "      <th>Comments</th>\n",
       "    </tr>\n",
       "  </thead>\n",
       "  <tbody>\n",
       "    <tr>\n",
       "      <th>0</th>\n",
       "      <td>L'Oréal Paris Shampoo 3 en 1 Coco L'Oréal Kids 260 ml</td>\n",
       "      <td>69</td>\n",
       "      <td>4.7</td>\n",
       "      <td>https://www.amazon.com.mx//gp/slredirect/picassoRedirect.html/ref=pa_sp_atf_aps_sr_pg1_1?ie=UTF8&amp;adId=A029129033UPCF8SY0RBI&amp;qualifier=1681838515&amp;id=6709021351963784&amp;w...</td>\n",
       "      <td>623</td>\n",
       "      <td>['Buen precio', 'Me gustó el olor y la practicidad (que también es acondicionador), no lo tuve de niña así que me lo regalé de adulta, sin embargo, no volvería a comp...</td>\n",
       "    </tr>\n",
       "    <tr>\n",
       "      <th>1</th>\n",
       "      <td>OGX, Shampoo Volumen y Fuerza de Biotina y Colágeno, 385 ml</td>\n",
       "      <td>130</td>\n",
       "      <td>4.7</td>\n",
       "      <td>https://www.amazon.com.mx//Shampoo-Engrosador-Biotina-Col%C3%A1geno-morado/dp/B00ADRH2OM/ref=sr_1_5?__mk_es_MX=%C3%85M%C3%85%C5%BD%C3%95%C3%91&amp;keywords=shampoo+con+co...</td>\n",
       "      <td>3741</td>\n",
       "      <td>['Buen producto pero mi mamá prefiere de la misma marca el de coco, este último lo hemos adquirido varias veces.', 'Su olor dura todo el día pero sufro de cabello gra...</td>\n",
       "    </tr>\n",
       "    <tr>\n",
       "      <th>2</th>\n",
       "      <td>Shampoo para Cabello Teñido Vitakolor con Colágeno, Protección UV, Prolonga el Color del Tinte por más Tiempo, Hidrata y Limpia en Profundidad, Proporciona Brillo y S...</td>\n",
       "      <td>105</td>\n",
       "      <td>4.4</td>\n",
       "      <td>https://www.amazon.com.mx//Vitakolor-Protecci%C3%B3n-Profundidad-Proporciona-Sedosidad/dp/B09F2HJRVM/ref=sr_1_12?__mk_es_MX=%C3%85M%C3%85%C5%BD%C3%95%C3%91&amp;keywords=s...</td>\n",
       "      <td>8</td>\n",
       "      <td>['Muy buen producto para cabello decolorado y teñido con colores fantasía.']</td>\n",
       "    </tr>\n",
       "    <tr>\n",
       "      <th>3</th>\n",
       "      <td>ANNE ROTHSHIELD - Champú de colágeno y biotina 700 ml</td>\n",
       "      <td>99</td>\n",
       "      <td>4.7</td>\n",
       "      <td>https://www.amazon.com.mx//ANNE-ROTHSHIELD-Champ%C3%BA-col%C3%A1geno-biotina/dp/B08WWDXKLF/ref=sr_1_18?__mk_es_MX=%C3%85M%C3%85%C5%BD%C3%95%C3%91&amp;keywords=shampoo+con...</td>\n",
       "      <td>2456</td>\n",
       "      <td>['Mi novia dice:Llevo usándolo más de 2 meses, mi cabello no estaba tan maltratado pero sí se veía deshidratado y se enredaba todo el tiempo, desde que uso este shamp...</td>\n",
       "    </tr>\n",
       "    <tr>\n",
       "      <th>4</th>\n",
       "      <td>OGX, Shampoo Volumen y Fuerza Extra de Biotina y Colágeno, 385 ml</td>\n",
       "      <td>0</td>\n",
       "      <td>4.7</td>\n",
       "      <td>https://www.amazon.com.mx//OGX-Shampoo-Biotina-Colageno-Strength/dp/B07XB2Q542/ref=sr_1_29?__mk_es_MX=%C3%85M%C3%85%C5%BD%C3%95%C3%91&amp;keywords=shampoo+con+colageno&amp;qi...</td>\n",
       "      <td>377</td>\n",
       "      <td>['El costo beneficio es bueno, cumple con lo que promete, agradable aroma', 'Es recomendable para cabello no tan seco,más bien tendencia de normal a grasa , huele súp...</td>\n",
       "    </tr>\n",
       "  </tbody>\n",
       "</table>\n",
       "</div>"
      ],
      "text/plain": [
       "                                                                                                                                                                     Product  \\\n",
       "0                                                                                                                      L'Oréal Paris Shampoo 3 en 1 Coco L'Oréal Kids 260 ml   \n",
       "1                                                                                                                OGX, Shampoo Volumen y Fuerza de Biotina y Colágeno, 385 ml   \n",
       "2  Shampoo para Cabello Teñido Vitakolor con Colágeno, Protección UV, Prolonga el Color del Tinte por más Tiempo, Hidrata y Limpia en Profundidad, Proporciona Brillo y S...   \n",
       "3                                                                                                                      ANNE ROTHSHIELD - Champú de colágeno y biotina 700 ml   \n",
       "4                                                                                                          OGX, Shampoo Volumen y Fuerza Extra de Biotina y Colágeno, 385 ml   \n",
       "\n",
       "   Price  Stars  \\\n",
       "0     69    4.7   \n",
       "1    130    4.7   \n",
       "2    105    4.4   \n",
       "3     99    4.7   \n",
       "4      0    4.7   \n",
       "\n",
       "                                                                                                                                                                        Link  \\\n",
       "0  https://www.amazon.com.mx//gp/slredirect/picassoRedirect.html/ref=pa_sp_atf_aps_sr_pg1_1?ie=UTF8&adId=A029129033UPCF8SY0RBI&qualifier=1681838515&id=6709021351963784&w...   \n",
       "1  https://www.amazon.com.mx//Shampoo-Engrosador-Biotina-Col%C3%A1geno-morado/dp/B00ADRH2OM/ref=sr_1_5?__mk_es_MX=%C3%85M%C3%85%C5%BD%C3%95%C3%91&keywords=shampoo+con+co...   \n",
       "2  https://www.amazon.com.mx//Vitakolor-Protecci%C3%B3n-Profundidad-Proporciona-Sedosidad/dp/B09F2HJRVM/ref=sr_1_12?__mk_es_MX=%C3%85M%C3%85%C5%BD%C3%95%C3%91&keywords=s...   \n",
       "3  https://www.amazon.com.mx//ANNE-ROTHSHIELD-Champ%C3%BA-col%C3%A1geno-biotina/dp/B08WWDXKLF/ref=sr_1_18?__mk_es_MX=%C3%85M%C3%85%C5%BD%C3%95%C3%91&keywords=shampoo+con...   \n",
       "4  https://www.amazon.com.mx//OGX-Shampoo-Biotina-Colageno-Strength/dp/B07XB2Q542/ref=sr_1_29?__mk_es_MX=%C3%85M%C3%85%C5%BD%C3%95%C3%91&keywords=shampoo+con+colageno&qi...   \n",
       "\n",
       "   Ratings  \\\n",
       "0      623   \n",
       "1     3741   \n",
       "2        8   \n",
       "3     2456   \n",
       "4      377   \n",
       "\n",
       "                                                                                                                                                                    Comments  \n",
       "0  ['Buen precio', 'Me gustó el olor y la practicidad (que también es acondicionador), no lo tuve de niña así que me lo regalé de adulta, sin embargo, no volvería a comp...  \n",
       "1  ['Buen producto pero mi mamá prefiere de la misma marca el de coco, este último lo hemos adquirido varias veces.', 'Su olor dura todo el día pero sufro de cabello gra...  \n",
       "2                                                                                               ['Muy buen producto para cabello decolorado y teñido con colores fantasía.']  \n",
       "3  ['Mi novia dice:Llevo usándolo más de 2 meses, mi cabello no estaba tan maltratado pero sí se veía deshidratado y se enredaba todo el tiempo, desde que uso este shamp...  \n",
       "4  ['El costo beneficio es bueno, cumple con lo que promete, agradable aroma', 'Es recomendable para cabello no tan seco,más bien tendencia de normal a grasa , huele súp...  "
      ]
     },
     "metadata": {},
     "output_type": "display_data"
    }
   ],
   "source": [
    "print('Quartile (75>) - Products: {}'.format(df_75.__len__()))\n",
    "display(df_75.head())\n",
    "print('Quartile (50-75] - Products: {}'.format(df_50_75.__len__()))\n",
    "display(df_50_75.head())\n",
    "print('Quartile (25-50] - Products: {}'.format(df_25_50.__len__()))\n",
    "display(df_25_50.head())\n",
    "print('Quartile (<25] - Products: {}'.format(df_25.__len__()))\n",
    "display(df_25.head())"
   ]
  },
  {
   "cell_type": "code",
   "execution_count": 20,
   "metadata": {},
   "outputs": [
    {
     "name": "stdout",
     "output_type": "stream",
     "text": [
      "286\n"
     ]
    },
    {
     "data": {
      "application/vnd.plotly.v1+json": {
       "config": {
        "plotlyServerURL": "https://plot.ly"
       },
       "data": [
        {
         "alignmentgroup": "True",
         "hovertemplate": "Price=%{x}<extra></extra>",
         "legendgroup": "",
         "marker": {
          "color": "#636efa"
         },
         "name": "",
         "notched": false,
         "offsetgroup": "",
         "orientation": "h",
         "showlegend": false,
         "type": "box",
         "x": [
          147,
          170,
          69,
          2348,
          130,
          361,
          280,
          249,
          168,
          144,
          329,
          105,
          147,
          170,
          290,
          295,
          154,
          99,
          201,
          229,
          2348,
          229,
          144,
          163,
          258,
          342,
          228,
          559,
          0,
          139,
          389,
          268,
          179,
          283,
          317,
          160,
          327,
          393,
          159,
          307,
          177,
          580,
          329,
          239,
          259,
          83,
          2348,
          2348,
          258,
          192,
          229,
          350,
          299,
          399,
          197,
          219,
          101,
          399,
          350,
          684,
          170,
          147,
          229,
          144,
          339,
          588,
          399,
          40,
          319,
          70,
          136,
          198,
          128,
          309,
          219,
          589,
          249,
          249,
          499,
          169,
          2348,
          2348,
          69,
          163,
          136,
          230,
          97,
          134,
          83,
          197,
          398,
          322,
          399,
          177,
          147,
          579,
          166,
          1049,
          168,
          54,
          69,
          650,
          699,
          912,
          94,
          649,
          329,
          336,
          204,
          250,
          349,
          198,
          149,
          439,
          340,
          58,
          350,
          399,
          684,
          101,
          170,
          147,
          2348,
          229,
          89,
          349,
          347,
          131,
          336,
          498,
          179,
          70,
          63,
          197,
          145,
          665,
          141,
          135,
          198,
          215,
          2348,
          144,
          69,
          163,
          119,
          1865,
          134,
          689,
          142,
          579,
          249,
          199,
          325,
          166,
          255,
          38,
          1200,
          280,
          111,
          99,
          239,
          71,
          239,
          216,
          225,
          227,
          210,
          455,
          80,
          45,
          439,
          560,
          310,
          51,
          230,
          125,
          350,
          399,
          684,
          101,
          170,
          147,
          2348,
          229,
          450,
          349,
          609,
          80,
          230,
          118,
          1099,
          397,
          163,
          179,
          279,
          1540,
          749,
          327,
          178,
          89,
          2348,
          144,
          69,
          163,
          129,
          198,
          162,
          40,
          349,
          335,
          81,
          65,
          590,
          209,
          799,
          225,
          669,
          80,
          167,
          1421,
          1499,
          150,
          140,
          130,
          50,
          157,
          847,
          1289,
          65,
          711,
          159,
          130,
          84,
          679,
          239,
          142,
          399,
          350,
          101,
          684,
          170,
          147,
          2348,
          229,
          334,
          390,
          216,
          185,
          71,
          71,
          142,
          145,
          116,
          239,
          569,
          637,
          64,
          615,
          0,
          142,
          2348,
          144,
          163,
          69,
          449,
          291,
          125,
          378,
          399,
          198,
          225,
          349,
          574,
          449,
          169,
          100,
          154,
          799,
          121,
          329,
          309,
          1105,
          85,
          499,
          379,
          609,
          71,
          0,
          43,
          299,
          249,
          650,
          142,
          249,
          249,
          159,
          399,
          83,
          684,
          88,
          170,
          147,
          2348,
          229,
          82,
          828,
          168,
          416,
          225,
          449,
          249,
          129,
          235,
          671,
          299,
          84,
          273,
          377,
          163,
          996,
          2348,
          144,
          69,
          163,
          222,
          249,
          499,
          238,
          34,
          119,
          241,
          876,
          219,
          350,
          40,
          358,
          188,
          65,
          379,
          339,
          1375,
          85,
          60,
          172,
          42,
          154,
          304,
          55,
          278,
          99,
          127,
          53,
          279,
          115,
          599,
          2899,
          399,
          350,
          684,
          101,
          170,
          147,
          229,
          2348,
          142,
          93,
          149,
          329,
          40,
          287,
          197,
          238,
          241,
          316,
          439,
          121,
          587,
          363,
          114,
          643,
          2348,
          144,
          163,
          69,
          155,
          129,
          399,
          350,
          684,
          101
         ],
         "x0": " ",
         "xaxis": "x",
         "y0": " ",
         "yaxis": "y"
        }
       ],
       "layout": {
        "boxmode": "group",
        "legend": {
         "tracegroupgap": 0
        },
        "template": {
         "data": {
          "bar": [
           {
            "error_x": {
             "color": "#2a3f5f"
            },
            "error_y": {
             "color": "#2a3f5f"
            },
            "marker": {
             "line": {
              "color": "#E5ECF6",
              "width": 0.5
             },
             "pattern": {
              "fillmode": "overlay",
              "size": 10,
              "solidity": 0.2
             }
            },
            "type": "bar"
           }
          ],
          "barpolar": [
           {
            "marker": {
             "line": {
              "color": "#E5ECF6",
              "width": 0.5
             },
             "pattern": {
              "fillmode": "overlay",
              "size": 10,
              "solidity": 0.2
             }
            },
            "type": "barpolar"
           }
          ],
          "carpet": [
           {
            "aaxis": {
             "endlinecolor": "#2a3f5f",
             "gridcolor": "white",
             "linecolor": "white",
             "minorgridcolor": "white",
             "startlinecolor": "#2a3f5f"
            },
            "baxis": {
             "endlinecolor": "#2a3f5f",
             "gridcolor": "white",
             "linecolor": "white",
             "minorgridcolor": "white",
             "startlinecolor": "#2a3f5f"
            },
            "type": "carpet"
           }
          ],
          "choropleth": [
           {
            "colorbar": {
             "outlinewidth": 0,
             "ticks": ""
            },
            "type": "choropleth"
           }
          ],
          "contour": [
           {
            "colorbar": {
             "outlinewidth": 0,
             "ticks": ""
            },
            "colorscale": [
             [
              0,
              "#0d0887"
             ],
             [
              0.1111111111111111,
              "#46039f"
             ],
             [
              0.2222222222222222,
              "#7201a8"
             ],
             [
              0.3333333333333333,
              "#9c179e"
             ],
             [
              0.4444444444444444,
              "#bd3786"
             ],
             [
              0.5555555555555556,
              "#d8576b"
             ],
             [
              0.6666666666666666,
              "#ed7953"
             ],
             [
              0.7777777777777778,
              "#fb9f3a"
             ],
             [
              0.8888888888888888,
              "#fdca26"
             ],
             [
              1,
              "#f0f921"
             ]
            ],
            "type": "contour"
           }
          ],
          "contourcarpet": [
           {
            "colorbar": {
             "outlinewidth": 0,
             "ticks": ""
            },
            "type": "contourcarpet"
           }
          ],
          "heatmap": [
           {
            "colorbar": {
             "outlinewidth": 0,
             "ticks": ""
            },
            "colorscale": [
             [
              0,
              "#0d0887"
             ],
             [
              0.1111111111111111,
              "#46039f"
             ],
             [
              0.2222222222222222,
              "#7201a8"
             ],
             [
              0.3333333333333333,
              "#9c179e"
             ],
             [
              0.4444444444444444,
              "#bd3786"
             ],
             [
              0.5555555555555556,
              "#d8576b"
             ],
             [
              0.6666666666666666,
              "#ed7953"
             ],
             [
              0.7777777777777778,
              "#fb9f3a"
             ],
             [
              0.8888888888888888,
              "#fdca26"
             ],
             [
              1,
              "#f0f921"
             ]
            ],
            "type": "heatmap"
           }
          ],
          "heatmapgl": [
           {
            "colorbar": {
             "outlinewidth": 0,
             "ticks": ""
            },
            "colorscale": [
             [
              0,
              "#0d0887"
             ],
             [
              0.1111111111111111,
              "#46039f"
             ],
             [
              0.2222222222222222,
              "#7201a8"
             ],
             [
              0.3333333333333333,
              "#9c179e"
             ],
             [
              0.4444444444444444,
              "#bd3786"
             ],
             [
              0.5555555555555556,
              "#d8576b"
             ],
             [
              0.6666666666666666,
              "#ed7953"
             ],
             [
              0.7777777777777778,
              "#fb9f3a"
             ],
             [
              0.8888888888888888,
              "#fdca26"
             ],
             [
              1,
              "#f0f921"
             ]
            ],
            "type": "heatmapgl"
           }
          ],
          "histogram": [
           {
            "marker": {
             "pattern": {
              "fillmode": "overlay",
              "size": 10,
              "solidity": 0.2
             }
            },
            "type": "histogram"
           }
          ],
          "histogram2d": [
           {
            "colorbar": {
             "outlinewidth": 0,
             "ticks": ""
            },
            "colorscale": [
             [
              0,
              "#0d0887"
             ],
             [
              0.1111111111111111,
              "#46039f"
             ],
             [
              0.2222222222222222,
              "#7201a8"
             ],
             [
              0.3333333333333333,
              "#9c179e"
             ],
             [
              0.4444444444444444,
              "#bd3786"
             ],
             [
              0.5555555555555556,
              "#d8576b"
             ],
             [
              0.6666666666666666,
              "#ed7953"
             ],
             [
              0.7777777777777778,
              "#fb9f3a"
             ],
             [
              0.8888888888888888,
              "#fdca26"
             ],
             [
              1,
              "#f0f921"
             ]
            ],
            "type": "histogram2d"
           }
          ],
          "histogram2dcontour": [
           {
            "colorbar": {
             "outlinewidth": 0,
             "ticks": ""
            },
            "colorscale": [
             [
              0,
              "#0d0887"
             ],
             [
              0.1111111111111111,
              "#46039f"
             ],
             [
              0.2222222222222222,
              "#7201a8"
             ],
             [
              0.3333333333333333,
              "#9c179e"
             ],
             [
              0.4444444444444444,
              "#bd3786"
             ],
             [
              0.5555555555555556,
              "#d8576b"
             ],
             [
              0.6666666666666666,
              "#ed7953"
             ],
             [
              0.7777777777777778,
              "#fb9f3a"
             ],
             [
              0.8888888888888888,
              "#fdca26"
             ],
             [
              1,
              "#f0f921"
             ]
            ],
            "type": "histogram2dcontour"
           }
          ],
          "mesh3d": [
           {
            "colorbar": {
             "outlinewidth": 0,
             "ticks": ""
            },
            "type": "mesh3d"
           }
          ],
          "parcoords": [
           {
            "line": {
             "colorbar": {
              "outlinewidth": 0,
              "ticks": ""
             }
            },
            "type": "parcoords"
           }
          ],
          "pie": [
           {
            "automargin": true,
            "type": "pie"
           }
          ],
          "scatter": [
           {
            "fillpattern": {
             "fillmode": "overlay",
             "size": 10,
             "solidity": 0.2
            },
            "type": "scatter"
           }
          ],
          "scatter3d": [
           {
            "line": {
             "colorbar": {
              "outlinewidth": 0,
              "ticks": ""
             }
            },
            "marker": {
             "colorbar": {
              "outlinewidth": 0,
              "ticks": ""
             }
            },
            "type": "scatter3d"
           }
          ],
          "scattercarpet": [
           {
            "marker": {
             "colorbar": {
              "outlinewidth": 0,
              "ticks": ""
             }
            },
            "type": "scattercarpet"
           }
          ],
          "scattergeo": [
           {
            "marker": {
             "colorbar": {
              "outlinewidth": 0,
              "ticks": ""
             }
            },
            "type": "scattergeo"
           }
          ],
          "scattergl": [
           {
            "marker": {
             "colorbar": {
              "outlinewidth": 0,
              "ticks": ""
             }
            },
            "type": "scattergl"
           }
          ],
          "scattermapbox": [
           {
            "marker": {
             "colorbar": {
              "outlinewidth": 0,
              "ticks": ""
             }
            },
            "type": "scattermapbox"
           }
          ],
          "scatterpolar": [
           {
            "marker": {
             "colorbar": {
              "outlinewidth": 0,
              "ticks": ""
             }
            },
            "type": "scatterpolar"
           }
          ],
          "scatterpolargl": [
           {
            "marker": {
             "colorbar": {
              "outlinewidth": 0,
              "ticks": ""
             }
            },
            "type": "scatterpolargl"
           }
          ],
          "scatterternary": [
           {
            "marker": {
             "colorbar": {
              "outlinewidth": 0,
              "ticks": ""
             }
            },
            "type": "scatterternary"
           }
          ],
          "surface": [
           {
            "colorbar": {
             "outlinewidth": 0,
             "ticks": ""
            },
            "colorscale": [
             [
              0,
              "#0d0887"
             ],
             [
              0.1111111111111111,
              "#46039f"
             ],
             [
              0.2222222222222222,
              "#7201a8"
             ],
             [
              0.3333333333333333,
              "#9c179e"
             ],
             [
              0.4444444444444444,
              "#bd3786"
             ],
             [
              0.5555555555555556,
              "#d8576b"
             ],
             [
              0.6666666666666666,
              "#ed7953"
             ],
             [
              0.7777777777777778,
              "#fb9f3a"
             ],
             [
              0.8888888888888888,
              "#fdca26"
             ],
             [
              1,
              "#f0f921"
             ]
            ],
            "type": "surface"
           }
          ],
          "table": [
           {
            "cells": {
             "fill": {
              "color": "#EBF0F8"
             },
             "line": {
              "color": "white"
             }
            },
            "header": {
             "fill": {
              "color": "#C8D4E3"
             },
             "line": {
              "color": "white"
             }
            },
            "type": "table"
           }
          ]
         },
         "layout": {
          "annotationdefaults": {
           "arrowcolor": "#2a3f5f",
           "arrowhead": 0,
           "arrowwidth": 1
          },
          "autotypenumbers": "strict",
          "coloraxis": {
           "colorbar": {
            "outlinewidth": 0,
            "ticks": ""
           }
          },
          "colorscale": {
           "diverging": [
            [
             0,
             "#8e0152"
            ],
            [
             0.1,
             "#c51b7d"
            ],
            [
             0.2,
             "#de77ae"
            ],
            [
             0.3,
             "#f1b6da"
            ],
            [
             0.4,
             "#fde0ef"
            ],
            [
             0.5,
             "#f7f7f7"
            ],
            [
             0.6,
             "#e6f5d0"
            ],
            [
             0.7,
             "#b8e186"
            ],
            [
             0.8,
             "#7fbc41"
            ],
            [
             0.9,
             "#4d9221"
            ],
            [
             1,
             "#276419"
            ]
           ],
           "sequential": [
            [
             0,
             "#0d0887"
            ],
            [
             0.1111111111111111,
             "#46039f"
            ],
            [
             0.2222222222222222,
             "#7201a8"
            ],
            [
             0.3333333333333333,
             "#9c179e"
            ],
            [
             0.4444444444444444,
             "#bd3786"
            ],
            [
             0.5555555555555556,
             "#d8576b"
            ],
            [
             0.6666666666666666,
             "#ed7953"
            ],
            [
             0.7777777777777778,
             "#fb9f3a"
            ],
            [
             0.8888888888888888,
             "#fdca26"
            ],
            [
             1,
             "#f0f921"
            ]
           ],
           "sequentialminus": [
            [
             0,
             "#0d0887"
            ],
            [
             0.1111111111111111,
             "#46039f"
            ],
            [
             0.2222222222222222,
             "#7201a8"
            ],
            [
             0.3333333333333333,
             "#9c179e"
            ],
            [
             0.4444444444444444,
             "#bd3786"
            ],
            [
             0.5555555555555556,
             "#d8576b"
            ],
            [
             0.6666666666666666,
             "#ed7953"
            ],
            [
             0.7777777777777778,
             "#fb9f3a"
            ],
            [
             0.8888888888888888,
             "#fdca26"
            ],
            [
             1,
             "#f0f921"
            ]
           ]
          },
          "colorway": [
           "#636efa",
           "#EF553B",
           "#00cc96",
           "#ab63fa",
           "#FFA15A",
           "#19d3f3",
           "#FF6692",
           "#B6E880",
           "#FF97FF",
           "#FECB52"
          ],
          "font": {
           "color": "#2a3f5f"
          },
          "geo": {
           "bgcolor": "white",
           "lakecolor": "white",
           "landcolor": "#E5ECF6",
           "showlakes": true,
           "showland": true,
           "subunitcolor": "white"
          },
          "hoverlabel": {
           "align": "left"
          },
          "hovermode": "closest",
          "mapbox": {
           "style": "light"
          },
          "paper_bgcolor": "white",
          "plot_bgcolor": "#E5ECF6",
          "polar": {
           "angularaxis": {
            "gridcolor": "white",
            "linecolor": "white",
            "ticks": ""
           },
           "bgcolor": "#E5ECF6",
           "radialaxis": {
            "gridcolor": "white",
            "linecolor": "white",
            "ticks": ""
           }
          },
          "scene": {
           "xaxis": {
            "backgroundcolor": "#E5ECF6",
            "gridcolor": "white",
            "gridwidth": 2,
            "linecolor": "white",
            "showbackground": true,
            "ticks": "",
            "zerolinecolor": "white"
           },
           "yaxis": {
            "backgroundcolor": "#E5ECF6",
            "gridcolor": "white",
            "gridwidth": 2,
            "linecolor": "white",
            "showbackground": true,
            "ticks": "",
            "zerolinecolor": "white"
           },
           "zaxis": {
            "backgroundcolor": "#E5ECF6",
            "gridcolor": "white",
            "gridwidth": 2,
            "linecolor": "white",
            "showbackground": true,
            "ticks": "",
            "zerolinecolor": "white"
           }
          },
          "shapedefaults": {
           "line": {
            "color": "#2a3f5f"
           }
          },
          "ternary": {
           "aaxis": {
            "gridcolor": "white",
            "linecolor": "white",
            "ticks": ""
           },
           "baxis": {
            "gridcolor": "white",
            "linecolor": "white",
            "ticks": ""
           },
           "bgcolor": "#E5ECF6",
           "caxis": {
            "gridcolor": "white",
            "linecolor": "white",
            "ticks": ""
           }
          },
          "title": {
           "x": 0.05
          },
          "xaxis": {
           "automargin": true,
           "gridcolor": "white",
           "linecolor": "white",
           "ticks": "",
           "title": {
            "standoff": 15
           },
           "zerolinecolor": "white",
           "zerolinewidth": 2
          },
          "yaxis": {
           "automargin": true,
           "gridcolor": "white",
           "linecolor": "white",
           "ticks": "",
           "title": {
            "standoff": 15
           },
           "zerolinecolor": "white",
           "zerolinewidth": 2
          }
         }
        },
        "title": {
         "text": "Price distribution"
        },
        "xaxis": {
         "anchor": "y",
         "domain": [
          0,
          1
         ],
         "title": {
          "text": "Price"
         }
        },
        "yaxis": {
         "anchor": "x",
         "domain": [
          0,
          1
         ]
        }
       }
      }
     },
     "metadata": {},
     "output_type": "display_data"
    }
   ],
   "source": [
    "print(df[df.Price <= 360].shape[0])\n",
    "px.box(df,'Price', title=f'Price distribution')"
   ]
  },
  {
   "cell_type": "code",
   "execution_count": null,
   "metadata": {},
   "outputs": [],
   "source": [
    "df[df.Price >= 176].shape[0] / df.shape[0]"
   ]
  },
  {
   "cell_type": "code",
   "execution_count": 21,
   "metadata": {},
   "outputs": [
    {
     "data": {
      "application/vnd.plotly.v1+json": {
       "config": {
        "plotlyServerURL": "https://plot.ly"
       },
       "data": [
        {
         "alignmentgroup": "True",
         "bingroup": "x",
         "hovertemplate": "Price=%{x}<br>count=%{y}<extra></extra>",
         "legendgroup": "",
         "marker": {
          "color": "#636efa",
          "pattern": {
           "shape": ""
          }
         },
         "name": "",
         "offsetgroup": "",
         "orientation": "v",
         "showlegend": false,
         "type": "histogram",
         "x": [
          147,
          170,
          69,
          2348,
          130,
          361,
          280,
          249,
          168,
          144,
          329,
          105,
          147,
          170,
          290,
          295,
          154,
          99,
          201,
          229,
          2348,
          229,
          144,
          163,
          258,
          342,
          228,
          559,
          0,
          139,
          389,
          268,
          179,
          283,
          317,
          160,
          327,
          393,
          159,
          307,
          177,
          580,
          329,
          239,
          259,
          83,
          2348,
          2348,
          258,
          192,
          229,
          350,
          299,
          399,
          197,
          219,
          101,
          399,
          350,
          684,
          170,
          147,
          229,
          144,
          339,
          588,
          399,
          40,
          319,
          70,
          136,
          198,
          128,
          309,
          219,
          589,
          249,
          249,
          499,
          169,
          2348,
          2348,
          69,
          163,
          136,
          230,
          97,
          134,
          83,
          197,
          398,
          322,
          399,
          177,
          147,
          579,
          166,
          1049,
          168,
          54,
          69,
          650,
          699,
          912,
          94,
          649,
          329,
          336,
          204,
          250,
          349,
          198,
          149,
          439,
          340,
          58,
          350,
          399,
          684,
          101,
          170,
          147,
          2348,
          229,
          89,
          349,
          347,
          131,
          336,
          498,
          179,
          70,
          63,
          197,
          145,
          665,
          141,
          135,
          198,
          215,
          2348,
          144,
          69,
          163,
          119,
          1865,
          134,
          689,
          142,
          579,
          249,
          199,
          325,
          166,
          255,
          38,
          1200,
          280,
          111,
          99,
          239,
          71,
          239,
          216,
          225,
          227,
          210,
          455,
          80,
          45,
          439,
          560,
          310,
          51,
          230,
          125,
          350,
          399,
          684,
          101,
          170,
          147,
          2348,
          229,
          450,
          349,
          609,
          80,
          230,
          118,
          1099,
          397,
          163,
          179,
          279,
          1540,
          749,
          327,
          178,
          89,
          2348,
          144,
          69,
          163,
          129,
          198,
          162,
          40,
          349,
          335,
          81,
          65,
          590,
          209,
          799,
          225,
          669,
          80,
          167,
          1421,
          1499,
          150,
          140,
          130,
          50,
          157,
          847,
          1289,
          65,
          711,
          159,
          130,
          84,
          679,
          239,
          142,
          399,
          350,
          101,
          684,
          170,
          147,
          2348,
          229,
          334,
          390,
          216,
          185,
          71,
          71,
          142,
          145,
          116,
          239,
          569,
          637,
          64,
          615,
          0,
          142,
          2348,
          144,
          163,
          69,
          449,
          291,
          125,
          378,
          399,
          198,
          225,
          349,
          574,
          449,
          169,
          100,
          154,
          799,
          121,
          329,
          309,
          1105,
          85,
          499,
          379,
          609,
          71,
          0,
          43,
          299,
          249,
          650,
          142,
          249,
          249,
          159,
          399,
          83,
          684,
          88,
          170,
          147,
          2348,
          229,
          82,
          828,
          168,
          416,
          225,
          449,
          249,
          129,
          235,
          671,
          299,
          84,
          273,
          377,
          163,
          996,
          2348,
          144,
          69,
          163,
          222,
          249,
          499,
          238,
          34,
          119,
          241,
          876,
          219,
          350,
          40,
          358,
          188,
          65,
          379,
          339,
          1375,
          85,
          60,
          172,
          42,
          154,
          304,
          55,
          278,
          99,
          127,
          53,
          279,
          115,
          599,
          2899,
          399,
          350,
          684,
          101,
          170,
          147,
          229,
          2348,
          142,
          93,
          149,
          329,
          40,
          287,
          197,
          238,
          241,
          316,
          439,
          121,
          587,
          363,
          114,
          643,
          2348,
          144,
          163,
          69,
          155,
          129,
          399,
          350,
          684,
          101
         ],
         "xaxis": "x",
         "yaxis": "y"
        }
       ],
       "layout": {
        "barmode": "relative",
        "legend": {
         "tracegroupgap": 0
        },
        "template": {
         "data": {
          "bar": [
           {
            "error_x": {
             "color": "#2a3f5f"
            },
            "error_y": {
             "color": "#2a3f5f"
            },
            "marker": {
             "line": {
              "color": "#E5ECF6",
              "width": 0.5
             },
             "pattern": {
              "fillmode": "overlay",
              "size": 10,
              "solidity": 0.2
             }
            },
            "type": "bar"
           }
          ],
          "barpolar": [
           {
            "marker": {
             "line": {
              "color": "#E5ECF6",
              "width": 0.5
             },
             "pattern": {
              "fillmode": "overlay",
              "size": 10,
              "solidity": 0.2
             }
            },
            "type": "barpolar"
           }
          ],
          "carpet": [
           {
            "aaxis": {
             "endlinecolor": "#2a3f5f",
             "gridcolor": "white",
             "linecolor": "white",
             "minorgridcolor": "white",
             "startlinecolor": "#2a3f5f"
            },
            "baxis": {
             "endlinecolor": "#2a3f5f",
             "gridcolor": "white",
             "linecolor": "white",
             "minorgridcolor": "white",
             "startlinecolor": "#2a3f5f"
            },
            "type": "carpet"
           }
          ],
          "choropleth": [
           {
            "colorbar": {
             "outlinewidth": 0,
             "ticks": ""
            },
            "type": "choropleth"
           }
          ],
          "contour": [
           {
            "colorbar": {
             "outlinewidth": 0,
             "ticks": ""
            },
            "colorscale": [
             [
              0,
              "#0d0887"
             ],
             [
              0.1111111111111111,
              "#46039f"
             ],
             [
              0.2222222222222222,
              "#7201a8"
             ],
             [
              0.3333333333333333,
              "#9c179e"
             ],
             [
              0.4444444444444444,
              "#bd3786"
             ],
             [
              0.5555555555555556,
              "#d8576b"
             ],
             [
              0.6666666666666666,
              "#ed7953"
             ],
             [
              0.7777777777777778,
              "#fb9f3a"
             ],
             [
              0.8888888888888888,
              "#fdca26"
             ],
             [
              1,
              "#f0f921"
             ]
            ],
            "type": "contour"
           }
          ],
          "contourcarpet": [
           {
            "colorbar": {
             "outlinewidth": 0,
             "ticks": ""
            },
            "type": "contourcarpet"
           }
          ],
          "heatmap": [
           {
            "colorbar": {
             "outlinewidth": 0,
             "ticks": ""
            },
            "colorscale": [
             [
              0,
              "#0d0887"
             ],
             [
              0.1111111111111111,
              "#46039f"
             ],
             [
              0.2222222222222222,
              "#7201a8"
             ],
             [
              0.3333333333333333,
              "#9c179e"
             ],
             [
              0.4444444444444444,
              "#bd3786"
             ],
             [
              0.5555555555555556,
              "#d8576b"
             ],
             [
              0.6666666666666666,
              "#ed7953"
             ],
             [
              0.7777777777777778,
              "#fb9f3a"
             ],
             [
              0.8888888888888888,
              "#fdca26"
             ],
             [
              1,
              "#f0f921"
             ]
            ],
            "type": "heatmap"
           }
          ],
          "heatmapgl": [
           {
            "colorbar": {
             "outlinewidth": 0,
             "ticks": ""
            },
            "colorscale": [
             [
              0,
              "#0d0887"
             ],
             [
              0.1111111111111111,
              "#46039f"
             ],
             [
              0.2222222222222222,
              "#7201a8"
             ],
             [
              0.3333333333333333,
              "#9c179e"
             ],
             [
              0.4444444444444444,
              "#bd3786"
             ],
             [
              0.5555555555555556,
              "#d8576b"
             ],
             [
              0.6666666666666666,
              "#ed7953"
             ],
             [
              0.7777777777777778,
              "#fb9f3a"
             ],
             [
              0.8888888888888888,
              "#fdca26"
             ],
             [
              1,
              "#f0f921"
             ]
            ],
            "type": "heatmapgl"
           }
          ],
          "histogram": [
           {
            "marker": {
             "pattern": {
              "fillmode": "overlay",
              "size": 10,
              "solidity": 0.2
             }
            },
            "type": "histogram"
           }
          ],
          "histogram2d": [
           {
            "colorbar": {
             "outlinewidth": 0,
             "ticks": ""
            },
            "colorscale": [
             [
              0,
              "#0d0887"
             ],
             [
              0.1111111111111111,
              "#46039f"
             ],
             [
              0.2222222222222222,
              "#7201a8"
             ],
             [
              0.3333333333333333,
              "#9c179e"
             ],
             [
              0.4444444444444444,
              "#bd3786"
             ],
             [
              0.5555555555555556,
              "#d8576b"
             ],
             [
              0.6666666666666666,
              "#ed7953"
             ],
             [
              0.7777777777777778,
              "#fb9f3a"
             ],
             [
              0.8888888888888888,
              "#fdca26"
             ],
             [
              1,
              "#f0f921"
             ]
            ],
            "type": "histogram2d"
           }
          ],
          "histogram2dcontour": [
           {
            "colorbar": {
             "outlinewidth": 0,
             "ticks": ""
            },
            "colorscale": [
             [
              0,
              "#0d0887"
             ],
             [
              0.1111111111111111,
              "#46039f"
             ],
             [
              0.2222222222222222,
              "#7201a8"
             ],
             [
              0.3333333333333333,
              "#9c179e"
             ],
             [
              0.4444444444444444,
              "#bd3786"
             ],
             [
              0.5555555555555556,
              "#d8576b"
             ],
             [
              0.6666666666666666,
              "#ed7953"
             ],
             [
              0.7777777777777778,
              "#fb9f3a"
             ],
             [
              0.8888888888888888,
              "#fdca26"
             ],
             [
              1,
              "#f0f921"
             ]
            ],
            "type": "histogram2dcontour"
           }
          ],
          "mesh3d": [
           {
            "colorbar": {
             "outlinewidth": 0,
             "ticks": ""
            },
            "type": "mesh3d"
           }
          ],
          "parcoords": [
           {
            "line": {
             "colorbar": {
              "outlinewidth": 0,
              "ticks": ""
             }
            },
            "type": "parcoords"
           }
          ],
          "pie": [
           {
            "automargin": true,
            "type": "pie"
           }
          ],
          "scatter": [
           {
            "fillpattern": {
             "fillmode": "overlay",
             "size": 10,
             "solidity": 0.2
            },
            "type": "scatter"
           }
          ],
          "scatter3d": [
           {
            "line": {
             "colorbar": {
              "outlinewidth": 0,
              "ticks": ""
             }
            },
            "marker": {
             "colorbar": {
              "outlinewidth": 0,
              "ticks": ""
             }
            },
            "type": "scatter3d"
           }
          ],
          "scattercarpet": [
           {
            "marker": {
             "colorbar": {
              "outlinewidth": 0,
              "ticks": ""
             }
            },
            "type": "scattercarpet"
           }
          ],
          "scattergeo": [
           {
            "marker": {
             "colorbar": {
              "outlinewidth": 0,
              "ticks": ""
             }
            },
            "type": "scattergeo"
           }
          ],
          "scattergl": [
           {
            "marker": {
             "colorbar": {
              "outlinewidth": 0,
              "ticks": ""
             }
            },
            "type": "scattergl"
           }
          ],
          "scattermapbox": [
           {
            "marker": {
             "colorbar": {
              "outlinewidth": 0,
              "ticks": ""
             }
            },
            "type": "scattermapbox"
           }
          ],
          "scatterpolar": [
           {
            "marker": {
             "colorbar": {
              "outlinewidth": 0,
              "ticks": ""
             }
            },
            "type": "scatterpolar"
           }
          ],
          "scatterpolargl": [
           {
            "marker": {
             "colorbar": {
              "outlinewidth": 0,
              "ticks": ""
             }
            },
            "type": "scatterpolargl"
           }
          ],
          "scatterternary": [
           {
            "marker": {
             "colorbar": {
              "outlinewidth": 0,
              "ticks": ""
             }
            },
            "type": "scatterternary"
           }
          ],
          "surface": [
           {
            "colorbar": {
             "outlinewidth": 0,
             "ticks": ""
            },
            "colorscale": [
             [
              0,
              "#0d0887"
             ],
             [
              0.1111111111111111,
              "#46039f"
             ],
             [
              0.2222222222222222,
              "#7201a8"
             ],
             [
              0.3333333333333333,
              "#9c179e"
             ],
             [
              0.4444444444444444,
              "#bd3786"
             ],
             [
              0.5555555555555556,
              "#d8576b"
             ],
             [
              0.6666666666666666,
              "#ed7953"
             ],
             [
              0.7777777777777778,
              "#fb9f3a"
             ],
             [
              0.8888888888888888,
              "#fdca26"
             ],
             [
              1,
              "#f0f921"
             ]
            ],
            "type": "surface"
           }
          ],
          "table": [
           {
            "cells": {
             "fill": {
              "color": "#EBF0F8"
             },
             "line": {
              "color": "white"
             }
            },
            "header": {
             "fill": {
              "color": "#C8D4E3"
             },
             "line": {
              "color": "white"
             }
            },
            "type": "table"
           }
          ]
         },
         "layout": {
          "annotationdefaults": {
           "arrowcolor": "#2a3f5f",
           "arrowhead": 0,
           "arrowwidth": 1
          },
          "autotypenumbers": "strict",
          "coloraxis": {
           "colorbar": {
            "outlinewidth": 0,
            "ticks": ""
           }
          },
          "colorscale": {
           "diverging": [
            [
             0,
             "#8e0152"
            ],
            [
             0.1,
             "#c51b7d"
            ],
            [
             0.2,
             "#de77ae"
            ],
            [
             0.3,
             "#f1b6da"
            ],
            [
             0.4,
             "#fde0ef"
            ],
            [
             0.5,
             "#f7f7f7"
            ],
            [
             0.6,
             "#e6f5d0"
            ],
            [
             0.7,
             "#b8e186"
            ],
            [
             0.8,
             "#7fbc41"
            ],
            [
             0.9,
             "#4d9221"
            ],
            [
             1,
             "#276419"
            ]
           ],
           "sequential": [
            [
             0,
             "#0d0887"
            ],
            [
             0.1111111111111111,
             "#46039f"
            ],
            [
             0.2222222222222222,
             "#7201a8"
            ],
            [
             0.3333333333333333,
             "#9c179e"
            ],
            [
             0.4444444444444444,
             "#bd3786"
            ],
            [
             0.5555555555555556,
             "#d8576b"
            ],
            [
             0.6666666666666666,
             "#ed7953"
            ],
            [
             0.7777777777777778,
             "#fb9f3a"
            ],
            [
             0.8888888888888888,
             "#fdca26"
            ],
            [
             1,
             "#f0f921"
            ]
           ],
           "sequentialminus": [
            [
             0,
             "#0d0887"
            ],
            [
             0.1111111111111111,
             "#46039f"
            ],
            [
             0.2222222222222222,
             "#7201a8"
            ],
            [
             0.3333333333333333,
             "#9c179e"
            ],
            [
             0.4444444444444444,
             "#bd3786"
            ],
            [
             0.5555555555555556,
             "#d8576b"
            ],
            [
             0.6666666666666666,
             "#ed7953"
            ],
            [
             0.7777777777777778,
             "#fb9f3a"
            ],
            [
             0.8888888888888888,
             "#fdca26"
            ],
            [
             1,
             "#f0f921"
            ]
           ]
          },
          "colorway": [
           "#636efa",
           "#EF553B",
           "#00cc96",
           "#ab63fa",
           "#FFA15A",
           "#19d3f3",
           "#FF6692",
           "#B6E880",
           "#FF97FF",
           "#FECB52"
          ],
          "font": {
           "color": "#2a3f5f"
          },
          "geo": {
           "bgcolor": "white",
           "lakecolor": "white",
           "landcolor": "#E5ECF6",
           "showlakes": true,
           "showland": true,
           "subunitcolor": "white"
          },
          "hoverlabel": {
           "align": "left"
          },
          "hovermode": "closest",
          "mapbox": {
           "style": "light"
          },
          "paper_bgcolor": "white",
          "plot_bgcolor": "#E5ECF6",
          "polar": {
           "angularaxis": {
            "gridcolor": "white",
            "linecolor": "white",
            "ticks": ""
           },
           "bgcolor": "#E5ECF6",
           "radialaxis": {
            "gridcolor": "white",
            "linecolor": "white",
            "ticks": ""
           }
          },
          "scene": {
           "xaxis": {
            "backgroundcolor": "#E5ECF6",
            "gridcolor": "white",
            "gridwidth": 2,
            "linecolor": "white",
            "showbackground": true,
            "ticks": "",
            "zerolinecolor": "white"
           },
           "yaxis": {
            "backgroundcolor": "#E5ECF6",
            "gridcolor": "white",
            "gridwidth": 2,
            "linecolor": "white",
            "showbackground": true,
            "ticks": "",
            "zerolinecolor": "white"
           },
           "zaxis": {
            "backgroundcolor": "#E5ECF6",
            "gridcolor": "white",
            "gridwidth": 2,
            "linecolor": "white",
            "showbackground": true,
            "ticks": "",
            "zerolinecolor": "white"
           }
          },
          "shapedefaults": {
           "line": {
            "color": "#2a3f5f"
           }
          },
          "ternary": {
           "aaxis": {
            "gridcolor": "white",
            "linecolor": "white",
            "ticks": ""
           },
           "baxis": {
            "gridcolor": "white",
            "linecolor": "white",
            "ticks": ""
           },
           "bgcolor": "#E5ECF6",
           "caxis": {
            "gridcolor": "white",
            "linecolor": "white",
            "ticks": ""
           }
          },
          "title": {
           "x": 0.05
          },
          "xaxis": {
           "automargin": true,
           "gridcolor": "white",
           "linecolor": "white",
           "ticks": "",
           "title": {
            "standoff": 15
           },
           "zerolinecolor": "white",
           "zerolinewidth": 2
          },
          "yaxis": {
           "automargin": true,
           "gridcolor": "white",
           "linecolor": "white",
           "ticks": "",
           "title": {
            "standoff": 15
           },
           "zerolinecolor": "white",
           "zerolinewidth": 2
          }
         }
        },
        "title": {
         "text": "Price distribution"
        },
        "xaxis": {
         "anchor": "y",
         "domain": [
          0,
          1
         ],
         "title": {
          "text": "Price"
         }
        },
        "yaxis": {
         "anchor": "x",
         "domain": [
          0,
          1
         ],
         "title": {
          "text": "count"
         }
        }
       }
      }
     },
     "metadata": {},
     "output_type": "display_data"
    },
    {
     "data": {
      "application/vnd.plotly.v1+json": {
       "config": {
        "plotlyServerURL": "https://plot.ly"
       },
       "data": [
        {
         "alignmentgroup": "True",
         "bingroup": "x",
         "hovertemplate": "Price=%{x}<br>count=%{y}<extra></extra>",
         "legendgroup": "",
         "marker": {
          "color": "#636efa",
          "pattern": {
           "shape": ""
          }
         },
         "name": "",
         "nbinsx": 10,
         "offsetgroup": "",
         "orientation": "v",
         "showlegend": false,
         "texttemplate": "%{value}",
         "type": "histogram",
         "x": [
          2348,
          2348,
          559,
          389,
          393,
          580,
          2348,
          2348,
          399,
          399,
          684,
          588,
          399,
          589,
          499,
          2348,
          2348,
          398,
          399,
          579,
          1049,
          650,
          699,
          912,
          649,
          439,
          399,
          684,
          2348,
          498,
          665,
          2348,
          1865,
          689,
          579,
          1200,
          455,
          439,
          560,
          399,
          684,
          2348,
          450,
          609,
          1099,
          397,
          1540,
          749,
          2348,
          590,
          799,
          669,
          1421,
          1499,
          847,
          1289,
          711,
          679,
          399,
          684,
          2348,
          390,
          569,
          637,
          615,
          2348,
          449,
          399,
          574,
          449,
          799,
          1105,
          499,
          609,
          650,
          399,
          684,
          2348,
          828,
          416,
          449,
          671,
          996,
          2348,
          499,
          876,
          1375,
          599,
          2899,
          399,
          684,
          2348,
          439,
          587,
          643,
          2348,
          399,
          684
         ],
         "xaxis": "x",
         "yaxis": "y"
        }
       ],
       "layout": {
        "barmode": "relative",
        "legend": {
         "tracegroupgap": 0
        },
        "template": {
         "data": {
          "bar": [
           {
            "error_x": {
             "color": "#2a3f5f"
            },
            "error_y": {
             "color": "#2a3f5f"
            },
            "marker": {
             "line": {
              "color": "#E5ECF6",
              "width": 0.5
             },
             "pattern": {
              "fillmode": "overlay",
              "size": 10,
              "solidity": 0.2
             }
            },
            "type": "bar"
           }
          ],
          "barpolar": [
           {
            "marker": {
             "line": {
              "color": "#E5ECF6",
              "width": 0.5
             },
             "pattern": {
              "fillmode": "overlay",
              "size": 10,
              "solidity": 0.2
             }
            },
            "type": "barpolar"
           }
          ],
          "carpet": [
           {
            "aaxis": {
             "endlinecolor": "#2a3f5f",
             "gridcolor": "white",
             "linecolor": "white",
             "minorgridcolor": "white",
             "startlinecolor": "#2a3f5f"
            },
            "baxis": {
             "endlinecolor": "#2a3f5f",
             "gridcolor": "white",
             "linecolor": "white",
             "minorgridcolor": "white",
             "startlinecolor": "#2a3f5f"
            },
            "type": "carpet"
           }
          ],
          "choropleth": [
           {
            "colorbar": {
             "outlinewidth": 0,
             "ticks": ""
            },
            "type": "choropleth"
           }
          ],
          "contour": [
           {
            "colorbar": {
             "outlinewidth": 0,
             "ticks": ""
            },
            "colorscale": [
             [
              0,
              "#0d0887"
             ],
             [
              0.1111111111111111,
              "#46039f"
             ],
             [
              0.2222222222222222,
              "#7201a8"
             ],
             [
              0.3333333333333333,
              "#9c179e"
             ],
             [
              0.4444444444444444,
              "#bd3786"
             ],
             [
              0.5555555555555556,
              "#d8576b"
             ],
             [
              0.6666666666666666,
              "#ed7953"
             ],
             [
              0.7777777777777778,
              "#fb9f3a"
             ],
             [
              0.8888888888888888,
              "#fdca26"
             ],
             [
              1,
              "#f0f921"
             ]
            ],
            "type": "contour"
           }
          ],
          "contourcarpet": [
           {
            "colorbar": {
             "outlinewidth": 0,
             "ticks": ""
            },
            "type": "contourcarpet"
           }
          ],
          "heatmap": [
           {
            "colorbar": {
             "outlinewidth": 0,
             "ticks": ""
            },
            "colorscale": [
             [
              0,
              "#0d0887"
             ],
             [
              0.1111111111111111,
              "#46039f"
             ],
             [
              0.2222222222222222,
              "#7201a8"
             ],
             [
              0.3333333333333333,
              "#9c179e"
             ],
             [
              0.4444444444444444,
              "#bd3786"
             ],
             [
              0.5555555555555556,
              "#d8576b"
             ],
             [
              0.6666666666666666,
              "#ed7953"
             ],
             [
              0.7777777777777778,
              "#fb9f3a"
             ],
             [
              0.8888888888888888,
              "#fdca26"
             ],
             [
              1,
              "#f0f921"
             ]
            ],
            "type": "heatmap"
           }
          ],
          "heatmapgl": [
           {
            "colorbar": {
             "outlinewidth": 0,
             "ticks": ""
            },
            "colorscale": [
             [
              0,
              "#0d0887"
             ],
             [
              0.1111111111111111,
              "#46039f"
             ],
             [
              0.2222222222222222,
              "#7201a8"
             ],
             [
              0.3333333333333333,
              "#9c179e"
             ],
             [
              0.4444444444444444,
              "#bd3786"
             ],
             [
              0.5555555555555556,
              "#d8576b"
             ],
             [
              0.6666666666666666,
              "#ed7953"
             ],
             [
              0.7777777777777778,
              "#fb9f3a"
             ],
             [
              0.8888888888888888,
              "#fdca26"
             ],
             [
              1,
              "#f0f921"
             ]
            ],
            "type": "heatmapgl"
           }
          ],
          "histogram": [
           {
            "marker": {
             "pattern": {
              "fillmode": "overlay",
              "size": 10,
              "solidity": 0.2
             }
            },
            "type": "histogram"
           }
          ],
          "histogram2d": [
           {
            "colorbar": {
             "outlinewidth": 0,
             "ticks": ""
            },
            "colorscale": [
             [
              0,
              "#0d0887"
             ],
             [
              0.1111111111111111,
              "#46039f"
             ],
             [
              0.2222222222222222,
              "#7201a8"
             ],
             [
              0.3333333333333333,
              "#9c179e"
             ],
             [
              0.4444444444444444,
              "#bd3786"
             ],
             [
              0.5555555555555556,
              "#d8576b"
             ],
             [
              0.6666666666666666,
              "#ed7953"
             ],
             [
              0.7777777777777778,
              "#fb9f3a"
             ],
             [
              0.8888888888888888,
              "#fdca26"
             ],
             [
              1,
              "#f0f921"
             ]
            ],
            "type": "histogram2d"
           }
          ],
          "histogram2dcontour": [
           {
            "colorbar": {
             "outlinewidth": 0,
             "ticks": ""
            },
            "colorscale": [
             [
              0,
              "#0d0887"
             ],
             [
              0.1111111111111111,
              "#46039f"
             ],
             [
              0.2222222222222222,
              "#7201a8"
             ],
             [
              0.3333333333333333,
              "#9c179e"
             ],
             [
              0.4444444444444444,
              "#bd3786"
             ],
             [
              0.5555555555555556,
              "#d8576b"
             ],
             [
              0.6666666666666666,
              "#ed7953"
             ],
             [
              0.7777777777777778,
              "#fb9f3a"
             ],
             [
              0.8888888888888888,
              "#fdca26"
             ],
             [
              1,
              "#f0f921"
             ]
            ],
            "type": "histogram2dcontour"
           }
          ],
          "mesh3d": [
           {
            "colorbar": {
             "outlinewidth": 0,
             "ticks": ""
            },
            "type": "mesh3d"
           }
          ],
          "parcoords": [
           {
            "line": {
             "colorbar": {
              "outlinewidth": 0,
              "ticks": ""
             }
            },
            "type": "parcoords"
           }
          ],
          "pie": [
           {
            "automargin": true,
            "type": "pie"
           }
          ],
          "scatter": [
           {
            "fillpattern": {
             "fillmode": "overlay",
             "size": 10,
             "solidity": 0.2
            },
            "type": "scatter"
           }
          ],
          "scatter3d": [
           {
            "line": {
             "colorbar": {
              "outlinewidth": 0,
              "ticks": ""
             }
            },
            "marker": {
             "colorbar": {
              "outlinewidth": 0,
              "ticks": ""
             }
            },
            "type": "scatter3d"
           }
          ],
          "scattercarpet": [
           {
            "marker": {
             "colorbar": {
              "outlinewidth": 0,
              "ticks": ""
             }
            },
            "type": "scattercarpet"
           }
          ],
          "scattergeo": [
           {
            "marker": {
             "colorbar": {
              "outlinewidth": 0,
              "ticks": ""
             }
            },
            "type": "scattergeo"
           }
          ],
          "scattergl": [
           {
            "marker": {
             "colorbar": {
              "outlinewidth": 0,
              "ticks": ""
             }
            },
            "type": "scattergl"
           }
          ],
          "scattermapbox": [
           {
            "marker": {
             "colorbar": {
              "outlinewidth": 0,
              "ticks": ""
             }
            },
            "type": "scattermapbox"
           }
          ],
          "scatterpolar": [
           {
            "marker": {
             "colorbar": {
              "outlinewidth": 0,
              "ticks": ""
             }
            },
            "type": "scatterpolar"
           }
          ],
          "scatterpolargl": [
           {
            "marker": {
             "colorbar": {
              "outlinewidth": 0,
              "ticks": ""
             }
            },
            "type": "scatterpolargl"
           }
          ],
          "scatterternary": [
           {
            "marker": {
             "colorbar": {
              "outlinewidth": 0,
              "ticks": ""
             }
            },
            "type": "scatterternary"
           }
          ],
          "surface": [
           {
            "colorbar": {
             "outlinewidth": 0,
             "ticks": ""
            },
            "colorscale": [
             [
              0,
              "#0d0887"
             ],
             [
              0.1111111111111111,
              "#46039f"
             ],
             [
              0.2222222222222222,
              "#7201a8"
             ],
             [
              0.3333333333333333,
              "#9c179e"
             ],
             [
              0.4444444444444444,
              "#bd3786"
             ],
             [
              0.5555555555555556,
              "#d8576b"
             ],
             [
              0.6666666666666666,
              "#ed7953"
             ],
             [
              0.7777777777777778,
              "#fb9f3a"
             ],
             [
              0.8888888888888888,
              "#fdca26"
             ],
             [
              1,
              "#f0f921"
             ]
            ],
            "type": "surface"
           }
          ],
          "table": [
           {
            "cells": {
             "fill": {
              "color": "#EBF0F8"
             },
             "line": {
              "color": "white"
             }
            },
            "header": {
             "fill": {
              "color": "#C8D4E3"
             },
             "line": {
              "color": "white"
             }
            },
            "type": "table"
           }
          ]
         },
         "layout": {
          "annotationdefaults": {
           "arrowcolor": "#2a3f5f",
           "arrowhead": 0,
           "arrowwidth": 1
          },
          "autotypenumbers": "strict",
          "coloraxis": {
           "colorbar": {
            "outlinewidth": 0,
            "ticks": ""
           }
          },
          "colorscale": {
           "diverging": [
            [
             0,
             "#8e0152"
            ],
            [
             0.1,
             "#c51b7d"
            ],
            [
             0.2,
             "#de77ae"
            ],
            [
             0.3,
             "#f1b6da"
            ],
            [
             0.4,
             "#fde0ef"
            ],
            [
             0.5,
             "#f7f7f7"
            ],
            [
             0.6,
             "#e6f5d0"
            ],
            [
             0.7,
             "#b8e186"
            ],
            [
             0.8,
             "#7fbc41"
            ],
            [
             0.9,
             "#4d9221"
            ],
            [
             1,
             "#276419"
            ]
           ],
           "sequential": [
            [
             0,
             "#0d0887"
            ],
            [
             0.1111111111111111,
             "#46039f"
            ],
            [
             0.2222222222222222,
             "#7201a8"
            ],
            [
             0.3333333333333333,
             "#9c179e"
            ],
            [
             0.4444444444444444,
             "#bd3786"
            ],
            [
             0.5555555555555556,
             "#d8576b"
            ],
            [
             0.6666666666666666,
             "#ed7953"
            ],
            [
             0.7777777777777778,
             "#fb9f3a"
            ],
            [
             0.8888888888888888,
             "#fdca26"
            ],
            [
             1,
             "#f0f921"
            ]
           ],
           "sequentialminus": [
            [
             0,
             "#0d0887"
            ],
            [
             0.1111111111111111,
             "#46039f"
            ],
            [
             0.2222222222222222,
             "#7201a8"
            ],
            [
             0.3333333333333333,
             "#9c179e"
            ],
            [
             0.4444444444444444,
             "#bd3786"
            ],
            [
             0.5555555555555556,
             "#d8576b"
            ],
            [
             0.6666666666666666,
             "#ed7953"
            ],
            [
             0.7777777777777778,
             "#fb9f3a"
            ],
            [
             0.8888888888888888,
             "#fdca26"
            ],
            [
             1,
             "#f0f921"
            ]
           ]
          },
          "colorway": [
           "#636efa",
           "#EF553B",
           "#00cc96",
           "#ab63fa",
           "#FFA15A",
           "#19d3f3",
           "#FF6692",
           "#B6E880",
           "#FF97FF",
           "#FECB52"
          ],
          "font": {
           "color": "#2a3f5f"
          },
          "geo": {
           "bgcolor": "white",
           "lakecolor": "white",
           "landcolor": "#E5ECF6",
           "showlakes": true,
           "showland": true,
           "subunitcolor": "white"
          },
          "hoverlabel": {
           "align": "left"
          },
          "hovermode": "closest",
          "mapbox": {
           "style": "light"
          },
          "paper_bgcolor": "white",
          "plot_bgcolor": "#E5ECF6",
          "polar": {
           "angularaxis": {
            "gridcolor": "white",
            "linecolor": "white",
            "ticks": ""
           },
           "bgcolor": "#E5ECF6",
           "radialaxis": {
            "gridcolor": "white",
            "linecolor": "white",
            "ticks": ""
           }
          },
          "scene": {
           "xaxis": {
            "backgroundcolor": "#E5ECF6",
            "gridcolor": "white",
            "gridwidth": 2,
            "linecolor": "white",
            "showbackground": true,
            "ticks": "",
            "zerolinecolor": "white"
           },
           "yaxis": {
            "backgroundcolor": "#E5ECF6",
            "gridcolor": "white",
            "gridwidth": 2,
            "linecolor": "white",
            "showbackground": true,
            "ticks": "",
            "zerolinecolor": "white"
           },
           "zaxis": {
            "backgroundcolor": "#E5ECF6",
            "gridcolor": "white",
            "gridwidth": 2,
            "linecolor": "white",
            "showbackground": true,
            "ticks": "",
            "zerolinecolor": "white"
           }
          },
          "shapedefaults": {
           "line": {
            "color": "#2a3f5f"
           }
          },
          "ternary": {
           "aaxis": {
            "gridcolor": "white",
            "linecolor": "white",
            "ticks": ""
           },
           "baxis": {
            "gridcolor": "white",
            "linecolor": "white",
            "ticks": ""
           },
           "bgcolor": "#E5ECF6",
           "caxis": {
            "gridcolor": "white",
            "linecolor": "white",
            "ticks": ""
           }
          },
          "title": {
           "x": 0.05
          },
          "xaxis": {
           "automargin": true,
           "gridcolor": "white",
           "linecolor": "white",
           "ticks": "",
           "title": {
            "standoff": 15
           },
           "zerolinecolor": "white",
           "zerolinewidth": 2
          },
          "yaxis": {
           "automargin": true,
           "gridcolor": "white",
           "linecolor": "white",
           "ticks": "",
           "title": {
            "standoff": 15
           },
           "zerolinecolor": "white",
           "zerolinewidth": 2
          }
         }
        },
        "title": {
         "text": "Price distribution - Prime Products"
        },
        "xaxis": {
         "anchor": "y",
         "domain": [
          0,
          1
         ],
         "title": {
          "text": "Price"
         }
        },
        "yaxis": {
         "anchor": "x",
         "domain": [
          0,
          1
         ],
         "title": {
          "text": "count"
         }
        }
       }
      }
     },
     "metadata": {},
     "output_type": "display_data"
    },
    {
     "data": {
      "text/html": [
       "<div>\n",
       "<style scoped>\n",
       "    .dataframe tbody tr th:only-of-type {\n",
       "        vertical-align: middle;\n",
       "    }\n",
       "\n",
       "    .dataframe tbody tr th {\n",
       "        vertical-align: top;\n",
       "    }\n",
       "\n",
       "    .dataframe thead th {\n",
       "        text-align: right;\n",
       "    }\n",
       "</style>\n",
       "<table border=\"1\" class=\"dataframe\">\n",
       "  <thead>\n",
       "    <tr style=\"text-align: right;\">\n",
       "      <th></th>\n",
       "      <th>Price</th>\n",
       "      <th>Stars</th>\n",
       "      <th>Ratings</th>\n",
       "    </tr>\n",
       "  </thead>\n",
       "  <tbody>\n",
       "    <tr>\n",
       "      <th>count</th>\n",
       "      <td>98.00</td>\n",
       "      <td>98.00</td>\n",
       "      <td>98.00</td>\n",
       "    </tr>\n",
       "    <tr>\n",
       "      <th>mean</th>\n",
       "      <td>965.68</td>\n",
       "      <td>3.28</td>\n",
       "      <td>1847.58</td>\n",
       "    </tr>\n",
       "    <tr>\n",
       "      <th>std</th>\n",
       "      <td>709.00</td>\n",
       "      <td>1.99</td>\n",
       "      <td>5162.77</td>\n",
       "    </tr>\n",
       "    <tr>\n",
       "      <th>min</th>\n",
       "      <td>389.00</td>\n",
       "      <td>0.00</td>\n",
       "      <td>0.00</td>\n",
       "    </tr>\n",
       "    <tr>\n",
       "      <th>25%</th>\n",
       "      <td>465.75</td>\n",
       "      <td>0.00</td>\n",
       "      <td>0.00</td>\n",
       "    </tr>\n",
       "    <tr>\n",
       "      <th>50%</th>\n",
       "      <td>657.50</td>\n",
       "      <td>4.35</td>\n",
       "      <td>180.00</td>\n",
       "    </tr>\n",
       "    <tr>\n",
       "      <th>75%</th>\n",
       "      <td>1103.50</td>\n",
       "      <td>4.50</td>\n",
       "      <td>943.00</td>\n",
       "    </tr>\n",
       "    <tr>\n",
       "      <th>max</th>\n",
       "      <td>2899.00</td>\n",
       "      <td>5.00</td>\n",
       "      <td>35877.00</td>\n",
       "    </tr>\n",
       "  </tbody>\n",
       "</table>\n",
       "</div>"
      ],
      "text/plain": [
       "         Price  Stars   Ratings\n",
       "count    98.00  98.00     98.00\n",
       "mean    965.68   3.28   1847.58\n",
       "std     709.00   1.99   5162.77\n",
       "min     389.00   0.00      0.00\n",
       "25%     465.75   0.00      0.00\n",
       "50%     657.50   4.35    180.00\n",
       "75%    1103.50   4.50    943.00\n",
       "max    2899.00   5.00  35877.00"
      ]
     },
     "metadata": {},
     "output_type": "display_data"
    },
    {
     "data": {
      "application/vnd.plotly.v1+json": {
       "config": {
        "plotlyServerURL": "https://plot.ly"
       },
       "data": [
        {
         "alignmentgroup": "True",
         "bingroup": "x",
         "hovertemplate": "Price=%{x}<br>count=%{y}<extra></extra>",
         "legendgroup": "",
         "marker": {
          "color": "#636efa",
          "pattern": {
           "shape": ""
          }
         },
         "name": "",
         "nbinsx": 15,
         "offsetgroup": "",
         "orientation": "v",
         "showlegend": false,
         "texttemplate": "%{value}",
         "type": "histogram",
         "x": [
          361,
          280,
          249,
          329,
          290,
          295,
          229,
          229,
          258,
          342,
          268,
          283,
          317,
          327,
          307,
          329,
          239,
          259,
          258,
          229,
          350,
          299,
          350,
          229,
          339,
          319,
          309,
          249,
          249,
          230,
          322,
          329,
          336,
          250,
          349,
          340,
          350,
          229,
          349,
          347,
          336,
          249,
          325,
          255,
          280,
          239,
          239,
          310,
          230,
          350,
          229,
          349,
          230,
          279,
          327,
          349,
          335,
          239,
          350,
          229,
          334,
          239,
          291,
          378,
          349,
          329,
          309,
          379,
          299,
          249,
          249,
          249,
          229,
          249,
          235,
          299,
          273,
          377,
          249,
          238,
          241,
          350,
          358,
          379,
          339,
          304,
          278,
          279,
          350,
          229,
          329,
          287,
          238,
          241,
          316,
          363,
          350
         ],
         "xaxis": "x",
         "yaxis": "y"
        }
       ],
       "layout": {
        "barmode": "relative",
        "legend": {
         "tracegroupgap": 0
        },
        "template": {
         "data": {
          "bar": [
           {
            "error_x": {
             "color": "#2a3f5f"
            },
            "error_y": {
             "color": "#2a3f5f"
            },
            "marker": {
             "line": {
              "color": "#E5ECF6",
              "width": 0.5
             },
             "pattern": {
              "fillmode": "overlay",
              "size": 10,
              "solidity": 0.2
             }
            },
            "type": "bar"
           }
          ],
          "barpolar": [
           {
            "marker": {
             "line": {
              "color": "#E5ECF6",
              "width": 0.5
             },
             "pattern": {
              "fillmode": "overlay",
              "size": 10,
              "solidity": 0.2
             }
            },
            "type": "barpolar"
           }
          ],
          "carpet": [
           {
            "aaxis": {
             "endlinecolor": "#2a3f5f",
             "gridcolor": "white",
             "linecolor": "white",
             "minorgridcolor": "white",
             "startlinecolor": "#2a3f5f"
            },
            "baxis": {
             "endlinecolor": "#2a3f5f",
             "gridcolor": "white",
             "linecolor": "white",
             "minorgridcolor": "white",
             "startlinecolor": "#2a3f5f"
            },
            "type": "carpet"
           }
          ],
          "choropleth": [
           {
            "colorbar": {
             "outlinewidth": 0,
             "ticks": ""
            },
            "type": "choropleth"
           }
          ],
          "contour": [
           {
            "colorbar": {
             "outlinewidth": 0,
             "ticks": ""
            },
            "colorscale": [
             [
              0,
              "#0d0887"
             ],
             [
              0.1111111111111111,
              "#46039f"
             ],
             [
              0.2222222222222222,
              "#7201a8"
             ],
             [
              0.3333333333333333,
              "#9c179e"
             ],
             [
              0.4444444444444444,
              "#bd3786"
             ],
             [
              0.5555555555555556,
              "#d8576b"
             ],
             [
              0.6666666666666666,
              "#ed7953"
             ],
             [
              0.7777777777777778,
              "#fb9f3a"
             ],
             [
              0.8888888888888888,
              "#fdca26"
             ],
             [
              1,
              "#f0f921"
             ]
            ],
            "type": "contour"
           }
          ],
          "contourcarpet": [
           {
            "colorbar": {
             "outlinewidth": 0,
             "ticks": ""
            },
            "type": "contourcarpet"
           }
          ],
          "heatmap": [
           {
            "colorbar": {
             "outlinewidth": 0,
             "ticks": ""
            },
            "colorscale": [
             [
              0,
              "#0d0887"
             ],
             [
              0.1111111111111111,
              "#46039f"
             ],
             [
              0.2222222222222222,
              "#7201a8"
             ],
             [
              0.3333333333333333,
              "#9c179e"
             ],
             [
              0.4444444444444444,
              "#bd3786"
             ],
             [
              0.5555555555555556,
              "#d8576b"
             ],
             [
              0.6666666666666666,
              "#ed7953"
             ],
             [
              0.7777777777777778,
              "#fb9f3a"
             ],
             [
              0.8888888888888888,
              "#fdca26"
             ],
             [
              1,
              "#f0f921"
             ]
            ],
            "type": "heatmap"
           }
          ],
          "heatmapgl": [
           {
            "colorbar": {
             "outlinewidth": 0,
             "ticks": ""
            },
            "colorscale": [
             [
              0,
              "#0d0887"
             ],
             [
              0.1111111111111111,
              "#46039f"
             ],
             [
              0.2222222222222222,
              "#7201a8"
             ],
             [
              0.3333333333333333,
              "#9c179e"
             ],
             [
              0.4444444444444444,
              "#bd3786"
             ],
             [
              0.5555555555555556,
              "#d8576b"
             ],
             [
              0.6666666666666666,
              "#ed7953"
             ],
             [
              0.7777777777777778,
              "#fb9f3a"
             ],
             [
              0.8888888888888888,
              "#fdca26"
             ],
             [
              1,
              "#f0f921"
             ]
            ],
            "type": "heatmapgl"
           }
          ],
          "histogram": [
           {
            "marker": {
             "pattern": {
              "fillmode": "overlay",
              "size": 10,
              "solidity": 0.2
             }
            },
            "type": "histogram"
           }
          ],
          "histogram2d": [
           {
            "colorbar": {
             "outlinewidth": 0,
             "ticks": ""
            },
            "colorscale": [
             [
              0,
              "#0d0887"
             ],
             [
              0.1111111111111111,
              "#46039f"
             ],
             [
              0.2222222222222222,
              "#7201a8"
             ],
             [
              0.3333333333333333,
              "#9c179e"
             ],
             [
              0.4444444444444444,
              "#bd3786"
             ],
             [
              0.5555555555555556,
              "#d8576b"
             ],
             [
              0.6666666666666666,
              "#ed7953"
             ],
             [
              0.7777777777777778,
              "#fb9f3a"
             ],
             [
              0.8888888888888888,
              "#fdca26"
             ],
             [
              1,
              "#f0f921"
             ]
            ],
            "type": "histogram2d"
           }
          ],
          "histogram2dcontour": [
           {
            "colorbar": {
             "outlinewidth": 0,
             "ticks": ""
            },
            "colorscale": [
             [
              0,
              "#0d0887"
             ],
             [
              0.1111111111111111,
              "#46039f"
             ],
             [
              0.2222222222222222,
              "#7201a8"
             ],
             [
              0.3333333333333333,
              "#9c179e"
             ],
             [
              0.4444444444444444,
              "#bd3786"
             ],
             [
              0.5555555555555556,
              "#d8576b"
             ],
             [
              0.6666666666666666,
              "#ed7953"
             ],
             [
              0.7777777777777778,
              "#fb9f3a"
             ],
             [
              0.8888888888888888,
              "#fdca26"
             ],
             [
              1,
              "#f0f921"
             ]
            ],
            "type": "histogram2dcontour"
           }
          ],
          "mesh3d": [
           {
            "colorbar": {
             "outlinewidth": 0,
             "ticks": ""
            },
            "type": "mesh3d"
           }
          ],
          "parcoords": [
           {
            "line": {
             "colorbar": {
              "outlinewidth": 0,
              "ticks": ""
             }
            },
            "type": "parcoords"
           }
          ],
          "pie": [
           {
            "automargin": true,
            "type": "pie"
           }
          ],
          "scatter": [
           {
            "fillpattern": {
             "fillmode": "overlay",
             "size": 10,
             "solidity": 0.2
            },
            "type": "scatter"
           }
          ],
          "scatter3d": [
           {
            "line": {
             "colorbar": {
              "outlinewidth": 0,
              "ticks": ""
             }
            },
            "marker": {
             "colorbar": {
              "outlinewidth": 0,
              "ticks": ""
             }
            },
            "type": "scatter3d"
           }
          ],
          "scattercarpet": [
           {
            "marker": {
             "colorbar": {
              "outlinewidth": 0,
              "ticks": ""
             }
            },
            "type": "scattercarpet"
           }
          ],
          "scattergeo": [
           {
            "marker": {
             "colorbar": {
              "outlinewidth": 0,
              "ticks": ""
             }
            },
            "type": "scattergeo"
           }
          ],
          "scattergl": [
           {
            "marker": {
             "colorbar": {
              "outlinewidth": 0,
              "ticks": ""
             }
            },
            "type": "scattergl"
           }
          ],
          "scattermapbox": [
           {
            "marker": {
             "colorbar": {
              "outlinewidth": 0,
              "ticks": ""
             }
            },
            "type": "scattermapbox"
           }
          ],
          "scatterpolar": [
           {
            "marker": {
             "colorbar": {
              "outlinewidth": 0,
              "ticks": ""
             }
            },
            "type": "scatterpolar"
           }
          ],
          "scatterpolargl": [
           {
            "marker": {
             "colorbar": {
              "outlinewidth": 0,
              "ticks": ""
             }
            },
            "type": "scatterpolargl"
           }
          ],
          "scatterternary": [
           {
            "marker": {
             "colorbar": {
              "outlinewidth": 0,
              "ticks": ""
             }
            },
            "type": "scatterternary"
           }
          ],
          "surface": [
           {
            "colorbar": {
             "outlinewidth": 0,
             "ticks": ""
            },
            "colorscale": [
             [
              0,
              "#0d0887"
             ],
             [
              0.1111111111111111,
              "#46039f"
             ],
             [
              0.2222222222222222,
              "#7201a8"
             ],
             [
              0.3333333333333333,
              "#9c179e"
             ],
             [
              0.4444444444444444,
              "#bd3786"
             ],
             [
              0.5555555555555556,
              "#d8576b"
             ],
             [
              0.6666666666666666,
              "#ed7953"
             ],
             [
              0.7777777777777778,
              "#fb9f3a"
             ],
             [
              0.8888888888888888,
              "#fdca26"
             ],
             [
              1,
              "#f0f921"
             ]
            ],
            "type": "surface"
           }
          ],
          "table": [
           {
            "cells": {
             "fill": {
              "color": "#EBF0F8"
             },
             "line": {
              "color": "white"
             }
            },
            "header": {
             "fill": {
              "color": "#C8D4E3"
             },
             "line": {
              "color": "white"
             }
            },
            "type": "table"
           }
          ]
         },
         "layout": {
          "annotationdefaults": {
           "arrowcolor": "#2a3f5f",
           "arrowhead": 0,
           "arrowwidth": 1
          },
          "autotypenumbers": "strict",
          "coloraxis": {
           "colorbar": {
            "outlinewidth": 0,
            "ticks": ""
           }
          },
          "colorscale": {
           "diverging": [
            [
             0,
             "#8e0152"
            ],
            [
             0.1,
             "#c51b7d"
            ],
            [
             0.2,
             "#de77ae"
            ],
            [
             0.3,
             "#f1b6da"
            ],
            [
             0.4,
             "#fde0ef"
            ],
            [
             0.5,
             "#f7f7f7"
            ],
            [
             0.6,
             "#e6f5d0"
            ],
            [
             0.7,
             "#b8e186"
            ],
            [
             0.8,
             "#7fbc41"
            ],
            [
             0.9,
             "#4d9221"
            ],
            [
             1,
             "#276419"
            ]
           ],
           "sequential": [
            [
             0,
             "#0d0887"
            ],
            [
             0.1111111111111111,
             "#46039f"
            ],
            [
             0.2222222222222222,
             "#7201a8"
            ],
            [
             0.3333333333333333,
             "#9c179e"
            ],
            [
             0.4444444444444444,
             "#bd3786"
            ],
            [
             0.5555555555555556,
             "#d8576b"
            ],
            [
             0.6666666666666666,
             "#ed7953"
            ],
            [
             0.7777777777777778,
             "#fb9f3a"
            ],
            [
             0.8888888888888888,
             "#fdca26"
            ],
            [
             1,
             "#f0f921"
            ]
           ],
           "sequentialminus": [
            [
             0,
             "#0d0887"
            ],
            [
             0.1111111111111111,
             "#46039f"
            ],
            [
             0.2222222222222222,
             "#7201a8"
            ],
            [
             0.3333333333333333,
             "#9c179e"
            ],
            [
             0.4444444444444444,
             "#bd3786"
            ],
            [
             0.5555555555555556,
             "#d8576b"
            ],
            [
             0.6666666666666666,
             "#ed7953"
            ],
            [
             0.7777777777777778,
             "#fb9f3a"
            ],
            [
             0.8888888888888888,
             "#fdca26"
            ],
            [
             1,
             "#f0f921"
            ]
           ]
          },
          "colorway": [
           "#636efa",
           "#EF553B",
           "#00cc96",
           "#ab63fa",
           "#FFA15A",
           "#19d3f3",
           "#FF6692",
           "#B6E880",
           "#FF97FF",
           "#FECB52"
          ],
          "font": {
           "color": "#2a3f5f"
          },
          "geo": {
           "bgcolor": "white",
           "lakecolor": "white",
           "landcolor": "#E5ECF6",
           "showlakes": true,
           "showland": true,
           "subunitcolor": "white"
          },
          "hoverlabel": {
           "align": "left"
          },
          "hovermode": "closest",
          "mapbox": {
           "style": "light"
          },
          "paper_bgcolor": "white",
          "plot_bgcolor": "#E5ECF6",
          "polar": {
           "angularaxis": {
            "gridcolor": "white",
            "linecolor": "white",
            "ticks": ""
           },
           "bgcolor": "#E5ECF6",
           "radialaxis": {
            "gridcolor": "white",
            "linecolor": "white",
            "ticks": ""
           }
          },
          "scene": {
           "xaxis": {
            "backgroundcolor": "#E5ECF6",
            "gridcolor": "white",
            "gridwidth": 2,
            "linecolor": "white",
            "showbackground": true,
            "ticks": "",
            "zerolinecolor": "white"
           },
           "yaxis": {
            "backgroundcolor": "#E5ECF6",
            "gridcolor": "white",
            "gridwidth": 2,
            "linecolor": "white",
            "showbackground": true,
            "ticks": "",
            "zerolinecolor": "white"
           },
           "zaxis": {
            "backgroundcolor": "#E5ECF6",
            "gridcolor": "white",
            "gridwidth": 2,
            "linecolor": "white",
            "showbackground": true,
            "ticks": "",
            "zerolinecolor": "white"
           }
          },
          "shapedefaults": {
           "line": {
            "color": "#2a3f5f"
           }
          },
          "ternary": {
           "aaxis": {
            "gridcolor": "white",
            "linecolor": "white",
            "ticks": ""
           },
           "baxis": {
            "gridcolor": "white",
            "linecolor": "white",
            "ticks": ""
           },
           "bgcolor": "#E5ECF6",
           "caxis": {
            "gridcolor": "white",
            "linecolor": "white",
            "ticks": ""
           }
          },
          "title": {
           "x": 0.05
          },
          "xaxis": {
           "automargin": true,
           "gridcolor": "white",
           "linecolor": "white",
           "ticks": "",
           "title": {
            "standoff": 15
           },
           "zerolinecolor": "white",
           "zerolinewidth": 2
          },
          "yaxis": {
           "automargin": true,
           "gridcolor": "white",
           "linecolor": "white",
           "ticks": "",
           "title": {
            "standoff": 15
           },
           "zerolinecolor": "white",
           "zerolinewidth": 2
          }
         }
        },
        "title": {
         "text": "Price distribution - Premium Products"
        },
        "xaxis": {
         "anchor": "y",
         "domain": [
          0,
          1
         ],
         "title": {
          "text": "Price"
         }
        },
        "yaxis": {
         "anchor": "x",
         "domain": [
          0,
          1
         ],
         "title": {
          "text": "count"
         }
        }
       }
      }
     },
     "metadata": {},
     "output_type": "display_data"
    },
    {
     "data": {
      "text/html": [
       "<div>\n",
       "<style scoped>\n",
       "    .dataframe tbody tr th:only-of-type {\n",
       "        vertical-align: middle;\n",
       "    }\n",
       "\n",
       "    .dataframe tbody tr th {\n",
       "        vertical-align: top;\n",
       "    }\n",
       "\n",
       "    .dataframe thead th {\n",
       "        text-align: right;\n",
       "    }\n",
       "</style>\n",
       "<table border=\"1\" class=\"dataframe\">\n",
       "  <thead>\n",
       "    <tr style=\"text-align: right;\">\n",
       "      <th></th>\n",
       "      <th>Price</th>\n",
       "      <th>Stars</th>\n",
       "      <th>Ratings</th>\n",
       "    </tr>\n",
       "  </thead>\n",
       "  <tbody>\n",
       "    <tr>\n",
       "      <th>count</th>\n",
       "      <td>97.00</td>\n",
       "      <td>97.00</td>\n",
       "      <td>97.00</td>\n",
       "    </tr>\n",
       "    <tr>\n",
       "      <th>mean</th>\n",
       "      <td>294.48</td>\n",
       "      <td>3.94</td>\n",
       "      <td>673.91</td>\n",
       "    </tr>\n",
       "    <tr>\n",
       "      <th>std</th>\n",
       "      <td>48.03</td>\n",
       "      <td>1.46</td>\n",
       "      <td>1811.56</td>\n",
       "    </tr>\n",
       "    <tr>\n",
       "      <th>min</th>\n",
       "      <td>229.00</td>\n",
       "      <td>0.00</td>\n",
       "      <td>0.00</td>\n",
       "    </tr>\n",
       "    <tr>\n",
       "      <th>25%</th>\n",
       "      <td>249.00</td>\n",
       "      <td>4.10</td>\n",
       "      <td>13.00</td>\n",
       "    </tr>\n",
       "    <tr>\n",
       "      <th>50%</th>\n",
       "      <td>299.00</td>\n",
       "      <td>4.40</td>\n",
       "      <td>62.00</td>\n",
       "    </tr>\n",
       "    <tr>\n",
       "      <th>75%</th>\n",
       "      <td>339.00</td>\n",
       "      <td>4.70</td>\n",
       "      <td>252.00</td>\n",
       "    </tr>\n",
       "    <tr>\n",
       "      <th>max</th>\n",
       "      <td>379.00</td>\n",
       "      <td>5.00</td>\n",
       "      <td>11676.00</td>\n",
       "    </tr>\n",
       "  </tbody>\n",
       "</table>\n",
       "</div>"
      ],
      "text/plain": [
       "        Price  Stars   Ratings\n",
       "count   97.00  97.00     97.00\n",
       "mean   294.48   3.94    673.91\n",
       "std     48.03   1.46   1811.56\n",
       "min    229.00   0.00      0.00\n",
       "25%    249.00   4.10     13.00\n",
       "50%    299.00   4.40     62.00\n",
       "75%    339.00   4.70    252.00\n",
       "max    379.00   5.00  11676.00"
      ]
     },
     "metadata": {},
     "output_type": "display_data"
    },
    {
     "data": {
      "application/vnd.plotly.v1+json": {
       "config": {
        "plotlyServerURL": "https://plot.ly"
       },
       "data": [
        {
         "alignmentgroup": "True",
         "bingroup": "x",
         "hovertemplate": "Price=%{x}<br>count=%{y}<extra></extra>",
         "legendgroup": "",
         "marker": {
          "color": "#636efa",
          "pattern": {
           "shape": ""
          }
         },
         "name": "",
         "nbinsx": 15,
         "offsetgroup": "",
         "orientation": "v",
         "showlegend": false,
         "texttemplate": "%{value}",
         "type": "histogram",
         "x": [
          147,
          170,
          168,
          144,
          147,
          170,
          154,
          201,
          144,
          163,
          228,
          179,
          160,
          159,
          177,
          192,
          197,
          219,
          170,
          147,
          144,
          198,
          219,
          169,
          163,
          197,
          177,
          147,
          166,
          168,
          204,
          198,
          149,
          170,
          147,
          179,
          197,
          145,
          198,
          215,
          144,
          163,
          199,
          166,
          216,
          225,
          227,
          210,
          170,
          147,
          163,
          179,
          178,
          144,
          163,
          198,
          162,
          209,
          225,
          167,
          150,
          157,
          159,
          170,
          147,
          216,
          185,
          145,
          144,
          163,
          198,
          225,
          169,
          154,
          159,
          170,
          147,
          168,
          225,
          163,
          144,
          163,
          222,
          219,
          188,
          172,
          154,
          170,
          147,
          149,
          197,
          144,
          163,
          155
         ],
         "xaxis": "x",
         "yaxis": "y"
        }
       ],
       "layout": {
        "barmode": "relative",
        "legend": {
         "tracegroupgap": 0
        },
        "template": {
         "data": {
          "bar": [
           {
            "error_x": {
             "color": "#2a3f5f"
            },
            "error_y": {
             "color": "#2a3f5f"
            },
            "marker": {
             "line": {
              "color": "#E5ECF6",
              "width": 0.5
             },
             "pattern": {
              "fillmode": "overlay",
              "size": 10,
              "solidity": 0.2
             }
            },
            "type": "bar"
           }
          ],
          "barpolar": [
           {
            "marker": {
             "line": {
              "color": "#E5ECF6",
              "width": 0.5
             },
             "pattern": {
              "fillmode": "overlay",
              "size": 10,
              "solidity": 0.2
             }
            },
            "type": "barpolar"
           }
          ],
          "carpet": [
           {
            "aaxis": {
             "endlinecolor": "#2a3f5f",
             "gridcolor": "white",
             "linecolor": "white",
             "minorgridcolor": "white",
             "startlinecolor": "#2a3f5f"
            },
            "baxis": {
             "endlinecolor": "#2a3f5f",
             "gridcolor": "white",
             "linecolor": "white",
             "minorgridcolor": "white",
             "startlinecolor": "#2a3f5f"
            },
            "type": "carpet"
           }
          ],
          "choropleth": [
           {
            "colorbar": {
             "outlinewidth": 0,
             "ticks": ""
            },
            "type": "choropleth"
           }
          ],
          "contour": [
           {
            "colorbar": {
             "outlinewidth": 0,
             "ticks": ""
            },
            "colorscale": [
             [
              0,
              "#0d0887"
             ],
             [
              0.1111111111111111,
              "#46039f"
             ],
             [
              0.2222222222222222,
              "#7201a8"
             ],
             [
              0.3333333333333333,
              "#9c179e"
             ],
             [
              0.4444444444444444,
              "#bd3786"
             ],
             [
              0.5555555555555556,
              "#d8576b"
             ],
             [
              0.6666666666666666,
              "#ed7953"
             ],
             [
              0.7777777777777778,
              "#fb9f3a"
             ],
             [
              0.8888888888888888,
              "#fdca26"
             ],
             [
              1,
              "#f0f921"
             ]
            ],
            "type": "contour"
           }
          ],
          "contourcarpet": [
           {
            "colorbar": {
             "outlinewidth": 0,
             "ticks": ""
            },
            "type": "contourcarpet"
           }
          ],
          "heatmap": [
           {
            "colorbar": {
             "outlinewidth": 0,
             "ticks": ""
            },
            "colorscale": [
             [
              0,
              "#0d0887"
             ],
             [
              0.1111111111111111,
              "#46039f"
             ],
             [
              0.2222222222222222,
              "#7201a8"
             ],
             [
              0.3333333333333333,
              "#9c179e"
             ],
             [
              0.4444444444444444,
              "#bd3786"
             ],
             [
              0.5555555555555556,
              "#d8576b"
             ],
             [
              0.6666666666666666,
              "#ed7953"
             ],
             [
              0.7777777777777778,
              "#fb9f3a"
             ],
             [
              0.8888888888888888,
              "#fdca26"
             ],
             [
              1,
              "#f0f921"
             ]
            ],
            "type": "heatmap"
           }
          ],
          "heatmapgl": [
           {
            "colorbar": {
             "outlinewidth": 0,
             "ticks": ""
            },
            "colorscale": [
             [
              0,
              "#0d0887"
             ],
             [
              0.1111111111111111,
              "#46039f"
             ],
             [
              0.2222222222222222,
              "#7201a8"
             ],
             [
              0.3333333333333333,
              "#9c179e"
             ],
             [
              0.4444444444444444,
              "#bd3786"
             ],
             [
              0.5555555555555556,
              "#d8576b"
             ],
             [
              0.6666666666666666,
              "#ed7953"
             ],
             [
              0.7777777777777778,
              "#fb9f3a"
             ],
             [
              0.8888888888888888,
              "#fdca26"
             ],
             [
              1,
              "#f0f921"
             ]
            ],
            "type": "heatmapgl"
           }
          ],
          "histogram": [
           {
            "marker": {
             "pattern": {
              "fillmode": "overlay",
              "size": 10,
              "solidity": 0.2
             }
            },
            "type": "histogram"
           }
          ],
          "histogram2d": [
           {
            "colorbar": {
             "outlinewidth": 0,
             "ticks": ""
            },
            "colorscale": [
             [
              0,
              "#0d0887"
             ],
             [
              0.1111111111111111,
              "#46039f"
             ],
             [
              0.2222222222222222,
              "#7201a8"
             ],
             [
              0.3333333333333333,
              "#9c179e"
             ],
             [
              0.4444444444444444,
              "#bd3786"
             ],
             [
              0.5555555555555556,
              "#d8576b"
             ],
             [
              0.6666666666666666,
              "#ed7953"
             ],
             [
              0.7777777777777778,
              "#fb9f3a"
             ],
             [
              0.8888888888888888,
              "#fdca26"
             ],
             [
              1,
              "#f0f921"
             ]
            ],
            "type": "histogram2d"
           }
          ],
          "histogram2dcontour": [
           {
            "colorbar": {
             "outlinewidth": 0,
             "ticks": ""
            },
            "colorscale": [
             [
              0,
              "#0d0887"
             ],
             [
              0.1111111111111111,
              "#46039f"
             ],
             [
              0.2222222222222222,
              "#7201a8"
             ],
             [
              0.3333333333333333,
              "#9c179e"
             ],
             [
              0.4444444444444444,
              "#bd3786"
             ],
             [
              0.5555555555555556,
              "#d8576b"
             ],
             [
              0.6666666666666666,
              "#ed7953"
             ],
             [
              0.7777777777777778,
              "#fb9f3a"
             ],
             [
              0.8888888888888888,
              "#fdca26"
             ],
             [
              1,
              "#f0f921"
             ]
            ],
            "type": "histogram2dcontour"
           }
          ],
          "mesh3d": [
           {
            "colorbar": {
             "outlinewidth": 0,
             "ticks": ""
            },
            "type": "mesh3d"
           }
          ],
          "parcoords": [
           {
            "line": {
             "colorbar": {
              "outlinewidth": 0,
              "ticks": ""
             }
            },
            "type": "parcoords"
           }
          ],
          "pie": [
           {
            "automargin": true,
            "type": "pie"
           }
          ],
          "scatter": [
           {
            "fillpattern": {
             "fillmode": "overlay",
             "size": 10,
             "solidity": 0.2
            },
            "type": "scatter"
           }
          ],
          "scatter3d": [
           {
            "line": {
             "colorbar": {
              "outlinewidth": 0,
              "ticks": ""
             }
            },
            "marker": {
             "colorbar": {
              "outlinewidth": 0,
              "ticks": ""
             }
            },
            "type": "scatter3d"
           }
          ],
          "scattercarpet": [
           {
            "marker": {
             "colorbar": {
              "outlinewidth": 0,
              "ticks": ""
             }
            },
            "type": "scattercarpet"
           }
          ],
          "scattergeo": [
           {
            "marker": {
             "colorbar": {
              "outlinewidth": 0,
              "ticks": ""
             }
            },
            "type": "scattergeo"
           }
          ],
          "scattergl": [
           {
            "marker": {
             "colorbar": {
              "outlinewidth": 0,
              "ticks": ""
             }
            },
            "type": "scattergl"
           }
          ],
          "scattermapbox": [
           {
            "marker": {
             "colorbar": {
              "outlinewidth": 0,
              "ticks": ""
             }
            },
            "type": "scattermapbox"
           }
          ],
          "scatterpolar": [
           {
            "marker": {
             "colorbar": {
              "outlinewidth": 0,
              "ticks": ""
             }
            },
            "type": "scatterpolar"
           }
          ],
          "scatterpolargl": [
           {
            "marker": {
             "colorbar": {
              "outlinewidth": 0,
              "ticks": ""
             }
            },
            "type": "scatterpolargl"
           }
          ],
          "scatterternary": [
           {
            "marker": {
             "colorbar": {
              "outlinewidth": 0,
              "ticks": ""
             }
            },
            "type": "scatterternary"
           }
          ],
          "surface": [
           {
            "colorbar": {
             "outlinewidth": 0,
             "ticks": ""
            },
            "colorscale": [
             [
              0,
              "#0d0887"
             ],
             [
              0.1111111111111111,
              "#46039f"
             ],
             [
              0.2222222222222222,
              "#7201a8"
             ],
             [
              0.3333333333333333,
              "#9c179e"
             ],
             [
              0.4444444444444444,
              "#bd3786"
             ],
             [
              0.5555555555555556,
              "#d8576b"
             ],
             [
              0.6666666666666666,
              "#ed7953"
             ],
             [
              0.7777777777777778,
              "#fb9f3a"
             ],
             [
              0.8888888888888888,
              "#fdca26"
             ],
             [
              1,
              "#f0f921"
             ]
            ],
            "type": "surface"
           }
          ],
          "table": [
           {
            "cells": {
             "fill": {
              "color": "#EBF0F8"
             },
             "line": {
              "color": "white"
             }
            },
            "header": {
             "fill": {
              "color": "#C8D4E3"
             },
             "line": {
              "color": "white"
             }
            },
            "type": "table"
           }
          ]
         },
         "layout": {
          "annotationdefaults": {
           "arrowcolor": "#2a3f5f",
           "arrowhead": 0,
           "arrowwidth": 1
          },
          "autotypenumbers": "strict",
          "coloraxis": {
           "colorbar": {
            "outlinewidth": 0,
            "ticks": ""
           }
          },
          "colorscale": {
           "diverging": [
            [
             0,
             "#8e0152"
            ],
            [
             0.1,
             "#c51b7d"
            ],
            [
             0.2,
             "#de77ae"
            ],
            [
             0.3,
             "#f1b6da"
            ],
            [
             0.4,
             "#fde0ef"
            ],
            [
             0.5,
             "#f7f7f7"
            ],
            [
             0.6,
             "#e6f5d0"
            ],
            [
             0.7,
             "#b8e186"
            ],
            [
             0.8,
             "#7fbc41"
            ],
            [
             0.9,
             "#4d9221"
            ],
            [
             1,
             "#276419"
            ]
           ],
           "sequential": [
            [
             0,
             "#0d0887"
            ],
            [
             0.1111111111111111,
             "#46039f"
            ],
            [
             0.2222222222222222,
             "#7201a8"
            ],
            [
             0.3333333333333333,
             "#9c179e"
            ],
            [
             0.4444444444444444,
             "#bd3786"
            ],
            [
             0.5555555555555556,
             "#d8576b"
            ],
            [
             0.6666666666666666,
             "#ed7953"
            ],
            [
             0.7777777777777778,
             "#fb9f3a"
            ],
            [
             0.8888888888888888,
             "#fdca26"
            ],
            [
             1,
             "#f0f921"
            ]
           ],
           "sequentialminus": [
            [
             0,
             "#0d0887"
            ],
            [
             0.1111111111111111,
             "#46039f"
            ],
            [
             0.2222222222222222,
             "#7201a8"
            ],
            [
             0.3333333333333333,
             "#9c179e"
            ],
            [
             0.4444444444444444,
             "#bd3786"
            ],
            [
             0.5555555555555556,
             "#d8576b"
            ],
            [
             0.6666666666666666,
             "#ed7953"
            ],
            [
             0.7777777777777778,
             "#fb9f3a"
            ],
            [
             0.8888888888888888,
             "#fdca26"
            ],
            [
             1,
             "#f0f921"
            ]
           ]
          },
          "colorway": [
           "#636efa",
           "#EF553B",
           "#00cc96",
           "#ab63fa",
           "#FFA15A",
           "#19d3f3",
           "#FF6692",
           "#B6E880",
           "#FF97FF",
           "#FECB52"
          ],
          "font": {
           "color": "#2a3f5f"
          },
          "geo": {
           "bgcolor": "white",
           "lakecolor": "white",
           "landcolor": "#E5ECF6",
           "showlakes": true,
           "showland": true,
           "subunitcolor": "white"
          },
          "hoverlabel": {
           "align": "left"
          },
          "hovermode": "closest",
          "mapbox": {
           "style": "light"
          },
          "paper_bgcolor": "white",
          "plot_bgcolor": "#E5ECF6",
          "polar": {
           "angularaxis": {
            "gridcolor": "white",
            "linecolor": "white",
            "ticks": ""
           },
           "bgcolor": "#E5ECF6",
           "radialaxis": {
            "gridcolor": "white",
            "linecolor": "white",
            "ticks": ""
           }
          },
          "scene": {
           "xaxis": {
            "backgroundcolor": "#E5ECF6",
            "gridcolor": "white",
            "gridwidth": 2,
            "linecolor": "white",
            "showbackground": true,
            "ticks": "",
            "zerolinecolor": "white"
           },
           "yaxis": {
            "backgroundcolor": "#E5ECF6",
            "gridcolor": "white",
            "gridwidth": 2,
            "linecolor": "white",
            "showbackground": true,
            "ticks": "",
            "zerolinecolor": "white"
           },
           "zaxis": {
            "backgroundcolor": "#E5ECF6",
            "gridcolor": "white",
            "gridwidth": 2,
            "linecolor": "white",
            "showbackground": true,
            "ticks": "",
            "zerolinecolor": "white"
           }
          },
          "shapedefaults": {
           "line": {
            "color": "#2a3f5f"
           }
          },
          "ternary": {
           "aaxis": {
            "gridcolor": "white",
            "linecolor": "white",
            "ticks": ""
           },
           "baxis": {
            "gridcolor": "white",
            "linecolor": "white",
            "ticks": ""
           },
           "bgcolor": "#E5ECF6",
           "caxis": {
            "gridcolor": "white",
            "linecolor": "white",
            "ticks": ""
           }
          },
          "title": {
           "x": 0.05
          },
          "xaxis": {
           "automargin": true,
           "gridcolor": "white",
           "linecolor": "white",
           "ticks": "",
           "title": {
            "standoff": 15
           },
           "zerolinecolor": "white",
           "zerolinewidth": 2
          },
          "yaxis": {
           "automargin": true,
           "gridcolor": "white",
           "linecolor": "white",
           "ticks": "",
           "title": {
            "standoff": 15
           },
           "zerolinecolor": "white",
           "zerolinewidth": 2
          }
         }
        },
        "title": {
         "text": "Price distribution - Mid Products"
        },
        "xaxis": {
         "anchor": "y",
         "domain": [
          0,
          1
         ],
         "title": {
          "text": "Price"
         }
        },
        "yaxis": {
         "anchor": "x",
         "domain": [
          0,
          1
         ],
         "title": {
          "text": "count"
         }
        }
       }
      }
     },
     "metadata": {},
     "output_type": "display_data"
    },
    {
     "data": {
      "text/html": [
       "<div>\n",
       "<style scoped>\n",
       "    .dataframe tbody tr th:only-of-type {\n",
       "        vertical-align: middle;\n",
       "    }\n",
       "\n",
       "    .dataframe tbody tr th {\n",
       "        vertical-align: top;\n",
       "    }\n",
       "\n",
       "    .dataframe thead th {\n",
       "        text-align: right;\n",
       "    }\n",
       "</style>\n",
       "<table border=\"1\" class=\"dataframe\">\n",
       "  <thead>\n",
       "    <tr style=\"text-align: right;\">\n",
       "      <th></th>\n",
       "      <th>Price</th>\n",
       "      <th>Stars</th>\n",
       "      <th>Ratings</th>\n",
       "    </tr>\n",
       "  </thead>\n",
       "  <tbody>\n",
       "    <tr>\n",
       "      <th>count</th>\n",
       "      <td>94.00</td>\n",
       "      <td>94.00</td>\n",
       "      <td>94.00</td>\n",
       "    </tr>\n",
       "    <tr>\n",
       "      <th>mean</th>\n",
       "      <td>174.91</td>\n",
       "      <td>4.26</td>\n",
       "      <td>613.82</td>\n",
       "    </tr>\n",
       "    <tr>\n",
       "      <th>std</th>\n",
       "      <td>25.79</td>\n",
       "      <td>1.05</td>\n",
       "      <td>1959.94</td>\n",
       "    </tr>\n",
       "    <tr>\n",
       "      <th>min</th>\n",
       "      <td>144.00</td>\n",
       "      <td>0.00</td>\n",
       "      <td>0.00</td>\n",
       "    </tr>\n",
       "    <tr>\n",
       "      <th>25%</th>\n",
       "      <td>154.00</td>\n",
       "      <td>4.30</td>\n",
       "      <td>43.25</td>\n",
       "    </tr>\n",
       "    <tr>\n",
       "      <th>50%</th>\n",
       "      <td>168.50</td>\n",
       "      <td>4.50</td>\n",
       "      <td>74.50</td>\n",
       "    </tr>\n",
       "    <tr>\n",
       "      <th>75%</th>\n",
       "      <td>197.00</td>\n",
       "      <td>4.70</td>\n",
       "      <td>154.00</td>\n",
       "    </tr>\n",
       "    <tr>\n",
       "      <th>max</th>\n",
       "      <td>228.00</td>\n",
       "      <td>5.00</td>\n",
       "      <td>15566.00</td>\n",
       "    </tr>\n",
       "  </tbody>\n",
       "</table>\n",
       "</div>"
      ],
      "text/plain": [
       "        Price  Stars   Ratings\n",
       "count   94.00  94.00     94.00\n",
       "mean   174.91   4.26    613.82\n",
       "std     25.79   1.05   1959.94\n",
       "min    144.00   0.00      0.00\n",
       "25%    154.00   4.30     43.25\n",
       "50%    168.50   4.50     74.50\n",
       "75%    197.00   4.70    154.00\n",
       "max    228.00   5.00  15566.00"
      ]
     },
     "metadata": {},
     "output_type": "display_data"
    }
   ],
   "source": [
    "display(px.histogram(df, x='Price', title=f'Price distribution'))\n",
    "display(px.histogram(df_75, x='Price', title=f'Price distribution - Prime Products', nbins=10, text_auto=True))\n",
    "display(df_75.describe().round(2))\n",
    "display(px.histogram(df_50_75, x='Price', title=f'Price distribution - Premium Products', nbins=15, text_auto=True))\n",
    "display(df_50_75.describe().round(2))\n",
    "display(px.histogram(df_25_50, x='Price', title=f'Price distribution - Mid Products', nbins=15, text_auto=True))\n",
    "display(df_25_50.describe().round(2))"
   ]
  },
  {
   "cell_type": "code",
   "execution_count": null,
   "metadata": {},
   "outputs": [],
   "source": [
    "display(df_75.Product.unique().tolist()[:10])\n",
    "print()\n",
    "display(df_50_75.Product.unique().tolist()[:10])\n",
    "print()\n",
    "display(df_25_50.Product.unique().tolist()[:10])"
   ]
  },
  {
   "cell_type": "code",
   "execution_count": null,
   "metadata": {},
   "outputs": [],
   "source": [
    "#Prime Products\n",
    "display(df_75.Product.value_counts().to_frame().reset_index().rename(columns={'index':'Product','Product':'Results'}).head(10))\n",
    "for i in df_75.Product.value_counts().to_frame().reset_index().rename(columns={'index':'Product','Product':'Results'}).head(10).Product.tolist():\n",
    "    print(i)\n",
    "\n",
    "#Premium Products\n",
    "display(df_50_75.Product.value_counts().to_frame().reset_index().rename(columns={'index':'Product','Product':'Results'}).head(10))\n",
    "for i in df_50_75.Product.value_counts().to_frame().reset_index().rename(columns={'index':'Product','Product':'Results'}).head(10).Product.tolist():\n",
    "    print(i)\n",
    "\n",
    "#Mid Products\n",
    "display(df_25_50.Product.value_counts().to_frame().reset_index().rename(columns={'index':'Product','Product':'Results'}).head(10))\n",
    "for i in df_25_50.Product.value_counts().to_frame().reset_index().rename(columns={'index':'Product','Product':'Results'}).head(10).Product.tolist():\n",
    "    print(i)"
   ]
  },
  {
   "attachments": {},
   "cell_type": "markdown",
   "metadata": {},
   "source": [
    "## Brands distribution"
   ]
  },
  {
   "cell_type": "code",
   "execution_count": 13,
   "metadata": {},
   "outputs": [],
   "source": [
    "utils_amazon.open_link(df, 270)"
   ]
  },
  {
   "cell_type": "code",
   "execution_count": 52,
   "metadata": {},
   "outputs": [
    {
     "data": {
      "text/html": [
       "<div>\n",
       "<style scoped>\n",
       "    .dataframe tbody tr th:only-of-type {\n",
       "        vertical-align: middle;\n",
       "    }\n",
       "\n",
       "    .dataframe tbody tr th {\n",
       "        vertical-align: top;\n",
       "    }\n",
       "\n",
       "    .dataframe thead th {\n",
       "        text-align: right;\n",
       "    }\n",
       "</style>\n",
       "<table border=\"1\" class=\"dataframe\">\n",
       "  <thead>\n",
       "    <tr style=\"text-align: right;\">\n",
       "      <th></th>\n",
       "      <th>Product</th>\n",
       "      <th>Price</th>\n",
       "      <th>Stars</th>\n",
       "      <th>Link</th>\n",
       "      <th>Ratings</th>\n",
       "      <th>Comments</th>\n",
       "    </tr>\n",
       "  </thead>\n",
       "  <tbody>\n",
       "    <tr>\n",
       "      <th>0</th>\n",
       "      <td>Pantene Shampoo + Pantene Acondicionador Pro-V Miracles Colágeno Nutre &amp; Revitaliza 510 ml</td>\n",
       "      <td>229</td>\n",
       "      <td>4.9</td>\n",
       "      <td>https://www.amazon.com.mx//Pantene-Acondicionador-Miracles-Col%C3%A1geno-Revitaliza/dp/B0B4M6WPS6/ref=sr_1_37?__mk_es_MX=%C3%85M%C3%85%C5%BD%C3%95%C3%91&amp;keywords=sham...</td>\n",
       "      <td>90</td>\n",
       "      <td>['Es la segunda vez que lo compro, simplemente me encanto!!!Mi cabello es ondulado y me deja los chinitos perfectos!!!!Definidos e hidratados', 'Ayuda mucho con el ca...</td>\n",
       "    </tr>\n",
       "    <tr>\n",
       "      <th>1</th>\n",
       "      <td>Pantene Shampoo 300 ml + Pantene Acondicionador 3 Minute Miracle 170 ml Pro-V Miracles Colágeno Nutre &amp; Revitaliza</td>\n",
       "      <td>144</td>\n",
       "      <td>4.7</td>\n",
       "      <td>https://www.amazon.com.mx//Pantene-Acondicionador-Miracles-Col%C3%A1geno-Revitaliza/dp/B0B4M1B45V/ref=sr_1_60?__mk_es_MX=%C3%85M%C3%85%C5%BD%C3%95%C3%91&amp;keywords=sham...</td>\n",
       "      <td>68</td>\n",
       "      <td>['Huele muy rico y el cabello queda muy lindo y suave', 'Me gusta este producto me deja el pelo muy manejable', 'Me gustó la suavidad e hidratación a mi cabello, más ...</td>\n",
       "    </tr>\n",
       "    <tr>\n",
       "      <th>2</th>\n",
       "      <td>Pantene Colageno colección completa - Shampoo, Acondicionador, crema para peinar y tratatamients</td>\n",
       "      <td>336</td>\n",
       "      <td>5.0</td>\n",
       "      <td>https://www.amazon.com.mx//Pantene-Colageno-colecci%C3%B3n-completa-Acondicionador/dp/B0B69K6NDF/ref=sr_1_65?__mk_es_MX=%C3%85M%C3%85%C5%BD%C3%95%C3%91&amp;keywords=shamp...</td>\n",
       "      <td>24</td>\n",
       "      <td>['Huele delicioso y siento mi cabello mejor de las puntas', 'Mi cabello es muy seco y si me ayudó el producto']</td>\n",
       "    </tr>\n",
       "    <tr>\n",
       "      <th>3</th>\n",
       "      <td>Pantene Shampoo Nutritivo 300 ml + Pantene Crema para Peinar 300 ml + Pantene Acondicionador 250 ml Pro-V Miracles Colágeno Nutre &amp; Revitaliza</td>\n",
       "      <td>204</td>\n",
       "      <td>4.7</td>\n",
       "      <td>https://www.amazon.com.mx//Pantene-Nutritivo-Acondicionador-Miracles-Revitaliza/dp/B0B4LYGMT2/ref=sr_1_82?__mk_es_MX=%C3%85M%C3%85%C5%BD%C3%95%C3%91&amp;keywords=shampoo+...</td>\n",
       "      <td>110</td>\n",
       "      <td>['Me deja el cabello muy muy bien, me encanta elProducto', 'Me encanto lo Soave que es', 'No se pudo cargar el contenido.\\n\\n\\n', 'Deja el cabello muy suave', 'Deja m...</td>\n",
       "    </tr>\n",
       "    <tr>\n",
       "      <th>4</th>\n",
       "      <td>Pantene - Shampoo Minute Miracle Hidratación Extrema, con Aceite de Argán, Shampoo Sin Sal, Uso Diario, 480 ml</td>\n",
       "      <td>89</td>\n",
       "      <td>4.7</td>\n",
       "      <td>https://www.amazon.com.mx//PanteneMiracle-Shampoo-Hidrataci%C3%B3n-Extrema-480ML/dp/B07TVDKBCM/ref=sr_1_129?__mk_es_MX=%C3%85M%C3%85%C5%BD%C3%95%C3%91&amp;keywords=shampo...</td>\n",
       "      <td>458</td>\n",
       "      <td>['Buen precio,  excelente calidad calidad,  aroma super,  limpieza perfecta y resultados satisfactorios', 'Otorga buenos beneficios a un buen precio.', 'Promete ser u...</td>\n",
       "    </tr>\n",
       "    <tr>\n",
       "      <th>5</th>\n",
       "      <td>Pantene - Pack Hidratación Extrema</td>\n",
       "      <td>194</td>\n",
       "      <td>4.7</td>\n",
       "      <td>https://www.amazon.com.mx//Pantene-Shampoo-Miracle-Hidrataci%C3%B3n-Acondicionador/dp/B07PPLQ7XD/ref=sr_1_220?__mk_es_MX=%C3%85M%C3%85%C5%BD%C3%95%C3%91&amp;keywords=sham...</td>\n",
       "      <td>125</td>\n",
       "      <td>['Simplemente fascinante, soy hombre y a lo mejor por eso no le había puesto tanta atención a que shampoos utilizar y cuales de verdad me hacen sentir un cambio en el...</td>\n",
       "    </tr>\n",
       "  </tbody>\n",
       "</table>\n",
       "</div>"
      ],
      "text/plain": [
       "                                                                                                                                          Product  \\\n",
       "0                                                      Pantene Shampoo + Pantene Acondicionador Pro-V Miracles Colágeno Nutre & Revitaliza 510 ml   \n",
       "1                              Pantene Shampoo 300 ml + Pantene Acondicionador 3 Minute Miracle 170 ml Pro-V Miracles Colágeno Nutre & Revitaliza   \n",
       "2                                                Pantene Colageno colección completa - Shampoo, Acondicionador, crema para peinar y tratatamients   \n",
       "3  Pantene Shampoo Nutritivo 300 ml + Pantene Crema para Peinar 300 ml + Pantene Acondicionador 250 ml Pro-V Miracles Colágeno Nutre & Revitaliza   \n",
       "4                                  Pantene - Shampoo Minute Miracle Hidratación Extrema, con Aceite de Argán, Shampoo Sin Sal, Uso Diario, 480 ml   \n",
       "5                                                                                                             Pantene - Pack Hidratación Extrema    \n",
       "\n",
       "   Price  Stars  \\\n",
       "0    229    4.9   \n",
       "1    144    4.7   \n",
       "2    336    5.0   \n",
       "3    204    4.7   \n",
       "4     89    4.7   \n",
       "5    194    4.7   \n",
       "\n",
       "                                                                                                                                                                        Link  \\\n",
       "0  https://www.amazon.com.mx//Pantene-Acondicionador-Miracles-Col%C3%A1geno-Revitaliza/dp/B0B4M6WPS6/ref=sr_1_37?__mk_es_MX=%C3%85M%C3%85%C5%BD%C3%95%C3%91&keywords=sham...   \n",
       "1  https://www.amazon.com.mx//Pantene-Acondicionador-Miracles-Col%C3%A1geno-Revitaliza/dp/B0B4M1B45V/ref=sr_1_60?__mk_es_MX=%C3%85M%C3%85%C5%BD%C3%95%C3%91&keywords=sham...   \n",
       "2  https://www.amazon.com.mx//Pantene-Colageno-colecci%C3%B3n-completa-Acondicionador/dp/B0B69K6NDF/ref=sr_1_65?__mk_es_MX=%C3%85M%C3%85%C5%BD%C3%95%C3%91&keywords=shamp...   \n",
       "3  https://www.amazon.com.mx//Pantene-Nutritivo-Acondicionador-Miracles-Revitaliza/dp/B0B4LYGMT2/ref=sr_1_82?__mk_es_MX=%C3%85M%C3%85%C5%BD%C3%95%C3%91&keywords=shampoo+...   \n",
       "4  https://www.amazon.com.mx//PanteneMiracle-Shampoo-Hidrataci%C3%B3n-Extrema-480ML/dp/B07TVDKBCM/ref=sr_1_129?__mk_es_MX=%C3%85M%C3%85%C5%BD%C3%95%C3%91&keywords=shampo...   \n",
       "5  https://www.amazon.com.mx//Pantene-Shampoo-Miracle-Hidrataci%C3%B3n-Acondicionador/dp/B07PPLQ7XD/ref=sr_1_220?__mk_es_MX=%C3%85M%C3%85%C5%BD%C3%95%C3%91&keywords=sham...   \n",
       "\n",
       "   Ratings  \\\n",
       "0       90   \n",
       "1       68   \n",
       "2       24   \n",
       "3      110   \n",
       "4      458   \n",
       "5      125   \n",
       "\n",
       "                                                                                                                                                                    Comments  \n",
       "0  ['Es la segunda vez que lo compro, simplemente me encanto!!!Mi cabello es ondulado y me deja los chinitos perfectos!!!!Definidos e hidratados', 'Ayuda mucho con el ca...  \n",
       "1  ['Huele muy rico y el cabello queda muy lindo y suave', 'Me gusta este producto me deja el pelo muy manejable', 'Me gustó la suavidad e hidratación a mi cabello, más ...  \n",
       "2                                                            ['Huele delicioso y siento mi cabello mejor de las puntas', 'Mi cabello es muy seco y si me ayudó el producto']  \n",
       "3  ['Me deja el cabello muy muy bien, me encanta elProducto', 'Me encanto lo Soave que es', 'No se pudo cargar el contenido.\\n\\n\\n', 'Deja el cabello muy suave', 'Deja m...  \n",
       "4  ['Buen precio,  excelente calidad calidad,  aroma super,  limpieza perfecta y resultados satisfactorios', 'Otorga buenos beneficios a un buen precio.', 'Promete ser u...  \n",
       "5  ['Simplemente fascinante, soy hombre y a lo mejor por eso no le había puesto tanta atención a que shampoos utilizar y cuales de verdad me hacen sentir un cambio en el...  "
      ]
     },
     "execution_count": 52,
     "metadata": {},
     "output_type": "execute_result"
    }
   ],
   "source": [
    "# Look for specif word(s)\n",
    "\n",
    "brand_producs = []\n",
    "for i in df['Product']:\n",
    "    if (re.search(r'pantene.', i, flags=re.IGNORECASE) or re.search(r'nutre.', i, flags=re.IGNORECASE)) and not ((re.search(r'bamb.', i, flags=re.IGNORECASE)) or (re.search(r'blend.', i, flags=re.IGNORECASE)) or (re.search(r'L\\'Oréal', i, flags=re.IGNORECASE))): # or (re.search(r'[^bamboo].', i, flags=re.IGNORECASE))\n",
    "        brand_producs.append(i)\n",
    "\n",
    "\n",
    "brand_df = df[df.Product.isin(brand_producs)].reset_index(drop=True)\n",
    "\n",
    "brand_df = brand_df.drop([4,5,7,8,9,10,11,13]).reset_index(drop=True)\n",
    "\n",
    "brand_df.to_excel('stella_products.xlsx', index=False)\n",
    "brand_df"
   ]
  },
  {
   "cell_type": "code",
   "execution_count": 53,
   "metadata": {},
   "outputs": [],
   "source": [
    "for i in range(brand_df.__len__()):\n",
    "    utils_amazon.open_link(brand_df, i)"
   ]
  },
  {
   "cell_type": "code",
   "execution_count": 44,
   "metadata": {},
   "outputs": [],
   "source": [
    "utils_amazon.open_link(brand_df, 9)"
   ]
  },
  {
   "cell_type": "code",
   "execution_count": 57,
   "metadata": {},
   "outputs": [
    {
     "name": "stdout",
     "output_type": "stream",
     "text": [
      "4\n"
     ]
    },
    {
     "data": {
      "text/html": [
       "<div>\n",
       "<style scoped>\n",
       "    .dataframe tbody tr th:only-of-type {\n",
       "        vertical-align: middle;\n",
       "    }\n",
       "\n",
       "    .dataframe tbody tr th {\n",
       "        vertical-align: top;\n",
       "    }\n",
       "\n",
       "    .dataframe thead th {\n",
       "        text-align: right;\n",
       "    }\n",
       "</style>\n",
       "<table border=\"1\" class=\"dataframe\">\n",
       "  <thead>\n",
       "    <tr style=\"text-align: right;\">\n",
       "      <th></th>\n",
       "      <th>Product</th>\n",
       "      <th>Price</th>\n",
       "      <th>Stars</th>\n",
       "      <th>Link</th>\n",
       "      <th>Ratings</th>\n",
       "      <th>Comments</th>\n",
       "    </tr>\n",
       "  </thead>\n",
       "  <tbody>\n",
       "    <tr>\n",
       "      <th>0</th>\n",
       "      <td>Pantene - Shampoo Nutrient Blends Volume Multiplier, con Bambú Pantenol y Colágeno, Shampoo Pantene, 270 ml</td>\n",
       "      <td>170</td>\n",
       "      <td>4.5</td>\n",
       "      <td>https://www.amazon.com.mx//Pantene-Nutrient-Multiplier-Pantenol-Col%C3%A1geno/dp/B09VKJ956G/ref=sr_1_40?__mk_es_MX=%C3%85M%C3%85%C5%BD%C3%95%C3%91&amp;keywords=shampoo+bi...</td>\n",
       "      <td>66</td>\n",
       "      <td>['Deja el cabello con olor agradable y suave', 'Lo deja fuerte y noto que se ve con más volumen. 10 de 10!', 'Lo que más me gustó es la textura, no enreda el cabello....</td>\n",
       "    </tr>\n",
       "    <tr>\n",
       "      <th>1</th>\n",
       "      <td>Pantene - Shampoo Control Caída, Bambú Nutre &amp; Crece Minute Miracle, Shampoo con Biotina y Extracto de Bambú, 270 ml</td>\n",
       "      <td>71</td>\n",
       "      <td>4.5</td>\n",
       "      <td>https://www.amazon.com.mx//Pantene-Shampoo-Minute-Miracle-Paquete/dp/B08QT71XJV/ref=sr_1_73?__mk_es_MX=%C3%85M%C3%85%C5%BD%C3%95%C3%91&amp;keywords=shampoo+biotina+y+cola...</td>\n",
       "      <td>32</td>\n",
       "      <td>['Este es un excelente shampoo.  El pelo no se ha caído más.', 'Deja el cabello muy suave', 'Tiene mucho perfume, lo cual hace que sea muy invasivo el olor a la hora ...</td>\n",
       "    </tr>\n",
       "    <tr>\n",
       "      <th>2</th>\n",
       "      <td>Pantene - Shampoo Control Caída, Bambú Nutre &amp; Crece Minute Miracle, Shampoo con Biotina y Extracto de Bambú, 480 ml</td>\n",
       "      <td>97</td>\n",
       "      <td>4.7</td>\n",
       "      <td>https://www.amazon.com.mx//Pantene-Shampoo-Pro-V-Minute-Miracle/dp/B08QT612WL/ref=sr_1_77?__mk_es_MX=%C3%85M%C3%85%C5%BD%C3%95%C3%91&amp;keywords=shampoo+biotina+y+colage...</td>\n",
       "      <td>426</td>\n",
       "      <td>['No sé si ya no se me cae mucho el cabello pero me gustó que humecta el cabello y no lo deja pesado', 'Excelente, lo compré por recomendación de que me ayudaría a re...</td>\n",
       "    </tr>\n",
       "    <tr>\n",
       "      <th>3</th>\n",
       "      <td>Pantene - Acondicionador Bambú Nutre &amp; Crece 3 Minute Miracle, Acondicionador para Cabello de Uso Diario, 170 ml</td>\n",
       "      <td>71</td>\n",
       "      <td>4.7</td>\n",
       "      <td>https://www.amazon.com.mx//Pantene-Acondicionador-Minute-Miracle-paquete/dp/B08QT5Y2XH/ref=sr_1_109?__mk_es_MX=%C3%85M%C3%85%C5%BD%C3%95%C3%91&amp;keywords=shampoo+biotin...</td>\n",
       "      <td>246</td>\n",
       "      <td>['Lo utilizo después de nadar porque los químicos maltratan el cabello y en verdad que desde el primer uso noté la mejoría en la textura del cabello, se fue la sequed...</td>\n",
       "    </tr>\n",
       "  </tbody>\n",
       "</table>\n",
       "</div>"
      ],
      "text/plain": [
       "                                                                                                                Product  \\\n",
       "0           Pantene - Shampoo Nutrient Blends Volume Multiplier, con Bambú Pantenol y Colágeno, Shampoo Pantene, 270 ml   \n",
       "1  Pantene - Shampoo Control Caída, Bambú Nutre & Crece Minute Miracle, Shampoo con Biotina y Extracto de Bambú, 270 ml   \n",
       "2  Pantene - Shampoo Control Caída, Bambú Nutre & Crece Minute Miracle, Shampoo con Biotina y Extracto de Bambú, 480 ml   \n",
       "3      Pantene - Acondicionador Bambú Nutre & Crece 3 Minute Miracle, Acondicionador para Cabello de Uso Diario, 170 ml   \n",
       "\n",
       "   Price  Stars  \\\n",
       "0    170    4.5   \n",
       "1     71    4.5   \n",
       "2     97    4.7   \n",
       "3     71    4.7   \n",
       "\n",
       "                                                                                                                                                                        Link  \\\n",
       "0  https://www.amazon.com.mx//Pantene-Nutrient-Multiplier-Pantenol-Col%C3%A1geno/dp/B09VKJ956G/ref=sr_1_40?__mk_es_MX=%C3%85M%C3%85%C5%BD%C3%95%C3%91&keywords=shampoo+bi...   \n",
       "1  https://www.amazon.com.mx//Pantene-Shampoo-Minute-Miracle-Paquete/dp/B08QT71XJV/ref=sr_1_73?__mk_es_MX=%C3%85M%C3%85%C5%BD%C3%95%C3%91&keywords=shampoo+biotina+y+cola...   \n",
       "2  https://www.amazon.com.mx//Pantene-Shampoo-Pro-V-Minute-Miracle/dp/B08QT612WL/ref=sr_1_77?__mk_es_MX=%C3%85M%C3%85%C5%BD%C3%95%C3%91&keywords=shampoo+biotina+y+colage...   \n",
       "3  https://www.amazon.com.mx//Pantene-Acondicionador-Minute-Miracle-paquete/dp/B08QT5Y2XH/ref=sr_1_109?__mk_es_MX=%C3%85M%C3%85%C5%BD%C3%95%C3%91&keywords=shampoo+biotin...   \n",
       "\n",
       "   Ratings  \\\n",
       "0       66   \n",
       "1       32   \n",
       "2      426   \n",
       "3      246   \n",
       "\n",
       "                                                                                                                                                                    Comments  \n",
       "0  ['Deja el cabello con olor agradable y suave', 'Lo deja fuerte y noto que se ve con más volumen. 10 de 10!', 'Lo que más me gustó es la textura, no enreda el cabello....  \n",
       "1  ['Este es un excelente shampoo.  El pelo no se ha caído más.', 'Deja el cabello muy suave', 'Tiene mucho perfume, lo cual hace que sea muy invasivo el olor a la hora ...  \n",
       "2  ['No sé si ya no se me cae mucho el cabello pero me gustó que humecta el cabello y no lo deja pesado', 'Excelente, lo compré por recomendación de que me ayudaría a re...  \n",
       "3  ['Lo utilizo después de nadar porque los químicos maltratan el cabello y en verdad que desde el primer uso noté la mejoría en la textura del cabello, se fue la sequed...  "
      ]
     },
     "execution_count": 57,
     "metadata": {},
     "output_type": "execute_result"
    }
   ],
   "source": [
    "# Look for specif word(s)\n",
    "count = 0\n",
    "brand_producs = []\n",
    "for i in df['Product']:\n",
    "    if (re.search('pantene.', i, flags=re.IGNORECASE) and re.search('bamb[uú].', i, flags=re.IGNORECASE)): # or (re.search('la roche.', i, flags=re.IGNORECASE)) or (re.search('head & shoulders.', i, flags=re.IGNORECASE))\n",
    "        count += 1\n",
    "        brand_producs.append(i)\n",
    "print(count)\n",
    "\n",
    "brand_df = df[df.Product.isin(brand_producs)].reset_index(drop=True)\n",
    "#brand_df.to_excel('stella_products.xlsx', index=False)\n",
    "brand_df.head(10)"
   ]
  },
  {
   "cell_type": "code",
   "execution_count": 58,
   "metadata": {},
   "outputs": [],
   "source": [
    "for i in range(brand_df.__len__()):\n",
    "    utils_amazon.open_link(brand_df, i)"
   ]
  },
  {
   "cell_type": "code",
   "execution_count": null,
   "metadata": {},
   "outputs": [],
   "source": [
    "utils_amazon.open_link(df_75,'Truss Therapy Shampoo 300ml 10.14 fl. oz.')"
   ]
  },
  {
   "cell_type": "code",
   "execution_count": 29,
   "metadata": {},
   "outputs": [
    {
     "data": {
      "text/plain": [
       "4.01"
      ]
     },
     "execution_count": 29,
     "metadata": {},
     "output_type": "execute_result"
    }
   ],
   "source": [
    "round(df[df.Product.isin(brand_df.Product.tolist())]['Stars'].mean(), 2)"
   ]
  },
  {
   "cell_type": "code",
   "execution_count": null,
   "metadata": {},
   "outputs": [],
   "source": [
    "print(round(df[df.Product.isin(brand_df.Product.tolist())][['Product', 'Stars', 'Price']].reset_index(drop=True)['Price'].mean(),2))\n",
    "df[df.Product.isin(brand_df.Product.tolist())][['Product', 'Stars', 'Price']].reset_index(drop=True)"
   ]
  },
  {
   "attachments": {},
   "cell_type": "markdown",
   "metadata": {},
   "source": [
    "# Testing________________________________"
   ]
  },
  {
   "cell_type": "code",
   "execution_count": null,
   "metadata": {},
   "outputs": [],
   "source": [
    "import webbrowser\n",
    "import requests\n",
    "import bs4\n",
    "import utils_amazon\n",
    "from importlib import reload"
   ]
  },
  {
   "cell_type": "code",
   "execution_count": null,
   "metadata": {},
   "outputs": [],
   "source": [
    "df_test = utils_amazon.load_html_search()"
   ]
  }
 ],
 "metadata": {
  "kernelspec": {
   "display_name": "Python 3",
   "language": "python",
   "name": "python3"
  },
  "language_info": {
   "codemirror_mode": {
    "name": "ipython",
    "version": 3
   },
   "file_extension": ".py",
   "mimetype": "text/x-python",
   "name": "python",
   "nbconvert_exporter": "python",
   "pygments_lexer": "ipython3",
   "version": "3.11.1"
  },
  "orig_nbformat": 4,
  "vscode": {
   "interpreter": {
    "hash": "af37c3268cca26f2bfaf01d13423ff37a9d7634ed8fa0992ffd17d42608d9c97"
   }
  }
 },
 "nbformat": 4,
 "nbformat_minor": 2
}
