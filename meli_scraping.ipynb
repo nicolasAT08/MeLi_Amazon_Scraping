{
 "cells": [
  {
   "attachments": {},
   "cell_type": "markdown",
   "metadata": {},
   "source": [
    "# MeLi scraping"
   ]
  },
  {
   "cell_type": "code",
   "execution_count": null,
   "metadata": {},
   "outputs": [],
   "source": [
    "#! pip install requests\n",
    "#! pip install beautifulsoup4\n",
    "#! pip install matplotlib\n",
    "#! pip install ipykernel\n",
    "#! pip install openpyxl"
   ]
  },
  {
   "cell_type": "code",
   "execution_count": null,
   "metadata": {},
   "outputs": [],
   "source": [
    "import utils_meli\n",
    "from importlib import reload\n",
    "import pandas as pd\n",
    "import os\n",
    "import re\n",
    "from datetime import datetime\n",
    "import plotly.express as px\n",
    "\n",
    "from IPython.display import display\n",
    "pd.options.display.max_colwidth = 170\n",
    "pd.options.display.max_rows = None"
   ]
  },
  {
   "cell_type": "code",
   "execution_count": null,
   "metadata": {},
   "outputs": [],
   "source": [
    "parent_path = r\"\".replace('\\\\', '/')"
   ]
  },
  {
   "cell_type": "code",
   "execution_count": null,
   "metadata": {},
   "outputs": [],
   "source": [
    "# 30 min aprox.\n",
    "reload(utils_meli)\n",
    "df = utils_meli.load_html_search()"
   ]
  },
  {
   "cell_type": "code",
   "execution_count": null,
   "metadata": {},
   "outputs": [],
   "source": [
    "df.to_excel(os.path.join(parent_path,\"file_name_{}_{}_{}.xlsx\").format(datetime.today().year,datetime.today().month,datetime.today().day), index=False)"
   ]
  },
  {
   "cell_type": "code",
   "execution_count": null,
   "metadata": {},
   "outputs": [],
   "source": [
    "# Pass the DataFrame and copy and paste the product name you want to see in browser\n",
    "reload(utils_meli)\n",
    "utils_meli.open_link(df,'')"
   ]
  },
  {
   "cell_type": "code",
   "execution_count": null,
   "metadata": {},
   "outputs": [],
   "source": [
    "# Pass the DataFrame and index you want to open in browser\n",
    "reload(utils_meli)\n",
    "utils_meli.open_link(df,0)"
   ]
  },
  {
   "attachments": {},
   "cell_type": "markdown",
   "metadata": {},
   "source": [
    "# Metrics"
   ]
  },
  {
   "attachments": {},
   "cell_type": "markdown",
   "metadata": {},
   "source": [
    "## Price Analysis"
   ]
  },
  {
   "cell_type": "code",
   "execution_count": null,
   "metadata": {},
   "outputs": [],
   "source": [
    "df = pd.read_excel(pd.read_excel(os.path.join(parent_path, 'file_name.xlsx')))\n",
    "df.head()"
   ]
  },
  {
   "cell_type": "code",
   "execution_count": null,
   "metadata": {},
   "outputs": [],
   "source": [
    "reload(utils_meli)\n",
    "df_25 = utils_meli.quartile_prices(df)[0]\n",
    "df_25_50 = utils_meli.quartile_prices(df)[1]\n",
    "df_50_75 = utils_meli.quartile_prices(df)[2]\n",
    "df_75 = utils_meli.quartile_prices(df)[3]\n",
    "quartiles = utils_meli.quartile_prices(df)[4]\n",
    "print(f'Median: {df.Price.median()}')\n",
    "quartiles"
   ]
  },
  {
   "cell_type": "code",
   "execution_count": null,
   "metadata": {},
   "outputs": [],
   "source": [
    "# Products above quartile 75\n",
    "print('Prime products [above quartile 75] -> {} products ({}%) '.format(df_75.Product.to_list().__len__(), round((df_75.Product.to_list().__len__() / df.__len__()) * 100, 2)))\n",
    "print('Premium products [between quartiles 50 & 75] -> {} products ({}%) '.format(df_50_75.Product.to_list().__len__(), round((df_50_75.Product.to_list().__len__() / df.__len__()) * 100, 2)))\n",
    "print('Mid products [between quartiles 25 & 50] -> {} products ({}%) '.format(df_25_50.Product.to_list().__len__(), round((df_25_50.Product.to_list().__len__() / df.__len__()) * 100, 2)))\n",
    "print('Low products [below quartile 25 ] -> {} products ({}%) '.format(df_25.Product.to_list().__len__(), round((df_25.Product.to_list().__len__() / df.__len__()) * 100, 2)))"
   ]
  },
  {
   "cell_type": "code",
   "execution_count": null,
   "metadata": {},
   "outputs": [],
   "source": [
    "print('Quartile (75>) - Products: {}'.format(df_75.__len__()))\n",
    "display(df_75.head())\n",
    "display(px.bar(df_75.Brand.value_counts().to_frame()[df_75.Brand.value_counts().to_frame()['Brand']>=10], x='Brand', width=1100, height=600, text_auto=True,\n",
    "       labels={'index':'Brand', 'Brand':'Count'}).update_layout(xaxis={'categoryorder':'total descending'}, title='Brands over 10 search results'))\n",
    "\n",
    "print('Quartile (50-75] - Products: {}'.format(df_50_75.__len__()))\n",
    "display(df_50_75.head())\n",
    "display(px.bar(df_50_75.Brand.value_counts().to_frame()[df_50_75.Brand.value_counts().to_frame()['Brand']>=10], x='Brand', width=1100, height=600, text_auto=True,\n",
    "       labels={'index':'Brand', 'Brand':'Count'}).update_layout(xaxis={'categoryorder':'total descending'}, title='Brands over 10 search results'))\n",
    "\n",
    "print('Quartile (25-50] - Products: {}'.format(df_25_50.__len__()))\n",
    "display(df_25_50.head())\n",
    "display(px.bar(df_25_50.Brand.value_counts().to_frame()[df_25_50.Brand.value_counts().to_frame()['Brand']>=10], x='Brand', width=1100, height=600, text_auto=True,\n",
    "       labels={'index':'Brand', 'Brand':'Count'}).update_layout(xaxis={'categoryorder':'total descending'}, title='Brands over 10 search results'))\n",
    "\n",
    "print('Quartile (<25] - Products: {}'.format(df_25.__len__()))\n",
    "display(df_25.head())\n",
    "display(px.bar(df_25.Brand.value_counts().to_frame()[df_25.Brand.value_counts().to_frame()['Brand']>=10], x='Brand', width=1100, height=600, text_auto=True,\n",
    "       labels={'index':'Brand', 'Brand':'Count'}).update_layout(xaxis={'categoryorder':'total descending'}, title='Brands over 10 search results'))"
   ]
  },
  {
   "cell_type": "code",
   "execution_count": null,
   "metadata": {},
   "outputs": [],
   "source": [
    "px.box(df,'Price', title=f'Price distribution')"
   ]
  },
  {
   "cell_type": "code",
   "execution_count": null,
   "metadata": {},
   "outputs": [],
   "source": [
    "print(df[df['Price'] <= 831].shape[0])\n",
    "print(df[df['Price'] >= 449].shape[0] / df.shape[0])\n",
    "print(df[(df['Price'] > 247) & (df['Price'] <= 449)].shape[0] / df.shape[0])"
   ]
  },
  {
   "cell_type": "code",
   "execution_count": null,
   "metadata": {},
   "outputs": [],
   "source": [
    "display(px.histogram(df, x='Price', title=f'Price distribution'))\n",
    "display(px.histogram(df_75, x='Price', title=f'Price distribution - Prime Products', nbins=10, text_auto=True))\n",
    "display(df_75.describe().round(2))\n",
    "display(px.histogram(df_50_75, x='Price', title=f'Price distribution - Premium Products', nbins=15, text_auto=True))\n",
    "display(df_50_75.describe().round(2))\n",
    "display(px.histogram(df_25_50, x='Price', title=f'Price distribution - Mid Products', nbins=15, text_auto=True))\n",
    "display(df_25_50.describe().round(2))"
   ]
  },
  {
   "cell_type": "code",
   "execution_count": null,
   "metadata": {},
   "outputs": [],
   "source": [
    "#Prime brands\n",
    "display(df_75.Brand.value_counts().to_frame().reset_index().rename(columns={'index':'Brand','Brand':'Results'}).head(10))\n",
    "'''for i in df_75.Brand.value_counts().to_frame().reset_index().rename(columns={'index':'Brand','Brand':'Results'}).head(10).Brand.tolist():\n",
    "    print(i)'''\n",
    "\n",
    "#Premium brands\n",
    "display(df_50_75.Brand.value_counts().to_frame().reset_index().rename(columns={'index':'Brand','Brand':'Results'}).head(10))\n",
    "'''for i in df_50_75.Brand.value_counts().to_frame().reset_index().rename(columns={'index':'Brand','Brand':'Results'}).head(10).Brand.tolist():\n",
    "    print(i)'''\n",
    "\n",
    "#Mid brands\n",
    "display(df_25_50.Brand.value_counts().to_frame().reset_index().rename(columns={'index':'Brand','Brand':'Results'}).head(10))\n",
    "'''for i in df_25_50.Brand.value_counts().to_frame().reset_index().rename(columns={'index':'Brand','Brand':'Results'}).head(10).Brand.tolist():\n",
    "    print(i)'''"
   ]
  },
  {
   "attachments": {},
   "cell_type": "markdown",
   "metadata": {},
   "source": [
    "## Brands distribution"
   ]
  },
  {
   "cell_type": "code",
   "execution_count": null,
   "metadata": {},
   "outputs": [],
   "source": [
    "px.bar(df.Brand.value_counts().to_frame()[df.Brand.value_counts().to_frame()['Brand']>=10], x='Brand', width=1100, height=600, text_auto=True,\n",
    "       labels={'index':'Brand', 'Brand':'Count'}).update_layout(xaxis={'categoryorder':'total descending'}, title='Brands over 10 search results')"
   ]
  },
  {
   "attachments": {},
   "cell_type": "markdown",
   "metadata": {},
   "source": [
    "## Brand appearences"
   ]
  },
  {
   "cell_type": "code",
   "execution_count": null,
   "metadata": {},
   "outputs": [],
   "source": [
    "# Look for specif word(s)\n",
    "count = 0\n",
    "brand_producs = []\n",
    "for i in df['Product']:\n",
    "    if (re.search('head.', i, flags=re.IGNORECASE)) or (re.search('h&s.', i, flags=re.IGNORECASE)) or (re.search('head & shoulders.', i, flags=re.IGNORECASE)):\n",
    "        count += 1\n",
    "        brand_producs.append(i)\n",
    "print(count)\n",
    "\n",
    "brand_df = pd.DataFrame(data={'Product':brand_producs})\n",
    "brand_df.head(10)"
   ]
  },
  {
   "cell_type": "code",
   "execution_count": null,
   "metadata": {},
   "outputs": [],
   "source": [
    "count = 0\n",
    "brand_producs = []\n",
    "brand_prices = []\n",
    "for i in range(df.__len__()):\n",
    "    if (re.search('head.', df.loc[i,'Product'], flags=re.IGNORECASE)) or (re.search('h&s.', df.loc[i,'Product'], flags=re.IGNORECASE)) or (re.search('head & shoulders.', df.loc[i,'Product'], flags=re.IGNORECASE)):\n",
    "        count += 1\n",
    "        brand_producs.append(df.loc[i,'Product'])\n",
    "        brand_prices.append(df.loc[i,'Price'])\n",
    "print(count)\n",
    "\n",
    "brand_df = pd.DataFrame(data={'Product':brand_producs, 'Price':brand_prices})\n",
    "print(round(brand_df.Price.mean(), 2))\n",
    "brand_df.head(10)"
   ]
  }
 ],
 "metadata": {
  "kernelspec": {
   "display_name": "Python 3",
   "language": "python",
   "name": "python3"
  },
  "language_info": {
   "codemirror_mode": {
    "name": "ipython",
    "version": 3
   },
   "file_extension": ".py",
   "mimetype": "text/x-python",
   "name": "python",
   "nbconvert_exporter": "python",
   "pygments_lexer": "ipython3",
   "version": "3.9.2"
  },
  "orig_nbformat": 4,
  "vscode": {
   "interpreter": {
    "hash": "af37c3268cca26f2bfaf01d13423ff37a9d7634ed8fa0992ffd17d42608d9c97"
   }
  }
 },
 "nbformat": 4,
 "nbformat_minor": 2
}
