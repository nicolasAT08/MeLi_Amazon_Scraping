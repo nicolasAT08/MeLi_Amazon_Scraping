{
 "cells": [
  {
   "attachments": {},
   "cell_type": "markdown",
   "metadata": {},
   "source": [
    "# MeLi scraping"
   ]
  },
  {
   "cell_type": "code",
   "execution_count": null,
   "metadata": {},
   "outputs": [],
   "source": [
    "#! pip install requests\n",
    "#! pip install beautifulsoup4\n",
    "#! pip install matplotlib\n",
    "#! pip install ipykernel"
   ]
  },
  {
   "cell_type": "code",
   "execution_count": 1,
   "metadata": {},
   "outputs": [],
   "source": [
    "import utils_meli\n",
    "from importlib import reload\n",
    "import pandas as pd\n",
    "import re\n",
    "from datetime import datetime\n",
    "import plotly.express as px\n",
    "\n",
    "from IPython.display import display\n",
    "pd.options.display.max_colwidth = 170\n",
    "pd.options.display.max_rows = None"
   ]
  },
  {
   "cell_type": "code",
   "execution_count": 4,
   "metadata": {},
   "outputs": [
    {
     "data": {
      "text/plain": [
       "<module 'utils_meli' from 'c:\\\\Users\\\\nicarang\\\\Documents\\\\Digitas\\\\P&G\\\\Benchmarking\\\\utils_meli.py'>"
      ]
     },
     "execution_count": 4,
     "metadata": {},
     "output_type": "execute_result"
    }
   ],
   "source": [
    "reload(utils_meli)"
   ]
  },
  {
   "cell_type": "code",
   "execution_count": 2,
   "metadata": {},
   "outputs": [
    {
     "name": "stdout",
     "output_type": "stream",
     "text": [
      "Response status code: 200\n",
      "1\n",
      "***************Shampoo Para La Caspa | MercadoLibre 📦***************\n",
      "Total pages: 33\n",
      "Current page: 1\n",
      "\n",
      "\n",
      "Total products retrieved: 1657\n"
     ]
    },
    {
     "data": {
      "text/html": [
       "<div>\n",
       "<style scoped>\n",
       "    .dataframe tbody tr th:only-of-type {\n",
       "        vertical-align: middle;\n",
       "    }\n",
       "\n",
       "    .dataframe tbody tr th {\n",
       "        vertical-align: top;\n",
       "    }\n",
       "\n",
       "    .dataframe thead th {\n",
       "        text-align: right;\n",
       "    }\n",
       "</style>\n",
       "<table border=\"1\" class=\"dataframe\">\n",
       "  <thead>\n",
       "    <tr style=\"text-align: right;\">\n",
       "      <th></th>\n",
       "      <th>Brand</th>\n",
       "      <th>Product</th>\n",
       "      <th>Price</th>\n",
       "      <th>Link</th>\n",
       "      <th>Score</th>\n",
       "      <th>Ratings</th>\n",
       "      <th>Comments</th>\n",
       "    </tr>\n",
       "  </thead>\n",
       "  <tbody>\n",
       "    <tr>\n",
       "      <th>0</th>\n",
       "      <td>ISDIN</td>\n",
       "      <td>Isdin Nutradeica Shampoo Anticaspa Grasa 200ml</td>\n",
       "      <td>434</td>\n",
       "      <td>https://www.mercadolibre.com.mx/isdin-nutradeica-shampoo-anticaspa-grasa-200ml/p/MLM19702444?pdp_filters=category:MLM430117#searchVariation=MLM19702444&amp;position=1&amp;sea...</td>\n",
       "      <td>4.7</td>\n",
       "      <td>73</td>\n",
       "      <td>[Pues en mi opinión nadie me lo recetó yo busque un shampoo porque tenía demasiada caspa y ya asta me sentía desesperada y mal de verme tanta cosas blancas en mi cabe...</td>\n",
       "    </tr>\n",
       "    <tr>\n",
       "      <th>1</th>\n",
       "      <td>MD LIFERPAL</td>\n",
       "      <td>Tiniazol Shampoo Alopecia Seborrea Y/o Caspa</td>\n",
       "      <td>48</td>\n",
       "      <td>https://www.mercadolibre.com.mx/tiniazol-shampoo-alopecia-seborrea-yo-caspa/p/MLM19505006?pdp_filters=category:MLM430117#searchVariation=MLM19505006&amp;position=2&amp;search...</td>\n",
       "      <td>4.6</td>\n",
       "      <td>50</td>\n",
       "      <td>[Excelente para tratar dermatitis seborreica, desde el primer o segundo uso notas de inmediato el cambio. No duden, este si es tratamiento 100% efectivo!!., A la sema...</td>\n",
       "    </tr>\n",
       "    <tr>\n",
       "      <th>2</th>\n",
       "      <td>ISDIN</td>\n",
       "      <td>Shampoo Isdin Lambdapil Anticaída en botella de 200mL</td>\n",
       "      <td>349</td>\n",
       "      <td>https://www.mercadolibre.com.mx/shampoo-isdin-lambdapil-anticaida-en-botella-de-200ml/p/MLM19147966?pdp_filters=category:MLM430117#searchVariation=MLM19147966&amp;positio...</td>\n",
       "      <td>0.0</td>\n",
       "      <td>0</td>\n",
       "      <td>[[]]</td>\n",
       "    </tr>\n",
       "    <tr>\n",
       "      <th>3</th>\n",
       "      <td>-</td>\n",
       "      <td>Shampoo Selsun Medicated Max Strength Dandruff 325ml</td>\n",
       "      <td>299</td>\n",
       "      <td>https://articulo.mercadolibre.com.mx/MLM-1828433089-shampoo-selsun-medicated-max-strength-dandruff-325ml-_JM#position=33&amp;search_layout=stack&amp;type=item&amp;tracking_id=f18...</td>\n",
       "      <td>5.0</td>\n",
       "      <td>5</td>\n",
       "      <td>[Es muy bueno para el pelo grasoso y elimina la caspa y la comezón., Me ha sido muy útil y efectivo, desde el primer uso., Muy bueno gracias.]</td>\n",
       "    </tr>\n",
       "    <tr>\n",
       "      <th>4</th>\n",
       "      <td>-</td>\n",
       "      <td>2 Shampoo Selsun Blue Medicated 325ml C/u</td>\n",
       "      <td>498</td>\n",
       "      <td>https://articulo.mercadolibre.com.mx/MLM-1403512770-2-shampoo-selsun-blue-medicated-325ml-cu-_JM#position=34&amp;search_layout=stack&amp;type=item&amp;tracking_id=f1804ad5-e0e5-4...</td>\n",
       "      <td>5.0</td>\n",
       "      <td>8</td>\n",
       "      <td>[Satisfecho con mi compra., Excelente articulo de calidad tal y como se publica., Excelente shampoo es un basico para mi.]</td>\n",
       "    </tr>\n",
       "  </tbody>\n",
       "</table>\n",
       "</div>"
      ],
      "text/plain": [
       "         Brand                                                Product  Price  \\\n",
       "0        ISDIN         Isdin Nutradeica Shampoo Anticaspa Grasa 200ml    434   \n",
       "1  MD LIFERPAL           Tiniazol Shampoo Alopecia Seborrea Y/o Caspa     48   \n",
       "2        ISDIN  Shampoo Isdin Lambdapil Anticaída en botella de 200mL    349   \n",
       "3            -   Shampoo Selsun Medicated Max Strength Dandruff 325ml    299   \n",
       "4            -              2 Shampoo Selsun Blue Medicated 325ml C/u    498   \n",
       "\n",
       "                                                                                                                                                                        Link  \\\n",
       "0  https://www.mercadolibre.com.mx/isdin-nutradeica-shampoo-anticaspa-grasa-200ml/p/MLM19702444?pdp_filters=category:MLM430117#searchVariation=MLM19702444&position=1&sea...   \n",
       "1  https://www.mercadolibre.com.mx/tiniazol-shampoo-alopecia-seborrea-yo-caspa/p/MLM19505006?pdp_filters=category:MLM430117#searchVariation=MLM19505006&position=2&search...   \n",
       "2  https://www.mercadolibre.com.mx/shampoo-isdin-lambdapil-anticaida-en-botella-de-200ml/p/MLM19147966?pdp_filters=category:MLM430117#searchVariation=MLM19147966&positio...   \n",
       "3  https://articulo.mercadolibre.com.mx/MLM-1828433089-shampoo-selsun-medicated-max-strength-dandruff-325ml-_JM#position=33&search_layout=stack&type=item&tracking_id=f18...   \n",
       "4  https://articulo.mercadolibre.com.mx/MLM-1403512770-2-shampoo-selsun-blue-medicated-325ml-cu-_JM#position=34&search_layout=stack&type=item&tracking_id=f1804ad5-e0e5-4...   \n",
       "\n",
       "   Score  Ratings  \\\n",
       "0    4.7       73   \n",
       "1    4.6       50   \n",
       "2    0.0        0   \n",
       "3    5.0        5   \n",
       "4    5.0        8   \n",
       "\n",
       "                                                                                                                                                                    Comments  \n",
       "0  [Pues en mi opinión nadie me lo recetó yo busque un shampoo porque tenía demasiada caspa y ya asta me sentía desesperada y mal de verme tanta cosas blancas en mi cabe...  \n",
       "1  [Excelente para tratar dermatitis seborreica, desde el primer o segundo uso notas de inmediato el cambio. No duden, este si es tratamiento 100% efectivo!!., A la sema...  \n",
       "2                                                                                                                                                                       [[]]  \n",
       "3                             [Es muy bueno para el pelo grasoso y elimina la caspa y la comezón., Me ha sido muy útil y efectivo, desde el primer uso., Muy bueno gracias.]  \n",
       "4                                                 [Satisfecho con mi compra., Excelente articulo de calidad tal y como se publica., Excelente shampoo es un basico para mi.]  "
      ]
     },
     "metadata": {},
     "output_type": "display_data"
    }
   ],
   "source": [
    "# 30 min aprox.\n",
    "df = utils_meli.load_html_search()"
   ]
  },
  {
   "cell_type": "code",
   "execution_count": 23,
   "metadata": {},
   "outputs": [],
   "source": [
    "df.to_excel(\"C:/Users/nicarang/Documents/Digitas/P&G/Benchmarking/H&S/Severe/shampoo_para_la_caspa_{}_{}_{}.xlsx\".format(datetime.today().year,datetime.today().month,datetime.today().day) , index=False)"
   ]
  },
  {
   "cell_type": "code",
   "execution_count": null,
   "metadata": {},
   "outputs": [],
   "source": [
    "# Pass the DataFrame and copy and paste the product name you want to see in browser\n",
    "reload(utils_meli)\n",
    "utils_meli.open_link(df,'Kit Capilar Argan Oil: Crema Rizadora Gd3 + Aceite Babyliss')"
   ]
  },
  {
   "cell_type": "code",
   "execution_count": null,
   "metadata": {},
   "outputs": [],
   "source": [
    "# Pass the DataFrame and index you want to open in browser\n",
    "reload(utils_meli)\n",
    "utils_meli.open_link(df,3)"
   ]
  },
  {
   "attachments": {},
   "cell_type": "markdown",
   "metadata": {},
   "source": [
    "# Metrics"
   ]
  },
  {
   "attachments": {},
   "cell_type": "markdown",
   "metadata": {},
   "source": [
    "## Price Analysis"
   ]
  },
  {
   "cell_type": "code",
   "execution_count": 21,
   "metadata": {},
   "outputs": [
    {
     "data": {
      "text/plain": [
       "'C:/Users/nicarang/Documents/Digitas/P&G/Benchmarking/H&S/Severe/MeLi/shampoo_para_la_caspa_2023_3_27.xlsx'"
      ]
     },
     "execution_count": 21,
     "metadata": {},
     "output_type": "execute_result"
    }
   ],
   "source": [
    "r\"C:\\Users\\nicarang\\Documents\\Digitas\\P&G\\Benchmarking\\H&S\\Severe\\MeLi\\shampoo_para_la_caspa_2023_3_27.xlsx\".replace(\"\\\\\", \"/\")"
   ]
  },
  {
   "cell_type": "code",
   "execution_count": 22,
   "metadata": {},
   "outputs": [
    {
     "data": {
      "text/html": [
       "<div>\n",
       "<style scoped>\n",
       "    .dataframe tbody tr th:only-of-type {\n",
       "        vertical-align: middle;\n",
       "    }\n",
       "\n",
       "    .dataframe tbody tr th {\n",
       "        vertical-align: top;\n",
       "    }\n",
       "\n",
       "    .dataframe thead th {\n",
       "        text-align: right;\n",
       "    }\n",
       "</style>\n",
       "<table border=\"1\" class=\"dataframe\">\n",
       "  <thead>\n",
       "    <tr style=\"text-align: right;\">\n",
       "      <th></th>\n",
       "      <th>Brand</th>\n",
       "      <th>Product</th>\n",
       "      <th>Price</th>\n",
       "      <th>Link</th>\n",
       "    </tr>\n",
       "  </thead>\n",
       "  <tbody>\n",
       "    <tr>\n",
       "      <th>0</th>\n",
       "      <td>MEDICASP</td>\n",
       "      <td>Shampoo Medicasp Anticaspa Uso Diario 2 Botellas De 130ml</td>\n",
       "      <td>195</td>\n",
       "      <td>https://www.mercadolibre.com.mx/shampoo-medicasp-anticaspa-uso-diario-2-botellas-de-130ml/p/MLM19094907?pdp_filters=category:MLM430117#searchVariation=MLM19094907&amp;pos...</td>\n",
       "    </tr>\n",
       "    <tr>\n",
       "      <th>1</th>\n",
       "      <td>VICHY</td>\n",
       "      <td>Shampoo Vichy Anticaspa Dercos Ds Cabello Graso 200 Ml</td>\n",
       "      <td>557</td>\n",
       "      <td>https://articulo.mercadolibre.com.mx/MLM-769613335-shampoo-vichy-anticaspa-dercos-ds-cabello-graso-200-ml-_JM#position=29&amp;search_layout=stack&amp;type=item&amp;tracking_id=bf...</td>\n",
       "    </tr>\n",
       "    <tr>\n",
       "      <th>2</th>\n",
       "      <td>SELSUN BLUE</td>\n",
       "      <td>Shampoo Selsun Blue Naturals Dandruff 325ml 11oz</td>\n",
       "      <td>223</td>\n",
       "      <td>https://www.mercadolibre.com.mx/shampoo-selsun-blue-naturals-dandruff-325ml-11oz/p/MLM19546760?pdp_filters=category:MLM430117#searchVariation=MLM19546760&amp;position=2&amp;s...</td>\n",
       "    </tr>\n",
       "    <tr>\n",
       "      <th>3</th>\n",
       "      <td>ISDIN</td>\n",
       "      <td>Isdin Nutradeica Shampoo Anticaspa Grasa 200ml</td>\n",
       "      <td>358</td>\n",
       "      <td>https://www.mercadolibre.com.mx/isdin-nutradeica-shampoo-anticaspa-grasa-200ml/p/MLM19702444?pdp_filters=category:MLM430117#searchVariation=MLM19702444&amp;position=3&amp;sea...</td>\n",
       "    </tr>\n",
       "    <tr>\n",
       "      <th>4</th>\n",
       "      <td>ISDIN</td>\n",
       "      <td>Shampoo Isdin Lambdapil Anticaída en botella de 200mL</td>\n",
       "      <td>330</td>\n",
       "      <td>https://www.mercadolibre.com.mx/shampoo-isdin-lambdapil-anticaida-en-botella-de-200ml/p/MLM19147966?pdp_filters=category:MLM430117#searchVariation=MLM19147966&amp;positio...</td>\n",
       "    </tr>\n",
       "  </tbody>\n",
       "</table>\n",
       "</div>"
      ],
      "text/plain": [
       "         Brand                                                    Product  \\\n",
       "0     MEDICASP  Shampoo Medicasp Anticaspa Uso Diario 2 Botellas De 130ml   \n",
       "1        VICHY    Shampoo Vichy Anticaspa Dercos Ds Cabello Graso 200 Ml    \n",
       "2  SELSUN BLUE           Shampoo Selsun Blue Naturals Dandruff 325ml 11oz   \n",
       "3        ISDIN             Isdin Nutradeica Shampoo Anticaspa Grasa 200ml   \n",
       "4        ISDIN      Shampoo Isdin Lambdapil Anticaída en botella de 200mL   \n",
       "\n",
       "   Price  \\\n",
       "0    195   \n",
       "1    557   \n",
       "2    223   \n",
       "3    358   \n",
       "4    330   \n",
       "\n",
       "                                                                                                                                                                        Link  \n",
       "0  https://www.mercadolibre.com.mx/shampoo-medicasp-anticaspa-uso-diario-2-botellas-de-130ml/p/MLM19094907?pdp_filters=category:MLM430117#searchVariation=MLM19094907&pos...  \n",
       "1  https://articulo.mercadolibre.com.mx/MLM-769613335-shampoo-vichy-anticaspa-dercos-ds-cabello-graso-200-ml-_JM#position=29&search_layout=stack&type=item&tracking_id=bf...  \n",
       "2  https://www.mercadolibre.com.mx/shampoo-selsun-blue-naturals-dandruff-325ml-11oz/p/MLM19546760?pdp_filters=category:MLM430117#searchVariation=MLM19546760&position=2&s...  \n",
       "3  https://www.mercadolibre.com.mx/isdin-nutradeica-shampoo-anticaspa-grasa-200ml/p/MLM19702444?pdp_filters=category:MLM430117#searchVariation=MLM19702444&position=3&sea...  \n",
       "4  https://www.mercadolibre.com.mx/shampoo-isdin-lambdapil-anticaida-en-botella-de-200ml/p/MLM19147966?pdp_filters=category:MLM430117#searchVariation=MLM19147966&positio...  "
      ]
     },
     "execution_count": 22,
     "metadata": {},
     "output_type": "execute_result"
    }
   ],
   "source": [
    "df = pd.read_excel(r\"C:\\Users\\nicarang\\Documents\\Digitas\\P&G\\Benchmarking\\H&S\\Severe\\MeLi\\shampoo_para_la_caspa_2023_3_27.xlsx\".replace(\"\\\\\", \"/\"))\n",
    "df.head()"
   ]
  },
  {
   "cell_type": "code",
   "execution_count": 23,
   "metadata": {},
   "outputs": [
    {
     "name": "stdout",
     "output_type": "stream",
     "text": [
      "Median: 449.0\n"
     ]
    },
    {
     "data": {
      "text/html": [
       "<div>\n",
       "<style scoped>\n",
       "    .dataframe tbody tr th:only-of-type {\n",
       "        vertical-align: middle;\n",
       "    }\n",
       "\n",
       "    .dataframe tbody tr th {\n",
       "        vertical-align: top;\n",
       "    }\n",
       "\n",
       "    .dataframe thead th {\n",
       "        text-align: right;\n",
       "    }\n",
       "</style>\n",
       "<table border=\"1\" class=\"dataframe\">\n",
       "  <thead>\n",
       "    <tr style=\"text-align: right;\">\n",
       "      <th></th>\n",
       "      <th>Price</th>\n",
       "    </tr>\n",
       "  </thead>\n",
       "  <tbody>\n",
       "    <tr>\n",
       "      <th>count</th>\n",
       "      <td>1673.00</td>\n",
       "    </tr>\n",
       "    <tr>\n",
       "      <th>mean</th>\n",
       "      <td>662.25</td>\n",
       "    </tr>\n",
       "    <tr>\n",
       "      <th>std</th>\n",
       "      <td>662.15</td>\n",
       "    </tr>\n",
       "    <tr>\n",
       "      <th>min</th>\n",
       "      <td>2.00</td>\n",
       "    </tr>\n",
       "    <tr>\n",
       "      <th>25%</th>\n",
       "      <td>247.00</td>\n",
       "    </tr>\n",
       "    <tr>\n",
       "      <th>50%</th>\n",
       "      <td>449.00</td>\n",
       "    </tr>\n",
       "    <tr>\n",
       "      <th>75%</th>\n",
       "      <td>831.00</td>\n",
       "    </tr>\n",
       "    <tr>\n",
       "      <th>max</th>\n",
       "      <td>4156.00</td>\n",
       "    </tr>\n",
       "  </tbody>\n",
       "</table>\n",
       "</div>"
      ],
      "text/plain": [
       "         Price\n",
       "count  1673.00\n",
       "mean    662.25\n",
       "std     662.15\n",
       "min       2.00\n",
       "25%     247.00\n",
       "50%     449.00\n",
       "75%     831.00\n",
       "max    4156.00"
      ]
     },
     "execution_count": 23,
     "metadata": {},
     "output_type": "execute_result"
    }
   ],
   "source": [
    "reload(utils_meli)\n",
    "df_25 = utils_meli.quartile_prices(df)[0]\n",
    "df_25_50 = utils_meli.quartile_prices(df)[1]\n",
    "df_50_75 = utils_meli.quartile_prices(df)[2]\n",
    "df_75 = utils_meli.quartile_prices(df)[3]\n",
    "quartiles = utils_meli.quartile_prices(df)[4]\n",
    "print(f'Median: {df.Price.median()}')\n",
    "quartiles"
   ]
  },
  {
   "cell_type": "code",
   "execution_count": 16,
   "metadata": {},
   "outputs": [
    {
     "name": "stdout",
     "output_type": "stream",
     "text": [
      "Prime products [above quartile 75] -> 418 products (24.99%) \n",
      "Premium products [between quartiles 50 & 75] -> 417 products (24.93%) \n",
      "Mid products [between quartiles 25 & 50] -> 419 products (25.04%) \n",
      "Low products [below quartile 25 ] -> 419 products (25.04%) \n"
     ]
    }
   ],
   "source": [
    "# Products above quartile 75\n",
    "print('Prime products [above quartile 75] -> {} products ({}%) '.format(df_75.Product.to_list().__len__(), round((df_75.Product.to_list().__len__() / df.__len__()) * 100, 2)))\n",
    "print('Premium products [between quartiles 50 & 75] -> {} products ({}%) '.format(df_50_75.Product.to_list().__len__(), round((df_50_75.Product.to_list().__len__() / df.__len__()) * 100, 2)))\n",
    "print('Mid products [between quartiles 25 & 50] -> {} products ({}%) '.format(df_25_50.Product.to_list().__len__(), round((df_25_50.Product.to_list().__len__() / df.__len__()) * 100, 2)))\n",
    "print('Low products [below quartile 25 ] -> {} products ({}%) '.format(df_25.Product.to_list().__len__(), round((df_25.Product.to_list().__len__() / df.__len__()) * 100, 2)))"
   ]
  },
  {
   "cell_type": "code",
   "execution_count": 17,
   "metadata": {},
   "outputs": [
    {
     "name": "stdout",
     "output_type": "stream",
     "text": [
      "Quartile (75>) - Products: 418\n"
     ]
    },
    {
     "data": {
      "text/html": [
       "<div>\n",
       "<style scoped>\n",
       "    .dataframe tbody tr th:only-of-type {\n",
       "        vertical-align: middle;\n",
       "    }\n",
       "\n",
       "    .dataframe tbody tr th {\n",
       "        vertical-align: top;\n",
       "    }\n",
       "\n",
       "    .dataframe thead th {\n",
       "        text-align: right;\n",
       "    }\n",
       "</style>\n",
       "<table border=\"1\" class=\"dataframe\">\n",
       "  <thead>\n",
       "    <tr style=\"text-align: right;\">\n",
       "      <th></th>\n",
       "      <th>Brand</th>\n",
       "      <th>Product</th>\n",
       "      <th>Price</th>\n",
       "      <th>Link</th>\n",
       "    </tr>\n",
       "  </thead>\n",
       "  <tbody>\n",
       "    <tr>\n",
       "      <th>0</th>\n",
       "      <td>-</td>\n",
       "      <td>Shampoo Alquitran D' Hulla 20lt Tratamiento Psoriasis/ Hongo</td>\n",
       "      <td>1450</td>\n",
       "      <td>https://click1.mercadolibre.com.mx/mclics/clicks/external/MLM/count?a=jy3ff5s61ZKQtO7sVArbaoZ11r6KhLvZdtXidXHHAk5hsVY6VdSAFSM34HH5yJXDxRX8yQ7wvuzFfzM57bnOQ%2FpebgLd31...</td>\n",
       "    </tr>\n",
       "    <tr>\n",
       "      <th>1</th>\n",
       "      <td>JUSSE</td>\n",
       "      <td>Kit 3 Shampoo Jusse Alopecia Caída Crecimiento Frágil Frizz</td>\n",
       "      <td>999</td>\n",
       "      <td>https://click1.mercadolibre.com.mx/mclics/clicks/external/MLM/count?a=qTNjUzqT4FqbM9ZGSujQTX2QY%2BWZoM3FSdjJtsESYW3kP76jFcLc31wcH69gstVuDCmmKyZG6kWHfsjbNgmgEp5xAo0z19...</td>\n",
       "    </tr>\n",
       "    <tr>\n",
       "      <th>2</th>\n",
       "      <td>NEUTROGENA</td>\n",
       "      <td>Shampoo Gel Neutrogena T/gel  Fórmula Original Pak 2 (250ml)</td>\n",
       "      <td>875</td>\n",
       "      <td>https://articulo.mercadolibre.com.mx/MLM-1425050167-shampoo-gel-neutrogena-tgel-formula-original-pak-2-250ml-_JM#position=38&amp;search_layout=stack&amp;type=item&amp;tracking_id...</td>\n",
       "    </tr>\n",
       "    <tr>\n",
       "      <th>3</th>\n",
       "      <td>PALMOLIVE</td>\n",
       "      <td>1152 Pzs/10ml. Shampoo Hotelero Palmolive Optims En Sobres</td>\n",
       "      <td>1709</td>\n",
       "      <td>https://articulo.mercadolibre.com.mx/MLM-871879796-1152-pzs10ml-shampoo-hotelero-palmolive-optims-en-sobres-_JM#position=41&amp;search_layout=stack&amp;type=item&amp;tracking_id=...</td>\n",
       "    </tr>\n",
       "    <tr>\n",
       "      <th>4</th>\n",
       "      <td>-</td>\n",
       "      <td>Cln Champú Cuero Cabelludo Propensos Foliculitis Caspa Picor</td>\n",
       "      <td>1799</td>\n",
       "      <td>https://articulo.mercadolibre.com.mx/MLM-1518769756-cln-champu-cuero-cabelludo-propensos-foliculitis-caspa-picor-_JM#position=20&amp;search_layout=stack&amp;type=item&amp;trackin...</td>\n",
       "    </tr>\n",
       "  </tbody>\n",
       "</table>\n",
       "</div>"
      ],
      "text/plain": [
       "        Brand                                                       Product  \\\n",
       "0           -  Shampoo Alquitran D' Hulla 20lt Tratamiento Psoriasis/ Hongo   \n",
       "1       JUSSE   Kit 3 Shampoo Jusse Alopecia Caída Crecimiento Frágil Frizz   \n",
       "2  NEUTROGENA  Shampoo Gel Neutrogena T/gel  Fórmula Original Pak 2 (250ml)   \n",
       "3   PALMOLIVE    1152 Pzs/10ml. Shampoo Hotelero Palmolive Optims En Sobres   \n",
       "4           -  Cln Champú Cuero Cabelludo Propensos Foliculitis Caspa Picor   \n",
       "\n",
       "   Price  \\\n",
       "0   1450   \n",
       "1    999   \n",
       "2    875   \n",
       "3   1709   \n",
       "4   1799   \n",
       "\n",
       "                                                                                                                                                                        Link  \n",
       "0  https://click1.mercadolibre.com.mx/mclics/clicks/external/MLM/count?a=jy3ff5s61ZKQtO7sVArbaoZ11r6KhLvZdtXidXHHAk5hsVY6VdSAFSM34HH5yJXDxRX8yQ7wvuzFfzM57bnOQ%2FpebgLd31...  \n",
       "1  https://click1.mercadolibre.com.mx/mclics/clicks/external/MLM/count?a=qTNjUzqT4FqbM9ZGSujQTX2QY%2BWZoM3FSdjJtsESYW3kP76jFcLc31wcH69gstVuDCmmKyZG6kWHfsjbNgmgEp5xAo0z19...  \n",
       "2  https://articulo.mercadolibre.com.mx/MLM-1425050167-shampoo-gel-neutrogena-tgel-formula-original-pak-2-250ml-_JM#position=38&search_layout=stack&type=item&tracking_id...  \n",
       "3  https://articulo.mercadolibre.com.mx/MLM-871879796-1152-pzs10ml-shampoo-hotelero-palmolive-optims-en-sobres-_JM#position=41&search_layout=stack&type=item&tracking_id=...  \n",
       "4  https://articulo.mercadolibre.com.mx/MLM-1518769756-cln-champu-cuero-cabelludo-propensos-foliculitis-caspa-picor-_JM#position=20&search_layout=stack&type=item&trackin...  "
      ]
     },
     "metadata": {},
     "output_type": "display_data"
    },
    {
     "data": {
      "application/vnd.plotly.v1+json": {
       "config": {
        "plotlyServerURL": "https://plot.ly"
       },
       "data": [
        {
         "alignmentgroup": "True",
         "hovertemplate": "Count=%{x}<br>Brand=%{y}<extra></extra>",
         "legendgroup": "",
         "marker": {
          "color": "#636efa",
          "pattern": {
           "shape": ""
          }
         },
         "name": "",
         "offsetgroup": "",
         "orientation": "h",
         "showlegend": false,
         "textposition": "auto",
         "texttemplate": "%{x}",
         "type": "bar",
         "x": [
          131,
          111,
          98
         ],
         "xaxis": "x",
         "y": [
          "CELESTY",
          "-",
          "FRANCIS"
         ],
         "yaxis": "y"
        }
       ],
       "layout": {
        "barmode": "relative",
        "height": 600,
        "legend": {
         "tracegroupgap": 0
        },
        "margin": {
         "t": 60
        },
        "template": {
         "data": {
          "bar": [
           {
            "error_x": {
             "color": "#2a3f5f"
            },
            "error_y": {
             "color": "#2a3f5f"
            },
            "marker": {
             "line": {
              "color": "#E5ECF6",
              "width": 0.5
             },
             "pattern": {
              "fillmode": "overlay",
              "size": 10,
              "solidity": 0.2
             }
            },
            "type": "bar"
           }
          ],
          "barpolar": [
           {
            "marker": {
             "line": {
              "color": "#E5ECF6",
              "width": 0.5
             },
             "pattern": {
              "fillmode": "overlay",
              "size": 10,
              "solidity": 0.2
             }
            },
            "type": "barpolar"
           }
          ],
          "carpet": [
           {
            "aaxis": {
             "endlinecolor": "#2a3f5f",
             "gridcolor": "white",
             "linecolor": "white",
             "minorgridcolor": "white",
             "startlinecolor": "#2a3f5f"
            },
            "baxis": {
             "endlinecolor": "#2a3f5f",
             "gridcolor": "white",
             "linecolor": "white",
             "minorgridcolor": "white",
             "startlinecolor": "#2a3f5f"
            },
            "type": "carpet"
           }
          ],
          "choropleth": [
           {
            "colorbar": {
             "outlinewidth": 0,
             "ticks": ""
            },
            "type": "choropleth"
           }
          ],
          "contour": [
           {
            "colorbar": {
             "outlinewidth": 0,
             "ticks": ""
            },
            "colorscale": [
             [
              0,
              "#0d0887"
             ],
             [
              0.1111111111111111,
              "#46039f"
             ],
             [
              0.2222222222222222,
              "#7201a8"
             ],
             [
              0.3333333333333333,
              "#9c179e"
             ],
             [
              0.4444444444444444,
              "#bd3786"
             ],
             [
              0.5555555555555556,
              "#d8576b"
             ],
             [
              0.6666666666666666,
              "#ed7953"
             ],
             [
              0.7777777777777778,
              "#fb9f3a"
             ],
             [
              0.8888888888888888,
              "#fdca26"
             ],
             [
              1,
              "#f0f921"
             ]
            ],
            "type": "contour"
           }
          ],
          "contourcarpet": [
           {
            "colorbar": {
             "outlinewidth": 0,
             "ticks": ""
            },
            "type": "contourcarpet"
           }
          ],
          "heatmap": [
           {
            "colorbar": {
             "outlinewidth": 0,
             "ticks": ""
            },
            "colorscale": [
             [
              0,
              "#0d0887"
             ],
             [
              0.1111111111111111,
              "#46039f"
             ],
             [
              0.2222222222222222,
              "#7201a8"
             ],
             [
              0.3333333333333333,
              "#9c179e"
             ],
             [
              0.4444444444444444,
              "#bd3786"
             ],
             [
              0.5555555555555556,
              "#d8576b"
             ],
             [
              0.6666666666666666,
              "#ed7953"
             ],
             [
              0.7777777777777778,
              "#fb9f3a"
             ],
             [
              0.8888888888888888,
              "#fdca26"
             ],
             [
              1,
              "#f0f921"
             ]
            ],
            "type": "heatmap"
           }
          ],
          "heatmapgl": [
           {
            "colorbar": {
             "outlinewidth": 0,
             "ticks": ""
            },
            "colorscale": [
             [
              0,
              "#0d0887"
             ],
             [
              0.1111111111111111,
              "#46039f"
             ],
             [
              0.2222222222222222,
              "#7201a8"
             ],
             [
              0.3333333333333333,
              "#9c179e"
             ],
             [
              0.4444444444444444,
              "#bd3786"
             ],
             [
              0.5555555555555556,
              "#d8576b"
             ],
             [
              0.6666666666666666,
              "#ed7953"
             ],
             [
              0.7777777777777778,
              "#fb9f3a"
             ],
             [
              0.8888888888888888,
              "#fdca26"
             ],
             [
              1,
              "#f0f921"
             ]
            ],
            "type": "heatmapgl"
           }
          ],
          "histogram": [
           {
            "marker": {
             "pattern": {
              "fillmode": "overlay",
              "size": 10,
              "solidity": 0.2
             }
            },
            "type": "histogram"
           }
          ],
          "histogram2d": [
           {
            "colorbar": {
             "outlinewidth": 0,
             "ticks": ""
            },
            "colorscale": [
             [
              0,
              "#0d0887"
             ],
             [
              0.1111111111111111,
              "#46039f"
             ],
             [
              0.2222222222222222,
              "#7201a8"
             ],
             [
              0.3333333333333333,
              "#9c179e"
             ],
             [
              0.4444444444444444,
              "#bd3786"
             ],
             [
              0.5555555555555556,
              "#d8576b"
             ],
             [
              0.6666666666666666,
              "#ed7953"
             ],
             [
              0.7777777777777778,
              "#fb9f3a"
             ],
             [
              0.8888888888888888,
              "#fdca26"
             ],
             [
              1,
              "#f0f921"
             ]
            ],
            "type": "histogram2d"
           }
          ],
          "histogram2dcontour": [
           {
            "colorbar": {
             "outlinewidth": 0,
             "ticks": ""
            },
            "colorscale": [
             [
              0,
              "#0d0887"
             ],
             [
              0.1111111111111111,
              "#46039f"
             ],
             [
              0.2222222222222222,
              "#7201a8"
             ],
             [
              0.3333333333333333,
              "#9c179e"
             ],
             [
              0.4444444444444444,
              "#bd3786"
             ],
             [
              0.5555555555555556,
              "#d8576b"
             ],
             [
              0.6666666666666666,
              "#ed7953"
             ],
             [
              0.7777777777777778,
              "#fb9f3a"
             ],
             [
              0.8888888888888888,
              "#fdca26"
             ],
             [
              1,
              "#f0f921"
             ]
            ],
            "type": "histogram2dcontour"
           }
          ],
          "mesh3d": [
           {
            "colorbar": {
             "outlinewidth": 0,
             "ticks": ""
            },
            "type": "mesh3d"
           }
          ],
          "parcoords": [
           {
            "line": {
             "colorbar": {
              "outlinewidth": 0,
              "ticks": ""
             }
            },
            "type": "parcoords"
           }
          ],
          "pie": [
           {
            "automargin": true,
            "type": "pie"
           }
          ],
          "scatter": [
           {
            "fillpattern": {
             "fillmode": "overlay",
             "size": 10,
             "solidity": 0.2
            },
            "type": "scatter"
           }
          ],
          "scatter3d": [
           {
            "line": {
             "colorbar": {
              "outlinewidth": 0,
              "ticks": ""
             }
            },
            "marker": {
             "colorbar": {
              "outlinewidth": 0,
              "ticks": ""
             }
            },
            "type": "scatter3d"
           }
          ],
          "scattercarpet": [
           {
            "marker": {
             "colorbar": {
              "outlinewidth": 0,
              "ticks": ""
             }
            },
            "type": "scattercarpet"
           }
          ],
          "scattergeo": [
           {
            "marker": {
             "colorbar": {
              "outlinewidth": 0,
              "ticks": ""
             }
            },
            "type": "scattergeo"
           }
          ],
          "scattergl": [
           {
            "marker": {
             "colorbar": {
              "outlinewidth": 0,
              "ticks": ""
             }
            },
            "type": "scattergl"
           }
          ],
          "scattermapbox": [
           {
            "marker": {
             "colorbar": {
              "outlinewidth": 0,
              "ticks": ""
             }
            },
            "type": "scattermapbox"
           }
          ],
          "scatterpolar": [
           {
            "marker": {
             "colorbar": {
              "outlinewidth": 0,
              "ticks": ""
             }
            },
            "type": "scatterpolar"
           }
          ],
          "scatterpolargl": [
           {
            "marker": {
             "colorbar": {
              "outlinewidth": 0,
              "ticks": ""
             }
            },
            "type": "scatterpolargl"
           }
          ],
          "scatterternary": [
           {
            "marker": {
             "colorbar": {
              "outlinewidth": 0,
              "ticks": ""
             }
            },
            "type": "scatterternary"
           }
          ],
          "surface": [
           {
            "colorbar": {
             "outlinewidth": 0,
             "ticks": ""
            },
            "colorscale": [
             [
              0,
              "#0d0887"
             ],
             [
              0.1111111111111111,
              "#46039f"
             ],
             [
              0.2222222222222222,
              "#7201a8"
             ],
             [
              0.3333333333333333,
              "#9c179e"
             ],
             [
              0.4444444444444444,
              "#bd3786"
             ],
             [
              0.5555555555555556,
              "#d8576b"
             ],
             [
              0.6666666666666666,
              "#ed7953"
             ],
             [
              0.7777777777777778,
              "#fb9f3a"
             ],
             [
              0.8888888888888888,
              "#fdca26"
             ],
             [
              1,
              "#f0f921"
             ]
            ],
            "type": "surface"
           }
          ],
          "table": [
           {
            "cells": {
             "fill": {
              "color": "#EBF0F8"
             },
             "line": {
              "color": "white"
             }
            },
            "header": {
             "fill": {
              "color": "#C8D4E3"
             },
             "line": {
              "color": "white"
             }
            },
            "type": "table"
           }
          ]
         },
         "layout": {
          "annotationdefaults": {
           "arrowcolor": "#2a3f5f",
           "arrowhead": 0,
           "arrowwidth": 1
          },
          "autotypenumbers": "strict",
          "coloraxis": {
           "colorbar": {
            "outlinewidth": 0,
            "ticks": ""
           }
          },
          "colorscale": {
           "diverging": [
            [
             0,
             "#8e0152"
            ],
            [
             0.1,
             "#c51b7d"
            ],
            [
             0.2,
             "#de77ae"
            ],
            [
             0.3,
             "#f1b6da"
            ],
            [
             0.4,
             "#fde0ef"
            ],
            [
             0.5,
             "#f7f7f7"
            ],
            [
             0.6,
             "#e6f5d0"
            ],
            [
             0.7,
             "#b8e186"
            ],
            [
             0.8,
             "#7fbc41"
            ],
            [
             0.9,
             "#4d9221"
            ],
            [
             1,
             "#276419"
            ]
           ],
           "sequential": [
            [
             0,
             "#0d0887"
            ],
            [
             0.1111111111111111,
             "#46039f"
            ],
            [
             0.2222222222222222,
             "#7201a8"
            ],
            [
             0.3333333333333333,
             "#9c179e"
            ],
            [
             0.4444444444444444,
             "#bd3786"
            ],
            [
             0.5555555555555556,
             "#d8576b"
            ],
            [
             0.6666666666666666,
             "#ed7953"
            ],
            [
             0.7777777777777778,
             "#fb9f3a"
            ],
            [
             0.8888888888888888,
             "#fdca26"
            ],
            [
             1,
             "#f0f921"
            ]
           ],
           "sequentialminus": [
            [
             0,
             "#0d0887"
            ],
            [
             0.1111111111111111,
             "#46039f"
            ],
            [
             0.2222222222222222,
             "#7201a8"
            ],
            [
             0.3333333333333333,
             "#9c179e"
            ],
            [
             0.4444444444444444,
             "#bd3786"
            ],
            [
             0.5555555555555556,
             "#d8576b"
            ],
            [
             0.6666666666666666,
             "#ed7953"
            ],
            [
             0.7777777777777778,
             "#fb9f3a"
            ],
            [
             0.8888888888888888,
             "#fdca26"
            ],
            [
             1,
             "#f0f921"
            ]
           ]
          },
          "colorway": [
           "#636efa",
           "#EF553B",
           "#00cc96",
           "#ab63fa",
           "#FFA15A",
           "#19d3f3",
           "#FF6692",
           "#B6E880",
           "#FF97FF",
           "#FECB52"
          ],
          "font": {
           "color": "#2a3f5f"
          },
          "geo": {
           "bgcolor": "white",
           "lakecolor": "white",
           "landcolor": "#E5ECF6",
           "showlakes": true,
           "showland": true,
           "subunitcolor": "white"
          },
          "hoverlabel": {
           "align": "left"
          },
          "hovermode": "closest",
          "mapbox": {
           "style": "light"
          },
          "paper_bgcolor": "white",
          "plot_bgcolor": "#E5ECF6",
          "polar": {
           "angularaxis": {
            "gridcolor": "white",
            "linecolor": "white",
            "ticks": ""
           },
           "bgcolor": "#E5ECF6",
           "radialaxis": {
            "gridcolor": "white",
            "linecolor": "white",
            "ticks": ""
           }
          },
          "scene": {
           "xaxis": {
            "backgroundcolor": "#E5ECF6",
            "gridcolor": "white",
            "gridwidth": 2,
            "linecolor": "white",
            "showbackground": true,
            "ticks": "",
            "zerolinecolor": "white"
           },
           "yaxis": {
            "backgroundcolor": "#E5ECF6",
            "gridcolor": "white",
            "gridwidth": 2,
            "linecolor": "white",
            "showbackground": true,
            "ticks": "",
            "zerolinecolor": "white"
           },
           "zaxis": {
            "backgroundcolor": "#E5ECF6",
            "gridcolor": "white",
            "gridwidth": 2,
            "linecolor": "white",
            "showbackground": true,
            "ticks": "",
            "zerolinecolor": "white"
           }
          },
          "shapedefaults": {
           "line": {
            "color": "#2a3f5f"
           }
          },
          "ternary": {
           "aaxis": {
            "gridcolor": "white",
            "linecolor": "white",
            "ticks": ""
           },
           "baxis": {
            "gridcolor": "white",
            "linecolor": "white",
            "ticks": ""
           },
           "bgcolor": "#E5ECF6",
           "caxis": {
            "gridcolor": "white",
            "linecolor": "white",
            "ticks": ""
           }
          },
          "title": {
           "x": 0.05
          },
          "xaxis": {
           "automargin": true,
           "gridcolor": "white",
           "linecolor": "white",
           "ticks": "",
           "title": {
            "standoff": 15
           },
           "zerolinecolor": "white",
           "zerolinewidth": 2
          },
          "yaxis": {
           "automargin": true,
           "gridcolor": "white",
           "linecolor": "white",
           "ticks": "",
           "title": {
            "standoff": 15
           },
           "zerolinecolor": "white",
           "zerolinewidth": 2
          }
         }
        },
        "title": {
         "text": "Brands over 10 search results"
        },
        "width": 1100,
        "xaxis": {
         "anchor": "y",
         "categoryorder": "total descending",
         "domain": [
          0,
          1
         ],
         "title": {
          "text": "Count"
         }
        },
        "yaxis": {
         "anchor": "x",
         "domain": [
          0,
          1
         ],
         "title": {
          "text": "Brand"
         }
        }
       }
      }
     },
     "metadata": {},
     "output_type": "display_data"
    },
    {
     "name": "stdout",
     "output_type": "stream",
     "text": [
      "Quartile (50-75] - Products: 417\n"
     ]
    },
    {
     "data": {
      "text/html": [
       "<div>\n",
       "<style scoped>\n",
       "    .dataframe tbody tr th:only-of-type {\n",
       "        vertical-align: middle;\n",
       "    }\n",
       "\n",
       "    .dataframe tbody tr th {\n",
       "        vertical-align: top;\n",
       "    }\n",
       "\n",
       "    .dataframe thead th {\n",
       "        text-align: right;\n",
       "    }\n",
       "</style>\n",
       "<table border=\"1\" class=\"dataframe\">\n",
       "  <thead>\n",
       "    <tr style=\"text-align: right;\">\n",
       "      <th></th>\n",
       "      <th>Brand</th>\n",
       "      <th>Product</th>\n",
       "      <th>Price</th>\n",
       "      <th>Link</th>\n",
       "    </tr>\n",
       "  </thead>\n",
       "  <tbody>\n",
       "    <tr>\n",
       "      <th>0</th>\n",
       "      <td>VICHY</td>\n",
       "      <td>Shampoo Vichy Anticaspa Dercos Ds Cabello Graso 200 Ml</td>\n",
       "      <td>557</td>\n",
       "      <td>https://articulo.mercadolibre.com.mx/MLM-769613335-shampoo-vichy-anticaspa-dercos-ds-cabello-graso-200-ml-_JM#position=29&amp;search_layout=stack&amp;type=item&amp;tracking_id=bf...</td>\n",
       "    </tr>\n",
       "    <tr>\n",
       "      <th>1</th>\n",
       "      <td>VICHY</td>\n",
       "      <td>Shampoo Vichy Anticaspa Dercos Ds Cabello Graso 200 Ml</td>\n",
       "      <td>557</td>\n",
       "      <td>https://click1.mercadolibre.com.mx/mclics/clicks/external/MLM/count?a=ox54sra9enQ5i0HHEMIKbYPspVU3q6zyVousvf9gcsISSujvrcWZAbKSYntDlFiB63Nes4rgUn2bcL8b0RQjPea1Vob3F2Gr...</td>\n",
       "    </tr>\n",
       "    <tr>\n",
       "      <th>2</th>\n",
       "      <td>DUCRAY</td>\n",
       "      <td>Shampoo Ducray Kelual DS en botella de 100mL por 1 unidad de 100mL</td>\n",
       "      <td>475</td>\n",
       "      <td>https://www.mercadolibre.com.mx/shampoo-ducray-kelual-ds-en-botella-de-100ml-por-1-unidad-de-100ml/p/MLM17897484?pdp_filters=category:MLM430117#searchVariation=MLM178...</td>\n",
       "    </tr>\n",
       "    <tr>\n",
       "      <th>3</th>\n",
       "      <td>MEDIHEALTH</td>\n",
       "      <td>Betapirox Champú, Anti-caspa Medihealth 120 Ml, Pack 2</td>\n",
       "      <td>499</td>\n",
       "      <td>https://articulo.mercadolibre.com.mx/MLM-1366869309-betapirox-champu-anti-caspa-medihealth-120-ml-pack-2-_JM#position=36&amp;search_layout=stack&amp;type=item&amp;tracking_id=bfe...</td>\n",
       "    </tr>\n",
       "    <tr>\n",
       "      <th>4</th>\n",
       "      <td>LA ROCHE-POSAY</td>\n",
       "      <td>Shampoo La Roche Posay Anticaspa Persistente Kerium 125ml</td>\n",
       "      <td>484</td>\n",
       "      <td>https://www.mercadolibre.com.mx/shampoo-la-roche-posay-anticaspa-persistente-kerium-125ml/p/MLM19569662?pdp_filters=category:MLM430117#searchVariation=MLM19569662&amp;pos...</td>\n",
       "    </tr>\n",
       "  </tbody>\n",
       "</table>\n",
       "</div>"
      ],
      "text/plain": [
       "            Brand  \\\n",
       "0           VICHY   \n",
       "1           VICHY   \n",
       "2          DUCRAY   \n",
       "3      MEDIHEALTH   \n",
       "4  LA ROCHE-POSAY   \n",
       "\n",
       "                                                              Product  Price  \\\n",
       "0             Shampoo Vichy Anticaspa Dercos Ds Cabello Graso 200 Ml     557   \n",
       "1             Shampoo Vichy Anticaspa Dercos Ds Cabello Graso 200 Ml     557   \n",
       "2  Shampoo Ducray Kelual DS en botella de 100mL por 1 unidad de 100mL    475   \n",
       "3              Betapirox Champú, Anti-caspa Medihealth 120 Ml, Pack 2    499   \n",
       "4           Shampoo La Roche Posay Anticaspa Persistente Kerium 125ml    484   \n",
       "\n",
       "                                                                                                                                                                        Link  \n",
       "0  https://articulo.mercadolibre.com.mx/MLM-769613335-shampoo-vichy-anticaspa-dercos-ds-cabello-graso-200-ml-_JM#position=29&search_layout=stack&type=item&tracking_id=bf...  \n",
       "1  https://click1.mercadolibre.com.mx/mclics/clicks/external/MLM/count?a=ox54sra9enQ5i0HHEMIKbYPspVU3q6zyVousvf9gcsISSujvrcWZAbKSYntDlFiB63Nes4rgUn2bcL8b0RQjPea1Vob3F2Gr...  \n",
       "2  https://www.mercadolibre.com.mx/shampoo-ducray-kelual-ds-en-botella-de-100ml-por-1-unidad-de-100ml/p/MLM17897484?pdp_filters=category:MLM430117#searchVariation=MLM178...  \n",
       "3  https://articulo.mercadolibre.com.mx/MLM-1366869309-betapirox-champu-anti-caspa-medihealth-120-ml-pack-2-_JM#position=36&search_layout=stack&type=item&tracking_id=bfe...  \n",
       "4  https://www.mercadolibre.com.mx/shampoo-la-roche-posay-anticaspa-persistente-kerium-125ml/p/MLM19569662?pdp_filters=category:MLM430117#searchVariation=MLM19569662&pos...  "
      ]
     },
     "metadata": {},
     "output_type": "display_data"
    },
    {
     "data": {
      "application/vnd.plotly.v1+json": {
       "config": {
        "plotlyServerURL": "https://plot.ly"
       },
       "data": [
        {
         "alignmentgroup": "True",
         "hovertemplate": "Count=%{x}<br>Brand=%{y}<extra></extra>",
         "legendgroup": "",
         "marker": {
          "color": "#636efa",
          "pattern": {
           "shape": ""
          }
         },
         "name": "",
         "offsetgroup": "",
         "orientation": "h",
         "showlegend": false,
         "textposition": "auto",
         "texttemplate": "%{x}",
         "type": "bar",
         "x": [
          122,
          82,
          25,
          16,
          13,
          10
         ],
         "xaxis": "x",
         "y": [
          "-",
          "FRANCIS",
          "CELESTY",
          "DUCRAY",
          "LA ROCHE-POSAY",
          "MEDIHEALTH"
         ],
         "yaxis": "y"
        }
       ],
       "layout": {
        "barmode": "relative",
        "height": 600,
        "legend": {
         "tracegroupgap": 0
        },
        "margin": {
         "t": 60
        },
        "template": {
         "data": {
          "bar": [
           {
            "error_x": {
             "color": "#2a3f5f"
            },
            "error_y": {
             "color": "#2a3f5f"
            },
            "marker": {
             "line": {
              "color": "#E5ECF6",
              "width": 0.5
             },
             "pattern": {
              "fillmode": "overlay",
              "size": 10,
              "solidity": 0.2
             }
            },
            "type": "bar"
           }
          ],
          "barpolar": [
           {
            "marker": {
             "line": {
              "color": "#E5ECF6",
              "width": 0.5
             },
             "pattern": {
              "fillmode": "overlay",
              "size": 10,
              "solidity": 0.2
             }
            },
            "type": "barpolar"
           }
          ],
          "carpet": [
           {
            "aaxis": {
             "endlinecolor": "#2a3f5f",
             "gridcolor": "white",
             "linecolor": "white",
             "minorgridcolor": "white",
             "startlinecolor": "#2a3f5f"
            },
            "baxis": {
             "endlinecolor": "#2a3f5f",
             "gridcolor": "white",
             "linecolor": "white",
             "minorgridcolor": "white",
             "startlinecolor": "#2a3f5f"
            },
            "type": "carpet"
           }
          ],
          "choropleth": [
           {
            "colorbar": {
             "outlinewidth": 0,
             "ticks": ""
            },
            "type": "choropleth"
           }
          ],
          "contour": [
           {
            "colorbar": {
             "outlinewidth": 0,
             "ticks": ""
            },
            "colorscale": [
             [
              0,
              "#0d0887"
             ],
             [
              0.1111111111111111,
              "#46039f"
             ],
             [
              0.2222222222222222,
              "#7201a8"
             ],
             [
              0.3333333333333333,
              "#9c179e"
             ],
             [
              0.4444444444444444,
              "#bd3786"
             ],
             [
              0.5555555555555556,
              "#d8576b"
             ],
             [
              0.6666666666666666,
              "#ed7953"
             ],
             [
              0.7777777777777778,
              "#fb9f3a"
             ],
             [
              0.8888888888888888,
              "#fdca26"
             ],
             [
              1,
              "#f0f921"
             ]
            ],
            "type": "contour"
           }
          ],
          "contourcarpet": [
           {
            "colorbar": {
             "outlinewidth": 0,
             "ticks": ""
            },
            "type": "contourcarpet"
           }
          ],
          "heatmap": [
           {
            "colorbar": {
             "outlinewidth": 0,
             "ticks": ""
            },
            "colorscale": [
             [
              0,
              "#0d0887"
             ],
             [
              0.1111111111111111,
              "#46039f"
             ],
             [
              0.2222222222222222,
              "#7201a8"
             ],
             [
              0.3333333333333333,
              "#9c179e"
             ],
             [
              0.4444444444444444,
              "#bd3786"
             ],
             [
              0.5555555555555556,
              "#d8576b"
             ],
             [
              0.6666666666666666,
              "#ed7953"
             ],
             [
              0.7777777777777778,
              "#fb9f3a"
             ],
             [
              0.8888888888888888,
              "#fdca26"
             ],
             [
              1,
              "#f0f921"
             ]
            ],
            "type": "heatmap"
           }
          ],
          "heatmapgl": [
           {
            "colorbar": {
             "outlinewidth": 0,
             "ticks": ""
            },
            "colorscale": [
             [
              0,
              "#0d0887"
             ],
             [
              0.1111111111111111,
              "#46039f"
             ],
             [
              0.2222222222222222,
              "#7201a8"
             ],
             [
              0.3333333333333333,
              "#9c179e"
             ],
             [
              0.4444444444444444,
              "#bd3786"
             ],
             [
              0.5555555555555556,
              "#d8576b"
             ],
             [
              0.6666666666666666,
              "#ed7953"
             ],
             [
              0.7777777777777778,
              "#fb9f3a"
             ],
             [
              0.8888888888888888,
              "#fdca26"
             ],
             [
              1,
              "#f0f921"
             ]
            ],
            "type": "heatmapgl"
           }
          ],
          "histogram": [
           {
            "marker": {
             "pattern": {
              "fillmode": "overlay",
              "size": 10,
              "solidity": 0.2
             }
            },
            "type": "histogram"
           }
          ],
          "histogram2d": [
           {
            "colorbar": {
             "outlinewidth": 0,
             "ticks": ""
            },
            "colorscale": [
             [
              0,
              "#0d0887"
             ],
             [
              0.1111111111111111,
              "#46039f"
             ],
             [
              0.2222222222222222,
              "#7201a8"
             ],
             [
              0.3333333333333333,
              "#9c179e"
             ],
             [
              0.4444444444444444,
              "#bd3786"
             ],
             [
              0.5555555555555556,
              "#d8576b"
             ],
             [
              0.6666666666666666,
              "#ed7953"
             ],
             [
              0.7777777777777778,
              "#fb9f3a"
             ],
             [
              0.8888888888888888,
              "#fdca26"
             ],
             [
              1,
              "#f0f921"
             ]
            ],
            "type": "histogram2d"
           }
          ],
          "histogram2dcontour": [
           {
            "colorbar": {
             "outlinewidth": 0,
             "ticks": ""
            },
            "colorscale": [
             [
              0,
              "#0d0887"
             ],
             [
              0.1111111111111111,
              "#46039f"
             ],
             [
              0.2222222222222222,
              "#7201a8"
             ],
             [
              0.3333333333333333,
              "#9c179e"
             ],
             [
              0.4444444444444444,
              "#bd3786"
             ],
             [
              0.5555555555555556,
              "#d8576b"
             ],
             [
              0.6666666666666666,
              "#ed7953"
             ],
             [
              0.7777777777777778,
              "#fb9f3a"
             ],
             [
              0.8888888888888888,
              "#fdca26"
             ],
             [
              1,
              "#f0f921"
             ]
            ],
            "type": "histogram2dcontour"
           }
          ],
          "mesh3d": [
           {
            "colorbar": {
             "outlinewidth": 0,
             "ticks": ""
            },
            "type": "mesh3d"
           }
          ],
          "parcoords": [
           {
            "line": {
             "colorbar": {
              "outlinewidth": 0,
              "ticks": ""
             }
            },
            "type": "parcoords"
           }
          ],
          "pie": [
           {
            "automargin": true,
            "type": "pie"
           }
          ],
          "scatter": [
           {
            "fillpattern": {
             "fillmode": "overlay",
             "size": 10,
             "solidity": 0.2
            },
            "type": "scatter"
           }
          ],
          "scatter3d": [
           {
            "line": {
             "colorbar": {
              "outlinewidth": 0,
              "ticks": ""
             }
            },
            "marker": {
             "colorbar": {
              "outlinewidth": 0,
              "ticks": ""
             }
            },
            "type": "scatter3d"
           }
          ],
          "scattercarpet": [
           {
            "marker": {
             "colorbar": {
              "outlinewidth": 0,
              "ticks": ""
             }
            },
            "type": "scattercarpet"
           }
          ],
          "scattergeo": [
           {
            "marker": {
             "colorbar": {
              "outlinewidth": 0,
              "ticks": ""
             }
            },
            "type": "scattergeo"
           }
          ],
          "scattergl": [
           {
            "marker": {
             "colorbar": {
              "outlinewidth": 0,
              "ticks": ""
             }
            },
            "type": "scattergl"
           }
          ],
          "scattermapbox": [
           {
            "marker": {
             "colorbar": {
              "outlinewidth": 0,
              "ticks": ""
             }
            },
            "type": "scattermapbox"
           }
          ],
          "scatterpolar": [
           {
            "marker": {
             "colorbar": {
              "outlinewidth": 0,
              "ticks": ""
             }
            },
            "type": "scatterpolar"
           }
          ],
          "scatterpolargl": [
           {
            "marker": {
             "colorbar": {
              "outlinewidth": 0,
              "ticks": ""
             }
            },
            "type": "scatterpolargl"
           }
          ],
          "scatterternary": [
           {
            "marker": {
             "colorbar": {
              "outlinewidth": 0,
              "ticks": ""
             }
            },
            "type": "scatterternary"
           }
          ],
          "surface": [
           {
            "colorbar": {
             "outlinewidth": 0,
             "ticks": ""
            },
            "colorscale": [
             [
              0,
              "#0d0887"
             ],
             [
              0.1111111111111111,
              "#46039f"
             ],
             [
              0.2222222222222222,
              "#7201a8"
             ],
             [
              0.3333333333333333,
              "#9c179e"
             ],
             [
              0.4444444444444444,
              "#bd3786"
             ],
             [
              0.5555555555555556,
              "#d8576b"
             ],
             [
              0.6666666666666666,
              "#ed7953"
             ],
             [
              0.7777777777777778,
              "#fb9f3a"
             ],
             [
              0.8888888888888888,
              "#fdca26"
             ],
             [
              1,
              "#f0f921"
             ]
            ],
            "type": "surface"
           }
          ],
          "table": [
           {
            "cells": {
             "fill": {
              "color": "#EBF0F8"
             },
             "line": {
              "color": "white"
             }
            },
            "header": {
             "fill": {
              "color": "#C8D4E3"
             },
             "line": {
              "color": "white"
             }
            },
            "type": "table"
           }
          ]
         },
         "layout": {
          "annotationdefaults": {
           "arrowcolor": "#2a3f5f",
           "arrowhead": 0,
           "arrowwidth": 1
          },
          "autotypenumbers": "strict",
          "coloraxis": {
           "colorbar": {
            "outlinewidth": 0,
            "ticks": ""
           }
          },
          "colorscale": {
           "diverging": [
            [
             0,
             "#8e0152"
            ],
            [
             0.1,
             "#c51b7d"
            ],
            [
             0.2,
             "#de77ae"
            ],
            [
             0.3,
             "#f1b6da"
            ],
            [
             0.4,
             "#fde0ef"
            ],
            [
             0.5,
             "#f7f7f7"
            ],
            [
             0.6,
             "#e6f5d0"
            ],
            [
             0.7,
             "#b8e186"
            ],
            [
             0.8,
             "#7fbc41"
            ],
            [
             0.9,
             "#4d9221"
            ],
            [
             1,
             "#276419"
            ]
           ],
           "sequential": [
            [
             0,
             "#0d0887"
            ],
            [
             0.1111111111111111,
             "#46039f"
            ],
            [
             0.2222222222222222,
             "#7201a8"
            ],
            [
             0.3333333333333333,
             "#9c179e"
            ],
            [
             0.4444444444444444,
             "#bd3786"
            ],
            [
             0.5555555555555556,
             "#d8576b"
            ],
            [
             0.6666666666666666,
             "#ed7953"
            ],
            [
             0.7777777777777778,
             "#fb9f3a"
            ],
            [
             0.8888888888888888,
             "#fdca26"
            ],
            [
             1,
             "#f0f921"
            ]
           ],
           "sequentialminus": [
            [
             0,
             "#0d0887"
            ],
            [
             0.1111111111111111,
             "#46039f"
            ],
            [
             0.2222222222222222,
             "#7201a8"
            ],
            [
             0.3333333333333333,
             "#9c179e"
            ],
            [
             0.4444444444444444,
             "#bd3786"
            ],
            [
             0.5555555555555556,
             "#d8576b"
            ],
            [
             0.6666666666666666,
             "#ed7953"
            ],
            [
             0.7777777777777778,
             "#fb9f3a"
            ],
            [
             0.8888888888888888,
             "#fdca26"
            ],
            [
             1,
             "#f0f921"
            ]
           ]
          },
          "colorway": [
           "#636efa",
           "#EF553B",
           "#00cc96",
           "#ab63fa",
           "#FFA15A",
           "#19d3f3",
           "#FF6692",
           "#B6E880",
           "#FF97FF",
           "#FECB52"
          ],
          "font": {
           "color": "#2a3f5f"
          },
          "geo": {
           "bgcolor": "white",
           "lakecolor": "white",
           "landcolor": "#E5ECF6",
           "showlakes": true,
           "showland": true,
           "subunitcolor": "white"
          },
          "hoverlabel": {
           "align": "left"
          },
          "hovermode": "closest",
          "mapbox": {
           "style": "light"
          },
          "paper_bgcolor": "white",
          "plot_bgcolor": "#E5ECF6",
          "polar": {
           "angularaxis": {
            "gridcolor": "white",
            "linecolor": "white",
            "ticks": ""
           },
           "bgcolor": "#E5ECF6",
           "radialaxis": {
            "gridcolor": "white",
            "linecolor": "white",
            "ticks": ""
           }
          },
          "scene": {
           "xaxis": {
            "backgroundcolor": "#E5ECF6",
            "gridcolor": "white",
            "gridwidth": 2,
            "linecolor": "white",
            "showbackground": true,
            "ticks": "",
            "zerolinecolor": "white"
           },
           "yaxis": {
            "backgroundcolor": "#E5ECF6",
            "gridcolor": "white",
            "gridwidth": 2,
            "linecolor": "white",
            "showbackground": true,
            "ticks": "",
            "zerolinecolor": "white"
           },
           "zaxis": {
            "backgroundcolor": "#E5ECF6",
            "gridcolor": "white",
            "gridwidth": 2,
            "linecolor": "white",
            "showbackground": true,
            "ticks": "",
            "zerolinecolor": "white"
           }
          },
          "shapedefaults": {
           "line": {
            "color": "#2a3f5f"
           }
          },
          "ternary": {
           "aaxis": {
            "gridcolor": "white",
            "linecolor": "white",
            "ticks": ""
           },
           "baxis": {
            "gridcolor": "white",
            "linecolor": "white",
            "ticks": ""
           },
           "bgcolor": "#E5ECF6",
           "caxis": {
            "gridcolor": "white",
            "linecolor": "white",
            "ticks": ""
           }
          },
          "title": {
           "x": 0.05
          },
          "xaxis": {
           "automargin": true,
           "gridcolor": "white",
           "linecolor": "white",
           "ticks": "",
           "title": {
            "standoff": 15
           },
           "zerolinecolor": "white",
           "zerolinewidth": 2
          },
          "yaxis": {
           "automargin": true,
           "gridcolor": "white",
           "linecolor": "white",
           "ticks": "",
           "title": {
            "standoff": 15
           },
           "zerolinecolor": "white",
           "zerolinewidth": 2
          }
         }
        },
        "title": {
         "text": "Brands over 10 search results"
        },
        "width": 1100,
        "xaxis": {
         "anchor": "y",
         "categoryorder": "total descending",
         "domain": [
          0,
          1
         ],
         "title": {
          "text": "Count"
         }
        },
        "yaxis": {
         "anchor": "x",
         "domain": [
          0,
          1
         ],
         "title": {
          "text": "Brand"
         }
        }
       }
      }
     },
     "metadata": {},
     "output_type": "display_data"
    },
    {
     "name": "stdout",
     "output_type": "stream",
     "text": [
      "Quartile (25-50] - Products: 419\n"
     ]
    },
    {
     "data": {
      "text/html": [
       "<div>\n",
       "<style scoped>\n",
       "    .dataframe tbody tr th:only-of-type {\n",
       "        vertical-align: middle;\n",
       "    }\n",
       "\n",
       "    .dataframe tbody tr th {\n",
       "        vertical-align: top;\n",
       "    }\n",
       "\n",
       "    .dataframe thead th {\n",
       "        text-align: right;\n",
       "    }\n",
       "</style>\n",
       "<table border=\"1\" class=\"dataframe\">\n",
       "  <thead>\n",
       "    <tr style=\"text-align: right;\">\n",
       "      <th></th>\n",
       "      <th>Brand</th>\n",
       "      <th>Product</th>\n",
       "      <th>Price</th>\n",
       "      <th>Link</th>\n",
       "    </tr>\n",
       "  </thead>\n",
       "  <tbody>\n",
       "    <tr>\n",
       "      <th>0</th>\n",
       "      <td>ISDIN</td>\n",
       "      <td>Isdin Nutradeica Shampoo Anticaspa Grasa 200ml</td>\n",
       "      <td>358</td>\n",
       "      <td>https://www.mercadolibre.com.mx/isdin-nutradeica-shampoo-anticaspa-grasa-200ml/p/MLM19702444?pdp_filters=category:MLM430117#searchVariation=MLM19702444&amp;position=3&amp;sea...</td>\n",
       "    </tr>\n",
       "    <tr>\n",
       "      <th>1</th>\n",
       "      <td>ISDIN</td>\n",
       "      <td>Shampoo Isdin Lambdapil Anticaída en botella de 200mL</td>\n",
       "      <td>330</td>\n",
       "      <td>https://www.mercadolibre.com.mx/shampoo-isdin-lambdapil-anticaida-en-botella-de-200ml/p/MLM19147966?pdp_filters=category:MLM430117#searchVariation=MLM19147966&amp;positio...</td>\n",
       "    </tr>\n",
       "    <tr>\n",
       "      <th>2</th>\n",
       "      <td>SELSUN BLUE</td>\n",
       "      <td>Shampoo Selsun Medicated Max Strength Dandruff 325ml Importa</td>\n",
       "      <td>299</td>\n",
       "      <td>https://www.mercadolibre.com.mx/shampoo-selsun-medicated-max-strength-dandruff-325ml-importa/p/MLM19508792?pdp_filters=category:MLM430117#searchVariation=MLM19508792&amp;...</td>\n",
       "    </tr>\n",
       "    <tr>\n",
       "      <th>3</th>\n",
       "      <td>-</td>\n",
       "      <td>Shampoo Selsun Medicated Max Strength Dandruff 325ml</td>\n",
       "      <td>299</td>\n",
       "      <td>https://articulo.mercadolibre.com.mx/MLM-1828433089-shampoo-selsun-medicated-max-strength-dandruff-325ml-_JM#position=33&amp;search_layout=stack&amp;type=item&amp;tracking_id=bfe...</td>\n",
       "    </tr>\n",
       "    <tr>\n",
       "      <th>4</th>\n",
       "      <td>DUCRAY</td>\n",
       "      <td>Ducray Elution Shampoo Reequilibrante Cuero Cabelludo 200ml</td>\n",
       "      <td>298</td>\n",
       "      <td>https://www.mercadolibre.com.mx/ducray-elution-shampoo-reequilibrante-cuero-cabelludo-200ml/p/MLM19701625?pdp_filters=category:MLM430117#searchVariation=MLM19701625&amp;p...</td>\n",
       "    </tr>\n",
       "  </tbody>\n",
       "</table>\n",
       "</div>"
      ],
      "text/plain": [
       "         Brand                                                       Product  \\\n",
       "0        ISDIN                Isdin Nutradeica Shampoo Anticaspa Grasa 200ml   \n",
       "1        ISDIN         Shampoo Isdin Lambdapil Anticaída en botella de 200mL   \n",
       "2  SELSUN BLUE  Shampoo Selsun Medicated Max Strength Dandruff 325ml Importa   \n",
       "3            -          Shampoo Selsun Medicated Max Strength Dandruff 325ml   \n",
       "4       DUCRAY   Ducray Elution Shampoo Reequilibrante Cuero Cabelludo 200ml   \n",
       "\n",
       "   Price  \\\n",
       "0    358   \n",
       "1    330   \n",
       "2    299   \n",
       "3    299   \n",
       "4    298   \n",
       "\n",
       "                                                                                                                                                                        Link  \n",
       "0  https://www.mercadolibre.com.mx/isdin-nutradeica-shampoo-anticaspa-grasa-200ml/p/MLM19702444?pdp_filters=category:MLM430117#searchVariation=MLM19702444&position=3&sea...  \n",
       "1  https://www.mercadolibre.com.mx/shampoo-isdin-lambdapil-anticaida-en-botella-de-200ml/p/MLM19147966?pdp_filters=category:MLM430117#searchVariation=MLM19147966&positio...  \n",
       "2  https://www.mercadolibre.com.mx/shampoo-selsun-medicated-max-strength-dandruff-325ml-importa/p/MLM19508792?pdp_filters=category:MLM430117#searchVariation=MLM19508792&...  \n",
       "3  https://articulo.mercadolibre.com.mx/MLM-1828433089-shampoo-selsun-medicated-max-strength-dandruff-325ml-_JM#position=33&search_layout=stack&type=item&tracking_id=bfe...  \n",
       "4  https://www.mercadolibre.com.mx/ducray-elution-shampoo-reequilibrante-cuero-cabelludo-200ml/p/MLM19701625?pdp_filters=category:MLM430117#searchVariation=MLM19701625&p...  "
      ]
     },
     "metadata": {},
     "output_type": "display_data"
    },
    {
     "data": {
      "application/vnd.plotly.v1+json": {
       "config": {
        "plotlyServerURL": "https://plot.ly"
       },
       "data": [
        {
         "alignmentgroup": "True",
         "hovertemplate": "Count=%{x}<br>Brand=%{y}<extra></extra>",
         "legendgroup": "",
         "marker": {
          "color": "#636efa",
          "pattern": {
           "shape": ""
          }
         },
         "name": "",
         "offsetgroup": "",
         "orientation": "h",
         "showlegend": false,
         "textposition": "auto",
         "texttemplate": "%{x}",
         "type": "bar",
         "x": [
          161,
          39,
          21,
          17,
          12,
          10
         ],
         "xaxis": "x",
         "y": [
          "-",
          "FRANCIS",
          "CELESTY",
          "NBC",
          "HEAD & SHOULDERS",
          "SALERM"
         ],
         "yaxis": "y"
        }
       ],
       "layout": {
        "barmode": "relative",
        "height": 600,
        "legend": {
         "tracegroupgap": 0
        },
        "margin": {
         "t": 60
        },
        "template": {
         "data": {
          "bar": [
           {
            "error_x": {
             "color": "#2a3f5f"
            },
            "error_y": {
             "color": "#2a3f5f"
            },
            "marker": {
             "line": {
              "color": "#E5ECF6",
              "width": 0.5
             },
             "pattern": {
              "fillmode": "overlay",
              "size": 10,
              "solidity": 0.2
             }
            },
            "type": "bar"
           }
          ],
          "barpolar": [
           {
            "marker": {
             "line": {
              "color": "#E5ECF6",
              "width": 0.5
             },
             "pattern": {
              "fillmode": "overlay",
              "size": 10,
              "solidity": 0.2
             }
            },
            "type": "barpolar"
           }
          ],
          "carpet": [
           {
            "aaxis": {
             "endlinecolor": "#2a3f5f",
             "gridcolor": "white",
             "linecolor": "white",
             "minorgridcolor": "white",
             "startlinecolor": "#2a3f5f"
            },
            "baxis": {
             "endlinecolor": "#2a3f5f",
             "gridcolor": "white",
             "linecolor": "white",
             "minorgridcolor": "white",
             "startlinecolor": "#2a3f5f"
            },
            "type": "carpet"
           }
          ],
          "choropleth": [
           {
            "colorbar": {
             "outlinewidth": 0,
             "ticks": ""
            },
            "type": "choropleth"
           }
          ],
          "contour": [
           {
            "colorbar": {
             "outlinewidth": 0,
             "ticks": ""
            },
            "colorscale": [
             [
              0,
              "#0d0887"
             ],
             [
              0.1111111111111111,
              "#46039f"
             ],
             [
              0.2222222222222222,
              "#7201a8"
             ],
             [
              0.3333333333333333,
              "#9c179e"
             ],
             [
              0.4444444444444444,
              "#bd3786"
             ],
             [
              0.5555555555555556,
              "#d8576b"
             ],
             [
              0.6666666666666666,
              "#ed7953"
             ],
             [
              0.7777777777777778,
              "#fb9f3a"
             ],
             [
              0.8888888888888888,
              "#fdca26"
             ],
             [
              1,
              "#f0f921"
             ]
            ],
            "type": "contour"
           }
          ],
          "contourcarpet": [
           {
            "colorbar": {
             "outlinewidth": 0,
             "ticks": ""
            },
            "type": "contourcarpet"
           }
          ],
          "heatmap": [
           {
            "colorbar": {
             "outlinewidth": 0,
             "ticks": ""
            },
            "colorscale": [
             [
              0,
              "#0d0887"
             ],
             [
              0.1111111111111111,
              "#46039f"
             ],
             [
              0.2222222222222222,
              "#7201a8"
             ],
             [
              0.3333333333333333,
              "#9c179e"
             ],
             [
              0.4444444444444444,
              "#bd3786"
             ],
             [
              0.5555555555555556,
              "#d8576b"
             ],
             [
              0.6666666666666666,
              "#ed7953"
             ],
             [
              0.7777777777777778,
              "#fb9f3a"
             ],
             [
              0.8888888888888888,
              "#fdca26"
             ],
             [
              1,
              "#f0f921"
             ]
            ],
            "type": "heatmap"
           }
          ],
          "heatmapgl": [
           {
            "colorbar": {
             "outlinewidth": 0,
             "ticks": ""
            },
            "colorscale": [
             [
              0,
              "#0d0887"
             ],
             [
              0.1111111111111111,
              "#46039f"
             ],
             [
              0.2222222222222222,
              "#7201a8"
             ],
             [
              0.3333333333333333,
              "#9c179e"
             ],
             [
              0.4444444444444444,
              "#bd3786"
             ],
             [
              0.5555555555555556,
              "#d8576b"
             ],
             [
              0.6666666666666666,
              "#ed7953"
             ],
             [
              0.7777777777777778,
              "#fb9f3a"
             ],
             [
              0.8888888888888888,
              "#fdca26"
             ],
             [
              1,
              "#f0f921"
             ]
            ],
            "type": "heatmapgl"
           }
          ],
          "histogram": [
           {
            "marker": {
             "pattern": {
              "fillmode": "overlay",
              "size": 10,
              "solidity": 0.2
             }
            },
            "type": "histogram"
           }
          ],
          "histogram2d": [
           {
            "colorbar": {
             "outlinewidth": 0,
             "ticks": ""
            },
            "colorscale": [
             [
              0,
              "#0d0887"
             ],
             [
              0.1111111111111111,
              "#46039f"
             ],
             [
              0.2222222222222222,
              "#7201a8"
             ],
             [
              0.3333333333333333,
              "#9c179e"
             ],
             [
              0.4444444444444444,
              "#bd3786"
             ],
             [
              0.5555555555555556,
              "#d8576b"
             ],
             [
              0.6666666666666666,
              "#ed7953"
             ],
             [
              0.7777777777777778,
              "#fb9f3a"
             ],
             [
              0.8888888888888888,
              "#fdca26"
             ],
             [
              1,
              "#f0f921"
             ]
            ],
            "type": "histogram2d"
           }
          ],
          "histogram2dcontour": [
           {
            "colorbar": {
             "outlinewidth": 0,
             "ticks": ""
            },
            "colorscale": [
             [
              0,
              "#0d0887"
             ],
             [
              0.1111111111111111,
              "#46039f"
             ],
             [
              0.2222222222222222,
              "#7201a8"
             ],
             [
              0.3333333333333333,
              "#9c179e"
             ],
             [
              0.4444444444444444,
              "#bd3786"
             ],
             [
              0.5555555555555556,
              "#d8576b"
             ],
             [
              0.6666666666666666,
              "#ed7953"
             ],
             [
              0.7777777777777778,
              "#fb9f3a"
             ],
             [
              0.8888888888888888,
              "#fdca26"
             ],
             [
              1,
              "#f0f921"
             ]
            ],
            "type": "histogram2dcontour"
           }
          ],
          "mesh3d": [
           {
            "colorbar": {
             "outlinewidth": 0,
             "ticks": ""
            },
            "type": "mesh3d"
           }
          ],
          "parcoords": [
           {
            "line": {
             "colorbar": {
              "outlinewidth": 0,
              "ticks": ""
             }
            },
            "type": "parcoords"
           }
          ],
          "pie": [
           {
            "automargin": true,
            "type": "pie"
           }
          ],
          "scatter": [
           {
            "fillpattern": {
             "fillmode": "overlay",
             "size": 10,
             "solidity": 0.2
            },
            "type": "scatter"
           }
          ],
          "scatter3d": [
           {
            "line": {
             "colorbar": {
              "outlinewidth": 0,
              "ticks": ""
             }
            },
            "marker": {
             "colorbar": {
              "outlinewidth": 0,
              "ticks": ""
             }
            },
            "type": "scatter3d"
           }
          ],
          "scattercarpet": [
           {
            "marker": {
             "colorbar": {
              "outlinewidth": 0,
              "ticks": ""
             }
            },
            "type": "scattercarpet"
           }
          ],
          "scattergeo": [
           {
            "marker": {
             "colorbar": {
              "outlinewidth": 0,
              "ticks": ""
             }
            },
            "type": "scattergeo"
           }
          ],
          "scattergl": [
           {
            "marker": {
             "colorbar": {
              "outlinewidth": 0,
              "ticks": ""
             }
            },
            "type": "scattergl"
           }
          ],
          "scattermapbox": [
           {
            "marker": {
             "colorbar": {
              "outlinewidth": 0,
              "ticks": ""
             }
            },
            "type": "scattermapbox"
           }
          ],
          "scatterpolar": [
           {
            "marker": {
             "colorbar": {
              "outlinewidth": 0,
              "ticks": ""
             }
            },
            "type": "scatterpolar"
           }
          ],
          "scatterpolargl": [
           {
            "marker": {
             "colorbar": {
              "outlinewidth": 0,
              "ticks": ""
             }
            },
            "type": "scatterpolargl"
           }
          ],
          "scatterternary": [
           {
            "marker": {
             "colorbar": {
              "outlinewidth": 0,
              "ticks": ""
             }
            },
            "type": "scatterternary"
           }
          ],
          "surface": [
           {
            "colorbar": {
             "outlinewidth": 0,
             "ticks": ""
            },
            "colorscale": [
             [
              0,
              "#0d0887"
             ],
             [
              0.1111111111111111,
              "#46039f"
             ],
             [
              0.2222222222222222,
              "#7201a8"
             ],
             [
              0.3333333333333333,
              "#9c179e"
             ],
             [
              0.4444444444444444,
              "#bd3786"
             ],
             [
              0.5555555555555556,
              "#d8576b"
             ],
             [
              0.6666666666666666,
              "#ed7953"
             ],
             [
              0.7777777777777778,
              "#fb9f3a"
             ],
             [
              0.8888888888888888,
              "#fdca26"
             ],
             [
              1,
              "#f0f921"
             ]
            ],
            "type": "surface"
           }
          ],
          "table": [
           {
            "cells": {
             "fill": {
              "color": "#EBF0F8"
             },
             "line": {
              "color": "white"
             }
            },
            "header": {
             "fill": {
              "color": "#C8D4E3"
             },
             "line": {
              "color": "white"
             }
            },
            "type": "table"
           }
          ]
         },
         "layout": {
          "annotationdefaults": {
           "arrowcolor": "#2a3f5f",
           "arrowhead": 0,
           "arrowwidth": 1
          },
          "autotypenumbers": "strict",
          "coloraxis": {
           "colorbar": {
            "outlinewidth": 0,
            "ticks": ""
           }
          },
          "colorscale": {
           "diverging": [
            [
             0,
             "#8e0152"
            ],
            [
             0.1,
             "#c51b7d"
            ],
            [
             0.2,
             "#de77ae"
            ],
            [
             0.3,
             "#f1b6da"
            ],
            [
             0.4,
             "#fde0ef"
            ],
            [
             0.5,
             "#f7f7f7"
            ],
            [
             0.6,
             "#e6f5d0"
            ],
            [
             0.7,
             "#b8e186"
            ],
            [
             0.8,
             "#7fbc41"
            ],
            [
             0.9,
             "#4d9221"
            ],
            [
             1,
             "#276419"
            ]
           ],
           "sequential": [
            [
             0,
             "#0d0887"
            ],
            [
             0.1111111111111111,
             "#46039f"
            ],
            [
             0.2222222222222222,
             "#7201a8"
            ],
            [
             0.3333333333333333,
             "#9c179e"
            ],
            [
             0.4444444444444444,
             "#bd3786"
            ],
            [
             0.5555555555555556,
             "#d8576b"
            ],
            [
             0.6666666666666666,
             "#ed7953"
            ],
            [
             0.7777777777777778,
             "#fb9f3a"
            ],
            [
             0.8888888888888888,
             "#fdca26"
            ],
            [
             1,
             "#f0f921"
            ]
           ],
           "sequentialminus": [
            [
             0,
             "#0d0887"
            ],
            [
             0.1111111111111111,
             "#46039f"
            ],
            [
             0.2222222222222222,
             "#7201a8"
            ],
            [
             0.3333333333333333,
             "#9c179e"
            ],
            [
             0.4444444444444444,
             "#bd3786"
            ],
            [
             0.5555555555555556,
             "#d8576b"
            ],
            [
             0.6666666666666666,
             "#ed7953"
            ],
            [
             0.7777777777777778,
             "#fb9f3a"
            ],
            [
             0.8888888888888888,
             "#fdca26"
            ],
            [
             1,
             "#f0f921"
            ]
           ]
          },
          "colorway": [
           "#636efa",
           "#EF553B",
           "#00cc96",
           "#ab63fa",
           "#FFA15A",
           "#19d3f3",
           "#FF6692",
           "#B6E880",
           "#FF97FF",
           "#FECB52"
          ],
          "font": {
           "color": "#2a3f5f"
          },
          "geo": {
           "bgcolor": "white",
           "lakecolor": "white",
           "landcolor": "#E5ECF6",
           "showlakes": true,
           "showland": true,
           "subunitcolor": "white"
          },
          "hoverlabel": {
           "align": "left"
          },
          "hovermode": "closest",
          "mapbox": {
           "style": "light"
          },
          "paper_bgcolor": "white",
          "plot_bgcolor": "#E5ECF6",
          "polar": {
           "angularaxis": {
            "gridcolor": "white",
            "linecolor": "white",
            "ticks": ""
           },
           "bgcolor": "#E5ECF6",
           "radialaxis": {
            "gridcolor": "white",
            "linecolor": "white",
            "ticks": ""
           }
          },
          "scene": {
           "xaxis": {
            "backgroundcolor": "#E5ECF6",
            "gridcolor": "white",
            "gridwidth": 2,
            "linecolor": "white",
            "showbackground": true,
            "ticks": "",
            "zerolinecolor": "white"
           },
           "yaxis": {
            "backgroundcolor": "#E5ECF6",
            "gridcolor": "white",
            "gridwidth": 2,
            "linecolor": "white",
            "showbackground": true,
            "ticks": "",
            "zerolinecolor": "white"
           },
           "zaxis": {
            "backgroundcolor": "#E5ECF6",
            "gridcolor": "white",
            "gridwidth": 2,
            "linecolor": "white",
            "showbackground": true,
            "ticks": "",
            "zerolinecolor": "white"
           }
          },
          "shapedefaults": {
           "line": {
            "color": "#2a3f5f"
           }
          },
          "ternary": {
           "aaxis": {
            "gridcolor": "white",
            "linecolor": "white",
            "ticks": ""
           },
           "baxis": {
            "gridcolor": "white",
            "linecolor": "white",
            "ticks": ""
           },
           "bgcolor": "#E5ECF6",
           "caxis": {
            "gridcolor": "white",
            "linecolor": "white",
            "ticks": ""
           }
          },
          "title": {
           "x": 0.05
          },
          "xaxis": {
           "automargin": true,
           "gridcolor": "white",
           "linecolor": "white",
           "ticks": "",
           "title": {
            "standoff": 15
           },
           "zerolinecolor": "white",
           "zerolinewidth": 2
          },
          "yaxis": {
           "automargin": true,
           "gridcolor": "white",
           "linecolor": "white",
           "ticks": "",
           "title": {
            "standoff": 15
           },
           "zerolinecolor": "white",
           "zerolinewidth": 2
          }
         }
        },
        "title": {
         "text": "Brands over 10 search results"
        },
        "width": 1100,
        "xaxis": {
         "anchor": "y",
         "categoryorder": "total descending",
         "domain": [
          0,
          1
         ],
         "title": {
          "text": "Count"
         }
        },
        "yaxis": {
         "anchor": "x",
         "domain": [
          0,
          1
         ],
         "title": {
          "text": "Brand"
         }
        }
       }
      }
     },
     "metadata": {},
     "output_type": "display_data"
    },
    {
     "name": "stdout",
     "output_type": "stream",
     "text": [
      "Quartile (<25] - Products: 419\n"
     ]
    },
    {
     "data": {
      "text/html": [
       "<div>\n",
       "<style scoped>\n",
       "    .dataframe tbody tr th:only-of-type {\n",
       "        vertical-align: middle;\n",
       "    }\n",
       "\n",
       "    .dataframe tbody tr th {\n",
       "        vertical-align: top;\n",
       "    }\n",
       "\n",
       "    .dataframe thead th {\n",
       "        text-align: right;\n",
       "    }\n",
       "</style>\n",
       "<table border=\"1\" class=\"dataframe\">\n",
       "  <thead>\n",
       "    <tr style=\"text-align: right;\">\n",
       "      <th></th>\n",
       "      <th>Brand</th>\n",
       "      <th>Product</th>\n",
       "      <th>Price</th>\n",
       "      <th>Link</th>\n",
       "    </tr>\n",
       "  </thead>\n",
       "  <tbody>\n",
       "    <tr>\n",
       "      <th>0</th>\n",
       "      <td>MEDICASP</td>\n",
       "      <td>Shampoo Medicasp Anticaspa Uso Diario 2 Botellas De 130ml</td>\n",
       "      <td>195</td>\n",
       "      <td>https://www.mercadolibre.com.mx/shampoo-medicasp-anticaspa-uso-diario-2-botellas-de-130ml/p/MLM19094907?pdp_filters=category:MLM430117#searchVariation=MLM19094907&amp;pos...</td>\n",
       "    </tr>\n",
       "    <tr>\n",
       "      <th>1</th>\n",
       "      <td>SELSUN BLUE</td>\n",
       "      <td>Shampoo Selsun Blue Naturals Dandruff 325ml 11oz</td>\n",
       "      <td>223</td>\n",
       "      <td>https://www.mercadolibre.com.mx/shampoo-selsun-blue-naturals-dandruff-325ml-11oz/p/MLM19546760?pdp_filters=category:MLM430117#searchVariation=MLM19546760&amp;position=2&amp;s...</td>\n",
       "    </tr>\n",
       "    <tr>\n",
       "      <th>2</th>\n",
       "      <td>-</td>\n",
       "      <td>Shampoo Alquitrán D Hulla Control Psoriasis  Caspa 1 Litro</td>\n",
       "      <td>119</td>\n",
       "      <td>https://articulo.mercadolibre.com.mx/MLM-1350885680-shampoo-alquitran-d-hulla-control-psoriasis-caspa-1-litro-_JM#position=32&amp;search_layout=stack&amp;type=item&amp;tracking_i...</td>\n",
       "    </tr>\n",
       "    <tr>\n",
       "      <th>3</th>\n",
       "      <td>CELESTY</td>\n",
       "      <td>Shampoo Alquitrán De Hulla Control Psoriasis Y Caspa 1 Litro</td>\n",
       "      <td>168</td>\n",
       "      <td>https://articulo.mercadolibre.com.mx/MLM-859722097-shampoo-alquitran-de-hulla-control-psoriasis-y-caspa-1-litro-_JM#position=34&amp;search_layout=stack&amp;type=item&amp;tracking...</td>\n",
       "    </tr>\n",
       "    <tr>\n",
       "      <th>4</th>\n",
       "      <td>HEAD &amp; SHOULDERS</td>\n",
       "      <td>Shampoo Head &amp; Shoulders Men Con Fragancia Old Spice 1 L</td>\n",
       "      <td>159</td>\n",
       "      <td>https://www.mercadolibre.com.mx/shampoo-head-shoulders-men-con-fragancia-old-spice-1-l/p/MLM19505194?pdp_filters=category:MLM430117#searchVariation=MLM19505194&amp;positi...</td>\n",
       "    </tr>\n",
       "  </tbody>\n",
       "</table>\n",
       "</div>"
      ],
      "text/plain": [
       "              Brand  \\\n",
       "0          MEDICASP   \n",
       "1       SELSUN BLUE   \n",
       "2                 -   \n",
       "3           CELESTY   \n",
       "4  HEAD & SHOULDERS   \n",
       "\n",
       "                                                        Product  Price  \\\n",
       "0     Shampoo Medicasp Anticaspa Uso Diario 2 Botellas De 130ml    195   \n",
       "1              Shampoo Selsun Blue Naturals Dandruff 325ml 11oz    223   \n",
       "2    Shampoo Alquitrán D Hulla Control Psoriasis  Caspa 1 Litro    119   \n",
       "3  Shampoo Alquitrán De Hulla Control Psoriasis Y Caspa 1 Litro    168   \n",
       "4      Shampoo Head & Shoulders Men Con Fragancia Old Spice 1 L    159   \n",
       "\n",
       "                                                                                                                                                                        Link  \n",
       "0  https://www.mercadolibre.com.mx/shampoo-medicasp-anticaspa-uso-diario-2-botellas-de-130ml/p/MLM19094907?pdp_filters=category:MLM430117#searchVariation=MLM19094907&pos...  \n",
       "1  https://www.mercadolibre.com.mx/shampoo-selsun-blue-naturals-dandruff-325ml-11oz/p/MLM19546760?pdp_filters=category:MLM430117#searchVariation=MLM19546760&position=2&s...  \n",
       "2  https://articulo.mercadolibre.com.mx/MLM-1350885680-shampoo-alquitran-d-hulla-control-psoriasis-caspa-1-litro-_JM#position=32&search_layout=stack&type=item&tracking_i...  \n",
       "3  https://articulo.mercadolibre.com.mx/MLM-859722097-shampoo-alquitran-de-hulla-control-psoriasis-y-caspa-1-litro-_JM#position=34&search_layout=stack&type=item&tracking...  \n",
       "4  https://www.mercadolibre.com.mx/shampoo-head-shoulders-men-con-fragancia-old-spice-1-l/p/MLM19505194?pdp_filters=category:MLM430117#searchVariation=MLM19505194&positi...  "
      ]
     },
     "metadata": {},
     "output_type": "display_data"
    },
    {
     "data": {
      "application/vnd.plotly.v1+json": {
       "config": {
        "plotlyServerURL": "https://plot.ly"
       },
       "data": [
        {
         "alignmentgroup": "True",
         "hovertemplate": "Count=%{x}<br>Brand=%{y}<extra></extra>",
         "legendgroup": "",
         "marker": {
          "color": "#636efa",
          "pattern": {
           "shape": ""
          }
         },
         "name": "",
         "offsetgroup": "",
         "orientation": "h",
         "showlegend": false,
         "textposition": "auto",
         "texttemplate": "%{x}",
         "type": "bar",
         "x": [
          164,
          44,
          20,
          14,
          13,
          12,
          12,
          11
         ],
         "xaxis": "x",
         "y": [
          "-",
          "HEAD & SHOULDERS",
          "FRANCIS",
          "CELESTY",
          "ALERT",
          "IMAGES",
          "FOLICURE",
          "MEDICASP"
         ],
         "yaxis": "y"
        }
       ],
       "layout": {
        "barmode": "relative",
        "height": 600,
        "legend": {
         "tracegroupgap": 0
        },
        "margin": {
         "t": 60
        },
        "template": {
         "data": {
          "bar": [
           {
            "error_x": {
             "color": "#2a3f5f"
            },
            "error_y": {
             "color": "#2a3f5f"
            },
            "marker": {
             "line": {
              "color": "#E5ECF6",
              "width": 0.5
             },
             "pattern": {
              "fillmode": "overlay",
              "size": 10,
              "solidity": 0.2
             }
            },
            "type": "bar"
           }
          ],
          "barpolar": [
           {
            "marker": {
             "line": {
              "color": "#E5ECF6",
              "width": 0.5
             },
             "pattern": {
              "fillmode": "overlay",
              "size": 10,
              "solidity": 0.2
             }
            },
            "type": "barpolar"
           }
          ],
          "carpet": [
           {
            "aaxis": {
             "endlinecolor": "#2a3f5f",
             "gridcolor": "white",
             "linecolor": "white",
             "minorgridcolor": "white",
             "startlinecolor": "#2a3f5f"
            },
            "baxis": {
             "endlinecolor": "#2a3f5f",
             "gridcolor": "white",
             "linecolor": "white",
             "minorgridcolor": "white",
             "startlinecolor": "#2a3f5f"
            },
            "type": "carpet"
           }
          ],
          "choropleth": [
           {
            "colorbar": {
             "outlinewidth": 0,
             "ticks": ""
            },
            "type": "choropleth"
           }
          ],
          "contour": [
           {
            "colorbar": {
             "outlinewidth": 0,
             "ticks": ""
            },
            "colorscale": [
             [
              0,
              "#0d0887"
             ],
             [
              0.1111111111111111,
              "#46039f"
             ],
             [
              0.2222222222222222,
              "#7201a8"
             ],
             [
              0.3333333333333333,
              "#9c179e"
             ],
             [
              0.4444444444444444,
              "#bd3786"
             ],
             [
              0.5555555555555556,
              "#d8576b"
             ],
             [
              0.6666666666666666,
              "#ed7953"
             ],
             [
              0.7777777777777778,
              "#fb9f3a"
             ],
             [
              0.8888888888888888,
              "#fdca26"
             ],
             [
              1,
              "#f0f921"
             ]
            ],
            "type": "contour"
           }
          ],
          "contourcarpet": [
           {
            "colorbar": {
             "outlinewidth": 0,
             "ticks": ""
            },
            "type": "contourcarpet"
           }
          ],
          "heatmap": [
           {
            "colorbar": {
             "outlinewidth": 0,
             "ticks": ""
            },
            "colorscale": [
             [
              0,
              "#0d0887"
             ],
             [
              0.1111111111111111,
              "#46039f"
             ],
             [
              0.2222222222222222,
              "#7201a8"
             ],
             [
              0.3333333333333333,
              "#9c179e"
             ],
             [
              0.4444444444444444,
              "#bd3786"
             ],
             [
              0.5555555555555556,
              "#d8576b"
             ],
             [
              0.6666666666666666,
              "#ed7953"
             ],
             [
              0.7777777777777778,
              "#fb9f3a"
             ],
             [
              0.8888888888888888,
              "#fdca26"
             ],
             [
              1,
              "#f0f921"
             ]
            ],
            "type": "heatmap"
           }
          ],
          "heatmapgl": [
           {
            "colorbar": {
             "outlinewidth": 0,
             "ticks": ""
            },
            "colorscale": [
             [
              0,
              "#0d0887"
             ],
             [
              0.1111111111111111,
              "#46039f"
             ],
             [
              0.2222222222222222,
              "#7201a8"
             ],
             [
              0.3333333333333333,
              "#9c179e"
             ],
             [
              0.4444444444444444,
              "#bd3786"
             ],
             [
              0.5555555555555556,
              "#d8576b"
             ],
             [
              0.6666666666666666,
              "#ed7953"
             ],
             [
              0.7777777777777778,
              "#fb9f3a"
             ],
             [
              0.8888888888888888,
              "#fdca26"
             ],
             [
              1,
              "#f0f921"
             ]
            ],
            "type": "heatmapgl"
           }
          ],
          "histogram": [
           {
            "marker": {
             "pattern": {
              "fillmode": "overlay",
              "size": 10,
              "solidity": 0.2
             }
            },
            "type": "histogram"
           }
          ],
          "histogram2d": [
           {
            "colorbar": {
             "outlinewidth": 0,
             "ticks": ""
            },
            "colorscale": [
             [
              0,
              "#0d0887"
             ],
             [
              0.1111111111111111,
              "#46039f"
             ],
             [
              0.2222222222222222,
              "#7201a8"
             ],
             [
              0.3333333333333333,
              "#9c179e"
             ],
             [
              0.4444444444444444,
              "#bd3786"
             ],
             [
              0.5555555555555556,
              "#d8576b"
             ],
             [
              0.6666666666666666,
              "#ed7953"
             ],
             [
              0.7777777777777778,
              "#fb9f3a"
             ],
             [
              0.8888888888888888,
              "#fdca26"
             ],
             [
              1,
              "#f0f921"
             ]
            ],
            "type": "histogram2d"
           }
          ],
          "histogram2dcontour": [
           {
            "colorbar": {
             "outlinewidth": 0,
             "ticks": ""
            },
            "colorscale": [
             [
              0,
              "#0d0887"
             ],
             [
              0.1111111111111111,
              "#46039f"
             ],
             [
              0.2222222222222222,
              "#7201a8"
             ],
             [
              0.3333333333333333,
              "#9c179e"
             ],
             [
              0.4444444444444444,
              "#bd3786"
             ],
             [
              0.5555555555555556,
              "#d8576b"
             ],
             [
              0.6666666666666666,
              "#ed7953"
             ],
             [
              0.7777777777777778,
              "#fb9f3a"
             ],
             [
              0.8888888888888888,
              "#fdca26"
             ],
             [
              1,
              "#f0f921"
             ]
            ],
            "type": "histogram2dcontour"
           }
          ],
          "mesh3d": [
           {
            "colorbar": {
             "outlinewidth": 0,
             "ticks": ""
            },
            "type": "mesh3d"
           }
          ],
          "parcoords": [
           {
            "line": {
             "colorbar": {
              "outlinewidth": 0,
              "ticks": ""
             }
            },
            "type": "parcoords"
           }
          ],
          "pie": [
           {
            "automargin": true,
            "type": "pie"
           }
          ],
          "scatter": [
           {
            "fillpattern": {
             "fillmode": "overlay",
             "size": 10,
             "solidity": 0.2
            },
            "type": "scatter"
           }
          ],
          "scatter3d": [
           {
            "line": {
             "colorbar": {
              "outlinewidth": 0,
              "ticks": ""
             }
            },
            "marker": {
             "colorbar": {
              "outlinewidth": 0,
              "ticks": ""
             }
            },
            "type": "scatter3d"
           }
          ],
          "scattercarpet": [
           {
            "marker": {
             "colorbar": {
              "outlinewidth": 0,
              "ticks": ""
             }
            },
            "type": "scattercarpet"
           }
          ],
          "scattergeo": [
           {
            "marker": {
             "colorbar": {
              "outlinewidth": 0,
              "ticks": ""
             }
            },
            "type": "scattergeo"
           }
          ],
          "scattergl": [
           {
            "marker": {
             "colorbar": {
              "outlinewidth": 0,
              "ticks": ""
             }
            },
            "type": "scattergl"
           }
          ],
          "scattermapbox": [
           {
            "marker": {
             "colorbar": {
              "outlinewidth": 0,
              "ticks": ""
             }
            },
            "type": "scattermapbox"
           }
          ],
          "scatterpolar": [
           {
            "marker": {
             "colorbar": {
              "outlinewidth": 0,
              "ticks": ""
             }
            },
            "type": "scatterpolar"
           }
          ],
          "scatterpolargl": [
           {
            "marker": {
             "colorbar": {
              "outlinewidth": 0,
              "ticks": ""
             }
            },
            "type": "scatterpolargl"
           }
          ],
          "scatterternary": [
           {
            "marker": {
             "colorbar": {
              "outlinewidth": 0,
              "ticks": ""
             }
            },
            "type": "scatterternary"
           }
          ],
          "surface": [
           {
            "colorbar": {
             "outlinewidth": 0,
             "ticks": ""
            },
            "colorscale": [
             [
              0,
              "#0d0887"
             ],
             [
              0.1111111111111111,
              "#46039f"
             ],
             [
              0.2222222222222222,
              "#7201a8"
             ],
             [
              0.3333333333333333,
              "#9c179e"
             ],
             [
              0.4444444444444444,
              "#bd3786"
             ],
             [
              0.5555555555555556,
              "#d8576b"
             ],
             [
              0.6666666666666666,
              "#ed7953"
             ],
             [
              0.7777777777777778,
              "#fb9f3a"
             ],
             [
              0.8888888888888888,
              "#fdca26"
             ],
             [
              1,
              "#f0f921"
             ]
            ],
            "type": "surface"
           }
          ],
          "table": [
           {
            "cells": {
             "fill": {
              "color": "#EBF0F8"
             },
             "line": {
              "color": "white"
             }
            },
            "header": {
             "fill": {
              "color": "#C8D4E3"
             },
             "line": {
              "color": "white"
             }
            },
            "type": "table"
           }
          ]
         },
         "layout": {
          "annotationdefaults": {
           "arrowcolor": "#2a3f5f",
           "arrowhead": 0,
           "arrowwidth": 1
          },
          "autotypenumbers": "strict",
          "coloraxis": {
           "colorbar": {
            "outlinewidth": 0,
            "ticks": ""
           }
          },
          "colorscale": {
           "diverging": [
            [
             0,
             "#8e0152"
            ],
            [
             0.1,
             "#c51b7d"
            ],
            [
             0.2,
             "#de77ae"
            ],
            [
             0.3,
             "#f1b6da"
            ],
            [
             0.4,
             "#fde0ef"
            ],
            [
             0.5,
             "#f7f7f7"
            ],
            [
             0.6,
             "#e6f5d0"
            ],
            [
             0.7,
             "#b8e186"
            ],
            [
             0.8,
             "#7fbc41"
            ],
            [
             0.9,
             "#4d9221"
            ],
            [
             1,
             "#276419"
            ]
           ],
           "sequential": [
            [
             0,
             "#0d0887"
            ],
            [
             0.1111111111111111,
             "#46039f"
            ],
            [
             0.2222222222222222,
             "#7201a8"
            ],
            [
             0.3333333333333333,
             "#9c179e"
            ],
            [
             0.4444444444444444,
             "#bd3786"
            ],
            [
             0.5555555555555556,
             "#d8576b"
            ],
            [
             0.6666666666666666,
             "#ed7953"
            ],
            [
             0.7777777777777778,
             "#fb9f3a"
            ],
            [
             0.8888888888888888,
             "#fdca26"
            ],
            [
             1,
             "#f0f921"
            ]
           ],
           "sequentialminus": [
            [
             0,
             "#0d0887"
            ],
            [
             0.1111111111111111,
             "#46039f"
            ],
            [
             0.2222222222222222,
             "#7201a8"
            ],
            [
             0.3333333333333333,
             "#9c179e"
            ],
            [
             0.4444444444444444,
             "#bd3786"
            ],
            [
             0.5555555555555556,
             "#d8576b"
            ],
            [
             0.6666666666666666,
             "#ed7953"
            ],
            [
             0.7777777777777778,
             "#fb9f3a"
            ],
            [
             0.8888888888888888,
             "#fdca26"
            ],
            [
             1,
             "#f0f921"
            ]
           ]
          },
          "colorway": [
           "#636efa",
           "#EF553B",
           "#00cc96",
           "#ab63fa",
           "#FFA15A",
           "#19d3f3",
           "#FF6692",
           "#B6E880",
           "#FF97FF",
           "#FECB52"
          ],
          "font": {
           "color": "#2a3f5f"
          },
          "geo": {
           "bgcolor": "white",
           "lakecolor": "white",
           "landcolor": "#E5ECF6",
           "showlakes": true,
           "showland": true,
           "subunitcolor": "white"
          },
          "hoverlabel": {
           "align": "left"
          },
          "hovermode": "closest",
          "mapbox": {
           "style": "light"
          },
          "paper_bgcolor": "white",
          "plot_bgcolor": "#E5ECF6",
          "polar": {
           "angularaxis": {
            "gridcolor": "white",
            "linecolor": "white",
            "ticks": ""
           },
           "bgcolor": "#E5ECF6",
           "radialaxis": {
            "gridcolor": "white",
            "linecolor": "white",
            "ticks": ""
           }
          },
          "scene": {
           "xaxis": {
            "backgroundcolor": "#E5ECF6",
            "gridcolor": "white",
            "gridwidth": 2,
            "linecolor": "white",
            "showbackground": true,
            "ticks": "",
            "zerolinecolor": "white"
           },
           "yaxis": {
            "backgroundcolor": "#E5ECF6",
            "gridcolor": "white",
            "gridwidth": 2,
            "linecolor": "white",
            "showbackground": true,
            "ticks": "",
            "zerolinecolor": "white"
           },
           "zaxis": {
            "backgroundcolor": "#E5ECF6",
            "gridcolor": "white",
            "gridwidth": 2,
            "linecolor": "white",
            "showbackground": true,
            "ticks": "",
            "zerolinecolor": "white"
           }
          },
          "shapedefaults": {
           "line": {
            "color": "#2a3f5f"
           }
          },
          "ternary": {
           "aaxis": {
            "gridcolor": "white",
            "linecolor": "white",
            "ticks": ""
           },
           "baxis": {
            "gridcolor": "white",
            "linecolor": "white",
            "ticks": ""
           },
           "bgcolor": "#E5ECF6",
           "caxis": {
            "gridcolor": "white",
            "linecolor": "white",
            "ticks": ""
           }
          },
          "title": {
           "x": 0.05
          },
          "xaxis": {
           "automargin": true,
           "gridcolor": "white",
           "linecolor": "white",
           "ticks": "",
           "title": {
            "standoff": 15
           },
           "zerolinecolor": "white",
           "zerolinewidth": 2
          },
          "yaxis": {
           "automargin": true,
           "gridcolor": "white",
           "linecolor": "white",
           "ticks": "",
           "title": {
            "standoff": 15
           },
           "zerolinecolor": "white",
           "zerolinewidth": 2
          }
         }
        },
        "title": {
         "text": "Brands over 10 search results"
        },
        "width": 1100,
        "xaxis": {
         "anchor": "y",
         "categoryorder": "total descending",
         "domain": [
          0,
          1
         ],
         "title": {
          "text": "Count"
         }
        },
        "yaxis": {
         "anchor": "x",
         "domain": [
          0,
          1
         ],
         "title": {
          "text": "Brand"
         }
        }
       }
      }
     },
     "metadata": {},
     "output_type": "display_data"
    }
   ],
   "source": [
    "print('Quartile (75>) - Products: {}'.format(df_75.__len__()))\n",
    "display(df_75.head())\n",
    "display(px.bar(df_75.Brand.value_counts().to_frame()[df_75.Brand.value_counts().to_frame()['Brand']>=10], x='Brand', width=1100, height=600, text_auto=True,\n",
    "       labels={'index':'Brand', 'Brand':'Count'}).update_layout(xaxis={'categoryorder':'total descending'}, title='Brands over 10 search results'))\n",
    "\n",
    "print('Quartile (50-75] - Products: {}'.format(df_50_75.__len__()))\n",
    "display(df_50_75.head())\n",
    "display(px.bar(df_50_75.Brand.value_counts().to_frame()[df_50_75.Brand.value_counts().to_frame()['Brand']>=10], x='Brand', width=1100, height=600, text_auto=True,\n",
    "       labels={'index':'Brand', 'Brand':'Count'}).update_layout(xaxis={'categoryorder':'total descending'}, title='Brands over 10 search results'))\n",
    "\n",
    "print('Quartile (25-50] - Products: {}'.format(df_25_50.__len__()))\n",
    "display(df_25_50.head())\n",
    "display(px.bar(df_25_50.Brand.value_counts().to_frame()[df_25_50.Brand.value_counts().to_frame()['Brand']>=10], x='Brand', width=1100, height=600, text_auto=True,\n",
    "       labels={'index':'Brand', 'Brand':'Count'}).update_layout(xaxis={'categoryorder':'total descending'}, title='Brands over 10 search results'))\n",
    "\n",
    "print('Quartile (<25] - Products: {}'.format(df_25.__len__()))\n",
    "display(df_25.head())\n",
    "display(px.bar(df_25.Brand.value_counts().to_frame()[df_25.Brand.value_counts().to_frame()['Brand']>=10], x='Brand', width=1100, height=600, text_auto=True,\n",
    "       labels={'index':'Brand', 'Brand':'Count'}).update_layout(xaxis={'categoryorder':'total descending'}, title='Brands over 10 search results'))"
   ]
  },
  {
   "cell_type": "code",
   "execution_count": 18,
   "metadata": {},
   "outputs": [
    {
     "data": {
      "application/vnd.plotly.v1+json": {
       "config": {
        "plotlyServerURL": "https://plot.ly"
       },
       "data": [
        {
         "alignmentgroup": "True",
         "hovertemplate": "Price=%{x}<extra></extra>",
         "legendgroup": "",
         "marker": {
          "color": "#636efa"
         },
         "name": "",
         "notched": false,
         "offsetgroup": "",
         "orientation": "h",
         "showlegend": false,
         "type": "box",
         "x": [
          195,
          557,
          223,
          358,
          330,
          119,
          299,
          557,
          1450,
          299,
          168,
          159,
          148,
          298,
          38,
          298,
          475,
          499,
          999,
          74,
          139,
          484,
          875,
          769,
          196,
          219,
          34,
          58,
          58,
          549,
          149,
          1709,
          425,
          299,
          58,
          366,
          538,
          219,
          149,
          428,
          395,
          196,
          545,
          284,
          495,
          650,
          106,
          689,
          605,
          37,
          330,
          407,
          298,
          204,
          299,
          299,
          699,
          149,
          380,
          240,
          765,
          599,
          176,
          645,
          270,
          399,
          210,
          1799,
          930,
          209,
          149,
          450,
          445,
          498,
          299,
          498,
          479,
          399,
          123,
          189,
          460,
          66,
          849,
          99,
          159,
          410,
          149,
          649,
          466,
          358,
          429,
          466,
          149,
          285,
          60,
          63,
          189,
          291,
          205,
          1529,
          141,
          506,
          433,
          299,
          499,
          160,
          79,
          433,
          350,
          690,
          549,
          22,
          399,
          535,
          380,
          106,
          299,
          120,
          550,
          179,
          449,
          299,
          299,
          79,
          219,
          359,
          326,
          270,
          799,
          539,
          298,
          437,
          239,
          1499,
          453,
          110,
          780,
          80,
          566,
          189,
          660,
          119,
          149,
          159,
          770,
          489,
          765,
          909,
          389,
          499,
          680,
          220,
          450,
          159,
          63,
          399,
          990,
          212,
          849,
          298,
          965,
          179,
          419,
          469,
          875,
          131,
          789,
          528,
          450,
          189,
          535,
          168,
          729,
          290,
          433,
          119,
          119,
          129,
          645,
          359,
          699,
          299,
          1450,
          316,
          227,
          450,
          699,
          581,
          669,
          524,
          349,
          648,
          150,
          678,
          81,
          419,
          197,
          359,
          125,
          499,
          599,
          259,
          589,
          379,
          1289,
          75,
          410,
          369,
          299,
          570,
          680,
          50,
          429,
          449,
          106,
          453,
          110,
          85,
          1099,
          399,
          170,
          220,
          110,
          60,
          239,
          299,
          60,
          580,
          72,
          119,
          735,
          125,
          298,
          220,
          399,
          479,
          469,
          495,
          369,
          440,
          299,
          449,
          1291,
          49,
          139,
          149,
          579,
          399,
          108,
          149,
          63,
          930,
          159,
          212,
          930,
          519,
          399,
          85,
          549,
          340,
          463,
          299,
          77,
          555,
          299,
          299,
          99,
          555,
          499,
          438,
          149,
          450,
          849,
          1099,
          445,
          229,
          433,
          298,
          230,
          299,
          176,
          239,
          304,
          67,
          709,
          108,
          129,
          557,
          1450,
          189,
          299,
          75,
          280,
          75,
          1611,
          540,
          1031,
          939,
          19,
          259,
          299,
          399,
          500,
          599,
          299,
          79,
          648,
          540,
          261,
          999,
          453,
          623,
          514,
          99,
          79,
          220,
          667,
          623,
          437,
          3128,
          580,
          699,
          335,
          261,
          210,
          860,
          489,
          279,
          484,
          72,
          169,
          599,
          590,
          399,
          433,
          655,
          557,
          1450,
          1500,
          299,
          230,
          85,
          319,
          499,
          999,
          499,
          1611,
          149,
          190,
          450,
          690,
          159,
          354,
          79,
          589,
          1899,
          849,
          776,
          990,
          99,
          449,
          239,
          399,
          1111,
          297,
          74,
          549,
          349,
          179,
          395,
          2400,
          270,
          84,
          199,
          129,
          499,
          290,
          750,
          229,
          320,
          149,
          718,
          399,
          68,
          433,
          155,
          499,
          689,
          89,
          279,
          930,
          160,
          729,
          549,
          313,
          354,
          471,
          200,
          438,
          1289,
          433,
          297,
          209,
          428,
          299,
          399,
          131,
          169,
          488,
          139,
          469,
          195,
          235,
          150,
          499,
          298,
          219,
          230,
          399,
          149,
          1715,
          645,
          699,
          89,
          219,
          730,
          579,
          670,
          599,
          235,
          285,
          580,
          338,
          1100,
          389,
          417,
          299,
          75,
          350,
          259,
          550,
          310,
          860,
          740,
          980,
          249,
          599,
          314,
          699,
          780,
          638,
          675,
          599,
          558,
          490,
          433,
          270,
          590,
          950,
          249,
          99,
          219,
          169,
          345,
          249,
          298,
          180,
          230,
          297,
          835,
          132,
          90,
          381,
          398,
          489,
          355,
          650,
          149,
          410,
          2,
          259,
          130,
          298,
          350,
          595,
          1619,
          549,
          260,
          179,
          1589,
          465,
          277,
          257,
          274,
          544,
          475,
          405,
          1196,
          475,
          950,
          595,
          169,
          106,
          249,
          399,
          179,
          120,
          670,
          599,
          609,
          225,
          410,
          119,
          29,
          145,
          129,
          417,
          299,
          699,
          74,
          79,
          499,
          259,
          299,
          148,
          329,
          298,
          380,
          169,
          159,
          85,
          570,
          776,
          149,
          449,
          419,
          68,
          399,
          809,
          110,
          179,
          280,
          1500,
          150,
          1299,
          399,
          320,
          240,
          393,
          699,
          135,
          350,
          74,
          160,
          159,
          769,
          430,
          239,
          893,
          499,
          450,
          119,
          299,
          29,
          149,
          229,
          760,
          119,
          359,
          90,
          819,
          145,
          157,
          543,
          411,
          1339,
          205,
          490,
          415,
          399,
          249,
          289,
          450,
          250,
          450,
          536,
          123,
          500,
          239,
          189,
          125,
          679,
          455,
          411,
          110,
          597,
          99,
          280,
          299,
          720,
          69,
          998,
          298,
          495,
          95,
          179,
          298,
          319,
          80,
          149,
          80,
          210,
          703,
          1380,
          94,
          165,
          298,
          299,
          259,
          990,
          446,
          155,
          399,
          125,
          212,
          175,
          338,
          249,
          125,
          99,
          88,
          179,
          89,
          498,
          483,
          1245,
          297,
          399,
          725,
          119,
          452,
          532,
          297,
          190,
          82,
          131,
          176,
          721,
          326,
          589,
          115,
          399,
          999,
          400,
          369,
          139,
          1036,
          250,
          139,
          270,
          140,
          849,
          505,
          465,
          469,
          169,
          125,
          369,
          389,
          2590,
          159,
          601,
          176,
          239,
          1799,
          239,
          299,
          79,
          699,
          557,
          1450,
          196,
          555,
          224,
          159,
          299,
          75,
          1999,
          399,
          1099,
          599,
          449,
          109,
          1699,
          680,
          680,
          2899,
          169,
          175,
          543,
          1580,
          999,
          499,
          970,
          512,
          776,
          210,
          607,
          159,
          298,
          285,
          165,
          680,
          50,
          2380,
          354,
          180,
          93,
          462,
          299,
          299,
          289,
          395,
          249,
          349,
          216,
          1409,
          3799,
          557,
          1450,
          1599,
          2749,
          2299,
          209,
          840,
          999,
          499,
          209,
          499,
          399,
          165,
          145,
          399,
          160,
          499,
          739,
          1200,
          901,
          299,
          185,
          639,
          445,
          756,
          386,
          210,
          599,
          298,
          74,
          453,
          298,
          717,
          600,
          190,
          95,
          376,
          539,
          136,
          280,
          280,
          249,
          249,
          329,
          298,
          129,
          230,
          1249,
          349,
          998,
          139,
          189,
          130,
          149,
          555,
          185,
          549,
          729,
          545,
          499,
          179,
          139,
          799,
          1289,
          645,
          319,
          419,
          304,
          329,
          499,
          299,
          299,
          249,
          169,
          245,
          175,
          196,
          365,
          149,
          645,
          212,
          369,
          114,
          139,
          170,
          780,
          389,
          149,
          299,
          196,
          93,
          69,
          317,
          297,
          246,
          250,
          749,
          312,
          735,
          330,
          598,
          499,
          529,
          339,
          1499,
          216,
          399,
          379,
          419,
          149,
          142,
          196,
          699,
          780,
          150,
          134,
          129,
          290,
          668,
          149,
          410,
          1031,
          399,
          2699,
          499,
          120,
          1624,
          829,
          95,
          550,
          289,
          139,
          429,
          2100,
          607,
          770,
          3599,
          129,
          298,
          1452,
          3649,
          270,
          535,
          4156,
          1114,
          1800,
          2080,
          3449,
          1790,
          1148,
          945,
          3311,
          1429,
          3142,
          1621,
          2989,
          945,
          681,
          2999,
          633,
          1114,
          3480,
          395,
          3987,
          3311,
          2973,
          2079,
          239,
          535,
          179,
          1452,
          3142,
          1790,
          557,
          149,
          149,
          119,
          2099,
          519,
          2100,
          776,
          2635,
          2297,
          1949,
          749,
          3299,
          2849,
          1733,
          549,
          908,
          746,
          2128,
          3480,
          1283,
          3119,
          2599,
          1559,
          399,
          450,
          1199,
          2859,
          2549,
          779,
          449,
          2453,
          1400,
          2213,
          749,
          1353,
          251,
          249,
          224,
          2804,
          2466,
          3818,
          1959,
          1049,
          2949,
          2399,
          599,
          3149,
          1499,
          2339,
          1689,
          450,
          189,
          2209,
          2699,
          1039,
          1649,
          909,
          449,
          179,
          899,
          2249,
          2469,
          1819,
          1169,
          1349,
          1299,
          649,
          2729,
          681,
          457,
          2466,
          2973,
          519,
          3449,
          3987,
          1283,
          449,
          3649,
          2209,
          119,
          359,
          2339,
          298,
          1148,
          4156,
          909,
          1499,
          1049,
          1733,
          1082,
          149,
          224,
          1621,
          2297,
          749,
          2729,
          2949,
          1559,
          2989,
          2469,
          2859,
          649,
          1349,
          2213,
          1768,
          2453,
          298,
          131,
          1191,
          908,
          746,
          176,
          249,
          299,
          212,
          3818,
          2804,
          2128,
          1959,
          2635,
          1689,
          1169,
          1799,
          2549,
          3119,
          1819,
          2079,
          779,
          3599,
          2699,
          2399,
          1649,
          2599,
          2999,
          1039,
          125,
          930,
          899,
          599,
          3149,
          1949,
          3299,
          2249,
          1429,
          2099,
          2849,
          1199,
          199,
          129,
          419,
          320,
          250,
          370,
          1640,
          369,
          298,
          125,
          605,
          75,
          415,
          19,
          528,
          389,
          229,
          298,
          349,
          350,
          300,
          189,
          599,
          298,
          270,
          411,
          599,
          110,
          268,
          499,
          439,
          497,
          776,
          389,
          249,
          422,
          299,
          369,
          423,
          1050,
          380,
          411,
          537,
          199,
          379,
          699,
          260,
          34,
          1393,
          769,
          659,
          240,
          235,
          440,
          305,
          453,
          60,
          453,
          269,
          350,
          499,
          170,
          290,
          390,
          497,
          497,
          370,
          299,
          258,
          330,
          282,
          280,
          724,
          554,
          999,
          309,
          825,
          530,
          269,
          250,
          324,
          1209,
          610,
          317,
          1479,
          677,
          629,
          1199,
          1339,
          380,
          909,
          109,
          311,
          749,
          422,
          284,
          620,
          163,
          407,
          970,
          501,
          239,
          899,
          63,
          495,
          550,
          77,
          1232,
          1195,
          299,
          228,
          295,
          286,
          170,
          335,
          140,
          928,
          548,
          160,
          179,
          1000,
          825,
          1655,
          269,
          1378,
          1124,
          1393,
          450,
          705,
          279,
          580,
          290,
          165,
          1100,
          620,
          199,
          550,
          685,
          159,
          290,
          849,
          895,
          1379,
          277,
          2792,
          1397,
          200,
          873,
          350,
          99,
          330,
          579,
          224,
          370,
          407,
          352,
          600,
          131,
          419,
          1126,
          1126,
          419,
          390,
          76,
          226,
          149,
          450,
          180,
          750,
          599,
          399,
          369,
          490,
          290,
          499,
          290,
          290,
          230,
          1465,
          126,
          149,
          121,
          904,
          1202,
          501,
          1440,
          562,
          1420,
          601,
          1440,
          1002,
          229,
          720,
          566,
          1202,
          710,
          1046,
          1012,
          793,
          1002,
          562,
          1124,
          980,
          904,
          1200,
          506,
          523,
          978,
          1639,
          489,
          600,
          720,
          1124,
          1002,
          501,
          562,
          1018,
          990,
          1350,
          65,
          352,
          470,
          308,
          1600,
          486,
          457,
          420,
          599,
          595,
          299,
          350,
          250,
          350,
          220,
          215,
          499,
          400,
          250,
          499,
          230,
          695,
          350,
          400,
          139,
          580,
          280,
          897,
          765,
          362,
          170,
          140,
          300,
          189,
          259,
          484,
          120,
          280,
          688,
          249,
          775,
          115,
          599,
          89,
          590,
          299,
          488,
          90,
          972,
          165,
          165,
          992,
          661,
          1267,
          661,
          1323,
          149,
          530,
          219,
          285,
          1100,
          200,
          504,
          342,
          935,
          554,
          245,
          200,
          2400,
          990,
          199,
          398,
          980,
          129,
          160,
          377,
          119,
          307,
          449,
          120,
          165,
          1150,
          400,
          700,
          299,
          200,
          575,
          1735,
          1598,
          2116,
          1743,
          1728,
          1638,
          1622,
          1335,
          1316,
          1777,
          2278,
          1335,
          1549,
          1199,
          1607,
          1784,
          1652,
          1398,
          1668,
          1728,
          1491,
          1308,
          1205,
          1734,
          1223,
          1675,
          1111,
          2200,
          918,
          168,
          538,
          519,
          58,
          55,
          58,
          319,
          500,
          90,
          433,
          1500,
          304,
          299,
          939,
          304,
          415,
          479,
          165,
          544,
          544,
          95,
          399,
          930,
          99,
          399,
          229,
          297,
          329,
          169,
          289,
          499,
          308,
          179,
          299,
          324,
          230,
          499,
          885,
          795,
          305,
          235,
          591,
          755,
          260,
          299,
          285,
          761,
          271,
          1059,
          249,
          507,
          562,
          243,
          567,
          879,
          1049,
          226,
          251,
          618,
          869,
          789,
          1239,
          283,
          1269,
          773,
          797,
          903,
          234,
          646,
          230,
          237,
          563,
          803,
          589,
          222,
          240,
          238,
          254,
          256,
          268,
          279,
          566,
          590,
          839,
          855,
          915,
          1149,
          1209,
          1299,
          1489,
          270,
          253,
          313,
          315,
          539,
          559,
          550,
          809,
          905,
          801,
          867,
          891,
          1169,
          1179,
          1219,
          1229,
          1399,
          1469,
          224,
          252,
          301,
          241,
          255,
          527,
          535,
          555,
          575,
          595,
          611,
          534,
          538,
          602,
          614,
          630,
          831,
          927,
          1069,
          1239,
          1249,
          1259,
          1289,
          1329,
          1389,
          1419,
          242,
          246,
          239,
          267,
          503,
          626,
          833,
          851,
          875,
          881,
          911,
          849,
          861,
          921,
          945,
          1029,
          1109,
          1279,
          1349,
          1359,
          1379,
          1409,
          262,
          257,
          263,
          261,
          281,
          531,
          547,
          551,
          607,
          594,
          791,
          785,
          1019,
          1229,
          299,
          232,
          247,
          259,
          311,
          515,
          519,
          523,
          543,
          583,
          570,
          606,
          642,
          767,
          899,
          917,
          813,
          951,
          1199,
          1279,
          1319,
          1449,
          264,
          273,
          511,
          603,
          546,
          638,
          821,
          857,
          807,
          837,
          897,
          933,
          1039,
          1089,
          1119,
          1129,
          1139,
          1159,
          1249,
          1259,
          1269,
          1369,
          1459,
          244,
          258,
          265,
          571,
          599,
          615,
          542,
          574,
          582,
          598,
          779,
          1079,
          248,
          250,
          277,
          275,
          586,
          622,
          634,
          827,
          887,
          923,
          873,
          963,
          1009,
          1189,
          1219,
          1439,
          236,
          266,
          303,
          579,
          587,
          558,
          578,
          815,
          845,
          863,
          893,
          819,
          843,
          939,
          957,
          1099,
          1289,
          1309,
          1429,
          224,
          1649,
          129,
          250,
          199,
          200,
          990,
          378,
          189,
          918,
          182,
          239,
          210,
          255,
          220,
          1633,
          1461,
          1203,
          1719,
          1719,
          1633,
          2149,
          1031,
          159,
          145,
          197,
          255
         ],
         "x0": " ",
         "xaxis": "x",
         "y0": " ",
         "yaxis": "y"
        }
       ],
       "layout": {
        "boxmode": "group",
        "legend": {
         "tracegroupgap": 0
        },
        "template": {
         "data": {
          "bar": [
           {
            "error_x": {
             "color": "#2a3f5f"
            },
            "error_y": {
             "color": "#2a3f5f"
            },
            "marker": {
             "line": {
              "color": "#E5ECF6",
              "width": 0.5
             },
             "pattern": {
              "fillmode": "overlay",
              "size": 10,
              "solidity": 0.2
             }
            },
            "type": "bar"
           }
          ],
          "barpolar": [
           {
            "marker": {
             "line": {
              "color": "#E5ECF6",
              "width": 0.5
             },
             "pattern": {
              "fillmode": "overlay",
              "size": 10,
              "solidity": 0.2
             }
            },
            "type": "barpolar"
           }
          ],
          "carpet": [
           {
            "aaxis": {
             "endlinecolor": "#2a3f5f",
             "gridcolor": "white",
             "linecolor": "white",
             "minorgridcolor": "white",
             "startlinecolor": "#2a3f5f"
            },
            "baxis": {
             "endlinecolor": "#2a3f5f",
             "gridcolor": "white",
             "linecolor": "white",
             "minorgridcolor": "white",
             "startlinecolor": "#2a3f5f"
            },
            "type": "carpet"
           }
          ],
          "choropleth": [
           {
            "colorbar": {
             "outlinewidth": 0,
             "ticks": ""
            },
            "type": "choropleth"
           }
          ],
          "contour": [
           {
            "colorbar": {
             "outlinewidth": 0,
             "ticks": ""
            },
            "colorscale": [
             [
              0,
              "#0d0887"
             ],
             [
              0.1111111111111111,
              "#46039f"
             ],
             [
              0.2222222222222222,
              "#7201a8"
             ],
             [
              0.3333333333333333,
              "#9c179e"
             ],
             [
              0.4444444444444444,
              "#bd3786"
             ],
             [
              0.5555555555555556,
              "#d8576b"
             ],
             [
              0.6666666666666666,
              "#ed7953"
             ],
             [
              0.7777777777777778,
              "#fb9f3a"
             ],
             [
              0.8888888888888888,
              "#fdca26"
             ],
             [
              1,
              "#f0f921"
             ]
            ],
            "type": "contour"
           }
          ],
          "contourcarpet": [
           {
            "colorbar": {
             "outlinewidth": 0,
             "ticks": ""
            },
            "type": "contourcarpet"
           }
          ],
          "heatmap": [
           {
            "colorbar": {
             "outlinewidth": 0,
             "ticks": ""
            },
            "colorscale": [
             [
              0,
              "#0d0887"
             ],
             [
              0.1111111111111111,
              "#46039f"
             ],
             [
              0.2222222222222222,
              "#7201a8"
             ],
             [
              0.3333333333333333,
              "#9c179e"
             ],
             [
              0.4444444444444444,
              "#bd3786"
             ],
             [
              0.5555555555555556,
              "#d8576b"
             ],
             [
              0.6666666666666666,
              "#ed7953"
             ],
             [
              0.7777777777777778,
              "#fb9f3a"
             ],
             [
              0.8888888888888888,
              "#fdca26"
             ],
             [
              1,
              "#f0f921"
             ]
            ],
            "type": "heatmap"
           }
          ],
          "heatmapgl": [
           {
            "colorbar": {
             "outlinewidth": 0,
             "ticks": ""
            },
            "colorscale": [
             [
              0,
              "#0d0887"
             ],
             [
              0.1111111111111111,
              "#46039f"
             ],
             [
              0.2222222222222222,
              "#7201a8"
             ],
             [
              0.3333333333333333,
              "#9c179e"
             ],
             [
              0.4444444444444444,
              "#bd3786"
             ],
             [
              0.5555555555555556,
              "#d8576b"
             ],
             [
              0.6666666666666666,
              "#ed7953"
             ],
             [
              0.7777777777777778,
              "#fb9f3a"
             ],
             [
              0.8888888888888888,
              "#fdca26"
             ],
             [
              1,
              "#f0f921"
             ]
            ],
            "type": "heatmapgl"
           }
          ],
          "histogram": [
           {
            "marker": {
             "pattern": {
              "fillmode": "overlay",
              "size": 10,
              "solidity": 0.2
             }
            },
            "type": "histogram"
           }
          ],
          "histogram2d": [
           {
            "colorbar": {
             "outlinewidth": 0,
             "ticks": ""
            },
            "colorscale": [
             [
              0,
              "#0d0887"
             ],
             [
              0.1111111111111111,
              "#46039f"
             ],
             [
              0.2222222222222222,
              "#7201a8"
             ],
             [
              0.3333333333333333,
              "#9c179e"
             ],
             [
              0.4444444444444444,
              "#bd3786"
             ],
             [
              0.5555555555555556,
              "#d8576b"
             ],
             [
              0.6666666666666666,
              "#ed7953"
             ],
             [
              0.7777777777777778,
              "#fb9f3a"
             ],
             [
              0.8888888888888888,
              "#fdca26"
             ],
             [
              1,
              "#f0f921"
             ]
            ],
            "type": "histogram2d"
           }
          ],
          "histogram2dcontour": [
           {
            "colorbar": {
             "outlinewidth": 0,
             "ticks": ""
            },
            "colorscale": [
             [
              0,
              "#0d0887"
             ],
             [
              0.1111111111111111,
              "#46039f"
             ],
             [
              0.2222222222222222,
              "#7201a8"
             ],
             [
              0.3333333333333333,
              "#9c179e"
             ],
             [
              0.4444444444444444,
              "#bd3786"
             ],
             [
              0.5555555555555556,
              "#d8576b"
             ],
             [
              0.6666666666666666,
              "#ed7953"
             ],
             [
              0.7777777777777778,
              "#fb9f3a"
             ],
             [
              0.8888888888888888,
              "#fdca26"
             ],
             [
              1,
              "#f0f921"
             ]
            ],
            "type": "histogram2dcontour"
           }
          ],
          "mesh3d": [
           {
            "colorbar": {
             "outlinewidth": 0,
             "ticks": ""
            },
            "type": "mesh3d"
           }
          ],
          "parcoords": [
           {
            "line": {
             "colorbar": {
              "outlinewidth": 0,
              "ticks": ""
             }
            },
            "type": "parcoords"
           }
          ],
          "pie": [
           {
            "automargin": true,
            "type": "pie"
           }
          ],
          "scatter": [
           {
            "fillpattern": {
             "fillmode": "overlay",
             "size": 10,
             "solidity": 0.2
            },
            "type": "scatter"
           }
          ],
          "scatter3d": [
           {
            "line": {
             "colorbar": {
              "outlinewidth": 0,
              "ticks": ""
             }
            },
            "marker": {
             "colorbar": {
              "outlinewidth": 0,
              "ticks": ""
             }
            },
            "type": "scatter3d"
           }
          ],
          "scattercarpet": [
           {
            "marker": {
             "colorbar": {
              "outlinewidth": 0,
              "ticks": ""
             }
            },
            "type": "scattercarpet"
           }
          ],
          "scattergeo": [
           {
            "marker": {
             "colorbar": {
              "outlinewidth": 0,
              "ticks": ""
             }
            },
            "type": "scattergeo"
           }
          ],
          "scattergl": [
           {
            "marker": {
             "colorbar": {
              "outlinewidth": 0,
              "ticks": ""
             }
            },
            "type": "scattergl"
           }
          ],
          "scattermapbox": [
           {
            "marker": {
             "colorbar": {
              "outlinewidth": 0,
              "ticks": ""
             }
            },
            "type": "scattermapbox"
           }
          ],
          "scatterpolar": [
           {
            "marker": {
             "colorbar": {
              "outlinewidth": 0,
              "ticks": ""
             }
            },
            "type": "scatterpolar"
           }
          ],
          "scatterpolargl": [
           {
            "marker": {
             "colorbar": {
              "outlinewidth": 0,
              "ticks": ""
             }
            },
            "type": "scatterpolargl"
           }
          ],
          "scatterternary": [
           {
            "marker": {
             "colorbar": {
              "outlinewidth": 0,
              "ticks": ""
             }
            },
            "type": "scatterternary"
           }
          ],
          "surface": [
           {
            "colorbar": {
             "outlinewidth": 0,
             "ticks": ""
            },
            "colorscale": [
             [
              0,
              "#0d0887"
             ],
             [
              0.1111111111111111,
              "#46039f"
             ],
             [
              0.2222222222222222,
              "#7201a8"
             ],
             [
              0.3333333333333333,
              "#9c179e"
             ],
             [
              0.4444444444444444,
              "#bd3786"
             ],
             [
              0.5555555555555556,
              "#d8576b"
             ],
             [
              0.6666666666666666,
              "#ed7953"
             ],
             [
              0.7777777777777778,
              "#fb9f3a"
             ],
             [
              0.8888888888888888,
              "#fdca26"
             ],
             [
              1,
              "#f0f921"
             ]
            ],
            "type": "surface"
           }
          ],
          "table": [
           {
            "cells": {
             "fill": {
              "color": "#EBF0F8"
             },
             "line": {
              "color": "white"
             }
            },
            "header": {
             "fill": {
              "color": "#C8D4E3"
             },
             "line": {
              "color": "white"
             }
            },
            "type": "table"
           }
          ]
         },
         "layout": {
          "annotationdefaults": {
           "arrowcolor": "#2a3f5f",
           "arrowhead": 0,
           "arrowwidth": 1
          },
          "autotypenumbers": "strict",
          "coloraxis": {
           "colorbar": {
            "outlinewidth": 0,
            "ticks": ""
           }
          },
          "colorscale": {
           "diverging": [
            [
             0,
             "#8e0152"
            ],
            [
             0.1,
             "#c51b7d"
            ],
            [
             0.2,
             "#de77ae"
            ],
            [
             0.3,
             "#f1b6da"
            ],
            [
             0.4,
             "#fde0ef"
            ],
            [
             0.5,
             "#f7f7f7"
            ],
            [
             0.6,
             "#e6f5d0"
            ],
            [
             0.7,
             "#b8e186"
            ],
            [
             0.8,
             "#7fbc41"
            ],
            [
             0.9,
             "#4d9221"
            ],
            [
             1,
             "#276419"
            ]
           ],
           "sequential": [
            [
             0,
             "#0d0887"
            ],
            [
             0.1111111111111111,
             "#46039f"
            ],
            [
             0.2222222222222222,
             "#7201a8"
            ],
            [
             0.3333333333333333,
             "#9c179e"
            ],
            [
             0.4444444444444444,
             "#bd3786"
            ],
            [
             0.5555555555555556,
             "#d8576b"
            ],
            [
             0.6666666666666666,
             "#ed7953"
            ],
            [
             0.7777777777777778,
             "#fb9f3a"
            ],
            [
             0.8888888888888888,
             "#fdca26"
            ],
            [
             1,
             "#f0f921"
            ]
           ],
           "sequentialminus": [
            [
             0,
             "#0d0887"
            ],
            [
             0.1111111111111111,
             "#46039f"
            ],
            [
             0.2222222222222222,
             "#7201a8"
            ],
            [
             0.3333333333333333,
             "#9c179e"
            ],
            [
             0.4444444444444444,
             "#bd3786"
            ],
            [
             0.5555555555555556,
             "#d8576b"
            ],
            [
             0.6666666666666666,
             "#ed7953"
            ],
            [
             0.7777777777777778,
             "#fb9f3a"
            ],
            [
             0.8888888888888888,
             "#fdca26"
            ],
            [
             1,
             "#f0f921"
            ]
           ]
          },
          "colorway": [
           "#636efa",
           "#EF553B",
           "#00cc96",
           "#ab63fa",
           "#FFA15A",
           "#19d3f3",
           "#FF6692",
           "#B6E880",
           "#FF97FF",
           "#FECB52"
          ],
          "font": {
           "color": "#2a3f5f"
          },
          "geo": {
           "bgcolor": "white",
           "lakecolor": "white",
           "landcolor": "#E5ECF6",
           "showlakes": true,
           "showland": true,
           "subunitcolor": "white"
          },
          "hoverlabel": {
           "align": "left"
          },
          "hovermode": "closest",
          "mapbox": {
           "style": "light"
          },
          "paper_bgcolor": "white",
          "plot_bgcolor": "#E5ECF6",
          "polar": {
           "angularaxis": {
            "gridcolor": "white",
            "linecolor": "white",
            "ticks": ""
           },
           "bgcolor": "#E5ECF6",
           "radialaxis": {
            "gridcolor": "white",
            "linecolor": "white",
            "ticks": ""
           }
          },
          "scene": {
           "xaxis": {
            "backgroundcolor": "#E5ECF6",
            "gridcolor": "white",
            "gridwidth": 2,
            "linecolor": "white",
            "showbackground": true,
            "ticks": "",
            "zerolinecolor": "white"
           },
           "yaxis": {
            "backgroundcolor": "#E5ECF6",
            "gridcolor": "white",
            "gridwidth": 2,
            "linecolor": "white",
            "showbackground": true,
            "ticks": "",
            "zerolinecolor": "white"
           },
           "zaxis": {
            "backgroundcolor": "#E5ECF6",
            "gridcolor": "white",
            "gridwidth": 2,
            "linecolor": "white",
            "showbackground": true,
            "ticks": "",
            "zerolinecolor": "white"
           }
          },
          "shapedefaults": {
           "line": {
            "color": "#2a3f5f"
           }
          },
          "ternary": {
           "aaxis": {
            "gridcolor": "white",
            "linecolor": "white",
            "ticks": ""
           },
           "baxis": {
            "gridcolor": "white",
            "linecolor": "white",
            "ticks": ""
           },
           "bgcolor": "#E5ECF6",
           "caxis": {
            "gridcolor": "white",
            "linecolor": "white",
            "ticks": ""
           }
          },
          "title": {
           "x": 0.05
          },
          "xaxis": {
           "automargin": true,
           "gridcolor": "white",
           "linecolor": "white",
           "ticks": "",
           "title": {
            "standoff": 15
           },
           "zerolinecolor": "white",
           "zerolinewidth": 2
          },
          "yaxis": {
           "automargin": true,
           "gridcolor": "white",
           "linecolor": "white",
           "ticks": "",
           "title": {
            "standoff": 15
           },
           "zerolinecolor": "white",
           "zerolinewidth": 2
          }
         }
        },
        "title": {
         "text": "Price distribution"
        },
        "xaxis": {
         "anchor": "y",
         "domain": [
          0,
          1
         ],
         "title": {
          "text": "Price"
         }
        },
        "yaxis": {
         "anchor": "x",
         "domain": [
          0,
          1
         ]
        }
       }
      }
     },
     "metadata": {},
     "output_type": "display_data"
    }
   ],
   "source": [
    "px.box(df,'Price', title=f'Price distribution')"
   ]
  },
  {
   "cell_type": "code",
   "execution_count": 323,
   "metadata": {},
   "outputs": [
    {
     "name": "stdout",
     "output_type": "stream",
     "text": [
      "1255\n",
      "0.5050806933652122\n",
      "0.25044829647340106\n"
     ]
    }
   ],
   "source": [
    "print(df[df['Price'] <= 831].shape[0])\n",
    "print(df[df['Price'] >= 449].shape[0] / df.shape[0])\n",
    "print(df[(df['Price'] > 247) & (df['Price'] <= 449)].shape[0] / df.shape[0])"
   ]
  },
  {
   "cell_type": "code",
   "execution_count": 94,
   "metadata": {},
   "outputs": [
    {
     "data": {
      "application/vnd.plotly.v1+json": {
       "config": {
        "plotlyServerURL": "https://plot.ly"
       },
       "data": [
        {
         "alignmentgroup": "True",
         "bingroup": "x",
         "hovertemplate": "Price=%{x}<br>count=%{y}<extra></extra>",
         "legendgroup": "",
         "marker": {
          "color": "#636efa",
          "pattern": {
           "shape": ""
          }
         },
         "name": "",
         "offsetgroup": "",
         "orientation": "v",
         "showlegend": false,
         "type": "histogram",
         "x": [
          195,
          557,
          223,
          358,
          330,
          119,
          299,
          557,
          1450,
          299,
          168,
          159,
          148,
          298,
          38,
          298,
          475,
          499,
          999,
          74,
          139,
          484,
          875,
          769,
          196,
          219,
          34,
          58,
          58,
          549,
          149,
          1709,
          425,
          299,
          58,
          366,
          538,
          219,
          149,
          428,
          395,
          196,
          545,
          284,
          495,
          650,
          106,
          689,
          605,
          37,
          330,
          407,
          298,
          204,
          299,
          299,
          699,
          149,
          380,
          240,
          765,
          599,
          176,
          645,
          270,
          399,
          210,
          1799,
          930,
          209,
          149,
          450,
          445,
          498,
          299,
          498,
          479,
          399,
          123,
          189,
          460,
          66,
          849,
          99,
          159,
          410,
          149,
          649,
          466,
          358,
          429,
          466,
          149,
          285,
          60,
          63,
          189,
          291,
          205,
          1529,
          141,
          506,
          433,
          299,
          499,
          160,
          79,
          433,
          350,
          690,
          549,
          22,
          399,
          535,
          380,
          106,
          299,
          120,
          550,
          179,
          449,
          299,
          299,
          79,
          219,
          359,
          326,
          270,
          799,
          539,
          298,
          437,
          239,
          1499,
          453,
          110,
          780,
          80,
          566,
          189,
          660,
          119,
          149,
          159,
          770,
          489,
          765,
          909,
          389,
          499,
          680,
          220,
          450,
          159,
          63,
          399,
          990,
          212,
          849,
          298,
          965,
          179,
          419,
          469,
          875,
          131,
          789,
          528,
          450,
          189,
          535,
          168,
          729,
          290,
          433,
          119,
          119,
          129,
          645,
          359,
          699,
          299,
          1450,
          316,
          227,
          450,
          699,
          581,
          669,
          524,
          349,
          648,
          150,
          678,
          81,
          419,
          197,
          359,
          125,
          499,
          599,
          259,
          589,
          379,
          1289,
          75,
          410,
          369,
          299,
          570,
          680,
          50,
          429,
          449,
          106,
          453,
          110,
          85,
          1099,
          399,
          170,
          220,
          110,
          60,
          239,
          299,
          60,
          580,
          72,
          119,
          735,
          125,
          298,
          220,
          399,
          479,
          469,
          495,
          369,
          440,
          299,
          449,
          1291,
          49,
          139,
          149,
          579,
          399,
          108,
          149,
          63,
          930,
          159,
          212,
          930,
          519,
          399,
          85,
          549,
          340,
          463,
          299,
          77,
          555,
          299,
          299,
          99,
          555,
          499,
          438,
          149,
          450,
          849,
          1099,
          445,
          229,
          433,
          298,
          230,
          299,
          176,
          239,
          304,
          67,
          709,
          108,
          129,
          557,
          1450,
          189,
          299,
          75,
          280,
          75,
          1611,
          540,
          1031,
          939,
          19,
          259,
          299,
          399,
          500,
          599,
          299,
          79,
          648,
          540,
          261,
          999,
          453,
          623,
          514,
          99,
          79,
          220,
          667,
          623,
          437,
          3128,
          580,
          699,
          335,
          261,
          210,
          860,
          489,
          279,
          484,
          72,
          169,
          599,
          590,
          399,
          433,
          655,
          557,
          1450,
          1500,
          299,
          230,
          85,
          319,
          499,
          999,
          499,
          1611,
          149,
          190,
          450,
          690,
          159,
          354,
          79,
          589,
          1899,
          849,
          776,
          990,
          99,
          449,
          239,
          399,
          1111,
          297,
          74,
          549,
          349,
          179,
          395,
          2400,
          270,
          84,
          199,
          129,
          499,
          290,
          750,
          229,
          320,
          149,
          718,
          399,
          68,
          433,
          155,
          499,
          689,
          89,
          279,
          930,
          160,
          729,
          549,
          313,
          354,
          471,
          200,
          438,
          1289,
          433,
          297,
          209,
          428,
          299,
          399,
          131,
          169,
          488,
          139,
          469,
          195,
          235,
          150,
          499,
          298,
          219,
          230,
          399,
          149,
          1715,
          645,
          699,
          89,
          219,
          730,
          579,
          670,
          599,
          235,
          285,
          580,
          338,
          1100,
          389,
          417,
          299,
          75,
          350,
          259,
          550,
          310,
          860,
          740,
          980,
          249,
          599,
          314,
          699,
          780,
          638,
          675,
          599,
          558,
          490,
          433,
          270,
          590,
          950,
          249,
          99,
          219,
          169,
          345,
          249,
          298,
          180,
          230,
          297,
          835,
          132,
          90,
          381,
          398,
          489,
          355,
          650,
          149,
          410,
          2,
          259,
          130,
          298,
          350,
          595,
          1619,
          549,
          260,
          179,
          1589,
          465,
          277,
          257,
          274,
          544,
          475,
          405,
          1196,
          475,
          950,
          595,
          169,
          106,
          249,
          399,
          179,
          120,
          670,
          599,
          609,
          225,
          410,
          119,
          29,
          145,
          129,
          417,
          299,
          699,
          74,
          79,
          499,
          259,
          299,
          148,
          329,
          298,
          380,
          169,
          159,
          85,
          570,
          776,
          149,
          449,
          419,
          68,
          399,
          809,
          110,
          179,
          280,
          1500,
          150,
          1299,
          399,
          320,
          240,
          393,
          699,
          135,
          350,
          74,
          160,
          159,
          769,
          430,
          239,
          893,
          499,
          450,
          119,
          299,
          29,
          149,
          229,
          760,
          119,
          359,
          90,
          819,
          145,
          157,
          543,
          411,
          1339,
          205,
          490,
          415,
          399,
          249,
          289,
          450,
          250,
          450,
          536,
          123,
          500,
          239,
          189,
          125,
          679,
          455,
          411,
          110,
          597,
          99,
          280,
          299,
          720,
          69,
          998,
          298,
          495,
          95,
          179,
          298,
          319,
          80,
          149,
          80,
          210,
          703,
          1380,
          94,
          165,
          298,
          299,
          259,
          990,
          446,
          155,
          399,
          125,
          212,
          175,
          338,
          249,
          125,
          99,
          88,
          179,
          89,
          498,
          483,
          1245,
          297,
          399,
          725,
          119,
          452,
          532,
          297,
          190,
          82,
          131,
          176,
          721,
          326,
          589,
          115,
          399,
          999,
          400,
          369,
          139,
          1036,
          250,
          139,
          270,
          140,
          849,
          505,
          465,
          469,
          169,
          125,
          369,
          389,
          2590,
          159,
          601,
          176,
          239,
          1799,
          239,
          299,
          79,
          699,
          557,
          1450,
          196,
          555,
          224,
          159,
          299,
          75,
          1999,
          399,
          1099,
          599,
          449,
          109,
          1699,
          680,
          680,
          2899,
          169,
          175,
          543,
          1580,
          999,
          499,
          970,
          512,
          776,
          210,
          607,
          159,
          298,
          285,
          165,
          680,
          50,
          2380,
          354,
          180,
          93,
          462,
          299,
          299,
          289,
          395,
          249,
          349,
          216,
          1409,
          3799,
          557,
          1450,
          1599,
          2749,
          2299,
          209,
          840,
          999,
          499,
          209,
          499,
          399,
          165,
          145,
          399,
          160,
          499,
          739,
          1200,
          901,
          299,
          185,
          639,
          445,
          756,
          386,
          210,
          599,
          298,
          74,
          453,
          298,
          717,
          600,
          190,
          95,
          376,
          539,
          136,
          280,
          280,
          249,
          249,
          329,
          298,
          129,
          230,
          1249,
          349,
          998,
          139,
          189,
          130,
          149,
          555,
          185,
          549,
          729,
          545,
          499,
          179,
          139,
          799,
          1289,
          645,
          319,
          419,
          304,
          329,
          499,
          299,
          299,
          249,
          169,
          245,
          175,
          196,
          365,
          149,
          645,
          212,
          369,
          114,
          139,
          170,
          780,
          389,
          149,
          299,
          196,
          93,
          69,
          317,
          297,
          246,
          250,
          749,
          312,
          735,
          330,
          598,
          499,
          529,
          339,
          1499,
          216,
          399,
          379,
          419,
          149,
          142,
          196,
          699,
          780,
          150,
          134,
          129,
          290,
          668,
          149,
          410,
          1031,
          399,
          2699,
          499,
          120,
          1624,
          829,
          95,
          550,
          289,
          139,
          429,
          2100,
          607,
          770,
          3599,
          129,
          298,
          1452,
          3649,
          270,
          535,
          4156,
          1114,
          1800,
          2080,
          3449,
          1790,
          1148,
          945,
          3311,
          1429,
          3142,
          1621,
          2989,
          945,
          681,
          2999,
          633,
          1114,
          3480,
          395,
          3987,
          3311,
          2973,
          2079,
          239,
          535,
          179,
          1452,
          3142,
          1790,
          557,
          149,
          149,
          119,
          2099,
          519,
          2100,
          776,
          2635,
          2297,
          1949,
          749,
          3299,
          2849,
          1733,
          549,
          908,
          746,
          2128,
          3480,
          1283,
          3119,
          2599,
          1559,
          399,
          450,
          1199,
          2859,
          2549,
          779,
          449,
          2453,
          1400,
          2213,
          749,
          1353,
          251,
          249,
          224,
          2804,
          2466,
          3818,
          1959,
          1049,
          2949,
          2399,
          599,
          3149,
          1499,
          2339,
          1689,
          450,
          189,
          2209,
          2699,
          1039,
          1649,
          909,
          449,
          179,
          899,
          2249,
          2469,
          1819,
          1169,
          1349,
          1299,
          649,
          2729,
          681,
          457,
          2466,
          2973,
          519,
          3449,
          3987,
          1283,
          449,
          3649,
          2209,
          119,
          359,
          2339,
          298,
          1148,
          4156,
          909,
          1499,
          1049,
          1733,
          1082,
          149,
          224,
          1621,
          2297,
          749,
          2729,
          2949,
          1559,
          2989,
          2469,
          2859,
          649,
          1349,
          2213,
          1768,
          2453,
          298,
          131,
          1191,
          908,
          746,
          176,
          249,
          299,
          212,
          3818,
          2804,
          2128,
          1959,
          2635,
          1689,
          1169,
          1799,
          2549,
          3119,
          1819,
          2079,
          779,
          3599,
          2699,
          2399,
          1649,
          2599,
          2999,
          1039,
          125,
          930,
          899,
          599,
          3149,
          1949,
          3299,
          2249,
          1429,
          2099,
          2849,
          1199,
          199,
          129,
          419,
          320,
          250,
          370,
          1640,
          369,
          298,
          125,
          605,
          75,
          415,
          19,
          528,
          389,
          229,
          298,
          349,
          350,
          300,
          189,
          599,
          298,
          270,
          411,
          599,
          110,
          268,
          499,
          439,
          497,
          776,
          389,
          249,
          422,
          299,
          369,
          423,
          1050,
          380,
          411,
          537,
          199,
          379,
          699,
          260,
          34,
          1393,
          769,
          659,
          240,
          235,
          440,
          305,
          453,
          60,
          453,
          269,
          350,
          499,
          170,
          290,
          390,
          497,
          497,
          370,
          299,
          258,
          330,
          282,
          280,
          724,
          554,
          999,
          309,
          825,
          530,
          269,
          250,
          324,
          1209,
          610,
          317,
          1479,
          677,
          629,
          1199,
          1339,
          380,
          909,
          109,
          311,
          749,
          422,
          284,
          620,
          163,
          407,
          970,
          501,
          239,
          899,
          63,
          495,
          550,
          77,
          1232,
          1195,
          299,
          228,
          295,
          286,
          170,
          335,
          140,
          928,
          548,
          160,
          179,
          1000,
          825,
          1655,
          269,
          1378,
          1124,
          1393,
          450,
          705,
          279,
          580,
          290,
          165,
          1100,
          620,
          199,
          550,
          685,
          159,
          290,
          849,
          895,
          1379,
          277,
          2792,
          1397,
          200,
          873,
          350,
          99,
          330,
          579,
          224,
          370,
          407,
          352,
          600,
          131,
          419,
          1126,
          1126,
          419,
          390,
          76,
          226,
          149,
          450,
          180,
          750,
          599,
          399,
          369,
          490,
          290,
          499,
          290,
          290,
          230,
          1465,
          126,
          149,
          121,
          904,
          1202,
          501,
          1440,
          562,
          1420,
          601,
          1440,
          1002,
          229,
          720,
          566,
          1202,
          710,
          1046,
          1012,
          793,
          1002,
          562,
          1124,
          980,
          904,
          1200,
          506,
          523,
          978,
          1639,
          489,
          600,
          720,
          1124,
          1002,
          501,
          562,
          1018,
          990,
          1350,
          65,
          352,
          470,
          308,
          1600,
          486,
          457,
          420,
          599,
          595,
          299,
          350,
          250,
          350,
          220,
          215,
          499,
          400,
          250,
          499,
          230,
          695,
          350,
          400,
          139,
          580,
          280,
          897,
          765,
          362,
          170,
          140,
          300,
          189,
          259,
          484,
          120,
          280,
          688,
          249,
          775,
          115,
          599,
          89,
          590,
          299,
          488,
          90,
          972,
          165,
          165,
          992,
          661,
          1267,
          661,
          1323,
          149,
          530,
          219,
          285,
          1100,
          200,
          504,
          342,
          935,
          554,
          245,
          200,
          2400,
          990,
          199,
          398,
          980,
          129,
          160,
          377,
          119,
          307,
          449,
          120,
          165,
          1150,
          400,
          700,
          299,
          200,
          575,
          1735,
          1598,
          2116,
          1743,
          1728,
          1638,
          1622,
          1335,
          1316,
          1777,
          2278,
          1335,
          1549,
          1199,
          1607,
          1784,
          1652,
          1398,
          1668,
          1728,
          1491,
          1308,
          1205,
          1734,
          1223,
          1675,
          1111,
          2200,
          918,
          168,
          538,
          519,
          58,
          55,
          58,
          319,
          500,
          90,
          433,
          1500,
          304,
          299,
          939,
          304,
          415,
          479,
          165,
          544,
          544,
          95,
          399,
          930,
          99,
          399,
          229,
          297,
          329,
          169,
          289,
          499,
          308,
          179,
          299,
          324,
          230,
          499,
          885,
          795,
          305,
          235,
          591,
          755,
          260,
          299,
          285,
          761,
          271,
          1059,
          249,
          507,
          562,
          243,
          567,
          879,
          1049,
          226,
          251,
          618,
          869,
          789,
          1239,
          283,
          1269,
          773,
          797,
          903,
          234,
          646,
          230,
          237,
          563,
          803,
          589,
          222,
          240,
          238,
          254,
          256,
          268,
          279,
          566,
          590,
          839,
          855,
          915,
          1149,
          1209,
          1299,
          1489,
          270,
          253,
          313,
          315,
          539,
          559,
          550,
          809,
          905,
          801,
          867,
          891,
          1169,
          1179,
          1219,
          1229,
          1399,
          1469,
          224,
          252,
          301,
          241,
          255,
          527,
          535,
          555,
          575,
          595,
          611,
          534,
          538,
          602,
          614,
          630,
          831,
          927,
          1069,
          1239,
          1249,
          1259,
          1289,
          1329,
          1389,
          1419,
          242,
          246,
          239,
          267,
          503,
          626,
          833,
          851,
          875,
          881,
          911,
          849,
          861,
          921,
          945,
          1029,
          1109,
          1279,
          1349,
          1359,
          1379,
          1409,
          262,
          257,
          263,
          261,
          281,
          531,
          547,
          551,
          607,
          594,
          791,
          785,
          1019,
          1229,
          299,
          232,
          247,
          259,
          311,
          515,
          519,
          523,
          543,
          583,
          570,
          606,
          642,
          767,
          899,
          917,
          813,
          951,
          1199,
          1279,
          1319,
          1449,
          264,
          273,
          511,
          603,
          546,
          638,
          821,
          857,
          807,
          837,
          897,
          933,
          1039,
          1089,
          1119,
          1129,
          1139,
          1159,
          1249,
          1259,
          1269,
          1369,
          1459,
          244,
          258,
          265,
          571,
          599,
          615,
          542,
          574,
          582,
          598,
          779,
          1079,
          248,
          250,
          277,
          275,
          586,
          622,
          634,
          827,
          887,
          923,
          873,
          963,
          1009,
          1189,
          1219,
          1439,
          236,
          266,
          303,
          579,
          587,
          558,
          578,
          815,
          845,
          863,
          893,
          819,
          843,
          939,
          957,
          1099,
          1289,
          1309,
          1429,
          224,
          1649,
          129,
          250,
          199,
          200,
          990,
          378,
          189,
          918,
          182,
          239,
          210,
          255,
          220,
          1633,
          1461,
          1203,
          1719,
          1719,
          1633,
          2149,
          1031,
          159,
          145,
          197,
          255
         ],
         "xaxis": "x",
         "yaxis": "y"
        }
       ],
       "layout": {
        "barmode": "relative",
        "legend": {
         "tracegroupgap": 0
        },
        "template": {
         "data": {
          "bar": [
           {
            "error_x": {
             "color": "#2a3f5f"
            },
            "error_y": {
             "color": "#2a3f5f"
            },
            "marker": {
             "line": {
              "color": "#E5ECF6",
              "width": 0.5
             },
             "pattern": {
              "fillmode": "overlay",
              "size": 10,
              "solidity": 0.2
             }
            },
            "type": "bar"
           }
          ],
          "barpolar": [
           {
            "marker": {
             "line": {
              "color": "#E5ECF6",
              "width": 0.5
             },
             "pattern": {
              "fillmode": "overlay",
              "size": 10,
              "solidity": 0.2
             }
            },
            "type": "barpolar"
           }
          ],
          "carpet": [
           {
            "aaxis": {
             "endlinecolor": "#2a3f5f",
             "gridcolor": "white",
             "linecolor": "white",
             "minorgridcolor": "white",
             "startlinecolor": "#2a3f5f"
            },
            "baxis": {
             "endlinecolor": "#2a3f5f",
             "gridcolor": "white",
             "linecolor": "white",
             "minorgridcolor": "white",
             "startlinecolor": "#2a3f5f"
            },
            "type": "carpet"
           }
          ],
          "choropleth": [
           {
            "colorbar": {
             "outlinewidth": 0,
             "ticks": ""
            },
            "type": "choropleth"
           }
          ],
          "contour": [
           {
            "colorbar": {
             "outlinewidth": 0,
             "ticks": ""
            },
            "colorscale": [
             [
              0,
              "#0d0887"
             ],
             [
              0.1111111111111111,
              "#46039f"
             ],
             [
              0.2222222222222222,
              "#7201a8"
             ],
             [
              0.3333333333333333,
              "#9c179e"
             ],
             [
              0.4444444444444444,
              "#bd3786"
             ],
             [
              0.5555555555555556,
              "#d8576b"
             ],
             [
              0.6666666666666666,
              "#ed7953"
             ],
             [
              0.7777777777777778,
              "#fb9f3a"
             ],
             [
              0.8888888888888888,
              "#fdca26"
             ],
             [
              1,
              "#f0f921"
             ]
            ],
            "type": "contour"
           }
          ],
          "contourcarpet": [
           {
            "colorbar": {
             "outlinewidth": 0,
             "ticks": ""
            },
            "type": "contourcarpet"
           }
          ],
          "heatmap": [
           {
            "colorbar": {
             "outlinewidth": 0,
             "ticks": ""
            },
            "colorscale": [
             [
              0,
              "#0d0887"
             ],
             [
              0.1111111111111111,
              "#46039f"
             ],
             [
              0.2222222222222222,
              "#7201a8"
             ],
             [
              0.3333333333333333,
              "#9c179e"
             ],
             [
              0.4444444444444444,
              "#bd3786"
             ],
             [
              0.5555555555555556,
              "#d8576b"
             ],
             [
              0.6666666666666666,
              "#ed7953"
             ],
             [
              0.7777777777777778,
              "#fb9f3a"
             ],
             [
              0.8888888888888888,
              "#fdca26"
             ],
             [
              1,
              "#f0f921"
             ]
            ],
            "type": "heatmap"
           }
          ],
          "heatmapgl": [
           {
            "colorbar": {
             "outlinewidth": 0,
             "ticks": ""
            },
            "colorscale": [
             [
              0,
              "#0d0887"
             ],
             [
              0.1111111111111111,
              "#46039f"
             ],
             [
              0.2222222222222222,
              "#7201a8"
             ],
             [
              0.3333333333333333,
              "#9c179e"
             ],
             [
              0.4444444444444444,
              "#bd3786"
             ],
             [
              0.5555555555555556,
              "#d8576b"
             ],
             [
              0.6666666666666666,
              "#ed7953"
             ],
             [
              0.7777777777777778,
              "#fb9f3a"
             ],
             [
              0.8888888888888888,
              "#fdca26"
             ],
             [
              1,
              "#f0f921"
             ]
            ],
            "type": "heatmapgl"
           }
          ],
          "histogram": [
           {
            "marker": {
             "pattern": {
              "fillmode": "overlay",
              "size": 10,
              "solidity": 0.2
             }
            },
            "type": "histogram"
           }
          ],
          "histogram2d": [
           {
            "colorbar": {
             "outlinewidth": 0,
             "ticks": ""
            },
            "colorscale": [
             [
              0,
              "#0d0887"
             ],
             [
              0.1111111111111111,
              "#46039f"
             ],
             [
              0.2222222222222222,
              "#7201a8"
             ],
             [
              0.3333333333333333,
              "#9c179e"
             ],
             [
              0.4444444444444444,
              "#bd3786"
             ],
             [
              0.5555555555555556,
              "#d8576b"
             ],
             [
              0.6666666666666666,
              "#ed7953"
             ],
             [
              0.7777777777777778,
              "#fb9f3a"
             ],
             [
              0.8888888888888888,
              "#fdca26"
             ],
             [
              1,
              "#f0f921"
             ]
            ],
            "type": "histogram2d"
           }
          ],
          "histogram2dcontour": [
           {
            "colorbar": {
             "outlinewidth": 0,
             "ticks": ""
            },
            "colorscale": [
             [
              0,
              "#0d0887"
             ],
             [
              0.1111111111111111,
              "#46039f"
             ],
             [
              0.2222222222222222,
              "#7201a8"
             ],
             [
              0.3333333333333333,
              "#9c179e"
             ],
             [
              0.4444444444444444,
              "#bd3786"
             ],
             [
              0.5555555555555556,
              "#d8576b"
             ],
             [
              0.6666666666666666,
              "#ed7953"
             ],
             [
              0.7777777777777778,
              "#fb9f3a"
             ],
             [
              0.8888888888888888,
              "#fdca26"
             ],
             [
              1,
              "#f0f921"
             ]
            ],
            "type": "histogram2dcontour"
           }
          ],
          "mesh3d": [
           {
            "colorbar": {
             "outlinewidth": 0,
             "ticks": ""
            },
            "type": "mesh3d"
           }
          ],
          "parcoords": [
           {
            "line": {
             "colorbar": {
              "outlinewidth": 0,
              "ticks": ""
             }
            },
            "type": "parcoords"
           }
          ],
          "pie": [
           {
            "automargin": true,
            "type": "pie"
           }
          ],
          "scatter": [
           {
            "fillpattern": {
             "fillmode": "overlay",
             "size": 10,
             "solidity": 0.2
            },
            "type": "scatter"
           }
          ],
          "scatter3d": [
           {
            "line": {
             "colorbar": {
              "outlinewidth": 0,
              "ticks": ""
             }
            },
            "marker": {
             "colorbar": {
              "outlinewidth": 0,
              "ticks": ""
             }
            },
            "type": "scatter3d"
           }
          ],
          "scattercarpet": [
           {
            "marker": {
             "colorbar": {
              "outlinewidth": 0,
              "ticks": ""
             }
            },
            "type": "scattercarpet"
           }
          ],
          "scattergeo": [
           {
            "marker": {
             "colorbar": {
              "outlinewidth": 0,
              "ticks": ""
             }
            },
            "type": "scattergeo"
           }
          ],
          "scattergl": [
           {
            "marker": {
             "colorbar": {
              "outlinewidth": 0,
              "ticks": ""
             }
            },
            "type": "scattergl"
           }
          ],
          "scattermapbox": [
           {
            "marker": {
             "colorbar": {
              "outlinewidth": 0,
              "ticks": ""
             }
            },
            "type": "scattermapbox"
           }
          ],
          "scatterpolar": [
           {
            "marker": {
             "colorbar": {
              "outlinewidth": 0,
              "ticks": ""
             }
            },
            "type": "scatterpolar"
           }
          ],
          "scatterpolargl": [
           {
            "marker": {
             "colorbar": {
              "outlinewidth": 0,
              "ticks": ""
             }
            },
            "type": "scatterpolargl"
           }
          ],
          "scatterternary": [
           {
            "marker": {
             "colorbar": {
              "outlinewidth": 0,
              "ticks": ""
             }
            },
            "type": "scatterternary"
           }
          ],
          "surface": [
           {
            "colorbar": {
             "outlinewidth": 0,
             "ticks": ""
            },
            "colorscale": [
             [
              0,
              "#0d0887"
             ],
             [
              0.1111111111111111,
              "#46039f"
             ],
             [
              0.2222222222222222,
              "#7201a8"
             ],
             [
              0.3333333333333333,
              "#9c179e"
             ],
             [
              0.4444444444444444,
              "#bd3786"
             ],
             [
              0.5555555555555556,
              "#d8576b"
             ],
             [
              0.6666666666666666,
              "#ed7953"
             ],
             [
              0.7777777777777778,
              "#fb9f3a"
             ],
             [
              0.8888888888888888,
              "#fdca26"
             ],
             [
              1,
              "#f0f921"
             ]
            ],
            "type": "surface"
           }
          ],
          "table": [
           {
            "cells": {
             "fill": {
              "color": "#EBF0F8"
             },
             "line": {
              "color": "white"
             }
            },
            "header": {
             "fill": {
              "color": "#C8D4E3"
             },
             "line": {
              "color": "white"
             }
            },
            "type": "table"
           }
          ]
         },
         "layout": {
          "annotationdefaults": {
           "arrowcolor": "#2a3f5f",
           "arrowhead": 0,
           "arrowwidth": 1
          },
          "autotypenumbers": "strict",
          "coloraxis": {
           "colorbar": {
            "outlinewidth": 0,
            "ticks": ""
           }
          },
          "colorscale": {
           "diverging": [
            [
             0,
             "#8e0152"
            ],
            [
             0.1,
             "#c51b7d"
            ],
            [
             0.2,
             "#de77ae"
            ],
            [
             0.3,
             "#f1b6da"
            ],
            [
             0.4,
             "#fde0ef"
            ],
            [
             0.5,
             "#f7f7f7"
            ],
            [
             0.6,
             "#e6f5d0"
            ],
            [
             0.7,
             "#b8e186"
            ],
            [
             0.8,
             "#7fbc41"
            ],
            [
             0.9,
             "#4d9221"
            ],
            [
             1,
             "#276419"
            ]
           ],
           "sequential": [
            [
             0,
             "#0d0887"
            ],
            [
             0.1111111111111111,
             "#46039f"
            ],
            [
             0.2222222222222222,
             "#7201a8"
            ],
            [
             0.3333333333333333,
             "#9c179e"
            ],
            [
             0.4444444444444444,
             "#bd3786"
            ],
            [
             0.5555555555555556,
             "#d8576b"
            ],
            [
             0.6666666666666666,
             "#ed7953"
            ],
            [
             0.7777777777777778,
             "#fb9f3a"
            ],
            [
             0.8888888888888888,
             "#fdca26"
            ],
            [
             1,
             "#f0f921"
            ]
           ],
           "sequentialminus": [
            [
             0,
             "#0d0887"
            ],
            [
             0.1111111111111111,
             "#46039f"
            ],
            [
             0.2222222222222222,
             "#7201a8"
            ],
            [
             0.3333333333333333,
             "#9c179e"
            ],
            [
             0.4444444444444444,
             "#bd3786"
            ],
            [
             0.5555555555555556,
             "#d8576b"
            ],
            [
             0.6666666666666666,
             "#ed7953"
            ],
            [
             0.7777777777777778,
             "#fb9f3a"
            ],
            [
             0.8888888888888888,
             "#fdca26"
            ],
            [
             1,
             "#f0f921"
            ]
           ]
          },
          "colorway": [
           "#636efa",
           "#EF553B",
           "#00cc96",
           "#ab63fa",
           "#FFA15A",
           "#19d3f3",
           "#FF6692",
           "#B6E880",
           "#FF97FF",
           "#FECB52"
          ],
          "font": {
           "color": "#2a3f5f"
          },
          "geo": {
           "bgcolor": "white",
           "lakecolor": "white",
           "landcolor": "#E5ECF6",
           "showlakes": true,
           "showland": true,
           "subunitcolor": "white"
          },
          "hoverlabel": {
           "align": "left"
          },
          "hovermode": "closest",
          "mapbox": {
           "style": "light"
          },
          "paper_bgcolor": "white",
          "plot_bgcolor": "#E5ECF6",
          "polar": {
           "angularaxis": {
            "gridcolor": "white",
            "linecolor": "white",
            "ticks": ""
           },
           "bgcolor": "#E5ECF6",
           "radialaxis": {
            "gridcolor": "white",
            "linecolor": "white",
            "ticks": ""
           }
          },
          "scene": {
           "xaxis": {
            "backgroundcolor": "#E5ECF6",
            "gridcolor": "white",
            "gridwidth": 2,
            "linecolor": "white",
            "showbackground": true,
            "ticks": "",
            "zerolinecolor": "white"
           },
           "yaxis": {
            "backgroundcolor": "#E5ECF6",
            "gridcolor": "white",
            "gridwidth": 2,
            "linecolor": "white",
            "showbackground": true,
            "ticks": "",
            "zerolinecolor": "white"
           },
           "zaxis": {
            "backgroundcolor": "#E5ECF6",
            "gridcolor": "white",
            "gridwidth": 2,
            "linecolor": "white",
            "showbackground": true,
            "ticks": "",
            "zerolinecolor": "white"
           }
          },
          "shapedefaults": {
           "line": {
            "color": "#2a3f5f"
           }
          },
          "ternary": {
           "aaxis": {
            "gridcolor": "white",
            "linecolor": "white",
            "ticks": ""
           },
           "baxis": {
            "gridcolor": "white",
            "linecolor": "white",
            "ticks": ""
           },
           "bgcolor": "#E5ECF6",
           "caxis": {
            "gridcolor": "white",
            "linecolor": "white",
            "ticks": ""
           }
          },
          "title": {
           "x": 0.05
          },
          "xaxis": {
           "automargin": true,
           "gridcolor": "white",
           "linecolor": "white",
           "ticks": "",
           "title": {
            "standoff": 15
           },
           "zerolinecolor": "white",
           "zerolinewidth": 2
          },
          "yaxis": {
           "automargin": true,
           "gridcolor": "white",
           "linecolor": "white",
           "ticks": "",
           "title": {
            "standoff": 15
           },
           "zerolinecolor": "white",
           "zerolinewidth": 2
          }
         }
        },
        "title": {
         "text": "Price distribution"
        },
        "xaxis": {
         "anchor": "y",
         "domain": [
          0,
          1
         ],
         "title": {
          "text": "Price"
         }
        },
        "yaxis": {
         "anchor": "x",
         "domain": [
          0,
          1
         ],
         "title": {
          "text": "count"
         }
        }
       }
      }
     },
     "metadata": {},
     "output_type": "display_data"
    },
    {
     "data": {
      "application/vnd.plotly.v1+json": {
       "config": {
        "plotlyServerURL": "https://plot.ly"
       },
       "data": [
        {
         "alignmentgroup": "True",
         "bingroup": "x",
         "hovertemplate": "Price=%{x}<br>count=%{y}<extra></extra>",
         "legendgroup": "",
         "marker": {
          "color": "#636efa",
          "pattern": {
           "shape": ""
          }
         },
         "name": "",
         "nbinsx": 10,
         "offsetgroup": "",
         "orientation": "v",
         "showlegend": false,
         "texttemplate": "%{value}",
         "type": "histogram",
         "x": [
          1450,
          999,
          875,
          1709,
          1799,
          930,
          849,
          1529,
          1499,
          909,
          990,
          849,
          965,
          875,
          1450,
          1289,
          1099,
          1291,
          930,
          930,
          849,
          1099,
          1450,
          1611,
          1031,
          939,
          999,
          3128,
          860,
          1450,
          1500,
          999,
          1611,
          1899,
          849,
          990,
          1111,
          2400,
          930,
          1289,
          1715,
          1100,
          860,
          980,
          950,
          835,
          1619,
          1589,
          1196,
          950,
          1500,
          1299,
          893,
          1339,
          998,
          1380,
          990,
          1245,
          999,
          1036,
          849,
          2590,
          1799,
          1450,
          1999,
          1099,
          1699,
          2899,
          1580,
          999,
          970,
          2380,
          1409,
          3799,
          1450,
          1599,
          2749,
          2299,
          840,
          999,
          1200,
          901,
          1249,
          998,
          1289,
          1499,
          1031,
          2699,
          1624,
          2100,
          3599,
          1452,
          3649,
          4156,
          1114,
          1800,
          2080,
          3449,
          1790,
          1148,
          945,
          3311,
          1429,
          3142,
          1621,
          2989,
          945,
          2999,
          1114,
          3480,
          3987,
          3311,
          2973,
          2079,
          1452,
          3142,
          1790,
          2099,
          2100,
          2635,
          2297,
          1949,
          3299,
          2849,
          1733,
          908,
          2128,
          3480,
          1283,
          3119,
          2599,
          1559,
          1199,
          2859,
          2549,
          2453,
          1400,
          2213,
          1353,
          2804,
          2466,
          3818,
          1959,
          1049,
          2949,
          2399,
          3149,
          1499,
          2339,
          1689,
          2209,
          2699,
          1039,
          1649,
          909,
          899,
          2249,
          2469,
          1819,
          1169,
          1349,
          1299,
          2729,
          2466,
          2973,
          3449,
          3987,
          1283,
          3649,
          2209,
          2339,
          1148,
          4156,
          909,
          1499,
          1049,
          1733,
          1082,
          1621,
          2297,
          2729,
          2949,
          1559,
          2989,
          2469,
          2859,
          1349,
          2213,
          1768,
          2453,
          1191,
          908,
          3818,
          2804,
          2128,
          1959,
          2635,
          1689,
          1169,
          1799,
          2549,
          3119,
          1819,
          2079,
          3599,
          2699,
          2399,
          1649,
          2599,
          2999,
          1039,
          930,
          899,
          3149,
          1949,
          3299,
          2249,
          1429,
          2099,
          2849,
          1199,
          1640,
          1050,
          1393,
          999,
          1209,
          1479,
          1199,
          1339,
          909,
          970,
          899,
          1232,
          1195,
          928,
          1000,
          1655,
          1378,
          1124,
          1393,
          1100,
          849,
          895,
          1379,
          2792,
          1397,
          873,
          1126,
          1126,
          1465,
          904,
          1202,
          1440,
          1420,
          1440,
          1002,
          1202,
          1046,
          1012,
          1002,
          1124,
          980,
          904,
          1200,
          978,
          1639,
          1124,
          1002,
          1018,
          990,
          1350,
          1600,
          897,
          972,
          992,
          1267,
          1323,
          1100,
          935,
          2400,
          990,
          980,
          1150,
          1735,
          1598,
          2116,
          1743,
          1728,
          1638,
          1622,
          1335,
          1316,
          1777,
          2278,
          1335,
          1549,
          1199,
          1607,
          1784,
          1652,
          1398,
          1668,
          1728,
          1491,
          1308,
          1205,
          1734,
          1223,
          1675,
          1111,
          2200,
          918,
          1500,
          939,
          930,
          885,
          1059,
          879,
          1049,
          869,
          1239,
          1269,
          903,
          839,
          855,
          915,
          1149,
          1209,
          1299,
          1489,
          905,
          867,
          891,
          1169,
          1179,
          1219,
          1229,
          1399,
          1469,
          927,
          1069,
          1239,
          1249,
          1259,
          1289,
          1329,
          1389,
          1419,
          833,
          851,
          875,
          881,
          911,
          849,
          861,
          921,
          945,
          1029,
          1109,
          1279,
          1349,
          1359,
          1379,
          1409,
          1019,
          1229,
          899,
          917,
          951,
          1199,
          1279,
          1319,
          1449,
          857,
          837,
          897,
          933,
          1039,
          1089,
          1119,
          1129,
          1139,
          1159,
          1249,
          1259,
          1269,
          1369,
          1459,
          1079,
          887,
          923,
          873,
          963,
          1009,
          1189,
          1219,
          1439,
          845,
          863,
          893,
          843,
          939,
          957,
          1099,
          1289,
          1309,
          1429,
          1649,
          990,
          918,
          1633,
          1461,
          1203,
          1719,
          1719,
          1633,
          2149,
          1031
         ],
         "xaxis": "x",
         "yaxis": "y"
        }
       ],
       "layout": {
        "barmode": "relative",
        "legend": {
         "tracegroupgap": 0
        },
        "template": {
         "data": {
          "bar": [
           {
            "error_x": {
             "color": "#2a3f5f"
            },
            "error_y": {
             "color": "#2a3f5f"
            },
            "marker": {
             "line": {
              "color": "#E5ECF6",
              "width": 0.5
             },
             "pattern": {
              "fillmode": "overlay",
              "size": 10,
              "solidity": 0.2
             }
            },
            "type": "bar"
           }
          ],
          "barpolar": [
           {
            "marker": {
             "line": {
              "color": "#E5ECF6",
              "width": 0.5
             },
             "pattern": {
              "fillmode": "overlay",
              "size": 10,
              "solidity": 0.2
             }
            },
            "type": "barpolar"
           }
          ],
          "carpet": [
           {
            "aaxis": {
             "endlinecolor": "#2a3f5f",
             "gridcolor": "white",
             "linecolor": "white",
             "minorgridcolor": "white",
             "startlinecolor": "#2a3f5f"
            },
            "baxis": {
             "endlinecolor": "#2a3f5f",
             "gridcolor": "white",
             "linecolor": "white",
             "minorgridcolor": "white",
             "startlinecolor": "#2a3f5f"
            },
            "type": "carpet"
           }
          ],
          "choropleth": [
           {
            "colorbar": {
             "outlinewidth": 0,
             "ticks": ""
            },
            "type": "choropleth"
           }
          ],
          "contour": [
           {
            "colorbar": {
             "outlinewidth": 0,
             "ticks": ""
            },
            "colorscale": [
             [
              0,
              "#0d0887"
             ],
             [
              0.1111111111111111,
              "#46039f"
             ],
             [
              0.2222222222222222,
              "#7201a8"
             ],
             [
              0.3333333333333333,
              "#9c179e"
             ],
             [
              0.4444444444444444,
              "#bd3786"
             ],
             [
              0.5555555555555556,
              "#d8576b"
             ],
             [
              0.6666666666666666,
              "#ed7953"
             ],
             [
              0.7777777777777778,
              "#fb9f3a"
             ],
             [
              0.8888888888888888,
              "#fdca26"
             ],
             [
              1,
              "#f0f921"
             ]
            ],
            "type": "contour"
           }
          ],
          "contourcarpet": [
           {
            "colorbar": {
             "outlinewidth": 0,
             "ticks": ""
            },
            "type": "contourcarpet"
           }
          ],
          "heatmap": [
           {
            "colorbar": {
             "outlinewidth": 0,
             "ticks": ""
            },
            "colorscale": [
             [
              0,
              "#0d0887"
             ],
             [
              0.1111111111111111,
              "#46039f"
             ],
             [
              0.2222222222222222,
              "#7201a8"
             ],
             [
              0.3333333333333333,
              "#9c179e"
             ],
             [
              0.4444444444444444,
              "#bd3786"
             ],
             [
              0.5555555555555556,
              "#d8576b"
             ],
             [
              0.6666666666666666,
              "#ed7953"
             ],
             [
              0.7777777777777778,
              "#fb9f3a"
             ],
             [
              0.8888888888888888,
              "#fdca26"
             ],
             [
              1,
              "#f0f921"
             ]
            ],
            "type": "heatmap"
           }
          ],
          "heatmapgl": [
           {
            "colorbar": {
             "outlinewidth": 0,
             "ticks": ""
            },
            "colorscale": [
             [
              0,
              "#0d0887"
             ],
             [
              0.1111111111111111,
              "#46039f"
             ],
             [
              0.2222222222222222,
              "#7201a8"
             ],
             [
              0.3333333333333333,
              "#9c179e"
             ],
             [
              0.4444444444444444,
              "#bd3786"
             ],
             [
              0.5555555555555556,
              "#d8576b"
             ],
             [
              0.6666666666666666,
              "#ed7953"
             ],
             [
              0.7777777777777778,
              "#fb9f3a"
             ],
             [
              0.8888888888888888,
              "#fdca26"
             ],
             [
              1,
              "#f0f921"
             ]
            ],
            "type": "heatmapgl"
           }
          ],
          "histogram": [
           {
            "marker": {
             "pattern": {
              "fillmode": "overlay",
              "size": 10,
              "solidity": 0.2
             }
            },
            "type": "histogram"
           }
          ],
          "histogram2d": [
           {
            "colorbar": {
             "outlinewidth": 0,
             "ticks": ""
            },
            "colorscale": [
             [
              0,
              "#0d0887"
             ],
             [
              0.1111111111111111,
              "#46039f"
             ],
             [
              0.2222222222222222,
              "#7201a8"
             ],
             [
              0.3333333333333333,
              "#9c179e"
             ],
             [
              0.4444444444444444,
              "#bd3786"
             ],
             [
              0.5555555555555556,
              "#d8576b"
             ],
             [
              0.6666666666666666,
              "#ed7953"
             ],
             [
              0.7777777777777778,
              "#fb9f3a"
             ],
             [
              0.8888888888888888,
              "#fdca26"
             ],
             [
              1,
              "#f0f921"
             ]
            ],
            "type": "histogram2d"
           }
          ],
          "histogram2dcontour": [
           {
            "colorbar": {
             "outlinewidth": 0,
             "ticks": ""
            },
            "colorscale": [
             [
              0,
              "#0d0887"
             ],
             [
              0.1111111111111111,
              "#46039f"
             ],
             [
              0.2222222222222222,
              "#7201a8"
             ],
             [
              0.3333333333333333,
              "#9c179e"
             ],
             [
              0.4444444444444444,
              "#bd3786"
             ],
             [
              0.5555555555555556,
              "#d8576b"
             ],
             [
              0.6666666666666666,
              "#ed7953"
             ],
             [
              0.7777777777777778,
              "#fb9f3a"
             ],
             [
              0.8888888888888888,
              "#fdca26"
             ],
             [
              1,
              "#f0f921"
             ]
            ],
            "type": "histogram2dcontour"
           }
          ],
          "mesh3d": [
           {
            "colorbar": {
             "outlinewidth": 0,
             "ticks": ""
            },
            "type": "mesh3d"
           }
          ],
          "parcoords": [
           {
            "line": {
             "colorbar": {
              "outlinewidth": 0,
              "ticks": ""
             }
            },
            "type": "parcoords"
           }
          ],
          "pie": [
           {
            "automargin": true,
            "type": "pie"
           }
          ],
          "scatter": [
           {
            "fillpattern": {
             "fillmode": "overlay",
             "size": 10,
             "solidity": 0.2
            },
            "type": "scatter"
           }
          ],
          "scatter3d": [
           {
            "line": {
             "colorbar": {
              "outlinewidth": 0,
              "ticks": ""
             }
            },
            "marker": {
             "colorbar": {
              "outlinewidth": 0,
              "ticks": ""
             }
            },
            "type": "scatter3d"
           }
          ],
          "scattercarpet": [
           {
            "marker": {
             "colorbar": {
              "outlinewidth": 0,
              "ticks": ""
             }
            },
            "type": "scattercarpet"
           }
          ],
          "scattergeo": [
           {
            "marker": {
             "colorbar": {
              "outlinewidth": 0,
              "ticks": ""
             }
            },
            "type": "scattergeo"
           }
          ],
          "scattergl": [
           {
            "marker": {
             "colorbar": {
              "outlinewidth": 0,
              "ticks": ""
             }
            },
            "type": "scattergl"
           }
          ],
          "scattermapbox": [
           {
            "marker": {
             "colorbar": {
              "outlinewidth": 0,
              "ticks": ""
             }
            },
            "type": "scattermapbox"
           }
          ],
          "scatterpolar": [
           {
            "marker": {
             "colorbar": {
              "outlinewidth": 0,
              "ticks": ""
             }
            },
            "type": "scatterpolar"
           }
          ],
          "scatterpolargl": [
           {
            "marker": {
             "colorbar": {
              "outlinewidth": 0,
              "ticks": ""
             }
            },
            "type": "scatterpolargl"
           }
          ],
          "scatterternary": [
           {
            "marker": {
             "colorbar": {
              "outlinewidth": 0,
              "ticks": ""
             }
            },
            "type": "scatterternary"
           }
          ],
          "surface": [
           {
            "colorbar": {
             "outlinewidth": 0,
             "ticks": ""
            },
            "colorscale": [
             [
              0,
              "#0d0887"
             ],
             [
              0.1111111111111111,
              "#46039f"
             ],
             [
              0.2222222222222222,
              "#7201a8"
             ],
             [
              0.3333333333333333,
              "#9c179e"
             ],
             [
              0.4444444444444444,
              "#bd3786"
             ],
             [
              0.5555555555555556,
              "#d8576b"
             ],
             [
              0.6666666666666666,
              "#ed7953"
             ],
             [
              0.7777777777777778,
              "#fb9f3a"
             ],
             [
              0.8888888888888888,
              "#fdca26"
             ],
             [
              1,
              "#f0f921"
             ]
            ],
            "type": "surface"
           }
          ],
          "table": [
           {
            "cells": {
             "fill": {
              "color": "#EBF0F8"
             },
             "line": {
              "color": "white"
             }
            },
            "header": {
             "fill": {
              "color": "#C8D4E3"
             },
             "line": {
              "color": "white"
             }
            },
            "type": "table"
           }
          ]
         },
         "layout": {
          "annotationdefaults": {
           "arrowcolor": "#2a3f5f",
           "arrowhead": 0,
           "arrowwidth": 1
          },
          "autotypenumbers": "strict",
          "coloraxis": {
           "colorbar": {
            "outlinewidth": 0,
            "ticks": ""
           }
          },
          "colorscale": {
           "diverging": [
            [
             0,
             "#8e0152"
            ],
            [
             0.1,
             "#c51b7d"
            ],
            [
             0.2,
             "#de77ae"
            ],
            [
             0.3,
             "#f1b6da"
            ],
            [
             0.4,
             "#fde0ef"
            ],
            [
             0.5,
             "#f7f7f7"
            ],
            [
             0.6,
             "#e6f5d0"
            ],
            [
             0.7,
             "#b8e186"
            ],
            [
             0.8,
             "#7fbc41"
            ],
            [
             0.9,
             "#4d9221"
            ],
            [
             1,
             "#276419"
            ]
           ],
           "sequential": [
            [
             0,
             "#0d0887"
            ],
            [
             0.1111111111111111,
             "#46039f"
            ],
            [
             0.2222222222222222,
             "#7201a8"
            ],
            [
             0.3333333333333333,
             "#9c179e"
            ],
            [
             0.4444444444444444,
             "#bd3786"
            ],
            [
             0.5555555555555556,
             "#d8576b"
            ],
            [
             0.6666666666666666,
             "#ed7953"
            ],
            [
             0.7777777777777778,
             "#fb9f3a"
            ],
            [
             0.8888888888888888,
             "#fdca26"
            ],
            [
             1,
             "#f0f921"
            ]
           ],
           "sequentialminus": [
            [
             0,
             "#0d0887"
            ],
            [
             0.1111111111111111,
             "#46039f"
            ],
            [
             0.2222222222222222,
             "#7201a8"
            ],
            [
             0.3333333333333333,
             "#9c179e"
            ],
            [
             0.4444444444444444,
             "#bd3786"
            ],
            [
             0.5555555555555556,
             "#d8576b"
            ],
            [
             0.6666666666666666,
             "#ed7953"
            ],
            [
             0.7777777777777778,
             "#fb9f3a"
            ],
            [
             0.8888888888888888,
             "#fdca26"
            ],
            [
             1,
             "#f0f921"
            ]
           ]
          },
          "colorway": [
           "#636efa",
           "#EF553B",
           "#00cc96",
           "#ab63fa",
           "#FFA15A",
           "#19d3f3",
           "#FF6692",
           "#B6E880",
           "#FF97FF",
           "#FECB52"
          ],
          "font": {
           "color": "#2a3f5f"
          },
          "geo": {
           "bgcolor": "white",
           "lakecolor": "white",
           "landcolor": "#E5ECF6",
           "showlakes": true,
           "showland": true,
           "subunitcolor": "white"
          },
          "hoverlabel": {
           "align": "left"
          },
          "hovermode": "closest",
          "mapbox": {
           "style": "light"
          },
          "paper_bgcolor": "white",
          "plot_bgcolor": "#E5ECF6",
          "polar": {
           "angularaxis": {
            "gridcolor": "white",
            "linecolor": "white",
            "ticks": ""
           },
           "bgcolor": "#E5ECF6",
           "radialaxis": {
            "gridcolor": "white",
            "linecolor": "white",
            "ticks": ""
           }
          },
          "scene": {
           "xaxis": {
            "backgroundcolor": "#E5ECF6",
            "gridcolor": "white",
            "gridwidth": 2,
            "linecolor": "white",
            "showbackground": true,
            "ticks": "",
            "zerolinecolor": "white"
           },
           "yaxis": {
            "backgroundcolor": "#E5ECF6",
            "gridcolor": "white",
            "gridwidth": 2,
            "linecolor": "white",
            "showbackground": true,
            "ticks": "",
            "zerolinecolor": "white"
           },
           "zaxis": {
            "backgroundcolor": "#E5ECF6",
            "gridcolor": "white",
            "gridwidth": 2,
            "linecolor": "white",
            "showbackground": true,
            "ticks": "",
            "zerolinecolor": "white"
           }
          },
          "shapedefaults": {
           "line": {
            "color": "#2a3f5f"
           }
          },
          "ternary": {
           "aaxis": {
            "gridcolor": "white",
            "linecolor": "white",
            "ticks": ""
           },
           "baxis": {
            "gridcolor": "white",
            "linecolor": "white",
            "ticks": ""
           },
           "bgcolor": "#E5ECF6",
           "caxis": {
            "gridcolor": "white",
            "linecolor": "white",
            "ticks": ""
           }
          },
          "title": {
           "x": 0.05
          },
          "xaxis": {
           "automargin": true,
           "gridcolor": "white",
           "linecolor": "white",
           "ticks": "",
           "title": {
            "standoff": 15
           },
           "zerolinecolor": "white",
           "zerolinewidth": 2
          },
          "yaxis": {
           "automargin": true,
           "gridcolor": "white",
           "linecolor": "white",
           "ticks": "",
           "title": {
            "standoff": 15
           },
           "zerolinecolor": "white",
           "zerolinewidth": 2
          }
         }
        },
        "title": {
         "text": "Price distribution - Prime Products"
        },
        "xaxis": {
         "anchor": "y",
         "domain": [
          0,
          1
         ],
         "title": {
          "text": "Price"
         }
        },
        "yaxis": {
         "anchor": "x",
         "domain": [
          0,
          1
         ],
         "title": {
          "text": "count"
         }
        }
       }
      }
     },
     "metadata": {},
     "output_type": "display_data"
    },
    {
     "data": {
      "text/html": [
       "<div>\n",
       "<style scoped>\n",
       "    .dataframe tbody tr th:only-of-type {\n",
       "        vertical-align: middle;\n",
       "    }\n",
       "\n",
       "    .dataframe tbody tr th {\n",
       "        vertical-align: top;\n",
       "    }\n",
       "\n",
       "    .dataframe thead th {\n",
       "        text-align: right;\n",
       "    }\n",
       "</style>\n",
       "<table border=\"1\" class=\"dataframe\">\n",
       "  <thead>\n",
       "    <tr style=\"text-align: right;\">\n",
       "      <th></th>\n",
       "      <th>Price</th>\n",
       "    </tr>\n",
       "  </thead>\n",
       "  <tbody>\n",
       "    <tr>\n",
       "      <th>count</th>\n",
       "      <td>418.00</td>\n",
       "    </tr>\n",
       "    <tr>\n",
       "      <th>mean</th>\n",
       "      <td>1565.33</td>\n",
       "    </tr>\n",
       "    <tr>\n",
       "      <th>std</th>\n",
       "      <td>741.13</td>\n",
       "    </tr>\n",
       "    <tr>\n",
       "      <th>min</th>\n",
       "      <td>833.00</td>\n",
       "    </tr>\n",
       "    <tr>\n",
       "      <th>25%</th>\n",
       "      <td>999.25</td>\n",
       "    </tr>\n",
       "    <tr>\n",
       "      <th>50%</th>\n",
       "      <td>1312.50</td>\n",
       "    </tr>\n",
       "    <tr>\n",
       "      <th>75%</th>\n",
       "      <td>1782.25</td>\n",
       "    </tr>\n",
       "    <tr>\n",
       "      <th>max</th>\n",
       "      <td>4156.00</td>\n",
       "    </tr>\n",
       "  </tbody>\n",
       "</table>\n",
       "</div>"
      ],
      "text/plain": [
       "         Price\n",
       "count   418.00\n",
       "mean   1565.33\n",
       "std     741.13\n",
       "min     833.00\n",
       "25%     999.25\n",
       "50%    1312.50\n",
       "75%    1782.25\n",
       "max    4156.00"
      ]
     },
     "metadata": {},
     "output_type": "display_data"
    },
    {
     "data": {
      "application/vnd.plotly.v1+json": {
       "config": {
        "plotlyServerURL": "https://plot.ly"
       },
       "data": [
        {
         "alignmentgroup": "True",
         "bingroup": "x",
         "hovertemplate": "Price=%{x}<br>count=%{y}<extra></extra>",
         "legendgroup": "",
         "marker": {
          "color": "#636efa",
          "pattern": {
           "shape": ""
          }
         },
         "name": "",
         "nbinsx": 15,
         "offsetgroup": "",
         "orientation": "v",
         "showlegend": false,
         "texttemplate": "%{value}",
         "type": "histogram",
         "x": [
          557,
          557,
          475,
          499,
          484,
          769,
          549,
          538,
          545,
          495,
          650,
          689,
          605,
          699,
          765,
          599,
          645,
          450,
          498,
          498,
          479,
          460,
          649,
          466,
          466,
          506,
          499,
          690,
          549,
          535,
          550,
          799,
          539,
          453,
          780,
          566,
          660,
          770,
          489,
          765,
          499,
          680,
          450,
          469,
          789,
          528,
          450,
          535,
          729,
          645,
          699,
          450,
          699,
          581,
          669,
          524,
          648,
          678,
          499,
          599,
          589,
          570,
          680,
          453,
          580,
          735,
          479,
          469,
          495,
          579,
          519,
          549,
          463,
          555,
          555,
          499,
          450,
          709,
          557,
          540,
          500,
          599,
          648,
          540,
          453,
          623,
          514,
          667,
          623,
          580,
          699,
          489,
          484,
          599,
          590,
          655,
          557,
          499,
          499,
          450,
          690,
          589,
          776,
          549,
          499,
          750,
          718,
          499,
          689,
          729,
          549,
          471,
          488,
          469,
          499,
          645,
          699,
          730,
          579,
          670,
          599,
          580,
          550,
          740,
          599,
          699,
          780,
          638,
          675,
          599,
          558,
          490,
          590,
          489,
          650,
          595,
          549,
          465,
          544,
          475,
          475,
          595,
          670,
          599,
          609,
          699,
          499,
          570,
          776,
          809,
          699,
          769,
          499,
          450,
          760,
          819,
          543,
          490,
          450,
          450,
          536,
          500,
          679,
          455,
          597,
          720,
          495,
          703,
          498,
          483,
          725,
          452,
          532,
          721,
          589,
          505,
          465,
          469,
          601,
          699,
          557,
          555,
          599,
          680,
          680,
          543,
          499,
          512,
          776,
          607,
          680,
          462,
          557,
          499,
          499,
          499,
          739,
          639,
          756,
          599,
          453,
          717,
          600,
          539,
          555,
          549,
          729,
          545,
          499,
          799,
          645,
          499,
          645,
          780,
          749,
          735,
          598,
          499,
          529,
          699,
          780,
          668,
          499,
          829,
          550,
          607,
          770,
          535,
          681,
          633,
          535,
          557,
          519,
          776,
          749,
          549,
          746,
          450,
          779,
          749,
          599,
          450,
          649,
          681,
          457,
          519,
          749,
          649,
          746,
          779,
          599,
          605,
          528,
          599,
          599,
          499,
          497,
          776,
          537,
          699,
          769,
          659,
          453,
          453,
          499,
          497,
          497,
          724,
          554,
          825,
          530,
          610,
          677,
          629,
          749,
          620,
          501,
          495,
          550,
          548,
          825,
          450,
          705,
          580,
          620,
          550,
          685,
          579,
          600,
          450,
          750,
          599,
          490,
          499,
          501,
          562,
          601,
          720,
          566,
          710,
          793,
          562,
          506,
          523,
          489,
          600,
          720,
          501,
          562,
          470,
          486,
          457,
          599,
          595,
          499,
          499,
          695,
          580,
          765,
          484,
          688,
          775,
          599,
          590,
          488,
          661,
          661,
          530,
          504,
          554,
          700,
          575,
          538,
          519,
          500,
          479,
          544,
          544,
          499,
          499,
          795,
          591,
          755,
          761,
          507,
          562,
          567,
          618,
          789,
          773,
          797,
          646,
          563,
          803,
          589,
          566,
          590,
          539,
          559,
          550,
          809,
          801,
          527,
          535,
          555,
          575,
          595,
          611,
          534,
          538,
          602,
          614,
          630,
          831,
          503,
          626,
          531,
          547,
          551,
          607,
          594,
          791,
          785,
          515,
          519,
          523,
          543,
          583,
          570,
          606,
          642,
          767,
          813,
          511,
          603,
          546,
          638,
          821,
          807,
          571,
          599,
          615,
          542,
          574,
          582,
          598,
          779,
          586,
          622,
          634,
          827,
          579,
          587,
          558,
          578,
          815,
          819
         ],
         "xaxis": "x",
         "yaxis": "y"
        }
       ],
       "layout": {
        "barmode": "relative",
        "legend": {
         "tracegroupgap": 0
        },
        "template": {
         "data": {
          "bar": [
           {
            "error_x": {
             "color": "#2a3f5f"
            },
            "error_y": {
             "color": "#2a3f5f"
            },
            "marker": {
             "line": {
              "color": "#E5ECF6",
              "width": 0.5
             },
             "pattern": {
              "fillmode": "overlay",
              "size": 10,
              "solidity": 0.2
             }
            },
            "type": "bar"
           }
          ],
          "barpolar": [
           {
            "marker": {
             "line": {
              "color": "#E5ECF6",
              "width": 0.5
             },
             "pattern": {
              "fillmode": "overlay",
              "size": 10,
              "solidity": 0.2
             }
            },
            "type": "barpolar"
           }
          ],
          "carpet": [
           {
            "aaxis": {
             "endlinecolor": "#2a3f5f",
             "gridcolor": "white",
             "linecolor": "white",
             "minorgridcolor": "white",
             "startlinecolor": "#2a3f5f"
            },
            "baxis": {
             "endlinecolor": "#2a3f5f",
             "gridcolor": "white",
             "linecolor": "white",
             "minorgridcolor": "white",
             "startlinecolor": "#2a3f5f"
            },
            "type": "carpet"
           }
          ],
          "choropleth": [
           {
            "colorbar": {
             "outlinewidth": 0,
             "ticks": ""
            },
            "type": "choropleth"
           }
          ],
          "contour": [
           {
            "colorbar": {
             "outlinewidth": 0,
             "ticks": ""
            },
            "colorscale": [
             [
              0,
              "#0d0887"
             ],
             [
              0.1111111111111111,
              "#46039f"
             ],
             [
              0.2222222222222222,
              "#7201a8"
             ],
             [
              0.3333333333333333,
              "#9c179e"
             ],
             [
              0.4444444444444444,
              "#bd3786"
             ],
             [
              0.5555555555555556,
              "#d8576b"
             ],
             [
              0.6666666666666666,
              "#ed7953"
             ],
             [
              0.7777777777777778,
              "#fb9f3a"
             ],
             [
              0.8888888888888888,
              "#fdca26"
             ],
             [
              1,
              "#f0f921"
             ]
            ],
            "type": "contour"
           }
          ],
          "contourcarpet": [
           {
            "colorbar": {
             "outlinewidth": 0,
             "ticks": ""
            },
            "type": "contourcarpet"
           }
          ],
          "heatmap": [
           {
            "colorbar": {
             "outlinewidth": 0,
             "ticks": ""
            },
            "colorscale": [
             [
              0,
              "#0d0887"
             ],
             [
              0.1111111111111111,
              "#46039f"
             ],
             [
              0.2222222222222222,
              "#7201a8"
             ],
             [
              0.3333333333333333,
              "#9c179e"
             ],
             [
              0.4444444444444444,
              "#bd3786"
             ],
             [
              0.5555555555555556,
              "#d8576b"
             ],
             [
              0.6666666666666666,
              "#ed7953"
             ],
             [
              0.7777777777777778,
              "#fb9f3a"
             ],
             [
              0.8888888888888888,
              "#fdca26"
             ],
             [
              1,
              "#f0f921"
             ]
            ],
            "type": "heatmap"
           }
          ],
          "heatmapgl": [
           {
            "colorbar": {
             "outlinewidth": 0,
             "ticks": ""
            },
            "colorscale": [
             [
              0,
              "#0d0887"
             ],
             [
              0.1111111111111111,
              "#46039f"
             ],
             [
              0.2222222222222222,
              "#7201a8"
             ],
             [
              0.3333333333333333,
              "#9c179e"
             ],
             [
              0.4444444444444444,
              "#bd3786"
             ],
             [
              0.5555555555555556,
              "#d8576b"
             ],
             [
              0.6666666666666666,
              "#ed7953"
             ],
             [
              0.7777777777777778,
              "#fb9f3a"
             ],
             [
              0.8888888888888888,
              "#fdca26"
             ],
             [
              1,
              "#f0f921"
             ]
            ],
            "type": "heatmapgl"
           }
          ],
          "histogram": [
           {
            "marker": {
             "pattern": {
              "fillmode": "overlay",
              "size": 10,
              "solidity": 0.2
             }
            },
            "type": "histogram"
           }
          ],
          "histogram2d": [
           {
            "colorbar": {
             "outlinewidth": 0,
             "ticks": ""
            },
            "colorscale": [
             [
              0,
              "#0d0887"
             ],
             [
              0.1111111111111111,
              "#46039f"
             ],
             [
              0.2222222222222222,
              "#7201a8"
             ],
             [
              0.3333333333333333,
              "#9c179e"
             ],
             [
              0.4444444444444444,
              "#bd3786"
             ],
             [
              0.5555555555555556,
              "#d8576b"
             ],
             [
              0.6666666666666666,
              "#ed7953"
             ],
             [
              0.7777777777777778,
              "#fb9f3a"
             ],
             [
              0.8888888888888888,
              "#fdca26"
             ],
             [
              1,
              "#f0f921"
             ]
            ],
            "type": "histogram2d"
           }
          ],
          "histogram2dcontour": [
           {
            "colorbar": {
             "outlinewidth": 0,
             "ticks": ""
            },
            "colorscale": [
             [
              0,
              "#0d0887"
             ],
             [
              0.1111111111111111,
              "#46039f"
             ],
             [
              0.2222222222222222,
              "#7201a8"
             ],
             [
              0.3333333333333333,
              "#9c179e"
             ],
             [
              0.4444444444444444,
              "#bd3786"
             ],
             [
              0.5555555555555556,
              "#d8576b"
             ],
             [
              0.6666666666666666,
              "#ed7953"
             ],
             [
              0.7777777777777778,
              "#fb9f3a"
             ],
             [
              0.8888888888888888,
              "#fdca26"
             ],
             [
              1,
              "#f0f921"
             ]
            ],
            "type": "histogram2dcontour"
           }
          ],
          "mesh3d": [
           {
            "colorbar": {
             "outlinewidth": 0,
             "ticks": ""
            },
            "type": "mesh3d"
           }
          ],
          "parcoords": [
           {
            "line": {
             "colorbar": {
              "outlinewidth": 0,
              "ticks": ""
             }
            },
            "type": "parcoords"
           }
          ],
          "pie": [
           {
            "automargin": true,
            "type": "pie"
           }
          ],
          "scatter": [
           {
            "fillpattern": {
             "fillmode": "overlay",
             "size": 10,
             "solidity": 0.2
            },
            "type": "scatter"
           }
          ],
          "scatter3d": [
           {
            "line": {
             "colorbar": {
              "outlinewidth": 0,
              "ticks": ""
             }
            },
            "marker": {
             "colorbar": {
              "outlinewidth": 0,
              "ticks": ""
             }
            },
            "type": "scatter3d"
           }
          ],
          "scattercarpet": [
           {
            "marker": {
             "colorbar": {
              "outlinewidth": 0,
              "ticks": ""
             }
            },
            "type": "scattercarpet"
           }
          ],
          "scattergeo": [
           {
            "marker": {
             "colorbar": {
              "outlinewidth": 0,
              "ticks": ""
             }
            },
            "type": "scattergeo"
           }
          ],
          "scattergl": [
           {
            "marker": {
             "colorbar": {
              "outlinewidth": 0,
              "ticks": ""
             }
            },
            "type": "scattergl"
           }
          ],
          "scattermapbox": [
           {
            "marker": {
             "colorbar": {
              "outlinewidth": 0,
              "ticks": ""
             }
            },
            "type": "scattermapbox"
           }
          ],
          "scatterpolar": [
           {
            "marker": {
             "colorbar": {
              "outlinewidth": 0,
              "ticks": ""
             }
            },
            "type": "scatterpolar"
           }
          ],
          "scatterpolargl": [
           {
            "marker": {
             "colorbar": {
              "outlinewidth": 0,
              "ticks": ""
             }
            },
            "type": "scatterpolargl"
           }
          ],
          "scatterternary": [
           {
            "marker": {
             "colorbar": {
              "outlinewidth": 0,
              "ticks": ""
             }
            },
            "type": "scatterternary"
           }
          ],
          "surface": [
           {
            "colorbar": {
             "outlinewidth": 0,
             "ticks": ""
            },
            "colorscale": [
             [
              0,
              "#0d0887"
             ],
             [
              0.1111111111111111,
              "#46039f"
             ],
             [
              0.2222222222222222,
              "#7201a8"
             ],
             [
              0.3333333333333333,
              "#9c179e"
             ],
             [
              0.4444444444444444,
              "#bd3786"
             ],
             [
              0.5555555555555556,
              "#d8576b"
             ],
             [
              0.6666666666666666,
              "#ed7953"
             ],
             [
              0.7777777777777778,
              "#fb9f3a"
             ],
             [
              0.8888888888888888,
              "#fdca26"
             ],
             [
              1,
              "#f0f921"
             ]
            ],
            "type": "surface"
           }
          ],
          "table": [
           {
            "cells": {
             "fill": {
              "color": "#EBF0F8"
             },
             "line": {
              "color": "white"
             }
            },
            "header": {
             "fill": {
              "color": "#C8D4E3"
             },
             "line": {
              "color": "white"
             }
            },
            "type": "table"
           }
          ]
         },
         "layout": {
          "annotationdefaults": {
           "arrowcolor": "#2a3f5f",
           "arrowhead": 0,
           "arrowwidth": 1
          },
          "autotypenumbers": "strict",
          "coloraxis": {
           "colorbar": {
            "outlinewidth": 0,
            "ticks": ""
           }
          },
          "colorscale": {
           "diverging": [
            [
             0,
             "#8e0152"
            ],
            [
             0.1,
             "#c51b7d"
            ],
            [
             0.2,
             "#de77ae"
            ],
            [
             0.3,
             "#f1b6da"
            ],
            [
             0.4,
             "#fde0ef"
            ],
            [
             0.5,
             "#f7f7f7"
            ],
            [
             0.6,
             "#e6f5d0"
            ],
            [
             0.7,
             "#b8e186"
            ],
            [
             0.8,
             "#7fbc41"
            ],
            [
             0.9,
             "#4d9221"
            ],
            [
             1,
             "#276419"
            ]
           ],
           "sequential": [
            [
             0,
             "#0d0887"
            ],
            [
             0.1111111111111111,
             "#46039f"
            ],
            [
             0.2222222222222222,
             "#7201a8"
            ],
            [
             0.3333333333333333,
             "#9c179e"
            ],
            [
             0.4444444444444444,
             "#bd3786"
            ],
            [
             0.5555555555555556,
             "#d8576b"
            ],
            [
             0.6666666666666666,
             "#ed7953"
            ],
            [
             0.7777777777777778,
             "#fb9f3a"
            ],
            [
             0.8888888888888888,
             "#fdca26"
            ],
            [
             1,
             "#f0f921"
            ]
           ],
           "sequentialminus": [
            [
             0,
             "#0d0887"
            ],
            [
             0.1111111111111111,
             "#46039f"
            ],
            [
             0.2222222222222222,
             "#7201a8"
            ],
            [
             0.3333333333333333,
             "#9c179e"
            ],
            [
             0.4444444444444444,
             "#bd3786"
            ],
            [
             0.5555555555555556,
             "#d8576b"
            ],
            [
             0.6666666666666666,
             "#ed7953"
            ],
            [
             0.7777777777777778,
             "#fb9f3a"
            ],
            [
             0.8888888888888888,
             "#fdca26"
            ],
            [
             1,
             "#f0f921"
            ]
           ]
          },
          "colorway": [
           "#636efa",
           "#EF553B",
           "#00cc96",
           "#ab63fa",
           "#FFA15A",
           "#19d3f3",
           "#FF6692",
           "#B6E880",
           "#FF97FF",
           "#FECB52"
          ],
          "font": {
           "color": "#2a3f5f"
          },
          "geo": {
           "bgcolor": "white",
           "lakecolor": "white",
           "landcolor": "#E5ECF6",
           "showlakes": true,
           "showland": true,
           "subunitcolor": "white"
          },
          "hoverlabel": {
           "align": "left"
          },
          "hovermode": "closest",
          "mapbox": {
           "style": "light"
          },
          "paper_bgcolor": "white",
          "plot_bgcolor": "#E5ECF6",
          "polar": {
           "angularaxis": {
            "gridcolor": "white",
            "linecolor": "white",
            "ticks": ""
           },
           "bgcolor": "#E5ECF6",
           "radialaxis": {
            "gridcolor": "white",
            "linecolor": "white",
            "ticks": ""
           }
          },
          "scene": {
           "xaxis": {
            "backgroundcolor": "#E5ECF6",
            "gridcolor": "white",
            "gridwidth": 2,
            "linecolor": "white",
            "showbackground": true,
            "ticks": "",
            "zerolinecolor": "white"
           },
           "yaxis": {
            "backgroundcolor": "#E5ECF6",
            "gridcolor": "white",
            "gridwidth": 2,
            "linecolor": "white",
            "showbackground": true,
            "ticks": "",
            "zerolinecolor": "white"
           },
           "zaxis": {
            "backgroundcolor": "#E5ECF6",
            "gridcolor": "white",
            "gridwidth": 2,
            "linecolor": "white",
            "showbackground": true,
            "ticks": "",
            "zerolinecolor": "white"
           }
          },
          "shapedefaults": {
           "line": {
            "color": "#2a3f5f"
           }
          },
          "ternary": {
           "aaxis": {
            "gridcolor": "white",
            "linecolor": "white",
            "ticks": ""
           },
           "baxis": {
            "gridcolor": "white",
            "linecolor": "white",
            "ticks": ""
           },
           "bgcolor": "#E5ECF6",
           "caxis": {
            "gridcolor": "white",
            "linecolor": "white",
            "ticks": ""
           }
          },
          "title": {
           "x": 0.05
          },
          "xaxis": {
           "automargin": true,
           "gridcolor": "white",
           "linecolor": "white",
           "ticks": "",
           "title": {
            "standoff": 15
           },
           "zerolinecolor": "white",
           "zerolinewidth": 2
          },
          "yaxis": {
           "automargin": true,
           "gridcolor": "white",
           "linecolor": "white",
           "ticks": "",
           "title": {
            "standoff": 15
           },
           "zerolinecolor": "white",
           "zerolinewidth": 2
          }
         }
        },
        "title": {
         "text": "Price distribution - Premium Products"
        },
        "xaxis": {
         "anchor": "y",
         "domain": [
          0,
          1
         ],
         "title": {
          "text": "Price"
         }
        },
        "yaxis": {
         "anchor": "x",
         "domain": [
          0,
          1
         ],
         "title": {
          "text": "count"
         }
        }
       }
      }
     },
     "metadata": {},
     "output_type": "display_data"
    },
    {
     "data": {
      "text/html": [
       "<div>\n",
       "<style scoped>\n",
       "    .dataframe tbody tr th:only-of-type {\n",
       "        vertical-align: middle;\n",
       "    }\n",
       "\n",
       "    .dataframe tbody tr th {\n",
       "        vertical-align: top;\n",
       "    }\n",
       "\n",
       "    .dataframe thead th {\n",
       "        text-align: right;\n",
       "    }\n",
       "</style>\n",
       "<table border=\"1\" class=\"dataframe\">\n",
       "  <thead>\n",
       "    <tr style=\"text-align: right;\">\n",
       "      <th></th>\n",
       "      <th>Price</th>\n",
       "    </tr>\n",
       "  </thead>\n",
       "  <tbody>\n",
       "    <tr>\n",
       "      <th>count</th>\n",
       "      <td>417.00</td>\n",
       "    </tr>\n",
       "    <tr>\n",
       "      <th>mean</th>\n",
       "      <td>599.59</td>\n",
       "    </tr>\n",
       "    <tr>\n",
       "      <th>std</th>\n",
       "      <td>103.83</td>\n",
       "    </tr>\n",
       "    <tr>\n",
       "      <th>min</th>\n",
       "      <td>450.00</td>\n",
       "    </tr>\n",
       "    <tr>\n",
       "      <th>25%</th>\n",
       "      <td>507.00</td>\n",
       "    </tr>\n",
       "    <tr>\n",
       "      <th>50%</th>\n",
       "      <td>580.00</td>\n",
       "    </tr>\n",
       "    <tr>\n",
       "      <th>75%</th>\n",
       "      <td>680.00</td>\n",
       "    </tr>\n",
       "    <tr>\n",
       "      <th>max</th>\n",
       "      <td>831.00</td>\n",
       "    </tr>\n",
       "  </tbody>\n",
       "</table>\n",
       "</div>"
      ],
      "text/plain": [
       "        Price\n",
       "count  417.00\n",
       "mean   599.59\n",
       "std    103.83\n",
       "min    450.00\n",
       "25%    507.00\n",
       "50%    580.00\n",
       "75%    680.00\n",
       "max    831.00"
      ]
     },
     "metadata": {},
     "output_type": "display_data"
    },
    {
     "data": {
      "application/vnd.plotly.v1+json": {
       "config": {
        "plotlyServerURL": "https://plot.ly"
       },
       "data": [
        {
         "alignmentgroup": "True",
         "bingroup": "x",
         "hovertemplate": "Price=%{x}<br>count=%{y}<extra></extra>",
         "legendgroup": "",
         "marker": {
          "color": "#636efa",
          "pattern": {
           "shape": ""
          }
         },
         "name": "",
         "nbinsx": 15,
         "offsetgroup": "",
         "orientation": "v",
         "showlegend": false,
         "texttemplate": "%{value}",
         "type": "histogram",
         "x": [
          358,
          330,
          299,
          299,
          298,
          298,
          425,
          299,
          366,
          428,
          395,
          284,
          330,
          407,
          298,
          299,
          299,
          380,
          270,
          399,
          445,
          299,
          399,
          410,
          358,
          429,
          285,
          291,
          433,
          299,
          433,
          350,
          399,
          380,
          299,
          449,
          299,
          299,
          359,
          326,
          270,
          298,
          437,
          389,
          399,
          298,
          419,
          290,
          433,
          359,
          299,
          316,
          349,
          419,
          359,
          259,
          379,
          410,
          369,
          299,
          429,
          449,
          399,
          299,
          298,
          399,
          369,
          440,
          299,
          449,
          399,
          399,
          340,
          299,
          299,
          299,
          438,
          445,
          433,
          298,
          299,
          304,
          299,
          280,
          259,
          299,
          399,
          299,
          261,
          437,
          335,
          261,
          279,
          399,
          433,
          299,
          319,
          354,
          449,
          399,
          297,
          349,
          395,
          270,
          290,
          320,
          399,
          433,
          279,
          313,
          354,
          438,
          433,
          297,
          428,
          299,
          399,
          298,
          399,
          285,
          338,
          389,
          417,
          299,
          350,
          259,
          310,
          249,
          314,
          433,
          270,
          249,
          345,
          249,
          298,
          297,
          381,
          398,
          355,
          410,
          259,
          298,
          350,
          260,
          277,
          257,
          274,
          405,
          249,
          399,
          410,
          417,
          299,
          259,
          299,
          329,
          298,
          380,
          449,
          419,
          399,
          280,
          399,
          320,
          393,
          350,
          430,
          299,
          359,
          411,
          415,
          399,
          249,
          289,
          250,
          411,
          280,
          299,
          298,
          298,
          319,
          298,
          299,
          259,
          446,
          399,
          338,
          249,
          297,
          399,
          297,
          326,
          399,
          400,
          369,
          250,
          270,
          369,
          389,
          299,
          299,
          399,
          449,
          298,
          285,
          354,
          299,
          299,
          289,
          395,
          249,
          349,
          399,
          399,
          299,
          445,
          386,
          298,
          298,
          376,
          280,
          280,
          249,
          249,
          329,
          298,
          349,
          319,
          419,
          304,
          329,
          299,
          299,
          249,
          365,
          369,
          389,
          299,
          317,
          297,
          250,
          312,
          330,
          339,
          399,
          379,
          419,
          290,
          410,
          399,
          289,
          429,
          298,
          270,
          395,
          399,
          449,
          251,
          249,
          449,
          449,
          359,
          298,
          298,
          249,
          299,
          419,
          320,
          250,
          370,
          369,
          298,
          415,
          389,
          298,
          349,
          350,
          300,
          298,
          270,
          411,
          268,
          439,
          389,
          249,
          422,
          299,
          369,
          423,
          380,
          411,
          379,
          260,
          440,
          305,
          269,
          350,
          290,
          390,
          370,
          299,
          258,
          330,
          282,
          280,
          309,
          269,
          250,
          324,
          317,
          380,
          311,
          422,
          284,
          407,
          299,
          295,
          286,
          335,
          269,
          279,
          290,
          290,
          277,
          350,
          330,
          370,
          407,
          352,
          419,
          419,
          390,
          399,
          369,
          290,
          290,
          290,
          352,
          308,
          420,
          299,
          350,
          250,
          350,
          400,
          250,
          350,
          400,
          280,
          362,
          300,
          259,
          280,
          249,
          299,
          285,
          342,
          398,
          377,
          307,
          449,
          400,
          299,
          319,
          433,
          304,
          299,
          304,
          415,
          399,
          399,
          297,
          329,
          289,
          308,
          299,
          324,
          305,
          260,
          299,
          285,
          271,
          249,
          251,
          283,
          254,
          256,
          268,
          279,
          270,
          253,
          313,
          315,
          252,
          301,
          255,
          267,
          262,
          257,
          263,
          261,
          281,
          299,
          259,
          311,
          264,
          273,
          258,
          265,
          248,
          250,
          277,
          275,
          266,
          303,
          250,
          378,
          255,
          255
         ],
         "xaxis": "x",
         "yaxis": "y"
        }
       ],
       "layout": {
        "barmode": "relative",
        "legend": {
         "tracegroupgap": 0
        },
        "template": {
         "data": {
          "bar": [
           {
            "error_x": {
             "color": "#2a3f5f"
            },
            "error_y": {
             "color": "#2a3f5f"
            },
            "marker": {
             "line": {
              "color": "#E5ECF6",
              "width": 0.5
             },
             "pattern": {
              "fillmode": "overlay",
              "size": 10,
              "solidity": 0.2
             }
            },
            "type": "bar"
           }
          ],
          "barpolar": [
           {
            "marker": {
             "line": {
              "color": "#E5ECF6",
              "width": 0.5
             },
             "pattern": {
              "fillmode": "overlay",
              "size": 10,
              "solidity": 0.2
             }
            },
            "type": "barpolar"
           }
          ],
          "carpet": [
           {
            "aaxis": {
             "endlinecolor": "#2a3f5f",
             "gridcolor": "white",
             "linecolor": "white",
             "minorgridcolor": "white",
             "startlinecolor": "#2a3f5f"
            },
            "baxis": {
             "endlinecolor": "#2a3f5f",
             "gridcolor": "white",
             "linecolor": "white",
             "minorgridcolor": "white",
             "startlinecolor": "#2a3f5f"
            },
            "type": "carpet"
           }
          ],
          "choropleth": [
           {
            "colorbar": {
             "outlinewidth": 0,
             "ticks": ""
            },
            "type": "choropleth"
           }
          ],
          "contour": [
           {
            "colorbar": {
             "outlinewidth": 0,
             "ticks": ""
            },
            "colorscale": [
             [
              0,
              "#0d0887"
             ],
             [
              0.1111111111111111,
              "#46039f"
             ],
             [
              0.2222222222222222,
              "#7201a8"
             ],
             [
              0.3333333333333333,
              "#9c179e"
             ],
             [
              0.4444444444444444,
              "#bd3786"
             ],
             [
              0.5555555555555556,
              "#d8576b"
             ],
             [
              0.6666666666666666,
              "#ed7953"
             ],
             [
              0.7777777777777778,
              "#fb9f3a"
             ],
             [
              0.8888888888888888,
              "#fdca26"
             ],
             [
              1,
              "#f0f921"
             ]
            ],
            "type": "contour"
           }
          ],
          "contourcarpet": [
           {
            "colorbar": {
             "outlinewidth": 0,
             "ticks": ""
            },
            "type": "contourcarpet"
           }
          ],
          "heatmap": [
           {
            "colorbar": {
             "outlinewidth": 0,
             "ticks": ""
            },
            "colorscale": [
             [
              0,
              "#0d0887"
             ],
             [
              0.1111111111111111,
              "#46039f"
             ],
             [
              0.2222222222222222,
              "#7201a8"
             ],
             [
              0.3333333333333333,
              "#9c179e"
             ],
             [
              0.4444444444444444,
              "#bd3786"
             ],
             [
              0.5555555555555556,
              "#d8576b"
             ],
             [
              0.6666666666666666,
              "#ed7953"
             ],
             [
              0.7777777777777778,
              "#fb9f3a"
             ],
             [
              0.8888888888888888,
              "#fdca26"
             ],
             [
              1,
              "#f0f921"
             ]
            ],
            "type": "heatmap"
           }
          ],
          "heatmapgl": [
           {
            "colorbar": {
             "outlinewidth": 0,
             "ticks": ""
            },
            "colorscale": [
             [
              0,
              "#0d0887"
             ],
             [
              0.1111111111111111,
              "#46039f"
             ],
             [
              0.2222222222222222,
              "#7201a8"
             ],
             [
              0.3333333333333333,
              "#9c179e"
             ],
             [
              0.4444444444444444,
              "#bd3786"
             ],
             [
              0.5555555555555556,
              "#d8576b"
             ],
             [
              0.6666666666666666,
              "#ed7953"
             ],
             [
              0.7777777777777778,
              "#fb9f3a"
             ],
             [
              0.8888888888888888,
              "#fdca26"
             ],
             [
              1,
              "#f0f921"
             ]
            ],
            "type": "heatmapgl"
           }
          ],
          "histogram": [
           {
            "marker": {
             "pattern": {
              "fillmode": "overlay",
              "size": 10,
              "solidity": 0.2
             }
            },
            "type": "histogram"
           }
          ],
          "histogram2d": [
           {
            "colorbar": {
             "outlinewidth": 0,
             "ticks": ""
            },
            "colorscale": [
             [
              0,
              "#0d0887"
             ],
             [
              0.1111111111111111,
              "#46039f"
             ],
             [
              0.2222222222222222,
              "#7201a8"
             ],
             [
              0.3333333333333333,
              "#9c179e"
             ],
             [
              0.4444444444444444,
              "#bd3786"
             ],
             [
              0.5555555555555556,
              "#d8576b"
             ],
             [
              0.6666666666666666,
              "#ed7953"
             ],
             [
              0.7777777777777778,
              "#fb9f3a"
             ],
             [
              0.8888888888888888,
              "#fdca26"
             ],
             [
              1,
              "#f0f921"
             ]
            ],
            "type": "histogram2d"
           }
          ],
          "histogram2dcontour": [
           {
            "colorbar": {
             "outlinewidth": 0,
             "ticks": ""
            },
            "colorscale": [
             [
              0,
              "#0d0887"
             ],
             [
              0.1111111111111111,
              "#46039f"
             ],
             [
              0.2222222222222222,
              "#7201a8"
             ],
             [
              0.3333333333333333,
              "#9c179e"
             ],
             [
              0.4444444444444444,
              "#bd3786"
             ],
             [
              0.5555555555555556,
              "#d8576b"
             ],
             [
              0.6666666666666666,
              "#ed7953"
             ],
             [
              0.7777777777777778,
              "#fb9f3a"
             ],
             [
              0.8888888888888888,
              "#fdca26"
             ],
             [
              1,
              "#f0f921"
             ]
            ],
            "type": "histogram2dcontour"
           }
          ],
          "mesh3d": [
           {
            "colorbar": {
             "outlinewidth": 0,
             "ticks": ""
            },
            "type": "mesh3d"
           }
          ],
          "parcoords": [
           {
            "line": {
             "colorbar": {
              "outlinewidth": 0,
              "ticks": ""
             }
            },
            "type": "parcoords"
           }
          ],
          "pie": [
           {
            "automargin": true,
            "type": "pie"
           }
          ],
          "scatter": [
           {
            "fillpattern": {
             "fillmode": "overlay",
             "size": 10,
             "solidity": 0.2
            },
            "type": "scatter"
           }
          ],
          "scatter3d": [
           {
            "line": {
             "colorbar": {
              "outlinewidth": 0,
              "ticks": ""
             }
            },
            "marker": {
             "colorbar": {
              "outlinewidth": 0,
              "ticks": ""
             }
            },
            "type": "scatter3d"
           }
          ],
          "scattercarpet": [
           {
            "marker": {
             "colorbar": {
              "outlinewidth": 0,
              "ticks": ""
             }
            },
            "type": "scattercarpet"
           }
          ],
          "scattergeo": [
           {
            "marker": {
             "colorbar": {
              "outlinewidth": 0,
              "ticks": ""
             }
            },
            "type": "scattergeo"
           }
          ],
          "scattergl": [
           {
            "marker": {
             "colorbar": {
              "outlinewidth": 0,
              "ticks": ""
             }
            },
            "type": "scattergl"
           }
          ],
          "scattermapbox": [
           {
            "marker": {
             "colorbar": {
              "outlinewidth": 0,
              "ticks": ""
             }
            },
            "type": "scattermapbox"
           }
          ],
          "scatterpolar": [
           {
            "marker": {
             "colorbar": {
              "outlinewidth": 0,
              "ticks": ""
             }
            },
            "type": "scatterpolar"
           }
          ],
          "scatterpolargl": [
           {
            "marker": {
             "colorbar": {
              "outlinewidth": 0,
              "ticks": ""
             }
            },
            "type": "scatterpolargl"
           }
          ],
          "scatterternary": [
           {
            "marker": {
             "colorbar": {
              "outlinewidth": 0,
              "ticks": ""
             }
            },
            "type": "scatterternary"
           }
          ],
          "surface": [
           {
            "colorbar": {
             "outlinewidth": 0,
             "ticks": ""
            },
            "colorscale": [
             [
              0,
              "#0d0887"
             ],
             [
              0.1111111111111111,
              "#46039f"
             ],
             [
              0.2222222222222222,
              "#7201a8"
             ],
             [
              0.3333333333333333,
              "#9c179e"
             ],
             [
              0.4444444444444444,
              "#bd3786"
             ],
             [
              0.5555555555555556,
              "#d8576b"
             ],
             [
              0.6666666666666666,
              "#ed7953"
             ],
             [
              0.7777777777777778,
              "#fb9f3a"
             ],
             [
              0.8888888888888888,
              "#fdca26"
             ],
             [
              1,
              "#f0f921"
             ]
            ],
            "type": "surface"
           }
          ],
          "table": [
           {
            "cells": {
             "fill": {
              "color": "#EBF0F8"
             },
             "line": {
              "color": "white"
             }
            },
            "header": {
             "fill": {
              "color": "#C8D4E3"
             },
             "line": {
              "color": "white"
             }
            },
            "type": "table"
           }
          ]
         },
         "layout": {
          "annotationdefaults": {
           "arrowcolor": "#2a3f5f",
           "arrowhead": 0,
           "arrowwidth": 1
          },
          "autotypenumbers": "strict",
          "coloraxis": {
           "colorbar": {
            "outlinewidth": 0,
            "ticks": ""
           }
          },
          "colorscale": {
           "diverging": [
            [
             0,
             "#8e0152"
            ],
            [
             0.1,
             "#c51b7d"
            ],
            [
             0.2,
             "#de77ae"
            ],
            [
             0.3,
             "#f1b6da"
            ],
            [
             0.4,
             "#fde0ef"
            ],
            [
             0.5,
             "#f7f7f7"
            ],
            [
             0.6,
             "#e6f5d0"
            ],
            [
             0.7,
             "#b8e186"
            ],
            [
             0.8,
             "#7fbc41"
            ],
            [
             0.9,
             "#4d9221"
            ],
            [
             1,
             "#276419"
            ]
           ],
           "sequential": [
            [
             0,
             "#0d0887"
            ],
            [
             0.1111111111111111,
             "#46039f"
            ],
            [
             0.2222222222222222,
             "#7201a8"
            ],
            [
             0.3333333333333333,
             "#9c179e"
            ],
            [
             0.4444444444444444,
             "#bd3786"
            ],
            [
             0.5555555555555556,
             "#d8576b"
            ],
            [
             0.6666666666666666,
             "#ed7953"
            ],
            [
             0.7777777777777778,
             "#fb9f3a"
            ],
            [
             0.8888888888888888,
             "#fdca26"
            ],
            [
             1,
             "#f0f921"
            ]
           ],
           "sequentialminus": [
            [
             0,
             "#0d0887"
            ],
            [
             0.1111111111111111,
             "#46039f"
            ],
            [
             0.2222222222222222,
             "#7201a8"
            ],
            [
             0.3333333333333333,
             "#9c179e"
            ],
            [
             0.4444444444444444,
             "#bd3786"
            ],
            [
             0.5555555555555556,
             "#d8576b"
            ],
            [
             0.6666666666666666,
             "#ed7953"
            ],
            [
             0.7777777777777778,
             "#fb9f3a"
            ],
            [
             0.8888888888888888,
             "#fdca26"
            ],
            [
             1,
             "#f0f921"
            ]
           ]
          },
          "colorway": [
           "#636efa",
           "#EF553B",
           "#00cc96",
           "#ab63fa",
           "#FFA15A",
           "#19d3f3",
           "#FF6692",
           "#B6E880",
           "#FF97FF",
           "#FECB52"
          ],
          "font": {
           "color": "#2a3f5f"
          },
          "geo": {
           "bgcolor": "white",
           "lakecolor": "white",
           "landcolor": "#E5ECF6",
           "showlakes": true,
           "showland": true,
           "subunitcolor": "white"
          },
          "hoverlabel": {
           "align": "left"
          },
          "hovermode": "closest",
          "mapbox": {
           "style": "light"
          },
          "paper_bgcolor": "white",
          "plot_bgcolor": "#E5ECF6",
          "polar": {
           "angularaxis": {
            "gridcolor": "white",
            "linecolor": "white",
            "ticks": ""
           },
           "bgcolor": "#E5ECF6",
           "radialaxis": {
            "gridcolor": "white",
            "linecolor": "white",
            "ticks": ""
           }
          },
          "scene": {
           "xaxis": {
            "backgroundcolor": "#E5ECF6",
            "gridcolor": "white",
            "gridwidth": 2,
            "linecolor": "white",
            "showbackground": true,
            "ticks": "",
            "zerolinecolor": "white"
           },
           "yaxis": {
            "backgroundcolor": "#E5ECF6",
            "gridcolor": "white",
            "gridwidth": 2,
            "linecolor": "white",
            "showbackground": true,
            "ticks": "",
            "zerolinecolor": "white"
           },
           "zaxis": {
            "backgroundcolor": "#E5ECF6",
            "gridcolor": "white",
            "gridwidth": 2,
            "linecolor": "white",
            "showbackground": true,
            "ticks": "",
            "zerolinecolor": "white"
           }
          },
          "shapedefaults": {
           "line": {
            "color": "#2a3f5f"
           }
          },
          "ternary": {
           "aaxis": {
            "gridcolor": "white",
            "linecolor": "white",
            "ticks": ""
           },
           "baxis": {
            "gridcolor": "white",
            "linecolor": "white",
            "ticks": ""
           },
           "bgcolor": "#E5ECF6",
           "caxis": {
            "gridcolor": "white",
            "linecolor": "white",
            "ticks": ""
           }
          },
          "title": {
           "x": 0.05
          },
          "xaxis": {
           "automargin": true,
           "gridcolor": "white",
           "linecolor": "white",
           "ticks": "",
           "title": {
            "standoff": 15
           },
           "zerolinecolor": "white",
           "zerolinewidth": 2
          },
          "yaxis": {
           "automargin": true,
           "gridcolor": "white",
           "linecolor": "white",
           "ticks": "",
           "title": {
            "standoff": 15
           },
           "zerolinecolor": "white",
           "zerolinewidth": 2
          }
         }
        },
        "title": {
         "text": "Price distribution - Mid Products"
        },
        "xaxis": {
         "anchor": "y",
         "domain": [
          0,
          1
         ],
         "title": {
          "text": "Price"
         }
        },
        "yaxis": {
         "anchor": "x",
         "domain": [
          0,
          1
         ],
         "title": {
          "text": "count"
         }
        }
       }
      }
     },
     "metadata": {},
     "output_type": "display_data"
    },
    {
     "data": {
      "text/html": [
       "<div>\n",
       "<style scoped>\n",
       "    .dataframe tbody tr th:only-of-type {\n",
       "        vertical-align: middle;\n",
       "    }\n",
       "\n",
       "    .dataframe tbody tr th {\n",
       "        vertical-align: top;\n",
       "    }\n",
       "\n",
       "    .dataframe thead th {\n",
       "        text-align: right;\n",
       "    }\n",
       "</style>\n",
       "<table border=\"1\" class=\"dataframe\">\n",
       "  <thead>\n",
       "    <tr style=\"text-align: right;\">\n",
       "      <th></th>\n",
       "      <th>Price</th>\n",
       "    </tr>\n",
       "  </thead>\n",
       "  <tbody>\n",
       "    <tr>\n",
       "      <th>count</th>\n",
       "      <td>419.00</td>\n",
       "    </tr>\n",
       "    <tr>\n",
       "      <th>mean</th>\n",
       "      <td>333.24</td>\n",
       "    </tr>\n",
       "    <tr>\n",
       "      <th>std</th>\n",
       "      <td>60.09</td>\n",
       "    </tr>\n",
       "    <tr>\n",
       "      <th>min</th>\n",
       "      <td>248.00</td>\n",
       "    </tr>\n",
       "    <tr>\n",
       "      <th>25%</th>\n",
       "      <td>289.50</td>\n",
       "    </tr>\n",
       "    <tr>\n",
       "      <th>50%</th>\n",
       "      <td>310.00</td>\n",
       "    </tr>\n",
       "    <tr>\n",
       "      <th>75%</th>\n",
       "      <td>395.00</td>\n",
       "    </tr>\n",
       "    <tr>\n",
       "      <th>max</th>\n",
       "      <td>449.00</td>\n",
       "    </tr>\n",
       "  </tbody>\n",
       "</table>\n",
       "</div>"
      ],
      "text/plain": [
       "        Price\n",
       "count  419.00\n",
       "mean   333.24\n",
       "std     60.09\n",
       "min    248.00\n",
       "25%    289.50\n",
       "50%    310.00\n",
       "75%    395.00\n",
       "max    449.00"
      ]
     },
     "metadata": {},
     "output_type": "display_data"
    }
   ],
   "source": [
    "display(px.histogram(df, x='Price', title=f'Price distribution'))\n",
    "display(px.histogram(df_75, x='Price', title=f'Price distribution - Prime Products', nbins=10, text_auto=True))\n",
    "display(df_75.describe().round(2))\n",
    "display(px.histogram(df_50_75, x='Price', title=f'Price distribution - Premium Products', nbins=15, text_auto=True))\n",
    "display(df_50_75.describe().round(2))\n",
    "display(px.histogram(df_25_50, x='Price', title=f'Price distribution - Mid Products', nbins=15, text_auto=True))\n",
    "display(df_25_50.describe().round(2))"
   ]
  },
  {
   "cell_type": "code",
   "execution_count": 316,
   "metadata": {},
   "outputs": [
    {
     "data": {
      "text/html": [
       "<div>\n",
       "<style scoped>\n",
       "    .dataframe tbody tr th:only-of-type {\n",
       "        vertical-align: middle;\n",
       "    }\n",
       "\n",
       "    .dataframe tbody tr th {\n",
       "        vertical-align: top;\n",
       "    }\n",
       "\n",
       "    .dataframe thead th {\n",
       "        text-align: right;\n",
       "    }\n",
       "</style>\n",
       "<table border=\"1\" class=\"dataframe\">\n",
       "  <thead>\n",
       "    <tr style=\"text-align: right;\">\n",
       "      <th></th>\n",
       "      <th>Brand</th>\n",
       "      <th>Results</th>\n",
       "    </tr>\n",
       "  </thead>\n",
       "  <tbody>\n",
       "    <tr>\n",
       "      <th>0</th>\n",
       "      <td>CELESTY</td>\n",
       "      <td>131</td>\n",
       "    </tr>\n",
       "    <tr>\n",
       "      <th>1</th>\n",
       "      <td>-</td>\n",
       "      <td>111</td>\n",
       "    </tr>\n",
       "    <tr>\n",
       "      <th>2</th>\n",
       "      <td>FRANCIS</td>\n",
       "      <td>98</td>\n",
       "    </tr>\n",
       "    <tr>\n",
       "      <th>3</th>\n",
       "      <td>PRODUCTOS MART MEXICO</td>\n",
       "      <td>7</td>\n",
       "    </tr>\n",
       "    <tr>\n",
       "      <th>4</th>\n",
       "      <td>NEUTROGENA</td>\n",
       "      <td>6</td>\n",
       "    </tr>\n",
       "    <tr>\n",
       "      <th>5</th>\n",
       "      <td>PALMOLIVE</td>\n",
       "      <td>6</td>\n",
       "    </tr>\n",
       "    <tr>\n",
       "      <th>6</th>\n",
       "      <td>NIZORAL</td>\n",
       "      <td>5</td>\n",
       "    </tr>\n",
       "    <tr>\n",
       "      <th>7</th>\n",
       "      <td>JUSSE</td>\n",
       "      <td>5</td>\n",
       "    </tr>\n",
       "    <tr>\n",
       "      <th>8</th>\n",
       "      <td>HEAD &amp; SHOULDERS</td>\n",
       "      <td>5</td>\n",
       "    </tr>\n",
       "    <tr>\n",
       "      <th>9</th>\n",
       "      <td>TRUSS</td>\n",
       "      <td>4</td>\n",
       "    </tr>\n",
       "  </tbody>\n",
       "</table>\n",
       "</div>"
      ],
      "text/plain": [
       "                   Brand  Results\n",
       "0                CELESTY      131\n",
       "1                      -      111\n",
       "2                FRANCIS       98\n",
       "3  PRODUCTOS MART MEXICO        7\n",
       "4             NEUTROGENA        6\n",
       "5              PALMOLIVE        6\n",
       "6                NIZORAL        5\n",
       "7                  JUSSE        5\n",
       "8       HEAD & SHOULDERS        5\n",
       "9                  TRUSS        4"
      ]
     },
     "metadata": {},
     "output_type": "display_data"
    },
    {
     "data": {
      "text/html": [
       "<div>\n",
       "<style scoped>\n",
       "    .dataframe tbody tr th:only-of-type {\n",
       "        vertical-align: middle;\n",
       "    }\n",
       "\n",
       "    .dataframe tbody tr th {\n",
       "        vertical-align: top;\n",
       "    }\n",
       "\n",
       "    .dataframe thead th {\n",
       "        text-align: right;\n",
       "    }\n",
       "</style>\n",
       "<table border=\"1\" class=\"dataframe\">\n",
       "  <thead>\n",
       "    <tr style=\"text-align: right;\">\n",
       "      <th></th>\n",
       "      <th>Brand</th>\n",
       "      <th>Results</th>\n",
       "    </tr>\n",
       "  </thead>\n",
       "  <tbody>\n",
       "    <tr>\n",
       "      <th>0</th>\n",
       "      <td>-</td>\n",
       "      <td>122</td>\n",
       "    </tr>\n",
       "    <tr>\n",
       "      <th>1</th>\n",
       "      <td>FRANCIS</td>\n",
       "      <td>82</td>\n",
       "    </tr>\n",
       "    <tr>\n",
       "      <th>2</th>\n",
       "      <td>CELESTY</td>\n",
       "      <td>25</td>\n",
       "    </tr>\n",
       "    <tr>\n",
       "      <th>3</th>\n",
       "      <td>DUCRAY</td>\n",
       "      <td>16</td>\n",
       "    </tr>\n",
       "    <tr>\n",
       "      <th>4</th>\n",
       "      <td>LA ROCHE-POSAY</td>\n",
       "      <td>13</td>\n",
       "    </tr>\n",
       "    <tr>\n",
       "      <th>5</th>\n",
       "      <td>MEDIHEALTH</td>\n",
       "      <td>10</td>\n",
       "    </tr>\n",
       "    <tr>\n",
       "      <th>6</th>\n",
       "      <td>NEUTROGENA</td>\n",
       "      <td>8</td>\n",
       "    </tr>\n",
       "    <tr>\n",
       "      <th>7</th>\n",
       "      <td>NBC</td>\n",
       "      <td>8</td>\n",
       "    </tr>\n",
       "    <tr>\n",
       "      <th>8</th>\n",
       "      <td>VICHY</td>\n",
       "      <td>7</td>\n",
       "    </tr>\n",
       "    <tr>\n",
       "      <th>9</th>\n",
       "      <td>NIZORAL</td>\n",
       "      <td>7</td>\n",
       "    </tr>\n",
       "  </tbody>\n",
       "</table>\n",
       "</div>"
      ],
      "text/plain": [
       "            Brand  Results\n",
       "0               -      122\n",
       "1         FRANCIS       82\n",
       "2         CELESTY       25\n",
       "3          DUCRAY       16\n",
       "4  LA ROCHE-POSAY       13\n",
       "5      MEDIHEALTH       10\n",
       "6      NEUTROGENA        8\n",
       "7             NBC        8\n",
       "8           VICHY        7\n",
       "9         NIZORAL        7"
      ]
     },
     "metadata": {},
     "output_type": "display_data"
    },
    {
     "data": {
      "text/html": [
       "<div>\n",
       "<style scoped>\n",
       "    .dataframe tbody tr th:only-of-type {\n",
       "        vertical-align: middle;\n",
       "    }\n",
       "\n",
       "    .dataframe tbody tr th {\n",
       "        vertical-align: top;\n",
       "    }\n",
       "\n",
       "    .dataframe thead th {\n",
       "        text-align: right;\n",
       "    }\n",
       "</style>\n",
       "<table border=\"1\" class=\"dataframe\">\n",
       "  <thead>\n",
       "    <tr style=\"text-align: right;\">\n",
       "      <th></th>\n",
       "      <th>Brand</th>\n",
       "      <th>Results</th>\n",
       "    </tr>\n",
       "  </thead>\n",
       "  <tbody>\n",
       "    <tr>\n",
       "      <th>0</th>\n",
       "      <td>-</td>\n",
       "      <td>161</td>\n",
       "    </tr>\n",
       "    <tr>\n",
       "      <th>1</th>\n",
       "      <td>FRANCIS</td>\n",
       "      <td>39</td>\n",
       "    </tr>\n",
       "    <tr>\n",
       "      <th>2</th>\n",
       "      <td>CELESTY</td>\n",
       "      <td>21</td>\n",
       "    </tr>\n",
       "    <tr>\n",
       "      <th>3</th>\n",
       "      <td>NBC</td>\n",
       "      <td>17</td>\n",
       "    </tr>\n",
       "    <tr>\n",
       "      <th>4</th>\n",
       "      <td>HEAD &amp; SHOULDERS</td>\n",
       "      <td>12</td>\n",
       "    </tr>\n",
       "    <tr>\n",
       "      <th>5</th>\n",
       "      <td>SALERM</td>\n",
       "      <td>10</td>\n",
       "    </tr>\n",
       "    <tr>\n",
       "      <th>6</th>\n",
       "      <td>JOSS FERVIER</td>\n",
       "      <td>8</td>\n",
       "    </tr>\n",
       "    <tr>\n",
       "      <th>7</th>\n",
       "      <td>DUCRAY</td>\n",
       "      <td>8</td>\n",
       "    </tr>\n",
       "    <tr>\n",
       "      <th>8</th>\n",
       "      <td>SELSUN BLUE</td>\n",
       "      <td>8</td>\n",
       "    </tr>\n",
       "    <tr>\n",
       "      <th>9</th>\n",
       "      <td>SHELÓ NABEL</td>\n",
       "      <td>7</td>\n",
       "    </tr>\n",
       "  </tbody>\n",
       "</table>\n",
       "</div>"
      ],
      "text/plain": [
       "              Brand  Results\n",
       "0                 -      161\n",
       "1           FRANCIS       39\n",
       "2           CELESTY       21\n",
       "3               NBC       17\n",
       "4  HEAD & SHOULDERS       12\n",
       "5            SALERM       10\n",
       "6      JOSS FERVIER        8\n",
       "7            DUCRAY        8\n",
       "8       SELSUN BLUE        8\n",
       "9       SHELÓ NABEL        7"
      ]
     },
     "metadata": {},
     "output_type": "display_data"
    },
    {
     "data": {
      "text/plain": [
       "\"for i in df_25_50.Brand.value_counts().to_frame().reset_index().rename(columns={'index':'Brand','Brand':'Results'}).head(10).Brand.tolist():\\n    print(i)\""
      ]
     },
     "execution_count": 316,
     "metadata": {},
     "output_type": "execute_result"
    }
   ],
   "source": [
    "#Prime brands\n",
    "display(df_75.Brand.value_counts().to_frame().reset_index().rename(columns={'index':'Brand','Brand':'Results'}).head(10))\n",
    "'''for i in df_75.Brand.value_counts().to_frame().reset_index().rename(columns={'index':'Brand','Brand':'Results'}).head(10).Brand.tolist():\n",
    "    print(i)'''\n",
    "\n",
    "#Premium brands\n",
    "display(df_50_75.Brand.value_counts().to_frame().reset_index().rename(columns={'index':'Brand','Brand':'Results'}).head(10))\n",
    "'''for i in df_50_75.Brand.value_counts().to_frame().reset_index().rename(columns={'index':'Brand','Brand':'Results'}).head(10).Brand.tolist():\n",
    "    print(i)'''\n",
    "\n",
    "#Mid brands\n",
    "display(df_25_50.Brand.value_counts().to_frame().reset_index().rename(columns={'index':'Brand','Brand':'Results'}).head(10))\n",
    "'''for i in df_25_50.Brand.value_counts().to_frame().reset_index().rename(columns={'index':'Brand','Brand':'Results'}).head(10).Brand.tolist():\n",
    "    print(i)'''"
   ]
  },
  {
   "cell_type": "code",
   "execution_count": 315,
   "metadata": {},
   "outputs": [
    {
     "data": {
      "text/html": [
       "<div>\n",
       "<style scoped>\n",
       "    .dataframe tbody tr th:only-of-type {\n",
       "        vertical-align: middle;\n",
       "    }\n",
       "\n",
       "    .dataframe tbody tr th {\n",
       "        vertical-align: top;\n",
       "    }\n",
       "\n",
       "    .dataframe thead th {\n",
       "        text-align: right;\n",
       "    }\n",
       "</style>\n",
       "<table border=\"1\" class=\"dataframe\">\n",
       "  <thead>\n",
       "    <tr style=\"text-align: right;\">\n",
       "      <th></th>\n",
       "      <th>Brand</th>\n",
       "      <th>Results</th>\n",
       "      <th>Proc</th>\n",
       "    </tr>\n",
       "  </thead>\n",
       "  <tbody>\n",
       "    <tr>\n",
       "      <th>0</th>\n",
       "      <td>-</td>\n",
       "      <td>161</td>\n",
       "      <td>55.33</td>\n",
       "    </tr>\n",
       "    <tr>\n",
       "      <th>1</th>\n",
       "      <td>FRANCIS</td>\n",
       "      <td>39</td>\n",
       "      <td>13.40</td>\n",
       "    </tr>\n",
       "    <tr>\n",
       "      <th>2</th>\n",
       "      <td>CELESTY</td>\n",
       "      <td>21</td>\n",
       "      <td>7.22</td>\n",
       "    </tr>\n",
       "    <tr>\n",
       "      <th>3</th>\n",
       "      <td>NBC</td>\n",
       "      <td>17</td>\n",
       "      <td>5.84</td>\n",
       "    </tr>\n",
       "    <tr>\n",
       "      <th>4</th>\n",
       "      <td>HEAD &amp; SHOULDERS</td>\n",
       "      <td>12</td>\n",
       "      <td>4.12</td>\n",
       "    </tr>\n",
       "    <tr>\n",
       "      <th>5</th>\n",
       "      <td>SALERM</td>\n",
       "      <td>10</td>\n",
       "      <td>3.44</td>\n",
       "    </tr>\n",
       "    <tr>\n",
       "      <th>6</th>\n",
       "      <td>JOSS FERVIER</td>\n",
       "      <td>8</td>\n",
       "      <td>2.75</td>\n",
       "    </tr>\n",
       "    <tr>\n",
       "      <th>7</th>\n",
       "      <td>DUCRAY</td>\n",
       "      <td>8</td>\n",
       "      <td>2.75</td>\n",
       "    </tr>\n",
       "    <tr>\n",
       "      <th>8</th>\n",
       "      <td>SELSUN BLUE</td>\n",
       "      <td>8</td>\n",
       "      <td>2.75</td>\n",
       "    </tr>\n",
       "    <tr>\n",
       "      <th>9</th>\n",
       "      <td>SHELÓ NABEL</td>\n",
       "      <td>7</td>\n",
       "      <td>2.41</td>\n",
       "    </tr>\n",
       "  </tbody>\n",
       "</table>\n",
       "</div>"
      ],
      "text/plain": [
       "              Brand  Results   Proc\n",
       "0                 -      161  55.33\n",
       "1           FRANCIS       39  13.40\n",
       "2           CELESTY       21   7.22\n",
       "3               NBC       17   5.84\n",
       "4  HEAD & SHOULDERS       12   4.12\n",
       "5            SALERM       10   3.44\n",
       "6      JOSS FERVIER        8   2.75\n",
       "7            DUCRAY        8   2.75\n",
       "8       SELSUN BLUE        8   2.75\n",
       "9       SHELÓ NABEL        7   2.41"
      ]
     },
     "execution_count": 315,
     "metadata": {},
     "output_type": "execute_result"
    }
   ],
   "source": [
    "a = df_25_50.Brand.value_counts().to_frame().reset_index().rename(columns={'index':'Brand','Brand':'Results'}).head(10)\n",
    "a['Proc'] = round((a.Results / a.Results.sum())*100,2)\n",
    "a"
   ]
  },
  {
   "attachments": {},
   "cell_type": "markdown",
   "metadata": {},
   "source": [
    "## Brands distribution"
   ]
  },
  {
   "cell_type": "code",
   "execution_count": 247,
   "metadata": {},
   "outputs": [
    {
     "data": {
      "text/plain": [
       "Index(['Brand', 'Product', 'Price', 'Link'], dtype='object')"
      ]
     },
     "execution_count": 247,
     "metadata": {},
     "output_type": "execute_result"
    }
   ],
   "source": [
    "df.columns"
   ]
  },
  {
   "cell_type": "code",
   "execution_count": 248,
   "metadata": {},
   "outputs": [
    {
     "data": {
      "application/vnd.plotly.v1+json": {
       "config": {
        "plotlyServerURL": "https://plot.ly"
       },
       "data": [
        {
         "alignmentgroup": "True",
         "hovertemplate": "Count=%{x}<br>Brand=%{y}<extra></extra>",
         "legendgroup": "",
         "marker": {
          "color": "#636efa",
          "pattern": {
           "shape": ""
          }
         },
         "name": "",
         "offsetgroup": "",
         "orientation": "h",
         "showlegend": false,
         "textposition": "auto",
         "texttemplate": "%{x}",
         "type": "bar",
         "x": [
          558,
          239,
          191,
          67,
          35,
          26,
          21,
          20,
          19,
          17,
          15,
          14,
          14,
          13,
          13,
          12,
          12,
          12,
          12,
          11,
          11,
          10,
          10
         ],
         "xaxis": "x",
         "y": [
          "-",
          "FRANCIS",
          "CELESTY",
          "HEAD & SHOULDERS",
          "NBC",
          "DUCRAY",
          "NEUTROGENA",
          "PRODUCTOS MART MEXICO",
          "SHELÓ NABEL",
          "MEDICASP",
          "LA ROCHE-POSAY",
          "SALERM",
          "FOLICURE",
          "MEDIHEALTH",
          "ALERT",
          "JUSSE",
          "NIZORAL",
          "IMAGES",
          "YEGUADA LA RESERVA",
          "VICHY",
          "SELSUN BLUE",
          "JOSS FERVIER",
          "NEFERTITI"
         ],
         "yaxis": "y"
        }
       ],
       "layout": {
        "barmode": "relative",
        "height": 600,
        "legend": {
         "tracegroupgap": 0
        },
        "margin": {
         "t": 60
        },
        "template": {
         "data": {
          "bar": [
           {
            "error_x": {
             "color": "#2a3f5f"
            },
            "error_y": {
             "color": "#2a3f5f"
            },
            "marker": {
             "line": {
              "color": "#E5ECF6",
              "width": 0.5
             },
             "pattern": {
              "fillmode": "overlay",
              "size": 10,
              "solidity": 0.2
             }
            },
            "type": "bar"
           }
          ],
          "barpolar": [
           {
            "marker": {
             "line": {
              "color": "#E5ECF6",
              "width": 0.5
             },
             "pattern": {
              "fillmode": "overlay",
              "size": 10,
              "solidity": 0.2
             }
            },
            "type": "barpolar"
           }
          ],
          "carpet": [
           {
            "aaxis": {
             "endlinecolor": "#2a3f5f",
             "gridcolor": "white",
             "linecolor": "white",
             "minorgridcolor": "white",
             "startlinecolor": "#2a3f5f"
            },
            "baxis": {
             "endlinecolor": "#2a3f5f",
             "gridcolor": "white",
             "linecolor": "white",
             "minorgridcolor": "white",
             "startlinecolor": "#2a3f5f"
            },
            "type": "carpet"
           }
          ],
          "choropleth": [
           {
            "colorbar": {
             "outlinewidth": 0,
             "ticks": ""
            },
            "type": "choropleth"
           }
          ],
          "contour": [
           {
            "colorbar": {
             "outlinewidth": 0,
             "ticks": ""
            },
            "colorscale": [
             [
              0,
              "#0d0887"
             ],
             [
              0.1111111111111111,
              "#46039f"
             ],
             [
              0.2222222222222222,
              "#7201a8"
             ],
             [
              0.3333333333333333,
              "#9c179e"
             ],
             [
              0.4444444444444444,
              "#bd3786"
             ],
             [
              0.5555555555555556,
              "#d8576b"
             ],
             [
              0.6666666666666666,
              "#ed7953"
             ],
             [
              0.7777777777777778,
              "#fb9f3a"
             ],
             [
              0.8888888888888888,
              "#fdca26"
             ],
             [
              1,
              "#f0f921"
             ]
            ],
            "type": "contour"
           }
          ],
          "contourcarpet": [
           {
            "colorbar": {
             "outlinewidth": 0,
             "ticks": ""
            },
            "type": "contourcarpet"
           }
          ],
          "heatmap": [
           {
            "colorbar": {
             "outlinewidth": 0,
             "ticks": ""
            },
            "colorscale": [
             [
              0,
              "#0d0887"
             ],
             [
              0.1111111111111111,
              "#46039f"
             ],
             [
              0.2222222222222222,
              "#7201a8"
             ],
             [
              0.3333333333333333,
              "#9c179e"
             ],
             [
              0.4444444444444444,
              "#bd3786"
             ],
             [
              0.5555555555555556,
              "#d8576b"
             ],
             [
              0.6666666666666666,
              "#ed7953"
             ],
             [
              0.7777777777777778,
              "#fb9f3a"
             ],
             [
              0.8888888888888888,
              "#fdca26"
             ],
             [
              1,
              "#f0f921"
             ]
            ],
            "type": "heatmap"
           }
          ],
          "heatmapgl": [
           {
            "colorbar": {
             "outlinewidth": 0,
             "ticks": ""
            },
            "colorscale": [
             [
              0,
              "#0d0887"
             ],
             [
              0.1111111111111111,
              "#46039f"
             ],
             [
              0.2222222222222222,
              "#7201a8"
             ],
             [
              0.3333333333333333,
              "#9c179e"
             ],
             [
              0.4444444444444444,
              "#bd3786"
             ],
             [
              0.5555555555555556,
              "#d8576b"
             ],
             [
              0.6666666666666666,
              "#ed7953"
             ],
             [
              0.7777777777777778,
              "#fb9f3a"
             ],
             [
              0.8888888888888888,
              "#fdca26"
             ],
             [
              1,
              "#f0f921"
             ]
            ],
            "type": "heatmapgl"
           }
          ],
          "histogram": [
           {
            "marker": {
             "pattern": {
              "fillmode": "overlay",
              "size": 10,
              "solidity": 0.2
             }
            },
            "type": "histogram"
           }
          ],
          "histogram2d": [
           {
            "colorbar": {
             "outlinewidth": 0,
             "ticks": ""
            },
            "colorscale": [
             [
              0,
              "#0d0887"
             ],
             [
              0.1111111111111111,
              "#46039f"
             ],
             [
              0.2222222222222222,
              "#7201a8"
             ],
             [
              0.3333333333333333,
              "#9c179e"
             ],
             [
              0.4444444444444444,
              "#bd3786"
             ],
             [
              0.5555555555555556,
              "#d8576b"
             ],
             [
              0.6666666666666666,
              "#ed7953"
             ],
             [
              0.7777777777777778,
              "#fb9f3a"
             ],
             [
              0.8888888888888888,
              "#fdca26"
             ],
             [
              1,
              "#f0f921"
             ]
            ],
            "type": "histogram2d"
           }
          ],
          "histogram2dcontour": [
           {
            "colorbar": {
             "outlinewidth": 0,
             "ticks": ""
            },
            "colorscale": [
             [
              0,
              "#0d0887"
             ],
             [
              0.1111111111111111,
              "#46039f"
             ],
             [
              0.2222222222222222,
              "#7201a8"
             ],
             [
              0.3333333333333333,
              "#9c179e"
             ],
             [
              0.4444444444444444,
              "#bd3786"
             ],
             [
              0.5555555555555556,
              "#d8576b"
             ],
             [
              0.6666666666666666,
              "#ed7953"
             ],
             [
              0.7777777777777778,
              "#fb9f3a"
             ],
             [
              0.8888888888888888,
              "#fdca26"
             ],
             [
              1,
              "#f0f921"
             ]
            ],
            "type": "histogram2dcontour"
           }
          ],
          "mesh3d": [
           {
            "colorbar": {
             "outlinewidth": 0,
             "ticks": ""
            },
            "type": "mesh3d"
           }
          ],
          "parcoords": [
           {
            "line": {
             "colorbar": {
              "outlinewidth": 0,
              "ticks": ""
             }
            },
            "type": "parcoords"
           }
          ],
          "pie": [
           {
            "automargin": true,
            "type": "pie"
           }
          ],
          "scatter": [
           {
            "fillpattern": {
             "fillmode": "overlay",
             "size": 10,
             "solidity": 0.2
            },
            "type": "scatter"
           }
          ],
          "scatter3d": [
           {
            "line": {
             "colorbar": {
              "outlinewidth": 0,
              "ticks": ""
             }
            },
            "marker": {
             "colorbar": {
              "outlinewidth": 0,
              "ticks": ""
             }
            },
            "type": "scatter3d"
           }
          ],
          "scattercarpet": [
           {
            "marker": {
             "colorbar": {
              "outlinewidth": 0,
              "ticks": ""
             }
            },
            "type": "scattercarpet"
           }
          ],
          "scattergeo": [
           {
            "marker": {
             "colorbar": {
              "outlinewidth": 0,
              "ticks": ""
             }
            },
            "type": "scattergeo"
           }
          ],
          "scattergl": [
           {
            "marker": {
             "colorbar": {
              "outlinewidth": 0,
              "ticks": ""
             }
            },
            "type": "scattergl"
           }
          ],
          "scattermapbox": [
           {
            "marker": {
             "colorbar": {
              "outlinewidth": 0,
              "ticks": ""
             }
            },
            "type": "scattermapbox"
           }
          ],
          "scatterpolar": [
           {
            "marker": {
             "colorbar": {
              "outlinewidth": 0,
              "ticks": ""
             }
            },
            "type": "scatterpolar"
           }
          ],
          "scatterpolargl": [
           {
            "marker": {
             "colorbar": {
              "outlinewidth": 0,
              "ticks": ""
             }
            },
            "type": "scatterpolargl"
           }
          ],
          "scatterternary": [
           {
            "marker": {
             "colorbar": {
              "outlinewidth": 0,
              "ticks": ""
             }
            },
            "type": "scatterternary"
           }
          ],
          "surface": [
           {
            "colorbar": {
             "outlinewidth": 0,
             "ticks": ""
            },
            "colorscale": [
             [
              0,
              "#0d0887"
             ],
             [
              0.1111111111111111,
              "#46039f"
             ],
             [
              0.2222222222222222,
              "#7201a8"
             ],
             [
              0.3333333333333333,
              "#9c179e"
             ],
             [
              0.4444444444444444,
              "#bd3786"
             ],
             [
              0.5555555555555556,
              "#d8576b"
             ],
             [
              0.6666666666666666,
              "#ed7953"
             ],
             [
              0.7777777777777778,
              "#fb9f3a"
             ],
             [
              0.8888888888888888,
              "#fdca26"
             ],
             [
              1,
              "#f0f921"
             ]
            ],
            "type": "surface"
           }
          ],
          "table": [
           {
            "cells": {
             "fill": {
              "color": "#EBF0F8"
             },
             "line": {
              "color": "white"
             }
            },
            "header": {
             "fill": {
              "color": "#C8D4E3"
             },
             "line": {
              "color": "white"
             }
            },
            "type": "table"
           }
          ]
         },
         "layout": {
          "annotationdefaults": {
           "arrowcolor": "#2a3f5f",
           "arrowhead": 0,
           "arrowwidth": 1
          },
          "autotypenumbers": "strict",
          "coloraxis": {
           "colorbar": {
            "outlinewidth": 0,
            "ticks": ""
           }
          },
          "colorscale": {
           "diverging": [
            [
             0,
             "#8e0152"
            ],
            [
             0.1,
             "#c51b7d"
            ],
            [
             0.2,
             "#de77ae"
            ],
            [
             0.3,
             "#f1b6da"
            ],
            [
             0.4,
             "#fde0ef"
            ],
            [
             0.5,
             "#f7f7f7"
            ],
            [
             0.6,
             "#e6f5d0"
            ],
            [
             0.7,
             "#b8e186"
            ],
            [
             0.8,
             "#7fbc41"
            ],
            [
             0.9,
             "#4d9221"
            ],
            [
             1,
             "#276419"
            ]
           ],
           "sequential": [
            [
             0,
             "#0d0887"
            ],
            [
             0.1111111111111111,
             "#46039f"
            ],
            [
             0.2222222222222222,
             "#7201a8"
            ],
            [
             0.3333333333333333,
             "#9c179e"
            ],
            [
             0.4444444444444444,
             "#bd3786"
            ],
            [
             0.5555555555555556,
             "#d8576b"
            ],
            [
             0.6666666666666666,
             "#ed7953"
            ],
            [
             0.7777777777777778,
             "#fb9f3a"
            ],
            [
             0.8888888888888888,
             "#fdca26"
            ],
            [
             1,
             "#f0f921"
            ]
           ],
           "sequentialminus": [
            [
             0,
             "#0d0887"
            ],
            [
             0.1111111111111111,
             "#46039f"
            ],
            [
             0.2222222222222222,
             "#7201a8"
            ],
            [
             0.3333333333333333,
             "#9c179e"
            ],
            [
             0.4444444444444444,
             "#bd3786"
            ],
            [
             0.5555555555555556,
             "#d8576b"
            ],
            [
             0.6666666666666666,
             "#ed7953"
            ],
            [
             0.7777777777777778,
             "#fb9f3a"
            ],
            [
             0.8888888888888888,
             "#fdca26"
            ],
            [
             1,
             "#f0f921"
            ]
           ]
          },
          "colorway": [
           "#636efa",
           "#EF553B",
           "#00cc96",
           "#ab63fa",
           "#FFA15A",
           "#19d3f3",
           "#FF6692",
           "#B6E880",
           "#FF97FF",
           "#FECB52"
          ],
          "font": {
           "color": "#2a3f5f"
          },
          "geo": {
           "bgcolor": "white",
           "lakecolor": "white",
           "landcolor": "#E5ECF6",
           "showlakes": true,
           "showland": true,
           "subunitcolor": "white"
          },
          "hoverlabel": {
           "align": "left"
          },
          "hovermode": "closest",
          "mapbox": {
           "style": "light"
          },
          "paper_bgcolor": "white",
          "plot_bgcolor": "#E5ECF6",
          "polar": {
           "angularaxis": {
            "gridcolor": "white",
            "linecolor": "white",
            "ticks": ""
           },
           "bgcolor": "#E5ECF6",
           "radialaxis": {
            "gridcolor": "white",
            "linecolor": "white",
            "ticks": ""
           }
          },
          "scene": {
           "xaxis": {
            "backgroundcolor": "#E5ECF6",
            "gridcolor": "white",
            "gridwidth": 2,
            "linecolor": "white",
            "showbackground": true,
            "ticks": "",
            "zerolinecolor": "white"
           },
           "yaxis": {
            "backgroundcolor": "#E5ECF6",
            "gridcolor": "white",
            "gridwidth": 2,
            "linecolor": "white",
            "showbackground": true,
            "ticks": "",
            "zerolinecolor": "white"
           },
           "zaxis": {
            "backgroundcolor": "#E5ECF6",
            "gridcolor": "white",
            "gridwidth": 2,
            "linecolor": "white",
            "showbackground": true,
            "ticks": "",
            "zerolinecolor": "white"
           }
          },
          "shapedefaults": {
           "line": {
            "color": "#2a3f5f"
           }
          },
          "ternary": {
           "aaxis": {
            "gridcolor": "white",
            "linecolor": "white",
            "ticks": ""
           },
           "baxis": {
            "gridcolor": "white",
            "linecolor": "white",
            "ticks": ""
           },
           "bgcolor": "#E5ECF6",
           "caxis": {
            "gridcolor": "white",
            "linecolor": "white",
            "ticks": ""
           }
          },
          "title": {
           "x": 0.05
          },
          "xaxis": {
           "automargin": true,
           "gridcolor": "white",
           "linecolor": "white",
           "ticks": "",
           "title": {
            "standoff": 15
           },
           "zerolinecolor": "white",
           "zerolinewidth": 2
          },
          "yaxis": {
           "automargin": true,
           "gridcolor": "white",
           "linecolor": "white",
           "ticks": "",
           "title": {
            "standoff": 15
           },
           "zerolinecolor": "white",
           "zerolinewidth": 2
          }
         }
        },
        "title": {
         "text": "Brands over 10 search results"
        },
        "width": 1100,
        "xaxis": {
         "anchor": "y",
         "categoryorder": "total descending",
         "domain": [
          0,
          1
         ],
         "title": {
          "text": "Count"
         }
        },
        "yaxis": {
         "anchor": "x",
         "domain": [
          0,
          1
         ],
         "title": {
          "text": "Brand"
         }
        }
       }
      }
     },
     "metadata": {},
     "output_type": "display_data"
    }
   ],
   "source": [
    "px.bar(df.Brand.value_counts().to_frame()[df.Brand.value_counts().to_frame()['Brand']>=10], x='Brand', width=1100, height=600, text_auto=True,\n",
    "       labels={'index':'Brand', 'Brand':'Count'}).update_layout(xaxis={'categoryorder':'total descending'}, title='Brands over 10 search results')"
   ]
  },
  {
   "cell_type": "code",
   "execution_count": 227,
   "metadata": {},
   "outputs": [
    {
     "name": "stdout",
     "output_type": "stream",
     "text": [
      "['MEDICASP', 'VICHY', 'SELSUN BLUE', 'ISDIN', 'CELESTY', 'HEAD & SHOULDERS', 'DUCRAY', 'IMAGES', 'MEDIHEALTH', 'JUSSE', 'MU&ME', 'LA ROCHE-POSAY', 'NEUTROGENA', 'PRODUCTOS MART MEXICO', 'HERMOSO REMEDIO', 'DISNEY', 'ALERT', 'PALMOLIVE', 'CANTABRIA', 'BIODERMA', 'SILANES', 'DS LABORATORIES', 'SELSUN', 'NATURA', 'FOLICURE', 'EGO', 'URIAGE', 'YAKARTA', 'NBC', 'SALERM', 'YVES ROCHER', 'IRALTONE', 'MD LIFERPAL', 'EUDERMA', 'ALEA', 'ACM', \"FEMME D'OR\", 'NEFERTITI', 'SISTEMA GB', 'MANDUMED GRANJA ECOLÓGICA', 'SEDAL', 'FOLCRESS', 'REDKEN', 'YEGUADA LA RESERVA', 'NOPSOR', 'GRISI', 'KÉRASTASE', 'LABORATORIOS FRANCIS', 'DAVINES', 'TRUSS', 'BOTANICUS', 'SHELÓ NABEL', 'VAERÁ', 'LAZARTIGUE', 'PRIMED', 'NEO CAPELLI PRO', 'INCREDIBLE', 'SECRETOS DE ANTAÑO', 'LACER', 'DEL INDIO PAPAGO', 'ICON', 'SKIN-CAP', 'NIZORAL', 'CAPRICE', 'SALERM COSMETICS', 'VOGLIA', 'SCHWARZKOPF', 'PG', 'ELIX', 'LA ROCHE POSAY', 'FARMAPIEL', 'GENOVÉ', 'FRANCIS', 'MATRIX', 'SKIN DER', 'KANIN', 'MAGNUS', 'MULTIPLUS', 'DR. KURT WOLFF GMBH & CO. KG', 'AROMATICA', 'TOK MENS CARE', 'LENDAN', 'VENEZZA', 'INDIO PAPAGO', 'INBELLEZZA', 'HIDRA', 'FIRENZE', 'ARUAL', 'HEAD & SHOUDERS', 'YERBATEX', 'EQUATE', 'BLEN', 'STANHOME', 'REMEXA', 'HAIR RES Q', 'PRAVANA', 'VIDANAT', 'INSIGHT', 'TRUSS PROFESSIONAL', 'SEBRYL', 'PILEXIL', 'BIOVITAL', 'HND', '4X4', 'ALFAPARF MILANO', 'TATAI TIENDA', 'GENERIC', 'SWISS JUST', 'JASON NATURAL', 'VANART', 'MARTHA DEBAYLE', 'SHANATURALS', 'PARIS', 'AG', \"L'ORÉAL PROFESSIONNEL\", \"L'OREAL PROFESSIONNE\", 'ALPECIN', 'PIERRE FABRE', 'JANIBELL', 'ORIFLAME', 'KLORANE', 'FACIAL TIME', 'PURE BIOLOGY', 'OGX', 'MELALEUCA', \"L'ORÉAL PARIS\", 'NIOXIN', 'ORGÂNICO', 'ÁRBOL VERDE', 'HINODE', 'JOSS FERVIER', 'STEFANO', 'YANBAL', 'MARIA', 'CANTABRIA LABS', 'JUST', 'TÍO NACHO', 'SCHWARZKOPF PROFESSIONAL', 'ALISS', 'HUICHOL', 'BEOHEMP', 'EVITA', 'BAEBODY', 'FUSION', 'CASTA']\n"
     ]
    }
   ],
   "source": [
    "print(df[df.Brand!='-'].Brand.unique().tolist())"
   ]
  },
  {
   "cell_type": "code",
   "execution_count": 249,
   "metadata": {},
   "outputs": [
    {
     "data": {
      "text/html": [
       "<div>\n",
       "<style scoped>\n",
       "    .dataframe tbody tr th:only-of-type {\n",
       "        vertical-align: middle;\n",
       "    }\n",
       "\n",
       "    .dataframe tbody tr th {\n",
       "        vertical-align: top;\n",
       "    }\n",
       "\n",
       "    .dataframe thead th {\n",
       "        text-align: right;\n",
       "    }\n",
       "</style>\n",
       "<table border=\"1\" class=\"dataframe\">\n",
       "  <thead>\n",
       "    <tr style=\"text-align: right;\">\n",
       "      <th></th>\n",
       "      <th>Brand</th>\n",
       "      <th>Product</th>\n",
       "      <th>Price</th>\n",
       "      <th>Link</th>\n",
       "    </tr>\n",
       "  </thead>\n",
       "  <tbody>\n",
       "    <tr>\n",
       "      <th>0</th>\n",
       "      <td>MEDICASP</td>\n",
       "      <td>Shampoo Medicasp Anticaspa Uso Diario 2 Botellas De 130ml</td>\n",
       "      <td>195</td>\n",
       "      <td>https://www.mercadolibre.com.mx/shampoo-medicasp-anticaspa-uso-diario-2-botellas-de-130ml/p/MLM19094907?pdp_filters=category:MLM430117#searchVariation=MLM19094907&amp;pos...</td>\n",
       "    </tr>\n",
       "    <tr>\n",
       "      <th>1</th>\n",
       "      <td>VICHY</td>\n",
       "      <td>Shampoo Vichy Anticaspa Dercos Ds Cabello Graso 200 Ml</td>\n",
       "      <td>557</td>\n",
       "      <td>https://articulo.mercadolibre.com.mx/MLM-769613335-shampoo-vichy-anticaspa-dercos-ds-cabello-graso-200-ml-_JM#position=29&amp;search_layout=stack&amp;type=item&amp;tracking_id=bf...</td>\n",
       "    </tr>\n",
       "    <tr>\n",
       "      <th>2</th>\n",
       "      <td>SELSUN BLUE</td>\n",
       "      <td>Shampoo Selsun Blue Naturals Dandruff 325ml 11oz</td>\n",
       "      <td>223</td>\n",
       "      <td>https://www.mercadolibre.com.mx/shampoo-selsun-blue-naturals-dandruff-325ml-11oz/p/MLM19546760?pdp_filters=category:MLM430117#searchVariation=MLM19546760&amp;position=2&amp;s...</td>\n",
       "    </tr>\n",
       "    <tr>\n",
       "      <th>3</th>\n",
       "      <td>ISDIN</td>\n",
       "      <td>Isdin Nutradeica Shampoo Anticaspa Grasa 200ml</td>\n",
       "      <td>358</td>\n",
       "      <td>https://www.mercadolibre.com.mx/isdin-nutradeica-shampoo-anticaspa-grasa-200ml/p/MLM19702444?pdp_filters=category:MLM430117#searchVariation=MLM19702444&amp;position=3&amp;sea...</td>\n",
       "    </tr>\n",
       "    <tr>\n",
       "      <th>4</th>\n",
       "      <td>ISDIN</td>\n",
       "      <td>Shampoo Isdin Lambdapil Anticaída en botella de 200mL</td>\n",
       "      <td>330</td>\n",
       "      <td>https://www.mercadolibre.com.mx/shampoo-isdin-lambdapil-anticaida-en-botella-de-200ml/p/MLM19147966?pdp_filters=category:MLM430117#searchVariation=MLM19147966&amp;positio...</td>\n",
       "    </tr>\n",
       "    <tr>\n",
       "      <th>5</th>\n",
       "      <td>-</td>\n",
       "      <td>Shampoo Alquitrán D Hulla Control Psoriasis  Caspa 1 Litro</td>\n",
       "      <td>119</td>\n",
       "      <td>https://articulo.mercadolibre.com.mx/MLM-1350885680-shampoo-alquitran-d-hulla-control-psoriasis-caspa-1-litro-_JM#position=32&amp;search_layout=stack&amp;type=item&amp;tracking_i...</td>\n",
       "    </tr>\n",
       "    <tr>\n",
       "      <th>6</th>\n",
       "      <td>SELSUN BLUE</td>\n",
       "      <td>Shampoo Selsun Medicated Max Strength Dandruff 325ml Importa</td>\n",
       "      <td>299</td>\n",
       "      <td>https://www.mercadolibre.com.mx/shampoo-selsun-medicated-max-strength-dandruff-325ml-importa/p/MLM19508792?pdp_filters=category:MLM430117#searchVariation=MLM19508792&amp;...</td>\n",
       "    </tr>\n",
       "    <tr>\n",
       "      <th>7</th>\n",
       "      <td>VICHY</td>\n",
       "      <td>Shampoo Vichy Anticaspa Dercos Ds Cabello Graso 200 Ml</td>\n",
       "      <td>557</td>\n",
       "      <td>https://click1.mercadolibre.com.mx/mclics/clicks/external/MLM/count?a=ox54sra9enQ5i0HHEMIKbYPspVU3q6zyVousvf9gcsISSujvrcWZAbKSYntDlFiB63Nes4rgUn2bcL8b0RQjPea1Vob3F2Gr...</td>\n",
       "    </tr>\n",
       "    <tr>\n",
       "      <th>8</th>\n",
       "      <td>-</td>\n",
       "      <td>Shampoo Alquitran D' Hulla 20lt Tratamiento Psoriasis/ Hongo</td>\n",
       "      <td>1450</td>\n",
       "      <td>https://click1.mercadolibre.com.mx/mclics/clicks/external/MLM/count?a=jy3ff5s61ZKQtO7sVArbaoZ11r6KhLvZdtXidXHHAk5hsVY6VdSAFSM34HH5yJXDxRX8yQ7wvuzFfzM57bnOQ%2FpebgLd31...</td>\n",
       "    </tr>\n",
       "    <tr>\n",
       "      <th>9</th>\n",
       "      <td>-</td>\n",
       "      <td>Shampoo Selsun Medicated Max Strength Dandruff 325ml</td>\n",
       "      <td>299</td>\n",
       "      <td>https://articulo.mercadolibre.com.mx/MLM-1828433089-shampoo-selsun-medicated-max-strength-dandruff-325ml-_JM#position=33&amp;search_layout=stack&amp;type=item&amp;tracking_id=bfe...</td>\n",
       "    </tr>\n",
       "  </tbody>\n",
       "</table>\n",
       "</div>"
      ],
      "text/plain": [
       "         Brand                                                       Product  \\\n",
       "0     MEDICASP     Shampoo Medicasp Anticaspa Uso Diario 2 Botellas De 130ml   \n",
       "1        VICHY       Shampoo Vichy Anticaspa Dercos Ds Cabello Graso 200 Ml    \n",
       "2  SELSUN BLUE              Shampoo Selsun Blue Naturals Dandruff 325ml 11oz   \n",
       "3        ISDIN                Isdin Nutradeica Shampoo Anticaspa Grasa 200ml   \n",
       "4        ISDIN         Shampoo Isdin Lambdapil Anticaída en botella de 200mL   \n",
       "5            -    Shampoo Alquitrán D Hulla Control Psoriasis  Caspa 1 Litro   \n",
       "6  SELSUN BLUE  Shampoo Selsun Medicated Max Strength Dandruff 325ml Importa   \n",
       "7        VICHY       Shampoo Vichy Anticaspa Dercos Ds Cabello Graso 200 Ml    \n",
       "8            -  Shampoo Alquitran D' Hulla 20lt Tratamiento Psoriasis/ Hongo   \n",
       "9            -          Shampoo Selsun Medicated Max Strength Dandruff 325ml   \n",
       "\n",
       "   Price  \\\n",
       "0    195   \n",
       "1    557   \n",
       "2    223   \n",
       "3    358   \n",
       "4    330   \n",
       "5    119   \n",
       "6    299   \n",
       "7    557   \n",
       "8   1450   \n",
       "9    299   \n",
       "\n",
       "                                                                                                                                                                        Link  \n",
       "0  https://www.mercadolibre.com.mx/shampoo-medicasp-anticaspa-uso-diario-2-botellas-de-130ml/p/MLM19094907?pdp_filters=category:MLM430117#searchVariation=MLM19094907&pos...  \n",
       "1  https://articulo.mercadolibre.com.mx/MLM-769613335-shampoo-vichy-anticaspa-dercos-ds-cabello-graso-200-ml-_JM#position=29&search_layout=stack&type=item&tracking_id=bf...  \n",
       "2  https://www.mercadolibre.com.mx/shampoo-selsun-blue-naturals-dandruff-325ml-11oz/p/MLM19546760?pdp_filters=category:MLM430117#searchVariation=MLM19546760&position=2&s...  \n",
       "3  https://www.mercadolibre.com.mx/isdin-nutradeica-shampoo-anticaspa-grasa-200ml/p/MLM19702444?pdp_filters=category:MLM430117#searchVariation=MLM19702444&position=3&sea...  \n",
       "4  https://www.mercadolibre.com.mx/shampoo-isdin-lambdapil-anticaida-en-botella-de-200ml/p/MLM19147966?pdp_filters=category:MLM430117#searchVariation=MLM19147966&positio...  \n",
       "5  https://articulo.mercadolibre.com.mx/MLM-1350885680-shampoo-alquitran-d-hulla-control-psoriasis-caspa-1-litro-_JM#position=32&search_layout=stack&type=item&tracking_i...  \n",
       "6  https://www.mercadolibre.com.mx/shampoo-selsun-medicated-max-strength-dandruff-325ml-importa/p/MLM19508792?pdp_filters=category:MLM430117#searchVariation=MLM19508792&...  \n",
       "7  https://click1.mercadolibre.com.mx/mclics/clicks/external/MLM/count?a=ox54sra9enQ5i0HHEMIKbYPspVU3q6zyVousvf9gcsISSujvrcWZAbKSYntDlFiB63Nes4rgUn2bcL8b0RQjPea1Vob3F2Gr...  \n",
       "8  https://click1.mercadolibre.com.mx/mclics/clicks/external/MLM/count?a=jy3ff5s61ZKQtO7sVArbaoZ11r6KhLvZdtXidXHHAk5hsVY6VdSAFSM34HH5yJXDxRX8yQ7wvuzFfzM57bnOQ%2FpebgLd31...  \n",
       "9  https://articulo.mercadolibre.com.mx/MLM-1828433089-shampoo-selsun-medicated-max-strength-dandruff-325ml-_JM#position=33&search_layout=stack&type=item&tracking_id=bfe...  "
      ]
     },
     "execution_count": 249,
     "metadata": {},
     "output_type": "execute_result"
    }
   ],
   "source": [
    "test = df.head(10).copy()\n",
    "test"
   ]
  },
  {
   "cell_type": "code",
   "execution_count": 543,
   "metadata": {},
   "outputs": [
    {
     "data": {
      "text/plain": [
       "True"
      ]
     },
     "execution_count": 543,
     "metadata": {},
     "output_type": "execute_result"
    }
   ],
   "source": [
    "'Shampoo Vichy Anticaspa Dercos Ds Cabello Graso 200 Ml'.lower().__contains__('vichy'.lower())"
   ]
  },
  {
   "cell_type": "code",
   "execution_count": 262,
   "metadata": {},
   "outputs": [
    {
     "name": "stdout",
     "output_type": "stream",
     "text": [
      "MEDICASP\n",
      "No\n",
      "No\n",
      "No\n",
      "No\n",
      "VICHY\n",
      "No\n",
      "No\n",
      "No\n",
      "No\n",
      "SELSUN BLUE\n",
      "No\n",
      "No\n",
      "No\n",
      "No\n",
      "ISDIN\n",
      "No\n",
      "No\n",
      "No\n",
      "ISDIN\n",
      "No\n",
      "No\n",
      "No\n",
      "No\n",
      "No\n",
      "No\n",
      "No\n",
      "No\n",
      "No\n",
      "VICHY\n",
      "No\n",
      "No\n",
      "No\n",
      "No\n",
      "No\n",
      "No\n",
      "No\n",
      "No\n",
      "No\n",
      "No\n"
     ]
    }
   ],
   "source": [
    "idx = 0\n",
    "b = test[test.Brand!='-'].Brand.unique().tolist()\n",
    "for i in test.Product:\n",
    "    for j in b:\n",
    "        if i.__contains__(j.lower()) | i.__contains__(j.upper()) | i.__contains__(j.title()):\n",
    "\n",
    "            print(j)\n",
    "        else: print('No')\n",
    "        "
   ]
  },
  {
   "attachments": {},
   "cell_type": "markdown",
   "metadata": {},
   "source": [
    "## Brand appearences"
   ]
  },
  {
   "cell_type": "code",
   "execution_count": 246,
   "metadata": {},
   "outputs": [
    {
     "name": "stdout",
     "output_type": "stream",
     "text": [
      "81\n"
     ]
    },
    {
     "data": {
      "text/html": [
       "<div>\n",
       "<style scoped>\n",
       "    .dataframe tbody tr th:only-of-type {\n",
       "        vertical-align: middle;\n",
       "    }\n",
       "\n",
       "    .dataframe tbody tr th {\n",
       "        vertical-align: top;\n",
       "    }\n",
       "\n",
       "    .dataframe thead th {\n",
       "        text-align: right;\n",
       "    }\n",
       "</style>\n",
       "<table border=\"1\" class=\"dataframe\">\n",
       "  <thead>\n",
       "    <tr style=\"text-align: right;\">\n",
       "      <th></th>\n",
       "      <th>Product</th>\n",
       "    </tr>\n",
       "  </thead>\n",
       "  <tbody>\n",
       "    <tr>\n",
       "      <th>0</th>\n",
       "      <td>Shampoo Head &amp; Shoulders Men Con Fragancia Old Spice 1 L</td>\n",
       "    </tr>\n",
       "    <tr>\n",
       "      <th>1</th>\n",
       "      <td>Shampoo Head &amp; Shoulders 2 En 1 Suave Y Manejable  1 Lt</td>\n",
       "    </tr>\n",
       "    <tr>\n",
       "      <th>2</th>\n",
       "      <td>Shampoo Head &amp; Shoulders 2 En 1 Suave Y Manejable 1 L</td>\n",
       "    </tr>\n",
       "    <tr>\n",
       "      <th>3</th>\n",
       "      <td>Shampoo Head &amp; Shoulders Clinical Solutions</td>\n",
       "    </tr>\n",
       "    <tr>\n",
       "      <th>4</th>\n",
       "      <td>Shampoo Head &amp; Shoulders 2 En 1 Limp Renovadora 1lt (2pack)</td>\n",
       "    </tr>\n",
       "    <tr>\n",
       "      <th>5</th>\n",
       "      <td>Shampoo Head &amp; Shoulders Clinical Solutions Formula Renovada</td>\n",
       "    </tr>\n",
       "    <tr>\n",
       "      <th>6</th>\n",
       "      <td>Shampoo Head &amp; Shoulders Men Con Fragancia Old Spice 1 Litro</td>\n",
       "    </tr>\n",
       "    <tr>\n",
       "      <th>7</th>\n",
       "      <td>576 Sobres/10ml. Shampoo Head &amp; Shoulder Hotelero</td>\n",
       "    </tr>\n",
       "    <tr>\n",
       "      <th>8</th>\n",
       "      <td>Shampoo Head &amp; Shoulder Hotelero 288 Sobres De 10ml</td>\n",
       "    </tr>\n",
       "    <tr>\n",
       "      <th>9</th>\n",
       "      <td>Shampoo 2 en 1 Head &amp; Shoulders Suave Y Manejable en botella de 375mL por 1 unidad</td>\n",
       "    </tr>\n",
       "  </tbody>\n",
       "</table>\n",
       "</div>"
      ],
      "text/plain": [
       "                                                                              Product\n",
       "0                            Shampoo Head & Shoulders Men Con Fragancia Old Spice 1 L\n",
       "1                             Shampoo Head & Shoulders 2 En 1 Suave Y Manejable  1 Lt\n",
       "2                               Shampoo Head & Shoulders 2 En 1 Suave Y Manejable 1 L\n",
       "3                                        Shampoo Head & Shoulders Clinical Solutions \n",
       "4                         Shampoo Head & Shoulders 2 En 1 Limp Renovadora 1lt (2pack)\n",
       "5                        Shampoo Head & Shoulders Clinical Solutions Formula Renovada\n",
       "6                        Shampoo Head & Shoulders Men Con Fragancia Old Spice 1 Litro\n",
       "7                                   576 Sobres/10ml. Shampoo Head & Shoulder Hotelero\n",
       "8                                 Shampoo Head & Shoulder Hotelero 288 Sobres De 10ml\n",
       "9  Shampoo 2 en 1 Head & Shoulders Suave Y Manejable en botella de 375mL por 1 unidad"
      ]
     },
     "execution_count": 246,
     "metadata": {},
     "output_type": "execute_result"
    }
   ],
   "source": [
    "# Look for specif word(s)\n",
    "count = 0\n",
    "brand_producs = []\n",
    "for i in df['Product']:\n",
    "    if (re.search('head.', i, flags=re.IGNORECASE)) or (re.search('h&s.', i, flags=re.IGNORECASE)) or (re.search('head & shoulders.', i, flags=re.IGNORECASE)):\n",
    "        count += 1\n",
    "        brand_producs.append(i)\n",
    "print(count)\n",
    "\n",
    "brand_df = pd.DataFrame(data={'Product':brand_producs})\n",
    "brand_df.head(10)"
   ]
  },
  {
   "cell_type": "code",
   "execution_count": 267,
   "metadata": {},
   "outputs": [
    {
     "name": "stdout",
     "output_type": "stream",
     "text": [
      "81\n",
      "348.23\n"
     ]
    },
    {
     "data": {
      "text/html": [
       "<div>\n",
       "<style scoped>\n",
       "    .dataframe tbody tr th:only-of-type {\n",
       "        vertical-align: middle;\n",
       "    }\n",
       "\n",
       "    .dataframe tbody tr th {\n",
       "        vertical-align: top;\n",
       "    }\n",
       "\n",
       "    .dataframe thead th {\n",
       "        text-align: right;\n",
       "    }\n",
       "</style>\n",
       "<table border=\"1\" class=\"dataframe\">\n",
       "  <thead>\n",
       "    <tr style=\"text-align: right;\">\n",
       "      <th></th>\n",
       "      <th>Product</th>\n",
       "      <th>Price</th>\n",
       "    </tr>\n",
       "  </thead>\n",
       "  <tbody>\n",
       "    <tr>\n",
       "      <th>0</th>\n",
       "      <td>Shampoo Head &amp; Shoulders Men Con Fragancia Old Spice 1 L</td>\n",
       "      <td>159</td>\n",
       "    </tr>\n",
       "    <tr>\n",
       "      <th>1</th>\n",
       "      <td>Shampoo Head &amp; Shoulders 2 En 1 Suave Y Manejable  1 Lt</td>\n",
       "      <td>148</td>\n",
       "    </tr>\n",
       "    <tr>\n",
       "      <th>2</th>\n",
       "      <td>Shampoo Head &amp; Shoulders 2 En 1 Suave Y Manejable 1 L</td>\n",
       "      <td>149</td>\n",
       "    </tr>\n",
       "    <tr>\n",
       "      <th>3</th>\n",
       "      <td>Shampoo Head &amp; Shoulders Clinical Solutions</td>\n",
       "      <td>495</td>\n",
       "    </tr>\n",
       "    <tr>\n",
       "      <th>4</th>\n",
       "      <td>Shampoo Head &amp; Shoulders 2 En 1 Limp Renovadora 1lt (2pack)</td>\n",
       "      <td>298</td>\n",
       "    </tr>\n",
       "    <tr>\n",
       "      <th>5</th>\n",
       "      <td>Shampoo Head &amp; Shoulders Clinical Solutions Formula Renovada</td>\n",
       "      <td>498</td>\n",
       "    </tr>\n",
       "    <tr>\n",
       "      <th>6</th>\n",
       "      <td>Shampoo Head &amp; Shoulders Men Con Fragancia Old Spice 1 Litro</td>\n",
       "      <td>159</td>\n",
       "    </tr>\n",
       "    <tr>\n",
       "      <th>7</th>\n",
       "      <td>576 Sobres/10ml. Shampoo Head &amp; Shoulder Hotelero</td>\n",
       "      <td>1499</td>\n",
       "    </tr>\n",
       "    <tr>\n",
       "      <th>8</th>\n",
       "      <td>Shampoo Head &amp; Shoulder Hotelero 288 Sobres De 10ml</td>\n",
       "      <td>875</td>\n",
       "    </tr>\n",
       "    <tr>\n",
       "      <th>9</th>\n",
       "      <td>Shampoo 2 en 1 Head &amp; Shoulders Suave Y Manejable en botella de 375mL por 1 unidad</td>\n",
       "      <td>50</td>\n",
       "    </tr>\n",
       "  </tbody>\n",
       "</table>\n",
       "</div>"
      ],
      "text/plain": [
       "                                                                              Product  \\\n",
       "0                            Shampoo Head & Shoulders Men Con Fragancia Old Spice 1 L   \n",
       "1                             Shampoo Head & Shoulders 2 En 1 Suave Y Manejable  1 Lt   \n",
       "2                               Shampoo Head & Shoulders 2 En 1 Suave Y Manejable 1 L   \n",
       "3                                        Shampoo Head & Shoulders Clinical Solutions    \n",
       "4                         Shampoo Head & Shoulders 2 En 1 Limp Renovadora 1lt (2pack)   \n",
       "5                        Shampoo Head & Shoulders Clinical Solutions Formula Renovada   \n",
       "6                        Shampoo Head & Shoulders Men Con Fragancia Old Spice 1 Litro   \n",
       "7                                   576 Sobres/10ml. Shampoo Head & Shoulder Hotelero   \n",
       "8                                 Shampoo Head & Shoulder Hotelero 288 Sobres De 10ml   \n",
       "9  Shampoo 2 en 1 Head & Shoulders Suave Y Manejable en botella de 375mL por 1 unidad   \n",
       "\n",
       "   Price  \n",
       "0    159  \n",
       "1    148  \n",
       "2    149  \n",
       "3    495  \n",
       "4    298  \n",
       "5    498  \n",
       "6    159  \n",
       "7   1499  \n",
       "8    875  \n",
       "9     50  "
      ]
     },
     "execution_count": 267,
     "metadata": {},
     "output_type": "execute_result"
    }
   ],
   "source": [
    "count = 0\n",
    "brand_producs = []\n",
    "brand_prices = []\n",
    "for i in range(df.__len__()):\n",
    "    if (re.search('head.', df.loc[i,'Product'], flags=re.IGNORECASE)) or (re.search('h&s.', df.loc[i,'Product'], flags=re.IGNORECASE)) or (re.search('head & shoulders.', df.loc[i,'Product'], flags=re.IGNORECASE)):\n",
    "        count += 1\n",
    "        brand_producs.append(df.loc[i,'Product'])\n",
    "        brand_prices.append(df.loc[i,'Price'])\n",
    "print(count)\n",
    "\n",
    "brand_df = pd.DataFrame(data={'Product':brand_producs, 'Price':brand_prices})\n",
    "print(round(brand_df.Price.mean(), 2))\n",
    "brand_df.head(10)"
   ]
  },
  {
   "attachments": {},
   "cell_type": "markdown",
   "metadata": {},
   "source": [
    "----------------------------------------"
   ]
  },
  {
   "cell_type": "code",
   "execution_count": 324,
   "metadata": {},
   "outputs": [],
   "source": [
    "import pandas as pd\n",
    "import webbrowser\n",
    "import requests\n",
    "import bs4\n",
    "from IPython.display import display"
   ]
  },
  {
   "cell_type": "code",
   "execution_count": 23,
   "metadata": {},
   "outputs": [
    {
     "name": "stdout",
     "output_type": "stream",
     "text": [
      "Response status code: 200\n",
      "***************Crema Para Peinar Rizos | MercadoLibre 📦***************\n",
      "Total pages: 19\n",
      "Current page: 1\n",
      "\n",
      "\n",
      "Total products retrieved: 998\n"
     ]
    },
    {
     "data": {
      "text/html": [
       "<div>\n",
       "<style scoped>\n",
       "    .dataframe tbody tr th:only-of-type {\n",
       "        vertical-align: middle;\n",
       "    }\n",
       "\n",
       "    .dataframe tbody tr th {\n",
       "        vertical-align: top;\n",
       "    }\n",
       "\n",
       "    .dataframe thead th {\n",
       "        text-align: right;\n",
       "    }\n",
       "</style>\n",
       "<table border=\"1\" class=\"dataframe\">\n",
       "  <thead>\n",
       "    <tr style=\"text-align: right;\">\n",
       "      <th></th>\n",
       "      <th>Brand</th>\n",
       "      <th>Product</th>\n",
       "      <th>Price</th>\n",
       "      <th>Link</th>\n",
       "    </tr>\n",
       "  </thead>\n",
       "  <tbody>\n",
       "    <tr>\n",
       "      <th>0</th>\n",
       "      <td>CANTU</td>\n",
       "      <td>Crema Para Peinar Cantu Shea Butter Para Rizos 355ml</td>\n",
       "      <td>156</td>\n",
       "      <td>https://www.mercadolibre.com.mx/crema-para-peinar-cantu-shea-butter-para-rizos-355ml/p/MLM18977626?pdp_filters=category:MLM171893#searchVariation=MLM18977626&amp;position...</td>\n",
       "    </tr>\n",
       "    <tr>\n",
       "      <th>1</th>\n",
       "      <td>KOLOR SHOT</td>\n",
       "      <td>Tratamiento Profesional Rizos Definidos Kolor Shot® 250 Ml</td>\n",
       "      <td>77</td>\n",
       "      <td>https://www.mercadolibre.com.mx/tratamiento-profesional-rizos-definidos-kolor-shot-250-ml/p/MLM19876322?pdp_filters=category:MLM171893#searchVariation=MLM19876322&amp;pos...</td>\n",
       "    </tr>\n",
       "    <tr>\n",
       "      <th>2</th>\n",
       "      <td>CANTU</td>\n",
       "      <td>Crema Hidratante Activador De Rizos Cantu  12 Fl Oz/ 355 Ml</td>\n",
       "      <td>183</td>\n",
       "      <td>https://articulo.mercadolibre.com.mx/MLM-807592440-crema-hidratante-activador-de-rizos-cantu-12-fl-oz-355-ml-_JM#position=25&amp;search_layout=stack&amp;type=item&amp;tracking_id...</td>\n",
       "    </tr>\n",
       "    <tr>\n",
       "      <th>3</th>\n",
       "      <td>CANTU</td>\n",
       "      <td>Crema Para Peinar Cantu Shea Butter Para Rizos 340g</td>\n",
       "      <td>144</td>\n",
       "      <td>https://www.mercadolibre.com.mx/crema-para-peinar-cantu-shea-butter-para-rizos-340g/p/MLM18977688?pdp_filters=category:MLM171893#searchVariation=MLM18977688&amp;position=...</td>\n",
       "    </tr>\n",
       "    <tr>\n",
       "      <th>4</th>\n",
       "      <td>CANTU</td>\n",
       "      <td>Cantu Crema De Peinar Shea Butter Para Rizos 355ml</td>\n",
       "      <td>156</td>\n",
       "      <td>https://articulo.mercadolibre.com.mx/MLM-1498288314-cantu-crema-de-peinar-shea-butter-para-rizos-355ml-_JM#position=26&amp;search_layout=stack&amp;type=item&amp;tracking_id=67323...</td>\n",
       "    </tr>\n",
       "  </tbody>\n",
       "</table>\n",
       "</div>"
      ],
      "text/plain": [
       "        Brand                                                      Product  \\\n",
       "0       CANTU         Crema Para Peinar Cantu Shea Butter Para Rizos 355ml   \n",
       "1  KOLOR SHOT   Tratamiento Profesional Rizos Definidos Kolor Shot® 250 Ml   \n",
       "2       CANTU  Crema Hidratante Activador De Rizos Cantu  12 Fl Oz/ 355 Ml   \n",
       "3       CANTU          Crema Para Peinar Cantu Shea Butter Para Rizos 340g   \n",
       "4       CANTU           Cantu Crema De Peinar Shea Butter Para Rizos 355ml   \n",
       "\n",
       "   Price  \\\n",
       "0    156   \n",
       "1     77   \n",
       "2    183   \n",
       "3    144   \n",
       "4    156   \n",
       "\n",
       "                                                                                                                                                                        Link  \n",
       "0  https://www.mercadolibre.com.mx/crema-para-peinar-cantu-shea-butter-para-rizos-355ml/p/MLM18977626?pdp_filters=category:MLM171893#searchVariation=MLM18977626&position...  \n",
       "1  https://www.mercadolibre.com.mx/tratamiento-profesional-rizos-definidos-kolor-shot-250-ml/p/MLM19876322?pdp_filters=category:MLM171893#searchVariation=MLM19876322&pos...  \n",
       "2  https://articulo.mercadolibre.com.mx/MLM-807592440-crema-hidratante-activador-de-rizos-cantu-12-fl-oz-355-ml-_JM#position=25&search_layout=stack&type=item&tracking_id...  \n",
       "3  https://www.mercadolibre.com.mx/crema-para-peinar-cantu-shea-butter-para-rizos-340g/p/MLM18977688?pdp_filters=category:MLM171893#searchVariation=MLM18977688&position=...  \n",
       "4  https://articulo.mercadolibre.com.mx/MLM-1498288314-cantu-crema-de-peinar-shea-butter-para-rizos-355ml-_JM#position=26&search_layout=stack&type=item&tracking_id=67323...  "
      ]
     },
     "metadata": {},
     "output_type": "display_data"
    }
   ],
   "source": [
    "search = input('Insert your search:')\n",
    "url = 'https://listado.mercadolibre.com.mx/{}#D[A:{}]'.format(search.replace(' ','-'), search)\n",
    "request = requests.get(url)\n",
    "print(f'Response status code: {request.status_code}')\n",
    "content = request.text\n",
    "soup = bs4.BeautifulSoup(content, 'html.parser') # HTML document\n",
    "\n",
    "total_pages = int(soup.find_all(\"div\", {\"class\":\"ui-search-pagination shops__pagination-content\"})[0].find(class_=\"andes-pagination__page-count\").text.replace(\"de \",\"\"))\n",
    "current_page = soup.find_all(\"div\", {\"class\":\"ui-search-pagination shops__pagination-content\"})[0].find(\"li\").text # See actual page\n",
    "print(f'***************{soup.title.text}***************')\n",
    "print('Total pages: {}'.format(total_pages))\n",
    "print('Current page: {}\\n\\n'.format(current_page))\n",
    "\n",
    "brands = []\n",
    "products = []\n",
    "prices = []\n",
    "scores = []\n",
    "comments = []\n",
    "links = []\n",
    "\n",
    "for page in range(1,total_pages+1):\n",
    "\n",
    "    if page == 1:\n",
    "        url_page = 'https://listado.mercadolibre.com.mx/{}_NoIndex_True'.format(search.replace(' ','-'))\n",
    "        request_page = requests.get(url_page)\n",
    "        content_page = request_page.text\n",
    "        soup_page = bs4.BeautifulSoup(content_page, 'html.parser')\n",
    "        tag_filter_page = soup_page.find_all(\"div\", {\"class\":\"ui-search-result__content-wrapper shops__result-content-wrapper\"})\n",
    "\n",
    "        for tag in tag_filter_page:\n",
    "            brands.append(tag.find(class_=\"ui-search-item__brand-discoverability ui-search-item__group__element shops__items-group-details\").text)\n",
    "            products.append(tag.find(\"h2\").text)\n",
    "            prices.append(tag.find(class_=\"price-tag-fraction\").text)\n",
    "            links.append(tag.find(\"a\")[\"href\"])\n",
    "\n",
    "    else:\n",
    "        url_page = 'https://listado.mercadolibre.com.mx/{}_Desde_{}_NoIndex_True'.format(search.replace(' ','-'),(page*50)+1)\n",
    "        request_page = requests.get(url_page)\n",
    "        content_page = request_page.text\n",
    "        soup_page = bs4.BeautifulSoup(content_page, 'html.parser')\n",
    "        tag_filter_page = soup_page.find_all(\"div\", {\"class\":\"ui-search-result__content-wrapper shops__result-content-wrapper\"})\n",
    "\n",
    "        for tag in tag_filter_page:\n",
    "            brands.append(tag.find(class_=\"ui-search-item__brand-discoverability ui-search-item__group__element shops__items-group-details\").text)\n",
    "            products.append(tag.find(\"h2\").text)\n",
    "            prices.append(tag.find(class_=\"price-tag-fraction\").text)\n",
    "            links.append(tag.find(\"a\")[\"href\"])\n",
    "        \n",
    "\n",
    "data = {}\n",
    "data[\"Brand\"] = brands\n",
    "data['Product'] = products\n",
    "data['Price'] = prices\n",
    "'''data['Score'] = scores\n",
    "data['Comentarios'] = comments'''\n",
    "data[\"Link\"] = links\n",
    "\n",
    "df = pd.DataFrame(data = data)\n",
    "df = df.drop_duplicates(ignore_index=True)\n",
    "df['Brand'] = df['Brand'].apply(lambda x: \"-\" if x == '' else x)\n",
    "df['Price'] = df['Price'].apply(lambda x: x.replace(\",\",\"\"))\n",
    "df['Price'] = df['Price'].astype(int)\n",
    "print('Total products retrieved: {}'.format(df.shape[0]))\n",
    "display(df.head())"
   ]
  },
  {
   "cell_type": "code",
   "execution_count": 520,
   "metadata": {},
   "outputs": [
    {
     "name": "stdout",
     "output_type": "stream",
     "text": [
      "Response status code: 200\n",
      "Total pages: []\n",
      "Iphone 3 | MercadoLibre 📦\n"
     ]
    }
   ],
   "source": [
    "request_ = requests.get('https://listado.mercadolibre.com.mx/iphone-3#D[A:iphone%203]')\n",
    "print(f'Response status code: {request_.status_code}')\n",
    "content_ = request_.text\n",
    "soup_ = bs4.BeautifulSoup(content_, 'html.parser') # HTML document\n",
    "total_pages = soup_.find_all(\"div\", {\"class\":\"ui-search-pagination shops__pagination-content\"})#[0].find(class_=\"andes-pagination__page-count\").text.replace(\"de \",\"\"))\n",
    "print('Total pages: {}'.format(total_pages))\n",
    "print(soup_.title.text)"
   ]
  },
  {
   "cell_type": "code",
   "execution_count": 527,
   "metadata": {},
   "outputs": [
    {
     "data": {
      "text/plain": [
       "0"
      ]
     },
     "execution_count": 527,
     "metadata": {},
     "output_type": "execute_result"
    }
   ],
   "source": [
    "soup_.find_all(\"div\", {\"class\":\"ui-search-pagination shops__pagination-content\"}).__len__()"
   ]
  },
  {
   "cell_type": "code",
   "execution_count": 441,
   "metadata": {},
   "outputs": [
    {
     "data": {
      "text/plain": [
       "[<article aria-roledescription=\"Review\" class=\"ui-review-capability-comments__comment\" data-testid=\"comment-component\"><div class=\"ui-review-capability-comments__comment__header\"><div class=\"ui-review-capability-comments__comment__rating-container\"><div class=\"ui-review-capability-comments__comment__rating\"><svg aria-hidden=\"true\" class=\"ui-review-capability-comments__comment__rating__star\" height=\"16\" viewbox=\"0 0 10 10\" width=\"16.8\"><path d=\"M5.056 8L1.931 9.648l.597-3.49L0 3.684l3.494-.509L5.056 0l1.562 3.176 3.494.51-2.528 2.471.597 3.491z\" fill=\"#3483FA\" fill-rule=\"evenodd\"></path></svg><svg aria-hidden=\"true\" class=\"ui-review-capability-comments__comment__rating__star\" height=\"16\" viewbox=\"0 0 10 10\" width=\"16.8\"><path d=\"M5.056 8L1.931 9.648l.597-3.49L0 3.684l3.494-.509L5.056 0l1.562 3.176 3.494.51-2.528 2.471.597 3.491z\" fill=\"#3483FA\" fill-rule=\"evenodd\"></path></svg><svg aria-hidden=\"true\" class=\"ui-review-capability-comments__comment__rating__star\" height=\"16\" viewbox=\"0 0 10 10\" width=\"16.8\"><path d=\"M5.056 8L1.931 9.648l.597-3.49L0 3.684l3.494-.509L5.056 0l1.562 3.176 3.494.51-2.528 2.471.597 3.491z\" fill=\"#3483FA\" fill-rule=\"evenodd\"></path></svg><svg aria-hidden=\"true\" class=\"ui-review-capability-comments__comment__rating__star\" height=\"16\" viewbox=\"0 0 10 10\" width=\"16.8\"><path d=\"M5.056 8L1.931 9.648l.597-3.49L0 3.684l3.494-.509L5.056 0l1.562 3.176 3.494.51-2.528 2.471.597 3.491z\" fill=\"#3483FA\" fill-rule=\"evenodd\"></path></svg><svg aria-hidden=\"true\" class=\"ui-review-capability-comments__comment__rating__star\" height=\"16\" viewbox=\"0 0 10 10\" width=\"16.8\"><path d=\"M5.056 8L1.931 9.648l.597-3.49L0 3.684l3.494-.509L5.056 0l1.562 3.176 3.494.51-2.528 2.471.597 3.491z\" fill=\"#3483FA\" fill-rule=\"evenodd\"></path></svg><label class=\"andes-visually-hidden\">5</label></div><span class=\"ui-review-capability-comments__comment__date\">16 dic 2021</span></div></div><p class=\"ui-review-capability-comments__comment__content\" data-testid=\"comment-content-component\" role=\"presentation\">Producto relativamente caro , pero hace muy bien su trabajo , se ve la diferencia en el cabello desde el primer uso, y con el uso continuo sin duda elimina el problema de la caspa , muy recomendado.</p><div class=\"ui-review-capability-comments__comment__footer\"><div class=\"ui-review-capability-valorizations\"><button active=\"true\" aria-checked=\"false\" aria-label=\"3 likes\" class=\"andes-button ui-review-capability-valorizations__button ui-review-capability-valorizations__button-like andes-button--large andes-button--transparent\" data-testid=\"like-button\" role=\"switch\" type=\"button\"><span class=\"andes-button__content\"><span class=\"ui-review-capability-valorizations__button-like__text\">Es útil</span><svg class=\"[object Object]\" fill=\"none\" height=\"16\" viewbox=\"0 0 16 16\" width=\"16\" xmlns=\"http://www.w3.org/2000/svg\"><path clip-rule=\"evenodd\" d=\"M5.02125 6.25775L5.87824 5.91279L8.37994 0.751802L9.40301 1.24803C10.7777 1.91481 11.4317 3.50825 10.9218 4.94852L10.6452 5.72977L13.4447 5.69542C13.737 5.69184 14.0274 5.74166 14.3018 5.84245C15.546 6.29952 16.184 7.67866 15.727 8.92284L14.5609 12.0968C13.8627 13.9974 11.9079 15.1293 9.91198 14.7887L6.35827 14.1822L5.11866 14.1974L5.13337 15.3972L0.984325 15.4481L0.859204 5.24885L5.00825 5.19795L5.02125 6.25775ZM6.75603 6.85303L8.93573 2.3563C9.72188 2.77187 10.0895 3.7038 9.79057 4.54802L8.93988 6.95078L13.4594 6.89533C13.6056 6.89354 13.7508 6.91845 13.888 6.96885C14.5101 7.19738 14.8291 7.88695 14.6006 8.50904L13.4345 11.683C12.9358 13.0406 11.5395 13.8491 10.1139 13.6058L6.50639 12.9901L6.39809 12.9816L5.10394 12.9975L5.03705 7.54496L6.75603 6.85303ZM3.91858 14.212L2.16951 14.2334L2.07383 6.43404L3.82306 6.41258L3.91858 14.212Z\" fill=\"black\" fill-opacity=\"0.55\" fill-rule=\"evenodd\"></path></svg><p class=\"ui-review-capability-valorizations__button-like__text\">3</p></span></button><button aria-checked=\"false\" aria-label=\"undefined dislikes\" class=\"andes-button ui-review-capability-valorizations__button ui-review-capability-valorizations__button-dislike andes-button--large andes-button--transparent\" data-testid=\"dislike-button\" role=\"switch\" type=\"button\"><span class=\"andes-button__content\"><svg class=\"ui-review-capability-valorizations__likes__dislike\" fill=\"none\" height=\"15\" viewbox=\"0 0 16 15\" width=\"16\" xmlns=\"http://www.w3.org/2000/svg\"><path clip-rule=\"evenodd\" d=\"M4.28509 9.57387L5.15029 9.89771L7.77783 14.9958L8.78843 14.4746C10.1464 13.7743 10.7611 12.1653 10.2159 10.738L9.92027 9.96373L12.7198 9.92939C13.0121 9.9258 13.3012 9.86887 13.573 9.76138C14.8056 9.27393 15.4097 7.87955 14.9222 6.64695L13.6787 3.50252C12.934 1.61963 10.952 0.536042 8.96507 0.925534L5.42731 1.61902L4.18769 1.63423L4.17298 0.434452L0.0239258 0.485352L0.149047 10.6846L4.2981 10.6337L4.28509 9.57387ZM6.00474 8.93622L8.2941 13.3781C9.06982 12.9434 9.41444 12.0027 9.09492 11.1661L8.18554 8.78492L12.7051 8.72948C12.8512 8.72768 12.9958 8.69921 13.1317 8.64547C13.748 8.40175 14.05 7.70456 13.8063 7.08826L12.5628 3.94383C12.0309 2.59891 10.6152 1.82491 9.19591 2.10312L5.60462 2.8071L5.49657 2.81826L4.20241 2.83414L4.2693 8.28666L6.00474 8.93622ZM2.98762 1.64908L1.23856 1.67054L1.33424 9.46994L3.08347 9.44848L2.98762 1.64908Z\" fill=\"black\" fill-opacity=\"0.55\" fill-rule=\"evenodd\"></path></svg></span></button></div><div class=\"ui-review-capability-comments__review-comment__denounce\" data-testid=\"denounce-button\"><div class=\"andes-tooltip__trigger\"><button class=\"ui-review-capability-comments__review-comment__denounce-button\" data-testid=\"denounce-button-vpp\"><span class=\"andes-visually-hidden\" role=\"button\">Reportar</span><span class=\"denounce-dropdown__circle\"></span><span class=\"denounce-dropdown__circle\"></span><span class=\"denounce-dropdown__circle\"></span></button></div></div></div></article>,\n",
       " <article aria-roledescription=\"Review\" class=\"ui-review-capability-comments__comment\" data-testid=\"comment-component\"><div class=\"ui-review-capability-comments__comment__header\"><div class=\"ui-review-capability-comments__comment__rating-container\"><div class=\"ui-review-capability-comments__comment__rating\"><svg aria-hidden=\"true\" class=\"ui-review-capability-comments__comment__rating__star\" height=\"16\" viewbox=\"0 0 10 10\" width=\"16.8\"><path d=\"M5.056 8L1.931 9.648l.597-3.49L0 3.684l3.494-.509L5.056 0l1.562 3.176 3.494.51-2.528 2.471.597 3.491z\" fill=\"#3483FA\" fill-rule=\"evenodd\"></path></svg><svg aria-hidden=\"true\" class=\"ui-review-capability-comments__comment__rating__star\" height=\"16\" viewbox=\"0 0 10 10\" width=\"16.8\"><path d=\"M5.056 8L1.931 9.648l.597-3.49L0 3.684l3.494-.509L5.056 0l1.562 3.176 3.494.51-2.528 2.471.597 3.491z\" fill=\"#3483FA\" fill-rule=\"evenodd\"></path></svg><svg aria-hidden=\"true\" class=\"ui-review-capability-comments__comment__rating__star\" height=\"16\" viewbox=\"0 0 10 10\" width=\"16.8\"><path d=\"M5.056 8L1.931 9.648l.597-3.49L0 3.684l3.494-.509L5.056 0l1.562 3.176 3.494.51-2.528 2.471.597 3.491z\" fill=\"#3483FA\" fill-rule=\"evenodd\"></path></svg><svg aria-hidden=\"true\" class=\"ui-review-capability-comments__comment__rating__star\" height=\"16\" viewbox=\"0 0 10 10\" width=\"16.8\"><path d=\"M5.056 8L1.931 9.648l.597-3.49L0 3.684l3.494-.509L5.056 0l1.562 3.176 3.494.51-2.528 2.471.597 3.491z\" fill=\"#3483FA\" fill-rule=\"evenodd\"></path></svg><svg aria-hidden=\"true\" class=\"ui-review-capability-comments__comment__rating__star\" height=\"16\" viewbox=\"0 0 10 10\" width=\"16.8\"><path d=\"M5.056 8L1.931 9.648l.597-3.49L0 3.684l3.494-.509L5.056 0l1.562 3.176 3.494.51-2.528 2.471.597 3.491z\" fill=\"#3483FA\" fill-rule=\"evenodd\"></path></svg><label class=\"andes-visually-hidden\">5</label></div><span class=\"ui-review-capability-comments__comment__date\">19 ago 2021</span></div></div><p class=\"ui-review-capability-comments__comment__content\" data-testid=\"comment-content-component\" role=\"presentation\">El precio es muy bueno, excelente, el tratamiento me ha ayudado y es el único que me ayudado de verdad, tengo cabello rizado y la resequedad es un martirio, aunado a la caspa. Muy bien producto.</p><div class=\"ui-review-capability-comments__comment__footer\"><div class=\"ui-review-capability-valorizations\"><button active=\"true\" aria-checked=\"false\" aria-label=\"2 likes\" class=\"andes-button ui-review-capability-valorizations__button ui-review-capability-valorizations__button-like andes-button--large andes-button--transparent\" data-testid=\"like-button\" role=\"switch\" type=\"button\"><span class=\"andes-button__content\"><span class=\"ui-review-capability-valorizations__button-like__text\">Es útil</span><svg class=\"[object Object]\" fill=\"none\" height=\"16\" viewbox=\"0 0 16 16\" width=\"16\" xmlns=\"http://www.w3.org/2000/svg\"><path clip-rule=\"evenodd\" d=\"M5.02125 6.25775L5.87824 5.91279L8.37994 0.751802L9.40301 1.24803C10.7777 1.91481 11.4317 3.50825 10.9218 4.94852L10.6452 5.72977L13.4447 5.69542C13.737 5.69184 14.0274 5.74166 14.3018 5.84245C15.546 6.29952 16.184 7.67866 15.727 8.92284L14.5609 12.0968C13.8627 13.9974 11.9079 15.1293 9.91198 14.7887L6.35827 14.1822L5.11866 14.1974L5.13337 15.3972L0.984325 15.4481L0.859204 5.24885L5.00825 5.19795L5.02125 6.25775ZM6.75603 6.85303L8.93573 2.3563C9.72188 2.77187 10.0895 3.7038 9.79057 4.54802L8.93988 6.95078L13.4594 6.89533C13.6056 6.89354 13.7508 6.91845 13.888 6.96885C14.5101 7.19738 14.8291 7.88695 14.6006 8.50904L13.4345 11.683C12.9358 13.0406 11.5395 13.8491 10.1139 13.6058L6.50639 12.9901L6.39809 12.9816L5.10394 12.9975L5.03705 7.54496L6.75603 6.85303ZM3.91858 14.212L2.16951 14.2334L2.07383 6.43404L3.82306 6.41258L3.91858 14.212Z\" fill=\"black\" fill-opacity=\"0.55\" fill-rule=\"evenodd\"></path></svg><p class=\"ui-review-capability-valorizations__button-like__text\">2</p></span></button><button aria-checked=\"false\" aria-label=\"undefined dislikes\" class=\"andes-button ui-review-capability-valorizations__button ui-review-capability-valorizations__button-dislike andes-button--large andes-button--transparent\" data-testid=\"dislike-button\" role=\"switch\" type=\"button\"><span class=\"andes-button__content\"><svg class=\"ui-review-capability-valorizations__likes__dislike\" fill=\"none\" height=\"15\" viewbox=\"0 0 16 15\" width=\"16\" xmlns=\"http://www.w3.org/2000/svg\"><path clip-rule=\"evenodd\" d=\"M4.28509 9.57387L5.15029 9.89771L7.77783 14.9958L8.78843 14.4746C10.1464 13.7743 10.7611 12.1653 10.2159 10.738L9.92027 9.96373L12.7198 9.92939C13.0121 9.9258 13.3012 9.86887 13.573 9.76138C14.8056 9.27393 15.4097 7.87955 14.9222 6.64695L13.6787 3.50252C12.934 1.61963 10.952 0.536042 8.96507 0.925534L5.42731 1.61902L4.18769 1.63423L4.17298 0.434452L0.0239258 0.485352L0.149047 10.6846L4.2981 10.6337L4.28509 9.57387ZM6.00474 8.93622L8.2941 13.3781C9.06982 12.9434 9.41444 12.0027 9.09492 11.1661L8.18554 8.78492L12.7051 8.72948C12.8512 8.72768 12.9958 8.69921 13.1317 8.64547C13.748 8.40175 14.05 7.70456 13.8063 7.08826L12.5628 3.94383C12.0309 2.59891 10.6152 1.82491 9.19591 2.10312L5.60462 2.8071L5.49657 2.81826L4.20241 2.83414L4.2693 8.28666L6.00474 8.93622ZM2.98762 1.64908L1.23856 1.67054L1.33424 9.46994L3.08347 9.44848L2.98762 1.64908Z\" fill=\"black\" fill-opacity=\"0.55\" fill-rule=\"evenodd\"></path></svg></span></button></div><div class=\"ui-review-capability-comments__review-comment__denounce\" data-testid=\"denounce-button\"><div class=\"andes-tooltip__trigger\"><button class=\"ui-review-capability-comments__review-comment__denounce-button\" data-testid=\"denounce-button-vpp\"><span class=\"andes-visually-hidden\" role=\"button\">Reportar</span><span class=\"denounce-dropdown__circle\"></span><span class=\"denounce-dropdown__circle\"></span><span class=\"denounce-dropdown__circle\"></span></button></div></div></div></article>,\n",
       " <article aria-roledescription=\"Review\" class=\"ui-review-capability-comments__comment\" data-testid=\"comment-component\"><div class=\"ui-review-capability-comments__comment__header\"><div class=\"ui-review-capability-comments__comment__rating-container\"><div class=\"ui-review-capability-comments__comment__rating\"><svg aria-hidden=\"true\" class=\"ui-review-capability-comments__comment__rating__star\" height=\"16\" viewbox=\"0 0 10 10\" width=\"16.8\"><path d=\"M5.056 8L1.931 9.648l.597-3.49L0 3.684l3.494-.509L5.056 0l1.562 3.176 3.494.51-2.528 2.471.597 3.491z\" fill=\"#3483FA\" fill-rule=\"evenodd\"></path></svg><svg aria-hidden=\"true\" class=\"ui-review-capability-comments__comment__rating__star\" height=\"16\" viewbox=\"0 0 10 10\" width=\"16.8\"><path d=\"M5.056 8L1.931 9.648l.597-3.49L0 3.684l3.494-.509L5.056 0l1.562 3.176 3.494.51-2.528 2.471.597 3.491z\" fill=\"#3483FA\" fill-rule=\"evenodd\"></path></svg><svg aria-hidden=\"true\" class=\"ui-review-capability-comments__comment__rating__star\" height=\"16\" viewbox=\"0 0 10 10\" width=\"16.8\"><path d=\"M5.056 8L1.931 9.648l.597-3.49L0 3.684l3.494-.509L5.056 0l1.562 3.176 3.494.51-2.528 2.471.597 3.491z\" fill=\"#3483FA\" fill-rule=\"evenodd\"></path></svg><svg aria-hidden=\"true\" class=\"ui-review-capability-comments__comment__rating__star\" height=\"16\" viewbox=\"0 0 10 10\" width=\"16.8\"><path d=\"M5.056 8L1.931 9.648l.597-3.49L0 3.684l3.494-.509L5.056 0l1.562 3.176 3.494.51-2.528 2.471.597 3.491z\" fill=\"#3483FA\" fill-rule=\"evenodd\"></path></svg><svg aria-hidden=\"true\" class=\"ui-review-capability-comments__comment__rating__star\" height=\"16\" viewbox=\"0 0 10 10\" width=\"16.8\"><path d=\"M5.056 8L1.931 9.648l.597-3.49L0 3.684l3.494-.509L5.056 0l1.562 3.176 3.494.51-2.528 2.471.597 3.491z\" fill=\"#3483FA\" fill-rule=\"evenodd\"></path></svg><label class=\"andes-visually-hidden\">5</label></div><span class=\"ui-review-capability-comments__comment__date\">09 dic 2022</span></div></div><p class=\"ui-review-capability-comments__comment__content\" data-testid=\"comment-content-component\" role=\"presentation\">Excelente producto cumple con lo prometido estoy tan sorprendida.</p><div class=\"ui-review-capability-comments__comment__footer\"><div class=\"ui-review-capability-valorizations\"><button active=\"true\" aria-checked=\"false\" aria-label=\"1 likes\" class=\"andes-button ui-review-capability-valorizations__button ui-review-capability-valorizations__button-like andes-button--large andes-button--transparent\" data-testid=\"like-button\" role=\"switch\" type=\"button\"><span class=\"andes-button__content\"><span class=\"ui-review-capability-valorizations__button-like__text\">Es útil</span><svg class=\"[object Object]\" fill=\"none\" height=\"16\" viewbox=\"0 0 16 16\" width=\"16\" xmlns=\"http://www.w3.org/2000/svg\"><path clip-rule=\"evenodd\" d=\"M5.02125 6.25775L5.87824 5.91279L8.37994 0.751802L9.40301 1.24803C10.7777 1.91481 11.4317 3.50825 10.9218 4.94852L10.6452 5.72977L13.4447 5.69542C13.737 5.69184 14.0274 5.74166 14.3018 5.84245C15.546 6.29952 16.184 7.67866 15.727 8.92284L14.5609 12.0968C13.8627 13.9974 11.9079 15.1293 9.91198 14.7887L6.35827 14.1822L5.11866 14.1974L5.13337 15.3972L0.984325 15.4481L0.859204 5.24885L5.00825 5.19795L5.02125 6.25775ZM6.75603 6.85303L8.93573 2.3563C9.72188 2.77187 10.0895 3.7038 9.79057 4.54802L8.93988 6.95078L13.4594 6.89533C13.6056 6.89354 13.7508 6.91845 13.888 6.96885C14.5101 7.19738 14.8291 7.88695 14.6006 8.50904L13.4345 11.683C12.9358 13.0406 11.5395 13.8491 10.1139 13.6058L6.50639 12.9901L6.39809 12.9816L5.10394 12.9975L5.03705 7.54496L6.75603 6.85303ZM3.91858 14.212L2.16951 14.2334L2.07383 6.43404L3.82306 6.41258L3.91858 14.212Z\" fill=\"black\" fill-opacity=\"0.55\" fill-rule=\"evenodd\"></path></svg><p class=\"ui-review-capability-valorizations__button-like__text\">1</p></span></button><button aria-checked=\"false\" aria-label=\"undefined dislikes\" class=\"andes-button ui-review-capability-valorizations__button ui-review-capability-valorizations__button-dislike andes-button--large andes-button--transparent\" data-testid=\"dislike-button\" role=\"switch\" type=\"button\"><span class=\"andes-button__content\"><svg class=\"ui-review-capability-valorizations__likes__dislike\" fill=\"none\" height=\"15\" viewbox=\"0 0 16 15\" width=\"16\" xmlns=\"http://www.w3.org/2000/svg\"><path clip-rule=\"evenodd\" d=\"M4.28509 9.57387L5.15029 9.89771L7.77783 14.9958L8.78843 14.4746C10.1464 13.7743 10.7611 12.1653 10.2159 10.738L9.92027 9.96373L12.7198 9.92939C13.0121 9.9258 13.3012 9.86887 13.573 9.76138C14.8056 9.27393 15.4097 7.87955 14.9222 6.64695L13.6787 3.50252C12.934 1.61963 10.952 0.536042 8.96507 0.925534L5.42731 1.61902L4.18769 1.63423L4.17298 0.434452L0.0239258 0.485352L0.149047 10.6846L4.2981 10.6337L4.28509 9.57387ZM6.00474 8.93622L8.2941 13.3781C9.06982 12.9434 9.41444 12.0027 9.09492 11.1661L8.18554 8.78492L12.7051 8.72948C12.8512 8.72768 12.9958 8.69921 13.1317 8.64547C13.748 8.40175 14.05 7.70456 13.8063 7.08826L12.5628 3.94383C12.0309 2.59891 10.6152 1.82491 9.19591 2.10312L5.60462 2.8071L5.49657 2.81826L4.20241 2.83414L4.2693 8.28666L6.00474 8.93622ZM2.98762 1.64908L1.23856 1.67054L1.33424 9.46994L3.08347 9.44848L2.98762 1.64908Z\" fill=\"black\" fill-opacity=\"0.55\" fill-rule=\"evenodd\"></path></svg></span></button></div><div class=\"ui-review-capability-comments__review-comment__denounce\" data-testid=\"denounce-button\"><div class=\"andes-tooltip__trigger\"><button class=\"ui-review-capability-comments__review-comment__denounce-button\" data-testid=\"denounce-button-vpp\"><span class=\"andes-visually-hidden\" role=\"button\">Reportar</span><span class=\"denounce-dropdown__circle\"></span><span class=\"denounce-dropdown__circle\"></span><span class=\"denounce-dropdown__circle\"></span></button></div></div></div></article>]"
      ]
     },
     "execution_count": 441,
     "metadata": {},
     "output_type": "execute_result"
    }
   ],
   "source": [
    "soup_.find_all('article', {\"class\":\"ui-review-capability-comments__comment\"})"
   ]
  },
  {
   "cell_type": "code",
   "execution_count": 494,
   "metadata": {},
   "outputs": [
    {
     "name": "stdout",
     "output_type": "stream",
     "text": [
      "3\n",
      "3\n"
     ]
    },
    {
     "data": {
      "text/plain": [
       "['Producto relativamente caro , pero hace muy bien su trabajo , se ve la diferencia en el cabello desde el primer uso, y con el uso continuo sin duda elimina el problema de la caspa , muy recomendado.',\n",
       " 'El precio es muy bueno, excelente, el tratamiento me ha ayudado y es el único que me ayudado de verdad, tengo cabello rizado y la resequedad es un martirio, aunado a la caspa. Muy bien producto.',\n",
       " 'Excelente producto cumple con lo prometido estoy tan sorprendida.']"
      ]
     },
     "execution_count": 494,
     "metadata": {},
     "output_type": "execute_result"
    }
   ],
   "source": [
    "v = []\n",
    "l = soup_.find_all('article', {\"class\":\"ui-review-capability-comments__comment\"}) #[2].find('p', class_=\"ui-review-capability-comments__comment__content\").text\n",
    "print(l.__len__())\n",
    "for c in l:\n",
    "    v.append(c.find('p', class_=\"ui-review-capability-comments__comment__content\").text)\n",
    "print(l.__len__())\n",
    "v"
   ]
  }
 ],
 "metadata": {
  "kernelspec": {
   "display_name": "Python 3",
   "language": "python",
   "name": "python3"
  },
  "language_info": {
   "codemirror_mode": {
    "name": "ipython",
    "version": 3
   },
   "file_extension": ".py",
   "mimetype": "text/x-python",
   "name": "python",
   "nbconvert_exporter": "python",
   "pygments_lexer": "ipython3",
   "version": "3.11.1"
  },
  "orig_nbformat": 4,
  "vscode": {
   "interpreter": {
    "hash": "af37c3268cca26f2bfaf01d13423ff37a9d7634ed8fa0992ffd17d42608d9c97"
   }
  }
 },
 "nbformat": 4,
 "nbformat_minor": 2
}
