{
 "cells": [
  {
   "attachments": {},
   "cell_type": "markdown",
   "metadata": {},
   "source": [
    "# MeLi scraping"
   ]
  },
  {
   "cell_type": "code",
   "execution_count": null,
   "metadata": {},
   "outputs": [],
   "source": [
    "#! pip install requests\n",
    "#! pip install beautifulsoup4\n",
    "#! pip install matplotlib\n",
    "#! pip install ipykernel"
   ]
  },
  {
   "cell_type": "code",
   "execution_count": 31,
   "metadata": {},
   "outputs": [],
   "source": [
    "import utils_meli\n",
    "from importlib import reload\n",
    "import pandas as pd\n",
    "import os\n",
    "import re\n",
    "from datetime import datetime\n",
    "import plotly.express as px\n",
    "\n",
    "from IPython.display import display\n",
    "pd.options.display.max_colwidth = 170\n",
    "pd.options.display.max_rows = None"
   ]
  },
  {
   "cell_type": "code",
   "execution_count": 30,
   "metadata": {},
   "outputs": [],
   "source": [
    "parent_path = r\"C:\\Users\\nicarang\\OneDrive - Publicis Groupe\\Documentos\\Digitas\\P&G\\Social Listening\\H&S\\Alaska\".replace(\"\\\\\", \"/\")"
   ]
  },
  {
   "cell_type": "code",
   "execution_count": 21,
   "metadata": {},
   "outputs": [
    {
     "data": {
      "text/plain": [
       "<module 'utils_meli' from 'c:\\\\Users\\\\nicarang\\\\OneDrive - Publicis Groupe\\\\Documentos\\\\Digitas\\\\P&G\\\\Benchmarking\\\\utils_meli.py'>"
      ]
     },
     "execution_count": 21,
     "metadata": {},
     "output_type": "execute_result"
    }
   ],
   "source": [
    "reload(utils_meli)"
   ]
  },
  {
   "cell_type": "code",
   "execution_count": 210,
   "metadata": {},
   "outputs": [
    {
     "name": "stdout",
     "output_type": "stream",
     "text": [
      "Keywords: shampoo para la caspa\n",
      "Response status code: 200\n",
      "***************Shampoo Para La Caspa | MercadoLibre 📦***************\n",
      "Total pages: 35\n",
      "Scraping page 1/35\n",
      "Scraping page 2/35\n",
      "Scraping page 3/35\n",
      "Scraping page 4/35\n",
      "Scraping page 5/35\n",
      "Scraping page 6/35\n",
      "Scraping page 7/35\n",
      "Scraping page 8/35\n",
      "Scraping page 9/35\n",
      "Scraping page 10/35\n",
      "Scraping page 11/35\n",
      "Scraping page 12/35\n",
      "Scraping page 13/35\n",
      "Scraping page 14/35\n",
      "Scraping page 15/35\n",
      "Scraping page 16/35\n",
      "Scraping page 17/35\n",
      "Scraping page 18/35\n",
      "Scraping page 19/35\n",
      "Scraping page 20/35\n",
      "Scraping page 21/35\n",
      "Scraping page 22/35\n",
      "Scraping page 23/35\n",
      "Scraping page 24/35\n",
      "Scraping page 25/35\n",
      "Scraping page 26/35\n",
      "Scraping page 27/35\n",
      "Scraping page 28/35\n",
      "Scraping page 29/35\n",
      "Scraping page 30/35\n",
      "Scraping page 31/35\n",
      "Scraping page 32/35\n",
      "Scraping page 33/35\n",
      "Scraping page 34/35\n",
      "Scraping page 35/35\n",
      "(1908, 3)\n"
     ]
    },
    {
     "data": {
      "text/html": [
       "<div>\n",
       "<style scoped>\n",
       "    .dataframe tbody tr th:only-of-type {\n",
       "        vertical-align: middle;\n",
       "    }\n",
       "\n",
       "    .dataframe tbody tr th {\n",
       "        vertical-align: top;\n",
       "    }\n",
       "\n",
       "    .dataframe thead th {\n",
       "        text-align: right;\n",
       "    }\n",
       "</style>\n",
       "<table border=\"1\" class=\"dataframe\">\n",
       "  <thead>\n",
       "    <tr style=\"text-align: right;\">\n",
       "      <th></th>\n",
       "      <th>Product</th>\n",
       "      <th>Price</th>\n",
       "      <th>Link</th>\n",
       "    </tr>\n",
       "  </thead>\n",
       "  <tbody>\n",
       "    <tr>\n",
       "      <th>0</th>\n",
       "      <td>Vichy, Dercos Shampoo Anti caspa seca</td>\n",
       "      <td>557</td>\n",
       "      <td>https://www.mercadolibre.com.mx/vichy-dercos-shampoo-anti-caspa-seca/p/MLM21758787?pdp_filters=category:MLM430117#searchVariation=MLM21758787&amp;position=1&amp;search_layout...</td>\n",
       "    </tr>\n",
       "    <tr>\n",
       "      <th>1</th>\n",
       "      <td>Shampoo Selsun Blue Moisturizing 325ml 11oz</td>\n",
       "      <td>287</td>\n",
       "      <td>https://www.mercadolibre.com.mx/shampoo-selsun-blue-moisturizing-325ml-11oz/p/MLM19701245?pdp_filters=category:MLM430117#searchVariation=MLM19701245&amp;position=2&amp;search...</td>\n",
       "    </tr>\n",
       "    <tr>\n",
       "      <th>2</th>\n",
       "      <td>Pack X2 Shampoo Anticaspa Medicasp Ketoconazol 1g 130ml C/u</td>\n",
       "      <td>209</td>\n",
       "      <td>https://www.mercadolibre.com.mx/pack-x2-shampoo-anticaspa-medicasp-ketoconazol-1g-130ml-cu/p/MLM24288411?pdp_filters=category:MLM430117#searchVariation=MLM24288411&amp;po...</td>\n",
       "    </tr>\n",
       "  </tbody>\n",
       "</table>\n",
       "</div>"
      ],
      "text/plain": [
       "                                                        Product  Price  \\\n",
       "0                         Vichy, Dercos Shampoo Anti caspa seca    557   \n",
       "1                   Shampoo Selsun Blue Moisturizing 325ml 11oz    287   \n",
       "2   Pack X2 Shampoo Anticaspa Medicasp Ketoconazol 1g 130ml C/u    209   \n",
       "\n",
       "                                                                                                                                                                        Link  \n",
       "0  https://www.mercadolibre.com.mx/vichy-dercos-shampoo-anti-caspa-seca/p/MLM21758787?pdp_filters=category:MLM430117#searchVariation=MLM21758787&position=1&search_layout...  \n",
       "1  https://www.mercadolibre.com.mx/shampoo-selsun-blue-moisturizing-325ml-11oz/p/MLM19701245?pdp_filters=category:MLM430117#searchVariation=MLM19701245&position=2&search...  \n",
       "2  https://www.mercadolibre.com.mx/pack-x2-shampoo-anticaspa-medicasp-ketoconazol-1g-130ml-cu/p/MLM24288411?pdp_filters=category:MLM430117#searchVariation=MLM24288411&po...  "
      ]
     },
     "metadata": {},
     "output_type": "display_data"
    },
    {
     "name": "stdout",
     "output_type": "stream",
     "text": [
      "Copy made!\n",
      "Total products retrieved: 10\n"
     ]
    },
    {
     "data": {
      "text/html": [
       "<div>\n",
       "<style scoped>\n",
       "    .dataframe tbody tr th:only-of-type {\n",
       "        vertical-align: middle;\n",
       "    }\n",
       "\n",
       "    .dataframe tbody tr th {\n",
       "        vertical-align: top;\n",
       "    }\n",
       "\n",
       "    .dataframe thead th {\n",
       "        text-align: right;\n",
       "    }\n",
       "</style>\n",
       "<table border=\"1\" class=\"dataframe\">\n",
       "  <thead>\n",
       "    <tr style=\"text-align: right;\">\n",
       "      <th></th>\n",
       "      <th>Product</th>\n",
       "      <th>Price</th>\n",
       "      <th>Link</th>\n",
       "      <th>Score</th>\n",
       "      <th>Ratings</th>\n",
       "      <th>Comments</th>\n",
       "    </tr>\n",
       "  </thead>\n",
       "  <tbody>\n",
       "    <tr>\n",
       "      <th>0</th>\n",
       "      <td>Vichy, Dercos Shampoo Anti caspa seca</td>\n",
       "      <td>557</td>\n",
       "      <td>https://www.mercadolibre.com.mx/vichy-dercos-shampoo-anti-caspa-seca/p/MLM21758787?pdp_filters=category:MLM430117#searchVariation=MLM21758787&amp;position=1&amp;search_layout...</td>\n",
       "      <td>4.7</td>\n",
       "      <td>409</td>\n",
       "      <td>[Me funciono perfecto, en tan solo 2 semanas había acabado con toda mi caspa y yo sufría demasiado y es la mejor solución., Excelente producto para el control de la c...</td>\n",
       "    </tr>\n",
       "    <tr>\n",
       "      <th>1</th>\n",
       "      <td>Shampoo Selsun Blue Moisturizing 325ml 11oz</td>\n",
       "      <td>287</td>\n",
       "      <td>https://www.mercadolibre.com.mx/shampoo-selsun-blue-moisturizing-325ml-11oz/p/MLM19701245?pdp_filters=category:MLM430117#searchVariation=MLM19701245&amp;position=2&amp;search...</td>\n",
       "      <td>4.8</td>\n",
       "      <td>74</td>\n",
       "      <td>[Me encantó este shampoo había usado otras marcas por mi problema en el cuero cabelludo y al siguiente día de haber lavado mi cabello otra vez tenía costras en mi cab...</td>\n",
       "    </tr>\n",
       "    <tr>\n",
       "      <th>2</th>\n",
       "      <td>Pack X2 Shampoo Anticaspa Medicasp Ketoconazol 1g 130ml C/u</td>\n",
       "      <td>209</td>\n",
       "      <td>https://www.mercadolibre.com.mx/pack-x2-shampoo-anticaspa-medicasp-ketoconazol-1g-130ml-cu/p/MLM24288411?pdp_filters=category:MLM430117#searchVariation=MLM24288411&amp;po...</td>\n",
       "      <td>4.8</td>\n",
       "      <td>9</td>\n",
       "      <td>[Muy bueno., Aún no produce efecto, me preocupa que esté caducado o sea rellenado!.]</td>\n",
       "    </tr>\n",
       "    <tr>\n",
       "      <th>3</th>\n",
       "      <td>Sebryl Shampoo (alantoína, Clioquinol, Alquitrán De Hulla)</td>\n",
       "      <td>375</td>\n",
       "      <td>https://www.mercadolibre.com.mx/sebryl-shampoo-alantoina-clioquinol-alquitran-de-hulla/p/MLM19922799?pdp_filters=category:MLM430117#searchVariation=MLM19922799&amp;positi...</td>\n",
       "      <td>4.6</td>\n",
       "      <td>59</td>\n",
       "      <td>[Buen producto lo recomiendo lo único malo o mejor dicho el pero es que te deja el cabello horrible y ni hablar de cuánto te tira en cada lavada por lo mismo pero el ...</td>\n",
       "    </tr>\n",
       "    <tr>\n",
       "      <th>4</th>\n",
       "      <td>1152 Pzs/10ml. Shampoo Hotelero Palmolive Optims En Sobres</td>\n",
       "      <td>1669</td>\n",
       "      <td>https://articulo.mercadolibre.com.mx/MLM-871879796-1152-pzs10ml-shampoo-hotelero-palmolive-optims-en-sobres-_JM#position=33&amp;search_layout=stack&amp;type=item&amp;tracking_id=...</td>\n",
       "      <td>4.7</td>\n",
       "      <td>41</td>\n",
       "      <td>[El producto es bueno, la calidad acordé al precio., Si es palmolive todo super bien., Una buena opción para airbnb.]</td>\n",
       "    </tr>\n",
       "  </tbody>\n",
       "</table>\n",
       "</div>"
      ],
      "text/plain": [
       "                                                        Product  Price  \\\n",
       "0                         Vichy, Dercos Shampoo Anti caspa seca    557   \n",
       "1                   Shampoo Selsun Blue Moisturizing 325ml 11oz    287   \n",
       "2   Pack X2 Shampoo Anticaspa Medicasp Ketoconazol 1g 130ml C/u    209   \n",
       "3    Sebryl Shampoo (alantoína, Clioquinol, Alquitrán De Hulla)    375   \n",
       "4    1152 Pzs/10ml. Shampoo Hotelero Palmolive Optims En Sobres   1669   \n",
       "\n",
       "                                                                                                                                                                        Link  \\\n",
       "0  https://www.mercadolibre.com.mx/vichy-dercos-shampoo-anti-caspa-seca/p/MLM21758787?pdp_filters=category:MLM430117#searchVariation=MLM21758787&position=1&search_layout...   \n",
       "1  https://www.mercadolibre.com.mx/shampoo-selsun-blue-moisturizing-325ml-11oz/p/MLM19701245?pdp_filters=category:MLM430117#searchVariation=MLM19701245&position=2&search...   \n",
       "2  https://www.mercadolibre.com.mx/pack-x2-shampoo-anticaspa-medicasp-ketoconazol-1g-130ml-cu/p/MLM24288411?pdp_filters=category:MLM430117#searchVariation=MLM24288411&po...   \n",
       "3  https://www.mercadolibre.com.mx/sebryl-shampoo-alantoina-clioquinol-alquitran-de-hulla/p/MLM19922799?pdp_filters=category:MLM430117#searchVariation=MLM19922799&positi...   \n",
       "4  https://articulo.mercadolibre.com.mx/MLM-871879796-1152-pzs10ml-shampoo-hotelero-palmolive-optims-en-sobres-_JM#position=33&search_layout=stack&type=item&tracking_id=...   \n",
       "\n",
       "   Score  Ratings  \\\n",
       "0    4.7      409   \n",
       "1    4.8       74   \n",
       "2    4.8        9   \n",
       "3    4.6       59   \n",
       "4    4.7       41   \n",
       "\n",
       "                                                                                                                                                                    Comments  \n",
       "0  [Me funciono perfecto, en tan solo 2 semanas había acabado con toda mi caspa y yo sufría demasiado y es la mejor solución., Excelente producto para el control de la c...  \n",
       "1  [Me encantó este shampoo había usado otras marcas por mi problema en el cuero cabelludo y al siguiente día de haber lavado mi cabello otra vez tenía costras en mi cab...  \n",
       "2                                                                                       [Muy bueno., Aún no produce efecto, me preocupa que esté caducado o sea rellenado!.]  \n",
       "3  [Buen producto lo recomiendo lo único malo o mejor dicho el pero es que te deja el cabello horrible y ni hablar de cuánto te tira en cada lavada por lo mismo pero el ...  \n",
       "4                                                      [El producto es bueno, la calidad acordé al precio., Si es palmolive todo super bien., Una buena opción para airbnb.]  "
      ]
     },
     "metadata": {},
     "output_type": "display_data"
    }
   ],
   "source": [
    "# 30 min aprox.\n",
    "reload(utils_meli)\n",
    "df = utils_meli.load_html_search()"
   ]
  },
  {
   "cell_type": "code",
   "execution_count": 214,
   "metadata": {},
   "outputs": [
    {
     "data": {
      "text/plain": [
       "['El producto es bueno, la calidad acordé al precio.',\n",
       " 'Si es palmolive todo super bien.',\n",
       " 'Una buena opción para airbnb.']"
      ]
     },
     "execution_count": 214,
     "metadata": {},
     "output_type": "execute_result"
    }
   ],
   "source": [
    "df.loc[4,'Comments']"
   ]
  },
  {
   "cell_type": "code",
   "execution_count": 207,
   "metadata": {},
   "outputs": [],
   "source": [
    "utils_meli.open_link(df,3)"
   ]
  },
  {
   "cell_type": "code",
   "execution_count": 198,
   "metadata": {},
   "outputs": [
    {
     "data": {
      "text/plain": [
       "Product                                                                                                                Shampoo Alquitran De Hulla Control Psoriasis Y Caspa 20 Litros\n",
       "Price                                                                                                                                                                            1417\n",
       "Link        https://click1.mercadolibre.com.mx/mclics/clicks/external/MLM/count?a=U71QWto3RiOh3HEdIjhmiILN7Gyv9qLpzPgUiXPxqTKQOxpKuO2b71PfjNARryA6pytwAOoK4MeIkd%2B5BJeEptLMb3%2By...\n",
       "Score                                                                                                                                                                             4.9\n",
       "Ratings                                                                                                                                                                            14\n",
       "Comments                                                                                                                                                        [Excelente producto.]\n",
       "Name: 8, dtype: object"
      ]
     },
     "metadata": {},
     "output_type": "display_data"
    },
    {
     "data": {
      "text/plain": [
       "Product                                                                                                                                                    Shampoo Nizoral Anticaspa \n",
       "Price                                                                                                                                                                             437\n",
       "Link        https://www.mercadolibre.com.mx/shampoo-nizoral-anticaspa/p/MLM19870375?pdp_filters=category:MLM430117#searchVariation=MLM19870375&position=11&search_layout=stack&typ...\n",
       "Score                                                                                                                                                                             4.6\n",
       "Ratings                                                                                                                                                                            16\n",
       "Comments                                                                                 [Excelente producto, su aroma es agradable, hace demasiada espuma con tan poquito producto.]\n",
       "Name: 14, dtype: object"
      ]
     },
     "metadata": {},
     "output_type": "display_data"
    },
    {
     "data": {
      "text/plain": [
       "Product                                                                                                                  Shampoo Gel Neutrogena T/gel  Fórmula Original Pak 2 (250ml)\n",
       "Price                                                                                                                                                                             735\n",
       "Link        https://articulo.mercadolibre.com.mx/MLM-1425050167-shampoo-gel-neutrogena-tgel-formula-original-pak-2-250ml-_JM#position=40&search_layout=stack&type=item&tracking_id...\n",
       "Score                                                                                                                                                                             4.8\n",
       "Ratings                                                                                                                                                                           130\n",
       "Comments                              [Se lo compré a mi hijo que tiene psoriasis y le ha resultado excelente desde la primera vez que lo uso son dos así que espero le duren mucho.]\n",
       "Name: 21, dtype: object"
      ]
     },
     "metadata": {},
     "output_type": "display_data"
    },
    {
     "data": {
      "text/plain": [
       "Product                                                                                                                                             Alquisalic/ Shampo Antiseborreico\n",
       "Price                                                                                                                                                                             281\n",
       "Link        https://www.mercadolibre.com.mx/alquisalic-shampo-antiseborreico/p/MLM20664270?pdp_filters=category:MLM430117#searchVariation=MLM20664270&position=18&search_layout=st...\n",
       "Score                                                                                                                                                                             4.1\n",
       "Ratings                                                                                                                                                                            23\n",
       "Comments                                                                                                                                                        [Excelente producto.]\n",
       "Name: 27, dtype: object"
      ]
     },
     "metadata": {},
     "output_type": "display_data"
    },
    {
     "data": {
      "text/plain": [
       "Product                                                                                                                                             Dermoscalp Shampo Anticaspa 100ml\n",
       "Price                                                                                                                                                                             416\n",
       "Link        https://www.mercadolibre.com.mx/dermoscalp-shampo-anticaspa-100ml/p/MLM19809684?pdp_filters=category:MLM430117#searchVariation=MLM19809684&position=28&search_layout=s...\n",
       "Score                                                                                                                                                                             4.9\n",
       "Ratings                                                                                                                                                                            34\n",
       "Comments                                   [Excelente producto mi dermatóloga me lo recetó, con ningún shampoo se controlaba mi caspa y con este se me controlo como en mes y medio.]\n",
       "Name: 42, dtype: object"
      ]
     },
     "metadata": {},
     "output_type": "display_data"
    },
    {
     "data": {
      "text/plain": [
       "Product                                                                                                                         Shampoo Sin Sal Para Control De Caspa Nefertiti 300ml\n",
       "Price                                                                                                                                                                              62\n",
       "Link        https://www.mercadolibre.com.mx/shampoo-sin-sal-para-control-de-caspa-nefertiti-300ml/p/MLM19508795?pdp_filters=category:MLM430117#searchVariation=MLM19508795&positio...\n",
       "Score                                                                                                                                                                             4.4\n",
       "Ratings                                                                                                                                                                             9\n",
       "Comments                                [Excelente, es mas barato que encontré, lo utilizo después del tratamiento de keratina, y huele delicioso y deja el cabello libre de grasa,.]\n",
       "Name: 45, dtype: object"
      ]
     },
     "metadata": {},
     "output_type": "display_data"
    },
    {
     "data": {
      "text/plain": [
       "Product                                                                                                 Shampoo Neutrogena T/Gel Shampoo Terapéutico en botella de 473mL por 1 unidad\n",
       "Price                                                                                                                                                                             670\n",
       "Link        https://www.mercadolibre.com.mx/shampoo-neutrogena-tgel-shampoo-terapeutico-en-botella-de-473ml-por-1-unidad/p/MLM19518222?pdp_filters=category:MLM430117#searchVariat...\n",
       "Score                                                                                                                                                                             4.9\n",
       "Ratings                                                                                                                                                                           135\n",
       "Comments    [Quita la caspa con una eficacia del 100%, pero te deja el pelo como si fueran ramas de árboles, muy seco y muy poco flexible, no sé qué onda. Pero el objetivo de qui...\n",
       "Name: 46, dtype: object"
      ]
     },
     "metadata": {},
     "output_type": "display_data"
    },
    {
     "data": {
      "text/plain": [
       "Product                                                                                                                   Uriage Ds Hair Shampoo Anti-caspa Regulador  Calmante 200ml\n",
       "Price                                                                                                                                                                             415\n",
       "Link        https://www.mercadolibre.com.mx/uriage-ds-hair-shampoo-anti-caspa-regulador-calmante-200ml/p/MLM19702565?pdp_filters=category:MLM430117#searchVariation=MLM19702565&po...\n",
       "Score                                                                                                                                                                             5.0\n",
       "Ratings                                                                                                                                                                             8\n",
       "Comments                                                                                                                                                        [Excelente producto.]\n",
       "Name: 52, dtype: object"
      ]
     },
     "metadata": {},
     "output_type": "display_data"
    },
    {
     "data": {
      "text/plain": [
       "Product                                                                                                                              2 Pirizinic Shampoo Antiseborreico Envio Gratis \n",
       "Price                                                                                                                                                                             539\n",
       "Link        https://click1.mercadolibre.com.mx/mclics/clicks/external/MLM/count?a=EHzqql17Wo4mDfzEkj%2Bh4cj%2BzBlWRVmzBAiGDaU%2FkV2lxrLa%2FtRK1i6nZxFRg%2FF%2FWzuPZFO%2BIRyGNK3Md%...\n",
       "Score                                                                                                                                                                             4.6\n",
       "Ratings                                                                                                                                                                            20\n",
       "Comments                                                                                                                                                        [Excelente producto.]\n",
       "Name: 55, dtype: object"
      ]
     },
     "metadata": {},
     "output_type": "display_data"
    },
    {
     "data": {
      "text/plain": [
       "Product                                                                                                                  Shampoo Gel Neutrogena T/gel  Fórmula Original Pak 2 (250ml)\n",
       "Price                                                                                                                                                                             735\n",
       "Link        https://click1.mercadolibre.com.mx/mclics/clicks/external/MLM/count?a=sNyJaVmuJviM3Qc71t41izo3Jf7c%2B4IZYC7ZFyKu8H5bH5PB0nMMbJgCUPvuRQTfe%2BHA3qSbIhgeNn4H725nkQdsv0jZ...\n",
       "Score                                                                                                                                                                             4.8\n",
       "Ratings                                                                                                                                                                           130\n",
       "Comments                              [Se lo compré a mi hijo que tiene psoriasis y le ha resultado excelente desde la primera vez que lo uso son dos así que espero le duren mucho.]\n",
       "Name: 56, dtype: object"
      ]
     },
     "metadata": {},
     "output_type": "display_data"
    },
    {
     "data": {
      "text/plain": [
       "Product                                                                                                                  Sebstopp Shampoo Alquitrán De Hulla Control Psoriasis /caspa\n",
       "Price                                                                                                                                                                             325\n",
       "Link        https://www.mercadolibre.com.mx/sebstopp-shampoo-alquitran-de-hulla-control-psoriasis-caspa/p/MLM19809651?pdp_filters=category:MLM430117#searchVariation=MLM19809651&p...\n",
       "Score                                                                                                                                                                             5.0\n",
       "Ratings                                                                                                                                                                             6\n",
       "Comments                                                                                 [Ya lo había usado anteriormente y es un excelente producto 😍😍lo recomiendo ampliamente 🤗🤗.]\n",
       "Name: 59, dtype: object"
      ]
     },
     "metadata": {},
     "output_type": "display_data"
    },
    {
     "data": {
      "text/plain": [
       "Product                                                                                                                                  Tiniazol Shampoo Alopecia Seborrea Y/o Caspa\n",
       "Price                                                                                                                                                                              49\n",
       "Link        https://www.mercadolibre.com.mx/tiniazol-shampoo-alopecia-seborrea-yo-caspa/p/MLM19505006?pdp_filters=category:MLM430117#searchVariation=MLM19505006&position=7&search...\n",
       "Score                                                                                                                                                                             4.5\n",
       "Ratings                                                                                                                                                                           121\n",
       "Comments                                                                                [Ya lo había usado años atrás y la calidad del pro6 es todavía excelente. Volveré a comprar.]\n",
       "Name: 60, dtype: object"
      ]
     },
     "metadata": {},
     "output_type": "display_data"
    },
    {
     "data": {
      "text/plain": [
       "Product                                                                                                                   2 Pack Shampoo Selsun Medicated Max Strength Dandruff 325ml\n",
       "Price                                                                                                                                                                             599\n",
       "Link        https://click1.mercadolibre.com.mx/mclics/clicks/external/MLM/count?a=J9hNwbFszLz4FmD0ooX39dozNbzS%2F42Kwvfkyw17sKkoo6%2F7g0Y2kSyXDokIj4XAdTt8%2FFxnrPeRNi978D%2BgLrVG...\n",
       "Score                                                                                                                                                                             4.7\n",
       "Ratings                                                                                                                                                                            19\n",
       "Comments                                                                                                                               [Excelente, me ayudo al día de que lo use!!!.]\n",
       "Name: 62, dtype: object"
      ]
     },
     "metadata": {},
     "output_type": "display_data"
    },
    {
     "data": {
      "text/plain": [
       "Product                                                                                                                   2 Pack Shampoo Selsun Medicated Max Strength Dandruff 325ml\n",
       "Price                                                                                                                                                                             599\n",
       "Link        https://articulo.mercadolibre.com.mx/MLM-1848367155-2-pack-shampoo-selsun-medicated-max-strength-dandruff-325ml-_JM#position=36&search_layout=stack&type=item&tracking...\n",
       "Score                                                                                                                                                                             4.7\n",
       "Ratings                                                                                                                                                                            19\n",
       "Comments                                                                                                                               [Excelente, me ayudo al día de que lo use!!!.]\n",
       "Name: 70, dtype: object"
      ]
     },
     "metadata": {},
     "output_type": "display_data"
    },
    {
     "data": {
      "text/plain": [
       "Product                                                                                                                             Pack 2 Pirizinic Shampoo Antiseborreico 120ml C/u\n",
       "Price                                                                                                                                                                             459\n",
       "Link        https://articulo.mercadolibre.com.mx/MLM-1468298837-pack-2-pirizinic-shampoo-antiseborreico-120ml-cu-_JM#position=37&search_layout=stack&type=item&tracking_id=b346f42...\n",
       "Score                                                                                                                                                                             4.8\n",
       "Ratings                                                                                                                                                                             8\n",
       "Comments                                                          [Excelente producto !!! me quito la caspa !!! 100 % efectivo lo recomiendo para caspa severa de difícil control ….]\n",
       "Name: 71, dtype: object"
      ]
     },
     "metadata": {},
     "output_type": "display_data"
    },
    {
     "data": {
      "text/plain": [
       "Product                                                                                                                              2 Pirizinic Shampoo Antiseborreico Envio Gratis \n",
       "Price                                                                                                                                                                             539\n",
       "Link        https://articulo.mercadolibre.com.mx/MLM-866051592-2-pirizinic-shampoo-antiseborreico-envio-gratis-_JM#position=40&search_layout=stack&type=item&tracking_id=b346f428-...\n",
       "Score                                                                                                                                                                             4.6\n",
       "Ratings                                                                                                                                                                            20\n",
       "Comments                                                                                                                                                        [Excelente producto.]\n",
       "Name: 74, dtype: object"
      ]
     },
     "metadata": {},
     "output_type": "display_data"
    },
    {
     "data": {
      "text/plain": [
       "Product                                                                                                                    Shampoos Folcress  Antigrasa /control Caspa / 2 De 260 Ml.\n",
       "Price                                                                                                                                                                             289\n",
       "Link        https://articulo.mercadolibre.com.mx/MLM-819472207-shampoos-folcress-antigrasa-control-caspa-2-de-260-ml-_JM#position=41&search_layout=stack&type=item&tracking_id=b34...\n",
       "Score                                                                                                                                                                             5.0\n",
       "Ratings                                                                                                                                                                             3\n",
       "Comments                                                                                                                                           [Todo excelente 100% recomendado.]\n",
       "Name: 75, dtype: object"
      ]
     },
     "metadata": {},
     "output_type": "display_data"
    },
    {
     "data": {
      "text/plain": [
       "Product                                                                                                 Shampoo Neutrogena T/Gel Shampoo Terapéutico en botella de 250mL por 1 unidad\n",
       "Price                                                                                                                                                                             451\n",
       "Link        https://www.mercadolibre.com.mx/shampoo-neutrogena-tgel-shampoo-terapeutico-en-botella-de-250ml-por-1-unidad/p/MLM19518554?pdp_filters=category:MLM430117#searchVariat...\n",
       "Score                                                                                                                                                                             4.9\n",
       "Ratings                                                                                                                                                                           135\n",
       "Comments    [Quita la caspa con una eficacia del 100%, pero te deja el pelo como si fueran ramas de árboles, muy seco y muy poco flexible, no sé qué onda. Pero el objetivo de qui...\n",
       "Name: 76, dtype: object"
      ]
     },
     "metadata": {},
     "output_type": "display_data"
    },
    {
     "data": {
      "text/plain": [
       "Product                                                                                                                                                      Iraltone Ds Shampo 200ml\n",
       "Price                                                                                                                                                                             495\n",
       "Link        https://articulo.mercadolibre.com.mx/MLM-1362206778-iraltone-ds-shampo-200ml-_JM#position=45&search_layout=stack&type=item&tracking_id=b346f428-76ba-454a-a460-2e2ab0f...\n",
       "Score                                                                                                                                                                             5.0\n",
       "Ratings                                                                                                                                                                             5\n",
       "Comments                                                                                                                                 [Excelente. Resultados desde el primer día.]\n",
       "Name: 83, dtype: object"
      ]
     },
     "metadata": {},
     "output_type": "display_data"
    },
    {
     "data": {
      "text/plain": [
       "Product                                                                                                                       Shampoo Folicuré Control Caspa Hidratación 2 En 1 700ml\n",
       "Price                                                                                                                                                                              80\n",
       "Link        https://www.mercadolibre.com.mx/shampoo-folicure-control-caspa-hidratacion-2-en-1-700ml/p/MLM18977444?pdp_filters=category:MLM430117#searchVariation=MLM18977444&posit...\n",
       "Score                                                                                                                                                                             5.0\n",
       "Ratings                                                                                                                                                                             1\n",
       "Comments                                                                                                                                                        [Excelente producto.]\n",
       "Name: 89, dtype: object"
      ]
     },
     "metadata": {},
     "output_type": "display_data"
    },
    {
     "data": {
      "text/plain": [
       "Product                                                                                                                    Shampoo Head & Shoulders Control Caspa Aceite Almendra 1 L\n",
       "Price                                                                                                                                                                             189\n",
       "Link        https://articulo.mercadolibre.com.mx/MLM-922629185-shampoo-head-shoulders-control-caspa-aceite-almendra-1-l-_JM#position=50&search_layout=stack&type=item&tracking_id=...\n",
       "Score                                                                                                                                                                             4.6\n",
       "Ratings                                                                                                                                                                             5\n",
       "Comments                                                                                                                                          [Excelente producto, recomendable.]\n",
       "Name: 98, dtype: object"
      ]
     },
     "metadata": {},
     "output_type": "display_data"
    },
    {
     "data": {
      "text/plain": [
       "Product                                                              Salerm Biokera ® Shampoo Especifico Anti Caida 1000ml Regenera Detiene Caida Del Cabello Ginseng Y Ginkgo Biloba\n",
       "Price                                                                                                                                                                             599\n",
       "Link        https://www.mercadolibre.com.mx/salerm-biokera-shampoo-especifico-anti-caida-1000ml-regenera-detiene-caida-del-cabello-ginseng-y-ginkgo-biloba/p/MLM19609642?pdp_filte...\n",
       "Score                                                                                                                                                                             4.5\n",
       "Ratings                                                                                                                                                                            17\n",
       "Comments    [Excelente. Se me dejó de caer el cabello en una semana. Deja el cabello suave. Y yo lo tengo procesado y lo deja suave. En cuanto al aroma se pierde. Para mí lo impo...\n",
       "Name: 104, dtype: object"
      ]
     },
     "metadata": {},
     "output_type": "display_data"
    },
    {
     "data": {
      "text/plain": [
       "Product                                                                                                                  2 Pack Shampoo Alquitran & Creolina (caspa, Ceborrea) 500 Ml\n",
       "Price                                                                                                                                                                             187\n",
       "Link        https://articulo.mercadolibre.com.mx/MLM-849335485-2-pack-shampoo-alquitran-creolina-caspa-ceborrea-500-ml-_JM#position=56&search_layout=stack&type=item&tracking_id=1...\n",
       "Score                                                                                                                                                                             4.0\n",
       "Ratings                                                                                                                                                                            10\n",
       "Comments                                                                                    [Excelente producto me ayudado mucho con mi problema de psoriasis en el cuero cabelludo.]\n",
       "Name: 164, dtype: object"
      ]
     },
     "metadata": {},
     "output_type": "display_data"
    },
    {
     "data": {
      "text/plain": [
       "Product                                                                                                                    Shampoo 100 Pzs/10ml. Palmolive Optims Hotelero Sobrecitos\n",
       "Price                                                                                                                                                                             298\n",
       "Link        https://articulo.mercadolibre.com.mx/MLM-874977204-shampoo-100-pzs10ml-palmolive-optims-hotelero-sobrecitos-_JM#position=23&search_layout=stack&type=item&tracking_id=...\n",
       "Score                                                                                                                                                                             5.0\n",
       "Ratings                                                                                                                                                                            10\n",
       "Comments                                                     [Excelente un sobrecito rinde para 2 días mitad y mitad bueno como para hombre está bien porque como digo muy rendidor.]\n",
       "Name: 180, dtype: object"
      ]
     },
     "metadata": {},
     "output_type": "display_data"
    },
    {
     "data": {
      "text/plain": [
       "Product                                                                                                                             Uriage Ds Hair Shampoo Suave Equilibrante 200 Ml \n",
       "Price                                                                                                                                                                             352\n",
       "Link        https://www.mercadolibre.com.mx/uriage-ds-hair-shampoo-suave-equilibrante-200-ml/p/MLM19588308?pdp_filters=category:MLM430117#searchVariation=MLM19588308&position=8&s...\n",
       "Score                                                                                                                                                                             5.0\n",
       "Ratings                                                                                                                                                                             3\n",
       "Comments                                                                                                                                                        [Excelente producto.]\n",
       "Name: 182, dtype: object"
      ]
     },
     "metadata": {},
     "output_type": "display_data"
    },
    {
     "data": {
      "text/plain": [
       "Product                                                                                                                  4 Pack Alquisalic - Shampoo Antiseborreico / Caspa Envgratis\n",
       "Price                                                                                                                                                                             849\n",
       "Link        https://articulo.mercadolibre.com.mx/MLM-823798229-4-pack-alquisalic-shampoo-antiseborreico-caspa-envgratis-_JM#position=35&search_layout=stack&type=item&tracking_id=...\n",
       "Score                                                                                                                                                                             4.9\n",
       "Ratings                                                                                                                                                                             9\n",
       "Comments                                                                                                                            [Buen producto y excelente precio felicidades!!.]\n",
       "Name: 195, dtype: object"
      ]
     },
     "metadata": {},
     "output_type": "display_data"
    },
    {
     "data": {
      "text/plain": [
       "Product                                                                                                                   3 Shampoo Crecimiento Anticaída Caspa Reparador Hombre 7en1\n",
       "Price                                                                                                                                                                             569\n",
       "Link        https://articulo.mercadolibre.com.mx/MLM-758346210-3-shampoo-crecimiento-anticaida-caspa-reparador-hombre-7en1-_JM#position=39&search_layout=stack&type=item&tracking_...\n",
       "Score                                                                                                                                                                             5.0\n",
       "Ratings                                                                                                                                                                             8\n",
       "Comments    [Excelente rendimiento, al final resulta hasta barato. Deja el cabello suave, manejable, pero también más fuerte. No sé si de verdad me ha crecido cabello nuevo, pero...\n",
       "Name: 199, dtype: object"
      ]
     },
     "metadata": {},
     "output_type": "display_data"
    },
    {
     "data": {
      "text/plain": [
       "Product                                                                                                                              Uriage Ds Hair Shampoo Suave Seboregulador 200ml\n",
       "Price                                                                                                                                                                             352\n",
       "Link        https://articulo.mercadolibre.com.mx/MLM-1744772809-uriage-ds-hair-shampoo-suave-seboregulador-200ml-_JM#position=50&search_layout=stack&type=item&tracking_id=c1f1b11...\n",
       "Score                                                                                                                                                                             4.5\n",
       "Ratings                                                                                                                                                                             2\n",
       "Comments                                                                                                                                                                 [Excelente.]\n",
       "Name: 211, dtype: object"
      ]
     },
     "metadata": {},
     "output_type": "display_data"
    },
    {
     "data": {
      "text/plain": [
       "Product                                                                                                                   Shampoo Amole Y  Sin Puntos Blancos Del Indio Papago 550 Ml\n",
       "Price                                                                                                                                                                              78\n",
       "Link        https://www.mercadolibre.com.mx/shampoo-amole-y-sin-puntos-blancos-del-indio-papago-550-ml/p/MLM19865908?pdp_filters=category:MLM430117#searchVariation=MLM19865908&po...\n",
       "Score                                                                                                                                                                             5.0\n",
       "Ratings                                                                                                                                                                             2\n",
       "Comments                                                                                                                                                        [Excelente producto.]\n",
       "Name: 240, dtype: object"
      ]
     },
     "metadata": {},
     "output_type": "display_data"
    },
    {
     "data": {
      "text/plain": [
       "Product                                                                                                                      Active Shampoo Anti Caída Nbc 300 Ml (entrega Inmediata)\n",
       "Price                                                                                                                                                                             216\n",
       "Link        https://articulo.mercadolibre.com.mx/MLM-899338539-active-shampoo-anti-caida-nbc-300-ml-entrega-inmediata-_JM#position=36&search_layout=stack&type=item&tracking_id=19...\n",
       "Score                                                                                                                                                                             5.0\n",
       "Ratings                                                                                                                                                                             4\n",
       "Comments    [Excelente producto, la caída de cabello ha ido disminuyendo poco a poco, el cabello se siente muy limpio y suave y la sensación de menta es muy relajante en el cuero...\n",
       "Name: 250, dtype: object"
      ]
     },
     "metadata": {},
     "output_type": "display_data"
    },
    {
     "data": {
      "text/plain": [
       "Product                                                                                                                     Gel Neutrogena Original Formula T/gel En Botella De 473ml\n",
       "Price                                                                                                                                                                             616\n",
       "Link        https://articulo.mercadolibre.com.mx/MLM-1544889004-gel-neutrogena-original-formula-tgel-en-botella-de-473ml-_JM#position=39&search_layout=stack&type=item&tracking_id...\n",
       "Score                                                                                                                                                                             5.0\n",
       "Ratings                                                                                                                                                                             8\n",
       "Comments                                         [Es un excelente shampoo para mí problema de dermatitis, no he encontrado otro que me haga tan buen provecho en mi cuero cabelludo.]\n",
       "Name: 253, dtype: object"
      ]
     },
     "metadata": {},
     "output_type": "display_data"
    },
    {
     "data": {
      "text/plain": [
       "Product                                                                                                                   Shampoo Active Nbc 300 Ml Anticaída De Cabello Envio Gratis\n",
       "Price                                                                                                                                                                             299\n",
       "Link        https://articulo.mercadolibre.com.mx/MLM-616707277-shampoo-active-nbc-300-ml-anticaida-de-cabello-envio-gratis-_JM#position=40&search_layout=stack&type=item&tracking_...\n",
       "Score                                                                                                                                                                             5.0\n",
       "Ratings                                                                                                                                                                             1\n",
       "Comments                                                                                                                                                                 [Excelente.]\n",
       "Name: 254, dtype: object"
      ]
     },
     "metadata": {},
     "output_type": "display_data"
    },
    {
     "data": {
      "text/plain": [
       "Product                                                                                                                Shampoo Alquitran De Hulla Control Psoriasis Y Caspa 20 Litros\n",
       "Price                                                                                                                                                                            1417\n",
       "Link        https://click1.mercadolibre.com.mx/mclics/clicks/external/MLM/count?a=fys%2B4umQWU%2FEPcWepr4biQj23uhbgF%2FKsLqDVBJVCxYQV7pdF7WselGp3tNz8IcO70t%2BHy256OW5Sacox%2BcIt3...\n",
       "Score                                                                                                                                                                             4.9\n",
       "Ratings                                                                                                                                                                            14\n",
       "Comments                                                                                                                                                        [Excelente producto.]\n",
       "Name: 285, dtype: object"
      ]
     },
     "metadata": {},
     "output_type": "display_data"
    },
    {
     "data": {
      "text/plain": [
       "Product                                                                                                                     Shampoo Alquitrán De Hulla & Bergamota 2 En 1  (5 Litros)\n",
       "Price                                                                                                                                                                             682\n",
       "Link        https://click1.mercadolibre.com.mx/mclics/clicks/external/MLM/count?a=y6FxHV6OuucsbnhBWzSXZwO0e0k6%2BizOiwNYHef0wpc7ZHw%2B6g8uv5LkR3ztuDH%2BP%2FsHyoLRB4vJ6uRh1robjLmB...\n",
       "Score                                                                                                                                                                             4.7\n",
       "Ratings                                                                                                                                                                            21\n",
       "Comments    [Dejé pasar unos meses para opinar con seguridad sobre el producto y puedo decir con toda certeza que es un producto excelente que me ha dado muy buenos resultados lo...\n",
       "Name: 286, dtype: object"
      ]
     },
     "metadata": {},
     "output_type": "display_data"
    },
    {
     "data": {
      "text/plain": [
       "Product                                                                                                                  Shampoo Alquitran De Hulla Shampoo Control Psoriasis Y Caspa\n",
       "Price                                                                                                                                                                             219\n",
       "Link        https://articulo.mercadolibre.com.mx/MLM-602114488-shampoo-alquitran-de-hulla-shampoo-control-psoriasis-y-caspa-_JM#position=26&search_layout=stack&type=item&tracking...\n",
       "Score                                                                                                                                                                             4.5\n",
       "Ratings                                                                                                                                                                            63\n",
       "Comments    [Excelente producto, casi un producto milagro había probado de todo para mi psiriasis se me caian muchas escamas de piel y siempre había polvo blanco en mi ropa una c...\n",
       "Name: 296, dtype: object"
      ]
     },
     "metadata": {},
     "output_type": "display_data"
    },
    {
     "data": {
      "text/plain": [
       "Product                                                                                                                                             Dermoscalp Shampo Anticaspa 100ml\n",
       "Price                                                                                                                                                                             459\n",
       "Link        https://articulo.mercadolibre.com.mx/MLM-697576891-dermoscalp-shampo-anticaspa-100ml-_JM#position=39&search_layout=stack&type=item&tracking_id=680127c1-405c-4f4e-8563...\n",
       "Score                                                                                                                                                                             4.5\n",
       "Ratings                                                                                                                                                                             8\n",
       "Comments                                                                                                                                       [Excelente lo recomiendo ampliamente.]\n",
       "Name: 311, dtype: object"
      ]
     },
     "metadata": {},
     "output_type": "display_data"
    },
    {
     "data": {
      "text/plain": [
       "Product                                                                                                                  Shampo Elix. Caída De Cabello, Alopecia,(2 De 420ml Cada Una\n",
       "Price                                                                                                                                                                             500\n",
       "Link        https://articulo.mercadolibre.com.mx/MLM-761383708-shampo-elix-caida-de-cabello-alopecia2-de-420ml-cada-una-_JM#position=42&search_layout=stack&type=item&tracking_id=...\n",
       "Score                                                                                                                                                                             4.7\n",
       "Ratings                                                                                                                                                                             3\n",
       "Comments                           [Lo he usado durante 6 meses y sí da resultado.\\nEl uso de la loción capilar de la misma marca es indispensable para tener excelentes resultados.]\n",
       "Name: 315, dtype: object"
      ]
     },
     "metadata": {},
     "output_type": "display_data"
    },
    {
     "data": {
      "text/plain": [
       "Product                                                                                                                       Shampoo Nopsor - Tratamiento Auxiliar Para La Psoriasis\n",
       "Price                                                                                                                                                                             639\n",
       "Link        https://articulo.mercadolibre.com.mx/MLM-726349986-shampoo-nopsor-tratamiento-auxiliar-para-la-psoriasis-_JM?searchVariation=82402425211#searchVariation=82402425211&p...\n",
       "Score                                                                                                                                                                             4.5\n",
       "Ratings                                                                                                                                                                            11\n",
       "Comments    [Muy excelente lo esperab el 1 d abril y llwgo antes volveria acomprarlo ya k es un producto k casi no era facil d conseguir ya k es muy super bueno lo recomiendo m. ...\n",
       "Name: 327, dtype: object"
      ]
     },
     "metadata": {},
     "output_type": "display_data"
    },
    {
     "data": {
      "text/plain": [
       "Product                                                                                                                         Neutrogena T Gel  Shampoo Terapéutico 16 Oz Importado\n",
       "Price                                                                                                                                                                             699\n",
       "Link        https://articulo.mercadolibre.com.mx/MLM-1854652864-neutrogena-t-gel-shampoo-terapeutico-16-oz-importado-_JM#position=54&search_layout=stack&type=item&tracking_id=680...\n",
       "Score                                                                                                                                                                             4.8\n",
       "Ratings                                                                                                                                                                             9\n",
       "Comments                                                                                                                                                                [Excelente!.]\n",
       "Name: 329, dtype: object"
      ]
     },
     "metadata": {},
     "output_type": "display_data"
    },
    {
     "data": {
      "text/plain": [
       "Product                                                                                                                       Shampoo 1 Sistema Gb Ketoconazol 1% Para Hombre 230 Ml \n",
       "Price                                                                                                                                                                             154\n",
       "Link        https://articulo.mercadolibre.com.mx/MLM-1320608811-shampoo-1-sistema-gb-ketoconazol-1-para-hombre-230-ml-_JM#position=12&search_layout=stack&type=item&tracking_id=75...\n",
       "Score                                                                                                                                                                             4.7\n",
       "Ratings                                                                                                                                                                             7\n",
       "Comments                                                                                                                                                                 [Excelente.]\n",
       "Name: 339, dtype: object"
      ]
     },
     "metadata": {},
     "output_type": "display_data"
    },
    {
     "data": {
      "text/plain": [
       "Product                                                                                                                     Combo Shampoo Y Aceite D Oso Janibell, Anticaspa Y Grasa \n",
       "Price                                                                                                                                                                             299\n",
       "Link        https://articulo.mercadolibre.com.mx/MLM-858490314-combo-shampoo-y-aceite-d-oso-janibell-anticaspa-y-grasa-_JM#position=13&search_layout=stack&type=item&tracking_id=7...\n",
       "Score                                                                                                                                                                             4.7\n",
       "Ratings                                                                                                                                                                             3\n",
       "Comments                                                                                                                                                        [Excelente producto.]\n",
       "Name: 340, dtype: object"
      ]
     },
     "metadata": {},
     "output_type": "display_data"
    },
    {
     "data": {
      "text/plain": [
       "Product                                                                                                                           2 Shampoo Creolina Y Alquitran 500 Ml(envio Gratis)\n",
       "Price                                                                                                                                                                             359\n",
       "Link        https://articulo.mercadolibre.com.mx/MLM-678618612-2-shampoo-creolina-y-alquitran-500-mlenvio-gratis-_JM#position=15&search_layout=stack&type=item&tracking_id=75f0340...\n",
       "Score                                                                                                                                                                             4.7\n",
       "Ratings                                                                                                                                                                             3\n",
       "Comments                                                                                      [Excelente producto, lo uso para la psoriasis y al día de hoy ha funcionado muy bien!.]\n",
       "Name: 343, dtype: object"
      ]
     },
     "metadata": {},
     "output_type": "display_data"
    },
    {
     "data": {
      "text/plain": [
       "Product                                                                                                                Shampoo Alquitran De Hulla Control Psoriasis Y Caspa 20 Litros\n",
       "Price                                                                                                                                                                            1417\n",
       "Link        https://articulo.mercadolibre.com.mx/MLM-708926302-shampoo-alquitran-de-hulla-control-psoriasis-y-caspa-20-litros-_JM#position=27&search_layout=stack&type=item&tracki...\n",
       "Score                                                                                                                                                                             4.9\n",
       "Ratings                                                                                                                                                                            14\n",
       "Comments                                                                                                                                                        [Excelente producto.]\n",
       "Name: 355, dtype: object"
      ]
     },
     "metadata": {},
     "output_type": "display_data"
    },
    {
     "data": {
      "text/plain": [
       "Product                                                                                                                                               Bioderma Shampoo Nodé Ds+ 125ml\n",
       "Price                                                                                                                                                                             508\n",
       "Link        https://articulo.mercadolibre.com.mx/MLM-786922184-bioderma-shampoo-node-ds-125ml-_JM#position=31&search_layout=stack&type=item&tracking_id=75f0340d-7ac8-4ec2-a903-21...\n",
       "Score                                                                                                                                                                             4.3\n",
       "Ratings                                                                                                                                                                             4\n",
       "Comments                                                                                                                          [Lo uso por receta medica y me funciona excelente.]\n",
       "Name: 359, dtype: object"
      ]
     },
     "metadata": {},
     "output_type": "display_data"
    },
    {
     "data": {
      "text/plain": [
       "Product                                                                                                                  5 Shampoos Neem:caspa,piojos,crecimiento,ceborrea,100%naturl\n",
       "Price                                                                                                                                                                             850\n",
       "Link        https://articulo.mercadolibre.com.mx/MLM-617191268-5-shampoos-neemcaspapiojoscrecimientoceborrea100naturl-_JM#position=32&search_layout=stack&type=item&tracking_id=75...\n",
       "Score                                                                                                                                                                             5.0\n",
       "Ratings                                                                                                                                                                             3\n",
       "Comments                                                                                                                                                                 [Excelente.]\n",
       "Name: 361, dtype: object"
      ]
     },
     "metadata": {},
     "output_type": "display_data"
    },
    {
     "data": {
      "text/plain": [
       "Product                                                                                                                     Shampoo Alquitrán De Hulla & Bergamota 2 En 1  (5 Litros)\n",
       "Price                                                                                                                                                                             682\n",
       "Link        https://articulo.mercadolibre.com.mx/MLM-784060315-shampoo-alquitran-de-hulla-bergamota-2-en-1-5-litros-_JM#position=39&search_layout=stack&type=item&tracking_id=75f0...\n",
       "Score                                                                                                                                                                             4.7\n",
       "Ratings                                                                                                                                                                            21\n",
       "Comments    [Dejé pasar unos meses para opinar con seguridad sobre el producto y puedo decir con toda certeza que es un producto excelente que me ha dado muy buenos resultados lo...\n",
       "Name: 369, dtype: object"
      ]
     },
     "metadata": {},
     "output_type": "display_data"
    },
    {
     "data": {
      "text/plain": [
       "Product                                                                                                                              2 Pirizinic Shampoo Antiseborreico Envio Gratis \n",
       "Price                                                                                                                                                                             539\n",
       "Link        https://click1.mercadolibre.com.mx/mclics/clicks/external/MLM/count?a=Wo4heLZNEK2XWxS9mr%2FbGTGrj732iLfZWBYPvA1mwEqy%2B3Fvy%2FP2h1vCm58OhzuJfnei9gK%2Be8jkEvm8jdODC%2B...\n",
       "Score                                                                                                                                                                             4.6\n",
       "Ratings                                                                                                                                                                            20\n",
       "Comments                                                                                                                                                        [Excelente producto.]\n",
       "Name: 383, dtype: object"
      ]
     },
     "metadata": {},
     "output_type": "display_data"
    },
    {
     "data": {
      "text/plain": [
       "Product                                                                                                                   2 Pack Shampoo Selsun Medicated Max Strength Dandruff 325ml\n",
       "Price                                                                                                                                                                             599\n",
       "Link        https://click1.mercadolibre.com.mx/mclics/clicks/external/MLM/count?a=overik65iWkaf3fWdRIZtV03KKS4lDWuQJ9FejXUQQr6eyEWJGiSM9eERJIBYoejyPEf%2FB6Bd%2Ff9YIWKU%2BwQ95IyI1...\n",
       "Score                                                                                                                                                                             4.7\n",
       "Ratings                                                                                                                                                                            19\n",
       "Comments                                                                                                                               [Excelente, me ayudo al día de que lo use!!!.]\n",
       "Name: 390, dtype: object"
      ]
     },
     "metadata": {},
     "output_type": "display_data"
    },
    {
     "data": {
      "text/plain": [
       "Product                                                                                                                     2× Neutrogena T Gel - Champú Terapéutico - 473 Ml / 16 Oz\n",
       "Price                                                                                                                                                                            1239\n",
       "Link        https://articulo.mercadolibre.com.mx/MLM-1824111430-2-neutrogena-t-gel-champu-terapeutico-473-ml-16-oz-_JM#position=27&search_layout=stack&type=item&tracking_id=5b423...\n",
       "Score                                                                                                                                                                             4.8\n",
       "Ratings                                                                                                                                                                             4\n",
       "Comments                                                                                                                                                                 [Excelente.]\n",
       "Name: 398, dtype: object"
      ]
     },
     "metadata": {},
     "output_type": "display_data"
    },
    {
     "data": {
      "text/plain": [
       "Product                                                                                                                  Shampoo Gel Neutrogena T/gel  Fórmula Original Pak 2 (250ml)\n",
       "Price                                                                                                                                                                             735\n",
       "Link        https://click1.mercadolibre.com.mx/mclics/clicks/external/MLM/count?a=1uA4zAk7Hujv0CNb1E2gKXug3n%2B1vz69N215DiC0%2BI5AFD4OiJcN9Hw0ibKzSiRuUYqvtc9uwqYQ5KMShmOAVMeIKMTZ...\n",
       "Score                                                                                                                                                                             4.8\n",
       "Ratings                                                                                                                                                                           130\n",
       "Comments                              [Se lo compré a mi hijo que tiene psoriasis y le ha resultado excelente desde la primera vez que lo uso son dos así que espero le duren mucho.]\n",
       "Name: 401, dtype: object"
      ]
     },
     "metadata": {},
     "output_type": "display_data"
    },
    {
     "data": {
      "text/plain": [
       "Product                                                                                                                                      Novophane K Shampoo Anti Caspa 125ml Acm\n",
       "Price                                                                                                                                                                             424\n",
       "Link        https://articulo.mercadolibre.com.mx/MLM-1329991787-novophane-k-shampoo-anti-caspa-125ml-acm-_JM#position=37&search_layout=stack&type=item&tracking_id=5b423449-b765-4...\n",
       "Score                                                                                                                                                                             5.0\n",
       "Ratings                                                                                                                                                                             5\n",
       "Comments                                                                                                                                                        [Excelente producto.]\n",
       "Name: 411, dtype: object"
      ]
     },
     "metadata": {},
     "output_type": "display_data"
    },
    {
     "data": {
      "text/plain": [
       "Product                                                                                                                    Shampoo De Caballo Sábila Forte For Men Yeguada La Reserva\n",
       "Price                                                                                                                                                                             559\n",
       "Link        https://articulo.mercadolibre.com.mx/MLM-1402437526-shampoo-de-caballo-sabila-forte-for-men-yeguada-la-reserva-_JM#position=40&search_layout=stack&type=item&tracking_...\n",
       "Score                                                                                                                                                                             4.9\n",
       "Ratings                                                                                                                                                                             9\n",
       "Comments                                                                                                                                        [Excelente producto, muchas gracias.]\n",
       "Name: 415, dtype: object"
      ]
     },
     "metadata": {},
     "output_type": "display_data"
    },
    {
     "data": {
      "text/plain": [
       "Product                                                                                                                              Uriage Ds Hair Shampoo Anti-caspa Calmante 200ml\n",
       "Price                                                                                                                                                                             415\n",
       "Link        https://articulo.mercadolibre.com.mx/MLM-912135087-uriage-ds-hair-shampoo-anti-caspa-calmante-200ml-_JM#position=41&search_layout=stack&type=item&tracking_id=5b423449...\n",
       "Score                                                                                                                                                                             5.0\n",
       "Ratings                                                                                                                                                                             2\n",
       "Comments                                                                                                                                   [Excelente para la dermatitis seborreica.]\n",
       "Name: 416, dtype: object"
      ]
     },
     "metadata": {},
     "output_type": "display_data"
    },
    {
     "data": {
      "text/plain": [
       "Product                                                                                                                       Shampoo Active Nbc Anticaída Lote 3 Piezas Envio Gratis\n",
       "Price                                                                                                                                                                             664\n",
       "Link        https://articulo.mercadolibre.com.mx/MLM-616707920-shampoo-active-nbc-anticaida-lote-3-piezas-envio-gratis-_JM#position=53&search_layout=stack&type=item&tracking_id=5...\n",
       "Score                                                                                                                                                                             4.7\n",
       "Ratings                                                                                                                                                                             3\n",
       "Comments                                                                                                                              [Es producto original y con excelente precio!.]\n",
       "Name: 434, dtype: object"
      ]
     },
     "metadata": {},
     "output_type": "display_data"
    },
    {
     "data": {
      "text/plain": [
       "Product                                                                                                                   Kit 3 Shampoo Jusse Alopecia Caída Crecimiento Frágil Frizz\n",
       "Price                                                                                                                                                                            1044\n",
       "Link        https://articulo.mercadolibre.com.mx/MLM-1387991088-kit-3-shampoo-jusse-alopecia-caida-crecimiento-fragil-frizz-_JM#position=27&search_layout=stack&type=item&tracking...\n",
       "Score                                                                                                                                                                             4.7\n",
       "Ratings                                                                                                                                                                             6\n",
       "Comments    [Muy bueno excelente producto no tiene aroma cuando se baña uno le queda el pelo limpio y sin olor huele a limpio por eso lo sigo comprando lo recomiendo 100% y más p...\n",
       "Name: 455, dtype: object"
      ]
     },
     "metadata": {},
     "output_type": "display_data"
    },
    {
     "data": {
      "text/plain": [
       "Product                                                                                                                              Pilexil Shampoo Anticaspa Caspa Seca Bote 300ml.\n",
       "Price                                                                                                                                                                             663\n",
       "Link        https://www.mercadolibre.com.mx/pilexil-shampoo-anticaspa-caspa-seca-bote-300ml/p/MLM21722420?pdp_filters=category:MLM430117#searchVariation=MLM21722420&position=5&se...\n",
       "Score                                                                                                                                                                             5.0\n",
       "Ratings                                                                                                                                                                             2\n",
       "Comments                                                                                       [Excelente producto, me encanta su aroma deja el cabello suave y si elimina la caspa.]\n",
       "Name: 460, dtype: object"
      ]
     },
     "metadata": {},
     "output_type": "display_data"
    },
    {
     "data": {
      "text/plain": [
       "Product                                                                                                                  Shampoo De Jengibre Anti Caspa Caída Cabello Fríz Hidratante\n",
       "Price                                                                                                                                                                              79\n",
       "Link        https://www.mercadolibre.com.mx/shampoo-de-jengibre-anti-caspa-caida-cabello-friz-hidratante/p/MLM19505290?pdp_filters=category:MLM430117#searchVariation=MLM19505290&...\n",
       "Score                                                                                                                                                                             4.5\n",
       "Ratings                                                                                                                                                                            93\n",
       "Comments    [Muy bueno, se me detuvo la caída de cabello, me creció un poco más rápido de lo normal, precio y calidad excelente, agradable aroma, rinde mucho y si es lo que esper...\n",
       "Name: 470, dtype: object"
      ]
     },
     "metadata": {},
     "output_type": "display_data"
    },
    {
     "data": {
      "text/plain": [
       "Product                                                                                                                                  Ducray Kelual Ds Shampoo Cuidado Caspa 100ml\n",
       "Price                                                                                                                                                                             492\n",
       "Link        https://articulo.mercadolibre.com.mx/MLM-702965615-ducray-kelual-ds-shampoo-cuidado-caspa-100ml-_JM#position=25&search_layout=stack&type=item&tracking_id=25fecc75-e09...\n",
       "Score                                                                                                                                                                             4.8\n",
       "Ratings                                                                                                                                                                            20\n",
       "Comments                                                                                                                         [El único que me controla mi ds, excelente shampoo.]\n",
       "Name: 510, dtype: object"
      ]
     },
     "metadata": {},
     "output_type": "display_data"
    },
    {
     "data": {
      "text/plain": [
       "Product                                                                                                                        Neutrogena T Gel - Champú Terapéutico - 473 Ml / 16 Oz\n",
       "Price                                                                                                                                                                             616\n",
       "Link        https://articulo.mercadolibre.com.mx/MLM-1543172759-neutrogena-t-gel-champu-terapeutico-473-ml-16-oz-_JM#position=36&search_layout=stack&type=item&tracking_id=b18a39e...\n",
       "Score                                                                                                                                                                             4.9\n",
       "Ratings                                                                                                                                                                             7\n",
       "Comments                                                                                                                                                        [Excelente producto.]\n",
       "Name: 575, dtype: object"
      ]
     },
     "metadata": {},
     "output_type": "display_data"
    },
    {
     "data": {
      "text/plain": [
       "Product                                                                                                                                  Sebryl Shampoo  5 Pack Envio Full Anti Caspa\n",
       "Price                                                                                                                                                                            1804\n",
       "Link        https://articulo.mercadolibre.com.mx/MLM-1489270453-sebryl-shampoo-5-pack-envio-full-anti-caspa-_JM#position=40&search_layout=stack&type=item&tracking_id=b18a39e5-e83...\n",
       "Score                                                                                                                                                                             5.0\n",
       "Ratings                                                                                                                                                                             2\n",
       "Comments                                                                                                                           [Excelente producto, me lo recetó mi dermatologa.]\n",
       "Name: 580, dtype: object"
      ]
     },
     "metadata": {},
     "output_type": "display_data"
    },
    {
     "data": {
      "text/plain": [
       "Product                                                                                                                        Shampoo Ozonizado - Control Caspa Y Dermatitis - Lovel\n",
       "Price                                                                                                                                                                             113\n",
       "Link        https://articulo.mercadolibre.com.mx/MLM-1373400458-shampoo-ozonizado-control-caspa-y-dermatitis-lovel-_JM#position=43&search_layout=stack&type=item&tracking_id=b18a3...\n",
       "Score                                                                                                                                                                             5.0\n",
       "Ratings                                                                                                                                                                             1\n",
       "Comments                                                                                                                                                                 [Excelente.]\n",
       "Name: 584, dtype: object"
      ]
     },
     "metadata": {},
     "output_type": "display_data"
    },
    {
     "data": {
      "text/plain": [
       "Product                                                                                                                  Shampoo Alquitran De Hulla Control Psoriasis Y Caspa 1 Litro\n",
       "Price                                                                                                                                                                             175\n",
       "Link        https://articulo.mercadolibre.com.mx/MLM-1524797985-shampoo-alquitran-de-hulla-control-psoriasis-y-caspa-1-litro-_JM#position=45&search_layout=stack&type=item&trackin...\n",
       "Score                                                                                                                                                                             4.6\n",
       "Ratings                                                                                                                                                                            11\n",
       "Comments                                                                                                                                                                 [Excelente.]\n",
       "Name: 587, dtype: object"
      ]
     },
     "metadata": {},
     "output_type": "display_data"
    },
    {
     "data": {
      "text/plain": [
       "Product                                                                                                                    Shampoo De Tepezcohuite Concentrado Mayadol ¡envío Gratis!\n",
       "Price                                                                                                                                                                             324\n",
       "Link        https://articulo.mercadolibre.com.mx/MLM-776193718-shampoo-de-tepezcohuite-concentrado-mayadol-envio-gratis-_JM#position=55&search_layout=stack&type=item&tracking_id=...\n",
       "Score                                                                                                                                                                             4.0\n",
       "Ratings                                                                                                                                                                             2\n",
       "Comments                                                                                                                                                        [Excelente producto.]\n",
       "Name: 604, dtype: object"
      ]
     },
     "metadata": {},
     "output_type": "display_data"
    },
    {
     "data": {
      "text/plain": [
       "Product                                                                                                                Shampoo Alquitran De Hulla Control Psoriasis Y Caspa 20 Litros\n",
       "Price                                                                                                                                                                            1417\n",
       "Link        https://click1.mercadolibre.com.mx/mclics/clicks/external/MLM/count?a=VpoErWbyx4Psrz1lbIpWrq8%2BtDQpswpPdJ%2F6CnXnFGHXVRqmElEGB5WhhLHpZtKgtIPU2X7FAIoo0z4SS2BcDf%2B6GZ...\n",
       "Score                                                                                                                                                                             4.9\n",
       "Ratings                                                                                                                                                                            14\n",
       "Comments                                                                                                                                                        [Excelente producto.]\n",
       "Name: 609, dtype: object"
      ]
     },
     "metadata": {},
     "output_type": "display_data"
    },
    {
     "data": {
      "text/plain": [
       "Product                                                                                                                     Shampoo Alquitrán De Hulla & Bergamota 2 En 1  (5 Litros)\n",
       "Price                                                                                                                                                                             682\n",
       "Link        https://click1.mercadolibre.com.mx/mclics/clicks/external/MLM/count?a=00fJAYuY9ImPQJe5T5BMZ4ajLFeYEq%2FI62IicRFTMAGtjqxZMsSkTrWrgiNhQc9rmFH2jJorMkxZ7qaQQ%2BsuluFnwVU9...\n",
       "Score                                                                                                                                                                             4.7\n",
       "Ratings                                                                                                                                                                            21\n",
       "Comments    [Dejé pasar unos meses para opinar con seguridad sobre el producto y puedo decir con toda certeza que es un producto excelente que me ha dado muy buenos resultados lo...\n",
       "Name: 613, dtype: object"
      ]
     },
     "metadata": {},
     "output_type": "display_data"
    },
    {
     "data": {
      "text/plain": [
       "Product                                                                                                                     Shampoo Martha Debayle Anti-dandruff De 450 Ml Anti Caspa\n",
       "Price                                                                                                                                                                             326\n",
       "Link        https://articulo.mercadolibre.com.mx/MLM-1315750984-shampoo-martha-debayle-anti-dandruff-de-450-ml-anti-caspa-_JM#position=25&search_layout=stack&type=item&tracking_i...\n",
       "Score                                                                                                                                                                             4.5\n",
       "Ratings                                                                                                                                                                             2\n",
       "Comments                                                                                                                                        [Excelente buen olor y consistencia.]\n",
       "Name: 622, dtype: object"
      ]
     },
     "metadata": {},
     "output_type": "display_data"
    },
    {
     "data": {
      "text/plain": [
       "Product                                                                                                                   Shampoo Tratamiento Con Argán Para Cabello Teñido By Voglia\n",
       "Price                                                                                                                                                                              81\n",
       "Link        https://articulo.mercadolibre.com.mx/MLM-637513194-shampoo-tratamiento-con-argan-para-cabello-tenido-by-voglia-_JM#position=52&search_layout=stack&type=item&tracking_...\n",
       "Score                                                                                                                                                                             5.0\n",
       "Ratings                                                                                                                                                                             1\n",
       "Comments                                                                                                                             [Excelente producto, deja el cabello muy suave.]\n",
       "Name: 653, dtype: object"
      ]
     },
     "metadata": {},
     "output_type": "display_data"
    },
    {
     "data": {
      "text/plain": [
       "Product                                                                                                                Shampoo Alquitran De Hulla Control Psoriasis Y Caspa 20 Litros\n",
       "Price                                                                                                                                                                            1417\n",
       "Link        https://click1.mercadolibre.com.mx/mclics/clicks/external/MLM/count?a=ll5z4Pc1pLemsBi7sZVCDZ7ED2JoDeHEnZZggsOgYbuqUKpTgESS9DgdoYzyG3Ui%2Brb7waet%2BWdGy9CN5TQ5BPBNAHTu...\n",
       "Score                                                                                                                                                                             4.9\n",
       "Ratings                                                                                                                                                                            14\n",
       "Comments                                                                                                                                                        [Excelente producto.]\n",
       "Name: 661, dtype: object"
      ]
     },
     "metadata": {},
     "output_type": "display_data"
    },
    {
     "data": {
      "text/plain": [
       "Product                                                                                                                     Shampoo Alquitrán De Hulla & Bergamota 2 En 1  (5 Litros)\n",
       "Price                                                                                                                                                                             682\n",
       "Link        https://click1.mercadolibre.com.mx/mclics/clicks/external/MLM/count?a=g0vEEIgRT8rKQICpfr5lJQyzkuxwivqqwrJPyGgdAMyWMY%2B6ovb6hgVf6hUTvNTphRJbPJFvyYgponGf%2BLXrqMbbeXkI...\n",
       "Score                                                                                                                                                                             4.7\n",
       "Ratings                                                                                                                                                                            21\n",
       "Comments    [Dejé pasar unos meses para opinar con seguridad sobre el producto y puedo decir con toda certeza que es un producto excelente que me ha dado muy buenos resultados lo...\n",
       "Name: 662, dtype: object"
      ]
     },
     "metadata": {},
     "output_type": "display_data"
    },
    {
     "data": {
      "text/plain": [
       "Product                                                                                                                                   Kit Cabellera Perfecta,  Shampoo Anticaspa \n",
       "Price                                                                                                                                                                            1750\n",
       "Link        https://articulo.mercadolibre.com.mx/MLM-774005116-kit-cabellera-perfecta-shampoo-anticaspa-_JM#position=27&search_layout=stack&type=item&tracking_id=95b61c94-4e22-43...\n",
       "Score                                                                                                                                                                             5.0\n",
       "Ratings                                                                                                                                                                             4\n",
       "Comments                                                                             [Un excelente producto, desde la primera puesta note cambio en mi cabello, lo recomiendo mucho.]\n",
       "Name: 686, dtype: object"
      ]
     },
     "metadata": {},
     "output_type": "display_data"
    },
    {
     "data": {
      "text/plain": [
       "Product                                                                                                                  Shampoo Gel Neutrogena T/gel  Fórmula Original Pak 2 (250ml)\n",
       "Price                                                                                                                                                                             735\n",
       "Link        https://click1.mercadolibre.com.mx/mclics/clicks/external/MLM/count?a=YWYkYxA%2BrWZp72pRpaA%2FstQkeMjPlksR2L27wsiMl%2BO5kjZ7PwFkAwXM9%2BhRLvU1HLUeDX%2FJ2sKt2xL3QPtXfB...\n",
       "Score                                                                                                                                                                             4.8\n",
       "Ratings                                                                                                                                                                           130\n",
       "Comments                              [Se lo compré a mi hijo que tiene psoriasis y le ha resultado excelente desde la primera vez que lo uso son dos así que espero le duren mucho.]\n",
       "Name: 726, dtype: object"
      ]
     },
     "metadata": {},
     "output_type": "display_data"
    },
    {
     "data": {
      "text/plain": [
       "Product                                                                                                                   2 Pack Shampoo Selsun Medicated Max Strength Dandruff 325ml\n",
       "Price                                                                                                                                                                             599\n",
       "Link        https://click1.mercadolibre.com.mx/mclics/clicks/external/MLM/count?a=P129WOI514Qjl3L7InRDWBSpkoN527h%2B6z3BfXn9oQ0wTiix%2BRdbcZz9vM8fqYlohPpdqlJ37516j3y%2FOQr%2B%2Fq...\n",
       "Score                                                                                                                                                                             4.7\n",
       "Ratings                                                                                                                                                                            19\n",
       "Comments                                                                                                                               [Excelente, me ayudo al día de que lo use!!!.]\n",
       "Name: 735, dtype: object"
      ]
     },
     "metadata": {},
     "output_type": "display_data"
    },
    {
     "data": {
      "text/plain": [
       "Product                                                                                                                       Shampoo Selsun Blue Itchy Dry Scalp Dandruff 325ml 11oz\n",
       "Price                                                                                                                                                                             399\n",
       "Link        https://www.mercadolibre.com.mx/shampoo-selsun-blue-itchy-dry-scalp-dandruff-325ml-11oz/p/MLM19531767?pdp_filters=category:MLM430117#searchVariation=MLM19531767&posit...\n",
       "Score                                                                                                                                                                             4.8\n",
       "Ratings                                                                                                                                                                            31\n",
       "Comments                                                                                                     [Es un excelente producto , llevo años utilizándolo funciona realmente.]\n",
       "Name: 764, dtype: object"
      ]
     },
     "metadata": {},
     "output_type": "display_data"
    },
    {
     "data": {
      "text/plain": [
       "Product                                                                                                                                    Shampoo Vanart Clásico Control Caspa 750ml\n",
       "Price                                                                                                                                                                              85\n",
       "Link        https://www.mercadolibre.com.mx/shampoo-vanart-clasico-control-caspa-750ml/p/MLM18978099?pdp_filters=category:MLM430117#searchVariation=MLM18978099&position=3&search_...\n",
       "Score                                                                                                                                                                             5.0\n",
       "Ratings                                                                                                                                                                             2\n",
       "Comments      [Un aroma muy agradable,excelente como deja el cabello,a mis hijas y mi esposa les encantó como brilla su cabello y hasta muy manejable,nos encantó a toda la familia.]\n",
       "Name: 779, dtype: object"
      ]
     },
     "metadata": {},
     "output_type": "display_data"
    },
    {
     "data": {
      "text/plain": [
       "Product                                                                                                                     Medicasp Shampoo Elimina Hongo Caspa Contiene Ketoconazol\n",
       "Price                                                                                                                                                                             269\n",
       "Link        https://articulo.mercadolibre.com.mx/MLM-827449544-medicasp-shampoo-elimina-hongo-caspa-contiene-ketoconazol-_JM#position=8&search_layout=stack&type=item&tracking_id=...\n",
       "Score                                                                                                                                                                             5.0\n",
       "Ratings                                                                                                                                                                             1\n",
       "Comments                                                                                                    [Excelente shampoo,se notan los efectos desde las primeras aplicaciones.]\n",
       "Name: 836, dtype: object"
      ]
     },
     "metadata": {},
     "output_type": "display_data"
    },
    {
     "data": {
      "text/plain": [
       "Product                                                                                                                Shampoo Alquitran De Hulla Control Psoriasis Y Caspa 20 Litros\n",
       "Price                                                                                                                                                                            1417\n",
       "Link        https://click1.mercadolibre.com.mx/mclics/clicks/external/MLM/count?a=ciR9eEmYSdMUTm0QSaKx9VShJpwQzWRz0YPLmtvolDs%2BmF4Cgrn2GsEHEqgSGIt7611Fw3dnS61yXUoe26Lhp%2FoK94OG...\n",
       "Score                                                                                                                                                                             4.9\n",
       "Ratings                                                                                                                                                                            14\n",
       "Comments                                                                                                                                                        [Excelente producto.]\n",
       "Name: 950, dtype: object"
      ]
     },
     "metadata": {},
     "output_type": "display_data"
    },
    {
     "data": {
      "text/plain": [
       "Product                                                                                                                     Shampoo Alquitrán De Hulla & Bergamota 2 En 1  (5 Litros)\n",
       "Price                                                                                                                                                                             682\n",
       "Link        https://click1.mercadolibre.com.mx/mclics/clicks/external/MLM/count?a=tgOGXolf3PvOF%2Fj1hAkILd2wQO%2Fbu1AAjlKrs6YlP%2F%2ByBJkzsYFkTCVUM20%2FpMts5rJRiqc%2BZExAyw7ZeAh1...\n",
       "Score                                                                                                                                                                             4.7\n",
       "Ratings                                                                                                                                                                            21\n",
       "Comments    [Dejé pasar unos meses para opinar con seguridad sobre el producto y puedo decir con toda certeza que es un producto excelente que me ha dado muy buenos resultados lo...\n",
       "Name: 959, dtype: object"
      ]
     },
     "metadata": {},
     "output_type": "display_data"
    },
    {
     "data": {
      "text/plain": [
       "Product                                                                                                                               Lumina Anti-caspa Shampoo Reequilibrante 300 Ml\n",
       "Price                                                                                                                                                                             289\n",
       "Link        https://articulo.mercadolibre.com.mx/MLM-1333423513-lumina-anti-caspa-shampoo-reequilibrante-300-ml-_JM#position=42&search_layout=stack&type=item&tracking_id=d65c18dc...\n",
       "Score                                                                                                                                                                             5.0\n",
       "Ratings                                                                                                                                                                             1\n",
       "Comments                                                                                                                    [El producto es excelente y es tal cual lo que esperaba.]\n",
       "Name: 982, dtype: object"
      ]
     },
     "metadata": {},
     "output_type": "display_data"
    },
    {
     "data": {
      "text/plain": [
       "Product                                                                                                                   2 Shampoo Anticaida Crecimiento Acelerado Hidratante 7 En 1\n",
       "Price                                                                                                                                                                             415\n",
       "Link        https://articulo.mercadolibre.com.mx/MLM-1456865107-2-shampoo-anticaida-crecimiento-acelerado-hidratante-7-en-1-_JM#position=50&search_layout=stack&type=item&tracking...\n",
       "Score                                                                                                                                                                             5.0\n",
       "Ratings                                                                                                                                                                             1\n",
       "Comments                                                                                                                [Excelente shampoo si me ayudo a evitar la caida de cabello.]\n",
       "Name: 990, dtype: object"
      ]
     },
     "metadata": {},
     "output_type": "display_data"
    },
    {
     "data": {
      "text/plain": [
       "Product                                                                                                                Shampoo Alquitran De Hulla Control Psoriasis Y Caspa 20 Litros\n",
       "Price                                                                                                                                                                            1417\n",
       "Link        https://click1.mercadolibre.com.mx/mclics/clicks/external/MLM/count?a=uwZtWHDirWzP5RmZQOa2HEUYUcsTtIZuqe4z8GeuixN5iOoTukVj13%2FxCIqj%2B%2B1UrceOKGsmIAdMj%2FgRONui12Il...\n",
       "Score                                                                                                                                                                             4.9\n",
       "Ratings                                                                                                                                                                            14\n",
       "Comments                                                                                                                                                        [Excelente producto.]\n",
       "Name: 997, dtype: object"
      ]
     },
     "metadata": {},
     "output_type": "display_data"
    },
    {
     "data": {
      "text/plain": [
       "Product                                                                                                                     Shampoo Alquitrán De Hulla & Bergamota 2 En 1  (5 Litros)\n",
       "Price                                                                                                                                                                             682\n",
       "Link        https://click1.mercadolibre.com.mx/mclics/clicks/external/MLM/count?a=ZGfTVm6J2AsTdxEoB2827%2B5%2FYFUjCvAqu%2BpEVwrS0Rk2TQ7Cu7xAhgy5t0BL0lXNWfY6lbHU0wqI7GjzJnEnlazJUn...\n",
       "Score                                                                                                                                                                             4.7\n",
       "Ratings                                                                                                                                                                            21\n",
       "Comments    [Dejé pasar unos meses para opinar con seguridad sobre el producto y puedo decir con toda certeza que es un producto excelente que me ha dado muy buenos resultados lo...\n",
       "Name: 998, dtype: object"
      ]
     },
     "metadata": {},
     "output_type": "display_data"
    },
    {
     "data": {
      "text/plain": [
       "Product                                                                                                                    Shampoo Sólido Orgánico Vegano Natural Healing Wash It Up \n",
       "Price                                                                                                                                                                             440\n",
       "Link        https://articulo.mercadolibre.com.mx/MLM-850964778-shampoo-solido-organico-vegano-natural-healing-wash-it-up-_JM#position=4&search_layout=stack&type=item&tracking_id=...\n",
       "Score                                                                                                                                                                             4.0\n",
       "Ratings                                                                                                                                                                             1\n",
       "Comments                                                                                                     [Excelente producto. No deja seco el cráneo. Agradable aroma a natural.]\n",
       "Name: 1000, dtype: object"
      ]
     },
     "metadata": {},
     "output_type": "display_data"
    },
    {
     "data": {
      "text/plain": [
       "Product                                                                                                                   Shampoo Head & Shoulders 2 En 1 Limp Renovadora 1lt (2pack)\n",
       "Price                                                                                                                                                                             319\n",
       "Link        https://articulo.mercadolibre.com.mx/MLM-1650483424-shampoo-head-shoulders-2-en-1-limp-renovadora-1lt-2pack-_JM#position=5&search_layout=stack&type=item&tracking_id=6...\n",
       "Score                                                                                                                                                                             4.9\n",
       "Ratings                                                                                                                                                                            23\n",
       "Comments                                                                                                                                                        [Excelente producto.]\n",
       "Name: 1001, dtype: object"
      ]
     },
     "metadata": {},
     "output_type": "display_data"
    },
    {
     "data": {
      "text/plain": [
       "Product                                                                                                                              2 Pirizinic Shampoo Antiseborreico Envio Gratis \n",
       "Price                                                                                                                                                                             539\n",
       "Link        https://click1.mercadolibre.com.mx/mclics/clicks/external/MLM/count?a=6eF4gk5x5fS%2BpaSl9AITydjQfJ5hRqsdTJyNIhHiHD5tba4u5jLmnm2CJymrVwi17hA3as4Ffcqskr4EfpWV3OjfBfDASI...\n",
       "Score                                                                                                                                                                             4.6\n",
       "Ratings                                                                                                                                                                            20\n",
       "Comments                                                                                                                                                        [Excelente producto.]\n",
       "Name: 1054, dtype: object"
      ]
     },
     "metadata": {},
     "output_type": "display_data"
    },
    {
     "data": {
      "text/plain": [
       "Product                                                                                                                   2 Pack Shampoo Selsun Medicated Max Strength Dandruff 325ml\n",
       "Price                                                                                                                                                                             599\n",
       "Link        https://click1.mercadolibre.com.mx/mclics/clicks/external/MLM/count?a=iNmEoDZIO8q2yJ%2BAPhnqERyR8IH024ZnUpboi0obIyyrNx3TkKacOg%2FSSHDpV%2Fyli3vyfDanYB6mM9u8PUWv%2FYsH...\n",
       "Score                                                                                                                                                                             4.7\n",
       "Ratings                                                                                                                                                                            19\n",
       "Comments                                                                                                                               [Excelente, me ayudo al día de que lo use!!!.]\n",
       "Name: 1061, dtype: object"
      ]
     },
     "metadata": {},
     "output_type": "display_data"
    },
    {
     "data": {
      "text/plain": [
       "Product                                                                                                                  Shampoo Gel Neutrogena T/gel  Fórmula Original Pak 2 (250ml)\n",
       "Price                                                                                                                                                                             735\n",
       "Link        https://click1.mercadolibre.com.mx/mclics/clicks/external/MLM/count?a=q4ZbQjnNFKjyHf1QE2zhWt7d2v9DQgFRpIGYTiWm6bpHwnA9JWBulGIN6VEw3Mv3IfMIizqScyuXay5JHfT4LK2dOPrQfAvh...\n",
       "Score                                                                                                                                                                             4.8\n",
       "Ratings                                                                                                                                                                           130\n",
       "Comments                              [Se lo compré a mi hijo que tiene psoriasis y le ha resultado excelente desde la primera vez que lo uso son dos así que espero le duren mucho.]\n",
       "Name: 1062, dtype: object"
      ]
     },
     "metadata": {},
     "output_type": "display_data"
    },
    {
     "data": {
      "text/plain": [
       "Product                                                                                                                  Kit 2 Shampoo Alquitrán De Hulla Control Psoriasis Caspa 1lt\n",
       "Price                                                                                                                                                                             438\n",
       "Link        https://articulo.mercadolibre.com.mx/MLM-952724795-kit-2-shampoo-alquitran-de-hulla-control-psoriasis-caspa-1lt-_JM#position=39&search_layout=stack&type=item&tracking...\n",
       "Score                                                                                                                                                                             4.7\n",
       "Ratings                                                                                                                                                                             6\n",
       "Comments                                                                                                              [Excelente producto, totalmente satisfecho con los resultados.]\n",
       "Name: 1091, dtype: object"
      ]
     },
     "metadata": {},
     "output_type": "display_data"
    },
    {
     "data": {
      "text/plain": [
       "Product                                                                                                                       Shampoo La Roche- Posay Kerium En Crema Anticaspa 200ml\n",
       "Price                                                                                                                                                                             460\n",
       "Link        https://articulo.mercadolibre.com.mx/MLM-769619367-shampoo-la-roche-posay-kerium-en-crema-anticaspa-200ml-_JM#position=51&search_layout=stack&type=item&tracking_id=7a...\n",
       "Score                                                                                                                                                                             4.5\n",
       "Ratings                                                                                                                                                                            94\n",
       "Comments    [Excelente producto. Se lo compré a mi hermano que llevaba aprox 3 años con caspa y no se le quitaba. Le salian ojuelas todos los dias aunque se bañara diario. Este s...\n",
       "Name: 1103, dtype: object"
      ]
     },
     "metadata": {},
     "output_type": "display_data"
    },
    {
     "data": {
      "text/plain": [
       "Product                                                                                                                   Head & Shoulders 2 In 1 Dry Scalp Care Shampoo  Condicioner\n",
       "Price                                                                                                                                                                             499\n",
       "Link        https://articulo.mercadolibre.com.mx/MLM-1414989901-head-shoulders-2-in-1-dry-scalp-care-shampoo-condicioner-_JM#position=23&search_layout=stack&type=item&tracking_id...\n",
       "Score                                                                                                                                                                             5.0\n",
       "Ratings                                                                                                                                                                             1\n",
       "Comments                                                                                                    [Me gustó mucho el producto la calidad es muy buena el tamaño excelente.]\n",
       "Name: 1130, dtype: object"
      ]
     },
     "metadata": {},
     "output_type": "display_data"
    },
    {
     "data": {
      "text/plain": [
       "Product                                                                                                                                                Vichy Dercos Anti Caspa  200ml\n",
       "Price                                                                                                                                                                             642\n",
       "Link        https://articulo.mercadolibre.com.mx/MLM-1348759461-vichy-dercos-anti-caspa-200ml-_JM#position=4&search_layout=stack&type=item&tracking_id=57883103-d905-4a3f-bc39-055...\n",
       "Score                                                                                                                                                                             5.0\n",
       "Ratings                                                                                                                                                                             3\n",
       "Comments                                                                                                                                                                 [Excelente.]\n",
       "Name: 1168, dtype: object"
      ]
     },
     "metadata": {},
     "output_type": "display_data"
    },
    {
     "data": {
      "text/plain": [
       "Product                                                                                                                                       Ducray Kelual Ds Shampoo Capilar 100 Ml\n",
       "Price                                                                                                                                                                             495\n",
       "Link        https://articulo.mercadolibre.com.mx/MLM-597166597-ducray-kelual-ds-shampoo-capilar-100-ml-_JM#position=36&search_layout=stack&type=item&tracking_id=57883103-d905-4a3...\n",
       "Score                                                                                                                                                                             5.0\n",
       "Ratings                                                                                                                                                                             3\n",
       "Comments                                                                                        [Excelente, desde la primera vez que lo usas se notan los resultados, lo recomiendo.]\n",
       "Name: 1200, dtype: object"
      ]
     },
     "metadata": {},
     "output_type": "display_data"
    },
    {
     "data": {
      "text/plain": [
       "Product                                                                                                                Shampoo Alquitran De Hulla Control Psoriasis Y Caspa 20 Litros\n",
       "Price                                                                                                                                                                            1417\n",
       "Link        https://click1.mercadolibre.com.mx/mclics/clicks/external/MLM/count?a=chBzejbGRQlN%2FdZZecoruWRFL1ErG452C7G7UYLl2scbW%2BZj6AvVJQzoaZUP%2B%2FCuyEAbxKIrxaNNTPXiYD%2Bzp3...\n",
       "Score                                                                                                                                                                             4.9\n",
       "Ratings                                                                                                                                                                            14\n",
       "Comments                                                                                                                                                        [Excelente producto.]\n",
       "Name: 1286, dtype: object"
      ]
     },
     "metadata": {},
     "output_type": "display_data"
    },
    {
     "data": {
      "text/plain": [
       "Product                                                                                                                     Shampoo Alquitrán De Hulla & Bergamota 2 En 1  (5 Litros)\n",
       "Price                                                                                                                                                                             682\n",
       "Link        https://click1.mercadolibre.com.mx/mclics/clicks/external/MLM/count?a=pYCxPNV8pG0jkNk3n3FJWvchhNuA0Goqz1I%2F9NusmvmHdS5Af5GfVmaLhTdQGbLxhkGKBNePOZmD6fIfFxmaeFAIePbNdO...\n",
       "Score                                                                                                                                                                             4.7\n",
       "Ratings                                                                                                                                                                            21\n",
       "Comments    [Dejé pasar unos meses para opinar con seguridad sobre el producto y puedo decir con toda certeza que es un producto excelente que me ha dado muy buenos resultados lo...\n",
       "Name: 1295, dtype: object"
      ]
     },
     "metadata": {},
     "output_type": "display_data"
    },
    {
     "data": {
      "text/plain": [
       "Product                                                                                                                          Nizoral Shampoo Champu Anticaspa 1 Botella 7oz 200ml\n",
       "Price                                                                                                                                                                             649\n",
       "Link        https://articulo.mercadolibre.com.mx/MLM-744931425-nizoral-shampoo-champu-anticaspa-1-botella-7oz-200ml-_JM#position=25&search_layout=stack&type=item&tracking_id=5101...\n",
       "Score                                                                                                                                                                             4.0\n",
       "Ratings                                                                                                                                                                             3\n",
       "Comments                                                                                                        [Excelente producto, excelente calidad justo lo que andaba buscando.]\n",
       "Name: 1301, dtype: object"
      ]
     },
     "metadata": {},
     "output_type": "display_data"
    },
    {
     "data": {
      "text/plain": [
       "Product                                                                                                                Shampoo Alquitran De Hulla Control Psoriasis Y Caspa 20 Litros\n",
       "Price                                                                                                                                                                            1417\n",
       "Link        https://click1.mercadolibre.com.mx/mclics/clicks/external/MLM/count?a=hLFX1vwkdKsJcMZGnknYiVugJ6YsueICl%2Fl%2FLDewdx1lYQvC3Op%2FhhTd1%2BB8PxmA5DzTV%2Bu3gWoajyS3eDIwUc...\n",
       "Score                                                                                                                                                                             4.9\n",
       "Ratings                                                                                                                                                                            14\n",
       "Comments                                                                                                                                                        [Excelente producto.]\n",
       "Name: 1333, dtype: object"
      ]
     },
     "metadata": {},
     "output_type": "display_data"
    },
    {
     "data": {
      "text/plain": [
       "Product                                                                                                                     Shampoo Alquitrán De Hulla & Bergamota 2 En 1  (5 Litros)\n",
       "Price                                                                                                                                                                             682\n",
       "Link        https://click1.mercadolibre.com.mx/mclics/clicks/external/MLM/count?a=XhuUPml85EOk4UM14BPeZZ356xppgxWIEk858Ioyg8iyqnjAz6bekHTL7sugCIN0cA2HYGw%2BFoYBS7WEWIlQY0jGgq8h5s...\n",
       "Score                                                                                                                                                                             4.7\n",
       "Ratings                                                                                                                                                                            21\n",
       "Comments    [Dejé pasar unos meses para opinar con seguridad sobre el producto y puedo decir con toda certeza que es un producto excelente que me ha dado muy buenos resultados lo...\n",
       "Name: 1334, dtype: object"
      ]
     },
     "metadata": {},
     "output_type": "display_data"
    },
    {
     "data": {
      "text/plain": [
       "Product                                                                                                                              2 Pirizinic Shampoo Antiseborreico Envio Gratis \n",
       "Price                                                                                                                                                                             539\n",
       "Link        https://click1.mercadolibre.com.mx/mclics/clicks/external/MLM/count?a=EQKdkMg4DnjTXQtT65R20AMC6NmfbHuLOINl5%2FsJCl1waIt1ypAuFMiuyD8Yg%2FdAoFPJdQZ508iv%2FxuQktUpgNcUkW...\n",
       "Score                                                                                                                                                                             4.6\n",
       "Ratings                                                                                                                                                                            20\n",
       "Comments                                                                                                                                                        [Excelente producto.]\n",
       "Name: 1390, dtype: object"
      ]
     },
     "metadata": {},
     "output_type": "display_data"
    },
    {
     "data": {
      "text/plain": [
       "Product                                                                                                                  Shampoo Gel Neutrogena T/gel  Fórmula Original Pak 2 (250ml)\n",
       "Price                                                                                                                                                                             735\n",
       "Link        https://click1.mercadolibre.com.mx/mclics/clicks/external/MLM/count?a=NcWYqxK7xsIHQ96RdZvc%2FUh%2Flq11pFANN5uBuQQ7h33WhLuZpOZr9ATmBhb%2Bc1VNO%2BIQId0WsFLwzI5GWDcHSx8m...\n",
       "Score                                                                                                                                                                             4.8\n",
       "Ratings                                                                                                                                                                           130\n",
       "Comments                              [Se lo compré a mi hijo que tiene psoriasis y le ha resultado excelente desde la primera vez que lo uso son dos así que espero le duren mucho.]\n",
       "Name: 1397, dtype: object"
      ]
     },
     "metadata": {},
     "output_type": "display_data"
    },
    {
     "data": {
      "text/plain": [
       "Product                                                                                                                                               Ducray  Kelual Ds Shampoo 100ml\n",
       "Price                                                                                                                                                                             492\n",
       "Link        https://articulo.mercadolibre.com.mx/MLM-1322094633-ducray-kelual-ds-shampoo-100ml-_JM#position=49&search_layout=stack&type=item&tracking_id=712890b2-da99-40ec-b77e-c...\n",
       "Score                                                                                                                                                                             5.0\n",
       "Ratings                                                                                                                                                                             2\n",
       "Comments                                                                                                           [Excelente producto ayuda mucho al tratamiento que debe realizar.]\n",
       "Name: 1437, dtype: object"
      ]
     },
     "metadata": {},
     "output_type": "display_data"
    },
    {
     "data": {
      "text/plain": [
       "Product                                                                                                                      Shampoo Para Cabello Anti-caspa Unik Peeling Arual 250ml\n",
       "Price                                                                                                                                                                             233\n",
       "Link        https://articulo.mercadolibre.com.mx/MLM-1552524715-shampoo-para-cabello-anti-caspa-unik-peeling-arual-250ml-_JM#position=40&search_layout=stack&type=item&tracking_id...\n",
       "Score                                                                                                                                                                             5.0\n",
       "Ratings                                                                                                                                                                             1\n",
       "Comments                                                                                                                                                        [Excelente producto.]\n",
       "Name: 1484, dtype: object"
      ]
     },
     "metadata": {},
     "output_type": "display_data"
    },
    {
     "data": {
      "text/plain": [
       "Product                                                                                                                                     Shampoo Nizoral Anticaspa 200ml Importado\n",
       "Price                                                                                                                                                                             769\n",
       "Link        https://articulo.mercadolibre.com.mx/MLM-813589842-shampoo-nizoral-anticaspa-200ml-importado-_JM#position=35&search_layout=stack&type=item&tracking_id=732c58fb-dc53-4...\n",
       "Score                                                                                                                                                                             5.0\n",
       "Ratings                                                                                                                                                                             1\n",
       "Comments                                                                                                                               [Excelente producto, unico para quitar caspa.]\n",
       "Name: 1535, dtype: object"
      ]
     },
     "metadata": {},
     "output_type": "display_data"
    },
    {
     "data": {
      "text/plain": [
       "Product                                                                                                                Shampoo Alquitran De Hulla Control Psoriasis Y Caspa 20 Litros\n",
       "Price                                                                                                                                                                            1417\n",
       "Link        https://click1.mercadolibre.com.mx/mclics/clicks/external/MLM/count?a=OZ0XvvynmldbDH8kAxK0F3yNAUt1QpsPsEPuCOiu4rBWfVGn3CZKfKScIGAH4p4S9jD3SNhWunQrsZ9Vi43Y6Vj2o%2BibiZ...\n",
       "Score                                                                                                                                                                             4.9\n",
       "Ratings                                                                                                                                                                            14\n",
       "Comments                                                                                                                                                        [Excelente producto.]\n",
       "Name: 1622, dtype: object"
      ]
     },
     "metadata": {},
     "output_type": "display_data"
    },
    {
     "data": {
      "text/plain": [
       "Product                                                                                                                     Shampoo Alquitrán De Hulla & Bergamota 2 En 1  (5 Litros)\n",
       "Price                                                                                                                                                                             682\n",
       "Link        https://click1.mercadolibre.com.mx/mclics/clicks/external/MLM/count?a=eT0MUxuF1xabXk26F4fkgqqhO%2Byu2ie68t1RdGpCAM6vXzwXgMMFuFpOjDqciO6pbliuLtgUGl6pN2pYAwt6y4tLW2wkNv...\n",
       "Score                                                                                                                                                                             4.7\n",
       "Ratings                                                                                                                                                                            21\n",
       "Comments    [Dejé pasar unos meses para opinar con seguridad sobre el producto y puedo decir con toda certeza que es un producto excelente que me ha dado muy buenos resultados lo...\n",
       "Name: 1631, dtype: object"
      ]
     },
     "metadata": {},
     "output_type": "display_data"
    },
    {
     "data": {
      "text/plain": [
       "Product                                                                                                                  Shampoo De Jengibre Anti Caspa Caída Cabello Fríz Hidratante\n",
       "Price                                                                                                                                                                             149\n",
       "Link        https://articulo.mercadolibre.com.mx/MLM-1632201612-shampoo-de-jengibre-anti-caspa-caida-cabello-friz-hidratante-_JM#position=27&search_layout=stack&type=item&trackin...\n",
       "Score                                                                                                                                                                             5.0\n",
       "Ratings                                                                                                                                                                             1\n",
       "Comments                                                                                                                                    [Excelente producto. Lo recomiendo. , 😀.]\n",
       "Name: 1637, dtype: object"
      ]
     },
     "metadata": {},
     "output_type": "display_data"
    },
    {
     "data": {
      "text/plain": [
       "Product                                                                                                                Shampoo Alquitran De Hulla Control Psoriasis Y Caspa 20 Litros\n",
       "Price                                                                                                                                                                            1417\n",
       "Link        https://click1.mercadolibre.com.mx/mclics/clicks/external/MLM/count?a=YIGxorReb05YkILuf8R3YytY31yCnk%2FS9KaMaK%2FWF%2FxP5ThTmwelupbn0CU%2B3L3MtGpt%2BigAYFZD6jFO5LDu7s...\n",
       "Score                                                                                                                                                                             4.9\n",
       "Ratings                                                                                                                                                                            14\n",
       "Comments                                                                                                                                                        [Excelente producto.]\n",
       "Name: 1669, dtype: object"
      ]
     },
     "metadata": {},
     "output_type": "display_data"
    },
    {
     "data": {
      "text/plain": [
       "Product                                                                                                                     Shampoo Alquitrán De Hulla & Bergamota 2 En 1  (5 Litros)\n",
       "Price                                                                                                                                                                             682\n",
       "Link        https://click1.mercadolibre.com.mx/mclics/clicks/external/MLM/count?a=9gHhnww%2B06OG60z%2FCklyu1So%2FiMbmZR0votT2PiOhbWcKKOyyuxduWL51sJoYhDzO3IgKkbQKtvyVSNHZ4aLZDKzOQ...\n",
       "Score                                                                                                                                                                             4.7\n",
       "Ratings                                                                                                                                                                            21\n",
       "Comments    [Dejé pasar unos meses para opinar con seguridad sobre el producto y puedo decir con toda certeza que es un producto excelente que me ha dado muy buenos resultados lo...\n",
       "Name: 1670, dtype: object"
      ]
     },
     "metadata": {},
     "output_type": "display_data"
    },
    {
     "data": {
      "text/plain": [
       "Product                                                                                                                     Salerm Alea Shampoo Anticaspa Con Zinc Y Aloe Vera 500ml \n",
       "Price                                                                                                                                                                             174\n",
       "Link        https://articulo.mercadolibre.com.mx/MLM-921732961-salerm-alea-shampoo-anticaspa-con-zinc-y-aloe-vera-500ml-_JM#position=21&search_layout=stack&type=item&tracking_id=...\n",
       "Score                                                                                                                                                                             5.0\n",
       "Ratings                                                                                                                                                                             2\n",
       "Comments                                                                                                                           [Excelente producto, cumple con las expectativas.]\n",
       "Name: 1682, dtype: object"
      ]
     },
     "metadata": {},
     "output_type": "display_data"
    },
    {
     "data": {
      "text/plain": [
       "Product                                                                                                                  Shampoo Especial Alquitrán De Hulla Psoriasis Caspa 1l Envío\n",
       "Price                                                                                                                                                                             299\n",
       "Link        https://articulo.mercadolibre.com.mx/MLM-898360149-shampoo-especial-alquitran-de-hulla-psoriasis-caspa-1l-envio-_JM#position=54&search_layout=stack&type=item&tracking...\n",
       "Score                                                                                                                                                                             4.4\n",
       "Ratings                                                                                                                                                                            37\n",
       "Comments                                                                                                                                [Excelente, buen aroma y resultados rápidos.]\n",
       "Name: 1721, dtype: object"
      ]
     },
     "metadata": {},
     "output_type": "display_data"
    },
    {
     "data": {
      "text/plain": [
       "Product                                                                                                                         Shampoo Alquitrán Hulla Control Psoriasis Caspa 500ml\n",
       "Price                                                                                                                                                                             149\n",
       "Link        https://articulo.mercadolibre.com.mx/MLM-1303212791-shampoo-alquitran-hulla-control-psoriasis-caspa-500ml-_JM#position=22&search_layout=stack&type=item&tracking_id=cd...\n",
       "Score                                                                                                                                                                             4.9\n",
       "Ratings                                                                                                                                                                             7\n",
       "Comments    [Excelente shampoo, he probado muchisimas marcas y ninguna me había quitado la resequedad que tenía en mi cráneo. Generalmente los shampoos combaten resequedad del ca...\n",
       "Name: 1747, dtype: object"
      ]
     },
     "metadata": {},
     "output_type": "display_data"
    }
   ],
   "source": [
    "for idx in range(len(df)-1):\n",
    "    for comm in df.loc[idx,'Comments']:\n",
    "        if re.search(r'excelente', comm, flags=re.IGNORECASE):\n",
    "            display(df.iloc[idx])"
   ]
  },
  {
   "cell_type": "code",
   "execution_count": 190,
   "metadata": {},
   "outputs": [],
   "source": [
    "utils_meli.open_link(df,250)"
   ]
  },
  {
   "cell_type": "markdown",
   "metadata": {},
   "source": [
    "# Word Cloud"
   ]
  },
  {
   "cell_type": "code",
   "execution_count": 69,
   "metadata": {},
   "outputs": [],
   "source": [
    "import spacy\n",
    "from unidecode import unidecode\n",
    "from sklearn.feature_extraction.text import CountVectorizer\n",
    "from PIL import Image\n",
    "import numpy as np\n",
    "from wordcloud import WordCloud\n",
    "import matplotlib.pyplot as plt"
   ]
  },
  {
   "cell_type": "code",
   "execution_count": 53,
   "metadata": {},
   "outputs": [
    {
     "name": "stdout",
     "output_type": "stream",
     "text": [
      "\u001b[38;5;2m✔ Download and installation successful\u001b[0m\n",
      "You can now load the package via spacy.load('es_core_news_sm')\n"
     ]
    }
   ],
   "source": [
    "spacy.cli.download(\"es_core_news_sm\")"
   ]
  },
  {
   "cell_type": "code",
   "execution_count": 54,
   "metadata": {},
   "outputs": [],
   "source": [
    "nlp = spacy.load(\"es_core_news_sm\")\n",
    "pat = re.compile(r\"[^a-z ]\")\n",
    "spaces = re.compile(r\"\\s{2,}\")\n",
    "\n",
    "def preprocess(text, min_len=1, max_len=1000):\n",
    "    # spacy Doc creation\n",
    "    doc = nlp(text)\n",
    "    # Remove stopwords\n",
    "    filtered_tokens = filter(\n",
    "            lambda token: not token.is_stop,\n",
    "            doc\n",
    "            )\n",
    "    # Filter words by length and remove stop words\n",
    "    filtered_tokens2 = filter(\n",
    "            lambda token: len(token) >= min_len and len(token) <= max_len and not token.is_stop,\n",
    "            filtered_tokens\n",
    "        )\n",
    "    # Lemmatization\n",
    "    lemmas = map(\n",
    "            lambda token: token.lemma_,\n",
    "            filtered_tokens2\n",
    "            )\n",
    "    lemma_text = \" \".join(lemmas)\n",
    "    # Normalize text\n",
    "    norm_text = unidecode(lemma_text)\n",
    "    # Remove accents\n",
    "    lower_text = norm_text.lower()\n",
    "    # Remove special characters\n",
    "    clean_text = re.sub(pat, \"\", lower_text)\n",
    "    # Remomove duplicate spaces (if exist)\n",
    "    spaces_text = re.sub(spaces, \" \", clean_text)\n",
    "    return spaces_text.strip()"
   ]
  },
  {
   "cell_type": "code",
   "execution_count": 215,
   "metadata": {},
   "outputs": [
    {
     "name": "stdout",
     "output_type": "stream",
     "text": [
      "['Me funciono perfecto, en tan solo 2 semanas había acabado con toda mi caspa y yo sufría demasiado y es la mejor solución.', 'Excelente producto para el control de la caspa, llevo 5 meses usándolo por recomendación de mi dermatóloga, cero caspa, ardor o comezón. Solo lo tengo que complementar con un acondicionador ya que el shampoo deja el cabello enredado, pero vale mucho la pena.', 'Producto en mal estado y sin sello del empaque.', 'Me encantó este shampoo había usado otras marcas por mi problema en el cuero cabelludo y al siguiente día de haber lavado mi cabello otra vez tenía costras en mi cabeza pero con este shampoo a la segunda lavada me encantó, ya mi cabeza no pica y siempre está limpio y no lo uso todos los días, y da muy buenos resultados ❤️.', 'Muy bueno genial …….', 'Excelente shampoo me gustó mucho como dejo mi cabello.', 'Muy bueno.', 'Aún no produce efecto, me preocupa que esté caducado o sea rellenado!.', 'Buen producto lo recomiendo lo único malo o mejor dicho el pero es que te deja el cabello horrible y ni hablar de cuánto te tira en cada lavada por lo mismo pero el resultado vale la pena en lo personal yo padezco de dermatitis seborreica y me la controlado muy bien lo volveré a comprar.', 'Lo uso como tratamiento para dermatitis seborreica, el olor es fuerte, pero el resultado es bueno, recomendado.', 'Muy buen producto.', 'El producto es bueno, la calidad acordé al precio.', 'Si es palmolive todo super bien.', 'Una buena opción para airbnb.', '-', 'Me eliminó mi problema con la seborrea.', 'Exactamente el mismo que antes compraba 100 pesos más caro en la farmacia, de ahora en adelante lo compraré por aquí y además me ahorran ir a la farmacia porque me llega en la puerta de mi casa y es exactamente el mismo, el original.', 'A mi no me quitó absolutamente nada. Incluso siento que mi caspa empeoró. Quizás sea porque no es para mi tipo de caspa, por lo que recomiendo que antes de gastar mejor consulten con un dermatólogo.', 'Lo super recomiendo 👌 es la segunda vez que lo pido.', 'Excelente producto.', 'Me pareció bastante adecuado la verdad que desde la primera vez que lo probé si note un gran cambio en mi cuerpo cabelludo. Y disminuye considerablemente la caspa. (problema del que yo padezco).\\nMe encantó compraré más para la reserva. Producto de 10!!.', 'Muy buen producto, llevo 1 semana y ya empiezo a ver resultados.', 'Excelente, me ayudo al día de que lo use!!!.', 'Ye bien empacado, sin problema.', 'Producto excelente, en la primera aplicación habla por sí solo deja una sensación de frescura y ataca el problema de la caspa de inmediato cero comezón ardon picor.']\n"
     ]
    }
   ],
   "source": [
    "all_comments = []\n",
    "\n",
    "for comm in df['Comments']:\n",
    "    all_comments.extend(comm)\n",
    "\n",
    "print(all_comments)"
   ]
  },
  {
   "cell_type": "code",
   "execution_count": 216,
   "metadata": {},
   "outputs": [
    {
     "name": "stdout",
     "output_type": "stream",
     "text": [
      "['funcionar perfecto semana acabar caspa sufrir solucion', 'excelente producto control caspa llevar mes usar el recomendacion dermatologa cero caspa ardor comezon complementar acondicionador shampoo dejar cabello enredado valer pena', 'producto sello empaque', 'encantar shampoo usar marca problema cuero cabelludo lavar cabello costra cabeza shampoo lavado encantar cabeza pico limpio resultado', 'genial', 'excelente shampoo gustar dejar cabello', '', 'producir efecto preocupar estar caducado rellenar', 'producto recomeir unico malo dejar cabello horrible hablar tirar lavar resultado valer pena personal padezco dermatitis seborreico controlado volver comprar', 'tratamiento dermatitis seborreicar olor fuerte resultado recomendado', 'producto', 'producto calidad acordar precio', 'palmolive super', 'opcion airbnb', '', 'eliminar problema seborrea', 'exactamente comprar pesos caro farmacia comprar ahorrar farmacia llegar puerta casa exactamente original', 'quitar absolutamente sentir caspa empeorar tipo caspa recomeir gastar consultir dermatologo', 'super recomeir pedir', 'excelente producto', 'parecer adecuado probar notar cambio cuerpo cabelludo disminuir considerablemente caspa problema padezco encantar comprar reserva producto', 'producto llevar semana empiezo resultado', 'excelente ayudo usar', 'ir empacado problema', 'producto excelente aplicacion dejar sensacion frescura ataca problema caspa inmediato cero comezon ardon picor']\n"
     ]
    }
   ],
   "source": [
    "prep_comments = list(map(preprocess,all_comments))\n",
    "print(prep_comments)"
   ]
  },
  {
   "cell_type": "code",
   "execution_count": 218,
   "metadata": {},
   "outputs": [],
   "source": [
    "vect = (\n",
    "    CountVectorizer(max_features=1000, max_df=0.7)\n",
    "    .fit(prep_comments)\n",
    "    )\n",
    "\n",
    "X = vect.transform(prep_comments)\n",
    "vocab = vect.get_feature_names_out()\n",
    "\n",
    "counts = np.array(X.sum(axis=0)).flatten()\n",
    "counts_dict = {word: count for word, count in zip(vocab, counts)}\n",
    "\n",
    "mask = np.array(Image.open(r\"C:\\Users\\nicarang\\OneDrive - Publicis Groupe\\Documentos\\Digitas\\P&G\\Social Listening\\H&S\\Alaska\\cloud.png\"))"
   ]
  },
  {
   "cell_type": "code",
   "execution_count": 219,
   "metadata": {},
   "outputs": [
    {
     "data": {
      "image/png": "[encoded data removed]",
      "text/plain": [
       "<Figure size 700x700 with 1 Axes>"
      ]
     },
     "metadata": {},
     "output_type": "display_data"
    }
   ],
   "source": [
    "wc = WordCloud(background_color='white',\n",
    "        width=3000,\n",
    "        height=2000,\n",
    "        collocations=False,\n",
    "        mask=mask,\n",
    "        colormap = 'Dark2',\n",
    "        max_words=40\n",
    ").generate_from_frequencies(counts_dict)\n",
    "\n",
    "plt.figure(figsize=[7,7])\n",
    "plt.imshow(wc,interpolation=\"bilinear\")\n",
    "plt.axis(\"off\") \n",
    "plt.show()"
   ]
  },
  {
   "cell_type": "code",
   "execution_count": 34,
   "metadata": {},
   "outputs": [],
   "source": [
    "utils_meli.open_link(df,4)"
   ]
  },
  {
   "cell_type": "code",
   "execution_count": 28,
   "metadata": {},
   "outputs": [
    {
     "data": {
      "text/plain": [
       "10"
      ]
     },
     "execution_count": 28,
     "metadata": {},
     "output_type": "execute_result"
    }
   ],
   "source": [
    "df.__len__()"
   ]
  },
  {
   "cell_type": "code",
   "execution_count": 32,
   "metadata": {},
   "outputs": [],
   "source": [
    "df.to_excel(os.path.join(parent_path,\"shampoo_para_la_caspa_meli_{}_{}_{}.xlsx\".format(datetime.today().year,datetime.today().month,datetime.today().day)), index=False)"
   ]
  },
  {
   "cell_type": "code",
   "execution_count": null,
   "metadata": {},
   "outputs": [],
   "source": [
    "# Pass the DataFrame and copy and paste the product name you want to see in browser\n",
    "reload(utils_meli)\n",
    "utils_meli.open_link(df,'Kit Capilar Argan Oil: Crema Rizadora Gd3 + Aceite Babyliss')"
   ]
  },
  {
   "cell_type": "code",
   "execution_count": null,
   "metadata": {},
   "outputs": [],
   "source": [
    "# Pass the DataFrame and index you want to open in browser\n",
    "reload(utils_meli)\n",
    "utils_meli.open_link(df,3)"
   ]
  },
  {
   "attachments": {},
   "cell_type": "markdown",
   "metadata": {},
   "source": [
    "# Metrics"
   ]
  },
  {
   "attachments": {},
   "cell_type": "markdown",
   "metadata": {},
   "source": [
    "## Price Analysis"
   ]
  },
  {
   "cell_type": "code",
   "execution_count": 21,
   "metadata": {},
   "outputs": [
    {
     "data": {
      "text/plain": [
       "'C:/Users/nicarang/Documents/Digitas/P&G/Benchmarking/H&S/Severe/MeLi/shampoo_para_la_caspa_2023_3_27.xlsx'"
      ]
     },
     "execution_count": 21,
     "metadata": {},
     "output_type": "execute_result"
    }
   ],
   "source": [
    "r\"C:\\Users\\nicarang\\Documents\\Digitas\\P&G\\Benchmarking\\H&S\\Severe\\MeLi\\shampoo_para_la_caspa_2023_3_27.xlsx\".replace(\"\\\\\", \"/\")"
   ]
  },
  {
   "cell_type": "code",
   "execution_count": 22,
   "metadata": {},
   "outputs": [
    {
     "data": {
      "text/html": [
       "<div>\n",
       "<style scoped>\n",
       "    .dataframe tbody tr th:only-of-type {\n",
       "        vertical-align: middle;\n",
       "    }\n",
       "\n",
       "    .dataframe tbody tr th {\n",
       "        vertical-align: top;\n",
       "    }\n",
       "\n",
       "    .dataframe thead th {\n",
       "        text-align: right;\n",
       "    }\n",
       "</style>\n",
       "<table border=\"1\" class=\"dataframe\">\n",
       "  <thead>\n",
       "    <tr style=\"text-align: right;\">\n",
       "      <th></th>\n",
       "      <th>Brand</th>\n",
       "      <th>Product</th>\n",
       "      <th>Price</th>\n",
       "      <th>Link</th>\n",
       "    </tr>\n",
       "  </thead>\n",
       "  <tbody>\n",
       "    <tr>\n",
       "      <th>0</th>\n",
       "      <td>MEDICASP</td>\n",
       "      <td>Shampoo Medicasp Anticaspa Uso Diario 2 Botellas De 130ml</td>\n",
       "      <td>195</td>\n",
       "      <td>https://www.mercadolibre.com.mx/shampoo-medicasp-anticaspa-uso-diario-2-botellas-de-130ml/p/MLM19094907?pdp_filters=category:MLM430117#searchVariation=MLM19094907&amp;pos...</td>\n",
       "    </tr>\n",
       "    <tr>\n",
       "      <th>1</th>\n",
       "      <td>VICHY</td>\n",
       "      <td>Shampoo Vichy Anticaspa Dercos Ds Cabello Graso 200 Ml</td>\n",
       "      <td>557</td>\n",
       "      <td>https://articulo.mercadolibre.com.mx/MLM-769613335-shampoo-vichy-anticaspa-dercos-ds-cabello-graso-200-ml-_JM#position=29&amp;search_layout=stack&amp;type=item&amp;tracking_id=bf...</td>\n",
       "    </tr>\n",
       "    <tr>\n",
       "      <th>2</th>\n",
       "      <td>SELSUN BLUE</td>\n",
       "      <td>Shampoo Selsun Blue Naturals Dandruff 325ml 11oz</td>\n",
       "      <td>223</td>\n",
       "      <td>https://www.mercadolibre.com.mx/shampoo-selsun-blue-naturals-dandruff-325ml-11oz/p/MLM19546760?pdp_filters=category:MLM430117#searchVariation=MLM19546760&amp;position=2&amp;s...</td>\n",
       "    </tr>\n",
       "    <tr>\n",
       "      <th>3</th>\n",
       "      <td>ISDIN</td>\n",
       "      <td>Isdin Nutradeica Shampoo Anticaspa Grasa 200ml</td>\n",
       "      <td>358</td>\n",
       "      <td>https://www.mercadolibre.com.mx/isdin-nutradeica-shampoo-anticaspa-grasa-200ml/p/MLM19702444?pdp_filters=category:MLM430117#searchVariation=MLM19702444&amp;position=3&amp;sea...</td>\n",
       "    </tr>\n",
       "    <tr>\n",
       "      <th>4</th>\n",
       "      <td>ISDIN</td>\n",
       "      <td>Shampoo Isdin Lambdapil Anticaída en botella de 200mL</td>\n",
       "      <td>330</td>\n",
       "      <td>https://www.mercadolibre.com.mx/shampoo-isdin-lambdapil-anticaida-en-botella-de-200ml/p/MLM19147966?pdp_filters=category:MLM430117#searchVariation=MLM19147966&amp;positio...</td>\n",
       "    </tr>\n",
       "  </tbody>\n",
       "</table>\n",
       "</div>"
      ],
      "text/plain": [
       "         Brand                                                    Product  \\\n",
       "0     MEDICASP  Shampoo Medicasp Anticaspa Uso Diario 2 Botellas De 130ml   \n",
       "1        VICHY    Shampoo Vichy Anticaspa Dercos Ds Cabello Graso 200 Ml    \n",
       "2  SELSUN BLUE           Shampoo Selsun Blue Naturals Dandruff 325ml 11oz   \n",
       "3        ISDIN             Isdin Nutradeica Shampoo Anticaspa Grasa 200ml   \n",
       "4        ISDIN      Shampoo Isdin Lambdapil Anticaída en botella de 200mL   \n",
       "\n",
       "   Price  \\\n",
       "0    195   \n",
       "1    557   \n",
       "2    223   \n",
       "3    358   \n",
       "4    330   \n",
       "\n",
       "                                                                                                                                                                        Link  \n",
       "0  https://www.mercadolibre.com.mx/shampoo-medicasp-anticaspa-uso-diario-2-botellas-de-130ml/p/MLM19094907?pdp_filters=category:MLM430117#searchVariation=MLM19094907&pos...  \n",
       "1  https://articulo.mercadolibre.com.mx/MLM-769613335-shampoo-vichy-anticaspa-dercos-ds-cabello-graso-200-ml-_JM#position=29&search_layout=stack&type=item&tracking_id=bf...  \n",
       "2  https://www.mercadolibre.com.mx/shampoo-selsun-blue-naturals-dandruff-325ml-11oz/p/MLM19546760?pdp_filters=category:MLM430117#searchVariation=MLM19546760&position=2&s...  \n",
       "3  https://www.mercadolibre.com.mx/isdin-nutradeica-shampoo-anticaspa-grasa-200ml/p/MLM19702444?pdp_filters=category:MLM430117#searchVariation=MLM19702444&position=3&sea...  \n",
       "4  https://www.mercadolibre.com.mx/shampoo-isdin-lambdapil-anticaida-en-botella-de-200ml/p/MLM19147966?pdp_filters=category:MLM430117#searchVariation=MLM19147966&positio...  "
      ]
     },
     "execution_count": 22,
     "metadata": {},
     "output_type": "execute_result"
    }
   ],
   "source": [
    "df = pd.read_excel(r\"C:\\Users\\nicarang\\Documents\\Digitas\\P&G\\Benchmarking\\H&S\\Severe\\MeLi\\shampoo_para_la_caspa_2023_3_27.xlsx\".replace(\"\\\\\", \"/\"))\n",
    "df.head()"
   ]
  },
  {
   "cell_type": "code",
   "execution_count": 23,
   "metadata": {},
   "outputs": [
    {
     "name": "stdout",
     "output_type": "stream",
     "text": [
      "Median: 449.0\n"
     ]
    },
    {
     "data": {
      "text/html": [
       "<div>\n",
       "<style scoped>\n",
       "    .dataframe tbody tr th:only-of-type {\n",
       "        vertical-align: middle;\n",
       "    }\n",
       "\n",
       "    .dataframe tbody tr th {\n",
       "        vertical-align: top;\n",
       "    }\n",
       "\n",
       "    .dataframe thead th {\n",
       "        text-align: right;\n",
       "    }\n",
       "</style>\n",
       "<table border=\"1\" class=\"dataframe\">\n",
       "  <thead>\n",
       "    <tr style=\"text-align: right;\">\n",
       "      <th></th>\n",
       "      <th>Price</th>\n",
       "    </tr>\n",
       "  </thead>\n",
       "  <tbody>\n",
       "    <tr>\n",
       "      <th>count</th>\n",
       "      <td>1673.00</td>\n",
       "    </tr>\n",
       "    <tr>\n",
       "      <th>mean</th>\n",
       "      <td>662.25</td>\n",
       "    </tr>\n",
       "    <tr>\n",
       "      <th>std</th>\n",
       "      <td>662.15</td>\n",
       "    </tr>\n",
       "    <tr>\n",
       "      <th>min</th>\n",
       "      <td>2.00</td>\n",
       "    </tr>\n",
       "    <tr>\n",
       "      <th>25%</th>\n",
       "      <td>247.00</td>\n",
       "    </tr>\n",
       "    <tr>\n",
       "      <th>50%</th>\n",
       "      <td>449.00</td>\n",
       "    </tr>\n",
       "    <tr>\n",
       "      <th>75%</th>\n",
       "      <td>831.00</td>\n",
       "    </tr>\n",
       "    <tr>\n",
       "      <th>max</th>\n",
       "      <td>4156.00</td>\n",
       "    </tr>\n",
       "  </tbody>\n",
       "</table>\n",
       "</div>"
      ],
      "text/plain": [
       "         Price\n",
       "count  1673.00\n",
       "mean    662.25\n",
       "std     662.15\n",
       "min       2.00\n",
       "25%     247.00\n",
       "50%     449.00\n",
       "75%     831.00\n",
       "max    4156.00"
      ]
     },
     "execution_count": 23,
     "metadata": {},
     "output_type": "execute_result"
    }
   ],
   "source": [
    "reload(utils_meli)\n",
    "df_25 = utils_meli.quartile_prices(df)[0]\n",
    "df_25_50 = utils_meli.quartile_prices(df)[1]\n",
    "df_50_75 = utils_meli.quartile_prices(df)[2]\n",
    "df_75 = utils_meli.quartile_prices(df)[3]\n",
    "quartiles = utils_meli.quartile_prices(df)[4]\n",
    "print(f'Median: {df.Price.median()}')\n",
    "quartiles"
   ]
  },
  {
   "cell_type": "code",
   "execution_count": 16,
   "metadata": {},
   "outputs": [
    {
     "name": "stdout",
     "output_type": "stream",
     "text": [
      "Prime products [above quartile 75] -> 418 products (24.99%) \n",
      "Premium products [between quartiles 50 & 75] -> 417 products (24.93%) \n",
      "Mid products [between quartiles 25 & 50] -> 419 products (25.04%) \n",
      "Low products [below quartile 25 ] -> 419 products (25.04%) \n"
     ]
    }
   ],
   "source": [
    "# Products above quartile 75\n",
    "print('Prime products [above quartile 75] -> {} products ({}%) '.format(df_75.Product.to_list().__len__(), round((df_75.Product.to_list().__len__() / df.__len__()) * 100, 2)))\n",
    "print('Premium products [between quartiles 50 & 75] -> {} products ({}%) '.format(df_50_75.Product.to_list().__len__(), round((df_50_75.Product.to_list().__len__() / df.__len__()) * 100, 2)))\n",
    "print('Mid products [between quartiles 25 & 50] -> {} products ({}%) '.format(df_25_50.Product.to_list().__len__(), round((df_25_50.Product.to_list().__len__() / df.__len__()) * 100, 2)))\n",
    "print('Low products [below quartile 25 ] -> {} products ({}%) '.format(df_25.Product.to_list().__len__(), round((df_25.Product.to_list().__len__() / df.__len__()) * 100, 2)))"
   ]
  },
  {
   "cell_type": "code",
   "execution_count": 17,
   "metadata": {},
   "outputs": [
    {
     "name": "stdout",
     "output_type": "stream",
     "text": [
      "Quartile (75>) - Products: 418\n"
     ]
    },
    {
     "data": {
      "text/html": [
       "<div>\n",
       "<style scoped>\n",
       "    .dataframe tbody tr th:only-of-type {\n",
       "        vertical-align: middle;\n",
       "    }\n",
       "\n",
       "    .dataframe tbody tr th {\n",
       "        vertical-align: top;\n",
       "    }\n",
       "\n",
       "    .dataframe thead th {\n",
       "        text-align: right;\n",
       "    }\n",
       "</style>\n",
       "<table border=\"1\" class=\"dataframe\">\n",
       "  <thead>\n",
       "    <tr style=\"text-align: right;\">\n",
       "      <th></th>\n",
       "      <th>Brand</th>\n",
       "      <th>Product</th>\n",
       "      <th>Price</th>\n",
       "      <th>Link</th>\n",
       "    </tr>\n",
       "  </thead>\n",
       "  <tbody>\n",
       "    <tr>\n",
       "      <th>0</th>\n",
       "      <td>-</td>\n",
       "      <td>Shampoo Alquitran D' Hulla 20lt Tratamiento Psoriasis/ Hongo</td>\n",
       "      <td>1450</td>\n",
       "      <td>https://click1.mercadolibre.com.mx/mclics/clicks/external/MLM/count?a=jy3ff5s61ZKQtO7sVArbaoZ11r6KhLvZdtXidXHHAk5hsVY6VdSAFSM34HH5yJXDxRX8yQ7wvuzFfzM57bnOQ%2FpebgLd31...</td>\n",
       "    </tr>\n",
       "    <tr>\n",
       "      <th>1</th>\n",
       "      <td>JUSSE</td>\n",
       "      <td>Kit 3 Shampoo Jusse Alopecia Caída Crecimiento Frágil Frizz</td>\n",
       "      <td>999</td>\n",
       "      <td>https://click1.mercadolibre.com.mx/mclics/clicks/external/MLM/count?a=qTNjUzqT4FqbM9ZGSujQTX2QY%2BWZoM3FSdjJtsESYW3kP76jFcLc31wcH69gstVuDCmmKyZG6kWHfsjbNgmgEp5xAo0z19...</td>\n",
       "    </tr>\n",
       "    <tr>\n",
       "      <th>2</th>\n",
       "      <td>NEUTROGENA</td>\n",
       "      <td>Shampoo Gel Neutrogena T/gel  Fórmula Original Pak 2 (250ml)</td>\n",
       "      <td>875</td>\n",
       "      <td>https://articulo.mercadolibre.com.mx/MLM-1425050167-shampoo-gel-neutrogena-tgel-formula-original-pak-2-250ml-_JM#position=38&amp;search_layout=stack&amp;type=item&amp;tracking_id...</td>\n",
       "    </tr>\n",
       "    <tr>\n",
       "      <th>3</th>\n",
       "      <td>PALMOLIVE</td>\n",
       "      <td>1152 Pzs/10ml. Shampoo Hotelero Palmolive Optims En Sobres</td>\n",
       "      <td>1709</td>\n",
       "      <td>https://articulo.mercadolibre.com.mx/MLM-871879796-1152-pzs10ml-shampoo-hotelero-palmolive-optims-en-sobres-_JM#position=41&amp;search_layout=stack&amp;type=item&amp;tracking_id=...</td>\n",
       "    </tr>\n",
       "    <tr>\n",
       "      <th>4</th>\n",
       "      <td>-</td>\n",
       "      <td>Cln Champú Cuero Cabelludo Propensos Foliculitis Caspa Picor</td>\n",
       "      <td>1799</td>\n",
       "      <td>https://articulo.mercadolibre.com.mx/MLM-1518769756-cln-champu-cuero-cabelludo-propensos-foliculitis-caspa-picor-_JM#position=20&amp;search_layout=stack&amp;type=item&amp;trackin...</td>\n",
       "    </tr>\n",
       "  </tbody>\n",
       "</table>\n",
       "</div>"
      ],
      "text/plain": [
       "        Brand                                                       Product  \\\n",
       "0           -  Shampoo Alquitran D' Hulla 20lt Tratamiento Psoriasis/ Hongo   \n",
       "1       JUSSE   Kit 3 Shampoo Jusse Alopecia Caída Crecimiento Frágil Frizz   \n",
       "2  NEUTROGENA  Shampoo Gel Neutrogena T/gel  Fórmula Original Pak 2 (250ml)   \n",
       "3   PALMOLIVE    1152 Pzs/10ml. Shampoo Hotelero Palmolive Optims En Sobres   \n",
       "4           -  Cln Champú Cuero Cabelludo Propensos Foliculitis Caspa Picor   \n",
       "\n",
       "   Price  \\\n",
       "0   1450   \n",
       "1    999   \n",
       "2    875   \n",
       "3   1709   \n",
       "4   1799   \n",
       "\n",
       "                                                                                                                                                                        Link  \n",
       "0  https://click1.mercadolibre.com.mx/mclics/clicks/external/MLM/count?a=jy3ff5s61ZKQtO7sVArbaoZ11r6KhLvZdtXidXHHAk5hsVY6VdSAFSM34HH5yJXDxRX8yQ7wvuzFfzM57bnOQ%2FpebgLd31...  \n",
       "1  https://click1.mercadolibre.com.mx/mclics/clicks/external/MLM/count?a=qTNjUzqT4FqbM9ZGSujQTX2QY%2BWZoM3FSdjJtsESYW3kP76jFcLc31wcH69gstVuDCmmKyZG6kWHfsjbNgmgEp5xAo0z19...  \n",
       "2  https://articulo.mercadolibre.com.mx/MLM-1425050167-shampoo-gel-neutrogena-tgel-formula-original-pak-2-250ml-_JM#position=38&search_layout=stack&type=item&tracking_id...  \n",
       "3  https://articulo.mercadolibre.com.mx/MLM-871879796-1152-pzs10ml-shampoo-hotelero-palmolive-optims-en-sobres-_JM#position=41&search_layout=stack&type=item&tracking_id=...  \n",
       "4  https://articulo.mercadolibre.com.mx/MLM-1518769756-cln-champu-cuero-cabelludo-propensos-foliculitis-caspa-picor-_JM#position=20&search_layout=stack&type=item&trackin...  "
      ]
     },
     "metadata": {},
     "output_type": "display_data"
    },
    {
     "data": {
      "application/vnd.plotly.v1+json": {
       "config": {
        "plotlyServerURL": "https://plot.ly"
       },
       "data": [
        {
         "alignmentgroup": "True",
         "hovertemplate": "Count=%{x}<br>Brand=%{y}<extra></extra>",
         "legendgroup": "",
         "marker": {
          "color": "#636efa",
          "pattern": {
           "shape": ""
          }
         },
         "name": "",
         "offsetgroup": "",
         "orientation": "h",
         "showlegend": false,
         "textposition": "auto",
         "texttemplate": "%{x}",
         "type": "bar",
         "x": [
          131,
          111,
          98
         ],
         "xaxis": "x",
         "y": [
          "CELESTY",
          "-",
          "FRANCIS"
         ],
         "yaxis": "y"
        }
       ],
       "layout": {
        "barmode": "relative",
        "height": 600,
        "legend": {
         "tracegroupgap": 0
        },
        "margin": {
         "t": 60
        },
        "template": {
         "data": {
          "bar": [
           {
            "error_x": {
             "color": "#2a3f5f"
            },
            "error_y": {
             "color": "#2a3f5f"
            },
            "marker": {
             "line": {
              "color": "#E5ECF6",
              "width": 0.5
             },
             "pattern": {
              "fillmode": "overlay",
              "size": 10,
              "solidity": 0.2
             }
            },
            "type": "bar"
           }
          ],
          "barpolar": [
           {
            "marker": {
             "line": {
              "color": "#E5ECF6",
              "width": 0.5
             },
             "pattern": {
              "fillmode": "overlay",
              "size": 10,
              "solidity": 0.2
             }
            },
            "type": "barpolar"
           }
          ],
          "carpet": [
           {
            "aaxis": {
             "endlinecolor": "#2a3f5f",
             "gridcolor": "white",
             "linecolor": "white",
             "minorgridcolor": "white",
             "startlinecolor": "#2a3f5f"
            },
            "baxis": {
             "endlinecolor": "#2a3f5f",
             "gridcolor": "white",
             "linecolor": "white",
             "minorgridcolor": "white",
             "startlinecolor": "#2a3f5f"
            },
            "type": "carpet"
           }
          ],
          "choropleth": [
           {
            "colorbar": {
             "outlinewidth": 0,
             "ticks": ""
            },
            "type": "choropleth"
           }
          ],
          "contour": [
           {
            "colorbar": {
             "outlinewidth": 0,
             "ticks": ""
            },
            "colorscale": [
             [
              0,
              "#0d0887"
             ],
             [
              0.1111111111111111,
              "#46039f"
             ],
             [
              0.2222222222222222,
              "#7201a8"
             ],
             [
              0.3333333333333333,
              "#9c179e"
             ],
             [
              0.4444444444444444,
              "#bd3786"
             ],
             [
              0.5555555555555556,
              "#d8576b"
             ],
             [
              0.6666666666666666,
              "#ed7953"
             ],
             [
              0.7777777777777778,
              "#fb9f3a"
             ],
             [
              0.8888888888888888,
              "#fdca26"
             ],
             [
              1,
              "#f0f921"
             ]
            ],
            "type": "contour"
           }
          ],
          "contourcarpet": [
           {
            "colorbar": {
             "outlinewidth": 0,
             "ticks": ""
            },
            "type": "contourcarpet"
           }
          ],
          "heatmap": [
           {
            "colorbar": {
             "outlinewidth": 0,
             "ticks": ""
            },
            "colorscale": [
             [
              0,
              "#0d0887"
             ],
             [
              0.1111111111111111,
              "#46039f"
             ],
             [
              0.2222222222222222,
              "#7201a8"
             ],
             [
              0.3333333333333333,
              "#9c179e"
             ],
             [
              0.4444444444444444,
              "#bd3786"
             ],
             [
              0.5555555555555556,
              "#d8576b"
             ],
             [
              0.6666666666666666,
              "#ed7953"
             ],
             [
              0.7777777777777778,
              "#fb9f3a"
             ],
             [
              0.8888888888888888,
              "#fdca26"
             ],
             [
              1,
              "#f0f921"
             ]
            ],
            "type": "heatmap"
           }
          ],
          "heatmapgl": [
           {
            "colorbar": {
             "outlinewidth": 0,
             "ticks": ""
            },
            "colorscale": [
             [
              0,
              "#0d0887"
             ],
             [
              0.1111111111111111,
              "#46039f"
             ],
             [
              0.2222222222222222,
              "#7201a8"
             ],
             [
              0.3333333333333333,
              "#9c179e"
             ],
             [
              0.4444444444444444,
              "#bd3786"
             ],
             [
              0.5555555555555556,
              "#d8576b"
             ],
             [
              0.6666666666666666,
              "#ed7953"
             ],
             [
              0.7777777777777778,
              "#fb9f3a"
             ],
             [
              0.8888888888888888,
              "#fdca26"
             ],
             [
              1,
              "#f0f921"
             ]
            ],
            "type": "heatmapgl"
           }
          ],
          "histogram": [
           {
            "marker": {
             "pattern": {
              "fillmode": "overlay",
              "size": 10,
              "solidity": 0.2
             }
            },
            "type": "histogram"
           }
          ],
          "histogram2d": [
           {
            "colorbar": {
             "outlinewidth": 0,
             "ticks": ""
            },
            "colorscale": [
             [
              0,
              "#0d0887"
             ],
             [
              0.1111111111111111,
              "#46039f"
             ],
             [
              0.2222222222222222,
              "#7201a8"
             ],
             [
              0.3333333333333333,
              "#9c179e"
             ],
             [
              0.4444444444444444,
              "#bd3786"
             ],
             [
              0.5555555555555556,
              "#d8576b"
             ],
             [
              0.6666666666666666,
              "#ed7953"
             ],
             [
              0.7777777777777778,
              "#fb9f3a"
             ],
             [
              0.8888888888888888,
              "#fdca26"
             ],
             [
              1,
              "#f0f921"
             ]
            ],
            "type": "histogram2d"
           }
          ],
          "histogram2dcontour": [
           {
            "colorbar": {
             "outlinewidth": 0,
             "ticks": ""
            },
            "colorscale": [
             [
              0,
              "#0d0887"
             ],
             [
              0.1111111111111111,
              "#46039f"
             ],
             [
              0.2222222222222222,
              "#7201a8"
             ],
             [
              0.3333333333333333,
              "#9c179e"
             ],
             [
              0.4444444444444444,
              "#bd3786"
             ],
             [
              0.5555555555555556,
              "#d8576b"
             ],
             [
              0.6666666666666666,
              "#ed7953"
             ],
             [
              0.7777777777777778,
              "#fb9f3a"
             ],
             [
              0.8888888888888888,
              "#fdca26"
             ],
             [
              1,
              "#f0f921"
             ]
            ],
            "type": "histogram2dcontour"
           }
          ],
          "mesh3d": [
           {
            "colorbar": {
             "outlinewidth": 0,
             "ticks": ""
            },
            "type": "mesh3d"
           }
          ],
          "parcoords": [
           {
            "line": {
             "colorbar": {
              "outlinewidth": 0,
              "ticks": ""
             }
            },
            "type": "parcoords"
           }
          ],
          "pie": [
           {
            "automargin": true,
            "type": "pie"
           }
          ],
          "scatter": [
           {
            "fillpattern": {
             "fillmode": "overlay",
             "size": 10,
             "solidity": 0.2
            },
            "type": "scatter"
           }
          ],
          "scatter3d": [
           {
            "line": {
             "colorbar": {
              "outlinewidth": 0,
              "ticks": ""
             }
            },
            "marker": {
             "colorbar": {
              "outlinewidth": 0,
              "ticks": ""
             }
            },
            "type": "scatter3d"
           }
          ],
          "scattercarpet": [
           {
            "marker": {
             "colorbar": {
              "outlinewidth": 0,
              "ticks": ""
             }
            },
            "type": "scattercarpet"
           }
          ],
          "scattergeo": [
           {
            "marker": {
             "colorbar": {
              "outlinewidth": 0,
              "ticks": ""
             }
            },
            "type": "scattergeo"
           }
          ],
          "scattergl": [
           {
            "marker": {
             "colorbar": {
              "outlinewidth": 0,
              "ticks": ""
             }
            },
            "type": "scattergl"
           }
          ],
          "scattermapbox": [
           {
            "marker": {
             "colorbar": {
              "outlinewidth": 0,
              "ticks": ""
             }
            },
            "type": "scattermapbox"
           }
          ],
          "scatterpolar": [
           {
            "marker": {
             "colorbar": {
              "outlinewidth": 0,
              "ticks": ""
             }
            },
            "type": "scatterpolar"
           }
          ],
          "scatterpolargl": [
           {
            "marker": {
             "colorbar": {
              "outlinewidth": 0,
              "ticks": ""
             }
            },
            "type": "scatterpolargl"
           }
          ],
          "scatterternary": [
           {
            "marker": {
             "colorbar": {
              "outlinewidth": 0,
              "ticks": ""
             }
            },
            "type": "scatterternary"
           }
          ],
          "surface": [
           {
            "colorbar": {
             "outlinewidth": 0,
             "ticks": ""
            },
            "colorscale": [
             [
              0,
              "#0d0887"
             ],
             [
              0.1111111111111111,
              "#46039f"
             ],
             [
              0.2222222222222222,
              "#7201a8"
             ],
             [
              0.3333333333333333,
              "#9c179e"
             ],
             [
              0.4444444444444444,
              "#bd3786"
             ],
             [
              0.5555555555555556,
              "#d8576b"
             ],
             [
              0.6666666666666666,
              "#ed7953"
             ],
             [
              0.7777777777777778,
              "#fb9f3a"
             ],
             [
              0.8888888888888888,
              "#fdca26"
             ],
             [
              1,
              "#f0f921"
             ]
            ],
            "type": "surface"
           }
          ],
          "table": [
           {
            "cells": {
             "fill": {
              "color": "#EBF0F8"
             },
             "line": {
              "color": "white"
             }
            },
            "header": {
             "fill": {
              "color": "#C8D4E3"
             },
             "line": {
              "color": "white"
             }
            },
            "type": "table"
           }
          ]
         },
         "layout": {
          "annotationdefaults": {
           "arrowcolor": "#2a3f5f",
           "arrowhead": 0,
           "arrowwidth": 1
          },
          "autotypenumbers": "strict",
          "coloraxis": {
           "colorbar": {
            "outlinewidth": 0,
            "ticks": ""
           }
          },
          "colorscale": {
           "diverging": [
            [
             0,
             "#8e0152"
            ],
            [
             0.1,
             "#c51b7d"
            ],
            [
             0.2,
             "#de77ae"
            ],
            [
             0.3,
             "#f1b6da"
            ],
            [
             0.4,
             "#fde0ef"
            ],
            [
             0.5,
             "#f7f7f7"
            ],
            [
             0.6,
             "#e6f5d0"
            ],
            [
             0.7,
             "#b8e186"
            ],
            [
             0.8,
             "#7fbc41"
            ],
            [
             0.9,
             "#4d9221"
            ],
            [
             1,
             "#276419"
            ]
           ],
           "sequential": [
            [
             0,
             "#0d0887"
            ],
            [
             0.1111111111111111,
             "#46039f"
            ],
            [
             0.2222222222222222,
             "#7201a8"
            ],
            [
             0.3333333333333333,
             "#9c179e"
            ],
            [
             0.4444444444444444,
             "#bd3786"
            ],
            [
             0.5555555555555556,
             "#d8576b"
            ],
            [
             0.6666666666666666,
             "#ed7953"
            ],
            [
             0.7777777777777778,
             "#fb9f3a"
            ],
            [
             0.8888888888888888,
             "#fdca26"
            ],
            [
             1,
             "#f0f921"
            ]
           ],
           "sequentialminus": [
            [
             0,
             "#0d0887"
            ],
            [
             0.1111111111111111,
             "#46039f"
            ],
            [
             0.2222222222222222,
             "#7201a8"
            ],
            [
             0.3333333333333333,
             "#9c179e"
            ],
            [
             0.4444444444444444,
             "#bd3786"
            ],
            [
             0.5555555555555556,
             "#d8576b"
            ],
            [
             0.6666666666666666,
             "#ed7953"
            ],
            [
             0.7777777777777778,
             "#fb9f3a"
            ],
            [
             0.8888888888888888,
             "#fdca26"
            ],
            [
             1,
             "#f0f921"
            ]
           ]
          },
          "colorway": [
           "#636efa",
           "#EF553B",
           "#00cc96",
           "#ab63fa",
           "#FFA15A",
           "#19d3f3",
           "#FF6692",
           "#B6E880",
           "#FF97FF",
           "#FECB52"
          ],
          "font": {
           "color": "#2a3f5f"
          },
          "geo": {
           "bgcolor": "white",
           "lakecolor": "white",
           "landcolor": "#E5ECF6",
           "showlakes": true,
           "showland": true,
           "subunitcolor": "white"
          },
          "hoverlabel": {
           "align": "left"
          },
          "hovermode": "closest",
          "mapbox": {
           "style": "light"
          },
          "paper_bgcolor": "white",
          "plot_bgcolor": "#E5ECF6",
          "polar": {
           "angularaxis": {
            "gridcolor": "white",
            "linecolor": "white",
            "ticks": ""
           },
           "bgcolor": "#E5ECF6",
           "radialaxis": {
            "gridcolor": "white",
            "linecolor": "white",
            "ticks": ""
           }
          },
          "scene": {
           "xaxis": {
            "backgroundcolor": "#E5ECF6",
            "gridcolor": "white",
            "gridwidth": 2,
            "linecolor": "white",
            "showbackground": true,
            "ticks": "",
            "zerolinecolor": "white"
           },
           "yaxis": {
            "backgroundcolor": "#E5ECF6",
            "gridcolor": "white",
            "gridwidth": 2,
            "linecolor": "white",
            "showbackground": true,
            "ticks": "",
            "zerolinecolor": "white"
           },
           "zaxis": {
            "backgroundcolor": "#E5ECF6",
            "gridcolor": "white",
            "gridwidth": 2,
            "linecolor": "white",
            "showbackground": true,
            "ticks": "",
            "zerolinecolor": "white"
           }
          },
          "shapedefaults": {
           "line": {
            "color": "#2a3f5f"
           }
          },
          "ternary": {
           "aaxis": {
            "gridcolor": "white",
            "linecolor": "white",
            "ticks": ""
           },
           "baxis": {
            "gridcolor": "white",
            "linecolor": "white",
            "ticks": ""
           },
           "bgcolor": "#E5ECF6",
           "caxis": {
            "gridcolor": "white",
            "linecolor": "white",
            "ticks": ""
           }
          },
          "title": {
           "x": 0.05
          },
          "xaxis": {
           "automargin": true,
           "gridcolor": "white",
           "linecolor": "white",
           "ticks": "",
           "title": {
            "standoff": 15
           },
           "zerolinecolor": "white",
           "zerolinewidth": 2
          },
          "yaxis": {
           "automargin": true,
           "gridcolor": "white",
           "linecolor": "white",
           "ticks": "",
           "title": {
            "standoff": 15
           },
           "zerolinecolor": "white",
           "zerolinewidth": 2
          }
         }
        },
        "title": {
         "text": "Brands over 10 search results"
        },
        "width": 1100,
        "xaxis": {
         "anchor": "y",
         "categoryorder": "total descending",
         "domain": [
          0,
          1
         ],
         "title": {
          "text": "Count"
         }
        },
        "yaxis": {
         "anchor": "x",
         "domain": [
          0,
          1
         ],
         "title": {
          "text": "Brand"
         }
        }
       }
      }
     },
     "metadata": {},
     "output_type": "display_data"
    },
    {
     "name": "stdout",
     "output_type": "stream",
     "text": [
      "Quartile (50-75] - Products: 417\n"
     ]
    },
    {
     "data": {
      "text/html": [
       "<div>\n",
       "<style scoped>\n",
       "    .dataframe tbody tr th:only-of-type {\n",
       "        vertical-align: middle;\n",
       "    }\n",
       "\n",
       "    .dataframe tbody tr th {\n",
       "        vertical-align: top;\n",
       "    }\n",
       "\n",
       "    .dataframe thead th {\n",
       "        text-align: right;\n",
       "    }\n",
       "</style>\n",
       "<table border=\"1\" class=\"dataframe\">\n",
       "  <thead>\n",
       "    <tr style=\"text-align: right;\">\n",
       "      <th></th>\n",
       "      <th>Brand</th>\n",
       "      <th>Product</th>\n",
       "      <th>Price</th>\n",
       "      <th>Link</th>\n",
       "    </tr>\n",
       "  </thead>\n",
       "  <tbody>\n",
       "    <tr>\n",
       "      <th>0</th>\n",
       "      <td>VICHY</td>\n",
       "      <td>Shampoo Vichy Anticaspa Dercos Ds Cabello Graso 200 Ml</td>\n",
       "      <td>557</td>\n",
       "      <td>https://articulo.mercadolibre.com.mx/MLM-769613335-shampoo-vichy-anticaspa-dercos-ds-cabello-graso-200-ml-_JM#position=29&amp;search_layout=stack&amp;type=item&amp;tracking_id=bf...</td>\n",
       "    </tr>\n",
       "    <tr>\n",
       "      <th>1</th>\n",
       "      <td>VICHY</td>\n",
       "      <td>Shampoo Vichy Anticaspa Dercos Ds Cabello Graso 200 Ml</td>\n",
       "      <td>557</td>\n",
       "      <td>https://click1.mercadolibre.com.mx/mclics/clicks/external/MLM/count?a=ox54sra9enQ5i0HHEMIKbYPspVU3q6zyVousvf9gcsISSujvrcWZAbKSYntDlFiB63Nes4rgUn2bcL8b0RQjPea1Vob3F2Gr...</td>\n",
       "    </tr>\n",
       "    <tr>\n",
       "      <th>2</th>\n",
       "      <td>DUCRAY</td>\n",
       "      <td>Shampoo Ducray Kelual DS en botella de 100mL por 1 unidad de 100mL</td>\n",
       "      <td>475</td>\n",
       "      <td>https://www.mercadolibre.com.mx/shampoo-ducray-kelual-ds-en-botella-de-100ml-por-1-unidad-de-100ml/p/MLM17897484?pdp_filters=category:MLM430117#searchVariation=MLM178...</td>\n",
       "    </tr>\n",
       "    <tr>\n",
       "      <th>3</th>\n",
       "      <td>MEDIHEALTH</td>\n",
       "      <td>Betapirox Champú, Anti-caspa Medihealth 120 Ml, Pack 2</td>\n",
       "      <td>499</td>\n",
       "      <td>https://articulo.mercadolibre.com.mx/MLM-1366869309-betapirox-champu-anti-caspa-medihealth-120-ml-pack-2-_JM#position=36&amp;search_layout=stack&amp;type=item&amp;tracking_id=bfe...</td>\n",
       "    </tr>\n",
       "    <tr>\n",
       "      <th>4</th>\n",
       "      <td>LA ROCHE-POSAY</td>\n",
       "      <td>Shampoo La Roche Posay Anticaspa Persistente Kerium 125ml</td>\n",
       "      <td>484</td>\n",
       "      <td>https://www.mercadolibre.com.mx/shampoo-la-roche-posay-anticaspa-persistente-kerium-125ml/p/MLM19569662?pdp_filters=category:MLM430117#searchVariation=MLM19569662&amp;pos...</td>\n",
       "    </tr>\n",
       "  </tbody>\n",
       "</table>\n",
       "</div>"
      ],
      "text/plain": [
       "            Brand  \\\n",
       "0           VICHY   \n",
       "1           VICHY   \n",
       "2          DUCRAY   \n",
       "3      MEDIHEALTH   \n",
       "4  LA ROCHE-POSAY   \n",
       "\n",
       "                                                              Product  Price  \\\n",
       "0             Shampoo Vichy Anticaspa Dercos Ds Cabello Graso 200 Ml     557   \n",
       "1             Shampoo Vichy Anticaspa Dercos Ds Cabello Graso 200 Ml     557   \n",
       "2  Shampoo Ducray Kelual DS en botella de 100mL por 1 unidad de 100mL    475   \n",
       "3              Betapirox Champú, Anti-caspa Medihealth 120 Ml, Pack 2    499   \n",
       "4           Shampoo La Roche Posay Anticaspa Persistente Kerium 125ml    484   \n",
       "\n",
       "                                                                                                                                                                        Link  \n",
       "0  https://articulo.mercadolibre.com.mx/MLM-769613335-shampoo-vichy-anticaspa-dercos-ds-cabello-graso-200-ml-_JM#position=29&search_layout=stack&type=item&tracking_id=bf...  \n",
       "1  https://click1.mercadolibre.com.mx/mclics/clicks/external/MLM/count?a=ox54sra9enQ5i0HHEMIKbYPspVU3q6zyVousvf9gcsISSujvrcWZAbKSYntDlFiB63Nes4rgUn2bcL8b0RQjPea1Vob3F2Gr...  \n",
       "2  https://www.mercadolibre.com.mx/shampoo-ducray-kelual-ds-en-botella-de-100ml-por-1-unidad-de-100ml/p/MLM17897484?pdp_filters=category:MLM430117#searchVariation=MLM178...  \n",
       "3  https://articulo.mercadolibre.com.mx/MLM-1366869309-betapirox-champu-anti-caspa-medihealth-120-ml-pack-2-_JM#position=36&search_layout=stack&type=item&tracking_id=bfe...  \n",
       "4  https://www.mercadolibre.com.mx/shampoo-la-roche-posay-anticaspa-persistente-kerium-125ml/p/MLM19569662?pdp_filters=category:MLM430117#searchVariation=MLM19569662&pos...  "
      ]
     },
     "metadata": {},
     "output_type": "display_data"
    },
    {
     "data": {
      "application/vnd.plotly.v1+json": {
       "config": {
        "plotlyServerURL": "https://plot.ly"
       },
       "data": [
        {
         "alignmentgroup": "True",
         "hovertemplate": "Count=%{x}<br>Brand=%{y}<extra></extra>",
         "legendgroup": "",
         "marker": {
          "color": "#636efa",
          "pattern": {
           "shape": ""
          }
         },
         "name": "",
         "offsetgroup": "",
         "orientation": "h",
         "showlegend": false,
         "textposition": "auto",
         "texttemplate": "%{x}",
         "type": "bar",
         "x": [
          122,
          82,
          25,
          16,
          13,
          10
         ],
         "xaxis": "x",
         "y": [
          "-",
          "FRANCIS",
          "CELESTY",
          "DUCRAY",
          "LA ROCHE-POSAY",
          "MEDIHEALTH"
         ],
         "yaxis": "y"
        }
       ],
       "layout": {
        "barmode": "relative",
        "height": 600,
        "legend": {
         "tracegroupgap": 0
        },
        "margin": {
         "t": 60
        },
        "template": {
         "data": {
          "bar": [
           {
            "error_x": {
             "color": "#2a3f5f"
            },
            "error_y": {
             "color": "#2a3f5f"
            },
            "marker": {
             "line": {
              "color": "#E5ECF6",
              "width": 0.5
             },
             "pattern": {
              "fillmode": "overlay",
              "size": 10,
              "solidity": 0.2
             }
            },
            "type": "bar"
           }
          ],
          "barpolar": [
           {
            "marker": {
             "line": {
              "color": "#E5ECF6",
              "width": 0.5
             },
             "pattern": {
              "fillmode": "overlay",
              "size": 10,
              "solidity": 0.2
             }
            },
            "type": "barpolar"
           }
          ],
          "carpet": [
           {
            "aaxis": {
             "endlinecolor": "#2a3f5f",
             "gridcolor": "white",
             "linecolor": "white",
             "minorgridcolor": "white",
             "startlinecolor": "#2a3f5f"
            },
            "baxis": {
             "endlinecolor": "#2a3f5f",
             "gridcolor": "white",
             "linecolor": "white",
             "minorgridcolor": "white",
             "startlinecolor": "#2a3f5f"
            },
            "type": "carpet"
           }
          ],
          "choropleth": [
           {
            "colorbar": {
             "outlinewidth": 0,
             "ticks": ""
            },
            "type": "choropleth"
           }
          ],
          "contour": [
           {
            "colorbar": {
             "outlinewidth": 0,
             "ticks": ""
            },
            "colorscale": [
             [
              0,
              "#0d0887"
             ],
             [
              0.1111111111111111,
              "#46039f"
             ],
             [
              0.2222222222222222,
              "#7201a8"
             ],
             [
              0.3333333333333333,
              "#9c179e"
             ],
             [
              0.4444444444444444,
              "#bd3786"
             ],
             [
              0.5555555555555556,
              "#d8576b"
             ],
             [
              0.6666666666666666,
              "#ed7953"
             ],
             [
              0.7777777777777778,
              "#fb9f3a"
             ],
             [
              0.8888888888888888,
              "#fdca26"
             ],
             [
              1,
              "#f0f921"
             ]
            ],
            "type": "contour"
           }
          ],
          "contourcarpet": [
           {
            "colorbar": {
             "outlinewidth": 0,
             "ticks": ""
            },
            "type": "contourcarpet"
           }
          ],
          "heatmap": [
           {
            "colorbar": {
             "outlinewidth": 0,
             "ticks": ""
            },
            "colorscale": [
             [
              0,
              "#0d0887"
             ],
             [
              0.1111111111111111,
              "#46039f"
             ],
             [
              0.2222222222222222,
              "#7201a8"
             ],
             [
              0.3333333333333333,
              "#9c179e"
             ],
             [
              0.4444444444444444,
              "#bd3786"
             ],
             [
              0.5555555555555556,
              "#d8576b"
             ],
             [
              0.6666666666666666,
              "#ed7953"
             ],
             [
              0.7777777777777778,
              "#fb9f3a"
             ],
             [
              0.8888888888888888,
              "#fdca26"
             ],
             [
              1,
              "#f0f921"
             ]
            ],
            "type": "heatmap"
           }
          ],
          "heatmapgl": [
           {
            "colorbar": {
             "outlinewidth": 0,
             "ticks": ""
            },
            "colorscale": [
             [
              0,
              "#0d0887"
             ],
             [
              0.1111111111111111,
              "#46039f"
             ],
             [
              0.2222222222222222,
              "#7201a8"
             ],
             [
              0.3333333333333333,
              "#9c179e"
             ],
             [
              0.4444444444444444,
              "#bd3786"
             ],
             [
              0.5555555555555556,
              "#d8576b"
             ],
             [
              0.6666666666666666,
              "#ed7953"
             ],
             [
              0.7777777777777778,
              "#fb9f3a"
             ],
             [
              0.8888888888888888,
              "#fdca26"
             ],
             [
              1,
              "#f0f921"
             ]
            ],
            "type": "heatmapgl"
           }
          ],
          "histogram": [
           {
            "marker": {
             "pattern": {
              "fillmode": "overlay",
              "size": 10,
              "solidity": 0.2
             }
            },
            "type": "histogram"
           }
          ],
          "histogram2d": [
           {
            "colorbar": {
             "outlinewidth": 0,
             "ticks": ""
            },
            "colorscale": [
             [
              0,
              "#0d0887"
             ],
             [
              0.1111111111111111,
              "#46039f"
             ],
             [
              0.2222222222222222,
              "#7201a8"
             ],
             [
              0.3333333333333333,
              "#9c179e"
             ],
             [
              0.4444444444444444,
              "#bd3786"
             ],
             [
              0.5555555555555556,
              "#d8576b"
             ],
             [
              0.6666666666666666,
              "#ed7953"
             ],
             [
              0.7777777777777778,
              "#fb9f3a"
             ],
             [
              0.8888888888888888,
              "#fdca26"
             ],
             [
              1,
              "#f0f921"
             ]
            ],
            "type": "histogram2d"
           }
          ],
          "histogram2dcontour": [
           {
            "colorbar": {
             "outlinewidth": 0,
             "ticks": ""
            },
            "colorscale": [
             [
              0,
              "#0d0887"
             ],
             [
              0.1111111111111111,
              "#46039f"
             ],
             [
              0.2222222222222222,
              "#7201a8"
             ],
             [
              0.3333333333333333,
              "#9c179e"
             ],
             [
              0.4444444444444444,
              "#bd3786"
             ],
             [
              0.5555555555555556,
              "#d8576b"
             ],
             [
              0.6666666666666666,
              "#ed7953"
             ],
             [
              0.7777777777777778,
              "#fb9f3a"
             ],
             [
              0.8888888888888888,
              "#fdca26"
             ],
             [
              1,
              "#f0f921"
             ]
            ],
            "type": "histogram2dcontour"
           }
          ],
          "mesh3d": [
           {
            "colorbar": {
             "outlinewidth": 0,
             "ticks": ""
            },
            "type": "mesh3d"
           }
          ],
          "parcoords": [
           {
            "line": {
             "colorbar": {
              "outlinewidth": 0,
              "ticks": ""
             }
            },
            "type": "parcoords"
           }
          ],
          "pie": [
           {
            "automargin": true,
            "type": "pie"
           }
          ],
          "scatter": [
           {
            "fillpattern": {
             "fillmode": "overlay",
             "size": 10,
             "solidity": 0.2
            },
            "type": "scatter"
           }
          ],
          "scatter3d": [
           {
            "line": {
             "colorbar": {
              "outlinewidth": 0,
              "ticks": ""
             }
            },
            "marker": {
             "colorbar": {
              "outlinewidth": 0,
              "ticks": ""
             }
            },
            "type": "scatter3d"
           }
          ],
          "scattercarpet": [
           {
            "marker": {
             "colorbar": {
              "outlinewidth": 0,
              "ticks": ""
             }
            },
            "type": "scattercarpet"
           }
          ],
          "scattergeo": [
           {
            "marker": {
             "colorbar": {
              "outlinewidth": 0,
              "ticks": ""
             }
            },
            "type": "scattergeo"
           }
          ],
          "scattergl": [
           {
            "marker": {
             "colorbar": {
              "outlinewidth": 0,
              "ticks": ""
             }
            },
            "type": "scattergl"
           }
          ],
          "scattermapbox": [
           {
            "marker": {
             "colorbar": {
              "outlinewidth": 0,
              "ticks": ""
             }
            },
            "type": "scattermapbox"
           }
          ],
          "scatterpolar": [
           {
            "marker": {
             "colorbar": {
              "outlinewidth": 0,
              "ticks": ""
             }
            },
            "type": "scatterpolar"
           }
          ],
          "scatterpolargl": [
           {
            "marker": {
             "colorbar": {
              "outlinewidth": 0,
              "ticks": ""
             }
            },
            "type": "scatterpolargl"
           }
          ],
          "scatterternary": [
           {
            "marker": {
             "colorbar": {
              "outlinewidth": 0,
              "ticks": ""
             }
            },
            "type": "scatterternary"
           }
          ],
          "surface": [
           {
            "colorbar": {
             "outlinewidth": 0,
             "ticks": ""
            },
            "colorscale": [
             [
              0,
              "#0d0887"
             ],
             [
              0.1111111111111111,
              "#46039f"
             ],
             [
              0.2222222222222222,
              "#7201a8"
             ],
             [
              0.3333333333333333,
              "#9c179e"
             ],
             [
              0.4444444444444444,
              "#bd3786"
             ],
             [
              0.5555555555555556,
              "#d8576b"
             ],
             [
              0.6666666666666666,
              "#ed7953"
             ],
             [
              0.7777777777777778,
              "#fb9f3a"
             ],
             [
              0.8888888888888888,
              "#fdca26"
             ],
             [
              1,
              "#f0f921"
             ]
            ],
            "type": "surface"
           }
          ],
          "table": [
           {
            "cells": {
             "fill": {
              "color": "#EBF0F8"
             },
             "line": {
              "color": "white"
             }
            },
            "header": {
             "fill": {
              "color": "#C8D4E3"
             },
             "line": {
              "color": "white"
             }
            },
            "type": "table"
           }
          ]
         },
         "layout": {
          "annotationdefaults": {
           "arrowcolor": "#2a3f5f",
           "arrowhead": 0,
           "arrowwidth": 1
          },
          "autotypenumbers": "strict",
          "coloraxis": {
           "colorbar": {
            "outlinewidth": 0,
            "ticks": ""
           }
          },
          "colorscale": {
           "diverging": [
            [
             0,
             "#8e0152"
            ],
            [
             0.1,
             "#c51b7d"
            ],
            [
             0.2,
             "#de77ae"
            ],
            [
             0.3,
             "#f1b6da"
            ],
            [
             0.4,
             "#fde0ef"
            ],
            [
             0.5,
             "#f7f7f7"
            ],
            [
             0.6,
             "#e6f5d0"
            ],
            [
             0.7,
             "#b8e186"
            ],
            [
             0.8,
             "#7fbc41"
            ],
            [
             0.9,
             "#4d9221"
            ],
            [
             1,
             "#276419"
            ]
           ],
           "sequential": [
            [
             0,
             "#0d0887"
            ],
            [
             0.1111111111111111,
             "#46039f"
            ],
            [
             0.2222222222222222,
             "#7201a8"
            ],
            [
             0.3333333333333333,
             "#9c179e"
            ],
            [
             0.4444444444444444,
             "#bd3786"
            ],
            [
             0.5555555555555556,
             "#d8576b"
            ],
            [
             0.6666666666666666,
             "#ed7953"
            ],
            [
             0.7777777777777778,
             "#fb9f3a"
            ],
            [
             0.8888888888888888,
             "#fdca26"
            ],
            [
             1,
             "#f0f921"
            ]
           ],
           "sequentialminus": [
            [
             0,
             "#0d0887"
            ],
            [
             0.1111111111111111,
             "#46039f"
            ],
            [
             0.2222222222222222,
             "#7201a8"
            ],
            [
             0.3333333333333333,
             "#9c179e"
            ],
            [
             0.4444444444444444,
             "#bd3786"
            ],
            [
             0.5555555555555556,
             "#d8576b"
            ],
            [
             0.6666666666666666,
             "#ed7953"
            ],
            [
             0.7777777777777778,
             "#fb9f3a"
            ],
            [
             0.8888888888888888,
             "#fdca26"
            ],
            [
             1,
             "#f0f921"
            ]
           ]
          },
          "colorway": [
           "#636efa",
           "#EF553B",
           "#00cc96",
           "#ab63fa",
           "#FFA15A",
           "#19d3f3",
           "#FF6692",
           "#B6E880",
           "#FF97FF",
           "#FECB52"
          ],
          "font": {
           "color": "#2a3f5f"
          },
          "geo": {
           "bgcolor": "white",
           "lakecolor": "white",
           "landcolor": "#E5ECF6",
           "showlakes": true,
           "showland": true,
           "subunitcolor": "white"
          },
          "hoverlabel": {
           "align": "left"
          },
          "hovermode": "closest",
          "mapbox": {
           "style": "light"
          },
          "paper_bgcolor": "white",
          "plot_bgcolor": "#E5ECF6",
          "polar": {
           "angularaxis": {
            "gridcolor": "white",
            "linecolor": "white",
            "ticks": ""
           },
           "bgcolor": "#E5ECF6",
           "radialaxis": {
            "gridcolor": "white",
            "linecolor": "white",
            "ticks": ""
           }
          },
          "scene": {
           "xaxis": {
            "backgroundcolor": "#E5ECF6",
            "gridcolor": "white",
            "gridwidth": 2,
            "linecolor": "white",
            "showbackground": true,
            "ticks": "",
            "zerolinecolor": "white"
           },
           "yaxis": {
            "backgroundcolor": "#E5ECF6",
            "gridcolor": "white",
            "gridwidth": 2,
            "linecolor": "white",
            "showbackground": true,
            "ticks": "",
            "zerolinecolor": "white"
           },
           "zaxis": {
            "backgroundcolor": "#E5ECF6",
            "gridcolor": "white",
            "gridwidth": 2,
            "linecolor": "white",
            "showbackground": true,
            "ticks": "",
            "zerolinecolor": "white"
           }
          },
          "shapedefaults": {
           "line": {
            "color": "#2a3f5f"
           }
          },
          "ternary": {
           "aaxis": {
            "gridcolor": "white",
            "linecolor": "white",
            "ticks": ""
           },
           "baxis": {
            "gridcolor": "white",
            "linecolor": "white",
            "ticks": ""
           },
           "bgcolor": "#E5ECF6",
           "caxis": {
            "gridcolor": "white",
            "linecolor": "white",
            "ticks": ""
           }
          },
          "title": {
           "x": 0.05
          },
          "xaxis": {
           "automargin": true,
           "gridcolor": "white",
           "linecolor": "white",
           "ticks": "",
           "title": {
            "standoff": 15
           },
           "zerolinecolor": "white",
           "zerolinewidth": 2
          },
          "yaxis": {
           "automargin": true,
           "gridcolor": "white",
           "linecolor": "white",
           "ticks": "",
           "title": {
            "standoff": 15
           },
           "zerolinecolor": "white",
           "zerolinewidth": 2
          }
         }
        },
        "title": {
         "text": "Brands over 10 search results"
        },
        "width": 1100,
        "xaxis": {
         "anchor": "y",
         "categoryorder": "total descending",
         "domain": [
          0,
          1
         ],
         "title": {
          "text": "Count"
         }
        },
        "yaxis": {
         "anchor": "x",
         "domain": [
          0,
          1
         ],
         "title": {
          "text": "Brand"
         }
        }
       }
      }
     },
     "metadata": {},
     "output_type": "display_data"
    },
    {
     "name": "stdout",
     "output_type": "stream",
     "text": [
      "Quartile (25-50] - Products: 419\n"
     ]
    },
    {
     "data": {
      "text/html": [
       "<div>\n",
       "<style scoped>\n",
       "    .dataframe tbody tr th:only-of-type {\n",
       "        vertical-align: middle;\n",
       "    }\n",
       "\n",
       "    .dataframe tbody tr th {\n",
       "        vertical-align: top;\n",
       "    }\n",
       "\n",
       "    .dataframe thead th {\n",
       "        text-align: right;\n",
       "    }\n",
       "</style>\n",
       "<table border=\"1\" class=\"dataframe\">\n",
       "  <thead>\n",
       "    <tr style=\"text-align: right;\">\n",
       "      <th></th>\n",
       "      <th>Brand</th>\n",
       "      <th>Product</th>\n",
       "      <th>Price</th>\n",
       "      <th>Link</th>\n",
       "    </tr>\n",
       "  </thead>\n",
       "  <tbody>\n",
       "    <tr>\n",
       "      <th>0</th>\n",
       "      <td>ISDIN</td>\n",
       "      <td>Isdin Nutradeica Shampoo Anticaspa Grasa 200ml</td>\n",
       "      <td>358</td>\n",
       "      <td>https://www.mercadolibre.com.mx/isdin-nutradeica-shampoo-anticaspa-grasa-200ml/p/MLM19702444?pdp_filters=category:MLM430117#searchVariation=MLM19702444&amp;position=3&amp;sea...</td>\n",
       "    </tr>\n",
       "    <tr>\n",
       "      <th>1</th>\n",
       "      <td>ISDIN</td>\n",
       "      <td>Shampoo Isdin Lambdapil Anticaída en botella de 200mL</td>\n",
       "      <td>330</td>\n",
       "      <td>https://www.mercadolibre.com.mx/shampoo-isdin-lambdapil-anticaida-en-botella-de-200ml/p/MLM19147966?pdp_filters=category:MLM430117#searchVariation=MLM19147966&amp;positio...</td>\n",
       "    </tr>\n",
       "    <tr>\n",
       "      <th>2</th>\n",
       "      <td>SELSUN BLUE</td>\n",
       "      <td>Shampoo Selsun Medicated Max Strength Dandruff 325ml Importa</td>\n",
       "      <td>299</td>\n",
       "      <td>https://www.mercadolibre.com.mx/shampoo-selsun-medicated-max-strength-dandruff-325ml-importa/p/MLM19508792?pdp_filters=category:MLM430117#searchVariation=MLM19508792&amp;...</td>\n",
       "    </tr>\n",
       "    <tr>\n",
       "      <th>3</th>\n",
       "      <td>-</td>\n",
       "      <td>Shampoo Selsun Medicated Max Strength Dandruff 325ml</td>\n",
       "      <td>299</td>\n",
       "      <td>https://articulo.mercadolibre.com.mx/MLM-1828433089-shampoo-selsun-medicated-max-strength-dandruff-325ml-_JM#position=33&amp;search_layout=stack&amp;type=item&amp;tracking_id=bfe...</td>\n",
       "    </tr>\n",
       "    <tr>\n",
       "      <th>4</th>\n",
       "      <td>DUCRAY</td>\n",
       "      <td>Ducray Elution Shampoo Reequilibrante Cuero Cabelludo 200ml</td>\n",
       "      <td>298</td>\n",
       "      <td>https://www.mercadolibre.com.mx/ducray-elution-shampoo-reequilibrante-cuero-cabelludo-200ml/p/MLM19701625?pdp_filters=category:MLM430117#searchVariation=MLM19701625&amp;p...</td>\n",
       "    </tr>\n",
       "  </tbody>\n",
       "</table>\n",
       "</div>"
      ],
      "text/plain": [
       "         Brand                                                       Product  \\\n",
       "0        ISDIN                Isdin Nutradeica Shampoo Anticaspa Grasa 200ml   \n",
       "1        ISDIN         Shampoo Isdin Lambdapil Anticaída en botella de 200mL   \n",
       "2  SELSUN BLUE  Shampoo Selsun Medicated Max Strength Dandruff 325ml Importa   \n",
       "3            -          Shampoo Selsun Medicated Max Strength Dandruff 325ml   \n",
       "4       DUCRAY   Ducray Elution Shampoo Reequilibrante Cuero Cabelludo 200ml   \n",
       "\n",
       "   Price  \\\n",
       "0    358   \n",
       "1    330   \n",
       "2    299   \n",
       "3    299   \n",
       "4    298   \n",
       "\n",
       "                                                                                                                                                                        Link  \n",
       "0  https://www.mercadolibre.com.mx/isdin-nutradeica-shampoo-anticaspa-grasa-200ml/p/MLM19702444?pdp_filters=category:MLM430117#searchVariation=MLM19702444&position=3&sea...  \n",
       "1  https://www.mercadolibre.com.mx/shampoo-isdin-lambdapil-anticaida-en-botella-de-200ml/p/MLM19147966?pdp_filters=category:MLM430117#searchVariation=MLM19147966&positio...  \n",
       "2  https://www.mercadolibre.com.mx/shampoo-selsun-medicated-max-strength-dandruff-325ml-importa/p/MLM19508792?pdp_filters=category:MLM430117#searchVariation=MLM19508792&...  \n",
       "3  https://articulo.mercadolibre.com.mx/MLM-1828433089-shampoo-selsun-medicated-max-strength-dandruff-325ml-_JM#position=33&search_layout=stack&type=item&tracking_id=bfe...  \n",
       "4  https://www.mercadolibre.com.mx/ducray-elution-shampoo-reequilibrante-cuero-cabelludo-200ml/p/MLM19701625?pdp_filters=category:MLM430117#searchVariation=MLM19701625&p...  "
      ]
     },
     "metadata": {},
     "output_type": "display_data"
    },
    {
     "data": {
      "application/vnd.plotly.v1+json": {
       "config": {
        "plotlyServerURL": "https://plot.ly"
       },
       "data": [
        {
         "alignmentgroup": "True",
         "hovertemplate": "Count=%{x}<br>Brand=%{y}<extra></extra>",
         "legendgroup": "",
         "marker": {
          "color": "#636efa",
          "pattern": {
           "shape": ""
          }
         },
         "name": "",
         "offsetgroup": "",
         "orientation": "h",
         "showlegend": false,
         "textposition": "auto",
         "texttemplate": "%{x}",
         "type": "bar",
         "x": [
          161,
          39,
          21,
          17,
          12,
          10
         ],
         "xaxis": "x",
         "y": [
          "-",
          "FRANCIS",
          "CELESTY",
          "NBC",
          "HEAD & SHOULDERS",
          "SALERM"
         ],
         "yaxis": "y"
        }
       ],
       "layout": {
        "barmode": "relative",
        "height": 600,
        "legend": {
         "tracegroupgap": 0
        },
        "margin": {
         "t": 60
        },
        "template": {
         "data": {
          "bar": [
           {
            "error_x": {
             "color": "#2a3f5f"
            },
            "error_y": {
             "color": "#2a3f5f"
            },
            "marker": {
             "line": {
              "color": "#E5ECF6",
              "width": 0.5
             },
             "pattern": {
              "fillmode": "overlay",
              "size": 10,
              "solidity": 0.2
             }
            },
            "type": "bar"
           }
          ],
          "barpolar": [
           {
            "marker": {
             "line": {
              "color": "#E5ECF6",
              "width": 0.5
             },
             "pattern": {
              "fillmode": "overlay",
              "size": 10,
              "solidity": 0.2
             }
            },
            "type": "barpolar"
           }
          ],
          "carpet": [
           {
            "aaxis": {
             "endlinecolor": "#2a3f5f",
             "gridcolor": "white",
             "linecolor": "white",
             "minorgridcolor": "white",
             "startlinecolor": "#2a3f5f"
            },
            "baxis": {
             "endlinecolor": "#2a3f5f",
             "gridcolor": "white",
             "linecolor": "white",
             "minorgridcolor": "white",
             "startlinecolor": "#2a3f5f"
            },
            "type": "carpet"
           }
          ],
          "choropleth": [
           {
            "colorbar": {
             "outlinewidth": 0,
             "ticks": ""
            },
            "type": "choropleth"
           }
          ],
          "contour": [
           {
            "colorbar": {
             "outlinewidth": 0,
             "ticks": ""
            },
            "colorscale": [
             [
              0,
              "#0d0887"
             ],
             [
              0.1111111111111111,
              "#46039f"
             ],
             [
              0.2222222222222222,
              "#7201a8"
             ],
             [
              0.3333333333333333,
              "#9c179e"
             ],
             [
              0.4444444444444444,
              "#bd3786"
             ],
             [
              0.5555555555555556,
              "#d8576b"
             ],
             [
              0.6666666666666666,
              "#ed7953"
             ],
             [
              0.7777777777777778,
              "#fb9f3a"
             ],
             [
              0.8888888888888888,
              "#fdca26"
             ],
             [
              1,
              "#f0f921"
             ]
            ],
            "type": "contour"
           }
          ],
          "contourcarpet": [
           {
            "colorbar": {
             "outlinewidth": 0,
             "ticks": ""
            },
            "type": "contourcarpet"
           }
          ],
          "heatmap": [
           {
            "colorbar": {
             "outlinewidth": 0,
             "ticks": ""
            },
            "colorscale": [
             [
              0,
              "#0d0887"
             ],
             [
              0.1111111111111111,
              "#46039f"
             ],
             [
              0.2222222222222222,
              "#7201a8"
             ],
             [
              0.3333333333333333,
              "#9c179e"
             ],
             [
              0.4444444444444444,
              "#bd3786"
             ],
             [
              0.5555555555555556,
              "#d8576b"
             ],
             [
              0.6666666666666666,
              "#ed7953"
             ],
             [
              0.7777777777777778,
              "#fb9f3a"
             ],
             [
              0.8888888888888888,
              "#fdca26"
             ],
             [
              1,
              "#f0f921"
             ]
            ],
            "type": "heatmap"
           }
          ],
          "heatmapgl": [
           {
            "colorbar": {
             "outlinewidth": 0,
             "ticks": ""
            },
            "colorscale": [
             [
              0,
              "#0d0887"
             ],
             [
              0.1111111111111111,
              "#46039f"
             ],
             [
              0.2222222222222222,
              "#7201a8"
             ],
             [
              0.3333333333333333,
              "#9c179e"
             ],
             [
              0.4444444444444444,
              "#bd3786"
             ],
             [
              0.5555555555555556,
              "#d8576b"
             ],
             [
              0.6666666666666666,
              "#ed7953"
             ],
             [
              0.7777777777777778,
              "#fb9f3a"
             ],
             [
              0.8888888888888888,
              "#fdca26"
             ],
             [
              1,
              "#f0f921"
             ]
            ],
            "type": "heatmapgl"
           }
          ],
          "histogram": [
           {
            "marker": {
             "pattern": {
              "fillmode": "overlay",
              "size": 10,
              "solidity": 0.2
             }
            },
            "type": "histogram"
           }
          ],
          "histogram2d": [
           {
            "colorbar": {
             "outlinewidth": 0,
             "ticks": ""
            },
            "colorscale": [
             [
              0,
              "#0d0887"
             ],
             [
              0.1111111111111111,
              "#46039f"
             ],
             [
              0.2222222222222222,
              "#7201a8"
             ],
             [
              0.3333333333333333,
              "#9c179e"
             ],
             [
              0.4444444444444444,
              "#bd3786"
             ],
             [
              0.5555555555555556,
              "#d8576b"
             ],
             [
              0.6666666666666666,
              "#ed7953"
             ],
             [
              0.7777777777777778,
              "#fb9f3a"
             ],
             [
              0.8888888888888888,
              "#fdca26"
             ],
             [
              1,
              "#f0f921"
             ]
            ],
            "type": "histogram2d"
           }
          ],
          "histogram2dcontour": [
           {
            "colorbar": {
             "outlinewidth": 0,
             "ticks": ""
            },
            "colorscale": [
             [
              0,
              "#0d0887"
             ],
             [
              0.1111111111111111,
              "#46039f"
             ],
             [
              0.2222222222222222,
              "#7201a8"
             ],
             [
              0.3333333333333333,
              "#9c179e"
             ],
             [
              0.4444444444444444,
              "#bd3786"
             ],
             [
              0.5555555555555556,
              "#d8576b"
             ],
             [
              0.6666666666666666,
              "#ed7953"
             ],
             [
              0.7777777777777778,
              "#fb9f3a"
             ],
             [
              0.8888888888888888,
              "#fdca26"
             ],
             [
              1,
              "#f0f921"
             ]
            ],
            "type": "histogram2dcontour"
           }
          ],
          "mesh3d": [
           {
            "colorbar": {
             "outlinewidth": 0,
             "ticks": ""
            },
            "type": "mesh3d"
           }
          ],
          "parcoords": [
           {
            "line": {
             "colorbar": {
              "outlinewidth": 0,
              "ticks": ""
             }
            },
            "type": "parcoords"
           }
          ],
          "pie": [
           {
            "automargin": true,
            "type": "pie"
           }
          ],
          "scatter": [
           {
            "fillpattern": {
             "fillmode": "overlay",
             "size": 10,
             "solidity": 0.2
            },
            "type": "scatter"
           }
          ],
          "scatter3d": [
           {
            "line": {
             "colorbar": {
              "outlinewidth": 0,
              "ticks": ""
             }
            },
            "marker": {
             "colorbar": {
              "outlinewidth": 0,
              "ticks": ""
             }
            },
            "type": "scatter3d"
           }
          ],
          "scattercarpet": [
           {
            "marker": {
             "colorbar": {
              "outlinewidth": 0,
              "ticks": ""
             }
            },
            "type": "scattercarpet"
           }
          ],
          "scattergeo": [
           {
            "marker": {
             "colorbar": {
              "outlinewidth": 0,
              "ticks": ""
             }
            },
            "type": "scattergeo"
           }
          ],
          "scattergl": [
           {
            "marker": {
             "colorbar": {
              "outlinewidth": 0,
              "ticks": ""
             }
            },
            "type": "scattergl"
           }
          ],
          "scattermapbox": [
           {
            "marker": {
             "colorbar": {
              "outlinewidth": 0,
              "ticks": ""
             }
            },
            "type": "scattermapbox"
           }
          ],
          "scatterpolar": [
           {
            "marker": {
             "colorbar": {
              "outlinewidth": 0,
              "ticks": ""
             }
            },
            "type": "scatterpolar"
           }
          ],
          "scatterpolargl": [
           {
            "marker": {
             "colorbar": {
              "outlinewidth": 0,
              "ticks": ""
             }
            },
            "type": "scatterpolargl"
           }
          ],
          "scatterternary": [
           {
            "marker": {
             "colorbar": {
              "outlinewidth": 0,
              "ticks": ""
             }
            },
            "type": "scatterternary"
           }
          ],
          "surface": [
           {
            "colorbar": {
             "outlinewidth": 0,
             "ticks": ""
            },
            "colorscale": [
             [
              0,
              "#0d0887"
             ],
             [
              0.1111111111111111,
              "#46039f"
             ],
             [
              0.2222222222222222,
              "#7201a8"
             ],
             [
              0.3333333333333333,
              "#9c179e"
             ],
             [
              0.4444444444444444,
              "#bd3786"
             ],
             [
              0.5555555555555556,
              "#d8576b"
             ],
             [
              0.6666666666666666,
              "#ed7953"
             ],
             [
              0.7777777777777778,
              "#fb9f3a"
             ],
             [
              0.8888888888888888,
              "#fdca26"
             ],
             [
              1,
              "#f0f921"
             ]
            ],
            "type": "surface"
           }
          ],
          "table": [
           {
            "cells": {
             "fill": {
              "color": "#EBF0F8"
             },
             "line": {
              "color": "white"
             }
            },
            "header": {
             "fill": {
              "color": "#C8D4E3"
             },
             "line": {
              "color": "white"
             }
            },
            "type": "table"
           }
          ]
         },
         "layout": {
          "annotationdefaults": {
           "arrowcolor": "#2a3f5f",
           "arrowhead": 0,
           "arrowwidth": 1
          },
          "autotypenumbers": "strict",
          "coloraxis": {
           "colorbar": {
            "outlinewidth": 0,
            "ticks": ""
           }
          },
          "colorscale": {
           "diverging": [
            [
             0,
             "#8e0152"
            ],
            [
             0.1,
             "#c51b7d"
            ],
            [
             0.2,
             "#de77ae"
            ],
            [
             0.3,
             "#f1b6da"
            ],
            [
             0.4,
             "#fde0ef"
            ],
            [
             0.5,
             "#f7f7f7"
            ],
            [
             0.6,
             "#e6f5d0"
            ],
            [
             0.7,
             "#b8e186"
            ],
            [
             0.8,
             "#7fbc41"
            ],
            [
             0.9,
             "#4d9221"
            ],
            [
             1,
             "#276419"
            ]
           ],
           "sequential": [
            [
             0,
             "#0d0887"
            ],
            [
             0.1111111111111111,
             "#46039f"
            ],
            [
             0.2222222222222222,
             "#7201a8"
            ],
            [
             0.3333333333333333,
             "#9c179e"
            ],
            [
             0.4444444444444444,
             "#bd3786"
            ],
            [
             0.5555555555555556,
             "#d8576b"
            ],
            [
             0.6666666666666666,
             "#ed7953"
            ],
            [
             0.7777777777777778,
             "#fb9f3a"
            ],
            [
             0.8888888888888888,
             "#fdca26"
            ],
            [
             1,
             "#f0f921"
            ]
           ],
           "sequentialminus": [
            [
             0,
             "#0d0887"
            ],
            [
             0.1111111111111111,
             "#46039f"
            ],
            [
             0.2222222222222222,
             "#7201a8"
            ],
            [
             0.3333333333333333,
             "#9c179e"
            ],
            [
             0.4444444444444444,
             "#bd3786"
            ],
            [
             0.5555555555555556,
             "#d8576b"
            ],
            [
             0.6666666666666666,
             "#ed7953"
            ],
            [
             0.7777777777777778,
             "#fb9f3a"
            ],
            [
             0.8888888888888888,
             "#fdca26"
            ],
            [
             1,
             "#f0f921"
            ]
           ]
          },
          "colorway": [
           "#636efa",
           "#EF553B",
           "#00cc96",
           "#ab63fa",
           "#FFA15A",
           "#19d3f3",
           "#FF6692",
           "#B6E880",
           "#FF97FF",
           "#FECB52"
          ],
          "font": {
           "color": "#2a3f5f"
          },
          "geo": {
           "bgcolor": "white",
           "lakecolor": "white",
           "landcolor": "#E5ECF6",
           "showlakes": true,
           "showland": true,
           "subunitcolor": "white"
          },
          "hoverlabel": {
           "align": "left"
          },
          "hovermode": "closest",
          "mapbox": {
           "style": "light"
          },
          "paper_bgcolor": "white",
          "plot_bgcolor": "#E5ECF6",
          "polar": {
           "angularaxis": {
            "gridcolor": "white",
            "linecolor": "white",
            "ticks": ""
           },
           "bgcolor": "#E5ECF6",
           "radialaxis": {
            "gridcolor": "white",
            "linecolor": "white",
            "ticks": ""
           }
          },
          "scene": {
           "xaxis": {
            "backgroundcolor": "#E5ECF6",
            "gridcolor": "white",
            "gridwidth": 2,
            "linecolor": "white",
            "showbackground": true,
            "ticks": "",
            "zerolinecolor": "white"
           },
           "yaxis": {
            "backgroundcolor": "#E5ECF6",
            "gridcolor": "white",
            "gridwidth": 2,
            "linecolor": "white",
            "showbackground": true,
            "ticks": "",
            "zerolinecolor": "white"
           },
           "zaxis": {
            "backgroundcolor": "#E5ECF6",
            "gridcolor": "white",
            "gridwidth": 2,
            "linecolor": "white",
            "showbackground": true,
            "ticks": "",
            "zerolinecolor": "white"
           }
          },
          "shapedefaults": {
           "line": {
            "color": "#2a3f5f"
           }
          },
          "ternary": {
           "aaxis": {
            "gridcolor": "white",
            "linecolor": "white",
            "ticks": ""
           },
           "baxis": {
            "gridcolor": "white",
            "linecolor": "white",
            "ticks": ""
           },
           "bgcolor": "#E5ECF6",
           "caxis": {
            "gridcolor": "white",
            "linecolor": "white",
            "ticks": ""
           }
          },
          "title": {
           "x": 0.05
          },
          "xaxis": {
           "automargin": true,
           "gridcolor": "white",
           "linecolor": "white",
           "ticks": "",
           "title": {
            "standoff": 15
           },
           "zerolinecolor": "white",
           "zerolinewidth": 2
          },
          "yaxis": {
           "automargin": true,
           "gridcolor": "white",
           "linecolor": "white",
           "ticks": "",
           "title": {
            "standoff": 15
           },
           "zerolinecolor": "white",
           "zerolinewidth": 2
          }
         }
        },
        "title": {
         "text": "Brands over 10 search results"
        },
        "width": 1100,
        "xaxis": {
         "anchor": "y",
         "categoryorder": "total descending",
         "domain": [
          0,
          1
         ],
         "title": {
          "text": "Count"
         }
        },
        "yaxis": {
         "anchor": "x",
         "domain": [
          0,
          1
         ],
         "title": {
          "text": "Brand"
         }
        }
       }
      }
     },
     "metadata": {},
     "output_type": "display_data"
    },
    {
     "name": "stdout",
     "output_type": "stream",
     "text": [
      "Quartile (<25] - Products: 419\n"
     ]
    },
    {
     "data": {
      "text/html": [
       "<div>\n",
       "<style scoped>\n",
       "    .dataframe tbody tr th:only-of-type {\n",
       "        vertical-align: middle;\n",
       "    }\n",
       "\n",
       "    .dataframe tbody tr th {\n",
       "        vertical-align: top;\n",
       "    }\n",
       "\n",
       "    .dataframe thead th {\n",
       "        text-align: right;\n",
       "    }\n",
       "</style>\n",
       "<table border=\"1\" class=\"dataframe\">\n",
       "  <thead>\n",
       "    <tr style=\"text-align: right;\">\n",
       "      <th></th>\n",
       "      <th>Brand</th>\n",
       "      <th>Product</th>\n",
       "      <th>Price</th>\n",
       "      <th>Link</th>\n",
       "    </tr>\n",
       "  </thead>\n",
       "  <tbody>\n",
       "    <tr>\n",
       "      <th>0</th>\n",
       "      <td>MEDICASP</td>\n",
       "      <td>Shampoo Medicasp Anticaspa Uso Diario 2 Botellas De 130ml</td>\n",
       "      <td>195</td>\n",
       "      <td>https://www.mercadolibre.com.mx/shampoo-medicasp-anticaspa-uso-diario-2-botellas-de-130ml/p/MLM19094907?pdp_filters=category:MLM430117#searchVariation=MLM19094907&amp;pos...</td>\n",
       "    </tr>\n",
       "    <tr>\n",
       "      <th>1</th>\n",
       "      <td>SELSUN BLUE</td>\n",
       "      <td>Shampoo Selsun Blue Naturals Dandruff 325ml 11oz</td>\n",
       "      <td>223</td>\n",
       "      <td>https://www.mercadolibre.com.mx/shampoo-selsun-blue-naturals-dandruff-325ml-11oz/p/MLM19546760?pdp_filters=category:MLM430117#searchVariation=MLM19546760&amp;position=2&amp;s...</td>\n",
       "    </tr>\n",
       "    <tr>\n",
       "      <th>2</th>\n",
       "      <td>-</td>\n",
       "      <td>Shampoo Alquitrán D Hulla Control Psoriasis  Caspa 1 Litro</td>\n",
       "      <td>119</td>\n",
       "      <td>https://articulo.mercadolibre.com.mx/MLM-1350885680-shampoo-alquitran-d-hulla-control-psoriasis-caspa-1-litro-_JM#position=32&amp;search_layout=stack&amp;type=item&amp;tracking_i...</td>\n",
       "    </tr>\n",
       "    <tr>\n",
       "      <th>3</th>\n",
       "      <td>CELESTY</td>\n",
       "      <td>Shampoo Alquitrán De Hulla Control Psoriasis Y Caspa 1 Litro</td>\n",
       "      <td>168</td>\n",
       "      <td>https://articulo.mercadolibre.com.mx/MLM-859722097-shampoo-alquitran-de-hulla-control-psoriasis-y-caspa-1-litro-_JM#position=34&amp;search_layout=stack&amp;type=item&amp;tracking...</td>\n",
       "    </tr>\n",
       "    <tr>\n",
       "      <th>4</th>\n",
       "      <td>HEAD &amp; SHOULDERS</td>\n",
       "      <td>Shampoo Head &amp; Shoulders Men Con Fragancia Old Spice 1 L</td>\n",
       "      <td>159</td>\n",
       "      <td>https://www.mercadolibre.com.mx/shampoo-head-shoulders-men-con-fragancia-old-spice-1-l/p/MLM19505194?pdp_filters=category:MLM430117#searchVariation=MLM19505194&amp;positi...</td>\n",
       "    </tr>\n",
       "  </tbody>\n",
       "</table>\n",
       "</div>"
      ],
      "text/plain": [
       "              Brand  \\\n",
       "0          MEDICASP   \n",
       "1       SELSUN BLUE   \n",
       "2                 -   \n",
       "3           CELESTY   \n",
       "4  HEAD & SHOULDERS   \n",
       "\n",
       "                                                        Product  Price  \\\n",
       "0     Shampoo Medicasp Anticaspa Uso Diario 2 Botellas De 130ml    195   \n",
       "1              Shampoo Selsun Blue Naturals Dandruff 325ml 11oz    223   \n",
       "2    Shampoo Alquitrán D Hulla Control Psoriasis  Caspa 1 Litro    119   \n",
       "3  Shampoo Alquitrán De Hulla Control Psoriasis Y Caspa 1 Litro    168   \n",
       "4      Shampoo Head & Shoulders Men Con Fragancia Old Spice 1 L    159   \n",
       "\n",
       "                                                                                                                                                                        Link  \n",
       "0  https://www.mercadolibre.com.mx/shampoo-medicasp-anticaspa-uso-diario-2-botellas-de-130ml/p/MLM19094907?pdp_filters=category:MLM430117#searchVariation=MLM19094907&pos...  \n",
       "1  https://www.mercadolibre.com.mx/shampoo-selsun-blue-naturals-dandruff-325ml-11oz/p/MLM19546760?pdp_filters=category:MLM430117#searchVariation=MLM19546760&position=2&s...  \n",
       "2  https://articulo.mercadolibre.com.mx/MLM-1350885680-shampoo-alquitran-d-hulla-control-psoriasis-caspa-1-litro-_JM#position=32&search_layout=stack&type=item&tracking_i...  \n",
       "3  https://articulo.mercadolibre.com.mx/MLM-859722097-shampoo-alquitran-de-hulla-control-psoriasis-y-caspa-1-litro-_JM#position=34&search_layout=stack&type=item&tracking...  \n",
       "4  https://www.mercadolibre.com.mx/shampoo-head-shoulders-men-con-fragancia-old-spice-1-l/p/MLM19505194?pdp_filters=category:MLM430117#searchVariation=MLM19505194&positi...  "
      ]
     },
     "metadata": {},
     "output_type": "display_data"
    },
    {
     "data": {
      "application/vnd.plotly.v1+json": {
       "config": {
        "plotlyServerURL": "https://plot.ly"
       },
       "data": [
        {
         "alignmentgroup": "True",
         "hovertemplate": "Count=%{x}<br>Brand=%{y}<extra></extra>",
         "legendgroup": "",
         "marker": {
          "color": "#636efa",
          "pattern": {
           "shape": ""
          }
         },
         "name": "",
         "offsetgroup": "",
         "orientation": "h",
         "showlegend": false,
         "textposition": "auto",
         "texttemplate": "%{x}",
         "type": "bar",
         "x": [
          164,
          44,
          20,
          14,
          13,
          12,
          12,
          11
         ],
         "xaxis": "x",
         "y": [
          "-",
          "HEAD & SHOULDERS",
          "FRANCIS",
          "CELESTY",
          "ALERT",
          "IMAGES",
          "FOLICURE",
          "MEDICASP"
         ],
         "yaxis": "y"
        }
       ],
       "layout": {
        "barmode": "relative",
        "height": 600,
        "legend": {
         "tracegroupgap": 0
        },
        "margin": {
         "t": 60
        },
        "template": {
         "data": {
          "bar": [
           {
            "error_x": {
             "color": "#2a3f5f"
            },
            "error_y": {
             "color": "#2a3f5f"
            },
            "marker": {
             "line": {
              "color": "#E5ECF6",
              "width": 0.5
             },
             "pattern": {
              "fillmode": "overlay",
              "size": 10,
              "solidity": 0.2
             }
            },
            "type": "bar"
           }
          ],
          "barpolar": [
           {
            "marker": {
             "line": {
              "color": "#E5ECF6",
              "width": 0.5
             },
             "pattern": {
              "fillmode": "overlay",
              "size": 10,
              "solidity": 0.2
             }
            },
            "type": "barpolar"
           }
          ],
          "carpet": [
           {
            "aaxis": {
             "endlinecolor": "#2a3f5f",
             "gridcolor": "white",
             "linecolor": "white",
             "minorgridcolor": "white",
             "startlinecolor": "#2a3f5f"
            },
            "baxis": {
             "endlinecolor": "#2a3f5f",
             "gridcolor": "white",
             "linecolor": "white",
             "minorgridcolor": "white",
             "startlinecolor": "#2a3f5f"
            },
            "type": "carpet"
           }
          ],
          "choropleth": [
           {
            "colorbar": {
             "outlinewidth": 0,
             "ticks": ""
            },
            "type": "choropleth"
           }
          ],
          "contour": [
           {
            "colorbar": {
             "outlinewidth": 0,
             "ticks": ""
            },
            "colorscale": [
             [
              0,
              "#0d0887"
             ],
             [
              0.1111111111111111,
              "#46039f"
             ],
             [
              0.2222222222222222,
              "#7201a8"
             ],
             [
              0.3333333333333333,
              "#9c179e"
             ],
             [
              0.4444444444444444,
              "#bd3786"
             ],
             [
              0.5555555555555556,
              "#d8576b"
             ],
             [
              0.6666666666666666,
              "#ed7953"
             ],
             [
              0.7777777777777778,
              "#fb9f3a"
             ],
             [
              0.8888888888888888,
              "#fdca26"
             ],
             [
              1,
              "#f0f921"
             ]
            ],
            "type": "contour"
           }
          ],
          "contourcarpet": [
           {
            "colorbar": {
             "outlinewidth": 0,
             "ticks": ""
            },
            "type": "contourcarpet"
           }
          ],
          "heatmap": [
           {
            "colorbar": {
             "outlinewidth": 0,
             "ticks": ""
            },
            "colorscale": [
             [
              0,
              "#0d0887"
             ],
             [
              0.1111111111111111,
              "#46039f"
             ],
             [
              0.2222222222222222,
              "#7201a8"
             ],
             [
              0.3333333333333333,
              "#9c179e"
             ],
             [
              0.4444444444444444,
              "#bd3786"
             ],
             [
              0.5555555555555556,
              "#d8576b"
             ],
             [
              0.6666666666666666,
              "#ed7953"
             ],
             [
              0.7777777777777778,
              "#fb9f3a"
             ],
             [
              0.8888888888888888,
              "#fdca26"
             ],
             [
              1,
              "#f0f921"
             ]
            ],
            "type": "heatmap"
           }
          ],
          "heatmapgl": [
           {
            "colorbar": {
             "outlinewidth": 0,
             "ticks": ""
            },
            "colorscale": [
             [
              0,
              "#0d0887"
             ],
             [
              0.1111111111111111,
              "#46039f"
             ],
             [
              0.2222222222222222,
              "#7201a8"
             ],
             [
              0.3333333333333333,
              "#9c179e"
             ],
             [
              0.4444444444444444,
              "#bd3786"
             ],
             [
              0.5555555555555556,
              "#d8576b"
             ],
             [
              0.6666666666666666,
              "#ed7953"
             ],
             [
              0.7777777777777778,
              "#fb9f3a"
             ],
             [
              0.8888888888888888,
              "#fdca26"
             ],
             [
              1,
              "#f0f921"
             ]
            ],
            "type": "heatmapgl"
           }
          ],
          "histogram": [
           {
            "marker": {
             "pattern": {
              "fillmode": "overlay",
              "size": 10,
              "solidity": 0.2
             }
            },
            "type": "histogram"
           }
          ],
          "histogram2d": [
           {
            "colorbar": {
             "outlinewidth": 0,
             "ticks": ""
            },
            "colorscale": [
             [
              0,
              "#0d0887"
             ],
             [
              0.1111111111111111,
              "#46039f"
             ],
             [
              0.2222222222222222,
              "#7201a8"
             ],
             [
              0.3333333333333333,
              "#9c179e"
             ],
             [
              0.4444444444444444,
              "#bd3786"
             ],
             [
              0.5555555555555556,
              "#d8576b"
             ],
             [
              0.6666666666666666,
              "#ed7953"
             ],
             [
              0.7777777777777778,
              "#fb9f3a"
             ],
             [
              0.8888888888888888,
              "#fdca26"
             ],
             [
              1,
              "#f0f921"
             ]
            ],
            "type": "histogram2d"
           }
          ],
          "histogram2dcontour": [
           {
            "colorbar": {
             "outlinewidth": 0,
             "ticks": ""
            },
            "colorscale": [
             [
              0,
              "#0d0887"
             ],
             [
              0.1111111111111111,
              "#46039f"
             ],
             [
              0.2222222222222222,
              "#7201a8"
             ],
             [
              0.3333333333333333,
              "#9c179e"
             ],
             [
              0.4444444444444444,
              "#bd3786"
             ],
             [
              0.5555555555555556,
              "#d8576b"
             ],
             [
              0.6666666666666666,
              "#ed7953"
             ],
             [
              0.7777777777777778,
              "#fb9f3a"
             ],
             [
              0.8888888888888888,
              "#fdca26"
             ],
             [
              1,
              "#f0f921"
             ]
            ],
            "type": "histogram2dcontour"
           }
          ],
          "mesh3d": [
           {
            "colorbar": {
             "outlinewidth": 0,
             "ticks": ""
            },
            "type": "mesh3d"
           }
          ],
          "parcoords": [
           {
            "line": {
             "colorbar": {
              "outlinewidth": 0,
              "ticks": ""
             }
            },
            "type": "parcoords"
           }
          ],
          "pie": [
           {
            "automargin": true,
            "type": "pie"
           }
          ],
          "scatter": [
           {
            "fillpattern": {
             "fillmode": "overlay",
             "size": 10,
             "solidity": 0.2
            },
            "type": "scatter"
           }
          ],
          "scatter3d": [
           {
            "line": {
             "colorbar": {
              "outlinewidth": 0,
              "ticks": ""
             }
            },
            "marker": {
             "colorbar": {
              "outlinewidth": 0,
              "ticks": ""
             }
            },
            "type": "scatter3d"
           }
          ],
          "scattercarpet": [
           {
            "marker": {
             "colorbar": {
              "outlinewidth": 0,
              "ticks": ""
             }
            },
            "type": "scattercarpet"
           }
          ],
          "scattergeo": [
           {
            "marker": {
             "colorbar": {
              "outlinewidth": 0,
              "ticks": ""
             }
            },
            "type": "scattergeo"
           }
          ],
          "scattergl": [
           {
            "marker": {
             "colorbar": {
              "outlinewidth": 0,
              "ticks": ""
             }
            },
            "type": "scattergl"
           }
          ],
          "scattermapbox": [
           {
            "marker": {
             "colorbar": {
              "outlinewidth": 0,
              "ticks": ""
             }
            },
            "type": "scattermapbox"
           }
          ],
          "scatterpolar": [
           {
            "marker": {
             "colorbar": {
              "outlinewidth": 0,
              "ticks": ""
             }
            },
            "type": "scatterpolar"
           }
          ],
          "scatterpolargl": [
           {
            "marker": {
             "colorbar": {
              "outlinewidth": 0,
              "ticks": ""
             }
            },
            "type": "scatterpolargl"
           }
          ],
          "scatterternary": [
           {
            "marker": {
             "colorbar": {
              "outlinewidth": 0,
              "ticks": ""
             }
            },
            "type": "scatterternary"
           }
          ],
          "surface": [
           {
            "colorbar": {
             "outlinewidth": 0,
             "ticks": ""
            },
            "colorscale": [
             [
              0,
              "#0d0887"
             ],
             [
              0.1111111111111111,
              "#46039f"
             ],
             [
              0.2222222222222222,
              "#7201a8"
             ],
             [
              0.3333333333333333,
              "#9c179e"
             ],
             [
              0.4444444444444444,
              "#bd3786"
             ],
             [
              0.5555555555555556,
              "#d8576b"
             ],
             [
              0.6666666666666666,
              "#ed7953"
             ],
             [
              0.7777777777777778,
              "#fb9f3a"
             ],
             [
              0.8888888888888888,
              "#fdca26"
             ],
             [
              1,
              "#f0f921"
             ]
            ],
            "type": "surface"
           }
          ],
          "table": [
           {
            "cells": {
             "fill": {
              "color": "#EBF0F8"
             },
             "line": {
              "color": "white"
             }
            },
            "header": {
             "fill": {
              "color": "#C8D4E3"
             },
             "line": {
              "color": "white"
             }
            },
            "type": "table"
           }
          ]
         },
         "layout": {
          "annotationdefaults": {
           "arrowcolor": "#2a3f5f",
           "arrowhead": 0,
           "arrowwidth": 1
          },
          "autotypenumbers": "strict",
          "coloraxis": {
           "colorbar": {
            "outlinewidth": 0,
            "ticks": ""
           }
          },
          "colorscale": {
           "diverging": [
            [
             0,
             "#8e0152"
            ],
            [
             0.1,
             "#c51b7d"
            ],
            [
             0.2,
             "#de77ae"
            ],
            [
             0.3,
             "#f1b6da"
            ],
            [
             0.4,
             "#fde0ef"
            ],
            [
             0.5,
             "#f7f7f7"
            ],
            [
             0.6,
             "#e6f5d0"
            ],
            [
             0.7,
             "#b8e186"
            ],
            [
             0.8,
             "#7fbc41"
            ],
            [
             0.9,
             "#4d9221"
            ],
            [
             1,
             "#276419"
            ]
           ],
           "sequential": [
            [
             0,
             "#0d0887"
            ],
            [
             0.1111111111111111,
             "#46039f"
            ],
            [
             0.2222222222222222,
             "#7201a8"
            ],
            [
             0.3333333333333333,
             "#9c179e"
            ],
            [
             0.4444444444444444,
             "#bd3786"
            ],
            [
             0.5555555555555556,
             "#d8576b"
            ],
            [
             0.6666666666666666,
             "#ed7953"
            ],
            [
             0.7777777777777778,
             "#fb9f3a"
            ],
            [
             0.8888888888888888,
             "#fdca26"
            ],
            [
             1,
             "#f0f921"
            ]
           ],
           "sequentialminus": [
            [
             0,
             "#0d0887"
            ],
            [
             0.1111111111111111,
             "#46039f"
            ],
            [
             0.2222222222222222,
             "#7201a8"
            ],
            [
             0.3333333333333333,
             "#9c179e"
            ],
            [
             0.4444444444444444,
             "#bd3786"
            ],
            [
             0.5555555555555556,
             "#d8576b"
            ],
            [
             0.6666666666666666,
             "#ed7953"
            ],
            [
             0.7777777777777778,
             "#fb9f3a"
            ],
            [
             0.8888888888888888,
             "#fdca26"
            ],
            [
             1,
             "#f0f921"
            ]
           ]
          },
          "colorway": [
           "#636efa",
           "#EF553B",
           "#00cc96",
           "#ab63fa",
           "#FFA15A",
           "#19d3f3",
           "#FF6692",
           "#B6E880",
           "#FF97FF",
           "#FECB52"
          ],
          "font": {
           "color": "#2a3f5f"
          },
          "geo": {
           "bgcolor": "white",
           "lakecolor": "white",
           "landcolor": "#E5ECF6",
           "showlakes": true,
           "showland": true,
           "subunitcolor": "white"
          },
          "hoverlabel": {
           "align": "left"
          },
          "hovermode": "closest",
          "mapbox": {
           "style": "light"
          },
          "paper_bgcolor": "white",
          "plot_bgcolor": "#E5ECF6",
          "polar": {
           "angularaxis": {
            "gridcolor": "white",
            "linecolor": "white",
            "ticks": ""
           },
           "bgcolor": "#E5ECF6",
           "radialaxis": {
            "gridcolor": "white",
            "linecolor": "white",
            "ticks": ""
           }
          },
          "scene": {
           "xaxis": {
            "backgroundcolor": "#E5ECF6",
            "gridcolor": "white",
            "gridwidth": 2,
            "linecolor": "white",
            "showbackground": true,
            "ticks": "",
            "zerolinecolor": "white"
           },
           "yaxis": {
            "backgroundcolor": "#E5ECF6",
            "gridcolor": "white",
            "gridwidth": 2,
            "linecolor": "white",
            "showbackground": true,
            "ticks": "",
            "zerolinecolor": "white"
           },
           "zaxis": {
            "backgroundcolor": "#E5ECF6",
            "gridcolor": "white",
            "gridwidth": 2,
            "linecolor": "white",
            "showbackground": true,
            "ticks": "",
            "zerolinecolor": "white"
           }
          },
          "shapedefaults": {
           "line": {
            "color": "#2a3f5f"
           }
          },
          "ternary": {
           "aaxis": {
            "gridcolor": "white",
            "linecolor": "white",
            "ticks": ""
           },
           "baxis": {
            "gridcolor": "white",
            "linecolor": "white",
            "ticks": ""
           },
           "bgcolor": "#E5ECF6",
           "caxis": {
            "gridcolor": "white",
            "linecolor": "white",
            "ticks": ""
           }
          },
          "title": {
           "x": 0.05
          },
          "xaxis": {
           "automargin": true,
           "gridcolor": "white",
           "linecolor": "white",
           "ticks": "",
           "title": {
            "standoff": 15
           },
           "zerolinecolor": "white",
           "zerolinewidth": 2
          },
          "yaxis": {
           "automargin": true,
           "gridcolor": "white",
           "linecolor": "white",
           "ticks": "",
           "title": {
            "standoff": 15
           },
           "zerolinecolor": "white",
           "zerolinewidth": 2
          }
         }
        },
        "title": {
         "text": "Brands over 10 search results"
        },
        "width": 1100,
        "xaxis": {
         "anchor": "y",
         "categoryorder": "total descending",
         "domain": [
          0,
          1
         ],
         "title": {
          "text": "Count"
         }
        },
        "yaxis": {
         "anchor": "x",
         "domain": [
          0,
          1
         ],
         "title": {
          "text": "Brand"
         }
        }
       }
      }
     },
     "metadata": {},
     "output_type": "display_data"
    }
   ],
   "source": [
    "print('Quartile (75>) - Products: {}'.format(df_75.__len__()))\n",
    "display(df_75.head())\n",
    "display(px.bar(df_75.Brand.value_counts().to_frame()[df_75.Brand.value_counts().to_frame()['Brand']>=10], x='Brand', width=1100, height=600, text_auto=True,\n",
    "       labels={'index':'Brand', 'Brand':'Count'}).update_layout(xaxis={'categoryorder':'total descending'}, title='Brands over 10 search results'))\n",
    "\n",
    "print('Quartile (50-75] - Products: {}'.format(df_50_75.__len__()))\n",
    "display(df_50_75.head())\n",
    "display(px.bar(df_50_75.Brand.value_counts().to_frame()[df_50_75.Brand.value_counts().to_frame()['Brand']>=10], x='Brand', width=1100, height=600, text_auto=True,\n",
    "       labels={'index':'Brand', 'Brand':'Count'}).update_layout(xaxis={'categoryorder':'total descending'}, title='Brands over 10 search results'))\n",
    "\n",
    "print('Quartile (25-50] - Products: {}'.format(df_25_50.__len__()))\n",
    "display(df_25_50.head())\n",
    "display(px.bar(df_25_50.Brand.value_counts().to_frame()[df_25_50.Brand.value_counts().to_frame()['Brand']>=10], x='Brand', width=1100, height=600, text_auto=True,\n",
    "       labels={'index':'Brand', 'Brand':'Count'}).update_layout(xaxis={'categoryorder':'total descending'}, title='Brands over 10 search results'))\n",
    "\n",
    "print('Quartile (<25] - Products: {}'.format(df_25.__len__()))\n",
    "display(df_25.head())\n",
    "display(px.bar(df_25.Brand.value_counts().to_frame()[df_25.Brand.value_counts().to_frame()['Brand']>=10], x='Brand', width=1100, height=600, text_auto=True,\n",
    "       labels={'index':'Brand', 'Brand':'Count'}).update_layout(xaxis={'categoryorder':'total descending'}, title='Brands over 10 search results'))"
   ]
  },
  {
   "cell_type": "code",
   "execution_count": 18,
   "metadata": {},
   "outputs": [
    {
     "data": {
      "application/vnd.plotly.v1+json": {
       "config": {
        "plotlyServerURL": "https://plot.ly"
       },
       "data": [
        {
         "alignmentgroup": "True",
         "hovertemplate": "Price=%{x}<extra></extra>",
         "legendgroup": "",
         "marker": {
          "color": "#636efa"
         },
         "name": "",
         "notched": false,
         "offsetgroup": "",
         "orientation": "h",
         "showlegend": false,
         "type": "box",
         "x": [
          195,
          557,
          223,
          358,
          330,
          119,
          299,
          557,
          1450,
          299,
          168,
          159,
          148,
          298,
          38,
          298,
          475,
          499,
          999,
          74,
          139,
          484,
          875,
          769,
          196,
          219,
          34,
          58,
          58,
          549,
          149,
          1709,
          425,
          299,
          58,
          366,
          538,
          219,
          149,
          428,
          395,
          196,
          545,
          284,
          495,
          650,
          106,
          689,
          605,
          37,
          330,
          407,
          298,
          204,
          299,
          299,
          699,
          149,
          380,
          240,
          765,
          599,
          176,
          645,
          270,
          399,
          210,
          1799,
          930,
          209,
          149,
          450,
          445,
          498,
          299,
          498,
          479,
          399,
          123,
          189,
          460,
          66,
          849,
          99,
          159,
          410,
          149,
          649,
          466,
          358,
          429,
          466,
          149,
          285,
          60,
          63,
          189,
          291,
          205,
          1529,
          141,
          506,
          433,
          299,
          499,
          160,
          79,
          433,
          350,
          690,
          549,
          22,
          399,
          535,
          380,
          106,
          299,
          120,
          550,
          179,
          449,
          299,
          299,
          79,
          219,
          359,
          326,
          270,
          799,
          539,
          298,
          437,
          239,
          1499,
          453,
          110,
          780,
          80,
          566,
          189,
          660,
          119,
          149,
          159,
          770,
          489,
          765,
          909,
          389,
          499,
          680,
          220,
          450,
          159,
          63,
          399,
          990,
          212,
          849,
          298,
          965,
          179,
          419,
          469,
          875,
          131,
          789,
          528,
          450,
          189,
          535,
          168,
          729,
          290,
          433,
          119,
          119,
          129,
          645,
          359,
          699,
          299,
          1450,
          316,
          227,
          450,
          699,
          581,
          669,
          524,
          349,
          648,
          150,
          678,
          81,
          419,
          197,
          359,
          125,
          499,
          599,
          259,
          589,
          379,
          1289,
          75,
          410,
          369,
          299,
          570,
          680,
          50,
          429,
          449,
          106,
          453,
          110,
          85,
          1099,
          399,
          170,
          220,
          110,
          60,
          239,
          299,
          60,
          580,
          72,
          119,
          735,
          125,
          298,
          220,
          399,
          479,
          469,
          495,
          369,
          440,
          299,
          449,
          1291,
          49,
          139,
          149,
          579,
          399,
          108,
          149,
          63,
          930,
          159,
          212,
          930,
          519,
          399,
          85,
          549,
          340,
          463,
          299,
          77,
          555,
          299,
          299,
          99,
          555,
          499,
          438,
          149,
          450,
          849,
          1099,
          445,
          229,
          433,
          298,
          230,
          299,
          176,
          239,
          304,
          67,
          709,
          108,
          129,
          557,
          1450,
          189,
          299,
          75,
          280,
          75,
          1611,
          540,
          1031,
          939,
          19,
          259,
          299,
          399,
          500,
          599,
          299,
          79,
          648,
          540,
          261,
          999,
          453,
          623,
          514,
          99,
          79,
          220,
          667,
          623,
          437,
          3128,
          580,
          699,
          335,
          261,
          210,
          860,
          489,
          279,
          484,
          72,
          169,
          599,
          590,
          399,
          433,
          655,
          557,
          1450,
          1500,
          299,
          230,
          85,
          319,
          499,
          999,
          499,
          1611,
          149,
          190,
          450,
          690,
          159,
          354,
          79,
          589,
          1899,
          849,
          776,
          990,
          99,
          449,
          239,
          399,
          1111,
          297,
          74,
          549,
          349,
          179,
          395,
          2400,
          270,
          84,
          199,
          129,
          499,
          290,
          750,
          229,
          320,
          149,
          718,
          399,
          68,
          433,
          155,
          499,
          689,
          89,
          279,
          930,
          160,
          729,
          549,
          313,
          354,
          471,
          200,
          438,
          1289,
          433,
          297,
          209,
          428,
          299,
          399,
          131,
          169,
          488,
          139,
          469,
          195,
          235,
          150,
          499,
          298,
          219,
          230,
          399,
          149,
          1715,
          645,
          699,
          89,
          219,
          730,
          579,
          670,
          599,
          235,
          285,
          580,
          338,
          1100,
          389,
          417,
          299,
          75,
          350,
          259,
          550,
          310,
          860,
          740,
          980,
          249,
          599,
          314,
          699,
          780,
          638,
          675,
          599,
          558,
          490,
          433,
          270,
          590,
          950,
          249,
          99,
          219,
          169,
          345,
          249,
          298,
          180,
          230,
          297,
          835,
          132,
          90,
          381,
          398,
          489,
          355,
          650,
          149,
          410,
          2,
          259,
          130,
          298,
          350,
          595,
          1619,
          549,
          260,
          179,
          1589,
          465,
          277,
          257,
          274,
          544,
          475,
          405,
          1196,
          475,
          950,
          595,
          169,
          106,
          249,
          399,
          179,
          120,
          670,
          599,
          609,
          225,
          410,
          119,
          29,
          145,
          129,
          417,
          299,
          699,
          74,
          79,
          499,
          259,
          299,
          148,
          329,
          298,
          380,
          169,
          159,
          85,
          570,
          776,
          149,
          449,
          419,
          68,
          399,
          809,
          110,
          179,
          280,
          1500,
          150,
          1299,
          399,
          320,
          240,
          393,
          699,
          135,
          350,
          74,
          160,
          159,
          769,
          430,
          239,
          893,
          499,
          450,
          119,
          299,
          29,
          149,
          229,
          760,
          119,
          359,
          90,
          819,
          145,
          157,
          543,
          411,
          1339,
          205,
          490,
          415,
          399,
          249,
          289,
          450,
          250,
          450,
          536,
          123,
          500,
          239,
          189,
          125,
          679,
          455,
          411,
          110,
          597,
          99,
          280,
          299,
          720,
          69,
          998,
          298,
          495,
          95,
          179,
          298,
          319,
          80,
          149,
          80,
          210,
          703,
          1380,
          94,
          165,
          298,
          299,
          259,
          990,
          446,
          155,
          399,
          125,
          212,
          175,
          338,
          249,
          125,
          99,
          88,
          179,
          89,
          498,
          483,
          1245,
          297,
          399,
          725,
          119,
          452,
          532,
          297,
          190,
          82,
          131,
          176,
          721,
          326,
          589,
          115,
          399,
          999,
          400,
          369,
          139,
          1036,
          250,
          139,
          270,
          140,
          849,
          505,
          465,
          469,
          169,
          125,
          369,
          389,
          2590,
          159,
          601,
          176,
          239,
          1799,
          239,
          299,
          79,
          699,
          557,
          1450,
          196,
          555,
          224,
          159,
          299,
          75,
          1999,
          399,
          1099,
          599,
          449,
          109,
          1699,
          680,
          680,
          2899,
          169,
          175,
          543,
          1580,
          999,
          499,
          970,
          512,
          776,
          210,
          607,
          159,
          298,
          285,
          165,
          680,
          50,
          2380,
          354,
          180,
          93,
          462,
          299,
          299,
          289,
          395,
          249,
          349,
          216,
          1409,
          3799,
          557,
          1450,
          1599,
          2749,
          2299,
          209,
          840,
          999,
          499,
          209,
          499,
          399,
          165,
          145,
          399,
          160,
          499,
          739,
          1200,
          901,
          299,
          185,
          639,
          445,
          756,
          386,
          210,
          599,
          298,
          74,
          453,
          298,
          717,
          600,
          190,
          95,
          376,
          539,
          136,
          280,
          280,
          249,
          249,
          329,
          298,
          129,
          230,
          1249,
          349,
          998,
          139,
          189,
          130,
          149,
          555,
          185,
          549,
          729,
          545,
          499,
          179,
          139,
          799,
          1289,
          645,
          319,
          419,
          304,
          329,
          499,
          299,
          299,
          249,
          169,
          245,
          175,
          196,
          365,
          149,
          645,
          212,
          369,
          114,
          139,
          170,
          780,
          389,
          149,
          299,
          196,
          93,
          69,
          317,
          297,
          246,
          250,
          749,
          312,
          735,
          330,
          598,
          499,
          529,
          339,
          1499,
          216,
          399,
          379,
          419,
          149,
          142,
          196,
          699,
          780,
          150,
          134,
          129,
          290,
          668,
          149,
          410,
          1031,
          399,
          2699,
          499,
          120,
          1624,
          829,
          95,
          550,
          289,
          139,
          429,
          2100,
          607,
          770,
          3599,
          129,
          298,
          1452,
          3649,
          270,
          535,
          4156,
          1114,
          1800,
          2080,
          3449,
          1790,
          1148,
          945,
          3311,
          1429,
          3142,
          1621,
          2989,
          945,
          681,
          2999,
          633,
          1114,
          3480,
          395,
          3987,
          3311,
          2973,
          2079,
          239,
          535,
          179,
          1452,
          3142,
          1790,
          557,
          149,
          149,
          119,
          2099,
          519,
          2100,
          776,
          2635,
          2297,
          1949,
          749,
          3299,
          2849,
          1733,
          549,
          908,
          746,
          2128,
          3480,
          1283,
          3119,
          2599,
          1559,
          399,
          450,
          1199,
          2859,
          2549,
          779,
          449,
          2453,
          1400,
          2213,
          749,
          1353,
          251,
          249,
          224,
          2804,
          2466,
          3818,
          1959,
          1049,
          2949,
          2399,
          599,
          3149,
          1499,
          2339,
          1689,
          450,
          189,
          2209,
          2699,
          1039,
          1649,
          909,
          449,
          179,
          899,
          2249,
          2469,
          1819,
          1169,
          1349,
          1299,
          649,
          2729,
          681,
          457,
          2466,
          2973,
          519,
          3449,
          3987,
          1283,
          449,
          3649,
          2209,
          119,
          359,
          2339,
          298,
          1148,
          4156,
          909,
          1499,
          1049,
          1733,
          1082,
          149,
          224,
          1621,
          2297,
          749,
          2729,
          2949,
          1559,
          2989,
          2469,
          2859,
          649,
          1349,
          2213,
          1768,
          2453,
          298,
          131,
          1191,
          908,
          746,
          176,
          249,
          299,
          212,
          3818,
          2804,
          2128,
          1959,
          2635,
          1689,
          1169,
          1799,
          2549,
          3119,
          1819,
          2079,
          779,
          3599,
          2699,
          2399,
          1649,
          2599,
          2999,
          1039,
          125,
          930,
          899,
          599,
          3149,
          1949,
          3299,
          2249,
          1429,
          2099,
          2849,
          1199,
          199,
          129,
          419,
          320,
          250,
          370,
          1640,
          369,
          298,
          125,
          605,
          75,
          415,
          19,
          528,
          389,
          229,
          298,
          349,
          350,
          300,
          189,
          599,
          298,
          270,
          411,
          599,
          110,
          268,
          499,
          439,
          497,
          776,
          389,
          249,
          422,
          299,
          369,
          423,
          1050,
          380,
          411,
          537,
          199,
          379,
          699,
          260,
          34,
          1393,
          769,
          659,
          240,
          235,
          440,
          305,
          453,
          60,
          453,
          269,
          350,
          499,
          170,
          290,
          390,
          497,
          497,
          370,
          299,
          258,
          330,
          282,
          280,
          724,
          554,
          999,
          309,
          825,
          530,
          269,
          250,
          324,
          1209,
          610,
          317,
          1479,
          677,
          629,
          1199,
          1339,
          380,
          909,
          109,
          311,
          749,
          422,
          284,
          620,
          163,
          407,
          970,
          501,
          239,
          899,
          63,
          495,
          550,
          77,
          1232,
          1195,
          299,
          228,
          295,
          286,
          170,
          335,
          140,
          928,
          548,
          160,
          179,
          1000,
          825,
          1655,
          269,
          1378,
          1124,
          1393,
          450,
          705,
          279,
          580,
          290,
          165,
          1100,
          620,
          199,
          550,
          685,
          159,
          290,
          849,
          895,
          1379,
          277,
          2792,
          1397,
          200,
          873,
          350,
          99,
          330,
          579,
          224,
          370,
          407,
          352,
          600,
          131,
          419,
          1126,
          1126,
          419,
          390,
          76,
          226,
          149,
          450,
          180,
          750,
          599,
          399,
          369,
          490,
          290,
          499,
          290,
          290,
          230,
          1465,
          126,
          149,
          121,
          904,
          1202,
          501,
          1440,
          562,
          1420,
          601,
          1440,
          1002,
          229,
          720,
          566,
          1202,
          710,
          1046,
          1012,
          793,
          1002,
          562,
          1124,
          980,
          904,
          1200,
          506,
          523,
          978,
          1639,
          489,
          600,
          720,
          1124,
          1002,
          501,
          562,
          1018,
          990,
          1350,
          65,
          352,
          470,
          308,
          1600,
          486,
          457,
          420,
          599,
          595,
          299,
          350,
          250,
          350,
          220,
          215,
          499,
          400,
          250,
          499,
          230,
          695,
          350,
          400,
          139,
          580,
          280,
          897,
          765,
          362,
          170,
          140,
          300,
          189,
          259,
          484,
          120,
          280,
          688,
          249,
          775,
          115,
          599,
          89,
          590,
          299,
          488,
          90,
          972,
          165,
          165,
          992,
          661,
          1267,
          661,
          1323,
          149,
          530,
          219,
          285,
          1100,
          200,
          504,
          342,
          935,
          554,
          245,
          200,
          2400,
          990,
          199,
          398,
          980,
          129,
          160,
          377,
          119,
          307,
          449,
          120,
          165,
          1150,
          400,
          700,
          299,
          200,
          575,
          1735,
          1598,
          2116,
          1743,
          1728,
          1638,
          1622,
          1335,
          1316,
          1777,
          2278,
          1335,
          1549,
          1199,
          1607,
          1784,
          1652,
          1398,
          1668,
          1728,
          1491,
          1308,
          1205,
          1734,
          1223,
          1675,
          1111,
          2200,
          918,
          168,
          538,
          519,
          58,
          55,
          58,
          319,
          500,
          90,
          433,
          1500,
          304,
          299,
          939,
          304,
          415,
          479,
          165,
          544,
          544,
          95,
          399,
          930,
          99,
          399,
          229,
          297,
          329,
          169,
          289,
          499,
          308,
          179,
          299,
          324,
          230,
          499,
          885,
          795,
          305,
          235,
          591,
          755,
          260,
          299,
          285,
          761,
          271,
          1059,
          249,
          507,
          562,
          243,
          567,
          879,
          1049,
          226,
          251,
          618,
          869,
          789,
          1239,
          283,
          1269,
          773,
          797,
          903,
          234,
          646,
          230,
          237,
          563,
          803,
          589,
          222,
          240,
          238,
          254,
          256,
          268,
          279,
          566,
          590,
          839,
          855,
          915,
          1149,
          1209,
          1299,
          1489,
          270,
          253,
          313,
          315,
          539,
          559,
          550,
          809,
          905,
          801,
          867,
          891,
          1169,
          1179,
          1219,
          1229,
          1399,
          1469,
          224,
          252,
          301,
          241,
          255,
          527,
          535,
          555,
          575,
          595,
          611,
          534,
          538,
          602,
          614,
          630,
          831,
          927,
          1069,
          1239,
          1249,
          1259,
          1289,
          1329,
          1389,
          1419,
          242,
          246,
          239,
          267,
          503,
          626,
          833,
          851,
          875,
          881,
          911,
          849,
          861,
          921,
          945,
          1029,
          1109,
          1279,
          1349,
          1359,
          1379,
          1409,
          262,
          257,
          263,
          261,
          281,
          531,
          547,
          551,
          607,
          594,
          791,
          785,
          1019,
          1229,
          299,
          232,
          247,
          259,
          311,
          515,
          519,
          523,
          543,
          583,
          570,
          606,
          642,
          767,
          899,
          917,
          813,
          951,
          1199,
          1279,
          1319,
          1449,
          264,
          273,
          511,
          603,
          546,
          638,
          821,
          857,
          807,
          837,
          897,
          933,
          1039,
          1089,
          1119,
          1129,
          1139,
          1159,
          1249,
          1259,
          1269,
          1369,
          1459,
          244,
          258,
          265,
          571,
          599,
          615,
          542,
          574,
          582,
          598,
          779,
          1079,
          248,
          250,
          277,
          275,
          586,
          622,
          634,
          827,
          887,
          923,
          873,
          963,
          1009,
          1189,
          1219,
          1439,
          236,
          266,
          303,
          579,
          587,
          558,
          578,
          815,
          845,
          863,
          893,
          819,
          843,
          939,
          957,
          1099,
          1289,
          1309,
          1429,
          224,
          1649,
          129,
          250,
          199,
          200,
          990,
          378,
          189,
          918,
          182,
          239,
          210,
          255,
          220,
          1633,
          1461,
          1203,
          1719,
          1719,
          1633,
          2149,
          1031,
          159,
          145,
          197,
          255
         ],
         "x0": " ",
         "xaxis": "x",
         "y0": " ",
         "yaxis": "y"
        }
       ],
       "layout": {
        "boxmode": "group",
        "legend": {
         "tracegroupgap": 0
        },
        "template": {
         "data": {
          "bar": [
           {
            "error_x": {
             "color": "#2a3f5f"
            },
            "error_y": {
             "color": "#2a3f5f"
            },
            "marker": {
             "line": {
              "color": "#E5ECF6",
              "width": 0.5
             },
             "pattern": {
              "fillmode": "overlay",
              "size": 10,
              "solidity": 0.2
             }
            },
            "type": "bar"
           }
          ],
          "barpolar": [
           {
            "marker": {
             "line": {
              "color": "#E5ECF6",
              "width": 0.5
             },
             "pattern": {
              "fillmode": "overlay",
              "size": 10,
              "solidity": 0.2
             }
            },
            "type": "barpolar"
           }
          ],
          "carpet": [
           {
            "aaxis": {
             "endlinecolor": "#2a3f5f",
             "gridcolor": "white",
             "linecolor": "white",
             "minorgridcolor": "white",
             "startlinecolor": "#2a3f5f"
            },
            "baxis": {
             "endlinecolor": "#2a3f5f",
             "gridcolor": "white",
             "linecolor": "white",
             "minorgridcolor": "white",
             "startlinecolor": "#2a3f5f"
            },
            "type": "carpet"
           }
          ],
          "choropleth": [
           {
            "colorbar": {
             "outlinewidth": 0,
             "ticks": ""
            },
            "type": "choropleth"
           }
          ],
          "contour": [
           {
            "colorbar": {
             "outlinewidth": 0,
             "ticks": ""
            },
            "colorscale": [
             [
              0,
              "#0d0887"
             ],
             [
              0.1111111111111111,
              "#46039f"
             ],
             [
              0.2222222222222222,
              "#7201a8"
             ],
             [
              0.3333333333333333,
              "#9c179e"
             ],
             [
              0.4444444444444444,
              "#bd3786"
             ],
             [
              0.5555555555555556,
              "#d8576b"
             ],
             [
              0.6666666666666666,
              "#ed7953"
             ],
             [
              0.7777777777777778,
              "#fb9f3a"
             ],
             [
              0.8888888888888888,
              "#fdca26"
             ],
             [
              1,
              "#f0f921"
             ]
            ],
            "type": "contour"
           }
          ],
          "contourcarpet": [
           {
            "colorbar": {
             "outlinewidth": 0,
             "ticks": ""
            },
            "type": "contourcarpet"
           }
          ],
          "heatmap": [
           {
            "colorbar": {
             "outlinewidth": 0,
             "ticks": ""
            },
            "colorscale": [
             [
              0,
              "#0d0887"
             ],
             [
              0.1111111111111111,
              "#46039f"
             ],
             [
              0.2222222222222222,
              "#7201a8"
             ],
             [
              0.3333333333333333,
              "#9c179e"
             ],
             [
              0.4444444444444444,
              "#bd3786"
             ],
             [
              0.5555555555555556,
              "#d8576b"
             ],
             [
              0.6666666666666666,
              "#ed7953"
             ],
             [
              0.7777777777777778,
              "#fb9f3a"
             ],
             [
              0.8888888888888888,
              "#fdca26"
             ],
             [
              1,
              "#f0f921"
             ]
            ],
            "type": "heatmap"
           }
          ],
          "heatmapgl": [
           {
            "colorbar": {
             "outlinewidth": 0,
             "ticks": ""
            },
            "colorscale": [
             [
              0,
              "#0d0887"
             ],
             [
              0.1111111111111111,
              "#46039f"
             ],
             [
              0.2222222222222222,
              "#7201a8"
             ],
             [
              0.3333333333333333,
              "#9c179e"
             ],
             [
              0.4444444444444444,
              "#bd3786"
             ],
             [
              0.5555555555555556,
              "#d8576b"
             ],
             [
              0.6666666666666666,
              "#ed7953"
             ],
             [
              0.7777777777777778,
              "#fb9f3a"
             ],
             [
              0.8888888888888888,
              "#fdca26"
             ],
             [
              1,
              "#f0f921"
             ]
            ],
            "type": "heatmapgl"
           }
          ],
          "histogram": [
           {
            "marker": {
             "pattern": {
              "fillmode": "overlay",
              "size": 10,
              "solidity": 0.2
             }
            },
            "type": "histogram"
           }
          ],
          "histogram2d": [
           {
            "colorbar": {
             "outlinewidth": 0,
             "ticks": ""
            },
            "colorscale": [
             [
              0,
              "#0d0887"
             ],
             [
              0.1111111111111111,
              "#46039f"
             ],
             [
              0.2222222222222222,
              "#7201a8"
             ],
             [
              0.3333333333333333,
              "#9c179e"
             ],
             [
              0.4444444444444444,
              "#bd3786"
             ],
             [
              0.5555555555555556,
              "#d8576b"
             ],
             [
              0.6666666666666666,
              "#ed7953"
             ],
             [
              0.7777777777777778,
              "#fb9f3a"
             ],
             [
              0.8888888888888888,
              "#fdca26"
             ],
             [
              1,
              "#f0f921"
             ]
            ],
            "type": "histogram2d"
           }
          ],
          "histogram2dcontour": [
           {
            "colorbar": {
             "outlinewidth": 0,
             "ticks": ""
            },
            "colorscale": [
             [
              0,
              "#0d0887"
             ],
             [
              0.1111111111111111,
              "#46039f"
             ],
             [
              0.2222222222222222,
              "#7201a8"
             ],
             [
              0.3333333333333333,
              "#9c179e"
             ],
             [
              0.4444444444444444,
              "#bd3786"
             ],
             [
              0.5555555555555556,
              "#d8576b"
             ],
             [
              0.6666666666666666,
              "#ed7953"
             ],
             [
              0.7777777777777778,
              "#fb9f3a"
             ],
             [
              0.8888888888888888,
              "#fdca26"
             ],
             [
              1,
              "#f0f921"
             ]
            ],
            "type": "histogram2dcontour"
           }
          ],
          "mesh3d": [
           {
            "colorbar": {
             "outlinewidth": 0,
             "ticks": ""
            },
            "type": "mesh3d"
           }
          ],
          "parcoords": [
           {
            "line": {
             "colorbar": {
              "outlinewidth": 0,
              "ticks": ""
             }
            },
            "type": "parcoords"
           }
          ],
          "pie": [
           {
            "automargin": true,
            "type": "pie"
           }
          ],
          "scatter": [
           {
            "fillpattern": {
             "fillmode": "overlay",
             "size": 10,
             "solidity": 0.2
            },
            "type": "scatter"
           }
          ],
          "scatter3d": [
           {
            "line": {
             "colorbar": {
              "outlinewidth": 0,
              "ticks": ""
             }
            },
            "marker": {
             "colorbar": {
              "outlinewidth": 0,
              "ticks": ""
             }
            },
            "type": "scatter3d"
           }
          ],
          "scattercarpet": [
           {
            "marker": {
             "colorbar": {
              "outlinewidth": 0,
              "ticks": ""
             }
            },
            "type": "scattercarpet"
           }
          ],
          "scattergeo": [
           {
            "marker": {
             "colorbar": {
              "outlinewidth": 0,
              "ticks": ""
             }
            },
            "type": "scattergeo"
           }
          ],
          "scattergl": [
           {
            "marker": {
             "colorbar": {
              "outlinewidth": 0,
              "ticks": ""
             }
            },
            "type": "scattergl"
           }
          ],
          "scattermapbox": [
           {
            "marker": {
             "colorbar": {
              "outlinewidth": 0,
              "ticks": ""
             }
            },
            "type": "scattermapbox"
           }
          ],
          "scatterpolar": [
           {
            "marker": {
             "colorbar": {
              "outlinewidth": 0,
              "ticks": ""
             }
            },
            "type": "scatterpolar"
           }
          ],
          "scatterpolargl": [
           {
            "marker": {
             "colorbar": {
              "outlinewidth": 0,
              "ticks": ""
             }
            },
            "type": "scatterpolargl"
           }
          ],
          "scatterternary": [
           {
            "marker": {
             "colorbar": {
              "outlinewidth": 0,
              "ticks": ""
             }
            },
            "type": "scatterternary"
           }
          ],
          "surface": [
           {
            "colorbar": {
             "outlinewidth": 0,
             "ticks": ""
            },
            "colorscale": [
             [
              0,
              "#0d0887"
             ],
             [
              0.1111111111111111,
              "#46039f"
             ],
             [
              0.2222222222222222,
              "#7201a8"
             ],
             [
              0.3333333333333333,
              "#9c179e"
             ],
             [
              0.4444444444444444,
              "#bd3786"
             ],
             [
              0.5555555555555556,
              "#d8576b"
             ],
             [
              0.6666666666666666,
              "#ed7953"
             ],
             [
              0.7777777777777778,
              "#fb9f3a"
             ],
             [
              0.8888888888888888,
              "#fdca26"
             ],
             [
              1,
              "#f0f921"
             ]
            ],
            "type": "surface"
           }
          ],
          "table": [
           {
            "cells": {
             "fill": {
              "color": "#EBF0F8"
             },
             "line": {
              "color": "white"
             }
            },
            "header": {
             "fill": {
              "color": "#C8D4E3"
             },
             "line": {
              "color": "white"
             }
            },
            "type": "table"
           }
          ]
         },
         "layout": {
          "annotationdefaults": {
           "arrowcolor": "#2a3f5f",
           "arrowhead": 0,
           "arrowwidth": 1
          },
          "autotypenumbers": "strict",
          "coloraxis": {
           "colorbar": {
            "outlinewidth": 0,
            "ticks": ""
           }
          },
          "colorscale": {
           "diverging": [
            [
             0,
             "#8e0152"
            ],
            [
             0.1,
             "#c51b7d"
            ],
            [
             0.2,
             "#de77ae"
            ],
            [
             0.3,
             "#f1b6da"
            ],
            [
             0.4,
             "#fde0ef"
            ],
            [
             0.5,
             "#f7f7f7"
            ],
            [
             0.6,
             "#e6f5d0"
            ],
            [
             0.7,
             "#b8e186"
            ],
            [
             0.8,
             "#7fbc41"
            ],
            [
             0.9,
             "#4d9221"
            ],
            [
             1,
             "#276419"
            ]
           ],
           "sequential": [
            [
             0,
             "#0d0887"
            ],
            [
             0.1111111111111111,
             "#46039f"
            ],
            [
             0.2222222222222222,
             "#7201a8"
            ],
            [
             0.3333333333333333,
             "#9c179e"
            ],
            [
             0.4444444444444444,
             "#bd3786"
            ],
            [
             0.5555555555555556,
             "#d8576b"
            ],
            [
             0.6666666666666666,
             "#ed7953"
            ],
            [
             0.7777777777777778,
             "#fb9f3a"
            ],
            [
             0.8888888888888888,
             "#fdca26"
            ],
            [
             1,
             "#f0f921"
            ]
           ],
           "sequentialminus": [
            [
             0,
             "#0d0887"
            ],
            [
             0.1111111111111111,
             "#46039f"
            ],
            [
             0.2222222222222222,
             "#7201a8"
            ],
            [
             0.3333333333333333,
             "#9c179e"
            ],
            [
             0.4444444444444444,
             "#bd3786"
            ],
            [
             0.5555555555555556,
             "#d8576b"
            ],
            [
             0.6666666666666666,
             "#ed7953"
            ],
            [
             0.7777777777777778,
             "#fb9f3a"
            ],
            [
             0.8888888888888888,
             "#fdca26"
            ],
            [
             1,
             "#f0f921"
            ]
           ]
          },
          "colorway": [
           "#636efa",
           "#EF553B",
           "#00cc96",
           "#ab63fa",
           "#FFA15A",
           "#19d3f3",
           "#FF6692",
           "#B6E880",
           "#FF97FF",
           "#FECB52"
          ],
          "font": {
           "color": "#2a3f5f"
          },
          "geo": {
           "bgcolor": "white",
           "lakecolor": "white",
           "landcolor": "#E5ECF6",
           "showlakes": true,
           "showland": true,
           "subunitcolor": "white"
          },
          "hoverlabel": {
           "align": "left"
          },
          "hovermode": "closest",
          "mapbox": {
           "style": "light"
          },
          "paper_bgcolor": "white",
          "plot_bgcolor": "#E5ECF6",
          "polar": {
           "angularaxis": {
            "gridcolor": "white",
            "linecolor": "white",
            "ticks": ""
           },
           "bgcolor": "#E5ECF6",
           "radialaxis": {
            "gridcolor": "white",
            "linecolor": "white",
            "ticks": ""
           }
          },
          "scene": {
           "xaxis": {
            "backgroundcolor": "#E5ECF6",
            "gridcolor": "white",
            "gridwidth": 2,
            "linecolor": "white",
            "showbackground": true,
            "ticks": "",
            "zerolinecolor": "white"
           },
           "yaxis": {
            "backgroundcolor": "#E5ECF6",
            "gridcolor": "white",
            "gridwidth": 2,
            "linecolor": "white",
            "showbackground": true,
            "ticks": "",
            "zerolinecolor": "white"
           },
           "zaxis": {
            "backgroundcolor": "#E5ECF6",
            "gridcolor": "white",
            "gridwidth": 2,
            "linecolor": "white",
            "showbackground": true,
            "ticks": "",
            "zerolinecolor": "white"
           }
          },
          "shapedefaults": {
           "line": {
            "color": "#2a3f5f"
           }
          },
          "ternary": {
           "aaxis": {
            "gridcolor": "white",
            "linecolor": "white",
            "ticks": ""
           },
           "baxis": {
            "gridcolor": "white",
            "linecolor": "white",
            "ticks": ""
           },
           "bgcolor": "#E5ECF6",
           "caxis": {
            "gridcolor": "white",
            "linecolor": "white",
            "ticks": ""
           }
          },
          "title": {
           "x": 0.05
          },
          "xaxis": {
           "automargin": true,
           "gridcolor": "white",
           "linecolor": "white",
           "ticks": "",
           "title": {
            "standoff": 15
           },
           "zerolinecolor": "white",
           "zerolinewidth": 2
          },
          "yaxis": {
           "automargin": true,
           "gridcolor": "white",
           "linecolor": "white",
           "ticks": "",
           "title": {
            "standoff": 15
           },
           "zerolinecolor": "white",
           "zerolinewidth": 2
          }
         }
        },
        "title": {
         "text": "Price distribution"
        },
        "xaxis": {
         "anchor": "y",
         "domain": [
          0,
          1
         ],
         "title": {
          "text": "Price"
         }
        },
        "yaxis": {
         "anchor": "x",
         "domain": [
          0,
          1
         ]
        }
       }
      }
     },
     "metadata": {},
     "output_type": "display_data"
    }
   ],
   "source": [
    "px.box(df,'Price', title=f'Price distribution')"
   ]
  },
  {
   "cell_type": "code",
   "execution_count": 323,
   "metadata": {},
   "outputs": [
    {
     "name": "stdout",
     "output_type": "stream",
     "text": [
      "1255\n",
      "0.5050806933652122\n",
      "0.25044829647340106\n"
     ]
    }
   ],
   "source": [
    "print(df[df['Price'] <= 831].shape[0])\n",
    "print(df[df['Price'] >= 449].shape[0] / df.shape[0])\n",
    "print(df[(df['Price'] > 247) & (df['Price'] <= 449)].shape[0] / df.shape[0])"
   ]
  },
  {
   "cell_type": "code",
   "execution_count": 94,
   "metadata": {},
   "outputs": [
    {
     "data": {
      "application/vnd.plotly.v1+json": {
       "config": {
        "plotlyServerURL": "https://plot.ly"
       },
       "data": [
        {
         "alignmentgroup": "True",
         "bingroup": "x",
         "hovertemplate": "Price=%{x}<br>count=%{y}<extra></extra>",
         "legendgroup": "",
         "marker": {
          "color": "#636efa",
          "pattern": {
           "shape": ""
          }
         },
         "name": "",
         "offsetgroup": "",
         "orientation": "v",
         "showlegend": false,
         "type": "histogram",
         "x": [
          195,
          557,
          223,
          358,
          330,
          119,
          299,
          557,
          1450,
          299,
          168,
          159,
          148,
          298,
          38,
          298,
          475,
          499,
          999,
          74,
          139,
          484,
          875,
          769,
          196,
          219,
          34,
          58,
          58,
          549,
          149,
          1709,
          425,
          299,
          58,
          366,
          538,
          219,
          149,
          428,
          395,
          196,
          545,
          284,
          495,
          650,
          106,
          689,
          605,
          37,
          330,
          407,
          298,
          204,
          299,
          299,
          699,
          149,
          380,
          240,
          765,
          599,
          176,
          645,
          270,
          399,
          210,
          1799,
          930,
          209,
          149,
          450,
          445,
          498,
          299,
          498,
          479,
          399,
          123,
          189,
          460,
          66,
          849,
          99,
          159,
          410,
          149,
          649,
          466,
          358,
          429,
          466,
          149,
          285,
          60,
          63,
          189,
          291,
          205,
          1529,
          141,
          506,
          433,
          299,
          499,
          160,
          79,
          433,
          350,
          690,
          549,
          22,
          399,
          535,
          380,
          106,
          299,
          120,
          550,
          179,
          449,
          299,
          299,
          79,
          219,
          359,
          326,
          270,
          799,
          539,
          298,
          437,
          239,
          1499,
          453,
          110,
          780,
          80,
          566,
          189,
          660,
          119,
          149,
          159,
          770,
          489,
          765,
          909,
          389,
          499,
          680,
          220,
          450,
          159,
          63,
          399,
          990,
          212,
          849,
          298,
          965,
          179,
          419,
          469,
          875,
          131,
          789,
          528,
          450,
          189,
          535,
          168,
          729,
          290,
          433,
          119,
          119,
          129,
          645,
          359,
          699,
          299,
          1450,
          316,
          227,
          450,
          699,
          581,
          669,
          524,
          349,
          648,
          150,
          678,
          81,
          419,
          197,
          359,
          125,
          499,
          599,
          259,
          589,
          379,
          1289,
          75,
          410,
          369,
          299,
          570,
          680,
          50,
          429,
          449,
          106,
          453,
          110,
          85,
          1099,
          399,
          170,
          220,
          110,
          60,
          239,
          299,
          60,
          580,
          72,
          119,
          735,
          125,
          298,
          220,
          399,
          479,
          469,
          495,
          369,
          440,
          299,
          449,
          1291,
          49,
          139,
          149,
          579,
          399,
          108,
          149,
          63,
          930,
          159,
          212,
          930,
          519,
          399,
          85,
          549,
          340,
          463,
          299,
          77,
          555,
          299,
          299,
          99,
          555,
          499,
          438,
          149,
          450,
          849,
          1099,
          445,
          229,
          433,
          298,
          230,
          299,
          176,
          239,
          304,
          67,
          709,
          108,
          129,
          557,
          1450,
          189,
          299,
          75,
          280,
          75,
          1611,
          540,
          1031,
          939,
          19,
          259,
          299,
          399,
          500,
          599,
          299,
          79,
          648,
          540,
          261,
          999,
          453,
          623,
          514,
          99,
          79,
          220,
          667,
          623,
          437,
          3128,
          580,
          699,
          335,
          261,
          210,
          860,
          489,
          279,
          484,
          72,
          169,
          599,
          590,
          399,
          433,
          655,
          557,
          1450,
          1500,
          299,
          230,
          85,
          319,
          499,
          999,
          499,
          1611,
          149,
          190,
          450,
          690,
          159,
          354,
          79,
          589,
          1899,
          849,
          776,
          990,
          99,
          449,
          239,
          399,
          1111,
          297,
          74,
          549,
          349,
          179,
          395,
          2400,
          270,
          84,
          199,
          129,
          499,
          290,
          750,
          229,
          320,
          149,
          718,
          399,
          68,
          433,
          155,
          499,
          689,
          89,
          279,
          930,
          160,
          729,
          549,
          313,
          354,
          471,
          200,
          438,
          1289,
          433,
          297,
          209,
          428,
          299,
          399,
          131,
          169,
          488,
          139,
          469,
          195,
          235,
          150,
          499,
          298,
          219,
          230,
          399,
          149,
          1715,
          645,
          699,
          89,
          219,
          730,
          579,
          670,
          599,
          235,
          285,
          580,
          338,
          1100,
          389,
          417,
          299,
          75,
          350,
          259,
          550,
          310,
          860,
          740,
          980,
          249,
          599,
          314,
          699,
          780,
          638,
          675,
          599,
          558,
          490,
          433,
          270,
          590,
          950,
          249,
          99,
          219,
          169,
          345,
          249,
          298,
          180,
          230,
          297,
          835,
          132,
          90,
          381,
          398,
          489,
          355,
          650,
          149,
          410,
          2,
          259,
          130,
          298,
          350,
          595,
          1619,
          549,
          260,
          179,
          1589,
          465,
          277,
          257,
          274,
          544,
          475,
          405,
          1196,
          475,
          950,
          595,
          169,
          106,
          249,
          399,
          179,
          120,
          670,
          599,
          609,
          225,
          410,
          119,
          29,
          145,
          129,
          417,
          299,
          699,
          74,
          79,
          499,
          259,
          299,
          148,
          329,
          298,
          380,
          169,
          159,
          85,
          570,
          776,
          149,
          449,
          419,
          68,
          399,
          809,
          110,
          179,
          280,
          1500,
          150,
          1299,
          399,
          320,
          240,
          393,
          699,
          135,
          350,
          74,
          160,
          159,
          769,
          430,
          239,
          893,
          499,
          450,
          119,
          299,
          29,
          149,
          229,
          760,
          119,
          359,
          90,
          819,
          145,
          157,
          543,
          411,
          1339,
          205,
          490,
          415,
          399,
          249,
          289,
          450,
          250,
          450,
          536,
          123,
          500,
          239,
          189,
          125,
          679,
          455,
          411,
          110,
          597,
          99,
          280,
          299,
          720,
          69,
          998,
          298,
          495,
          95,
          179,
          298,
          319,
          80,
          149,
          80,
          210,
          703,
          1380,
          94,
          165,
          298,
          299,
          259,
          990,
          446,
          155,
          399,
          125,
          212,
          175,
          338,
          249,
          125,
          99,
          88,
          179,
          89,
          498,
          483,
          1245,
          297,
          399,
          725,
          119,
          452,
          532,
          297,
          190,
          82,
          131,
          176,
          721,
          326,
          589,
          115,
          399,
          999,
          400,
          369,
          139,
          1036,
          250,
          139,
          270,
          140,
          849,
          505,
          465,
          469,
          169,
          125,
          369,
          389,
          2590,
          159,
          601,
          176,
          239,
          1799,
          239,
          299,
          79,
          699,
          557,
          1450,
          196,
          555,
          224,
          159,
          299,
          75,
          1999,
          399,
          1099,
          599,
          449,
          109,
          1699,
          680,
          680,
          2899,
          169,
          175,
          543,
          1580,
          999,
          499,
          970,
          512,
          776,
          210,
          607,
          159,
          298,
          285,
          165,
          680,
          50,
          2380,
          354,
          180,
          93,
          462,
          299,
          299,
          289,
          395,
          249,
          349,
          216,
          1409,
          3799,
          557,
          1450,
          1599,
          2749,
          2299,
          209,
          840,
          999,
          499,
          209,
          499,
          399,
          165,
          145,
          399,
          160,
          499,
          739,
          1200,
          901,
          299,
          185,
          639,
          445,
          756,
          386,
          210,
          599,
          298,
          74,
          453,
          298,
          717,
          600,
          190,
          95,
          376,
          539,
          136,
          280,
          280,
          249,
          249,
          329,
          298,
          129,
          230,
          1249,
          349,
          998,
          139,
          189,
          130,
          149,
          555,
          185,
          549,
          729,
          545,
          499,
          179,
          139,
          799,
          1289,
          645,
          319,
          419,
          304,
          329,
          499,
          299,
          299,
          249,
          169,
          245,
          175,
          196,
          365,
          149,
          645,
          212,
          369,
          114,
          139,
          170,
          780,
          389,
          149,
          299,
          196,
          93,
          69,
          317,
          297,
          246,
          250,
          749,
          312,
          735,
          330,
          598,
          499,
          529,
          339,
          1499,
          216,
          399,
          379,
          419,
          149,
          142,
          196,
          699,
          780,
          150,
          134,
          129,
          290,
          668,
          149,
          410,
          1031,
          399,
          2699,
          499,
          120,
          1624,
          829,
          95,
          550,
          289,
          139,
          429,
          2100,
          607,
          770,
          3599,
          129,
          298,
          1452,
          3649,
          270,
          535,
          4156,
          1114,
          1800,
          2080,
          3449,
          1790,
          1148,
          945,
          3311,
          1429,
          3142,
          1621,
          2989,
          945,
          681,
          2999,
          633,
          1114,
          3480,
          395,
          3987,
          3311,
          2973,
          2079,
          239,
          535,
          179,
          1452,
          3142,
          1790,
          557,
          149,
          149,
          119,
          2099,
          519,
          2100,
          776,
          2635,
          2297,
          1949,
          749,
          3299,
          2849,
          1733,
          549,
          908,
          746,
          2128,
          3480,
          1283,
          3119,
          2599,
          1559,
          399,
          450,
          1199,
          2859,
          2549,
          779,
          449,
          2453,
          1400,
          2213,
          749,
          1353,
          251,
          249,
          224,
          2804,
          2466,
          3818,
          1959,
          1049,
          2949,
          2399,
          599,
          3149,
          1499,
          2339,
          1689,
          450,
          189,
          2209,
          2699,
          1039,
          1649,
          909,
          449,
          179,
          899,
          2249,
          2469,
          1819,
          1169,
          1349,
          1299,
          649,
          2729,
          681,
          457,
          2466,
          2973,
          519,
          3449,
          3987,
          1283,
          449,
          3649,
          2209,
          119,
          359,
          2339,
          298,
          1148,
          4156,
          909,
          1499,
          1049,
          1733,
          1082,
          149,
          224,
          1621,
          2297,
          749,
          2729,
          2949,
          1559,
          2989,
          2469,
          2859,
          649,
          1349,
          2213,
          1768,
          2453,
          298,
          131,
          1191,
          908,
          746,
          176,
          249,
          299,
          212,
          3818,
          2804,
          2128,
          1959,
          2635,
          1689,
          1169,
          1799,
          2549,
          3119,
          1819,
          2079,
          779,
          3599,
          2699,
          2399,
          1649,
          2599,
          2999,
          1039,
          125,
          930,
          899,
          599,
          3149,
          1949,
          3299,
          2249,
          1429,
          2099,
          2849,
          1199,
          199,
          129,
          419,
          320,
          250,
          370,
          1640,
          369,
          298,
          125,
          605,
          75,
          415,
          19,
          528,
          389,
          229,
          298,
          349,
          350,
          300,
          189,
          599,
          298,
          270,
          411,
          599,
          110,
          268,
          499,
          439,
          497,
          776,
          389,
          249,
          422,
          299,
          369,
          423,
          1050,
          380,
          411,
          537,
          199,
          379,
          699,
          260,
          34,
          1393,
          769,
          659,
          240,
          235,
          440,
          305,
          453,
          60,
          453,
          269,
          350,
          499,
          170,
          290,
          390,
          497,
          497,
          370,
          299,
          258,
          330,
          282,
          280,
          724,
          554,
          999,
          309,
          825,
          530,
          269,
          250,
          324,
          1209,
          610,
          317,
          1479,
          677,
          629,
          1199,
          1339,
          380,
          909,
          109,
          311,
          749,
          422,
          284,
          620,
          163,
          407,
          970,
          501,
          239,
          899,
          63,
          495,
          550,
          77,
          1232,
          1195,
          299,
          228,
          295,
          286,
          170,
          335,
          140,
          928,
          548,
          160,
          179,
          1000,
          825,
          1655,
          269,
          1378,
          1124,
          1393,
          450,
          705,
          279,
          580,
          290,
          165,
          1100,
          620,
          199,
          550,
          685,
          159,
          290,
          849,
          895,
          1379,
          277,
          2792,
          1397,
          200,
          873,
          350,
          99,
          330,
          579,
          224,
          370,
          407,
          352,
          600,
          131,
          419,
          1126,
          1126,
          419,
          390,
          76,
          226,
          149,
          450,
          180,
          750,
          599,
          399,
          369,
          490,
          290,
          499,
          290,
          290,
          230,
          1465,
          126,
          149,
          121,
          904,
          1202,
          501,
          1440,
          562,
          1420,
          601,
          1440,
          1002,
          229,
          720,
          566,
          1202,
          710,
          1046,
          1012,
          793,
          1002,
          562,
          1124,
          980,
          904,
          1200,
          506,
          523,
          978,
          1639,
          489,
          600,
          720,
          1124,
          1002,
          501,
          562,
          1018,
          990,
          1350,
          65,
          352,
          470,
          308,
          1600,
          486,
          457,
          420,
          599,
          595,
          299,
          350,
          250,
          350,
          220,
          215,
          499,
          400,
          250,
          499,
          230,
          695,
          350,
          400,
          139,
          580,
          280,
          897,
          765,
          362,
          170,
          140,
          300,
          189,
          259,
          484,
          120,
          280,
          688,
          249,
          775,
          115,
          599,
          89,
          590,
          299,
          488,
          90,
          972,
          165,
          165,
          992,
          661,
          1267,
          661,
          1323,
          149,
          530,
          219,
          285,
          1100,
          200,
          504,
          342,
          935,
          554,
          245,
          200,
          2400,
          990,
          199,
          398,
          980,
          129,
          160,
          377,
          119,
          307,
          449,
          120,
          165,
          1150,
          400,
          700,
          299,
          200,
          575,
          1735,
          1598,
          2116,
          1743,
          1728,
          1638,
          1622,
          1335,
          1316,
          1777,
          2278,
          1335,
          1549,
          1199,
          1607,
          1784,
          1652,
          1398,
          1668,
          1728,
          1491,
          1308,
          1205,
          1734,
          1223,
          1675,
          1111,
          2200,
          918,
          168,
          538,
          519,
          58,
          55,
          58,
          319,
          500,
          90,
          433,
          1500,
          304,
          299,
          939,
          304,
          415,
          479,
          165,
          544,
          544,
          95,
          399,
          930,
          99,
          399,
          229,
          297,
          329,
          169,
          289,
          499,
          308,
          179,
          299,
          324,
          230,
          499,
          885,
          795,
          305,
          235,
          591,
          755,
          260,
          299,
          285,
          761,
          271,
          1059,
          249,
          507,
          562,
          243,
          567,
          879,
          1049,
          226,
          251,
          618,
          869,
          789,
          1239,
          283,
          1269,
          773,
          797,
          903,
          234,
          646,
          230,
          237,
          563,
          803,
          589,
          222,
          240,
          238,
          254,
          256,
          268,
          279,
          566,
          590,
          839,
          855,
          915,
          1149,
          1209,
          1299,
          1489,
          270,
          253,
          313,
          315,
          539,
          559,
          550,
          809,
          905,
          801,
          867,
          891,
          1169,
          1179,
          1219,
          1229,
          1399,
          1469,
          224,
          252,
          301,
          241,
          255,
          527,
          535,
          555,
          575,
          595,
          611,
          534,
          538,
          602,
          614,
          630,
          831,
          927,
          1069,
          1239,
          1249,
          1259,
          1289,
          1329,
          1389,
          1419,
          242,
          246,
          239,
          267,
          503,
          626,
          833,
          851,
          875,
          881,
          911,
          849,
          861,
          921,
          945,
          1029,
          1109,
          1279,
          1349,
          1359,
          1379,
          1409,
          262,
          257,
          263,
          261,
          281,
          531,
          547,
          551,
          607,
          594,
          791,
          785,
          1019,
          1229,
          299,
          232,
          247,
          259,
          311,
          515,
          519,
          523,
          543,
          583,
          570,
          606,
          642,
          767,
          899,
          917,
          813,
          951,
          1199,
          1279,
          1319,
          1449,
          264,
          273,
          511,
          603,
          546,
          638,
          821,
          857,
          807,
          837,
          897,
          933,
          1039,
          1089,
          1119,
          1129,
          1139,
          1159,
          1249,
          1259,
          1269,
          1369,
          1459,
          244,
          258,
          265,
          571,
          599,
          615,
          542,
          574,
          582,
          598,
          779,
          1079,
          248,
          250,
          277,
          275,
          586,
          622,
          634,
          827,
          887,
          923,
          873,
          963,
          1009,
          1189,
          1219,
          1439,
          236,
          266,
          303,
          579,
          587,
          558,
          578,
          815,
          845,
          863,
          893,
          819,
          843,
          939,
          957,
          1099,
          1289,
          1309,
          1429,
          224,
          1649,
          129,
          250,
          199,
          200,
          990,
          378,
          189,
          918,
          182,
          239,
          210,
          255,
          220,
          1633,
          1461,
          1203,
          1719,
          1719,
          1633,
          2149,
          1031,
          159,
          145,
          197,
          255
         ],
         "xaxis": "x",
         "yaxis": "y"
        }
       ],
       "layout": {
        "barmode": "relative",
        "legend": {
         "tracegroupgap": 0
        },
        "template": {
         "data": {
          "bar": [
           {
            "error_x": {
             "color": "#2a3f5f"
            },
            "error_y": {
             "color": "#2a3f5f"
            },
            "marker": {
             "line": {
              "color": "#E5ECF6",
              "width": 0.5
             },
             "pattern": {
              "fillmode": "overlay",
              "size": 10,
              "solidity": 0.2
             }
            },
            "type": "bar"
           }
          ],
          "barpolar": [
           {
            "marker": {
             "line": {
              "color": "#E5ECF6",
              "width": 0.5
             },
             "pattern": {
              "fillmode": "overlay",
              "size": 10,
              "solidity": 0.2
             }
            },
            "type": "barpolar"
           }
          ],
          "carpet": [
           {
            "aaxis": {
             "endlinecolor": "#2a3f5f",
             "gridcolor": "white",
             "linecolor": "white",
             "minorgridcolor": "white",
             "startlinecolor": "#2a3f5f"
            },
            "baxis": {
             "endlinecolor": "#2a3f5f",
             "gridcolor": "white",
             "linecolor": "white",
             "minorgridcolor": "white",
             "startlinecolor": "#2a3f5f"
            },
            "type": "carpet"
           }
          ],
          "choropleth": [
           {
            "colorbar": {
             "outlinewidth": 0,
             "ticks": ""
            },
            "type": "choropleth"
           }
          ],
          "contour": [
           {
            "colorbar": {
             "outlinewidth": 0,
             "ticks": ""
            },
            "colorscale": [
             [
              0,
              "#0d0887"
             ],
             [
              0.1111111111111111,
              "#46039f"
             ],
             [
              0.2222222222222222,
              "#7201a8"
             ],
             [
              0.3333333333333333,
              "#9c179e"
             ],
             [
              0.4444444444444444,
              "#bd3786"
             ],
             [
              0.5555555555555556,
              "#d8576b"
             ],
             [
              0.6666666666666666,
              "#ed7953"
             ],
             [
              0.7777777777777778,
              "#fb9f3a"
             ],
             [
              0.8888888888888888,
              "#fdca26"
             ],
             [
              1,
              "#f0f921"
             ]
            ],
            "type": "contour"
           }
          ],
          "contourcarpet": [
           {
            "colorbar": {
             "outlinewidth": 0,
             "ticks": ""
            },
            "type": "contourcarpet"
           }
          ],
          "heatmap": [
           {
            "colorbar": {
             "outlinewidth": 0,
             "ticks": ""
            },
            "colorscale": [
             [
              0,
              "#0d0887"
             ],
             [
              0.1111111111111111,
              "#46039f"
             ],
             [
              0.2222222222222222,
              "#7201a8"
             ],
             [
              0.3333333333333333,
              "#9c179e"
             ],
             [
              0.4444444444444444,
              "#bd3786"
             ],
             [
              0.5555555555555556,
              "#d8576b"
             ],
             [
              0.6666666666666666,
              "#ed7953"
             ],
             [
              0.7777777777777778,
              "#fb9f3a"
             ],
             [
              0.8888888888888888,
              "#fdca26"
             ],
             [
              1,
              "#f0f921"
             ]
            ],
            "type": "heatmap"
           }
          ],
          "heatmapgl": [
           {
            "colorbar": {
             "outlinewidth": 0,
             "ticks": ""
            },
            "colorscale": [
             [
              0,
              "#0d0887"
             ],
             [
              0.1111111111111111,
              "#46039f"
             ],
             [
              0.2222222222222222,
              "#7201a8"
             ],
             [
              0.3333333333333333,
              "#9c179e"
             ],
             [
              0.4444444444444444,
              "#bd3786"
             ],
             [
              0.5555555555555556,
              "#d8576b"
             ],
             [
              0.6666666666666666,
              "#ed7953"
             ],
             [
              0.7777777777777778,
              "#fb9f3a"
             ],
             [
              0.8888888888888888,
              "#fdca26"
             ],
             [
              1,
              "#f0f921"
             ]
            ],
            "type": "heatmapgl"
           }
          ],
          "histogram": [
           {
            "marker": {
             "pattern": {
              "fillmode": "overlay",
              "size": 10,
              "solidity": 0.2
             }
            },
            "type": "histogram"
           }
          ],
          "histogram2d": [
           {
            "colorbar": {
             "outlinewidth": 0,
             "ticks": ""
            },
            "colorscale": [
             [
              0,
              "#0d0887"
             ],
             [
              0.1111111111111111,
              "#46039f"
             ],
             [
              0.2222222222222222,
              "#7201a8"
             ],
             [
              0.3333333333333333,
              "#9c179e"
             ],
             [
              0.4444444444444444,
              "#bd3786"
             ],
             [
              0.5555555555555556,
              "#d8576b"
             ],
             [
              0.6666666666666666,
              "#ed7953"
             ],
             [
              0.7777777777777778,
              "#fb9f3a"
             ],
             [
              0.8888888888888888,
              "#fdca26"
             ],
             [
              1,
              "#f0f921"
             ]
            ],
            "type": "histogram2d"
           }
          ],
          "histogram2dcontour": [
           {
            "colorbar": {
             "outlinewidth": 0,
             "ticks": ""
            },
            "colorscale": [
             [
              0,
              "#0d0887"
             ],
             [
              0.1111111111111111,
              "#46039f"
             ],
             [
              0.2222222222222222,
              "#7201a8"
             ],
             [
              0.3333333333333333,
              "#9c179e"
             ],
             [
              0.4444444444444444,
              "#bd3786"
             ],
             [
              0.5555555555555556,
              "#d8576b"
             ],
             [
              0.6666666666666666,
              "#ed7953"
             ],
             [
              0.7777777777777778,
              "#fb9f3a"
             ],
             [
              0.8888888888888888,
              "#fdca26"
             ],
             [
              1,
              "#f0f921"
             ]
            ],
            "type": "histogram2dcontour"
           }
          ],
          "mesh3d": [
           {
            "colorbar": {
             "outlinewidth": 0,
             "ticks": ""
            },
            "type": "mesh3d"
           }
          ],
          "parcoords": [
           {
            "line": {
             "colorbar": {
              "outlinewidth": 0,
              "ticks": ""
             }
            },
            "type": "parcoords"
           }
          ],
          "pie": [
           {
            "automargin": true,
            "type": "pie"
           }
          ],
          "scatter": [
           {
            "fillpattern": {
             "fillmode": "overlay",
             "size": 10,
             "solidity": 0.2
            },
            "type": "scatter"
           }
          ],
          "scatter3d": [
           {
            "line": {
             "colorbar": {
              "outlinewidth": 0,
              "ticks": ""
             }
            },
            "marker": {
             "colorbar": {
              "outlinewidth": 0,
              "ticks": ""
             }
            },
            "type": "scatter3d"
           }
          ],
          "scattercarpet": [
           {
            "marker": {
             "colorbar": {
              "outlinewidth": 0,
              "ticks": ""
             }
            },
            "type": "scattercarpet"
           }
          ],
          "scattergeo": [
           {
            "marker": {
             "colorbar": {
              "outlinewidth": 0,
              "ticks": ""
             }
            },
            "type": "scattergeo"
           }
          ],
          "scattergl": [
           {
            "marker": {
             "colorbar": {
              "outlinewidth": 0,
              "ticks": ""
             }
            },
            "type": "scattergl"
           }
          ],
          "scattermapbox": [
           {
            "marker": {
             "colorbar": {
              "outlinewidth": 0,
              "ticks": ""
             }
            },
            "type": "scattermapbox"
           }
          ],
          "scatterpolar": [
           {
            "marker": {
             "colorbar": {
              "outlinewidth": 0,
              "ticks": ""
             }
            },
            "type": "scatterpolar"
           }
          ],
          "scatterpolargl": [
           {
            "marker": {
             "colorbar": {
              "outlinewidth": 0,
              "ticks": ""
             }
            },
            "type": "scatterpolargl"
           }
          ],
          "scatterternary": [
           {
            "marker": {
             "colorbar": {
              "outlinewidth": 0,
              "ticks": ""
             }
            },
            "type": "scatterternary"
           }
          ],
          "surface": [
           {
            "colorbar": {
             "outlinewidth": 0,
             "ticks": ""
            },
            "colorscale": [
             [
              0,
              "#0d0887"
             ],
             [
              0.1111111111111111,
              "#46039f"
             ],
             [
              0.2222222222222222,
              "#7201a8"
             ],
             [
              0.3333333333333333,
              "#9c179e"
             ],
             [
              0.4444444444444444,
              "#bd3786"
             ],
             [
              0.5555555555555556,
              "#d8576b"
             ],
             [
              0.6666666666666666,
              "#ed7953"
             ],
             [
              0.7777777777777778,
              "#fb9f3a"
             ],
             [
              0.8888888888888888,
              "#fdca26"
             ],
             [
              1,
              "#f0f921"
             ]
            ],
            "type": "surface"
           }
          ],
          "table": [
           {
            "cells": {
             "fill": {
              "color": "#EBF0F8"
             },
             "line": {
              "color": "white"
             }
            },
            "header": {
             "fill": {
              "color": "#C8D4E3"
             },
             "line": {
              "color": "white"
             }
            },
            "type": "table"
           }
          ]
         },
         "layout": {
          "annotationdefaults": {
           "arrowcolor": "#2a3f5f",
           "arrowhead": 0,
           "arrowwidth": 1
          },
          "autotypenumbers": "strict",
          "coloraxis": {
           "colorbar": {
            "outlinewidth": 0,
            "ticks": ""
           }
          },
          "colorscale": {
           "diverging": [
            [
             0,
             "#8e0152"
            ],
            [
             0.1,
             "#c51b7d"
            ],
            [
             0.2,
             "#de77ae"
            ],
            [
             0.3,
             "#f1b6da"
            ],
            [
             0.4,
             "#fde0ef"
            ],
            [
             0.5,
             "#f7f7f7"
            ],
            [
             0.6,
             "#e6f5d0"
            ],
            [
             0.7,
             "#b8e186"
            ],
            [
             0.8,
             "#7fbc41"
            ],
            [
             0.9,
             "#4d9221"
            ],
            [
             1,
             "#276419"
            ]
           ],
           "sequential": [
            [
             0,
             "#0d0887"
            ],
            [
             0.1111111111111111,
             "#46039f"
            ],
            [
             0.2222222222222222,
             "#7201a8"
            ],
            [
             0.3333333333333333,
             "#9c179e"
            ],
            [
             0.4444444444444444,
             "#bd3786"
            ],
            [
             0.5555555555555556,
             "#d8576b"
            ],
            [
             0.6666666666666666,
             "#ed7953"
            ],
            [
             0.7777777777777778,
             "#fb9f3a"
            ],
            [
             0.8888888888888888,
             "#fdca26"
            ],
            [
             1,
             "#f0f921"
            ]
           ],
           "sequentialminus": [
            [
             0,
             "#0d0887"
            ],
            [
             0.1111111111111111,
             "#46039f"
            ],
            [
             0.2222222222222222,
             "#7201a8"
            ],
            [
             0.3333333333333333,
             "#9c179e"
            ],
            [
             0.4444444444444444,
             "#bd3786"
            ],
            [
             0.5555555555555556,
             "#d8576b"
            ],
            [
             0.6666666666666666,
             "#ed7953"
            ],
            [
             0.7777777777777778,
             "#fb9f3a"
            ],
            [
             0.8888888888888888,
             "#fdca26"
            ],
            [
             1,
             "#f0f921"
            ]
           ]
          },
          "colorway": [
           "#636efa",
           "#EF553B",
           "#00cc96",
           "#ab63fa",
           "#FFA15A",
           "#19d3f3",
           "#FF6692",
           "#B6E880",
           "#FF97FF",
           "#FECB52"
          ],
          "font": {
           "color": "#2a3f5f"
          },
          "geo": {
           "bgcolor": "white",
           "lakecolor": "white",
           "landcolor": "#E5ECF6",
           "showlakes": true,
           "showland": true,
           "subunitcolor": "white"
          },
          "hoverlabel": {
           "align": "left"
          },
          "hovermode": "closest",
          "mapbox": {
           "style": "light"
          },
          "paper_bgcolor": "white",
          "plot_bgcolor": "#E5ECF6",
          "polar": {
           "angularaxis": {
            "gridcolor": "white",
            "linecolor": "white",
            "ticks": ""
           },
           "bgcolor": "#E5ECF6",
           "radialaxis": {
            "gridcolor": "white",
            "linecolor": "white",
            "ticks": ""
           }
          },
          "scene": {
           "xaxis": {
            "backgroundcolor": "#E5ECF6",
            "gridcolor": "white",
            "gridwidth": 2,
            "linecolor": "white",
            "showbackground": true,
            "ticks": "",
            "zerolinecolor": "white"
           },
           "yaxis": {
            "backgroundcolor": "#E5ECF6",
            "gridcolor": "white",
            "gridwidth": 2,
            "linecolor": "white",
            "showbackground": true,
            "ticks": "",
            "zerolinecolor": "white"
           },
           "zaxis": {
            "backgroundcolor": "#E5ECF6",
            "gridcolor": "white",
            "gridwidth": 2,
            "linecolor": "white",
            "showbackground": true,
            "ticks": "",
            "zerolinecolor": "white"
           }
          },
          "shapedefaults": {
           "line": {
            "color": "#2a3f5f"
           }
          },
          "ternary": {
           "aaxis": {
            "gridcolor": "white",
            "linecolor": "white",
            "ticks": ""
           },
           "baxis": {
            "gridcolor": "white",
            "linecolor": "white",
            "ticks": ""
           },
           "bgcolor": "#E5ECF6",
           "caxis": {
            "gridcolor": "white",
            "linecolor": "white",
            "ticks": ""
           }
          },
          "title": {
           "x": 0.05
          },
          "xaxis": {
           "automargin": true,
           "gridcolor": "white",
           "linecolor": "white",
           "ticks": "",
           "title": {
            "standoff": 15
           },
           "zerolinecolor": "white",
           "zerolinewidth": 2
          },
          "yaxis": {
           "automargin": true,
           "gridcolor": "white",
           "linecolor": "white",
           "ticks": "",
           "title": {
            "standoff": 15
           },
           "zerolinecolor": "white",
           "zerolinewidth": 2
          }
         }
        },
        "title": {
         "text": "Price distribution"
        },
        "xaxis": {
         "anchor": "y",
         "domain": [
          0,
          1
         ],
         "title": {
          "text": "Price"
         }
        },
        "yaxis": {
         "anchor": "x",
         "domain": [
          0,
          1
         ],
         "title": {
          "text": "count"
         }
        }
       }
      }
     },
     "metadata": {},
     "output_type": "display_data"
    },
    {
     "data": {
      "application/vnd.plotly.v1+json": {
       "config": {
        "plotlyServerURL": "https://plot.ly"
       },
       "data": [
        {
         "alignmentgroup": "True",
         "bingroup": "x",
         "hovertemplate": "Price=%{x}<br>count=%{y}<extra></extra>",
         "legendgroup": "",
         "marker": {
          "color": "#636efa",
          "pattern": {
           "shape": ""
          }
         },
         "name": "",
         "nbinsx": 10,
         "offsetgroup": "",
         "orientation": "v",
         "showlegend": false,
         "texttemplate": "%{value}",
         "type": "histogram",
         "x": [
          1450,
          999,
          875,
          1709,
          1799,
          930,
          849,
          1529,
          1499,
          909,
          990,
          849,
          965,
          875,
          1450,
          1289,
          1099,
          1291,
          930,
          930,
          849,
          1099,
          1450,
          1611,
          1031,
          939,
          999,
          3128,
          860,
          1450,
          1500,
          999,
          1611,
          1899,
          849,
          990,
          1111,
          2400,
          930,
          1289,
          1715,
          1100,
          860,
          980,
          950,
          835,
          1619,
          1589,
          1196,
          950,
          1500,
          1299,
          893,
          1339,
          998,
          1380,
          990,
          1245,
          999,
          1036,
          849,
          2590,
          1799,
          1450,
          1999,
          1099,
          1699,
          2899,
          1580,
          999,
          970,
          2380,
          1409,
          3799,
          1450,
          1599,
          2749,
          2299,
          840,
          999,
          1200,
          901,
          1249,
          998,
          1289,
          1499,
          1031,
          2699,
          1624,
          2100,
          3599,
          1452,
          3649,
          4156,
          1114,
          1800,
          2080,
          3449,
          1790,
          1148,
          945,
          3311,
          1429,
          3142,
          1621,
          2989,
          945,
          2999,
          1114,
          3480,
          3987,
          3311,
          2973,
          2079,
          1452,
          3142,
          1790,
          2099,
          2100,
          2635,
          2297,
          1949,
          3299,
          2849,
          1733,
          908,
          2128,
          3480,
          1283,
          3119,
          2599,
          1559,
          1199,
          2859,
          2549,
          2453,
          1400,
          2213,
          1353,
          2804,
          2466,
          3818,
          1959,
          1049,
          2949,
          2399,
          3149,
          1499,
          2339,
          1689,
          2209,
          2699,
          1039,
          1649,
          909,
          899,
          2249,
          2469,
          1819,
          1169,
          1349,
          1299,
          2729,
          2466,
          2973,
          3449,
          3987,
          1283,
          3649,
          2209,
          2339,
          1148,
          4156,
          909,
          1499,
          1049,
          1733,
          1082,
          1621,
          2297,
          2729,
          2949,
          1559,
          2989,
          2469,
          2859,
          1349,
          2213,
          1768,
          2453,
          1191,
          908,
          3818,
          2804,
          2128,
          1959,
          2635,
          1689,
          1169,
          1799,
          2549,
          3119,
          1819,
          2079,
          3599,
          2699,
          2399,
          1649,
          2599,
          2999,
          1039,
          930,
          899,
          3149,
          1949,
          3299,
          2249,
          1429,
          2099,
          2849,
          1199,
          1640,
          1050,
          1393,
          999,
          1209,
          1479,
          1199,
          1339,
          909,
          970,
          899,
          1232,
          1195,
          928,
          1000,
          1655,
          1378,
          1124,
          1393,
          1100,
          849,
          895,
          1379,
          2792,
          1397,
          873,
          1126,
          1126,
          1465,
          904,
          1202,
          1440,
          1420,
          1440,
          1002,
          1202,
          1046,
          1012,
          1002,
          1124,
          980,
          904,
          1200,
          978,
          1639,
          1124,
          1002,
          1018,
          990,
          1350,
          1600,
          897,
          972,
          992,
          1267,
          1323,
          1100,
          935,
          2400,
          990,
          980,
          1150,
          1735,
          1598,
          2116,
          1743,
          1728,
          1638,
          1622,
          1335,
          1316,
          1777,
          2278,
          1335,
          1549,
          1199,
          1607,
          1784,
          1652,
          1398,
          1668,
          1728,
          1491,
          1308,
          1205,
          1734,
          1223,
          1675,
          1111,
          2200,
          918,
          1500,
          939,
          930,
          885,
          1059,
          879,
          1049,
          869,
          1239,
          1269,
          903,
          839,
          855,
          915,
          1149,
          1209,
          1299,
          1489,
          905,
          867,
          891,
          1169,
          1179,
          1219,
          1229,
          1399,
          1469,
          927,
          1069,
          1239,
          1249,
          1259,
          1289,
          1329,
          1389,
          1419,
          833,
          851,
          875,
          881,
          911,
          849,
          861,
          921,
          945,
          1029,
          1109,
          1279,
          1349,
          1359,
          1379,
          1409,
          1019,
          1229,
          899,
          917,
          951,
          1199,
          1279,
          1319,
          1449,
          857,
          837,
          897,
          933,
          1039,
          1089,
          1119,
          1129,
          1139,
          1159,
          1249,
          1259,
          1269,
          1369,
          1459,
          1079,
          887,
          923,
          873,
          963,
          1009,
          1189,
          1219,
          1439,
          845,
          863,
          893,
          843,
          939,
          957,
          1099,
          1289,
          1309,
          1429,
          1649,
          990,
          918,
          1633,
          1461,
          1203,
          1719,
          1719,
          1633,
          2149,
          1031
         ],
         "xaxis": "x",
         "yaxis": "y"
        }
       ],
       "layout": {
        "barmode": "relative",
        "legend": {
         "tracegroupgap": 0
        },
        "template": {
         "data": {
          "bar": [
           {
            "error_x": {
             "color": "#2a3f5f"
            },
            "error_y": {
             "color": "#2a3f5f"
            },
            "marker": {
             "line": {
              "color": "#E5ECF6",
              "width": 0.5
             },
             "pattern": {
              "fillmode": "overlay",
              "size": 10,
              "solidity": 0.2
             }
            },
            "type": "bar"
           }
          ],
          "barpolar": [
           {
            "marker": {
             "line": {
              "color": "#E5ECF6",
              "width": 0.5
             },
             "pattern": {
              "fillmode": "overlay",
              "size": 10,
              "solidity": 0.2
             }
            },
            "type": "barpolar"
           }
          ],
          "carpet": [
           {
            "aaxis": {
             "endlinecolor": "#2a3f5f",
             "gridcolor": "white",
             "linecolor": "white",
             "minorgridcolor": "white",
             "startlinecolor": "#2a3f5f"
            },
            "baxis": {
             "endlinecolor": "#2a3f5f",
             "gridcolor": "white",
             "linecolor": "white",
             "minorgridcolor": "white",
             "startlinecolor": "#2a3f5f"
            },
            "type": "carpet"
           }
          ],
          "choropleth": [
           {
            "colorbar": {
             "outlinewidth": 0,
             "ticks": ""
            },
            "type": "choropleth"
           }
          ],
          "contour": [
           {
            "colorbar": {
             "outlinewidth": 0,
             "ticks": ""
            },
            "colorscale": [
             [
              0,
              "#0d0887"
             ],
             [
              0.1111111111111111,
              "#46039f"
             ],
             [
              0.2222222222222222,
              "#7201a8"
             ],
             [
              0.3333333333333333,
              "#9c179e"
             ],
             [
              0.4444444444444444,
              "#bd3786"
             ],
             [
              0.5555555555555556,
              "#d8576b"
             ],
             [
              0.6666666666666666,
              "#ed7953"
             ],
             [
              0.7777777777777778,
              "#fb9f3a"
             ],
             [
              0.8888888888888888,
              "#fdca26"
             ],
             [
              1,
              "#f0f921"
             ]
            ],
            "type": "contour"
           }
          ],
          "contourcarpet": [
           {
            "colorbar": {
             "outlinewidth": 0,
             "ticks": ""
            },
            "type": "contourcarpet"
           }
          ],
          "heatmap": [
           {
            "colorbar": {
             "outlinewidth": 0,
             "ticks": ""
            },
            "colorscale": [
             [
              0,
              "#0d0887"
             ],
             [
              0.1111111111111111,
              "#46039f"
             ],
             [
              0.2222222222222222,
              "#7201a8"
             ],
             [
              0.3333333333333333,
              "#9c179e"
             ],
             [
              0.4444444444444444,
              "#bd3786"
             ],
             [
              0.5555555555555556,
              "#d8576b"
             ],
             [
              0.6666666666666666,
              "#ed7953"
             ],
             [
              0.7777777777777778,
              "#fb9f3a"
             ],
             [
              0.8888888888888888,
              "#fdca26"
             ],
             [
              1,
              "#f0f921"
             ]
            ],
            "type": "heatmap"
           }
          ],
          "heatmapgl": [
           {
            "colorbar": {
             "outlinewidth": 0,
             "ticks": ""
            },
            "colorscale": [
             [
              0,
              "#0d0887"
             ],
             [
              0.1111111111111111,
              "#46039f"
             ],
             [
              0.2222222222222222,
              "#7201a8"
             ],
             [
              0.3333333333333333,
              "#9c179e"
             ],
             [
              0.4444444444444444,
              "#bd3786"
             ],
             [
              0.5555555555555556,
              "#d8576b"
             ],
             [
              0.6666666666666666,
              "#ed7953"
             ],
             [
              0.7777777777777778,
              "#fb9f3a"
             ],
             [
              0.8888888888888888,
              "#fdca26"
             ],
             [
              1,
              "#f0f921"
             ]
            ],
            "type": "heatmapgl"
           }
          ],
          "histogram": [
           {
            "marker": {
             "pattern": {
              "fillmode": "overlay",
              "size": 10,
              "solidity": 0.2
             }
            },
            "type": "histogram"
           }
          ],
          "histogram2d": [
           {
            "colorbar": {
             "outlinewidth": 0,
             "ticks": ""
            },
            "colorscale": [
             [
              0,
              "#0d0887"
             ],
             [
              0.1111111111111111,
              "#46039f"
             ],
             [
              0.2222222222222222,
              "#7201a8"
             ],
             [
              0.3333333333333333,
              "#9c179e"
             ],
             [
              0.4444444444444444,
              "#bd3786"
             ],
             [
              0.5555555555555556,
              "#d8576b"
             ],
             [
              0.6666666666666666,
              "#ed7953"
             ],
             [
              0.7777777777777778,
              "#fb9f3a"
             ],
             [
              0.8888888888888888,
              "#fdca26"
             ],
             [
              1,
              "#f0f921"
             ]
            ],
            "type": "histogram2d"
           }
          ],
          "histogram2dcontour": [
           {
            "colorbar": {
             "outlinewidth": 0,
             "ticks": ""
            },
            "colorscale": [
             [
              0,
              "#0d0887"
             ],
             [
              0.1111111111111111,
              "#46039f"
             ],
             [
              0.2222222222222222,
              "#7201a8"
             ],
             [
              0.3333333333333333,
              "#9c179e"
             ],
             [
              0.4444444444444444,
              "#bd3786"
             ],
             [
              0.5555555555555556,
              "#d8576b"
             ],
             [
              0.6666666666666666,
              "#ed7953"
             ],
             [
              0.7777777777777778,
              "#fb9f3a"
             ],
             [
              0.8888888888888888,
              "#fdca26"
             ],
             [
              1,
              "#f0f921"
             ]
            ],
            "type": "histogram2dcontour"
           }
          ],
          "mesh3d": [
           {
            "colorbar": {
             "outlinewidth": 0,
             "ticks": ""
            },
            "type": "mesh3d"
           }
          ],
          "parcoords": [
           {
            "line": {
             "colorbar": {
              "outlinewidth": 0,
              "ticks": ""
             }
            },
            "type": "parcoords"
           }
          ],
          "pie": [
           {
            "automargin": true,
            "type": "pie"
           }
          ],
          "scatter": [
           {
            "fillpattern": {
             "fillmode": "overlay",
             "size": 10,
             "solidity": 0.2
            },
            "type": "scatter"
           }
          ],
          "scatter3d": [
           {
            "line": {
             "colorbar": {
              "outlinewidth": 0,
              "ticks": ""
             }
            },
            "marker": {
             "colorbar": {
              "outlinewidth": 0,
              "ticks": ""
             }
            },
            "type": "scatter3d"
           }
          ],
          "scattercarpet": [
           {
            "marker": {
             "colorbar": {
              "outlinewidth": 0,
              "ticks": ""
             }
            },
            "type": "scattercarpet"
           }
          ],
          "scattergeo": [
           {
            "marker": {
             "colorbar": {
              "outlinewidth": 0,
              "ticks": ""
             }
            },
            "type": "scattergeo"
           }
          ],
          "scattergl": [
           {
            "marker": {
             "colorbar": {
              "outlinewidth": 0,
              "ticks": ""
             }
            },
            "type": "scattergl"
           }
          ],
          "scattermapbox": [
           {
            "marker": {
             "colorbar": {
              "outlinewidth": 0,
              "ticks": ""
             }
            },
            "type": "scattermapbox"
           }
          ],
          "scatterpolar": [
           {
            "marker": {
             "colorbar": {
              "outlinewidth": 0,
              "ticks": ""
             }
            },
            "type": "scatterpolar"
           }
          ],
          "scatterpolargl": [
           {
            "marker": {
             "colorbar": {
              "outlinewidth": 0,
              "ticks": ""
             }
            },
            "type": "scatterpolargl"
           }
          ],
          "scatterternary": [
           {
            "marker": {
             "colorbar": {
              "outlinewidth": 0,
              "ticks": ""
             }
            },
            "type": "scatterternary"
           }
          ],
          "surface": [
           {
            "colorbar": {
             "outlinewidth": 0,
             "ticks": ""
            },
            "colorscale": [
             [
              0,
              "#0d0887"
             ],
             [
              0.1111111111111111,
              "#46039f"
             ],
             [
              0.2222222222222222,
              "#7201a8"
             ],
             [
              0.3333333333333333,
              "#9c179e"
             ],
             [
              0.4444444444444444,
              "#bd3786"
             ],
             [
              0.5555555555555556,
              "#d8576b"
             ],
             [
              0.6666666666666666,
              "#ed7953"
             ],
             [
              0.7777777777777778,
              "#fb9f3a"
             ],
             [
              0.8888888888888888,
              "#fdca26"
             ],
             [
              1,
              "#f0f921"
             ]
            ],
            "type": "surface"
           }
          ],
          "table": [
           {
            "cells": {
             "fill": {
              "color": "#EBF0F8"
             },
             "line": {
              "color": "white"
             }
            },
            "header": {
             "fill": {
              "color": "#C8D4E3"
             },
             "line": {
              "color": "white"
             }
            },
            "type": "table"
           }
          ]
         },
         "layout": {
          "annotationdefaults": {
           "arrowcolor": "#2a3f5f",
           "arrowhead": 0,
           "arrowwidth": 1
          },
          "autotypenumbers": "strict",
          "coloraxis": {
           "colorbar": {
            "outlinewidth": 0,
            "ticks": ""
           }
          },
          "colorscale": {
           "diverging": [
            [
             0,
             "#8e0152"
            ],
            [
             0.1,
             "#c51b7d"
            ],
            [
             0.2,
             "#de77ae"
            ],
            [
             0.3,
             "#f1b6da"
            ],
            [
             0.4,
             "#fde0ef"
            ],
            [
             0.5,
             "#f7f7f7"
            ],
            [
             0.6,
             "#e6f5d0"
            ],
            [
             0.7,
             "#b8e186"
            ],
            [
             0.8,
             "#7fbc41"
            ],
            [
             0.9,
             "#4d9221"
            ],
            [
             1,
             "#276419"
            ]
           ],
           "sequential": [
            [
             0,
             "#0d0887"
            ],
            [
             0.1111111111111111,
             "#46039f"
            ],
            [
             0.2222222222222222,
             "#7201a8"
            ],
            [
             0.3333333333333333,
             "#9c179e"
            ],
            [
             0.4444444444444444,
             "#bd3786"
            ],
            [
             0.5555555555555556,
             "#d8576b"
            ],
            [
             0.6666666666666666,
             "#ed7953"
            ],
            [
             0.7777777777777778,
             "#fb9f3a"
            ],
            [
             0.8888888888888888,
             "#fdca26"
            ],
            [
             1,
             "#f0f921"
            ]
           ],
           "sequentialminus": [
            [
             0,
             "#0d0887"
            ],
            [
             0.1111111111111111,
             "#46039f"
            ],
            [
             0.2222222222222222,
             "#7201a8"
            ],
            [
             0.3333333333333333,
             "#9c179e"
            ],
            [
             0.4444444444444444,
             "#bd3786"
            ],
            [
             0.5555555555555556,
             "#d8576b"
            ],
            [
             0.6666666666666666,
             "#ed7953"
            ],
            [
             0.7777777777777778,
             "#fb9f3a"
            ],
            [
             0.8888888888888888,
             "#fdca26"
            ],
            [
             1,
             "#f0f921"
            ]
           ]
          },
          "colorway": [
           "#636efa",
           "#EF553B",
           "#00cc96",
           "#ab63fa",
           "#FFA15A",
           "#19d3f3",
           "#FF6692",
           "#B6E880",
           "#FF97FF",
           "#FECB52"
          ],
          "font": {
           "color": "#2a3f5f"
          },
          "geo": {
           "bgcolor": "white",
           "lakecolor": "white",
           "landcolor": "#E5ECF6",
           "showlakes": true,
           "showland": true,
           "subunitcolor": "white"
          },
          "hoverlabel": {
           "align": "left"
          },
          "hovermode": "closest",
          "mapbox": {
           "style": "light"
          },
          "paper_bgcolor": "white",
          "plot_bgcolor": "#E5ECF6",
          "polar": {
           "angularaxis": {
            "gridcolor": "white",
            "linecolor": "white",
            "ticks": ""
           },
           "bgcolor": "#E5ECF6",
           "radialaxis": {
            "gridcolor": "white",
            "linecolor": "white",
            "ticks": ""
           }
          },
          "scene": {
           "xaxis": {
            "backgroundcolor": "#E5ECF6",
            "gridcolor": "white",
            "gridwidth": 2,
            "linecolor": "white",
            "showbackground": true,
            "ticks": "",
            "zerolinecolor": "white"
           },
           "yaxis": {
            "backgroundcolor": "#E5ECF6",
            "gridcolor": "white",
            "gridwidth": 2,
            "linecolor": "white",
            "showbackground": true,
            "ticks": "",
            "zerolinecolor": "white"
           },
           "zaxis": {
            "backgroundcolor": "#E5ECF6",
            "gridcolor": "white",
            "gridwidth": 2,
            "linecolor": "white",
            "showbackground": true,
            "ticks": "",
            "zerolinecolor": "white"
           }
          },
          "shapedefaults": {
           "line": {
            "color": "#2a3f5f"
           }
          },
          "ternary": {
           "aaxis": {
            "gridcolor": "white",
            "linecolor": "white",
            "ticks": ""
           },
           "baxis": {
            "gridcolor": "white",
            "linecolor": "white",
            "ticks": ""
           },
           "bgcolor": "#E5ECF6",
           "caxis": {
            "gridcolor": "white",
            "linecolor": "white",
            "ticks": ""
           }
          },
          "title": {
           "x": 0.05
          },
          "xaxis": {
           "automargin": true,
           "gridcolor": "white",
           "linecolor": "white",
           "ticks": "",
           "title": {
            "standoff": 15
           },
           "zerolinecolor": "white",
           "zerolinewidth": 2
          },
          "yaxis": {
           "automargin": true,
           "gridcolor": "white",
           "linecolor": "white",
           "ticks": "",
           "title": {
            "standoff": 15
           },
           "zerolinecolor": "white",
           "zerolinewidth": 2
          }
         }
        },
        "title": {
         "text": "Price distribution - Prime Products"
        },
        "xaxis": {
         "anchor": "y",
         "domain": [
          0,
          1
         ],
         "title": {
          "text": "Price"
         }
        },
        "yaxis": {
         "anchor": "x",
         "domain": [
          0,
          1
         ],
         "title": {
          "text": "count"
         }
        }
       }
      }
     },
     "metadata": {},
     "output_type": "display_data"
    },
    {
     "data": {
      "text/html": [
       "<div>\n",
       "<style scoped>\n",
       "    .dataframe tbody tr th:only-of-type {\n",
       "        vertical-align: middle;\n",
       "    }\n",
       "\n",
       "    .dataframe tbody tr th {\n",
       "        vertical-align: top;\n",
       "    }\n",
       "\n",
       "    .dataframe thead th {\n",
       "        text-align: right;\n",
       "    }\n",
       "</style>\n",
       "<table border=\"1\" class=\"dataframe\">\n",
       "  <thead>\n",
       "    <tr style=\"text-align: right;\">\n",
       "      <th></th>\n",
       "      <th>Price</th>\n",
       "    </tr>\n",
       "  </thead>\n",
       "  <tbody>\n",
       "    <tr>\n",
       "      <th>count</th>\n",
       "      <td>418.00</td>\n",
       "    </tr>\n",
       "    <tr>\n",
       "      <th>mean</th>\n",
       "      <td>1565.33</td>\n",
       "    </tr>\n",
       "    <tr>\n",
       "      <th>std</th>\n",
       "      <td>741.13</td>\n",
       "    </tr>\n",
       "    <tr>\n",
       "      <th>min</th>\n",
       "      <td>833.00</td>\n",
       "    </tr>\n",
       "    <tr>\n",
       "      <th>25%</th>\n",
       "      <td>999.25</td>\n",
       "    </tr>\n",
       "    <tr>\n",
       "      <th>50%</th>\n",
       "      <td>1312.50</td>\n",
       "    </tr>\n",
       "    <tr>\n",
       "      <th>75%</th>\n",
       "      <td>1782.25</td>\n",
       "    </tr>\n",
       "    <tr>\n",
       "      <th>max</th>\n",
       "      <td>4156.00</td>\n",
       "    </tr>\n",
       "  </tbody>\n",
       "</table>\n",
       "</div>"
      ],
      "text/plain": [
       "         Price\n",
       "count   418.00\n",
       "mean   1565.33\n",
       "std     741.13\n",
       "min     833.00\n",
       "25%     999.25\n",
       "50%    1312.50\n",
       "75%    1782.25\n",
       "max    4156.00"
      ]
     },
     "metadata": {},
     "output_type": "display_data"
    },
    {
     "data": {
      "application/vnd.plotly.v1+json": {
       "config": {
        "plotlyServerURL": "https://plot.ly"
       },
       "data": [
        {
         "alignmentgroup": "True",
         "bingroup": "x",
         "hovertemplate": "Price=%{x}<br>count=%{y}<extra></extra>",
         "legendgroup": "",
         "marker": {
          "color": "#636efa",
          "pattern": {
           "shape": ""
          }
         },
         "name": "",
         "nbinsx": 15,
         "offsetgroup": "",
         "orientation": "v",
         "showlegend": false,
         "texttemplate": "%{value}",
         "type": "histogram",
         "x": [
          557,
          557,
          475,
          499,
          484,
          769,
          549,
          538,
          545,
          495,
          650,
          689,
          605,
          699,
          765,
          599,
          645,
          450,
          498,
          498,
          479,
          460,
          649,
          466,
          466,
          506,
          499,
          690,
          549,
          535,
          550,
          799,
          539,
          453,
          780,
          566,
          660,
          770,
          489,
          765,
          499,
          680,
          450,
          469,
          789,
          528,
          450,
          535,
          729,
          645,
          699,
          450,
          699,
          581,
          669,
          524,
          648,
          678,
          499,
          599,
          589,
          570,
          680,
          453,
          580,
          735,
          479,
          469,
          495,
          579,
          519,
          549,
          463,
          555,
          555,
          499,
          450,
          709,
          557,
          540,
          500,
          599,
          648,
          540,
          453,
          623,
          514,
          667,
          623,
          580,
          699,
          489,
          484,
          599,
          590,
          655,
          557,
          499,
          499,
          450,
          690,
          589,
          776,
          549,
          499,
          750,
          718,
          499,
          689,
          729,
          549,
          471,
          488,
          469,
          499,
          645,
          699,
          730,
          579,
          670,
          599,
          580,
          550,
          740,
          599,
          699,
          780,
          638,
          675,
          599,
          558,
          490,
          590,
          489,
          650,
          595,
          549,
          465,
          544,
          475,
          475,
          595,
          670,
          599,
          609,
          699,
          499,
          570,
          776,
          809,
          699,
          769,
          499,
          450,
          760,
          819,
          543,
          490,
          450,
          450,
          536,
          500,
          679,
          455,
          597,
          720,
          495,
          703,
          498,
          483,
          725,
          452,
          532,
          721,
          589,
          505,
          465,
          469,
          601,
          699,
          557,
          555,
          599,
          680,
          680,
          543,
          499,
          512,
          776,
          607,
          680,
          462,
          557,
          499,
          499,
          499,
          739,
          639,
          756,
          599,
          453,
          717,
          600,
          539,
          555,
          549,
          729,
          545,
          499,
          799,
          645,
          499,
          645,
          780,
          749,
          735,
          598,
          499,
          529,
          699,
          780,
          668,
          499,
          829,
          550,
          607,
          770,
          535,
          681,
          633,
          535,
          557,
          519,
          776,
          749,
          549,
          746,
          450,
          779,
          749,
          599,
          450,
          649,
          681,
          457,
          519,
          749,
          649,
          746,
          779,
          599,
          605,
          528,
          599,
          599,
          499,
          497,
          776,
          537,
          699,
          769,
          659,
          453,
          453,
          499,
          497,
          497,
          724,
          554,
          825,
          530,
          610,
          677,
          629,
          749,
          620,
          501,
          495,
          550,
          548,
          825,
          450,
          705,
          580,
          620,
          550,
          685,
          579,
          600,
          450,
          750,
          599,
          490,
          499,
          501,
          562,
          601,
          720,
          566,
          710,
          793,
          562,
          506,
          523,
          489,
          600,
          720,
          501,
          562,
          470,
          486,
          457,
          599,
          595,
          499,
          499,
          695,
          580,
          765,
          484,
          688,
          775,
          599,
          590,
          488,
          661,
          661,
          530,
          504,
          554,
          700,
          575,
          538,
          519,
          500,
          479,
          544,
          544,
          499,
          499,
          795,
          591,
          755,
          761,
          507,
          562,
          567,
          618,
          789,
          773,
          797,
          646,
          563,
          803,
          589,
          566,
          590,
          539,
          559,
          550,
          809,
          801,
          527,
          535,
          555,
          575,
          595,
          611,
          534,
          538,
          602,
          614,
          630,
          831,
          503,
          626,
          531,
          547,
          551,
          607,
          594,
          791,
          785,
          515,
          519,
          523,
          543,
          583,
          570,
          606,
          642,
          767,
          813,
          511,
          603,
          546,
          638,
          821,
          807,
          571,
          599,
          615,
          542,
          574,
          582,
          598,
          779,
          586,
          622,
          634,
          827,
          579,
          587,
          558,
          578,
          815,
          819
         ],
         "xaxis": "x",
         "yaxis": "y"
        }
       ],
       "layout": {
        "barmode": "relative",
        "legend": {
         "tracegroupgap": 0
        },
        "template": {
         "data": {
          "bar": [
           {
            "error_x": {
             "color": "#2a3f5f"
            },
            "error_y": {
             "color": "#2a3f5f"
            },
            "marker": {
             "line": {
              "color": "#E5ECF6",
              "width": 0.5
             },
             "pattern": {
              "fillmode": "overlay",
              "size": 10,
              "solidity": 0.2
             }
            },
            "type": "bar"
           }
          ],
          "barpolar": [
           {
            "marker": {
             "line": {
              "color": "#E5ECF6",
              "width": 0.5
             },
             "pattern": {
              "fillmode": "overlay",
              "size": 10,
              "solidity": 0.2
             }
            },
            "type": "barpolar"
           }
          ],
          "carpet": [
           {
            "aaxis": {
             "endlinecolor": "#2a3f5f",
             "gridcolor": "white",
             "linecolor": "white",
             "minorgridcolor": "white",
             "startlinecolor": "#2a3f5f"
            },
            "baxis": {
             "endlinecolor": "#2a3f5f",
             "gridcolor": "white",
             "linecolor": "white",
             "minorgridcolor": "white",
             "startlinecolor": "#2a3f5f"
            },
            "type": "carpet"
           }
          ],
          "choropleth": [
           {
            "colorbar": {
             "outlinewidth": 0,
             "ticks": ""
            },
            "type": "choropleth"
           }
          ],
          "contour": [
           {
            "colorbar": {
             "outlinewidth": 0,
             "ticks": ""
            },
            "colorscale": [
             [
              0,
              "#0d0887"
             ],
             [
              0.1111111111111111,
              "#46039f"
             ],
             [
              0.2222222222222222,
              "#7201a8"
             ],
             [
              0.3333333333333333,
              "#9c179e"
             ],
             [
              0.4444444444444444,
              "#bd3786"
             ],
             [
              0.5555555555555556,
              "#d8576b"
             ],
             [
              0.6666666666666666,
              "#ed7953"
             ],
             [
              0.7777777777777778,
              "#fb9f3a"
             ],
             [
              0.8888888888888888,
              "#fdca26"
             ],
             [
              1,
              "#f0f921"
             ]
            ],
            "type": "contour"
           }
          ],
          "contourcarpet": [
           {
            "colorbar": {
             "outlinewidth": 0,
             "ticks": ""
            },
            "type": "contourcarpet"
           }
          ],
          "heatmap": [
           {
            "colorbar": {
             "outlinewidth": 0,
             "ticks": ""
            },
            "colorscale": [
             [
              0,
              "#0d0887"
             ],
             [
              0.1111111111111111,
              "#46039f"
             ],
             [
              0.2222222222222222,
              "#7201a8"
             ],
             [
              0.3333333333333333,
              "#9c179e"
             ],
             [
              0.4444444444444444,
              "#bd3786"
             ],
             [
              0.5555555555555556,
              "#d8576b"
             ],
             [
              0.6666666666666666,
              "#ed7953"
             ],
             [
              0.7777777777777778,
              "#fb9f3a"
             ],
             [
              0.8888888888888888,
              "#fdca26"
             ],
             [
              1,
              "#f0f921"
             ]
            ],
            "type": "heatmap"
           }
          ],
          "heatmapgl": [
           {
            "colorbar": {
             "outlinewidth": 0,
             "ticks": ""
            },
            "colorscale": [
             [
              0,
              "#0d0887"
             ],
             [
              0.1111111111111111,
              "#46039f"
             ],
             [
              0.2222222222222222,
              "#7201a8"
             ],
             [
              0.3333333333333333,
              "#9c179e"
             ],
             [
              0.4444444444444444,
              "#bd3786"
             ],
             [
              0.5555555555555556,
              "#d8576b"
             ],
             [
              0.6666666666666666,
              "#ed7953"
             ],
             [
              0.7777777777777778,
              "#fb9f3a"
             ],
             [
              0.8888888888888888,
              "#fdca26"
             ],
             [
              1,
              "#f0f921"
             ]
            ],
            "type": "heatmapgl"
           }
          ],
          "histogram": [
           {
            "marker": {
             "pattern": {
              "fillmode": "overlay",
              "size": 10,
              "solidity": 0.2
             }
            },
            "type": "histogram"
           }
          ],
          "histogram2d": [
           {
            "colorbar": {
             "outlinewidth": 0,
             "ticks": ""
            },
            "colorscale": [
             [
              0,
              "#0d0887"
             ],
             [
              0.1111111111111111,
              "#46039f"
             ],
             [
              0.2222222222222222,
              "#7201a8"
             ],
             [
              0.3333333333333333,
              "#9c179e"
             ],
             [
              0.4444444444444444,
              "#bd3786"
             ],
             [
              0.5555555555555556,
              "#d8576b"
             ],
             [
              0.6666666666666666,
              "#ed7953"
             ],
             [
              0.7777777777777778,
              "#fb9f3a"
             ],
             [
              0.8888888888888888,
              "#fdca26"
             ],
             [
              1,
              "#f0f921"
             ]
            ],
            "type": "histogram2d"
           }
          ],
          "histogram2dcontour": [
           {
            "colorbar": {
             "outlinewidth": 0,
             "ticks": ""
            },
            "colorscale": [
             [
              0,
              "#0d0887"
             ],
             [
              0.1111111111111111,
              "#46039f"
             ],
             [
              0.2222222222222222,
              "#7201a8"
             ],
             [
              0.3333333333333333,
              "#9c179e"
             ],
             [
              0.4444444444444444,
              "#bd3786"
             ],
             [
              0.5555555555555556,
              "#d8576b"
             ],
             [
              0.6666666666666666,
              "#ed7953"
             ],
             [
              0.7777777777777778,
              "#fb9f3a"
             ],
             [
              0.8888888888888888,
              "#fdca26"
             ],
             [
              1,
              "#f0f921"
             ]
            ],
            "type": "histogram2dcontour"
           }
          ],
          "mesh3d": [
           {
            "colorbar": {
             "outlinewidth": 0,
             "ticks": ""
            },
            "type": "mesh3d"
           }
          ],
          "parcoords": [
           {
            "line": {
             "colorbar": {
              "outlinewidth": 0,
              "ticks": ""
             }
            },
            "type": "parcoords"
           }
          ],
          "pie": [
           {
            "automargin": true,
            "type": "pie"
           }
          ],
          "scatter": [
           {
            "fillpattern": {
             "fillmode": "overlay",
             "size": 10,
             "solidity": 0.2
            },
            "type": "scatter"
           }
          ],
          "scatter3d": [
           {
            "line": {
             "colorbar": {
              "outlinewidth": 0,
              "ticks": ""
             }
            },
            "marker": {
             "colorbar": {
              "outlinewidth": 0,
              "ticks": ""
             }
            },
            "type": "scatter3d"
           }
          ],
          "scattercarpet": [
           {
            "marker": {
             "colorbar": {
              "outlinewidth": 0,
              "ticks": ""
             }
            },
            "type": "scattercarpet"
           }
          ],
          "scattergeo": [
           {
            "marker": {
             "colorbar": {
              "outlinewidth": 0,
              "ticks": ""
             }
            },
            "type": "scattergeo"
           }
          ],
          "scattergl": [
           {
            "marker": {
             "colorbar": {
              "outlinewidth": 0,
              "ticks": ""
             }
            },
            "type": "scattergl"
           }
          ],
          "scattermapbox": [
           {
            "marker": {
             "colorbar": {
              "outlinewidth": 0,
              "ticks": ""
             }
            },
            "type": "scattermapbox"
           }
          ],
          "scatterpolar": [
           {
            "marker": {
             "colorbar": {
              "outlinewidth": 0,
              "ticks": ""
             }
            },
            "type": "scatterpolar"
           }
          ],
          "scatterpolargl": [
           {
            "marker": {
             "colorbar": {
              "outlinewidth": 0,
              "ticks": ""
             }
            },
            "type": "scatterpolargl"
           }
          ],
          "scatterternary": [
           {
            "marker": {
             "colorbar": {
              "outlinewidth": 0,
              "ticks": ""
             }
            },
            "type": "scatterternary"
           }
          ],
          "surface": [
           {
            "colorbar": {
             "outlinewidth": 0,
             "ticks": ""
            },
            "colorscale": [
             [
              0,
              "#0d0887"
             ],
             [
              0.1111111111111111,
              "#46039f"
             ],
             [
              0.2222222222222222,
              "#7201a8"
             ],
             [
              0.3333333333333333,
              "#9c179e"
             ],
             [
              0.4444444444444444,
              "#bd3786"
             ],
             [
              0.5555555555555556,
              "#d8576b"
             ],
             [
              0.6666666666666666,
              "#ed7953"
             ],
             [
              0.7777777777777778,
              "#fb9f3a"
             ],
             [
              0.8888888888888888,
              "#fdca26"
             ],
             [
              1,
              "#f0f921"
             ]
            ],
            "type": "surface"
           }
          ],
          "table": [
           {
            "cells": {
             "fill": {
              "color": "#EBF0F8"
             },
             "line": {
              "color": "white"
             }
            },
            "header": {
             "fill": {
              "color": "#C8D4E3"
             },
             "line": {
              "color": "white"
             }
            },
            "type": "table"
           }
          ]
         },
         "layout": {
          "annotationdefaults": {
           "arrowcolor": "#2a3f5f",
           "arrowhead": 0,
           "arrowwidth": 1
          },
          "autotypenumbers": "strict",
          "coloraxis": {
           "colorbar": {
            "outlinewidth": 0,
            "ticks": ""
           }
          },
          "colorscale": {
           "diverging": [
            [
             0,
             "#8e0152"
            ],
            [
             0.1,
             "#c51b7d"
            ],
            [
             0.2,
             "#de77ae"
            ],
            [
             0.3,
             "#f1b6da"
            ],
            [
             0.4,
             "#fde0ef"
            ],
            [
             0.5,
             "#f7f7f7"
            ],
            [
             0.6,
             "#e6f5d0"
            ],
            [
             0.7,
             "#b8e186"
            ],
            [
             0.8,
             "#7fbc41"
            ],
            [
             0.9,
             "#4d9221"
            ],
            [
             1,
             "#276419"
            ]
           ],
           "sequential": [
            [
             0,
             "#0d0887"
            ],
            [
             0.1111111111111111,
             "#46039f"
            ],
            [
             0.2222222222222222,
             "#7201a8"
            ],
            [
             0.3333333333333333,
             "#9c179e"
            ],
            [
             0.4444444444444444,
             "#bd3786"
            ],
            [
             0.5555555555555556,
             "#d8576b"
            ],
            [
             0.6666666666666666,
             "#ed7953"
            ],
            [
             0.7777777777777778,
             "#fb9f3a"
            ],
            [
             0.8888888888888888,
             "#fdca26"
            ],
            [
             1,
             "#f0f921"
            ]
           ],
           "sequentialminus": [
            [
             0,
             "#0d0887"
            ],
            [
             0.1111111111111111,
             "#46039f"
            ],
            [
             0.2222222222222222,
             "#7201a8"
            ],
            [
             0.3333333333333333,
             "#9c179e"
            ],
            [
             0.4444444444444444,
             "#bd3786"
            ],
            [
             0.5555555555555556,
             "#d8576b"
            ],
            [
             0.6666666666666666,
             "#ed7953"
            ],
            [
             0.7777777777777778,
             "#fb9f3a"
            ],
            [
             0.8888888888888888,
             "#fdca26"
            ],
            [
             1,
             "#f0f921"
            ]
           ]
          },
          "colorway": [
           "#636efa",
           "#EF553B",
           "#00cc96",
           "#ab63fa",
           "#FFA15A",
           "#19d3f3",
           "#FF6692",
           "#B6E880",
           "#FF97FF",
           "#FECB52"
          ],
          "font": {
           "color": "#2a3f5f"
          },
          "geo": {
           "bgcolor": "white",
           "lakecolor": "white",
           "landcolor": "#E5ECF6",
           "showlakes": true,
           "showland": true,
           "subunitcolor": "white"
          },
          "hoverlabel": {
           "align": "left"
          },
          "hovermode": "closest",
          "mapbox": {
           "style": "light"
          },
          "paper_bgcolor": "white",
          "plot_bgcolor": "#E5ECF6",
          "polar": {
           "angularaxis": {
            "gridcolor": "white",
            "linecolor": "white",
            "ticks": ""
           },
           "bgcolor": "#E5ECF6",
           "radialaxis": {
            "gridcolor": "white",
            "linecolor": "white",
            "ticks": ""
           }
          },
          "scene": {
           "xaxis": {
            "backgroundcolor": "#E5ECF6",
            "gridcolor": "white",
            "gridwidth": 2,
            "linecolor": "white",
            "showbackground": true,
            "ticks": "",
            "zerolinecolor": "white"
           },
           "yaxis": {
            "backgroundcolor": "#E5ECF6",
            "gridcolor": "white",
            "gridwidth": 2,
            "linecolor": "white",
            "showbackground": true,
            "ticks": "",
            "zerolinecolor": "white"
           },
           "zaxis": {
            "backgroundcolor": "#E5ECF6",
            "gridcolor": "white",
            "gridwidth": 2,
            "linecolor": "white",
            "showbackground": true,
            "ticks": "",
            "zerolinecolor": "white"
           }
          },
          "shapedefaults": {
           "line": {
            "color": "#2a3f5f"
           }
          },
          "ternary": {
           "aaxis": {
            "gridcolor": "white",
            "linecolor": "white",
            "ticks": ""
           },
           "baxis": {
            "gridcolor": "white",
            "linecolor": "white",
            "ticks": ""
           },
           "bgcolor": "#E5ECF6",
           "caxis": {
            "gridcolor": "white",
            "linecolor": "white",
            "ticks": ""
           }
          },
          "title": {
           "x": 0.05
          },
          "xaxis": {
           "automargin": true,
           "gridcolor": "white",
           "linecolor": "white",
           "ticks": "",
           "title": {
            "standoff": 15
           },
           "zerolinecolor": "white",
           "zerolinewidth": 2
          },
          "yaxis": {
           "automargin": true,
           "gridcolor": "white",
           "linecolor": "white",
           "ticks": "",
           "title": {
            "standoff": 15
           },
           "zerolinecolor": "white",
           "zerolinewidth": 2
          }
         }
        },
        "title": {
         "text": "Price distribution - Premium Products"
        },
        "xaxis": {
         "anchor": "y",
         "domain": [
          0,
          1
         ],
         "title": {
          "text": "Price"
         }
        },
        "yaxis": {
         "anchor": "x",
         "domain": [
          0,
          1
         ],
         "title": {
          "text": "count"
         }
        }
       }
      }
     },
     "metadata": {},
     "output_type": "display_data"
    },
    {
     "data": {
      "text/html": [
       "<div>\n",
       "<style scoped>\n",
       "    .dataframe tbody tr th:only-of-type {\n",
       "        vertical-align: middle;\n",
       "    }\n",
       "\n",
       "    .dataframe tbody tr th {\n",
       "        vertical-align: top;\n",
       "    }\n",
       "\n",
       "    .dataframe thead th {\n",
       "        text-align: right;\n",
       "    }\n",
       "</style>\n",
       "<table border=\"1\" class=\"dataframe\">\n",
       "  <thead>\n",
       "    <tr style=\"text-align: right;\">\n",
       "      <th></th>\n",
       "      <th>Price</th>\n",
       "    </tr>\n",
       "  </thead>\n",
       "  <tbody>\n",
       "    <tr>\n",
       "      <th>count</th>\n",
       "      <td>417.00</td>\n",
       "    </tr>\n",
       "    <tr>\n",
       "      <th>mean</th>\n",
       "      <td>599.59</td>\n",
       "    </tr>\n",
       "    <tr>\n",
       "      <th>std</th>\n",
       "      <td>103.83</td>\n",
       "    </tr>\n",
       "    <tr>\n",
       "      <th>min</th>\n",
       "      <td>450.00</td>\n",
       "    </tr>\n",
       "    <tr>\n",
       "      <th>25%</th>\n",
       "      <td>507.00</td>\n",
       "    </tr>\n",
       "    <tr>\n",
       "      <th>50%</th>\n",
       "      <td>580.00</td>\n",
       "    </tr>\n",
       "    <tr>\n",
       "      <th>75%</th>\n",
       "      <td>680.00</td>\n",
       "    </tr>\n",
       "    <tr>\n",
       "      <th>max</th>\n",
       "      <td>831.00</td>\n",
       "    </tr>\n",
       "  </tbody>\n",
       "</table>\n",
       "</div>"
      ],
      "text/plain": [
       "        Price\n",
       "count  417.00\n",
       "mean   599.59\n",
       "std    103.83\n",
       "min    450.00\n",
       "25%    507.00\n",
       "50%    580.00\n",
       "75%    680.00\n",
       "max    831.00"
      ]
     },
     "metadata": {},
     "output_type": "display_data"
    },
    {
     "data": {
      "application/vnd.plotly.v1+json": {
       "config": {
        "plotlyServerURL": "https://plot.ly"
       },
       "data": [
        {
         "alignmentgroup": "True",
         "bingroup": "x",
         "hovertemplate": "Price=%{x}<br>count=%{y}<extra></extra>",
         "legendgroup": "",
         "marker": {
          "color": "#636efa",
          "pattern": {
           "shape": ""
          }
         },
         "name": "",
         "nbinsx": 15,
         "offsetgroup": "",
         "orientation": "v",
         "showlegend": false,
         "texttemplate": "%{value}",
         "type": "histogram",
         "x": [
          358,
          330,
          299,
          299,
          298,
          298,
          425,
          299,
          366,
          428,
          395,
          284,
          330,
          407,
          298,
          299,
          299,
          380,
          270,
          399,
          445,
          299,
          399,
          410,
          358,
          429,
          285,
          291,
          433,
          299,
          433,
          350,
          399,
          380,
          299,
          449,
          299,
          299,
          359,
          326,
          270,
          298,
          437,
          389,
          399,
          298,
          419,
          290,
          433,
          359,
          299,
          316,
          349,
          419,
          359,
          259,
          379,
          410,
          369,
          299,
          429,
          449,
          399,
          299,
          298,
          399,
          369,
          440,
          299,
          449,
          399,
          399,
          340,
          299,
          299,
          299,
          438,
          445,
          433,
          298,
          299,
          304,
          299,
          280,
          259,
          299,
          399,
          299,
          261,
          437,
          335,
          261,
          279,
          399,
          433,
          299,
          319,
          354,
          449,
          399,
          297,
          349,
          395,
          270,
          290,
          320,
          399,
          433,
          279,
          313,
          354,
          438,
          433,
          297,
          428,
          299,
          399,
          298,
          399,
          285,
          338,
          389,
          417,
          299,
          350,
          259,
          310,
          249,
          314,
          433,
          270,
          249,
          345,
          249,
          298,
          297,
          381,
          398,
          355,
          410,
          259,
          298,
          350,
          260,
          277,
          257,
          274,
          405,
          249,
          399,
          410,
          417,
          299,
          259,
          299,
          329,
          298,
          380,
          449,
          419,
          399,
          280,
          399,
          320,
          393,
          350,
          430,
          299,
          359,
          411,
          415,
          399,
          249,
          289,
          250,
          411,
          280,
          299,
          298,
          298,
          319,
          298,
          299,
          259,
          446,
          399,
          338,
          249,
          297,
          399,
          297,
          326,
          399,
          400,
          369,
          250,
          270,
          369,
          389,
          299,
          299,
          399,
          449,
          298,
          285,
          354,
          299,
          299,
          289,
          395,
          249,
          349,
          399,
          399,
          299,
          445,
          386,
          298,
          298,
          376,
          280,
          280,
          249,
          249,
          329,
          298,
          349,
          319,
          419,
          304,
          329,
          299,
          299,
          249,
          365,
          369,
          389,
          299,
          317,
          297,
          250,
          312,
          330,
          339,
          399,
          379,
          419,
          290,
          410,
          399,
          289,
          429,
          298,
          270,
          395,
          399,
          449,
          251,
          249,
          449,
          449,
          359,
          298,
          298,
          249,
          299,
          419,
          320,
          250,
          370,
          369,
          298,
          415,
          389,
          298,
          349,
          350,
          300,
          298,
          270,
          411,
          268,
          439,
          389,
          249,
          422,
          299,
          369,
          423,
          380,
          411,
          379,
          260,
          440,
          305,
          269,
          350,
          290,
          390,
          370,
          299,
          258,
          330,
          282,
          280,
          309,
          269,
          250,
          324,
          317,
          380,
          311,
          422,
          284,
          407,
          299,
          295,
          286,
          335,
          269,
          279,
          290,
          290,
          277,
          350,
          330,
          370,
          407,
          352,
          419,
          419,
          390,
          399,
          369,
          290,
          290,
          290,
          352,
          308,
          420,
          299,
          350,
          250,
          350,
          400,
          250,
          350,
          400,
          280,
          362,
          300,
          259,
          280,
          249,
          299,
          285,
          342,
          398,
          377,
          307,
          449,
          400,
          299,
          319,
          433,
          304,
          299,
          304,
          415,
          399,
          399,
          297,
          329,
          289,
          308,
          299,
          324,
          305,
          260,
          299,
          285,
          271,
          249,
          251,
          283,
          254,
          256,
          268,
          279,
          270,
          253,
          313,
          315,
          252,
          301,
          255,
          267,
          262,
          257,
          263,
          261,
          281,
          299,
          259,
          311,
          264,
          273,
          258,
          265,
          248,
          250,
          277,
          275,
          266,
          303,
          250,
          378,
          255,
          255
         ],
         "xaxis": "x",
         "yaxis": "y"
        }
       ],
       "layout": {
        "barmode": "relative",
        "legend": {
         "tracegroupgap": 0
        },
        "template": {
         "data": {
          "bar": [
           {
            "error_x": {
             "color": "#2a3f5f"
            },
            "error_y": {
             "color": "#2a3f5f"
            },
            "marker": {
             "line": {
              "color": "#E5ECF6",
              "width": 0.5
             },
             "pattern": {
              "fillmode": "overlay",
              "size": 10,
              "solidity": 0.2
             }
            },
            "type": "bar"
           }
          ],
          "barpolar": [
           {
            "marker": {
             "line": {
              "color": "#E5ECF6",
              "width": 0.5
             },
             "pattern": {
              "fillmode": "overlay",
              "size": 10,
              "solidity": 0.2
             }
            },
            "type": "barpolar"
           }
          ],
          "carpet": [
           {
            "aaxis": {
             "endlinecolor": "#2a3f5f",
             "gridcolor": "white",
             "linecolor": "white",
             "minorgridcolor": "white",
             "startlinecolor": "#2a3f5f"
            },
            "baxis": {
             "endlinecolor": "#2a3f5f",
             "gridcolor": "white",
             "linecolor": "white",
             "minorgridcolor": "white",
             "startlinecolor": "#2a3f5f"
            },
            "type": "carpet"
           }
          ],
          "choropleth": [
           {
            "colorbar": {
             "outlinewidth": 0,
             "ticks": ""
            },
            "type": "choropleth"
           }
          ],
          "contour": [
           {
            "colorbar": {
             "outlinewidth": 0,
             "ticks": ""
            },
            "colorscale": [
             [
              0,
              "#0d0887"
             ],
             [
              0.1111111111111111,
              "#46039f"
             ],
             [
              0.2222222222222222,
              "#7201a8"
             ],
             [
              0.3333333333333333,
              "#9c179e"
             ],
             [
              0.4444444444444444,
              "#bd3786"
             ],
             [
              0.5555555555555556,
              "#d8576b"
             ],
             [
              0.6666666666666666,
              "#ed7953"
             ],
             [
              0.7777777777777778,
              "#fb9f3a"
             ],
             [
              0.8888888888888888,
              "#fdca26"
             ],
             [
              1,
              "#f0f921"
             ]
            ],
            "type": "contour"
           }
          ],
          "contourcarpet": [
           {
            "colorbar": {
             "outlinewidth": 0,
             "ticks": ""
            },
            "type": "contourcarpet"
           }
          ],
          "heatmap": [
           {
            "colorbar": {
             "outlinewidth": 0,
             "ticks": ""
            },
            "colorscale": [
             [
              0,
              "#0d0887"
             ],
             [
              0.1111111111111111,
              "#46039f"
             ],
             [
              0.2222222222222222,
              "#7201a8"
             ],
             [
              0.3333333333333333,
              "#9c179e"
             ],
             [
              0.4444444444444444,
              "#bd3786"
             ],
             [
              0.5555555555555556,
              "#d8576b"
             ],
             [
              0.6666666666666666,
              "#ed7953"
             ],
             [
              0.7777777777777778,
              "#fb9f3a"
             ],
             [
              0.8888888888888888,
              "#fdca26"
             ],
             [
              1,
              "#f0f921"
             ]
            ],
            "type": "heatmap"
           }
          ],
          "heatmapgl": [
           {
            "colorbar": {
             "outlinewidth": 0,
             "ticks": ""
            },
            "colorscale": [
             [
              0,
              "#0d0887"
             ],
             [
              0.1111111111111111,
              "#46039f"
             ],
             [
              0.2222222222222222,
              "#7201a8"
             ],
             [
              0.3333333333333333,
              "#9c179e"
             ],
             [
              0.4444444444444444,
              "#bd3786"
             ],
             [
              0.5555555555555556,
              "#d8576b"
             ],
             [
              0.6666666666666666,
              "#ed7953"
             ],
             [
              0.7777777777777778,
              "#fb9f3a"
             ],
             [
              0.8888888888888888,
              "#fdca26"
             ],
             [
              1,
              "#f0f921"
             ]
            ],
            "type": "heatmapgl"
           }
          ],
          "histogram": [
           {
            "marker": {
             "pattern": {
              "fillmode": "overlay",
              "size": 10,
              "solidity": 0.2
             }
            },
            "type": "histogram"
           }
          ],
          "histogram2d": [
           {
            "colorbar": {
             "outlinewidth": 0,
             "ticks": ""
            },
            "colorscale": [
             [
              0,
              "#0d0887"
             ],
             [
              0.1111111111111111,
              "#46039f"
             ],
             [
              0.2222222222222222,
              "#7201a8"
             ],
             [
              0.3333333333333333,
              "#9c179e"
             ],
             [
              0.4444444444444444,
              "#bd3786"
             ],
             [
              0.5555555555555556,
              "#d8576b"
             ],
             [
              0.6666666666666666,
              "#ed7953"
             ],
             [
              0.7777777777777778,
              "#fb9f3a"
             ],
             [
              0.8888888888888888,
              "#fdca26"
             ],
             [
              1,
              "#f0f921"
             ]
            ],
            "type": "histogram2d"
           }
          ],
          "histogram2dcontour": [
           {
            "colorbar": {
             "outlinewidth": 0,
             "ticks": ""
            },
            "colorscale": [
             [
              0,
              "#0d0887"
             ],
             [
              0.1111111111111111,
              "#46039f"
             ],
             [
              0.2222222222222222,
              "#7201a8"
             ],
             [
              0.3333333333333333,
              "#9c179e"
             ],
             [
              0.4444444444444444,
              "#bd3786"
             ],
             [
              0.5555555555555556,
              "#d8576b"
             ],
             [
              0.6666666666666666,
              "#ed7953"
             ],
             [
              0.7777777777777778,
              "#fb9f3a"
             ],
             [
              0.8888888888888888,
              "#fdca26"
             ],
             [
              1,
              "#f0f921"
             ]
            ],
            "type": "histogram2dcontour"
           }
          ],
          "mesh3d": [
           {
            "colorbar": {
             "outlinewidth": 0,
             "ticks": ""
            },
            "type": "mesh3d"
           }
          ],
          "parcoords": [
           {
            "line": {
             "colorbar": {
              "outlinewidth": 0,
              "ticks": ""
             }
            },
            "type": "parcoords"
           }
          ],
          "pie": [
           {
            "automargin": true,
            "type": "pie"
           }
          ],
          "scatter": [
           {
            "fillpattern": {
             "fillmode": "overlay",
             "size": 10,
             "solidity": 0.2
            },
            "type": "scatter"
           }
          ],
          "scatter3d": [
           {
            "line": {
             "colorbar": {
              "outlinewidth": 0,
              "ticks": ""
             }
            },
            "marker": {
             "colorbar": {
              "outlinewidth": 0,
              "ticks": ""
             }
            },
            "type": "scatter3d"
           }
          ],
          "scattercarpet": [
           {
            "marker": {
             "colorbar": {
              "outlinewidth": 0,
              "ticks": ""
             }
            },
            "type": "scattercarpet"
           }
          ],
          "scattergeo": [
           {
            "marker": {
             "colorbar": {
              "outlinewidth": 0,
              "ticks": ""
             }
            },
            "type": "scattergeo"
           }
          ],
          "scattergl": [
           {
            "marker": {
             "colorbar": {
              "outlinewidth": 0,
              "ticks": ""
             }
            },
            "type": "scattergl"
           }
          ],
          "scattermapbox": [
           {
            "marker": {
             "colorbar": {
              "outlinewidth": 0,
              "ticks": ""
             }
            },
            "type": "scattermapbox"
           }
          ],
          "scatterpolar": [
           {
            "marker": {
             "colorbar": {
              "outlinewidth": 0,
              "ticks": ""
             }
            },
            "type": "scatterpolar"
           }
          ],
          "scatterpolargl": [
           {
            "marker": {
             "colorbar": {
              "outlinewidth": 0,
              "ticks": ""
             }
            },
            "type": "scatterpolargl"
           }
          ],
          "scatterternary": [
           {
            "marker": {
             "colorbar": {
              "outlinewidth": 0,
              "ticks": ""
             }
            },
            "type": "scatterternary"
           }
          ],
          "surface": [
           {
            "colorbar": {
             "outlinewidth": 0,
             "ticks": ""
            },
            "colorscale": [
             [
              0,
              "#0d0887"
             ],
             [
              0.1111111111111111,
              "#46039f"
             ],
             [
              0.2222222222222222,
              "#7201a8"
             ],
             [
              0.3333333333333333,
              "#9c179e"
             ],
             [
              0.4444444444444444,
              "#bd3786"
             ],
             [
              0.5555555555555556,
              "#d8576b"
             ],
             [
              0.6666666666666666,
              "#ed7953"
             ],
             [
              0.7777777777777778,
              "#fb9f3a"
             ],
             [
              0.8888888888888888,
              "#fdca26"
             ],
             [
              1,
              "#f0f921"
             ]
            ],
            "type": "surface"
           }
          ],
          "table": [
           {
            "cells": {
             "fill": {
              "color": "#EBF0F8"
             },
             "line": {
              "color": "white"
             }
            },
            "header": {
             "fill": {
              "color": "#C8D4E3"
             },
             "line": {
              "color": "white"
             }
            },
            "type": "table"
           }
          ]
         },
         "layout": {
          "annotationdefaults": {
           "arrowcolor": "#2a3f5f",
           "arrowhead": 0,
           "arrowwidth": 1
          },
          "autotypenumbers": "strict",
          "coloraxis": {
           "colorbar": {
            "outlinewidth": 0,
            "ticks": ""
           }
          },
          "colorscale": {
           "diverging": [
            [
             0,
             "#8e0152"
            ],
            [
             0.1,
             "#c51b7d"
            ],
            [
             0.2,
             "#de77ae"
            ],
            [
             0.3,
             "#f1b6da"
            ],
            [
             0.4,
             "#fde0ef"
            ],
            [
             0.5,
             "#f7f7f7"
            ],
            [
             0.6,
             "#e6f5d0"
            ],
            [
             0.7,
             "#b8e186"
            ],
            [
             0.8,
             "#7fbc41"
            ],
            [
             0.9,
             "#4d9221"
            ],
            [
             1,
             "#276419"
            ]
           ],
           "sequential": [
            [
             0,
             "#0d0887"
            ],
            [
             0.1111111111111111,
             "#46039f"
            ],
            [
             0.2222222222222222,
             "#7201a8"
            ],
            [
             0.3333333333333333,
             "#9c179e"
            ],
            [
             0.4444444444444444,
             "#bd3786"
            ],
            [
             0.5555555555555556,
             "#d8576b"
            ],
            [
             0.6666666666666666,
             "#ed7953"
            ],
            [
             0.7777777777777778,
             "#fb9f3a"
            ],
            [
             0.8888888888888888,
             "#fdca26"
            ],
            [
             1,
             "#f0f921"
            ]
           ],
           "sequentialminus": [
            [
             0,
             "#0d0887"
            ],
            [
             0.1111111111111111,
             "#46039f"
            ],
            [
             0.2222222222222222,
             "#7201a8"
            ],
            [
             0.3333333333333333,
             "#9c179e"
            ],
            [
             0.4444444444444444,
             "#bd3786"
            ],
            [
             0.5555555555555556,
             "#d8576b"
            ],
            [
             0.6666666666666666,
             "#ed7953"
            ],
            [
             0.7777777777777778,
             "#fb9f3a"
            ],
            [
             0.8888888888888888,
             "#fdca26"
            ],
            [
             1,
             "#f0f921"
            ]
           ]
          },
          "colorway": [
           "#636efa",
           "#EF553B",
           "#00cc96",
           "#ab63fa",
           "#FFA15A",
           "#19d3f3",
           "#FF6692",
           "#B6E880",
           "#FF97FF",
           "#FECB52"
          ],
          "font": {
           "color": "#2a3f5f"
          },
          "geo": {
           "bgcolor": "white",
           "lakecolor": "white",
           "landcolor": "#E5ECF6",
           "showlakes": true,
           "showland": true,
           "subunitcolor": "white"
          },
          "hoverlabel": {
           "align": "left"
          },
          "hovermode": "closest",
          "mapbox": {
           "style": "light"
          },
          "paper_bgcolor": "white",
          "plot_bgcolor": "#E5ECF6",
          "polar": {
           "angularaxis": {
            "gridcolor": "white",
            "linecolor": "white",
            "ticks": ""
           },
           "bgcolor": "#E5ECF6",
           "radialaxis": {
            "gridcolor": "white",
            "linecolor": "white",
            "ticks": ""
           }
          },
          "scene": {
           "xaxis": {
            "backgroundcolor": "#E5ECF6",
            "gridcolor": "white",
            "gridwidth": 2,
            "linecolor": "white",
            "showbackground": true,
            "ticks": "",
            "zerolinecolor": "white"
           },
           "yaxis": {
            "backgroundcolor": "#E5ECF6",
            "gridcolor": "white",
            "gridwidth": 2,
            "linecolor": "white",
            "showbackground": true,
            "ticks": "",
            "zerolinecolor": "white"
           },
           "zaxis": {
            "backgroundcolor": "#E5ECF6",
            "gridcolor": "white",
            "gridwidth": 2,
            "linecolor": "white",
            "showbackground": true,
            "ticks": "",
            "zerolinecolor": "white"
           }
          },
          "shapedefaults": {
           "line": {
            "color": "#2a3f5f"
           }
          },
          "ternary": {
           "aaxis": {
            "gridcolor": "white",
            "linecolor": "white",
            "ticks": ""
           },
           "baxis": {
            "gridcolor": "white",
            "linecolor": "white",
            "ticks": ""
           },
           "bgcolor": "#E5ECF6",
           "caxis": {
            "gridcolor": "white",
            "linecolor": "white",
            "ticks": ""
           }
          },
          "title": {
           "x": 0.05
          },
          "xaxis": {
           "automargin": true,
           "gridcolor": "white",
           "linecolor": "white",
           "ticks": "",
           "title": {
            "standoff": 15
           },
           "zerolinecolor": "white",
           "zerolinewidth": 2
          },
          "yaxis": {
           "automargin": true,
           "gridcolor": "white",
           "linecolor": "white",
           "ticks": "",
           "title": {
            "standoff": 15
           },
           "zerolinecolor": "white",
           "zerolinewidth": 2
          }
         }
        },
        "title": {
         "text": "Price distribution - Mid Products"
        },
        "xaxis": {
         "anchor": "y",
         "domain": [
          0,
          1
         ],
         "title": {
          "text": "Price"
         }
        },
        "yaxis": {
         "anchor": "x",
         "domain": [
          0,
          1
         ],
         "title": {
          "text": "count"
         }
        }
       }
      }
     },
     "metadata": {},
     "output_type": "display_data"
    },
    {
     "data": {
      "text/html": [
       "<div>\n",
       "<style scoped>\n",
       "    .dataframe tbody tr th:only-of-type {\n",
       "        vertical-align: middle;\n",
       "    }\n",
       "\n",
       "    .dataframe tbody tr th {\n",
       "        vertical-align: top;\n",
       "    }\n",
       "\n",
       "    .dataframe thead th {\n",
       "        text-align: right;\n",
       "    }\n",
       "</style>\n",
       "<table border=\"1\" class=\"dataframe\">\n",
       "  <thead>\n",
       "    <tr style=\"text-align: right;\">\n",
       "      <th></th>\n",
       "      <th>Price</th>\n",
       "    </tr>\n",
       "  </thead>\n",
       "  <tbody>\n",
       "    <tr>\n",
       "      <th>count</th>\n",
       "      <td>419.00</td>\n",
       "    </tr>\n",
       "    <tr>\n",
       "      <th>mean</th>\n",
       "      <td>333.24</td>\n",
       "    </tr>\n",
       "    <tr>\n",
       "      <th>std</th>\n",
       "      <td>60.09</td>\n",
       "    </tr>\n",
       "    <tr>\n",
       "      <th>min</th>\n",
       "      <td>248.00</td>\n",
       "    </tr>\n",
       "    <tr>\n",
       "      <th>25%</th>\n",
       "      <td>289.50</td>\n",
       "    </tr>\n",
       "    <tr>\n",
       "      <th>50%</th>\n",
       "      <td>310.00</td>\n",
       "    </tr>\n",
       "    <tr>\n",
       "      <th>75%</th>\n",
       "      <td>395.00</td>\n",
       "    </tr>\n",
       "    <tr>\n",
       "      <th>max</th>\n",
       "      <td>449.00</td>\n",
       "    </tr>\n",
       "  </tbody>\n",
       "</table>\n",
       "</div>"
      ],
      "text/plain": [
       "        Price\n",
       "count  419.00\n",
       "mean   333.24\n",
       "std     60.09\n",
       "min    248.00\n",
       "25%    289.50\n",
       "50%    310.00\n",
       "75%    395.00\n",
       "max    449.00"
      ]
     },
     "metadata": {},
     "output_type": "display_data"
    }
   ],
   "source": [
    "display(px.histogram(df, x='Price', title=f'Price distribution'))\n",
    "display(px.histogram(df_75, x='Price', title=f'Price distribution - Prime Products', nbins=10, text_auto=True))\n",
    "display(df_75.describe().round(2))\n",
    "display(px.histogram(df_50_75, x='Price', title=f'Price distribution - Premium Products', nbins=15, text_auto=True))\n",
    "display(df_50_75.describe().round(2))\n",
    "display(px.histogram(df_25_50, x='Price', title=f'Price distribution - Mid Products', nbins=15, text_auto=True))\n",
    "display(df_25_50.describe().round(2))"
   ]
  },
  {
   "cell_type": "code",
   "execution_count": 316,
   "metadata": {},
   "outputs": [
    {
     "data": {
      "text/html": [
       "<div>\n",
       "<style scoped>\n",
       "    .dataframe tbody tr th:only-of-type {\n",
       "        vertical-align: middle;\n",
       "    }\n",
       "\n",
       "    .dataframe tbody tr th {\n",
       "        vertical-align: top;\n",
       "    }\n",
       "\n",
       "    .dataframe thead th {\n",
       "        text-align: right;\n",
       "    }\n",
       "</style>\n",
       "<table border=\"1\" class=\"dataframe\">\n",
       "  <thead>\n",
       "    <tr style=\"text-align: right;\">\n",
       "      <th></th>\n",
       "      <th>Brand</th>\n",
       "      <th>Results</th>\n",
       "    </tr>\n",
       "  </thead>\n",
       "  <tbody>\n",
       "    <tr>\n",
       "      <th>0</th>\n",
       "      <td>CELESTY</td>\n",
       "      <td>131</td>\n",
       "    </tr>\n",
       "    <tr>\n",
       "      <th>1</th>\n",
       "      <td>-</td>\n",
       "      <td>111</td>\n",
       "    </tr>\n",
       "    <tr>\n",
       "      <th>2</th>\n",
       "      <td>FRANCIS</td>\n",
       "      <td>98</td>\n",
       "    </tr>\n",
       "    <tr>\n",
       "      <th>3</th>\n",
       "      <td>PRODUCTOS MART MEXICO</td>\n",
       "      <td>7</td>\n",
       "    </tr>\n",
       "    <tr>\n",
       "      <th>4</th>\n",
       "      <td>NEUTROGENA</td>\n",
       "      <td>6</td>\n",
       "    </tr>\n",
       "    <tr>\n",
       "      <th>5</th>\n",
       "      <td>PALMOLIVE</td>\n",
       "      <td>6</td>\n",
       "    </tr>\n",
       "    <tr>\n",
       "      <th>6</th>\n",
       "      <td>NIZORAL</td>\n",
       "      <td>5</td>\n",
       "    </tr>\n",
       "    <tr>\n",
       "      <th>7</th>\n",
       "      <td>JUSSE</td>\n",
       "      <td>5</td>\n",
       "    </tr>\n",
       "    <tr>\n",
       "      <th>8</th>\n",
       "      <td>HEAD &amp; SHOULDERS</td>\n",
       "      <td>5</td>\n",
       "    </tr>\n",
       "    <tr>\n",
       "      <th>9</th>\n",
       "      <td>TRUSS</td>\n",
       "      <td>4</td>\n",
       "    </tr>\n",
       "  </tbody>\n",
       "</table>\n",
       "</div>"
      ],
      "text/plain": [
       "                   Brand  Results\n",
       "0                CELESTY      131\n",
       "1                      -      111\n",
       "2                FRANCIS       98\n",
       "3  PRODUCTOS MART MEXICO        7\n",
       "4             NEUTROGENA        6\n",
       "5              PALMOLIVE        6\n",
       "6                NIZORAL        5\n",
       "7                  JUSSE        5\n",
       "8       HEAD & SHOULDERS        5\n",
       "9                  TRUSS        4"
      ]
     },
     "metadata": {},
     "output_type": "display_data"
    },
    {
     "data": {
      "text/html": [
       "<div>\n",
       "<style scoped>\n",
       "    .dataframe tbody tr th:only-of-type {\n",
       "        vertical-align: middle;\n",
       "    }\n",
       "\n",
       "    .dataframe tbody tr th {\n",
       "        vertical-align: top;\n",
       "    }\n",
       "\n",
       "    .dataframe thead th {\n",
       "        text-align: right;\n",
       "    }\n",
       "</style>\n",
       "<table border=\"1\" class=\"dataframe\">\n",
       "  <thead>\n",
       "    <tr style=\"text-align: right;\">\n",
       "      <th></th>\n",
       "      <th>Brand</th>\n",
       "      <th>Results</th>\n",
       "    </tr>\n",
       "  </thead>\n",
       "  <tbody>\n",
       "    <tr>\n",
       "      <th>0</th>\n",
       "      <td>-</td>\n",
       "      <td>122</td>\n",
       "    </tr>\n",
       "    <tr>\n",
       "      <th>1</th>\n",
       "      <td>FRANCIS</td>\n",
       "      <td>82</td>\n",
       "    </tr>\n",
       "    <tr>\n",
       "      <th>2</th>\n",
       "      <td>CELESTY</td>\n",
       "      <td>25</td>\n",
       "    </tr>\n",
       "    <tr>\n",
       "      <th>3</th>\n",
       "      <td>DUCRAY</td>\n",
       "      <td>16</td>\n",
       "    </tr>\n",
       "    <tr>\n",
       "      <th>4</th>\n",
       "      <td>LA ROCHE-POSAY</td>\n",
       "      <td>13</td>\n",
       "    </tr>\n",
       "    <tr>\n",
       "      <th>5</th>\n",
       "      <td>MEDIHEALTH</td>\n",
       "      <td>10</td>\n",
       "    </tr>\n",
       "    <tr>\n",
       "      <th>6</th>\n",
       "      <td>NEUTROGENA</td>\n",
       "      <td>8</td>\n",
       "    </tr>\n",
       "    <tr>\n",
       "      <th>7</th>\n",
       "      <td>NBC</td>\n",
       "      <td>8</td>\n",
       "    </tr>\n",
       "    <tr>\n",
       "      <th>8</th>\n",
       "      <td>VICHY</td>\n",
       "      <td>7</td>\n",
       "    </tr>\n",
       "    <tr>\n",
       "      <th>9</th>\n",
       "      <td>NIZORAL</td>\n",
       "      <td>7</td>\n",
       "    </tr>\n",
       "  </tbody>\n",
       "</table>\n",
       "</div>"
      ],
      "text/plain": [
       "            Brand  Results\n",
       "0               -      122\n",
       "1         FRANCIS       82\n",
       "2         CELESTY       25\n",
       "3          DUCRAY       16\n",
       "4  LA ROCHE-POSAY       13\n",
       "5      MEDIHEALTH       10\n",
       "6      NEUTROGENA        8\n",
       "7             NBC        8\n",
       "8           VICHY        7\n",
       "9         NIZORAL        7"
      ]
     },
     "metadata": {},
     "output_type": "display_data"
    },
    {
     "data": {
      "text/html": [
       "<div>\n",
       "<style scoped>\n",
       "    .dataframe tbody tr th:only-of-type {\n",
       "        vertical-align: middle;\n",
       "    }\n",
       "\n",
       "    .dataframe tbody tr th {\n",
       "        vertical-align: top;\n",
       "    }\n",
       "\n",
       "    .dataframe thead th {\n",
       "        text-align: right;\n",
       "    }\n",
       "</style>\n",
       "<table border=\"1\" class=\"dataframe\">\n",
       "  <thead>\n",
       "    <tr style=\"text-align: right;\">\n",
       "      <th></th>\n",
       "      <th>Brand</th>\n",
       "      <th>Results</th>\n",
       "    </tr>\n",
       "  </thead>\n",
       "  <tbody>\n",
       "    <tr>\n",
       "      <th>0</th>\n",
       "      <td>-</td>\n",
       "      <td>161</td>\n",
       "    </tr>\n",
       "    <tr>\n",
       "      <th>1</th>\n",
       "      <td>FRANCIS</td>\n",
       "      <td>39</td>\n",
       "    </tr>\n",
       "    <tr>\n",
       "      <th>2</th>\n",
       "      <td>CELESTY</td>\n",
       "      <td>21</td>\n",
       "    </tr>\n",
       "    <tr>\n",
       "      <th>3</th>\n",
       "      <td>NBC</td>\n",
       "      <td>17</td>\n",
       "    </tr>\n",
       "    <tr>\n",
       "      <th>4</th>\n",
       "      <td>HEAD &amp; SHOULDERS</td>\n",
       "      <td>12</td>\n",
       "    </tr>\n",
       "    <tr>\n",
       "      <th>5</th>\n",
       "      <td>SALERM</td>\n",
       "      <td>10</td>\n",
       "    </tr>\n",
       "    <tr>\n",
       "      <th>6</th>\n",
       "      <td>JOSS FERVIER</td>\n",
       "      <td>8</td>\n",
       "    </tr>\n",
       "    <tr>\n",
       "      <th>7</th>\n",
       "      <td>DUCRAY</td>\n",
       "      <td>8</td>\n",
       "    </tr>\n",
       "    <tr>\n",
       "      <th>8</th>\n",
       "      <td>SELSUN BLUE</td>\n",
       "      <td>8</td>\n",
       "    </tr>\n",
       "    <tr>\n",
       "      <th>9</th>\n",
       "      <td>SHELÓ NABEL</td>\n",
       "      <td>7</td>\n",
       "    </tr>\n",
       "  </tbody>\n",
       "</table>\n",
       "</div>"
      ],
      "text/plain": [
       "              Brand  Results\n",
       "0                 -      161\n",
       "1           FRANCIS       39\n",
       "2           CELESTY       21\n",
       "3               NBC       17\n",
       "4  HEAD & SHOULDERS       12\n",
       "5            SALERM       10\n",
       "6      JOSS FERVIER        8\n",
       "7            DUCRAY        8\n",
       "8       SELSUN BLUE        8\n",
       "9       SHELÓ NABEL        7"
      ]
     },
     "metadata": {},
     "output_type": "display_data"
    },
    {
     "data": {
      "text/plain": [
       "\"for i in df_25_50.Brand.value_counts().to_frame().reset_index().rename(columns={'index':'Brand','Brand':'Results'}).head(10).Brand.tolist():\\n    print(i)\""
      ]
     },
     "execution_count": 316,
     "metadata": {},
     "output_type": "execute_result"
    }
   ],
   "source": [
    "#Prime brands\n",
    "display(df_75.Brand.value_counts().to_frame().reset_index().rename(columns={'index':'Brand','Brand':'Results'}).head(10))\n",
    "'''for i in df_75.Brand.value_counts().to_frame().reset_index().rename(columns={'index':'Brand','Brand':'Results'}).head(10).Brand.tolist():\n",
    "    print(i)'''\n",
    "\n",
    "#Premium brands\n",
    "display(df_50_75.Brand.value_counts().to_frame().reset_index().rename(columns={'index':'Brand','Brand':'Results'}).head(10))\n",
    "'''for i in df_50_75.Brand.value_counts().to_frame().reset_index().rename(columns={'index':'Brand','Brand':'Results'}).head(10).Brand.tolist():\n",
    "    print(i)'''\n",
    "\n",
    "#Mid brands\n",
    "display(df_25_50.Brand.value_counts().to_frame().reset_index().rename(columns={'index':'Brand','Brand':'Results'}).head(10))\n",
    "'''for i in df_25_50.Brand.value_counts().to_frame().reset_index().rename(columns={'index':'Brand','Brand':'Results'}).head(10).Brand.tolist():\n",
    "    print(i)'''"
   ]
  },
  {
   "cell_type": "code",
   "execution_count": 315,
   "metadata": {},
   "outputs": [
    {
     "data": {
      "text/html": [
       "<div>\n",
       "<style scoped>\n",
       "    .dataframe tbody tr th:only-of-type {\n",
       "        vertical-align: middle;\n",
       "    }\n",
       "\n",
       "    .dataframe tbody tr th {\n",
       "        vertical-align: top;\n",
       "    }\n",
       "\n",
       "    .dataframe thead th {\n",
       "        text-align: right;\n",
       "    }\n",
       "</style>\n",
       "<table border=\"1\" class=\"dataframe\">\n",
       "  <thead>\n",
       "    <tr style=\"text-align: right;\">\n",
       "      <th></th>\n",
       "      <th>Brand</th>\n",
       "      <th>Results</th>\n",
       "      <th>Proc</th>\n",
       "    </tr>\n",
       "  </thead>\n",
       "  <tbody>\n",
       "    <tr>\n",
       "      <th>0</th>\n",
       "      <td>-</td>\n",
       "      <td>161</td>\n",
       "      <td>55.33</td>\n",
       "    </tr>\n",
       "    <tr>\n",
       "      <th>1</th>\n",
       "      <td>FRANCIS</td>\n",
       "      <td>39</td>\n",
       "      <td>13.40</td>\n",
       "    </tr>\n",
       "    <tr>\n",
       "      <th>2</th>\n",
       "      <td>CELESTY</td>\n",
       "      <td>21</td>\n",
       "      <td>7.22</td>\n",
       "    </tr>\n",
       "    <tr>\n",
       "      <th>3</th>\n",
       "      <td>NBC</td>\n",
       "      <td>17</td>\n",
       "      <td>5.84</td>\n",
       "    </tr>\n",
       "    <tr>\n",
       "      <th>4</th>\n",
       "      <td>HEAD &amp; SHOULDERS</td>\n",
       "      <td>12</td>\n",
       "      <td>4.12</td>\n",
       "    </tr>\n",
       "    <tr>\n",
       "      <th>5</th>\n",
       "      <td>SALERM</td>\n",
       "      <td>10</td>\n",
       "      <td>3.44</td>\n",
       "    </tr>\n",
       "    <tr>\n",
       "      <th>6</th>\n",
       "      <td>JOSS FERVIER</td>\n",
       "      <td>8</td>\n",
       "      <td>2.75</td>\n",
       "    </tr>\n",
       "    <tr>\n",
       "      <th>7</th>\n",
       "      <td>DUCRAY</td>\n",
       "      <td>8</td>\n",
       "      <td>2.75</td>\n",
       "    </tr>\n",
       "    <tr>\n",
       "      <th>8</th>\n",
       "      <td>SELSUN BLUE</td>\n",
       "      <td>8</td>\n",
       "      <td>2.75</td>\n",
       "    </tr>\n",
       "    <tr>\n",
       "      <th>9</th>\n",
       "      <td>SHELÓ NABEL</td>\n",
       "      <td>7</td>\n",
       "      <td>2.41</td>\n",
       "    </tr>\n",
       "  </tbody>\n",
       "</table>\n",
       "</div>"
      ],
      "text/plain": [
       "              Brand  Results   Proc\n",
       "0                 -      161  55.33\n",
       "1           FRANCIS       39  13.40\n",
       "2           CELESTY       21   7.22\n",
       "3               NBC       17   5.84\n",
       "4  HEAD & SHOULDERS       12   4.12\n",
       "5            SALERM       10   3.44\n",
       "6      JOSS FERVIER        8   2.75\n",
       "7            DUCRAY        8   2.75\n",
       "8       SELSUN BLUE        8   2.75\n",
       "9       SHELÓ NABEL        7   2.41"
      ]
     },
     "execution_count": 315,
     "metadata": {},
     "output_type": "execute_result"
    }
   ],
   "source": [
    "a = df_25_50.Brand.value_counts().to_frame().reset_index().rename(columns={'index':'Brand','Brand':'Results'}).head(10)\n",
    "a['Proc'] = round((a.Results / a.Results.sum())*100,2)\n",
    "a"
   ]
  },
  {
   "attachments": {},
   "cell_type": "markdown",
   "metadata": {},
   "source": [
    "## Brands distribution"
   ]
  },
  {
   "cell_type": "code",
   "execution_count": 247,
   "metadata": {},
   "outputs": [
    {
     "data": {
      "text/plain": [
       "Index(['Brand', 'Product', 'Price', 'Link'], dtype='object')"
      ]
     },
     "execution_count": 247,
     "metadata": {},
     "output_type": "execute_result"
    }
   ],
   "source": [
    "df.columns"
   ]
  },
  {
   "cell_type": "code",
   "execution_count": 248,
   "metadata": {},
   "outputs": [
    {
     "data": {
      "application/vnd.plotly.v1+json": {
       "config": {
        "plotlyServerURL": "https://plot.ly"
       },
       "data": [
        {
         "alignmentgroup": "True",
         "hovertemplate": "Count=%{x}<br>Brand=%{y}<extra></extra>",
         "legendgroup": "",
         "marker": {
          "color": "#636efa",
          "pattern": {
           "shape": ""
          }
         },
         "name": "",
         "offsetgroup": "",
         "orientation": "h",
         "showlegend": false,
         "textposition": "auto",
         "texttemplate": "%{x}",
         "type": "bar",
         "x": [
          558,
          239,
          191,
          67,
          35,
          26,
          21,
          20,
          19,
          17,
          15,
          14,
          14,
          13,
          13,
          12,
          12,
          12,
          12,
          11,
          11,
          10,
          10
         ],
         "xaxis": "x",
         "y": [
          "-",
          "FRANCIS",
          "CELESTY",
          "HEAD & SHOULDERS",
          "NBC",
          "DUCRAY",
          "NEUTROGENA",
          "PRODUCTOS MART MEXICO",
          "SHELÓ NABEL",
          "MEDICASP",
          "LA ROCHE-POSAY",
          "SALERM",
          "FOLICURE",
          "MEDIHEALTH",
          "ALERT",
          "JUSSE",
          "NIZORAL",
          "IMAGES",
          "YEGUADA LA RESERVA",
          "VICHY",
          "SELSUN BLUE",
          "JOSS FERVIER",
          "NEFERTITI"
         ],
         "yaxis": "y"
        }
       ],
       "layout": {
        "barmode": "relative",
        "height": 600,
        "legend": {
         "tracegroupgap": 0
        },
        "margin": {
         "t": 60
        },
        "template": {
         "data": {
          "bar": [
           {
            "error_x": {
             "color": "#2a3f5f"
            },
            "error_y": {
             "color": "#2a3f5f"
            },
            "marker": {
             "line": {
              "color": "#E5ECF6",
              "width": 0.5
             },
             "pattern": {
              "fillmode": "overlay",
              "size": 10,
              "solidity": 0.2
             }
            },
            "type": "bar"
           }
          ],
          "barpolar": [
           {
            "marker": {
             "line": {
              "color": "#E5ECF6",
              "width": 0.5
             },
             "pattern": {
              "fillmode": "overlay",
              "size": 10,
              "solidity": 0.2
             }
            },
            "type": "barpolar"
           }
          ],
          "carpet": [
           {
            "aaxis": {
             "endlinecolor": "#2a3f5f",
             "gridcolor": "white",
             "linecolor": "white",
             "minorgridcolor": "white",
             "startlinecolor": "#2a3f5f"
            },
            "baxis": {
             "endlinecolor": "#2a3f5f",
             "gridcolor": "white",
             "linecolor": "white",
             "minorgridcolor": "white",
             "startlinecolor": "#2a3f5f"
            },
            "type": "carpet"
           }
          ],
          "choropleth": [
           {
            "colorbar": {
             "outlinewidth": 0,
             "ticks": ""
            },
            "type": "choropleth"
           }
          ],
          "contour": [
           {
            "colorbar": {
             "outlinewidth": 0,
             "ticks": ""
            },
            "colorscale": [
             [
              0,
              "#0d0887"
             ],
             [
              0.1111111111111111,
              "#46039f"
             ],
             [
              0.2222222222222222,
              "#7201a8"
             ],
             [
              0.3333333333333333,
              "#9c179e"
             ],
             [
              0.4444444444444444,
              "#bd3786"
             ],
             [
              0.5555555555555556,
              "#d8576b"
             ],
             [
              0.6666666666666666,
              "#ed7953"
             ],
             [
              0.7777777777777778,
              "#fb9f3a"
             ],
             [
              0.8888888888888888,
              "#fdca26"
             ],
             [
              1,
              "#f0f921"
             ]
            ],
            "type": "contour"
           }
          ],
          "contourcarpet": [
           {
            "colorbar": {
             "outlinewidth": 0,
             "ticks": ""
            },
            "type": "contourcarpet"
           }
          ],
          "heatmap": [
           {
            "colorbar": {
             "outlinewidth": 0,
             "ticks": ""
            },
            "colorscale": [
             [
              0,
              "#0d0887"
             ],
             [
              0.1111111111111111,
              "#46039f"
             ],
             [
              0.2222222222222222,
              "#7201a8"
             ],
             [
              0.3333333333333333,
              "#9c179e"
             ],
             [
              0.4444444444444444,
              "#bd3786"
             ],
             [
              0.5555555555555556,
              "#d8576b"
             ],
             [
              0.6666666666666666,
              "#ed7953"
             ],
             [
              0.7777777777777778,
              "#fb9f3a"
             ],
             [
              0.8888888888888888,
              "#fdca26"
             ],
             [
              1,
              "#f0f921"
             ]
            ],
            "type": "heatmap"
           }
          ],
          "heatmapgl": [
           {
            "colorbar": {
             "outlinewidth": 0,
             "ticks": ""
            },
            "colorscale": [
             [
              0,
              "#0d0887"
             ],
             [
              0.1111111111111111,
              "#46039f"
             ],
             [
              0.2222222222222222,
              "#7201a8"
             ],
             [
              0.3333333333333333,
              "#9c179e"
             ],
             [
              0.4444444444444444,
              "#bd3786"
             ],
             [
              0.5555555555555556,
              "#d8576b"
             ],
             [
              0.6666666666666666,
              "#ed7953"
             ],
             [
              0.7777777777777778,
              "#fb9f3a"
             ],
             [
              0.8888888888888888,
              "#fdca26"
             ],
             [
              1,
              "#f0f921"
             ]
            ],
            "type": "heatmapgl"
           }
          ],
          "histogram": [
           {
            "marker": {
             "pattern": {
              "fillmode": "overlay",
              "size": 10,
              "solidity": 0.2
             }
            },
            "type": "histogram"
           }
          ],
          "histogram2d": [
           {
            "colorbar": {
             "outlinewidth": 0,
             "ticks": ""
            },
            "colorscale": [
             [
              0,
              "#0d0887"
             ],
             [
              0.1111111111111111,
              "#46039f"
             ],
             [
              0.2222222222222222,
              "#7201a8"
             ],
             [
              0.3333333333333333,
              "#9c179e"
             ],
             [
              0.4444444444444444,
              "#bd3786"
             ],
             [
              0.5555555555555556,
              "#d8576b"
             ],
             [
              0.6666666666666666,
              "#ed7953"
             ],
             [
              0.7777777777777778,
              "#fb9f3a"
             ],
             [
              0.8888888888888888,
              "#fdca26"
             ],
             [
              1,
              "#f0f921"
             ]
            ],
            "type": "histogram2d"
           }
          ],
          "histogram2dcontour": [
           {
            "colorbar": {
             "outlinewidth": 0,
             "ticks": ""
            },
            "colorscale": [
             [
              0,
              "#0d0887"
             ],
             [
              0.1111111111111111,
              "#46039f"
             ],
             [
              0.2222222222222222,
              "#7201a8"
             ],
             [
              0.3333333333333333,
              "#9c179e"
             ],
             [
              0.4444444444444444,
              "#bd3786"
             ],
             [
              0.5555555555555556,
              "#d8576b"
             ],
             [
              0.6666666666666666,
              "#ed7953"
             ],
             [
              0.7777777777777778,
              "#fb9f3a"
             ],
             [
              0.8888888888888888,
              "#fdca26"
             ],
             [
              1,
              "#f0f921"
             ]
            ],
            "type": "histogram2dcontour"
           }
          ],
          "mesh3d": [
           {
            "colorbar": {
             "outlinewidth": 0,
             "ticks": ""
            },
            "type": "mesh3d"
           }
          ],
          "parcoords": [
           {
            "line": {
             "colorbar": {
              "outlinewidth": 0,
              "ticks": ""
             }
            },
            "type": "parcoords"
           }
          ],
          "pie": [
           {
            "automargin": true,
            "type": "pie"
           }
          ],
          "scatter": [
           {
            "fillpattern": {
             "fillmode": "overlay",
             "size": 10,
             "solidity": 0.2
            },
            "type": "scatter"
           }
          ],
          "scatter3d": [
           {
            "line": {
             "colorbar": {
              "outlinewidth": 0,
              "ticks": ""
             }
            },
            "marker": {
             "colorbar": {
              "outlinewidth": 0,
              "ticks": ""
             }
            },
            "type": "scatter3d"
           }
          ],
          "scattercarpet": [
           {
            "marker": {
             "colorbar": {
              "outlinewidth": 0,
              "ticks": ""
             }
            },
            "type": "scattercarpet"
           }
          ],
          "scattergeo": [
           {
            "marker": {
             "colorbar": {
              "outlinewidth": 0,
              "ticks": ""
             }
            },
            "type": "scattergeo"
           }
          ],
          "scattergl": [
           {
            "marker": {
             "colorbar": {
              "outlinewidth": 0,
              "ticks": ""
             }
            },
            "type": "scattergl"
           }
          ],
          "scattermapbox": [
           {
            "marker": {
             "colorbar": {
              "outlinewidth": 0,
              "ticks": ""
             }
            },
            "type": "scattermapbox"
           }
          ],
          "scatterpolar": [
           {
            "marker": {
             "colorbar": {
              "outlinewidth": 0,
              "ticks": ""
             }
            },
            "type": "scatterpolar"
           }
          ],
          "scatterpolargl": [
           {
            "marker": {
             "colorbar": {
              "outlinewidth": 0,
              "ticks": ""
             }
            },
            "type": "scatterpolargl"
           }
          ],
          "scatterternary": [
           {
            "marker": {
             "colorbar": {
              "outlinewidth": 0,
              "ticks": ""
             }
            },
            "type": "scatterternary"
           }
          ],
          "surface": [
           {
            "colorbar": {
             "outlinewidth": 0,
             "ticks": ""
            },
            "colorscale": [
             [
              0,
              "#0d0887"
             ],
             [
              0.1111111111111111,
              "#46039f"
             ],
             [
              0.2222222222222222,
              "#7201a8"
             ],
             [
              0.3333333333333333,
              "#9c179e"
             ],
             [
              0.4444444444444444,
              "#bd3786"
             ],
             [
              0.5555555555555556,
              "#d8576b"
             ],
             [
              0.6666666666666666,
              "#ed7953"
             ],
             [
              0.7777777777777778,
              "#fb9f3a"
             ],
             [
              0.8888888888888888,
              "#fdca26"
             ],
             [
              1,
              "#f0f921"
             ]
            ],
            "type": "surface"
           }
          ],
          "table": [
           {
            "cells": {
             "fill": {
              "color": "#EBF0F8"
             },
             "line": {
              "color": "white"
             }
            },
            "header": {
             "fill": {
              "color": "#C8D4E3"
             },
             "line": {
              "color": "white"
             }
            },
            "type": "table"
           }
          ]
         },
         "layout": {
          "annotationdefaults": {
           "arrowcolor": "#2a3f5f",
           "arrowhead": 0,
           "arrowwidth": 1
          },
          "autotypenumbers": "strict",
          "coloraxis": {
           "colorbar": {
            "outlinewidth": 0,
            "ticks": ""
           }
          },
          "colorscale": {
           "diverging": [
            [
             0,
             "#8e0152"
            ],
            [
             0.1,
             "#c51b7d"
            ],
            [
             0.2,
             "#de77ae"
            ],
            [
             0.3,
             "#f1b6da"
            ],
            [
             0.4,
             "#fde0ef"
            ],
            [
             0.5,
             "#f7f7f7"
            ],
            [
             0.6,
             "#e6f5d0"
            ],
            [
             0.7,
             "#b8e186"
            ],
            [
             0.8,
             "#7fbc41"
            ],
            [
             0.9,
             "#4d9221"
            ],
            [
             1,
             "#276419"
            ]
           ],
           "sequential": [
            [
             0,
             "#0d0887"
            ],
            [
             0.1111111111111111,
             "#46039f"
            ],
            [
             0.2222222222222222,
             "#7201a8"
            ],
            [
             0.3333333333333333,
             "#9c179e"
            ],
            [
             0.4444444444444444,
             "#bd3786"
            ],
            [
             0.5555555555555556,
             "#d8576b"
            ],
            [
             0.6666666666666666,
             "#ed7953"
            ],
            [
             0.7777777777777778,
             "#fb9f3a"
            ],
            [
             0.8888888888888888,
             "#fdca26"
            ],
            [
             1,
             "#f0f921"
            ]
           ],
           "sequentialminus": [
            [
             0,
             "#0d0887"
            ],
            [
             0.1111111111111111,
             "#46039f"
            ],
            [
             0.2222222222222222,
             "#7201a8"
            ],
            [
             0.3333333333333333,
             "#9c179e"
            ],
            [
             0.4444444444444444,
             "#bd3786"
            ],
            [
             0.5555555555555556,
             "#d8576b"
            ],
            [
             0.6666666666666666,
             "#ed7953"
            ],
            [
             0.7777777777777778,
             "#fb9f3a"
            ],
            [
             0.8888888888888888,
             "#fdca26"
            ],
            [
             1,
             "#f0f921"
            ]
           ]
          },
          "colorway": [
           "#636efa",
           "#EF553B",
           "#00cc96",
           "#ab63fa",
           "#FFA15A",
           "#19d3f3",
           "#FF6692",
           "#B6E880",
           "#FF97FF",
           "#FECB52"
          ],
          "font": {
           "color": "#2a3f5f"
          },
          "geo": {
           "bgcolor": "white",
           "lakecolor": "white",
           "landcolor": "#E5ECF6",
           "showlakes": true,
           "showland": true,
           "subunitcolor": "white"
          },
          "hoverlabel": {
           "align": "left"
          },
          "hovermode": "closest",
          "mapbox": {
           "style": "light"
          },
          "paper_bgcolor": "white",
          "plot_bgcolor": "#E5ECF6",
          "polar": {
           "angularaxis": {
            "gridcolor": "white",
            "linecolor": "white",
            "ticks": ""
           },
           "bgcolor": "#E5ECF6",
           "radialaxis": {
            "gridcolor": "white",
            "linecolor": "white",
            "ticks": ""
           }
          },
          "scene": {
           "xaxis": {
            "backgroundcolor": "#E5ECF6",
            "gridcolor": "white",
            "gridwidth": 2,
            "linecolor": "white",
            "showbackground": true,
            "ticks": "",
            "zerolinecolor": "white"
           },
           "yaxis": {
            "backgroundcolor": "#E5ECF6",
            "gridcolor": "white",
            "gridwidth": 2,
            "linecolor": "white",
            "showbackground": true,
            "ticks": "",
            "zerolinecolor": "white"
           },
           "zaxis": {
            "backgroundcolor": "#E5ECF6",
            "gridcolor": "white",
            "gridwidth": 2,
            "linecolor": "white",
            "showbackground": true,
            "ticks": "",
            "zerolinecolor": "white"
           }
          },
          "shapedefaults": {
           "line": {
            "color": "#2a3f5f"
           }
          },
          "ternary": {
           "aaxis": {
            "gridcolor": "white",
            "linecolor": "white",
            "ticks": ""
           },
           "baxis": {
            "gridcolor": "white",
            "linecolor": "white",
            "ticks": ""
           },
           "bgcolor": "#E5ECF6",
           "caxis": {
            "gridcolor": "white",
            "linecolor": "white",
            "ticks": ""
           }
          },
          "title": {
           "x": 0.05
          },
          "xaxis": {
           "automargin": true,
           "gridcolor": "white",
           "linecolor": "white",
           "ticks": "",
           "title": {
            "standoff": 15
           },
           "zerolinecolor": "white",
           "zerolinewidth": 2
          },
          "yaxis": {
           "automargin": true,
           "gridcolor": "white",
           "linecolor": "white",
           "ticks": "",
           "title": {
            "standoff": 15
           },
           "zerolinecolor": "white",
           "zerolinewidth": 2
          }
         }
        },
        "title": {
         "text": "Brands over 10 search results"
        },
        "width": 1100,
        "xaxis": {
         "anchor": "y",
         "categoryorder": "total descending",
         "domain": [
          0,
          1
         ],
         "title": {
          "text": "Count"
         }
        },
        "yaxis": {
         "anchor": "x",
         "domain": [
          0,
          1
         ],
         "title": {
          "text": "Brand"
         }
        }
       }
      }
     },
     "metadata": {},
     "output_type": "display_data"
    }
   ],
   "source": [
    "px.bar(df.Brand.value_counts().to_frame()[df.Brand.value_counts().to_frame()['Brand']>=10], x='Brand', width=1100, height=600, text_auto=True,\n",
    "       labels={'index':'Brand', 'Brand':'Count'}).update_layout(xaxis={'categoryorder':'total descending'}, title='Brands over 10 search results')"
   ]
  },
  {
   "cell_type": "code",
   "execution_count": 227,
   "metadata": {},
   "outputs": [
    {
     "name": "stdout",
     "output_type": "stream",
     "text": [
      "['MEDICASP', 'VICHY', 'SELSUN BLUE', 'ISDIN', 'CELESTY', 'HEAD & SHOULDERS', 'DUCRAY', 'IMAGES', 'MEDIHEALTH', 'JUSSE', 'MU&ME', 'LA ROCHE-POSAY', 'NEUTROGENA', 'PRODUCTOS MART MEXICO', 'HERMOSO REMEDIO', 'DISNEY', 'ALERT', 'PALMOLIVE', 'CANTABRIA', 'BIODERMA', 'SILANES', 'DS LABORATORIES', 'SELSUN', 'NATURA', 'FOLICURE', 'EGO', 'URIAGE', 'YAKARTA', 'NBC', 'SALERM', 'YVES ROCHER', 'IRALTONE', 'MD LIFERPAL', 'EUDERMA', 'ALEA', 'ACM', \"FEMME D'OR\", 'NEFERTITI', 'SISTEMA GB', 'MANDUMED GRANJA ECOLÓGICA', 'SEDAL', 'FOLCRESS', 'REDKEN', 'YEGUADA LA RESERVA', 'NOPSOR', 'GRISI', 'KÉRASTASE', 'LABORATORIOS FRANCIS', 'DAVINES', 'TRUSS', 'BOTANICUS', 'SHELÓ NABEL', 'VAERÁ', 'LAZARTIGUE', 'PRIMED', 'NEO CAPELLI PRO', 'INCREDIBLE', 'SECRETOS DE ANTAÑO', 'LACER', 'DEL INDIO PAPAGO', 'ICON', 'SKIN-CAP', 'NIZORAL', 'CAPRICE', 'SALERM COSMETICS', 'VOGLIA', 'SCHWARZKOPF', 'PG', 'ELIX', 'LA ROCHE POSAY', 'FARMAPIEL', 'GENOVÉ', 'FRANCIS', 'MATRIX', 'SKIN DER', 'KANIN', 'MAGNUS', 'MULTIPLUS', 'DR. KURT WOLFF GMBH & CO. KG', 'AROMATICA', 'TOK MENS CARE', 'LENDAN', 'VENEZZA', 'INDIO PAPAGO', 'INBELLEZZA', 'HIDRA', 'FIRENZE', 'ARUAL', 'HEAD & SHOUDERS', 'YERBATEX', 'EQUATE', 'BLEN', 'STANHOME', 'REMEXA', 'HAIR RES Q', 'PRAVANA', 'VIDANAT', 'INSIGHT', 'TRUSS PROFESSIONAL', 'SEBRYL', 'PILEXIL', 'BIOVITAL', 'HND', '4X4', 'ALFAPARF MILANO', 'TATAI TIENDA', 'GENERIC', 'SWISS JUST', 'JASON NATURAL', 'VANART', 'MARTHA DEBAYLE', 'SHANATURALS', 'PARIS', 'AG', \"L'ORÉAL PROFESSIONNEL\", \"L'OREAL PROFESSIONNE\", 'ALPECIN', 'PIERRE FABRE', 'JANIBELL', 'ORIFLAME', 'KLORANE', 'FACIAL TIME', 'PURE BIOLOGY', 'OGX', 'MELALEUCA', \"L'ORÉAL PARIS\", 'NIOXIN', 'ORGÂNICO', 'ÁRBOL VERDE', 'HINODE', 'JOSS FERVIER', 'STEFANO', 'YANBAL', 'MARIA', 'CANTABRIA LABS', 'JUST', 'TÍO NACHO', 'SCHWARZKOPF PROFESSIONAL', 'ALISS', 'HUICHOL', 'BEOHEMP', 'EVITA', 'BAEBODY', 'FUSION', 'CASTA']\n"
     ]
    }
   ],
   "source": [
    "print(df[df.Brand!='-'].Brand.unique().tolist())"
   ]
  },
  {
   "cell_type": "code",
   "execution_count": 249,
   "metadata": {},
   "outputs": [
    {
     "data": {
      "text/html": [
       "<div>\n",
       "<style scoped>\n",
       "    .dataframe tbody tr th:only-of-type {\n",
       "        vertical-align: middle;\n",
       "    }\n",
       "\n",
       "    .dataframe tbody tr th {\n",
       "        vertical-align: top;\n",
       "    }\n",
       "\n",
       "    .dataframe thead th {\n",
       "        text-align: right;\n",
       "    }\n",
       "</style>\n",
       "<table border=\"1\" class=\"dataframe\">\n",
       "  <thead>\n",
       "    <tr style=\"text-align: right;\">\n",
       "      <th></th>\n",
       "      <th>Brand</th>\n",
       "      <th>Product</th>\n",
       "      <th>Price</th>\n",
       "      <th>Link</th>\n",
       "    </tr>\n",
       "  </thead>\n",
       "  <tbody>\n",
       "    <tr>\n",
       "      <th>0</th>\n",
       "      <td>MEDICASP</td>\n",
       "      <td>Shampoo Medicasp Anticaspa Uso Diario 2 Botellas De 130ml</td>\n",
       "      <td>195</td>\n",
       "      <td>https://www.mercadolibre.com.mx/shampoo-medicasp-anticaspa-uso-diario-2-botellas-de-130ml/p/MLM19094907?pdp_filters=category:MLM430117#searchVariation=MLM19094907&amp;pos...</td>\n",
       "    </tr>\n",
       "    <tr>\n",
       "      <th>1</th>\n",
       "      <td>VICHY</td>\n",
       "      <td>Shampoo Vichy Anticaspa Dercos Ds Cabello Graso 200 Ml</td>\n",
       "      <td>557</td>\n",
       "      <td>https://articulo.mercadolibre.com.mx/MLM-769613335-shampoo-vichy-anticaspa-dercos-ds-cabello-graso-200-ml-_JM#position=29&amp;search_layout=stack&amp;type=item&amp;tracking_id=bf...</td>\n",
       "    </tr>\n",
       "    <tr>\n",
       "      <th>2</th>\n",
       "      <td>SELSUN BLUE</td>\n",
       "      <td>Shampoo Selsun Blue Naturals Dandruff 325ml 11oz</td>\n",
       "      <td>223</td>\n",
       "      <td>https://www.mercadolibre.com.mx/shampoo-selsun-blue-naturals-dandruff-325ml-11oz/p/MLM19546760?pdp_filters=category:MLM430117#searchVariation=MLM19546760&amp;position=2&amp;s...</td>\n",
       "    </tr>\n",
       "    <tr>\n",
       "      <th>3</th>\n",
       "      <td>ISDIN</td>\n",
       "      <td>Isdin Nutradeica Shampoo Anticaspa Grasa 200ml</td>\n",
       "      <td>358</td>\n",
       "      <td>https://www.mercadolibre.com.mx/isdin-nutradeica-shampoo-anticaspa-grasa-200ml/p/MLM19702444?pdp_filters=category:MLM430117#searchVariation=MLM19702444&amp;position=3&amp;sea...</td>\n",
       "    </tr>\n",
       "    <tr>\n",
       "      <th>4</th>\n",
       "      <td>ISDIN</td>\n",
       "      <td>Shampoo Isdin Lambdapil Anticaída en botella de 200mL</td>\n",
       "      <td>330</td>\n",
       "      <td>https://www.mercadolibre.com.mx/shampoo-isdin-lambdapil-anticaida-en-botella-de-200ml/p/MLM19147966?pdp_filters=category:MLM430117#searchVariation=MLM19147966&amp;positio...</td>\n",
       "    </tr>\n",
       "    <tr>\n",
       "      <th>5</th>\n",
       "      <td>-</td>\n",
       "      <td>Shampoo Alquitrán D Hulla Control Psoriasis  Caspa 1 Litro</td>\n",
       "      <td>119</td>\n",
       "      <td>https://articulo.mercadolibre.com.mx/MLM-1350885680-shampoo-alquitran-d-hulla-control-psoriasis-caspa-1-litro-_JM#position=32&amp;search_layout=stack&amp;type=item&amp;tracking_i...</td>\n",
       "    </tr>\n",
       "    <tr>\n",
       "      <th>6</th>\n",
       "      <td>SELSUN BLUE</td>\n",
       "      <td>Shampoo Selsun Medicated Max Strength Dandruff 325ml Importa</td>\n",
       "      <td>299</td>\n",
       "      <td>https://www.mercadolibre.com.mx/shampoo-selsun-medicated-max-strength-dandruff-325ml-importa/p/MLM19508792?pdp_filters=category:MLM430117#searchVariation=MLM19508792&amp;...</td>\n",
       "    </tr>\n",
       "    <tr>\n",
       "      <th>7</th>\n",
       "      <td>VICHY</td>\n",
       "      <td>Shampoo Vichy Anticaspa Dercos Ds Cabello Graso 200 Ml</td>\n",
       "      <td>557</td>\n",
       "      <td>https://click1.mercadolibre.com.mx/mclics/clicks/external/MLM/count?a=ox54sra9enQ5i0HHEMIKbYPspVU3q6zyVousvf9gcsISSujvrcWZAbKSYntDlFiB63Nes4rgUn2bcL8b0RQjPea1Vob3F2Gr...</td>\n",
       "    </tr>\n",
       "    <tr>\n",
       "      <th>8</th>\n",
       "      <td>-</td>\n",
       "      <td>Shampoo Alquitran D' Hulla 20lt Tratamiento Psoriasis/ Hongo</td>\n",
       "      <td>1450</td>\n",
       "      <td>https://click1.mercadolibre.com.mx/mclics/clicks/external/MLM/count?a=jy3ff5s61ZKQtO7sVArbaoZ11r6KhLvZdtXidXHHAk5hsVY6VdSAFSM34HH5yJXDxRX8yQ7wvuzFfzM57bnOQ%2FpebgLd31...</td>\n",
       "    </tr>\n",
       "    <tr>\n",
       "      <th>9</th>\n",
       "      <td>-</td>\n",
       "      <td>Shampoo Selsun Medicated Max Strength Dandruff 325ml</td>\n",
       "      <td>299</td>\n",
       "      <td>https://articulo.mercadolibre.com.mx/MLM-1828433089-shampoo-selsun-medicated-max-strength-dandruff-325ml-_JM#position=33&amp;search_layout=stack&amp;type=item&amp;tracking_id=bfe...</td>\n",
       "    </tr>\n",
       "  </tbody>\n",
       "</table>\n",
       "</div>"
      ],
      "text/plain": [
       "         Brand                                                       Product  \\\n",
       "0     MEDICASP     Shampoo Medicasp Anticaspa Uso Diario 2 Botellas De 130ml   \n",
       "1        VICHY       Shampoo Vichy Anticaspa Dercos Ds Cabello Graso 200 Ml    \n",
       "2  SELSUN BLUE              Shampoo Selsun Blue Naturals Dandruff 325ml 11oz   \n",
       "3        ISDIN                Isdin Nutradeica Shampoo Anticaspa Grasa 200ml   \n",
       "4        ISDIN         Shampoo Isdin Lambdapil Anticaída en botella de 200mL   \n",
       "5            -    Shampoo Alquitrán D Hulla Control Psoriasis  Caspa 1 Litro   \n",
       "6  SELSUN BLUE  Shampoo Selsun Medicated Max Strength Dandruff 325ml Importa   \n",
       "7        VICHY       Shampoo Vichy Anticaspa Dercos Ds Cabello Graso 200 Ml    \n",
       "8            -  Shampoo Alquitran D' Hulla 20lt Tratamiento Psoriasis/ Hongo   \n",
       "9            -          Shampoo Selsun Medicated Max Strength Dandruff 325ml   \n",
       "\n",
       "   Price  \\\n",
       "0    195   \n",
       "1    557   \n",
       "2    223   \n",
       "3    358   \n",
       "4    330   \n",
       "5    119   \n",
       "6    299   \n",
       "7    557   \n",
       "8   1450   \n",
       "9    299   \n",
       "\n",
       "                                                                                                                                                                        Link  \n",
       "0  https://www.mercadolibre.com.mx/shampoo-medicasp-anticaspa-uso-diario-2-botellas-de-130ml/p/MLM19094907?pdp_filters=category:MLM430117#searchVariation=MLM19094907&pos...  \n",
       "1  https://articulo.mercadolibre.com.mx/MLM-769613335-shampoo-vichy-anticaspa-dercos-ds-cabello-graso-200-ml-_JM#position=29&search_layout=stack&type=item&tracking_id=bf...  \n",
       "2  https://www.mercadolibre.com.mx/shampoo-selsun-blue-naturals-dandruff-325ml-11oz/p/MLM19546760?pdp_filters=category:MLM430117#searchVariation=MLM19546760&position=2&s...  \n",
       "3  https://www.mercadolibre.com.mx/isdin-nutradeica-shampoo-anticaspa-grasa-200ml/p/MLM19702444?pdp_filters=category:MLM430117#searchVariation=MLM19702444&position=3&sea...  \n",
       "4  https://www.mercadolibre.com.mx/shampoo-isdin-lambdapil-anticaida-en-botella-de-200ml/p/MLM19147966?pdp_filters=category:MLM430117#searchVariation=MLM19147966&positio...  \n",
       "5  https://articulo.mercadolibre.com.mx/MLM-1350885680-shampoo-alquitran-d-hulla-control-psoriasis-caspa-1-litro-_JM#position=32&search_layout=stack&type=item&tracking_i...  \n",
       "6  https://www.mercadolibre.com.mx/shampoo-selsun-medicated-max-strength-dandruff-325ml-importa/p/MLM19508792?pdp_filters=category:MLM430117#searchVariation=MLM19508792&...  \n",
       "7  https://click1.mercadolibre.com.mx/mclics/clicks/external/MLM/count?a=ox54sra9enQ5i0HHEMIKbYPspVU3q6zyVousvf9gcsISSujvrcWZAbKSYntDlFiB63Nes4rgUn2bcL8b0RQjPea1Vob3F2Gr...  \n",
       "8  https://click1.mercadolibre.com.mx/mclics/clicks/external/MLM/count?a=jy3ff5s61ZKQtO7sVArbaoZ11r6KhLvZdtXidXHHAk5hsVY6VdSAFSM34HH5yJXDxRX8yQ7wvuzFfzM57bnOQ%2FpebgLd31...  \n",
       "9  https://articulo.mercadolibre.com.mx/MLM-1828433089-shampoo-selsun-medicated-max-strength-dandruff-325ml-_JM#position=33&search_layout=stack&type=item&tracking_id=bfe...  "
      ]
     },
     "execution_count": 249,
     "metadata": {},
     "output_type": "execute_result"
    }
   ],
   "source": [
    "test = df.head(10).copy()\n",
    "test"
   ]
  },
  {
   "cell_type": "code",
   "execution_count": 543,
   "metadata": {},
   "outputs": [
    {
     "data": {
      "text/plain": [
       "True"
      ]
     },
     "execution_count": 543,
     "metadata": {},
     "output_type": "execute_result"
    }
   ],
   "source": [
    "'Shampoo Vichy Anticaspa Dercos Ds Cabello Graso 200 Ml'.lower().__contains__('vichy'.lower())"
   ]
  },
  {
   "cell_type": "code",
   "execution_count": 262,
   "metadata": {},
   "outputs": [
    {
     "name": "stdout",
     "output_type": "stream",
     "text": [
      "MEDICASP\n",
      "No\n",
      "No\n",
      "No\n",
      "No\n",
      "VICHY\n",
      "No\n",
      "No\n",
      "No\n",
      "No\n",
      "SELSUN BLUE\n",
      "No\n",
      "No\n",
      "No\n",
      "No\n",
      "ISDIN\n",
      "No\n",
      "No\n",
      "No\n",
      "ISDIN\n",
      "No\n",
      "No\n",
      "No\n",
      "No\n",
      "No\n",
      "No\n",
      "No\n",
      "No\n",
      "No\n",
      "VICHY\n",
      "No\n",
      "No\n",
      "No\n",
      "No\n",
      "No\n",
      "No\n",
      "No\n",
      "No\n",
      "No\n",
      "No\n"
     ]
    }
   ],
   "source": [
    "idx = 0\n",
    "b = test[test.Brand!='-'].Brand.unique().tolist()\n",
    "for i in test.Product:\n",
    "    for j in b:\n",
    "        if i.__contains__(j.lower()) | i.__contains__(j.upper()) | i.__contains__(j.title()):\n",
    "\n",
    "            print(j)\n",
    "        else: print('No')\n",
    "        "
   ]
  },
  {
   "attachments": {},
   "cell_type": "markdown",
   "metadata": {},
   "source": [
    "## Brand appearences"
   ]
  },
  {
   "cell_type": "code",
   "execution_count": 140,
   "metadata": {},
   "outputs": [
    {
     "name": "stdout",
     "output_type": "stream",
     "text": [
      "(15, 6)\n"
     ]
    },
    {
     "data": {
      "text/html": [
       "<div>\n",
       "<style scoped>\n",
       "    .dataframe tbody tr th:only-of-type {\n",
       "        vertical-align: middle;\n",
       "    }\n",
       "\n",
       "    .dataframe tbody tr th {\n",
       "        vertical-align: top;\n",
       "    }\n",
       "\n",
       "    .dataframe thead th {\n",
       "        text-align: right;\n",
       "    }\n",
       "</style>\n",
       "<table border=\"1\" class=\"dataframe\">\n",
       "  <thead>\n",
       "    <tr style=\"text-align: right;\">\n",
       "      <th></th>\n",
       "      <th>Product</th>\n",
       "      <th>Price</th>\n",
       "      <th>Link</th>\n",
       "      <th>Score</th>\n",
       "      <th>Ratings</th>\n",
       "      <th>Comments</th>\n",
       "    </tr>\n",
       "  </thead>\n",
       "  <tbody>\n",
       "    <tr>\n",
       "      <th>0</th>\n",
       "      <td>Shampoo Head &amp; Shoulders Limpieza Renovadora 1 Litro</td>\n",
       "      <td>151</td>\n",
       "      <td>https://articulo.mercadolibre.com.mx/MLM-1327397794-shampoo-head-shoulders-limpieza-renovadora-1-litro-_JM#position=50&amp;search_layout=stack&amp;type=item&amp;tracking_id=f6fbf...</td>\n",
       "      <td>5.0</td>\n",
       "      <td>27</td>\n",
       "      <td>[El producto cumple perfectamente con mis necesidades, además de que dura muchísimo, su dispensador lo hace fácil de usar, gran compra.]</td>\n",
       "    </tr>\n",
       "    <tr>\n",
       "      <th>1</th>\n",
       "      <td>Shampoo Head &amp; Shoulders Advanced Limpieza Radical 280 Ml</td>\n",
       "      <td>154</td>\n",
       "      <td>https://www.mercadolibre.com.mx/shampoo-head-shoulders-advanced-limpieza-radical-280-ml/p/MLM23953759?pdp_filters=category:MLM430117#searchVariation=MLM23953759&amp;posit...</td>\n",
       "      <td>5.0</td>\n",
       "      <td>5</td>\n",
       "      <td>[El producto me pareció fabuloso. Sufro problemas de caspa y escamación en mi cuero cabelludo, donde me dan “ataques” de comezón que provocan irritación y desprendimi...</td>\n",
       "    </tr>\n",
       "    <tr>\n",
       "      <th>2</th>\n",
       "      <td>Kit Purificación Carbón Activado Control Caspa Head&amp;shoulder</td>\n",
       "      <td>116</td>\n",
       "      <td>https://www.mercadolibre.com.mx/kit-purificacion-carbon-activado-control-caspa-headshoulder/p/MLM23062209?pdp_filters=category:MLM430117#searchVariation=MLM23062209&amp;p...</td>\n",
       "      <td>5.0</td>\n",
       "      <td>3</td>\n",
       "      <td>[Muy buen producto. Buen calidad.]</td>\n",
       "    </tr>\n",
       "    <tr>\n",
       "      <th>3</th>\n",
       "      <td>Shampoo Head &amp; Shoulders Carbón Activado 1 Litro</td>\n",
       "      <td>227</td>\n",
       "      <td>https://www.mercadolibre.com.mx/shampoo-head-shoulders-carbon-activado-1-litro/p/MLM19505172?pdp_filters=category:MLM430117#searchVariation=MLM19505172&amp;position=18&amp;se...</td>\n",
       "      <td>5.0</td>\n",
       "      <td>9</td>\n",
       "      <td>[Me ayuda con mi cabello tipo graso para evitar la aparición de caspa, además evita durante el día que se vea grasoso.]</td>\n",
       "    </tr>\n",
       "    <tr>\n",
       "      <th>4</th>\n",
       "      <td>Shampoo Head &amp; Shoulders Men Old Spice Control Caspa 1lt 2pz</td>\n",
       "      <td>299</td>\n",
       "      <td>https://articulo.mercadolibre.com.mx/MLM-1545867637-shampoo-head-shoulders-men-old-spice-control-caspa-1lt-2pz-_JM#position=50&amp;search_layout=stack&amp;type=item&amp;tracking_...</td>\n",
       "      <td>5.0</td>\n",
       "      <td>7</td>\n",
       "      <td>[Muy bueno la verdad.]</td>\n",
       "    </tr>\n",
       "    <tr>\n",
       "      <th>5</th>\n",
       "      <td>Shampoo Head &amp; Shoulders Limpieza Manejable 2 En 1 375 Ml</td>\n",
       "      <td>67</td>\n",
       "      <td>https://articulo.mercadolibre.com.mx/MLM-635434507-shampoo-head-shoulders-limpieza-manejable-2-en-1-375-ml-_JM#position=47&amp;search_layout=stack&amp;type=item&amp;tracking_id=6...</td>\n",
       "      <td>5.0</td>\n",
       "      <td>2</td>\n",
       "      <td>[Buen aroma y es head and shoulders, la cual es una marca de prestigio y económica en el mercado mexicano, no hay mucho más qué decir.]</td>\n",
       "    </tr>\n",
       "    <tr>\n",
       "      <th>6</th>\n",
       "      <td>Shampoo Head &amp; Shoulders Humectación Instantánea 650ml</td>\n",
       "      <td>107</td>\n",
       "      <td>https://www.mercadolibre.com.mx/shampoo-head-shoulders-humectacion-instantanea-650ml/p/MLM18977460?pdp_filters=category:MLM430117#searchVariation=MLM18977460&amp;position...</td>\n",
       "      <td>5.0</td>\n",
       "      <td>1</td>\n",
       "      <td>[Bueno.]</td>\n",
       "    </tr>\n",
       "    <tr>\n",
       "      <th>7</th>\n",
       "      <td>Head &amp; Shoulders Control Caspa  375ml 3 Unidades</td>\n",
       "      <td>179</td>\n",
       "      <td>https://articulo.mercadolibre.com.mx/MLM-962479649-head-shoulders-control-caspa-375ml-3-unidades-_JM#position=15&amp;search_layout=stack&amp;type=item&amp;tracking_id=5b423449-b7...</td>\n",
       "      <td>5.0</td>\n",
       "      <td>7</td>\n",
       "      <td>[Muy buen producto era lo que esperaba.]</td>\n",
       "    </tr>\n",
       "    <tr>\n",
       "      <th>8</th>\n",
       "      <td>Shampoo Head &amp; Shoulders Limpieza Renovadora 3 Unidades</td>\n",
       "      <td>188</td>\n",
       "      <td>https://www.mercadolibre.com.mx/shampoo-head-shoulders-limpieza-renovadora-3-unidades/p/MLM23459702?pdp_filters=category:MLM430117#searchVariation=MLM23459702&amp;positio...</td>\n",
       "      <td>5.0</td>\n",
       "      <td>3</td>\n",
       "      <td>[El que uso diario.]</td>\n",
       "    </tr>\n",
       "    <tr>\n",
       "      <th>9</th>\n",
       "      <td>Shampoo Head &amp; Shoulders Clinical strength en botella de 400mL por 1 unidad</td>\n",
       "      <td>508</td>\n",
       "      <td>https://www.mercadolibre.com.mx/shampoo-head-shoulders-clinical-strength-en-botella-de-400ml-por-1-unidad/p/MLM19147996?pdp_filters=category:MLM430117#searchVariation...</td>\n",
       "      <td>5.0</td>\n",
       "      <td>4</td>\n",
       "      <td>[Con 600 pesos me ahorre muchísimo que ya había gastado en dermatólogos.]</td>\n",
       "    </tr>\n",
       "    <tr>\n",
       "      <th>10</th>\n",
       "      <td>Kit 3 Head&amp;shoulders 2 Shampoo + 1 Acondicionador 700 Ml</td>\n",
       "      <td>239</td>\n",
       "      <td>https://www.mercadolibre.com.mx/kit-3-headshoulders-2-shampoo-1-acondicionador-700-ml/p/MLM24532497?pdp_filters=category:MLM430117#searchVariation=MLM24532497&amp;positio...</td>\n",
       "      <td>0.0</td>\n",
       "      <td>0</td>\n",
       "      <td>[-]</td>\n",
       "    </tr>\n",
       "    <tr>\n",
       "      <th>11</th>\n",
       "      <td>Kit 3 Head&amp;shoulders 2 Shampoo + 1 Acondicionador 700 Ml</td>\n",
       "      <td>239</td>\n",
       "      <td>https://articulo.mercadolibre.com.mx/MLM-962472197-kit-3-headshoulders-2-shampoo-1-acondicionador-700-ml-_JM#position=55&amp;search_layout=stack&amp;type=item&amp;tracking_id=7a4...</td>\n",
       "      <td>5.0</td>\n",
       "      <td>9</td>\n",
       "      <td>[Buen producto el acondicionador es perfecto.\\nY huele delicioso cumple con lo que se describe.]</td>\n",
       "    </tr>\n",
       "    <tr>\n",
       "      <th>12</th>\n",
       "      <td>Head &amp; Shoulders 2 In 1 Dry Scalp Care Shampoo  Condicioner</td>\n",
       "      <td>499</td>\n",
       "      <td>https://articulo.mercadolibre.com.mx/MLM-1414989901-head-shoulders-2-in-1-dry-scalp-care-shampoo-condicioner-_JM#position=23&amp;search_layout=stack&amp;type=item&amp;tracking_id...</td>\n",
       "      <td>5.0</td>\n",
       "      <td>1</td>\n",
       "      <td>[Me gustó mucho el producto la calidad es muy buena el tamaño excelente.]</td>\n",
       "    </tr>\n",
       "    <tr>\n",
       "      <th>13</th>\n",
       "      <td>Shampoo Head &amp; Shoulders Limpieza Renovadora 1 Litro</td>\n",
       "      <td>151</td>\n",
       "      <td>https://click1.mercadolibre.com.mx/mclics/clicks/external/MLM/count?a=1psa%2FewesgMKnqT9QACNn6E3aBdrElg1Yxp1ooJNnvaYZMuygfWo%2FvwVfvqWjFNBjdHN0NykSAuYZOFsWV8fj8OEJ2lS...</td>\n",
       "      <td>0.0</td>\n",
       "      <td>0</td>\n",
       "      <td>[-]</td>\n",
       "    </tr>\n",
       "    <tr>\n",
       "      <th>14</th>\n",
       "      <td>Shampoo Head &amp; Shoulders Carbón Activado 1 Litro</td>\n",
       "      <td>245</td>\n",
       "      <td>https://articulo.mercadolibre.com.mx/MLM-2370666528-shampoo-head-shoulders-carbon-activado-1-litro-_JM#position=30&amp;search_layout=stack&amp;type=item&amp;tracking_id=118cb7b2-...</td>\n",
       "      <td>0.0</td>\n",
       "      <td>0</td>\n",
       "      <td>[-]</td>\n",
       "    </tr>\n",
       "  </tbody>\n",
       "</table>\n",
       "</div>"
      ],
      "text/plain": [
       "                                                                        Product  \\\n",
       "0                          Shampoo Head & Shoulders Limpieza Renovadora 1 Litro   \n",
       "1                     Shampoo Head & Shoulders Advanced Limpieza Radical 280 Ml   \n",
       "2                  Kit Purificación Carbón Activado Control Caspa Head&shoulder   \n",
       "3                              Shampoo Head & Shoulders Carbón Activado 1 Litro   \n",
       "4                  Shampoo Head & Shoulders Men Old Spice Control Caspa 1lt 2pz   \n",
       "5                     Shampoo Head & Shoulders Limpieza Manejable 2 En 1 375 Ml   \n",
       "6                        Shampoo Head & Shoulders Humectación Instantánea 650ml   \n",
       "7                              Head & Shoulders Control Caspa  375ml 3 Unidades   \n",
       "8                       Shampoo Head & Shoulders Limpieza Renovadora 3 Unidades   \n",
       "9   Shampoo Head & Shoulders Clinical strength en botella de 400mL por 1 unidad   \n",
       "10                     Kit 3 Head&shoulders 2 Shampoo + 1 Acondicionador 700 Ml   \n",
       "11                     Kit 3 Head&shoulders 2 Shampoo + 1 Acondicionador 700 Ml   \n",
       "12                  Head & Shoulders 2 In 1 Dry Scalp Care Shampoo  Condicioner   \n",
       "13                         Shampoo Head & Shoulders Limpieza Renovadora 1 Litro   \n",
       "14                             Shampoo Head & Shoulders Carbón Activado 1 Litro   \n",
       "\n",
       "    Price  \\\n",
       "0     151   \n",
       "1     154   \n",
       "2     116   \n",
       "3     227   \n",
       "4     299   \n",
       "5      67   \n",
       "6     107   \n",
       "7     179   \n",
       "8     188   \n",
       "9     508   \n",
       "10    239   \n",
       "11    239   \n",
       "12    499   \n",
       "13    151   \n",
       "14    245   \n",
       "\n",
       "                                                                                                                                                                         Link  \\\n",
       "0   https://articulo.mercadolibre.com.mx/MLM-1327397794-shampoo-head-shoulders-limpieza-renovadora-1-litro-_JM#position=50&search_layout=stack&type=item&tracking_id=f6fbf...   \n",
       "1   https://www.mercadolibre.com.mx/shampoo-head-shoulders-advanced-limpieza-radical-280-ml/p/MLM23953759?pdp_filters=category:MLM430117#searchVariation=MLM23953759&posit...   \n",
       "2   https://www.mercadolibre.com.mx/kit-purificacion-carbon-activado-control-caspa-headshoulder/p/MLM23062209?pdp_filters=category:MLM430117#searchVariation=MLM23062209&p...   \n",
       "3   https://www.mercadolibre.com.mx/shampoo-head-shoulders-carbon-activado-1-litro/p/MLM19505172?pdp_filters=category:MLM430117#searchVariation=MLM19505172&position=18&se...   \n",
       "4   https://articulo.mercadolibre.com.mx/MLM-1545867637-shampoo-head-shoulders-men-old-spice-control-caspa-1lt-2pz-_JM#position=50&search_layout=stack&type=item&tracking_...   \n",
       "5   https://articulo.mercadolibre.com.mx/MLM-635434507-shampoo-head-shoulders-limpieza-manejable-2-en-1-375-ml-_JM#position=47&search_layout=stack&type=item&tracking_id=6...   \n",
       "6   https://www.mercadolibre.com.mx/shampoo-head-shoulders-humectacion-instantanea-650ml/p/MLM18977460?pdp_filters=category:MLM430117#searchVariation=MLM18977460&position...   \n",
       "7   https://articulo.mercadolibre.com.mx/MLM-962479649-head-shoulders-control-caspa-375ml-3-unidades-_JM#position=15&search_layout=stack&type=item&tracking_id=5b423449-b7...   \n",
       "8   https://www.mercadolibre.com.mx/shampoo-head-shoulders-limpieza-renovadora-3-unidades/p/MLM23459702?pdp_filters=category:MLM430117#searchVariation=MLM23459702&positio...   \n",
       "9   https://www.mercadolibre.com.mx/shampoo-head-shoulders-clinical-strength-en-botella-de-400ml-por-1-unidad/p/MLM19147996?pdp_filters=category:MLM430117#searchVariation...   \n",
       "10  https://www.mercadolibre.com.mx/kit-3-headshoulders-2-shampoo-1-acondicionador-700-ml/p/MLM24532497?pdp_filters=category:MLM430117#searchVariation=MLM24532497&positio...   \n",
       "11  https://articulo.mercadolibre.com.mx/MLM-962472197-kit-3-headshoulders-2-shampoo-1-acondicionador-700-ml-_JM#position=55&search_layout=stack&type=item&tracking_id=7a4...   \n",
       "12  https://articulo.mercadolibre.com.mx/MLM-1414989901-head-shoulders-2-in-1-dry-scalp-care-shampoo-condicioner-_JM#position=23&search_layout=stack&type=item&tracking_id...   \n",
       "13  https://click1.mercadolibre.com.mx/mclics/clicks/external/MLM/count?a=1psa%2FewesgMKnqT9QACNn6E3aBdrElg1Yxp1ooJNnvaYZMuygfWo%2FvwVfvqWjFNBjdHN0NykSAuYZOFsWV8fj8OEJ2lS...   \n",
       "14  https://articulo.mercadolibre.com.mx/MLM-2370666528-shampoo-head-shoulders-carbon-activado-1-litro-_JM#position=30&search_layout=stack&type=item&tracking_id=118cb7b2-...   \n",
       "\n",
       "    Score  Ratings  \\\n",
       "0     5.0       27   \n",
       "1     5.0        5   \n",
       "2     5.0        3   \n",
       "3     5.0        9   \n",
       "4     5.0        7   \n",
       "5     5.0        2   \n",
       "6     5.0        1   \n",
       "7     5.0        7   \n",
       "8     5.0        3   \n",
       "9     5.0        4   \n",
       "10    0.0        0   \n",
       "11    5.0        9   \n",
       "12    5.0        1   \n",
       "13    0.0        0   \n",
       "14    0.0        0   \n",
       "\n",
       "                                                                                                                                                                     Comments  \n",
       "0                                    [El producto cumple perfectamente con mis necesidades, además de que dura muchísimo, su dispensador lo hace fácil de usar, gran compra.]  \n",
       "1   [El producto me pareció fabuloso. Sufro problemas de caspa y escamación en mi cuero cabelludo, donde me dan “ataques” de comezón que provocan irritación y desprendimi...  \n",
       "2                                                                                                                                          [Muy buen producto. Buen calidad.]  \n",
       "3                                                     [Me ayuda con mi cabello tipo graso para evitar la aparición de caspa, además evita durante el día que se vea grasoso.]  \n",
       "4                                                                                                                                                      [Muy bueno la verdad.]  \n",
       "5                                     [Buen aroma y es head and shoulders, la cual es una marca de prestigio y económica en el mercado mexicano, no hay mucho más qué decir.]  \n",
       "6                                                                                                                                                                    [Bueno.]  \n",
       "7                                                                                                                                    [Muy buen producto era lo que esperaba.]  \n",
       "8                                                                                                                                                        [El que uso diario.]  \n",
       "9                                                                                                   [Con 600 pesos me ahorre muchísimo que ya había gastado en dermatólogos.]  \n",
       "10                                                                                                                                                                        [-]  \n",
       "11                                                                           [Buen producto el acondicionador es perfecto.\\nY huele delicioso cumple con lo que se describe.]  \n",
       "12                                                                                                  [Me gustó mucho el producto la calidad es muy buena el tamaño excelente.]  \n",
       "13                                                                                                                                                                        [-]  \n",
       "14                                                                                                                                                                        [-]  "
      ]
     },
     "execution_count": 140,
     "metadata": {},
     "output_type": "execute_result"
    }
   ],
   "source": [
    "# Look for specif word(s)\n",
    "brand_products = []\n",
    "\n",
    "for i in df[df['Score']==5]['Product']:\n",
    "    if (re.search(r'head and shoulders', i, flags=re.IGNORECASE)) or (re.search(r'head & shoulders', i, flags=re.IGNORECASE)) or (re.search(r'. head&shoulders', i, flags=re.IGNORECASE)) or (re.search(r'headandshoulders', i, flags=re.IGNORECASE)) \\\n",
    "       or (re.search(r'head and shoulder', i, flags=re.IGNORECASE)) or (re.search(r'head & shoulder', i, flags=re.IGNORECASE)) or (re.search(r'. head&shoulder', i, flags=re.IGNORECASE)) or (re.search(r'headandshoulder', i, flags=re.IGNORECASE)):\n",
    "        brand_products.append(i)\n",
    "        \n",
    "df_filtered = df[df.Product.isin(brand_products)].reset_index(drop=True)\n",
    "df_filtered = df_filtered.drop_duplicates(subset=['Product', 'Price', 'Score', 'Ratings'], keep='first',ignore_index=True)\n",
    "\n",
    "print(df_filtered.shape)\n",
    "df_filtered"
   ]
  },
  {
   "cell_type": "code",
   "execution_count": 143,
   "metadata": {},
   "outputs": [],
   "source": [
    "df_filtered.to_excel(os.path.join(parent_path,\"h&s_5_stars_{}_{}_{}.xlsx\".format(datetime.today().year,datetime.today().month,datetime.today().day)), index=False)"
   ]
  },
  {
   "cell_type": "code",
   "execution_count": 267,
   "metadata": {},
   "outputs": [
    {
     "name": "stdout",
     "output_type": "stream",
     "text": [
      "81\n",
      "348.23\n"
     ]
    },
    {
     "data": {
      "text/html": [
       "<div>\n",
       "<style scoped>\n",
       "    .dataframe tbody tr th:only-of-type {\n",
       "        vertical-align: middle;\n",
       "    }\n",
       "\n",
       "    .dataframe tbody tr th {\n",
       "        vertical-align: top;\n",
       "    }\n",
       "\n",
       "    .dataframe thead th {\n",
       "        text-align: right;\n",
       "    }\n",
       "</style>\n",
       "<table border=\"1\" class=\"dataframe\">\n",
       "  <thead>\n",
       "    <tr style=\"text-align: right;\">\n",
       "      <th></th>\n",
       "      <th>Product</th>\n",
       "      <th>Price</th>\n",
       "    </tr>\n",
       "  </thead>\n",
       "  <tbody>\n",
       "    <tr>\n",
       "      <th>0</th>\n",
       "      <td>Shampoo Head &amp; Shoulders Men Con Fragancia Old Spice 1 L</td>\n",
       "      <td>159</td>\n",
       "    </tr>\n",
       "    <tr>\n",
       "      <th>1</th>\n",
       "      <td>Shampoo Head &amp; Shoulders 2 En 1 Suave Y Manejable  1 Lt</td>\n",
       "      <td>148</td>\n",
       "    </tr>\n",
       "    <tr>\n",
       "      <th>2</th>\n",
       "      <td>Shampoo Head &amp; Shoulders 2 En 1 Suave Y Manejable 1 L</td>\n",
       "      <td>149</td>\n",
       "    </tr>\n",
       "    <tr>\n",
       "      <th>3</th>\n",
       "      <td>Shampoo Head &amp; Shoulders Clinical Solutions</td>\n",
       "      <td>495</td>\n",
       "    </tr>\n",
       "    <tr>\n",
       "      <th>4</th>\n",
       "      <td>Shampoo Head &amp; Shoulders 2 En 1 Limp Renovadora 1lt (2pack)</td>\n",
       "      <td>298</td>\n",
       "    </tr>\n",
       "    <tr>\n",
       "      <th>5</th>\n",
       "      <td>Shampoo Head &amp; Shoulders Clinical Solutions Formula Renovada</td>\n",
       "      <td>498</td>\n",
       "    </tr>\n",
       "    <tr>\n",
       "      <th>6</th>\n",
       "      <td>Shampoo Head &amp; Shoulders Men Con Fragancia Old Spice 1 Litro</td>\n",
       "      <td>159</td>\n",
       "    </tr>\n",
       "    <tr>\n",
       "      <th>7</th>\n",
       "      <td>576 Sobres/10ml. Shampoo Head &amp; Shoulder Hotelero</td>\n",
       "      <td>1499</td>\n",
       "    </tr>\n",
       "    <tr>\n",
       "      <th>8</th>\n",
       "      <td>Shampoo Head &amp; Shoulder Hotelero 288 Sobres De 10ml</td>\n",
       "      <td>875</td>\n",
       "    </tr>\n",
       "    <tr>\n",
       "      <th>9</th>\n",
       "      <td>Shampoo 2 en 1 Head &amp; Shoulders Suave Y Manejable en botella de 375mL por 1 unidad</td>\n",
       "      <td>50</td>\n",
       "    </tr>\n",
       "  </tbody>\n",
       "</table>\n",
       "</div>"
      ],
      "text/plain": [
       "                                                                              Product  \\\n",
       "0                            Shampoo Head & Shoulders Men Con Fragancia Old Spice 1 L   \n",
       "1                             Shampoo Head & Shoulders 2 En 1 Suave Y Manejable  1 Lt   \n",
       "2                               Shampoo Head & Shoulders 2 En 1 Suave Y Manejable 1 L   \n",
       "3                                        Shampoo Head & Shoulders Clinical Solutions    \n",
       "4                         Shampoo Head & Shoulders 2 En 1 Limp Renovadora 1lt (2pack)   \n",
       "5                        Shampoo Head & Shoulders Clinical Solutions Formula Renovada   \n",
       "6                        Shampoo Head & Shoulders Men Con Fragancia Old Spice 1 Litro   \n",
       "7                                   576 Sobres/10ml. Shampoo Head & Shoulder Hotelero   \n",
       "8                                 Shampoo Head & Shoulder Hotelero 288 Sobres De 10ml   \n",
       "9  Shampoo 2 en 1 Head & Shoulders Suave Y Manejable en botella de 375mL por 1 unidad   \n",
       "\n",
       "   Price  \n",
       "0    159  \n",
       "1    148  \n",
       "2    149  \n",
       "3    495  \n",
       "4    298  \n",
       "5    498  \n",
       "6    159  \n",
       "7   1499  \n",
       "8    875  \n",
       "9     50  "
      ]
     },
     "execution_count": 267,
     "metadata": {},
     "output_type": "execute_result"
    }
   ],
   "source": [
    "count = 0\n",
    "brand_producs = []\n",
    "brand_prices = []\n",
    "for i in range(df.__len__()):\n",
    "    if (re.search('head.', df.loc[i,'Product'], flags=re.IGNORECASE)) or (re.search('h&s.', df.loc[i,'Product'], flags=re.IGNORECASE)) or (re.search('head & shoulders.', df.loc[i,'Product'], flags=re.IGNORECASE)):\n",
    "        count += 1\n",
    "        brand_producs.append(df.loc[i,'Product'])\n",
    "        brand_prices.append(df.loc[i,'Price'])\n",
    "print(count)\n",
    "\n",
    "brand_df = pd.DataFrame(data={'Product':brand_producs, 'Price':brand_prices})\n",
    "print(round(brand_df.Price.mean(), 2))\n",
    "brand_df.head(10)"
   ]
  },
  {
   "attachments": {},
   "cell_type": "markdown",
   "metadata": {},
   "source": [
    "----------------------------------------"
   ]
  },
  {
   "cell_type": "code",
   "execution_count": 20,
   "metadata": {},
   "outputs": [],
   "source": [
    "import pandas as pd\n",
    "import webbrowser\n",
    "import requests\n",
    "import bs4\n",
    "from IPython.display import display"
   ]
  },
  {
   "cell_type": "code",
   "execution_count": 23,
   "metadata": {},
   "outputs": [
    {
     "name": "stdout",
     "output_type": "stream",
     "text": [
      "Response status code: 200\n",
      "***************Crema Para Peinar Rizos | MercadoLibre 📦***************\n",
      "Total pages: 19\n",
      "Current page: 1\n",
      "\n",
      "\n",
      "Total products retrieved: 998\n"
     ]
    },
    {
     "data": {
      "text/html": [
       "<div>\n",
       "<style scoped>\n",
       "    .dataframe tbody tr th:only-of-type {\n",
       "        vertical-align: middle;\n",
       "    }\n",
       "\n",
       "    .dataframe tbody tr th {\n",
       "        vertical-align: top;\n",
       "    }\n",
       "\n",
       "    .dataframe thead th {\n",
       "        text-align: right;\n",
       "    }\n",
       "</style>\n",
       "<table border=\"1\" class=\"dataframe\">\n",
       "  <thead>\n",
       "    <tr style=\"text-align: right;\">\n",
       "      <th></th>\n",
       "      <th>Brand</th>\n",
       "      <th>Product</th>\n",
       "      <th>Price</th>\n",
       "      <th>Link</th>\n",
       "    </tr>\n",
       "  </thead>\n",
       "  <tbody>\n",
       "    <tr>\n",
       "      <th>0</th>\n",
       "      <td>CANTU</td>\n",
       "      <td>Crema Para Peinar Cantu Shea Butter Para Rizos 355ml</td>\n",
       "      <td>156</td>\n",
       "      <td>https://www.mercadolibre.com.mx/crema-para-peinar-cantu-shea-butter-para-rizos-355ml/p/MLM18977626?pdp_filters=category:MLM171893#searchVariation=MLM18977626&amp;position...</td>\n",
       "    </tr>\n",
       "    <tr>\n",
       "      <th>1</th>\n",
       "      <td>KOLOR SHOT</td>\n",
       "      <td>Tratamiento Profesional Rizos Definidos Kolor Shot® 250 Ml</td>\n",
       "      <td>77</td>\n",
       "      <td>https://www.mercadolibre.com.mx/tratamiento-profesional-rizos-definidos-kolor-shot-250-ml/p/MLM19876322?pdp_filters=category:MLM171893#searchVariation=MLM19876322&amp;pos...</td>\n",
       "    </tr>\n",
       "    <tr>\n",
       "      <th>2</th>\n",
       "      <td>CANTU</td>\n",
       "      <td>Crema Hidratante Activador De Rizos Cantu  12 Fl Oz/ 355 Ml</td>\n",
       "      <td>183</td>\n",
       "      <td>https://articulo.mercadolibre.com.mx/MLM-807592440-crema-hidratante-activador-de-rizos-cantu-12-fl-oz-355-ml-_JM#position=25&amp;search_layout=stack&amp;type=item&amp;tracking_id...</td>\n",
       "    </tr>\n",
       "    <tr>\n",
       "      <th>3</th>\n",
       "      <td>CANTU</td>\n",
       "      <td>Crema Para Peinar Cantu Shea Butter Para Rizos 340g</td>\n",
       "      <td>144</td>\n",
       "      <td>https://www.mercadolibre.com.mx/crema-para-peinar-cantu-shea-butter-para-rizos-340g/p/MLM18977688?pdp_filters=category:MLM171893#searchVariation=MLM18977688&amp;position=...</td>\n",
       "    </tr>\n",
       "    <tr>\n",
       "      <th>4</th>\n",
       "      <td>CANTU</td>\n",
       "      <td>Cantu Crema De Peinar Shea Butter Para Rizos 355ml</td>\n",
       "      <td>156</td>\n",
       "      <td>https://articulo.mercadolibre.com.mx/MLM-1498288314-cantu-crema-de-peinar-shea-butter-para-rizos-355ml-_JM#position=26&amp;search_layout=stack&amp;type=item&amp;tracking_id=67323...</td>\n",
       "    </tr>\n",
       "  </tbody>\n",
       "</table>\n",
       "</div>"
      ],
      "text/plain": [
       "        Brand                                                      Product  \\\n",
       "0       CANTU         Crema Para Peinar Cantu Shea Butter Para Rizos 355ml   \n",
       "1  KOLOR SHOT   Tratamiento Profesional Rizos Definidos Kolor Shot® 250 Ml   \n",
       "2       CANTU  Crema Hidratante Activador De Rizos Cantu  12 Fl Oz/ 355 Ml   \n",
       "3       CANTU          Crema Para Peinar Cantu Shea Butter Para Rizos 340g   \n",
       "4       CANTU           Cantu Crema De Peinar Shea Butter Para Rizos 355ml   \n",
       "\n",
       "   Price  \\\n",
       "0    156   \n",
       "1     77   \n",
       "2    183   \n",
       "3    144   \n",
       "4    156   \n",
       "\n",
       "                                                                                                                                                                        Link  \n",
       "0  https://www.mercadolibre.com.mx/crema-para-peinar-cantu-shea-butter-para-rizos-355ml/p/MLM18977626?pdp_filters=category:MLM171893#searchVariation=MLM18977626&position...  \n",
       "1  https://www.mercadolibre.com.mx/tratamiento-profesional-rizos-definidos-kolor-shot-250-ml/p/MLM19876322?pdp_filters=category:MLM171893#searchVariation=MLM19876322&pos...  \n",
       "2  https://articulo.mercadolibre.com.mx/MLM-807592440-crema-hidratante-activador-de-rizos-cantu-12-fl-oz-355-ml-_JM#position=25&search_layout=stack&type=item&tracking_id...  \n",
       "3  https://www.mercadolibre.com.mx/crema-para-peinar-cantu-shea-butter-para-rizos-340g/p/MLM18977688?pdp_filters=category:MLM171893#searchVariation=MLM18977688&position=...  \n",
       "4  https://articulo.mercadolibre.com.mx/MLM-1498288314-cantu-crema-de-peinar-shea-butter-para-rizos-355ml-_JM#position=26&search_layout=stack&type=item&tracking_id=67323...  "
      ]
     },
     "metadata": {},
     "output_type": "display_data"
    }
   ],
   "source": [
    "search = input('Insert your search:')\n",
    "url = 'https://listado.mercadolibre.com.mx/{}#D[A:{}]'.format(search.replace(' ','-'), search)\n",
    "request = requests.get(url)\n",
    "print(f'Response status code: {request.status_code}')\n",
    "content = request.text\n",
    "soup = bs4.BeautifulSoup(content, 'html.parser') # HTML document\n",
    "\n",
    "total_pages = int(soup.find_all(\"div\", {\"class\":\"ui-search-pagination shops__pagination-content\"})[0].find(class_=\"andes-pagination__page-count\").text.replace(\"de \",\"\"))\n",
    "current_page = soup.find_all(\"div\", {\"class\":\"ui-search-pagination shops__pagination-content\"})[0].find(\"li\").text # See actual page\n",
    "print(f'***************{soup.title.text}***************')\n",
    "print('Total pages: {}'.format(total_pages))\n",
    "print('Current page: {}\\n\\n'.format(current_page))\n",
    "\n",
    "brands = []\n",
    "products = []\n",
    "prices = []\n",
    "scores = []\n",
    "comments = []\n",
    "links = []\n",
    "\n",
    "for page in range(1,total_pages+1):\n",
    "\n",
    "    if page == 1:\n",
    "        url_page = 'https://listado.mercadolibre.com.mx/{}_NoIndex_True'.format(search.replace(' ','-'))\n",
    "        request_page = requests.get(url_page)\n",
    "        content_page = request_page.text\n",
    "        soup_page = bs4.BeautifulSoup(content_page, 'html.parser')\n",
    "        tag_filter_page = soup_page.find_all(\"div\", {\"class\":\"ui-search-result__content-wrapper shops__result-content-wrapper\"})\n",
    "\n",
    "        for tag in tag_filter_page:\n",
    "            brands.append(tag.find(class_=\"ui-search-item__brand-discoverability ui-search-item__group__element shops__items-group-details\").text)\n",
    "            products.append(tag.find(\"h2\").text)\n",
    "            prices.append(tag.find(class_=\"price-tag-fraction\").text)\n",
    "            links.append(tag.find(\"a\")[\"href\"])\n",
    "\n",
    "    else:\n",
    "        url_page = 'https://listado.mercadolibre.com.mx/{}_Desde_{}_NoIndex_True'.format(search.replace(' ','-'),(page*50)+1)\n",
    "        request_page = requests.get(url_page)\n",
    "        content_page = request_page.text\n",
    "        soup_page = bs4.BeautifulSoup(content_page, 'html.parser')\n",
    "        tag_filter_page = soup_page.find_all(\"div\", {\"class\":\"ui-search-result__content-wrapper shops__result-content-wrapper\"})\n",
    "\n",
    "        for tag in tag_filter_page:\n",
    "            brands.append(tag.find(class_=\"ui-search-item__brand-discoverability ui-search-item__group__element shops__items-group-details\").text)\n",
    "            products.append(tag.find(\"h2\").text)\n",
    "            prices.append(tag.find(class_=\"price-tag-fraction\").text)\n",
    "            links.append(tag.find(\"a\")[\"href\"])\n",
    "        \n",
    "\n",
    "data = {}\n",
    "data[\"Brand\"] = brands\n",
    "data['Product'] = products\n",
    "data['Price'] = prices\n",
    "'''data['Score'] = scores\n",
    "data['Comentarios'] = comments'''\n",
    "data[\"Link\"] = links\n",
    "\n",
    "df = pd.DataFrame(data = data)\n",
    "df = df.drop_duplicates(ignore_index=True)\n",
    "df['Brand'] = df['Brand'].apply(lambda x: \"-\" if x == '' else x)\n",
    "df['Price'] = df['Price'].apply(lambda x: x.replace(\",\",\"\"))\n",
    "df['Price'] = df['Price'].astype(int)\n",
    "print('Total products retrieved: {}'.format(df.shape[0]))\n",
    "display(df.head())"
   ]
  },
  {
   "cell_type": "code",
   "execution_count": 520,
   "metadata": {},
   "outputs": [
    {
     "name": "stdout",
     "output_type": "stream",
     "text": [
      "Response status code: 200\n",
      "Total pages: []\n",
      "Iphone 3 | MercadoLibre 📦\n"
     ]
    }
   ],
   "source": [
    "request_ = requests.get('https://listado.mercadolibre.com.mx/iphone-3#D[A:iphone%203]')\n",
    "print(f'Response status code: {request_.status_code}')\n",
    "content_ = request_.text\n",
    "soup_ = bs4.BeautifulSoup(content_, 'html.parser') # HTML document\n",
    "total_pages = soup_.find_all(\"div\", {\"class\":\"ui-search-pagination shops__pagination-content\"})#[0].find(class_=\"andes-pagination__page-count\").text.replace(\"de \",\"\"))\n",
    "print('Total pages: {}'.format(total_pages))\n",
    "print(soup_.title.text)"
   ]
  },
  {
   "cell_type": "code",
   "execution_count": 527,
   "metadata": {},
   "outputs": [
    {
     "data": {
      "text/plain": [
       "0"
      ]
     },
     "execution_count": 527,
     "metadata": {},
     "output_type": "execute_result"
    }
   ],
   "source": [
    "soup_.find_all(\"div\", {\"class\":\"ui-search-pagination shops__pagination-content\"}).__len__()"
   ]
  },
  {
   "cell_type": "code",
   "execution_count": 441,
   "metadata": {},
   "outputs": [
    {
     "data": {
      "text/plain": [
       "[<article aria-roledescription=\"Review\" class=\"ui-review-capability-comments__comment\" data-testid=\"comment-component\"><div class=\"ui-review-capability-comments__comment__header\"><div class=\"ui-review-capability-comments__comment__rating-container\"><div class=\"ui-review-capability-comments__comment__rating\"><svg aria-hidden=\"true\" class=\"ui-review-capability-comments__comment__rating__star\" height=\"16\" viewbox=\"0 0 10 10\" width=\"16.8\"><path d=\"M5.056 8L1.931 9.648l.597-3.49L0 3.684l3.494-.509L5.056 0l1.562 3.176 3.494.51-2.528 2.471.597 3.491z\" fill=\"#3483FA\" fill-rule=\"evenodd\"></path></svg><svg aria-hidden=\"true\" class=\"ui-review-capability-comments__comment__rating__star\" height=\"16\" viewbox=\"0 0 10 10\" width=\"16.8\"><path d=\"M5.056 8L1.931 9.648l.597-3.49L0 3.684l3.494-.509L5.056 0l1.562 3.176 3.494.51-2.528 2.471.597 3.491z\" fill=\"#3483FA\" fill-rule=\"evenodd\"></path></svg><svg aria-hidden=\"true\" class=\"ui-review-capability-comments__comment__rating__star\" height=\"16\" viewbox=\"0 0 10 10\" width=\"16.8\"><path d=\"M5.056 8L1.931 9.648l.597-3.49L0 3.684l3.494-.509L5.056 0l1.562 3.176 3.494.51-2.528 2.471.597 3.491z\" fill=\"#3483FA\" fill-rule=\"evenodd\"></path></svg><svg aria-hidden=\"true\" class=\"ui-review-capability-comments__comment__rating__star\" height=\"16\" viewbox=\"0 0 10 10\" width=\"16.8\"><path d=\"M5.056 8L1.931 9.648l.597-3.49L0 3.684l3.494-.509L5.056 0l1.562 3.176 3.494.51-2.528 2.471.597 3.491z\" fill=\"#3483FA\" fill-rule=\"evenodd\"></path></svg><svg aria-hidden=\"true\" class=\"ui-review-capability-comments__comment__rating__star\" height=\"16\" viewbox=\"0 0 10 10\" width=\"16.8\"><path d=\"M5.056 8L1.931 9.648l.597-3.49L0 3.684l3.494-.509L5.056 0l1.562 3.176 3.494.51-2.528 2.471.597 3.491z\" fill=\"#3483FA\" fill-rule=\"evenodd\"></path></svg><label class=\"andes-visually-hidden\">5</label></div><span class=\"ui-review-capability-comments__comment__date\">16 dic 2021</span></div></div><p class=\"ui-review-capability-comments__comment__content\" data-testid=\"comment-content-component\" role=\"presentation\">Producto relativamente caro , pero hace muy bien su trabajo , se ve la diferencia en el cabello desde el primer uso, y con el uso continuo sin duda elimina el problema de la caspa , muy recomendado.</p><div class=\"ui-review-capability-comments__comment__footer\"><div class=\"ui-review-capability-valorizations\"><button active=\"true\" aria-checked=\"false\" aria-label=\"3 likes\" class=\"andes-button ui-review-capability-valorizations__button ui-review-capability-valorizations__button-like andes-button--large andes-button--transparent\" data-testid=\"like-button\" role=\"switch\" type=\"button\"><span class=\"andes-button__content\"><span class=\"ui-review-capability-valorizations__button-like__text\">Es útil</span><svg class=\"[object Object]\" fill=\"none\" height=\"16\" viewbox=\"0 0 16 16\" width=\"16\" xmlns=\"http://www.w3.org/2000/svg\"><path clip-rule=\"evenodd\" d=\"M5.02125 6.25775L5.87824 5.91279L8.37994 0.751802L9.40301 1.24803C10.7777 1.91481 11.4317 3.50825 10.9218 4.94852L10.6452 5.72977L13.4447 5.69542C13.737 5.69184 14.0274 5.74166 14.3018 5.84245C15.546 6.29952 16.184 7.67866 15.727 8.92284L14.5609 12.0968C13.8627 13.9974 11.9079 15.1293 9.91198 14.7887L6.35827 14.1822L5.11866 14.1974L5.13337 15.3972L0.984325 15.4481L0.859204 5.24885L5.00825 5.19795L5.02125 6.25775ZM6.75603 6.85303L8.93573 2.3563C9.72188 2.77187 10.0895 3.7038 9.79057 4.54802L8.93988 6.95078L13.4594 6.89533C13.6056 6.89354 13.7508 6.91845 13.888 6.96885C14.5101 7.19738 14.8291 7.88695 14.6006 8.50904L13.4345 11.683C12.9358 13.0406 11.5395 13.8491 10.1139 13.6058L6.50639 12.9901L6.39809 12.9816L5.10394 12.9975L5.03705 7.54496L6.75603 6.85303ZM3.91858 14.212L2.16951 14.2334L2.07383 6.43404L3.82306 6.41258L3.91858 14.212Z\" fill=\"black\" fill-opacity=\"0.55\" fill-rule=\"evenodd\"></path></svg><p class=\"ui-review-capability-valorizations__button-like__text\">3</p></span></button><button aria-checked=\"false\" aria-label=\"undefined dislikes\" class=\"andes-button ui-review-capability-valorizations__button ui-review-capability-valorizations__button-dislike andes-button--large andes-button--transparent\" data-testid=\"dislike-button\" role=\"switch\" type=\"button\"><span class=\"andes-button__content\"><svg class=\"ui-review-capability-valorizations__likes__dislike\" fill=\"none\" height=\"15\" viewbox=\"0 0 16 15\" width=\"16\" xmlns=\"http://www.w3.org/2000/svg\"><path clip-rule=\"evenodd\" d=\"M4.28509 9.57387L5.15029 9.89771L7.77783 14.9958L8.78843 14.4746C10.1464 13.7743 10.7611 12.1653 10.2159 10.738L9.92027 9.96373L12.7198 9.92939C13.0121 9.9258 13.3012 9.86887 13.573 9.76138C14.8056 9.27393 15.4097 7.87955 14.9222 6.64695L13.6787 3.50252C12.934 1.61963 10.952 0.536042 8.96507 0.925534L5.42731 1.61902L4.18769 1.63423L4.17298 0.434452L0.0239258 0.485352L0.149047 10.6846L4.2981 10.6337L4.28509 9.57387ZM6.00474 8.93622L8.2941 13.3781C9.06982 12.9434 9.41444 12.0027 9.09492 11.1661L8.18554 8.78492L12.7051 8.72948C12.8512 8.72768 12.9958 8.69921 13.1317 8.64547C13.748 8.40175 14.05 7.70456 13.8063 7.08826L12.5628 3.94383C12.0309 2.59891 10.6152 1.82491 9.19591 2.10312L5.60462 2.8071L5.49657 2.81826L4.20241 2.83414L4.2693 8.28666L6.00474 8.93622ZM2.98762 1.64908L1.23856 1.67054L1.33424 9.46994L3.08347 9.44848L2.98762 1.64908Z\" fill=\"black\" fill-opacity=\"0.55\" fill-rule=\"evenodd\"></path></svg></span></button></div><div class=\"ui-review-capability-comments__review-comment__denounce\" data-testid=\"denounce-button\"><div class=\"andes-tooltip__trigger\"><button class=\"ui-review-capability-comments__review-comment__denounce-button\" data-testid=\"denounce-button-vpp\"><span class=\"andes-visually-hidden\" role=\"button\">Reportar</span><span class=\"denounce-dropdown__circle\"></span><span class=\"denounce-dropdown__circle\"></span><span class=\"denounce-dropdown__circle\"></span></button></div></div></div></article>,\n",
       " <article aria-roledescription=\"Review\" class=\"ui-review-capability-comments__comment\" data-testid=\"comment-component\"><div class=\"ui-review-capability-comments__comment__header\"><div class=\"ui-review-capability-comments__comment__rating-container\"><div class=\"ui-review-capability-comments__comment__rating\"><svg aria-hidden=\"true\" class=\"ui-review-capability-comments__comment__rating__star\" height=\"16\" viewbox=\"0 0 10 10\" width=\"16.8\"><path d=\"M5.056 8L1.931 9.648l.597-3.49L0 3.684l3.494-.509L5.056 0l1.562 3.176 3.494.51-2.528 2.471.597 3.491z\" fill=\"#3483FA\" fill-rule=\"evenodd\"></path></svg><svg aria-hidden=\"true\" class=\"ui-review-capability-comments__comment__rating__star\" height=\"16\" viewbox=\"0 0 10 10\" width=\"16.8\"><path d=\"M5.056 8L1.931 9.648l.597-3.49L0 3.684l3.494-.509L5.056 0l1.562 3.176 3.494.51-2.528 2.471.597 3.491z\" fill=\"#3483FA\" fill-rule=\"evenodd\"></path></svg><svg aria-hidden=\"true\" class=\"ui-review-capability-comments__comment__rating__star\" height=\"16\" viewbox=\"0 0 10 10\" width=\"16.8\"><path d=\"M5.056 8L1.931 9.648l.597-3.49L0 3.684l3.494-.509L5.056 0l1.562 3.176 3.494.51-2.528 2.471.597 3.491z\" fill=\"#3483FA\" fill-rule=\"evenodd\"></path></svg><svg aria-hidden=\"true\" class=\"ui-review-capability-comments__comment__rating__star\" height=\"16\" viewbox=\"0 0 10 10\" width=\"16.8\"><path d=\"M5.056 8L1.931 9.648l.597-3.49L0 3.684l3.494-.509L5.056 0l1.562 3.176 3.494.51-2.528 2.471.597 3.491z\" fill=\"#3483FA\" fill-rule=\"evenodd\"></path></svg><svg aria-hidden=\"true\" class=\"ui-review-capability-comments__comment__rating__star\" height=\"16\" viewbox=\"0 0 10 10\" width=\"16.8\"><path d=\"M5.056 8L1.931 9.648l.597-3.49L0 3.684l3.494-.509L5.056 0l1.562 3.176 3.494.51-2.528 2.471.597 3.491z\" fill=\"#3483FA\" fill-rule=\"evenodd\"></path></svg><label class=\"andes-visually-hidden\">5</label></div><span class=\"ui-review-capability-comments__comment__date\">19 ago 2021</span></div></div><p class=\"ui-review-capability-comments__comment__content\" data-testid=\"comment-content-component\" role=\"presentation\">El precio es muy bueno, excelente, el tratamiento me ha ayudado y es el único que me ayudado de verdad, tengo cabello rizado y la resequedad es un martirio, aunado a la caspa. Muy bien producto.</p><div class=\"ui-review-capability-comments__comment__footer\"><div class=\"ui-review-capability-valorizations\"><button active=\"true\" aria-checked=\"false\" aria-label=\"2 likes\" class=\"andes-button ui-review-capability-valorizations__button ui-review-capability-valorizations__button-like andes-button--large andes-button--transparent\" data-testid=\"like-button\" role=\"switch\" type=\"button\"><span class=\"andes-button__content\"><span class=\"ui-review-capability-valorizations__button-like__text\">Es útil</span><svg class=\"[object Object]\" fill=\"none\" height=\"16\" viewbox=\"0 0 16 16\" width=\"16\" xmlns=\"http://www.w3.org/2000/svg\"><path clip-rule=\"evenodd\" d=\"M5.02125 6.25775L5.87824 5.91279L8.37994 0.751802L9.40301 1.24803C10.7777 1.91481 11.4317 3.50825 10.9218 4.94852L10.6452 5.72977L13.4447 5.69542C13.737 5.69184 14.0274 5.74166 14.3018 5.84245C15.546 6.29952 16.184 7.67866 15.727 8.92284L14.5609 12.0968C13.8627 13.9974 11.9079 15.1293 9.91198 14.7887L6.35827 14.1822L5.11866 14.1974L5.13337 15.3972L0.984325 15.4481L0.859204 5.24885L5.00825 5.19795L5.02125 6.25775ZM6.75603 6.85303L8.93573 2.3563C9.72188 2.77187 10.0895 3.7038 9.79057 4.54802L8.93988 6.95078L13.4594 6.89533C13.6056 6.89354 13.7508 6.91845 13.888 6.96885C14.5101 7.19738 14.8291 7.88695 14.6006 8.50904L13.4345 11.683C12.9358 13.0406 11.5395 13.8491 10.1139 13.6058L6.50639 12.9901L6.39809 12.9816L5.10394 12.9975L5.03705 7.54496L6.75603 6.85303ZM3.91858 14.212L2.16951 14.2334L2.07383 6.43404L3.82306 6.41258L3.91858 14.212Z\" fill=\"black\" fill-opacity=\"0.55\" fill-rule=\"evenodd\"></path></svg><p class=\"ui-review-capability-valorizations__button-like__text\">2</p></span></button><button aria-checked=\"false\" aria-label=\"undefined dislikes\" class=\"andes-button ui-review-capability-valorizations__button ui-review-capability-valorizations__button-dislike andes-button--large andes-button--transparent\" data-testid=\"dislike-button\" role=\"switch\" type=\"button\"><span class=\"andes-button__content\"><svg class=\"ui-review-capability-valorizations__likes__dislike\" fill=\"none\" height=\"15\" viewbox=\"0 0 16 15\" width=\"16\" xmlns=\"http://www.w3.org/2000/svg\"><path clip-rule=\"evenodd\" d=\"M4.28509 9.57387L5.15029 9.89771L7.77783 14.9958L8.78843 14.4746C10.1464 13.7743 10.7611 12.1653 10.2159 10.738L9.92027 9.96373L12.7198 9.92939C13.0121 9.9258 13.3012 9.86887 13.573 9.76138C14.8056 9.27393 15.4097 7.87955 14.9222 6.64695L13.6787 3.50252C12.934 1.61963 10.952 0.536042 8.96507 0.925534L5.42731 1.61902L4.18769 1.63423L4.17298 0.434452L0.0239258 0.485352L0.149047 10.6846L4.2981 10.6337L4.28509 9.57387ZM6.00474 8.93622L8.2941 13.3781C9.06982 12.9434 9.41444 12.0027 9.09492 11.1661L8.18554 8.78492L12.7051 8.72948C12.8512 8.72768 12.9958 8.69921 13.1317 8.64547C13.748 8.40175 14.05 7.70456 13.8063 7.08826L12.5628 3.94383C12.0309 2.59891 10.6152 1.82491 9.19591 2.10312L5.60462 2.8071L5.49657 2.81826L4.20241 2.83414L4.2693 8.28666L6.00474 8.93622ZM2.98762 1.64908L1.23856 1.67054L1.33424 9.46994L3.08347 9.44848L2.98762 1.64908Z\" fill=\"black\" fill-opacity=\"0.55\" fill-rule=\"evenodd\"></path></svg></span></button></div><div class=\"ui-review-capability-comments__review-comment__denounce\" data-testid=\"denounce-button\"><div class=\"andes-tooltip__trigger\"><button class=\"ui-review-capability-comments__review-comment__denounce-button\" data-testid=\"denounce-button-vpp\"><span class=\"andes-visually-hidden\" role=\"button\">Reportar</span><span class=\"denounce-dropdown__circle\"></span><span class=\"denounce-dropdown__circle\"></span><span class=\"denounce-dropdown__circle\"></span></button></div></div></div></article>,\n",
       " <article aria-roledescription=\"Review\" class=\"ui-review-capability-comments__comment\" data-testid=\"comment-component\"><div class=\"ui-review-capability-comments__comment__header\"><div class=\"ui-review-capability-comments__comment__rating-container\"><div class=\"ui-review-capability-comments__comment__rating\"><svg aria-hidden=\"true\" class=\"ui-review-capability-comments__comment__rating__star\" height=\"16\" viewbox=\"0 0 10 10\" width=\"16.8\"><path d=\"M5.056 8L1.931 9.648l.597-3.49L0 3.684l3.494-.509L5.056 0l1.562 3.176 3.494.51-2.528 2.471.597 3.491z\" fill=\"#3483FA\" fill-rule=\"evenodd\"></path></svg><svg aria-hidden=\"true\" class=\"ui-review-capability-comments__comment__rating__star\" height=\"16\" viewbox=\"0 0 10 10\" width=\"16.8\"><path d=\"M5.056 8L1.931 9.648l.597-3.49L0 3.684l3.494-.509L5.056 0l1.562 3.176 3.494.51-2.528 2.471.597 3.491z\" fill=\"#3483FA\" fill-rule=\"evenodd\"></path></svg><svg aria-hidden=\"true\" class=\"ui-review-capability-comments__comment__rating__star\" height=\"16\" viewbox=\"0 0 10 10\" width=\"16.8\"><path d=\"M5.056 8L1.931 9.648l.597-3.49L0 3.684l3.494-.509L5.056 0l1.562 3.176 3.494.51-2.528 2.471.597 3.491z\" fill=\"#3483FA\" fill-rule=\"evenodd\"></path></svg><svg aria-hidden=\"true\" class=\"ui-review-capability-comments__comment__rating__star\" height=\"16\" viewbox=\"0 0 10 10\" width=\"16.8\"><path d=\"M5.056 8L1.931 9.648l.597-3.49L0 3.684l3.494-.509L5.056 0l1.562 3.176 3.494.51-2.528 2.471.597 3.491z\" fill=\"#3483FA\" fill-rule=\"evenodd\"></path></svg><svg aria-hidden=\"true\" class=\"ui-review-capability-comments__comment__rating__star\" height=\"16\" viewbox=\"0 0 10 10\" width=\"16.8\"><path d=\"M5.056 8L1.931 9.648l.597-3.49L0 3.684l3.494-.509L5.056 0l1.562 3.176 3.494.51-2.528 2.471.597 3.491z\" fill=\"#3483FA\" fill-rule=\"evenodd\"></path></svg><label class=\"andes-visually-hidden\">5</label></div><span class=\"ui-review-capability-comments__comment__date\">09 dic 2022</span></div></div><p class=\"ui-review-capability-comments__comment__content\" data-testid=\"comment-content-component\" role=\"presentation\">Excelente producto cumple con lo prometido estoy tan sorprendida.</p><div class=\"ui-review-capability-comments__comment__footer\"><div class=\"ui-review-capability-valorizations\"><button active=\"true\" aria-checked=\"false\" aria-label=\"1 likes\" class=\"andes-button ui-review-capability-valorizations__button ui-review-capability-valorizations__button-like andes-button--large andes-button--transparent\" data-testid=\"like-button\" role=\"switch\" type=\"button\"><span class=\"andes-button__content\"><span class=\"ui-review-capability-valorizations__button-like__text\">Es útil</span><svg class=\"[object Object]\" fill=\"none\" height=\"16\" viewbox=\"0 0 16 16\" width=\"16\" xmlns=\"http://www.w3.org/2000/svg\"><path clip-rule=\"evenodd\" d=\"M5.02125 6.25775L5.87824 5.91279L8.37994 0.751802L9.40301 1.24803C10.7777 1.91481 11.4317 3.50825 10.9218 4.94852L10.6452 5.72977L13.4447 5.69542C13.737 5.69184 14.0274 5.74166 14.3018 5.84245C15.546 6.29952 16.184 7.67866 15.727 8.92284L14.5609 12.0968C13.8627 13.9974 11.9079 15.1293 9.91198 14.7887L6.35827 14.1822L5.11866 14.1974L5.13337 15.3972L0.984325 15.4481L0.859204 5.24885L5.00825 5.19795L5.02125 6.25775ZM6.75603 6.85303L8.93573 2.3563C9.72188 2.77187 10.0895 3.7038 9.79057 4.54802L8.93988 6.95078L13.4594 6.89533C13.6056 6.89354 13.7508 6.91845 13.888 6.96885C14.5101 7.19738 14.8291 7.88695 14.6006 8.50904L13.4345 11.683C12.9358 13.0406 11.5395 13.8491 10.1139 13.6058L6.50639 12.9901L6.39809 12.9816L5.10394 12.9975L5.03705 7.54496L6.75603 6.85303ZM3.91858 14.212L2.16951 14.2334L2.07383 6.43404L3.82306 6.41258L3.91858 14.212Z\" fill=\"black\" fill-opacity=\"0.55\" fill-rule=\"evenodd\"></path></svg><p class=\"ui-review-capability-valorizations__button-like__text\">1</p></span></button><button aria-checked=\"false\" aria-label=\"undefined dislikes\" class=\"andes-button ui-review-capability-valorizations__button ui-review-capability-valorizations__button-dislike andes-button--large andes-button--transparent\" data-testid=\"dislike-button\" role=\"switch\" type=\"button\"><span class=\"andes-button__content\"><svg class=\"ui-review-capability-valorizations__likes__dislike\" fill=\"none\" height=\"15\" viewbox=\"0 0 16 15\" width=\"16\" xmlns=\"http://www.w3.org/2000/svg\"><path clip-rule=\"evenodd\" d=\"M4.28509 9.57387L5.15029 9.89771L7.77783 14.9958L8.78843 14.4746C10.1464 13.7743 10.7611 12.1653 10.2159 10.738L9.92027 9.96373L12.7198 9.92939C13.0121 9.9258 13.3012 9.86887 13.573 9.76138C14.8056 9.27393 15.4097 7.87955 14.9222 6.64695L13.6787 3.50252C12.934 1.61963 10.952 0.536042 8.96507 0.925534L5.42731 1.61902L4.18769 1.63423L4.17298 0.434452L0.0239258 0.485352L0.149047 10.6846L4.2981 10.6337L4.28509 9.57387ZM6.00474 8.93622L8.2941 13.3781C9.06982 12.9434 9.41444 12.0027 9.09492 11.1661L8.18554 8.78492L12.7051 8.72948C12.8512 8.72768 12.9958 8.69921 13.1317 8.64547C13.748 8.40175 14.05 7.70456 13.8063 7.08826L12.5628 3.94383C12.0309 2.59891 10.6152 1.82491 9.19591 2.10312L5.60462 2.8071L5.49657 2.81826L4.20241 2.83414L4.2693 8.28666L6.00474 8.93622ZM2.98762 1.64908L1.23856 1.67054L1.33424 9.46994L3.08347 9.44848L2.98762 1.64908Z\" fill=\"black\" fill-opacity=\"0.55\" fill-rule=\"evenodd\"></path></svg></span></button></div><div class=\"ui-review-capability-comments__review-comment__denounce\" data-testid=\"denounce-button\"><div class=\"andes-tooltip__trigger\"><button class=\"ui-review-capability-comments__review-comment__denounce-button\" data-testid=\"denounce-button-vpp\"><span class=\"andes-visually-hidden\" role=\"button\">Reportar</span><span class=\"denounce-dropdown__circle\"></span><span class=\"denounce-dropdown__circle\"></span><span class=\"denounce-dropdown__circle\"></span></button></div></div></div></article>]"
      ]
     },
     "execution_count": 441,
     "metadata": {},
     "output_type": "execute_result"
    }
   ],
   "source": [
    "soup_.find_all('article', {\"class\":\"ui-review-capability-comments__comment\"})"
   ]
  },
  {
   "cell_type": "code",
   "execution_count": 494,
   "metadata": {},
   "outputs": [
    {
     "name": "stdout",
     "output_type": "stream",
     "text": [
      "3\n",
      "3\n"
     ]
    },
    {
     "data": {
      "text/plain": [
       "['Producto relativamente caro , pero hace muy bien su trabajo , se ve la diferencia en el cabello desde el primer uso, y con el uso continuo sin duda elimina el problema de la caspa , muy recomendado.',\n",
       " 'El precio es muy bueno, excelente, el tratamiento me ha ayudado y es el único que me ayudado de verdad, tengo cabello rizado y la resequedad es un martirio, aunado a la caspa. Muy bien producto.',\n",
       " 'Excelente producto cumple con lo prometido estoy tan sorprendida.']"
      ]
     },
     "execution_count": 494,
     "metadata": {},
     "output_type": "execute_result"
    }
   ],
   "source": [
    "v = []\n",
    "l = soup_.find_all('article', {\"class\":\"ui-review-capability-comments__comment\"}) #[2].find('p', class_=\"ui-review-capability-comments__comment__content\").text\n",
    "print(l.__len__())\n",
    "for c in l:\n",
    "    v.append(c.find('p', class_=\"ui-review-capability-comments__comment__content\").text)\n",
    "print(l.__len__())\n",
    "v"
   ]
  },
  {
   "cell_type": "code",
   "execution_count": 26,
   "metadata": {},
   "outputs": [
    {
     "name": "stdout",
     "output_type": "stream",
     "text": [
      "Keywords: pantene natural blends\n",
      "Response status code: 200\n",
      "***************Pantene Natural Blends | MercadoLibre 📦***************\n",
      "Total pages: 4\n",
      "Scraping page 1/4\n",
      "Scraping page 2/4\n",
      "Scraping page 3/4\n"
     ]
    },
    {
     "ename": "KeyboardInterrupt",
     "evalue": "",
     "output_type": "error",
     "traceback": [
      "\u001b[1;31m---------------------------------------------------------------------------\u001b[0m",
      "\u001b[1;31mKeyboardInterrupt\u001b[0m                         Traceback (most recent call last)",
      "Cell \u001b[1;32mIn[26], line 52\u001b[0m\n\u001b[0;32m     50\u001b[0m \u001b[39mwhile\u001b[39;00m soup_page\u001b[39m.\u001b[39mfind_all(\u001b[39m\"\u001b[39m\u001b[39mdiv\u001b[39m\u001b[39m\"\u001b[39m, {\u001b[39m\"\u001b[39m\u001b[39mclass\u001b[39m\u001b[39m\"\u001b[39m:\u001b[39m\"\u001b[39m\u001b[39mui-search-result__content-wrapper shops__result-content-wrapper\u001b[39m\u001b[39m\"\u001b[39m})\u001b[39m.\u001b[39m\u001b[39m__len__\u001b[39m() \u001b[39m==\u001b[39m \u001b[39m0\u001b[39m:\n\u001b[0;32m     51\u001b[0m     url_page \u001b[39m=\u001b[39m \u001b[39m'\u001b[39m\u001b[39mhttps://listado.mercadolibre.com.mx/\u001b[39m\u001b[39m{}\u001b[39;00m\u001b[39m_Desde_\u001b[39m\u001b[39m{}\u001b[39;00m\u001b[39m_NoIndex_True\u001b[39m\u001b[39m'\u001b[39m\u001b[39m.\u001b[39mformat(search\u001b[39m.\u001b[39mreplace(\u001b[39m'\u001b[39m\u001b[39m \u001b[39m\u001b[39m'\u001b[39m,\u001b[39m'\u001b[39m\u001b[39m-\u001b[39m\u001b[39m'\u001b[39m),(page\u001b[39m*\u001b[39m\u001b[39m50\u001b[39m)\u001b[39m+\u001b[39m\u001b[39m1\u001b[39m)\n\u001b[1;32m---> 52\u001b[0m     request_page \u001b[39m=\u001b[39m requests\u001b[39m.\u001b[39;49mget(url_page)\n\u001b[0;32m     53\u001b[0m     content_page \u001b[39m=\u001b[39m request_page\u001b[39m.\u001b[39mtext\n\u001b[0;32m     54\u001b[0m     soup_page \u001b[39m=\u001b[39m bs4\u001b[39m.\u001b[39mBeautifulSoup(content_page, \u001b[39m'\u001b[39m\u001b[39mhtml.parser\u001b[39m\u001b[39m'\u001b[39m)\n",
      "File \u001b[1;32mc:\\Users\\nicarang\\AppData\\Local\\Programs\\Python\\Python311\\Lib\\site-packages\\requests\\api.py:73\u001b[0m, in \u001b[0;36mget\u001b[1;34m(url, params, **kwargs)\u001b[0m\n\u001b[0;32m     62\u001b[0m \u001b[39mdef\u001b[39;00m \u001b[39mget\u001b[39m(url, params\u001b[39m=\u001b[39m\u001b[39mNone\u001b[39;00m, \u001b[39m*\u001b[39m\u001b[39m*\u001b[39mkwargs):\n\u001b[0;32m     63\u001b[0m \u001b[39m    \u001b[39m\u001b[39mr\u001b[39m\u001b[39m\"\"\"Sends a GET request.\u001b[39;00m\n\u001b[0;32m     64\u001b[0m \n\u001b[0;32m     65\u001b[0m \u001b[39m    :param url: URL for the new :class:`Request` object.\u001b[39;00m\n\u001b[1;32m   (...)\u001b[0m\n\u001b[0;32m     70\u001b[0m \u001b[39m    :rtype: requests.Response\u001b[39;00m\n\u001b[0;32m     71\u001b[0m \u001b[39m    \"\"\"\u001b[39;00m\n\u001b[1;32m---> 73\u001b[0m     \u001b[39mreturn\u001b[39;00m request(\u001b[39m\"\u001b[39;49m\u001b[39mget\u001b[39;49m\u001b[39m\"\u001b[39;49m, url, params\u001b[39m=\u001b[39;49mparams, \u001b[39m*\u001b[39;49m\u001b[39m*\u001b[39;49mkwargs)\n",
      "File \u001b[1;32mc:\\Users\\nicarang\\AppData\\Local\\Programs\\Python\\Python311\\Lib\\site-packages\\requests\\api.py:59\u001b[0m, in \u001b[0;36mrequest\u001b[1;34m(method, url, **kwargs)\u001b[0m\n\u001b[0;32m     55\u001b[0m \u001b[39m# By using the 'with' statement we are sure the session is closed, thus we\u001b[39;00m\n\u001b[0;32m     56\u001b[0m \u001b[39m# avoid leaving sockets open which can trigger a ResourceWarning in some\u001b[39;00m\n\u001b[0;32m     57\u001b[0m \u001b[39m# cases, and look like a memory leak in others.\u001b[39;00m\n\u001b[0;32m     58\u001b[0m \u001b[39mwith\u001b[39;00m sessions\u001b[39m.\u001b[39mSession() \u001b[39mas\u001b[39;00m session:\n\u001b[1;32m---> 59\u001b[0m     \u001b[39mreturn\u001b[39;00m session\u001b[39m.\u001b[39;49mrequest(method\u001b[39m=\u001b[39;49mmethod, url\u001b[39m=\u001b[39;49murl, \u001b[39m*\u001b[39;49m\u001b[39m*\u001b[39;49mkwargs)\n",
      "File \u001b[1;32mc:\\Users\\nicarang\\AppData\\Local\\Programs\\Python\\Python311\\Lib\\site-packages\\requests\\sessions.py:587\u001b[0m, in \u001b[0;36mSession.request\u001b[1;34m(self, method, url, params, data, headers, cookies, files, auth, timeout, allow_redirects, proxies, hooks, stream, verify, cert, json)\u001b[0m\n\u001b[0;32m    582\u001b[0m send_kwargs \u001b[39m=\u001b[39m {\n\u001b[0;32m    583\u001b[0m     \u001b[39m\"\u001b[39m\u001b[39mtimeout\u001b[39m\u001b[39m\"\u001b[39m: timeout,\n\u001b[0;32m    584\u001b[0m     \u001b[39m\"\u001b[39m\u001b[39mallow_redirects\u001b[39m\u001b[39m\"\u001b[39m: allow_redirects,\n\u001b[0;32m    585\u001b[0m }\n\u001b[0;32m    586\u001b[0m send_kwargs\u001b[39m.\u001b[39mupdate(settings)\n\u001b[1;32m--> 587\u001b[0m resp \u001b[39m=\u001b[39m \u001b[39mself\u001b[39;49m\u001b[39m.\u001b[39;49msend(prep, \u001b[39m*\u001b[39;49m\u001b[39m*\u001b[39;49msend_kwargs)\n\u001b[0;32m    589\u001b[0m \u001b[39mreturn\u001b[39;00m resp\n",
      "File \u001b[1;32mc:\\Users\\nicarang\\AppData\\Local\\Programs\\Python\\Python311\\Lib\\site-packages\\requests\\sessions.py:701\u001b[0m, in \u001b[0;36mSession.send\u001b[1;34m(self, request, **kwargs)\u001b[0m\n\u001b[0;32m    698\u001b[0m start \u001b[39m=\u001b[39m preferred_clock()\n\u001b[0;32m    700\u001b[0m \u001b[39m# Send the request\u001b[39;00m\n\u001b[1;32m--> 701\u001b[0m r \u001b[39m=\u001b[39m adapter\u001b[39m.\u001b[39;49msend(request, \u001b[39m*\u001b[39;49m\u001b[39m*\u001b[39;49mkwargs)\n\u001b[0;32m    703\u001b[0m \u001b[39m# Total elapsed time of the request (approximately)\u001b[39;00m\n\u001b[0;32m    704\u001b[0m elapsed \u001b[39m=\u001b[39m preferred_clock() \u001b[39m-\u001b[39m start\n",
      "File \u001b[1;32mc:\\Users\\nicarang\\AppData\\Local\\Programs\\Python\\Python311\\Lib\\site-packages\\requests\\adapters.py:489\u001b[0m, in \u001b[0;36mHTTPAdapter.send\u001b[1;34m(self, request, stream, timeout, verify, cert, proxies)\u001b[0m\n\u001b[0;32m    487\u001b[0m \u001b[39mtry\u001b[39;00m:\n\u001b[0;32m    488\u001b[0m     \u001b[39mif\u001b[39;00m \u001b[39mnot\u001b[39;00m chunked:\n\u001b[1;32m--> 489\u001b[0m         resp \u001b[39m=\u001b[39m conn\u001b[39m.\u001b[39;49murlopen(\n\u001b[0;32m    490\u001b[0m             method\u001b[39m=\u001b[39;49mrequest\u001b[39m.\u001b[39;49mmethod,\n\u001b[0;32m    491\u001b[0m             url\u001b[39m=\u001b[39;49murl,\n\u001b[0;32m    492\u001b[0m             body\u001b[39m=\u001b[39;49mrequest\u001b[39m.\u001b[39;49mbody,\n\u001b[0;32m    493\u001b[0m             headers\u001b[39m=\u001b[39;49mrequest\u001b[39m.\u001b[39;49mheaders,\n\u001b[0;32m    494\u001b[0m             redirect\u001b[39m=\u001b[39;49m\u001b[39mFalse\u001b[39;49;00m,\n\u001b[0;32m    495\u001b[0m             assert_same_host\u001b[39m=\u001b[39;49m\u001b[39mFalse\u001b[39;49;00m,\n\u001b[0;32m    496\u001b[0m             preload_content\u001b[39m=\u001b[39;49m\u001b[39mFalse\u001b[39;49;00m,\n\u001b[0;32m    497\u001b[0m             decode_content\u001b[39m=\u001b[39;49m\u001b[39mFalse\u001b[39;49;00m,\n\u001b[0;32m    498\u001b[0m             retries\u001b[39m=\u001b[39;49m\u001b[39mself\u001b[39;49m\u001b[39m.\u001b[39;49mmax_retries,\n\u001b[0;32m    499\u001b[0m             timeout\u001b[39m=\u001b[39;49mtimeout,\n\u001b[0;32m    500\u001b[0m         )\n\u001b[0;32m    502\u001b[0m     \u001b[39m# Send the request.\u001b[39;00m\n\u001b[0;32m    503\u001b[0m     \u001b[39melse\u001b[39;00m:\n\u001b[0;32m    504\u001b[0m         \u001b[39mif\u001b[39;00m \u001b[39mhasattr\u001b[39m(conn, \u001b[39m\"\u001b[39m\u001b[39mproxy_pool\u001b[39m\u001b[39m\"\u001b[39m):\n",
      "File \u001b[1;32mc:\\Users\\nicarang\\AppData\\Local\\Programs\\Python\\Python311\\Lib\\site-packages\\urllib3\\connectionpool.py:703\u001b[0m, in \u001b[0;36mHTTPConnectionPool.urlopen\u001b[1;34m(self, method, url, body, headers, retries, redirect, assert_same_host, timeout, pool_timeout, release_conn, chunked, body_pos, **response_kw)\u001b[0m\n\u001b[0;32m    700\u001b[0m     \u001b[39mself\u001b[39m\u001b[39m.\u001b[39m_prepare_proxy(conn)\n\u001b[0;32m    702\u001b[0m \u001b[39m# Make the request on the httplib connection object.\u001b[39;00m\n\u001b[1;32m--> 703\u001b[0m httplib_response \u001b[39m=\u001b[39m \u001b[39mself\u001b[39;49m\u001b[39m.\u001b[39;49m_make_request(\n\u001b[0;32m    704\u001b[0m     conn,\n\u001b[0;32m    705\u001b[0m     method,\n\u001b[0;32m    706\u001b[0m     url,\n\u001b[0;32m    707\u001b[0m     timeout\u001b[39m=\u001b[39;49mtimeout_obj,\n\u001b[0;32m    708\u001b[0m     body\u001b[39m=\u001b[39;49mbody,\n\u001b[0;32m    709\u001b[0m     headers\u001b[39m=\u001b[39;49mheaders,\n\u001b[0;32m    710\u001b[0m     chunked\u001b[39m=\u001b[39;49mchunked,\n\u001b[0;32m    711\u001b[0m )\n\u001b[0;32m    713\u001b[0m \u001b[39m# If we're going to release the connection in ``finally:``, then\u001b[39;00m\n\u001b[0;32m    714\u001b[0m \u001b[39m# the response doesn't need to know about the connection. Otherwise\u001b[39;00m\n\u001b[0;32m    715\u001b[0m \u001b[39m# it will also try to release it and we'll have a double-release\u001b[39;00m\n\u001b[0;32m    716\u001b[0m \u001b[39m# mess.\u001b[39;00m\n\u001b[0;32m    717\u001b[0m response_conn \u001b[39m=\u001b[39m conn \u001b[39mif\u001b[39;00m \u001b[39mnot\u001b[39;00m release_conn \u001b[39melse\u001b[39;00m \u001b[39mNone\u001b[39;00m\n",
      "File \u001b[1;32mc:\\Users\\nicarang\\AppData\\Local\\Programs\\Python\\Python311\\Lib\\site-packages\\urllib3\\connectionpool.py:386\u001b[0m, in \u001b[0;36mHTTPConnectionPool._make_request\u001b[1;34m(self, conn, method, url, timeout, chunked, **httplib_request_kw)\u001b[0m\n\u001b[0;32m    384\u001b[0m \u001b[39m# Trigger any extra validation we need to do.\u001b[39;00m\n\u001b[0;32m    385\u001b[0m \u001b[39mtry\u001b[39;00m:\n\u001b[1;32m--> 386\u001b[0m     \u001b[39mself\u001b[39;49m\u001b[39m.\u001b[39;49m_validate_conn(conn)\n\u001b[0;32m    387\u001b[0m \u001b[39mexcept\u001b[39;00m (SocketTimeout, BaseSSLError) \u001b[39mas\u001b[39;00m e:\n\u001b[0;32m    388\u001b[0m     \u001b[39m# Py2 raises this as a BaseSSLError, Py3 raises it as socket timeout.\u001b[39;00m\n\u001b[0;32m    389\u001b[0m     \u001b[39mself\u001b[39m\u001b[39m.\u001b[39m_raise_timeout(err\u001b[39m=\u001b[39me, url\u001b[39m=\u001b[39murl, timeout_value\u001b[39m=\u001b[39mconn\u001b[39m.\u001b[39mtimeout)\n",
      "File \u001b[1;32mc:\\Users\\nicarang\\AppData\\Local\\Programs\\Python\\Python311\\Lib\\site-packages\\urllib3\\connectionpool.py:1042\u001b[0m, in \u001b[0;36mHTTPSConnectionPool._validate_conn\u001b[1;34m(self, conn)\u001b[0m\n\u001b[0;32m   1040\u001b[0m \u001b[39m# Force connect early to allow us to validate the connection.\u001b[39;00m\n\u001b[0;32m   1041\u001b[0m \u001b[39mif\u001b[39;00m \u001b[39mnot\u001b[39;00m \u001b[39mgetattr\u001b[39m(conn, \u001b[39m\"\u001b[39m\u001b[39msock\u001b[39m\u001b[39m\"\u001b[39m, \u001b[39mNone\u001b[39;00m):  \u001b[39m# AppEngine might not have  `.sock`\u001b[39;00m\n\u001b[1;32m-> 1042\u001b[0m     conn\u001b[39m.\u001b[39;49mconnect()\n\u001b[0;32m   1044\u001b[0m \u001b[39mif\u001b[39;00m \u001b[39mnot\u001b[39;00m conn\u001b[39m.\u001b[39mis_verified:\n\u001b[0;32m   1045\u001b[0m     warnings\u001b[39m.\u001b[39mwarn(\n\u001b[0;32m   1046\u001b[0m         (\n\u001b[0;32m   1047\u001b[0m             \u001b[39m\"\u001b[39m\u001b[39mUnverified HTTPS request is being made to host \u001b[39m\u001b[39m'\u001b[39m\u001b[39m%s\u001b[39;00m\u001b[39m'\u001b[39m\u001b[39m. \u001b[39m\u001b[39m\"\u001b[39m\n\u001b[1;32m   (...)\u001b[0m\n\u001b[0;32m   1052\u001b[0m         InsecureRequestWarning,\n\u001b[0;32m   1053\u001b[0m     )\n",
      "File \u001b[1;32mc:\\Users\\nicarang\\AppData\\Local\\Programs\\Python\\Python311\\Lib\\site-packages\\urllib3\\connection.py:358\u001b[0m, in \u001b[0;36mHTTPSConnection.connect\u001b[1;34m(self)\u001b[0m\n\u001b[0;32m    356\u001b[0m \u001b[39mdef\u001b[39;00m \u001b[39mconnect\u001b[39m(\u001b[39mself\u001b[39m):\n\u001b[0;32m    357\u001b[0m     \u001b[39m# Add certificate verification\u001b[39;00m\n\u001b[1;32m--> 358\u001b[0m     \u001b[39mself\u001b[39m\u001b[39m.\u001b[39msock \u001b[39m=\u001b[39m conn \u001b[39m=\u001b[39m \u001b[39mself\u001b[39;49m\u001b[39m.\u001b[39;49m_new_conn()\n\u001b[0;32m    359\u001b[0m     hostname \u001b[39m=\u001b[39m \u001b[39mself\u001b[39m\u001b[39m.\u001b[39mhost\n\u001b[0;32m    360\u001b[0m     tls_in_tls \u001b[39m=\u001b[39m \u001b[39mFalse\u001b[39;00m\n",
      "File \u001b[1;32mc:\\Users\\nicarang\\AppData\\Local\\Programs\\Python\\Python311\\Lib\\site-packages\\urllib3\\connection.py:174\u001b[0m, in \u001b[0;36mHTTPConnection._new_conn\u001b[1;34m(self)\u001b[0m\n\u001b[0;32m    171\u001b[0m     extra_kw[\u001b[39m\"\u001b[39m\u001b[39msocket_options\u001b[39m\u001b[39m\"\u001b[39m] \u001b[39m=\u001b[39m \u001b[39mself\u001b[39m\u001b[39m.\u001b[39msocket_options\n\u001b[0;32m    173\u001b[0m \u001b[39mtry\u001b[39;00m:\n\u001b[1;32m--> 174\u001b[0m     conn \u001b[39m=\u001b[39m connection\u001b[39m.\u001b[39;49mcreate_connection(\n\u001b[0;32m    175\u001b[0m         (\u001b[39mself\u001b[39;49m\u001b[39m.\u001b[39;49m_dns_host, \u001b[39mself\u001b[39;49m\u001b[39m.\u001b[39;49mport), \u001b[39mself\u001b[39;49m\u001b[39m.\u001b[39;49mtimeout, \u001b[39m*\u001b[39;49m\u001b[39m*\u001b[39;49mextra_kw\n\u001b[0;32m    176\u001b[0m     )\n\u001b[0;32m    178\u001b[0m \u001b[39mexcept\u001b[39;00m SocketTimeout:\n\u001b[0;32m    179\u001b[0m     \u001b[39mraise\u001b[39;00m ConnectTimeoutError(\n\u001b[0;32m    180\u001b[0m         \u001b[39mself\u001b[39m,\n\u001b[0;32m    181\u001b[0m         \u001b[39m\"\u001b[39m\u001b[39mConnection to \u001b[39m\u001b[39m%s\u001b[39;00m\u001b[39m timed out. (connect timeout=\u001b[39m\u001b[39m%s\u001b[39;00m\u001b[39m)\u001b[39m\u001b[39m\"\u001b[39m\n\u001b[0;32m    182\u001b[0m         \u001b[39m%\u001b[39m (\u001b[39mself\u001b[39m\u001b[39m.\u001b[39mhost, \u001b[39mself\u001b[39m\u001b[39m.\u001b[39mtimeout),\n\u001b[0;32m    183\u001b[0m     )\n",
      "File \u001b[1;32mc:\\Users\\nicarang\\AppData\\Local\\Programs\\Python\\Python311\\Lib\\site-packages\\urllib3\\util\\connection.py:72\u001b[0m, in \u001b[0;36mcreate_connection\u001b[1;34m(address, timeout, source_address, socket_options)\u001b[0m\n\u001b[0;32m     67\u001b[0m \u001b[39mexcept\u001b[39;00m \u001b[39mUnicodeError\u001b[39;00m:\n\u001b[0;32m     68\u001b[0m     \u001b[39mreturn\u001b[39;00m six\u001b[39m.\u001b[39mraise_from(\n\u001b[0;32m     69\u001b[0m         LocationParseError(\u001b[39mu\u001b[39m\u001b[39m\"\u001b[39m\u001b[39m'\u001b[39m\u001b[39m%s\u001b[39;00m\u001b[39m'\u001b[39m\u001b[39m, label empty or too long\u001b[39m\u001b[39m\"\u001b[39m \u001b[39m%\u001b[39m host), \u001b[39mNone\u001b[39;00m\n\u001b[0;32m     70\u001b[0m     )\n\u001b[1;32m---> 72\u001b[0m \u001b[39mfor\u001b[39;00m res \u001b[39min\u001b[39;00m socket\u001b[39m.\u001b[39;49mgetaddrinfo(host, port, family, socket\u001b[39m.\u001b[39;49mSOCK_STREAM):\n\u001b[0;32m     73\u001b[0m     af, socktype, proto, canonname, sa \u001b[39m=\u001b[39m res\n\u001b[0;32m     74\u001b[0m     sock \u001b[39m=\u001b[39m \u001b[39mNone\u001b[39;00m\n",
      "File \u001b[1;32mc:\\Users\\nicarang\\AppData\\Local\\Programs\\Python\\Python311\\Lib\\socket.py:962\u001b[0m, in \u001b[0;36mgetaddrinfo\u001b[1;34m(host, port, family, type, proto, flags)\u001b[0m\n\u001b[0;32m    959\u001b[0m \u001b[39m# We override this function since we want to translate the numeric family\u001b[39;00m\n\u001b[0;32m    960\u001b[0m \u001b[39m# and socket type values to enum constants.\u001b[39;00m\n\u001b[0;32m    961\u001b[0m addrlist \u001b[39m=\u001b[39m []\n\u001b[1;32m--> 962\u001b[0m \u001b[39mfor\u001b[39;00m res \u001b[39min\u001b[39;00m _socket\u001b[39m.\u001b[39;49mgetaddrinfo(host, port, family, \u001b[39mtype\u001b[39;49m, proto, flags):\n\u001b[0;32m    963\u001b[0m     af, socktype, proto, canonname, sa \u001b[39m=\u001b[39m res\n\u001b[0;32m    964\u001b[0m     addrlist\u001b[39m.\u001b[39mappend((_intenum_converter(af, AddressFamily),\n\u001b[0;32m    965\u001b[0m                      _intenum_converter(socktype, SocketKind),\n\u001b[0;32m    966\u001b[0m                      proto, canonname, sa))\n",
      "\u001b[1;31mKeyboardInterrupt\u001b[0m: "
     ]
    }
   ],
   "source": [
    "search = input('Insert your search:')\n",
    "print(f'Keywords: {search.replace(\"-\",\" \")}')\n",
    "url = 'https://listado.mercadolibre.com.mx/{}#D[A:{}]'.format(search.replace(' ','-'), search)\n",
    "request = requests.get(url)\n",
    "content = request.text\n",
    "soup = bs4.BeautifulSoup(content, 'html.parser') # HTML document\n",
    "\n",
    "brands = []\n",
    "products = []\n",
    "prices = []\n",
    "links = []\n",
    "\n",
    "pages_flag = soup.find_all(\"div\", {\"class\":\"ui-search-pagination shops__pagination-content\"})\n",
    "\n",
    "\n",
    "if pages_flag.__len__() != 0:\n",
    "    print(f'Response status code: {request.status_code}')\n",
    "    total_pages = int(soup.find(\"div\", class_=\"ui-search-pagination shops__pagination-content\").find(\"li\",class_=\"andes-pagination__page-count\").text.replace(\"de \",\"\"))\n",
    "    print(f'***************{soup.title.text}***************')\n",
    "    print('Total pages: {}'.format(total_pages))\n",
    "\n",
    "    for page in range(1,total_pages+1):\n",
    "        if page == 1:\n",
    "            url_page = 'https://listado.mercadolibre.com.mx/{}_NoIndex_True'.format(search.replace(' ','-'))\n",
    "            request_page = requests.get(url_page)\n",
    "            content_page = request_page.text\n",
    "            soup_page = bs4.BeautifulSoup(content_page, 'html.parser')\n",
    "            tag_filter_page = soup_page.find_all(\"div\", {\"class\":\"ui-search-result__content-wrapper shops__result-content-wrapper\"})\n",
    "\n",
    "            while soup_page.find_all(\"div\", {\"class\":\"ui-search-result__content-wrapper shops__result-content-wrapper\"}).__len__() == 0:\n",
    "                url_page = 'https://listado.mercadolibre.com.mx/{}_NoIndex_True'.format(search.replace(' ','-'))\n",
    "                request_page = requests.get(url_page)\n",
    "                content_page = request_page.text\n",
    "                soup_page = bs4.BeautifulSoup(content_page, 'html.parser')\n",
    "                tag_filter_page = soup_page.find_all(\"div\", {\"class\":\"ui-search-result__content-wrapper shops__result-content-wrapper\"})\n",
    "\n",
    "            # for tag in tag_filter_page:\n",
    "            #     brands.append(tag.find(class_=\"ui-search-item__brand-discoverability ui-search-item__group__element shops__items-group-details\").text)\n",
    "            #     products.append(tag.find(\"h2\").text)\n",
    "            #     prices.append(tag.find(class_=\"price-tag-fraction\").text)\n",
    "            #     links.append(tag.find(\"a\")[\"href\"])\n",
    "\n",
    "        else:\n",
    "            url_page = 'https://listado.mercadolibre.com.mx/{}_Desde_{}_NoIndex_True'.format(search.replace(' ','-'),(page*50)+1)\n",
    "            request_page = requests.get(url_page)\n",
    "            content_page = request_page.text\n",
    "            soup_page = bs4.BeautifulSoup(content_page, 'html.parser')\n",
    "            tag_filter_page = soup_page.find_all(\"div\", {\"class\":\"ui-search-result__content-wrapper shops__result-content-wrapper\"})\n",
    "\n",
    "            while soup_page.find_all(\"div\", {\"class\":\"ui-search-result__content-wrapper shops__result-content-wrapper\"}).__len__() == 0:\n",
    "                url_page = 'https://listado.mercadolibre.com.mx/{}_Desde_{}_NoIndex_True'.format(search.replace(' ','-'),(page*50)+1)\n",
    "                request_page = requests.get(url_page)\n",
    "                content_page = request_page.text\n",
    "                soup_page = bs4.BeautifulSoup(content_page, 'html.parser')\n",
    "                tag_filter_page = soup_page.find_all(\"div\", {\"class\":\"ui-search-result__content-wrapper shops__result-content-wrapper\"}) \n",
    "\n",
    "            # for tag in tag_filter_page:\n",
    "            #     products.append(tag.find(\"h2\").text)\n",
    "            #     prices.append(tag.find(class_=\"price-tag-fraction\").text)\n",
    "            #     links.append(tag.find(\"a\")[\"href\"])\n",
    "            #     brands.append(tag.find(class_=\"ui-search-item__brand-discoverability ui-search-item__group__element shops__items-group-details\").text)\n",
    "    \n",
    "        # current_page = soup.find_all(\"div\", {\"class\":\"ui-search-pagination shops__pagination-content\"})[0].find(\"li\").text # See actual page\n",
    "        print('Scraping page {}/{}'.format(page,total_pages))\n",
    "\n",
    "        for tag in tag_filter_page:\n",
    "            brands.append(tag.find(class_=\"ui-search-item__brand-discoverability ui-search-item__group__element shops__items-group-details\").text)\n",
    "            products.append(tag.find(\"h2\").text)\n",
    "            prices.append(tag.find(\"span\",class_=\"andes-money-amount__fraction\").text)\n",
    "            # prices.append(tag.find(class_=\"price-tag-fraction\").text)\n",
    "            links.append(tag.find(\"a\")[\"href\"])\n",
    "\n",
    "    data = {}\n",
    "    data[\"Brand\"] = brands\n",
    "    data['Product'] = products\n",
    "    data['Price'] = prices\n",
    "    data[\"Link\"] = links\n",
    "\n",
    "    df = pd.DataFrame(data = data)\n",
    "    df = df.drop_duplicates(ignore_index=True)\n",
    "    df['Brand'] = df['Brand'].apply(lambda x: \"-\" if x == '' else x)\n",
    "    df['Price'] = df['Price'].apply(lambda x: x.replace(\",\",\"\"))\n",
    "    df['Price'] = df['Price'].astype(int)\n",
    "\n",
    "    display(df.head(3))"
   ]
  }
 ],
 "metadata": {
  "kernelspec": {
   "display_name": "Python 3",
   "language": "python",
   "name": "python3"
  },
  "language_info": {
   "codemirror_mode": {
    "name": "ipython",
    "version": 3
   },
   "file_extension": ".py",
   "mimetype": "text/x-python",
   "name": "python",
   "nbconvert_exporter": "python",
   "pygments_lexer": "ipython3",
   "version": "3.11.1"
  },
  "orig_nbformat": 4,
  "vscode": {
   "interpreter": {
    "hash": "af37c3268cca26f2bfaf01d13423ff37a9d7634ed8fa0992ffd17d42608d9c97"
   }
  }
 },
 "nbformat": 4,
 "nbformat_minor": 2
}
